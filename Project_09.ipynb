{
 "cells": [
  {
   "cell_type": "markdown",
   "metadata": {
    "toc": true
   },
   "source": [
    "<h1>Содержание<span class=\"tocSkip\"></span></h1>\n",
    "<div class=\"toc\"><ul class=\"toc-item\"><li><span><a href=\"#Загрузка-данных\" data-toc-modified-id=\"Загрузка-данных-1\"><span class=\"toc-item-num\">1&nbsp;&nbsp;</span>Загрузка данных</a></span><ul class=\"toc-item\"><li><span><a href=\"#Вывод-по-шагу-1\" data-toc-modified-id=\"Вывод-по-шагу-1-1.1\"><span class=\"toc-item-num\">1.1&nbsp;&nbsp;</span>Вывод по шагу 1</a></span></li></ul></li><li><span><a href=\"#Умножение-матриц\" data-toc-modified-id=\"Умножение-матриц-2\"><span class=\"toc-item-num\">2&nbsp;&nbsp;</span>Умножение матриц</a></span></li><li><span><a href=\"#Алгоритм-преобразования\" data-toc-modified-id=\"Алгоритм-преобразования-3\"><span class=\"toc-item-num\">3&nbsp;&nbsp;</span>Алгоритм преобразования</a></span></li><li><span><a href=\"#Проверка-алгоритма\" data-toc-modified-id=\"Проверка-алгоритма-4\"><span class=\"toc-item-num\">4&nbsp;&nbsp;</span>Проверка алгоритма</a></span></li><li><span><a href=\"#Итоговый-вывод\" data-toc-modified-id=\"Итоговый-вывод-5\"><span class=\"toc-item-num\">5&nbsp;&nbsp;</span>Итоговый вывод</a></span></li><li><span><a href=\"#Чек-лист-проверки\" data-toc-modified-id=\"Чек-лист-проверки-6\"><span class=\"toc-item-num\">6&nbsp;&nbsp;</span>Чек-лист проверки</a></span></li></ul></div>"
   ]
  },
  {
   "cell_type": "markdown",
   "metadata": {},
   "source": [
    "# Защита персональных данных клиентов"
   ]
  },
  {
   "cell_type": "markdown",
   "metadata": {},
   "source": [
    "Вам нужно защитить данные клиентов страховой компании «Хоть потоп». Разработайте такой метод преобразования данных, чтобы по ним было сложно восстановить персональную информацию. Обоснуйте корректность его работы.\n",
    "\n",
    "Нужно защитить данные, чтобы при преобразовании качество моделей машинного обучения не ухудшилось. Подбирать наилучшую модель не требуется."
   ]
  },
  {
   "cell_type": "markdown",
   "metadata": {},
   "source": [
    "## Загрузка данных"
   ]
  },
  {
   "cell_type": "code",
   "execution_count": 1,
   "metadata": {},
   "outputs": [],
   "source": [
    "import pandas as pd\n",
    "import numpy as np\n",
    "import matplotlib.pyplot as plt\n",
    "import seaborn as sns\n",
    "from sklearn.model_selection import train_test_split\n",
    "from sklearn.preprocessing import StandardScaler\n",
    "from sklearn.pipeline import Pipeline\n",
    "from sklearn.linear_model import LinearRegression\n",
    "from sklearn.metrics import r2_score"
   ]
  },
  {
   "cell_type": "code",
   "execution_count": 2,
   "metadata": {
    "scrolled": true
   },
   "outputs": [
    {
     "name": "stdout",
     "output_type": "stream",
     "text": [
      "<class 'pandas.core.frame.DataFrame'>\n",
      "RangeIndex: 5000 entries, 0 to 4999\n",
      "Data columns (total 5 columns):\n",
      " #   Column             Non-Null Count  Dtype  \n",
      "---  ------             --------------  -----  \n",
      " 0   Пол                5000 non-null   int64  \n",
      " 1   Возраст            5000 non-null   float64\n",
      " 2   Зарплата           5000 non-null   float64\n",
      " 3   Члены семьи        5000 non-null   int64  \n",
      " 4   Страховые выплаты  5000 non-null   int64  \n",
      "dtypes: float64(2), int64(3)\n",
      "memory usage: 195.4 KB\n"
     ]
    }
   ],
   "source": [
    "insurance_data = pd.read_csv('/datasets/insurance.csv')\n",
    "insurance_data.info()"
   ]
  },
  {
   "cell_type": "code",
   "execution_count": 3,
   "metadata": {},
   "outputs": [
    {
     "data": {
      "text/html": [
       "<div>\n",
       "<style scoped>\n",
       "    .dataframe tbody tr th:only-of-type {\n",
       "        vertical-align: middle;\n",
       "    }\n",
       "\n",
       "    .dataframe tbody tr th {\n",
       "        vertical-align: top;\n",
       "    }\n",
       "\n",
       "    .dataframe thead th {\n",
       "        text-align: right;\n",
       "    }\n",
       "</style>\n",
       "<table border=\"1\" class=\"dataframe\">\n",
       "  <thead>\n",
       "    <tr style=\"text-align: right;\">\n",
       "      <th></th>\n",
       "      <th>Пол</th>\n",
       "      <th>Возраст</th>\n",
       "      <th>Зарплата</th>\n",
       "      <th>Члены семьи</th>\n",
       "      <th>Страховые выплаты</th>\n",
       "    </tr>\n",
       "  </thead>\n",
       "  <tbody>\n",
       "    <tr>\n",
       "      <th>0</th>\n",
       "      <td>1</td>\n",
       "      <td>41.0</td>\n",
       "      <td>49600.0</td>\n",
       "      <td>1</td>\n",
       "      <td>0</td>\n",
       "    </tr>\n",
       "    <tr>\n",
       "      <th>1</th>\n",
       "      <td>0</td>\n",
       "      <td>46.0</td>\n",
       "      <td>38000.0</td>\n",
       "      <td>1</td>\n",
       "      <td>1</td>\n",
       "    </tr>\n",
       "    <tr>\n",
       "      <th>2</th>\n",
       "      <td>0</td>\n",
       "      <td>29.0</td>\n",
       "      <td>21000.0</td>\n",
       "      <td>0</td>\n",
       "      <td>0</td>\n",
       "    </tr>\n",
       "    <tr>\n",
       "      <th>3</th>\n",
       "      <td>0</td>\n",
       "      <td>21.0</td>\n",
       "      <td>41700.0</td>\n",
       "      <td>2</td>\n",
       "      <td>0</td>\n",
       "    </tr>\n",
       "    <tr>\n",
       "      <th>4</th>\n",
       "      <td>1</td>\n",
       "      <td>28.0</td>\n",
       "      <td>26100.0</td>\n",
       "      <td>0</td>\n",
       "      <td>0</td>\n",
       "    </tr>\n",
       "  </tbody>\n",
       "</table>\n",
       "</div>"
      ],
      "text/plain": [
       "   Пол  Возраст  Зарплата  Члены семьи  Страховые выплаты\n",
       "0    1     41.0   49600.0            1                  0\n",
       "1    0     46.0   38000.0            1                  1\n",
       "2    0     29.0   21000.0            0                  0\n",
       "3    0     21.0   41700.0            2                  0\n",
       "4    1     28.0   26100.0            0                  0"
      ]
     },
     "execution_count": 3,
     "metadata": {},
     "output_type": "execute_result"
    }
   ],
   "source": [
    "insurance_data.head()"
   ]
  },
  {
   "cell_type": "code",
   "execution_count": 4,
   "metadata": {},
   "outputs": [],
   "source": [
    "def show_rows(data_frame):\n",
    "    for column in data_frame.columns:\n",
    "        print('Уникальные значения столбца', column)\n",
    "        print(data_frame[column].unique())\n",
    "    print('Количество пропусков в каждом столбце')    \n",
    "    print(data_frame.isna().mean())"
   ]
  },
  {
   "cell_type": "code",
   "execution_count": 5,
   "metadata": {
    "scrolled": true
   },
   "outputs": [
    {
     "name": "stdout",
     "output_type": "stream",
     "text": [
      "Уникальные значения столбца Пол\n",
      "[1 0]\n",
      "Уникальные значения столбца Возраст\n",
      "[41. 46. 29. 21. 28. 43. 39. 25. 36. 32. 38. 23. 40. 34. 26. 42. 27. 33.\n",
      " 47. 30. 19. 31. 22. 20. 24. 18. 37. 48. 45. 44. 52. 49. 35. 56. 65. 55.\n",
      " 57. 54. 50. 53. 51. 58. 59. 60. 61. 62.]\n",
      "Уникальные значения столбца Зарплата\n",
      "[49600. 38000. 21000. 41700. 26100. 41000. 39700. 38600. 49700. 51700.\n",
      " 36600. 29300. 39500. 55000. 43700. 23300. 48900. 33200. 36900. 43500.\n",
      " 36100. 26600. 48700. 40400. 38400. 34600. 34800. 36800. 42200. 46300.\n",
      " 30300. 51000. 28100. 64800. 30400. 45300. 38300. 49500. 19400. 40200.\n",
      " 31700. 69200. 33100. 31600. 34500. 38700. 39600. 42400. 34900. 30500.\n",
      " 24200. 49900. 14300. 47000. 44800. 43800. 42700. 35400. 57200. 29600.\n",
      " 37400. 48100. 33700. 61800. 39400. 15600. 52600. 37600. 52500. 32700.\n",
      " 51600. 60900. 41800. 47400. 26500. 45900. 35700. 34300. 26700. 25700.\n",
      " 33300. 31100. 31500. 42100. 37300. 42500. 27300. 46800. 33500. 44300.\n",
      " 41600. 53900. 40100. 44600. 45000. 32000. 38200. 33000. 38500. 51800.\n",
      " 33800. 46400. 43200. 31800. 50200. 35100. 30700. 45800. 49300. 42800.\n",
      " 33600. 50300. 34000. 36400. 44900. 43600. 54600. 52800. 29700. 39000.\n",
      " 44100. 31900. 37700. 35200. 43100. 51300. 47500. 40800. 26800. 64900.\n",
      " 35900. 31200. 39900. 43300. 33900. 40700. 44700. 53400. 30600. 56000.\n",
      " 35600. 55200. 40600. 48300. 50800. 41200. 44200. 44400. 40500. 39800.\n",
      " 16600. 48400. 25100. 23100. 32100. 31000. 42900. 46700. 26000. 55900.\n",
      " 52000. 41500. 49400. 60300. 45600. 49000. 37500. 21900. 45100. 47900.\n",
      " 54300. 32400. 41300. 44500. 23200. 37900. 48000. 52100. 45700. 29900.\n",
      " 42600. 45200. 36000. 46500. 23800. 30200. 24400. 32800. 29000. 43400.\n",
      " 51500. 61700. 45400. 50700. 36200. 41900. 27900. 47200. 48800. 55100.\n",
      " 48200. 35500. 35000. 43900. 40000. 22000. 40300. 36300. 49800. 25600.\n",
      " 42300. 54900. 25500. 32900. 36700. 38900. 24700. 28800. 22900. 47300.\n",
      " 14500. 28700. 44000. 34100. 53000. 59300. 28500. 47100. 41400. 58900.\n",
      " 17500. 54200. 43000. 29800. 20000. 13800. 27500. 67700. 28000. 37100.\n",
      "  8900. 14600. 56200. 38800. 27700. 50500. 58400. 34700. 34400. 49100.\n",
      " 50900. 28200. 61500. 32500. 25900.  9800. 28300. 41100. 62000. 32600.\n",
      " 37200. 53800. 24000. 53600. 54800. 59600. 20200. 21700. 29200. 38100.\n",
      " 20700. 32300. 21200. 62100. 54000. 24500. 51900. 47800. 56100. 55300.\n",
      " 58100. 28900. 39100. 58000. 27200. 24600. 30100. 57100. 60100. 22200.\n",
      " 47700. 24900. 37800. 52700. 34200. 18700. 42000. 26300. 22600. 30900.\n",
      " 35800. 30800. 51100. 53300. 46200. 24100. 54700. 51200. 62300. 51400.\n",
      " 40900. 23400. 35300. 55800. 33400. 21300. 30000. 56700. 46900.  5300.\n",
      " 39200. 57500. 31300. 53700. 21600. 50000. 36500. 16400. 15900. 65100.\n",
      " 59900. 63200. 26200. 61200. 48500. 32200. 29100. 50100. 22700. 28600.\n",
      " 23500. 23700. 19600. 17800. 50600. 57900. 22500. 22100. 58300. 64100.\n",
      " 25000. 60400. 59100. 37000. 62400. 29500. 25800. 25400. 26900. 21500.\n",
      " 52200. 46600. 57300. 46100. 19300. 18900. 31400. 28400. 29400. 17600.\n",
      " 13900. 52400. 11300. 46000. 60500. 58700. 58200. 24800. 63700. 60600.\n",
      " 20400. 26400. 55600. 57000. 45500. 48600. 57600. 52900. 62800. 17000.\n",
      " 56500. 52300. 18400. 63300. 12900. 27000. 55700. 39300. 27800. 18300.\n",
      " 56300. 59800. 24300. 14400. 13400. 17900. 47600. 54500. 54400. 23900.\n",
      " 13000. 19900. 55400. 22800. 61000. 57400. 23000. 20500. 53200. 18100.\n",
      " 25300. 59500. 18200. 50400. 21100. 20900. 27400. 17300. 60700. 70600.\n",
      " 17700. 19700. 49200. 63100. 59200. 14700. 53100. 21800. 68000. 16500.\n",
      " 71400. 10000. 55500. 54100. 56400. 20600. 66300. 18800. 11000. 66100.\n",
      " 27100. 57800. 53500. 19200. 58500. 64000. 63600. 23600. 25200. 19100.\n",
      " 18600. 57700. 62700. 56600. 21400. 58800. 68400. 17100. 13300. 68500.\n",
      " 56900. 64400. 27600. 67200. 16200. 58600. 62200. 16000. 79000. 22300.\n",
      " 11200. 71600. 61300. 70500. 67100. 59000. 13500. 16700. 15700. 60000.\n",
      " 17400. 63400. 61900. 65200. 62600. 14100. 20100. 63800. 15100. 70000.\n",
      " 60200. 20300. 65900. 15200. 63500. 13200. 68900. 12200.  6000. 74800.\n",
      " 59700. 10800. 19000. 10600. 69400. 15000. 75200. 62500. 16300. 20800.\n",
      "  7400. 65300. 61400. 56800.]\n",
      "Уникальные значения столбца Члены семьи\n",
      "[1 0 2 4 3 5 6]\n",
      "Уникальные значения столбца Страховые выплаты\n",
      "[0 1 2 3 5 4]\n",
      "Количество пропусков в каждом столбце\n",
      "Пол                  0.0\n",
      "Возраст              0.0\n",
      "Зарплата             0.0\n",
      "Члены семьи          0.0\n",
      "Страховые выплаты    0.0\n",
      "dtype: float64\n"
     ]
    }
   ],
   "source": [
    "show_rows(insurance_data)"
   ]
  },
  {
   "cell_type": "markdown",
   "metadata": {},
   "source": [
    "Изменим тип данных в столбцах Возраст и Зарплата на целочисленный ввиду отсуствия дробных частей. Так же уменьшим обращение к памяти для остальных столбцов."
   ]
  },
  {
   "cell_type": "code",
   "execution_count": 6,
   "metadata": {},
   "outputs": [
    {
     "name": "stdout",
     "output_type": "stream",
     "text": [
      "<class 'pandas.core.frame.DataFrame'>\n",
      "RangeIndex: 5000 entries, 0 to 4999\n",
      "Data columns (total 5 columns):\n",
      " #   Column             Non-Null Count  Dtype  \n",
      "---  ------             --------------  -----  \n",
      " 0   Пол                5000 non-null   int8   \n",
      " 1   Возраст            5000 non-null   int8   \n",
      " 2   Зарплата           5000 non-null   float64\n",
      " 3   Члены семьи        5000 non-null   int8   \n",
      " 4   Страховые выплаты  5000 non-null   int8   \n",
      "dtypes: float64(1), int8(4)\n",
      "memory usage: 58.7 KB\n"
     ]
    }
   ],
   "source": [
    "insurance_data['Пол'] = pd.to_numeric(insurance_data['Пол'], downcast='integer')\n",
    "insurance_data['Возраст'] = pd.to_numeric(insurance_data['Возраст'], downcast='integer')\n",
    "insurance_data['Зарплата'] = pd.to_numeric(insurance_data['Зарплата'], downcast='integer')\n",
    "insurance_data['Члены семьи'] = pd.to_numeric(insurance_data['Члены семьи'], downcast='integer')\n",
    "insurance_data['Страховые выплаты'] = pd.to_numeric(insurance_data['Страховые выплаты'], downcast='integer')\n",
    "insurance_data.info()"
   ]
  },
  {
   "cell_type": "markdown",
   "metadata": {},
   "source": [
    "Выигрыш в размере дата сета: 195.4 KB - 58.7 KB = 136.7 KB "
   ]
  },
  {
   "cell_type": "markdown",
   "metadata": {},
   "source": [
    "### Вывод по шагу 1\n",
    "\n",
    "Данные загружены и не имеют аномалий. Приведение типов позволит более быстро обращаться к данным."
   ]
  },
  {
   "cell_type": "code",
   "execution_count": 7,
   "metadata": {},
   "outputs": [
    {
     "data": {
      "text/html": [
       "<div>\n",
       "<style scoped>\n",
       "    .dataframe tbody tr th:only-of-type {\n",
       "        vertical-align: middle;\n",
       "    }\n",
       "\n",
       "    .dataframe tbody tr th {\n",
       "        vertical-align: top;\n",
       "    }\n",
       "\n",
       "    .dataframe thead th {\n",
       "        text-align: right;\n",
       "    }\n",
       "</style>\n",
       "<table border=\"1\" class=\"dataframe\">\n",
       "  <thead>\n",
       "    <tr style=\"text-align: right;\">\n",
       "      <th></th>\n",
       "      <th>Пол</th>\n",
       "      <th>Возраст</th>\n",
       "      <th>Зарплата</th>\n",
       "      <th>Члены семьи</th>\n",
       "      <th>Страховые выплаты</th>\n",
       "    </tr>\n",
       "  </thead>\n",
       "  <tbody>\n",
       "    <tr>\n",
       "      <th>count</th>\n",
       "      <td>5000.000000</td>\n",
       "      <td>5000.000000</td>\n",
       "      <td>5000.000000</td>\n",
       "      <td>5000.000000</td>\n",
       "      <td>5000.000000</td>\n",
       "    </tr>\n",
       "    <tr>\n",
       "      <th>mean</th>\n",
       "      <td>0.499000</td>\n",
       "      <td>30.952800</td>\n",
       "      <td>39916.360000</td>\n",
       "      <td>1.194200</td>\n",
       "      <td>0.148000</td>\n",
       "    </tr>\n",
       "    <tr>\n",
       "      <th>std</th>\n",
       "      <td>0.500049</td>\n",
       "      <td>8.440807</td>\n",
       "      <td>9900.083569</td>\n",
       "      <td>1.091387</td>\n",
       "      <td>0.463183</td>\n",
       "    </tr>\n",
       "    <tr>\n",
       "      <th>min</th>\n",
       "      <td>0.000000</td>\n",
       "      <td>18.000000</td>\n",
       "      <td>5300.000000</td>\n",
       "      <td>0.000000</td>\n",
       "      <td>0.000000</td>\n",
       "    </tr>\n",
       "    <tr>\n",
       "      <th>25%</th>\n",
       "      <td>0.000000</td>\n",
       "      <td>24.000000</td>\n",
       "      <td>33300.000000</td>\n",
       "      <td>0.000000</td>\n",
       "      <td>0.000000</td>\n",
       "    </tr>\n",
       "    <tr>\n",
       "      <th>50%</th>\n",
       "      <td>0.000000</td>\n",
       "      <td>30.000000</td>\n",
       "      <td>40200.000000</td>\n",
       "      <td>1.000000</td>\n",
       "      <td>0.000000</td>\n",
       "    </tr>\n",
       "    <tr>\n",
       "      <th>75%</th>\n",
       "      <td>1.000000</td>\n",
       "      <td>37.000000</td>\n",
       "      <td>46600.000000</td>\n",
       "      <td>2.000000</td>\n",
       "      <td>0.000000</td>\n",
       "    </tr>\n",
       "    <tr>\n",
       "      <th>max</th>\n",
       "      <td>1.000000</td>\n",
       "      <td>65.000000</td>\n",
       "      <td>79000.000000</td>\n",
       "      <td>6.000000</td>\n",
       "      <td>5.000000</td>\n",
       "    </tr>\n",
       "  </tbody>\n",
       "</table>\n",
       "</div>"
      ],
      "text/plain": [
       "               Пол      Возраст      Зарплата  Члены семьи  Страховые выплаты\n",
       "count  5000.000000  5000.000000   5000.000000  5000.000000        5000.000000\n",
       "mean      0.499000    30.952800  39916.360000     1.194200           0.148000\n",
       "std       0.500049     8.440807   9900.083569     1.091387           0.463183\n",
       "min       0.000000    18.000000   5300.000000     0.000000           0.000000\n",
       "25%       0.000000    24.000000  33300.000000     0.000000           0.000000\n",
       "50%       0.000000    30.000000  40200.000000     1.000000           0.000000\n",
       "75%       1.000000    37.000000  46600.000000     2.000000           0.000000\n",
       "max       1.000000    65.000000  79000.000000     6.000000           5.000000"
      ]
     },
     "execution_count": 7,
     "metadata": {},
     "output_type": "execute_result"
    }
   ],
   "source": [
    "insurance_data.describe()"
   ]
  },
  {
   "cell_type": "code",
   "execution_count": 79,
   "metadata": {},
   "outputs": [
    {
     "data": {
      "text/plain": [
       "Text(0, 0.5, 'Количество человек')"
      ]
     },
     "execution_count": 79,
     "metadata": {},
     "output_type": "execute_result"
    },
    {
     "data": {
      "image/png": "[encoded data removed]",
      "text/plain": [
       "<Figure size 432x288 with 1 Axes>"
      ]
     },
     "metadata": {
      "needs_background": "light"
     },
     "output_type": "display_data"
    }
   ],
   "source": [
    "sns.countplot(x='Пол', data=insurance_data, palette='coolwarm');\n",
    "plt.title('Диаграмма распределения полов')\n",
    "plt.ylabel('Количество человек')"
   ]
  },
  {
   "cell_type": "code",
   "execution_count": 80,
   "metadata": {},
   "outputs": [
    {
     "data": {
      "text/plain": [
       "Text(0.5, 1.0, 'Распределение возрастов')"
      ]
     },
     "execution_count": 80,
     "metadata": {},
     "output_type": "execute_result"
    },
    {
     "data": {
      "image/png": "[encoded data removed]",
      "text/plain": [
       "<Figure size 432x288 with 1 Axes>"
      ]
     },
     "metadata": {
      "needs_background": "light"
     },
     "output_type": "display_data"
    }
   ],
   "source": [
    "sns.histplot(insurance_data['Возраст'])\n",
    "plt.ylabel('Количество человек')\n",
    "plt.title('Распределение возрастов')"
   ]
  },
  {
   "cell_type": "code",
   "execution_count": 26,
   "metadata": {},
   "outputs": [
    {
     "name": "stderr",
     "output_type": "stream",
     "text": [
      "/opt/conda/lib/python3.9/site-packages/seaborn/_decorators.py:36: FutureWarning: Pass the following variable as a keyword arg: x. From version 0.12, the only valid positional argument will be `data`, and passing other arguments without an explicit keyword will result in an error or misinterpretation.\n",
      "  warnings.warn(\n"
     ]
    },
    {
     "data": {
      "text/plain": [
       "<AxesSubplot:xlabel='Возраст'>"
      ]
     },
     "execution_count": 26,
     "metadata": {},
     "output_type": "execute_result"
    },
    {
     "data": {
      "image/png": "[encoded data removed]",
      "text/plain": [
       "<Figure size 432x288 with 1 Axes>"
      ]
     },
     "metadata": {
      "needs_background": "light"
     },
     "output_type": "display_data"
    }
   ],
   "source": [
    "sns.boxplot(insurance_data['Возраст'])"
   ]
  },
  {
   "cell_type": "code",
   "execution_count": 81,
   "metadata": {},
   "outputs": [
    {
     "data": {
      "text/plain": [
       "Text(0.5, 1.0, 'Гистограмма зарплат')"
      ]
     },
     "execution_count": 81,
     "metadata": {},
     "output_type": "execute_result"
    },
    {
     "data": {
      "image/png": "[encoded data removed]",
      "text/plain": [
       "<Figure size 432x288 with 1 Axes>"
      ]
     },
     "metadata": {
      "needs_background": "light"
     },
     "output_type": "display_data"
    }
   ],
   "source": [
    "sns.histplot(insurance_data['Зарплата'])\n",
    "plt.ylabel('Количество человек')\n",
    "plt.title('Гистограмма зарплат')"
   ]
  },
  {
   "cell_type": "code",
   "execution_count": 31,
   "metadata": {},
   "outputs": [
    {
     "name": "stderr",
     "output_type": "stream",
     "text": [
      "/opt/conda/lib/python3.9/site-packages/seaborn/_decorators.py:36: FutureWarning: Pass the following variable as a keyword arg: x. From version 0.12, the only valid positional argument will be `data`, and passing other arguments without an explicit keyword will result in an error or misinterpretation.\n",
      "  warnings.warn(\n"
     ]
    },
    {
     "data": {
      "text/plain": [
       "<AxesSubplot:xlabel='Зарплата'>"
      ]
     },
     "execution_count": 31,
     "metadata": {},
     "output_type": "execute_result"
    },
    {
     "data": {
      "image/png": "[encoded data removed]",
      "text/plain": [
       "<Figure size 432x288 with 1 Axes>"
      ]
     },
     "metadata": {
      "needs_background": "light"
     },
     "output_type": "display_data"
    }
   ],
   "source": [
    "sns.boxplot(insurance_data['Зарплата'])"
   ]
  },
  {
   "cell_type": "code",
   "execution_count": 93,
   "metadata": {},
   "outputs": [
    {
     "data": {
      "text/plain": [
       "Text(0.5, 1.0, 'Распределение по количеству членов семьи')"
      ]
     },
     "execution_count": 93,
     "metadata": {},
     "output_type": "execute_result"
    },
    {
     "data": {
      "image/png": "[encoded data removed]",
      "text/plain": [
       "<Figure size 432x288 with 1 Axes>"
      ]
     },
     "metadata": {
      "needs_background": "light"
     },
     "output_type": "display_data"
    }
   ],
   "source": [
    "sns.histplot(insurance_data['Члены семьи'])\n",
    "plt.ylabel('Количество человек')\n",
    "plt.title('Распределение по количеству членов семьи')"
   ]
  },
  {
   "cell_type": "code",
   "execution_count": 95,
   "metadata": {},
   "outputs": [
    {
     "data": {
      "text/plain": [
       "Text(0.5, 1.0, 'Распределение по страховым выплатам')"
      ]
     },
     "execution_count": 95,
     "metadata": {},
     "output_type": "execute_result"
    },
    {
     "data": {
      "image/png": "[encoded data removed]",
      "text/plain": [
       "<Figure size 432x288 with 1 Axes>"
      ]
     },
     "metadata": {
      "needs_background": "light"
     },
     "output_type": "display_data"
    }
   ],
   "source": [
    "sns.histplot(insurance_data['Страховые выплаты'])\n",
    "plt.ylabel('Количество человек')\n",
    "plt.title('Распределение по страховым выплатам')"
   ]
  },
  {
   "cell_type": "markdown",
   "metadata": {},
   "source": [
    "## Умножение матриц"
   ]
  },
  {
   "cell_type": "markdown",
   "metadata": {},
   "source": [
    "Убедимся в том, что линейня регрессия из scikit-learn вычисляет значения по формуле."
   ]
  },
  {
   "cell_type": "code",
   "execution_count": 10,
   "metadata": {},
   "outputs": [],
   "source": [
    "features = insurance_data.drop('Страховые выплаты',axis=1)\n",
    "target = insurance_data['Страховые выплаты']"
   ]
  },
  {
   "cell_type": "code",
   "execution_count": 11,
   "metadata": {},
   "outputs": [
    {
     "data": {
      "text/plain": [
       "array([ 7.92580543e-03,  3.57083050e-02, -1.70080492e-07, -1.35676623e-02])"
      ]
     },
     "metadata": {},
     "output_type": "display_data"
    },
    {
     "data": {
      "text/plain": [
       "array([ 7.92580543e-03,  3.57083050e-02, -1.70080492e-07, -1.35676623e-02])"
      ]
     },
     "execution_count": 11,
     "metadata": {},
     "output_type": "execute_result"
    }
   ],
   "source": [
    "X = np.concatenate((np.ones((features.shape[0], 1)), features), axis=1)\n",
    "y = target\n",
    "w = np.linalg.inv(X.T @ X) @ X.T @ y\n",
    "display(w[1:])\n",
    "model = LinearRegression()\n",
    "model.fit(features, target)\n",
    "model.coef_"
   ]
  },
  {
   "cell_type": "markdown",
   "metadata": {},
   "source": [
    "В этом задании вы можете записывать формулы в *Jupyter Notebook.*\n",
    "\n",
    "Чтобы записать формулу внутри текста, окружите её символами доллара \\\\$; если снаружи —  двойными символами \\\\$\\\\$. Эти формулы записываются на языке вёрстки *LaTeX.* \n",
    "\n",
    "Для примера мы записали формулы линейной регрессии. Можете их скопировать и отредактировать, чтобы решить задачу.\n",
    "\n",
    "Работать в *LaTeX* необязательно."
   ]
  },
  {
   "cell_type": "markdown",
   "metadata": {},
   "source": [
    "Коэфициенты регрессии совпадают на 100%. Теперь перейдем к теоретической части."
   ]
  },
  {
   "cell_type": "markdown",
   "metadata": {},
   "source": [
    "Обозначения:\n",
    "\n",
    "- $X$ — матрица признаков (нулевой столбец состоит из единиц)\n",
    "\n",
    "- $y$ — вектор целевого признака\n",
    "\n",
    "- $P$ — матрица, на которую умножаются признаки\n",
    "\n",
    "- $w$ — вектор весов линейной регрессии (нулевой элемент равен сдвигу)"
   ]
  },
  {
   "cell_type": "markdown",
   "metadata": {},
   "source": [
    "Предсказания:\n",
    "\n",
    "$$\n",
    "a = Xw\n",
    "$$\n",
    "\n",
    "Задача обучения:\n",
    "\n",
    "$$\n",
    "w = \\arg\\min_w MSE(Xw, y)\n",
    "$$\n",
    "\n",
    "Формула обучения:\n",
    "\n",
    "$$\n",
    "w = (X^T X)^{-1} X^T y\n",
    "$$"
   ]
  },
  {
   "cell_type": "markdown",
   "metadata": {},
   "source": [
    "**Вопрос:** Признаки умножают на обратимую матрицу. Изменится ли качество линейной регрессии?\n",
    "\n",
    "**Ответ:** не изменится.<br>\n",
    "    \n",
    "**Обоснование:**\n",
    "\n",
    "\n",
    "\n",
    "\n",
    "$$\n",
    "a = Xw = XEw = XPP^{-1}w = (XP)P^{-1}w = (XP)w'\n",
    "$$\n",
    "\n",
    "$$\n",
    "w' = ((XP)^T XP)^{-1} (XP)^T y\n",
    "$$\n",
    "$$\n",
    "w'= (P^T (X^T X) P)^{-1} (XP)^T y\n",
    "$$\n",
    "\n",
    "\n",
    "$$ w'=  P^{-1}(X^T X)^{-1} (P^T)^{-1}P^T X^T  y$$\n",
    "\n",
    "$$ w'=  P^{-1}(X^T X)^{-1} E X^T  y $$\n",
    "\n",
    "$$ w'=  P^{-1}(X^T X)^{-1} E X^T  y $$\n",
    "\n",
    "$$ w'=  P^{-1}(X^T X)^{-1} X^T  y $$\n",
    "\n",
    "$$ w'=  P^{-1} w $$\n",
    "\n"
   ]
  },
  {
   "cell_type": "markdown",
   "metadata": {},
   "source": [
    "## Алгоритм преобразования"
   ]
  },
  {
   "cell_type": "markdown",
   "metadata": {},
   "source": [
    "**Алгоритм**\n",
    "\n",
    "Для защиты информации на этапе поиска коэффициентов регрессии и предсказаний регрессии будем умножать матрицу признаков на обратимую матрицу $Y$, которая будет генерироваться случайным образом.\n",
    "\n",
    "Этапы алгоритма:\n",
    "1. Составление матрицы $Y$.\n",
    "2. Проверка матрицы на обратимость. Вычисление детерминанта матрицы $Y$.\n",
    "3. Получение матрицы преобразованных признаков $Z = XY$.\n",
    "4. Применение алгоритма на преобразованных признаках $Z$."
   ]
  },
  {
   "cell_type": "markdown",
   "metadata": {},
   "source": [
    "**Обоснование**\n",
    "\n",
    "Матрица $Y$ должна иметь необходимую размерность $(nxn)$, где n - количество признаков для регрессии.\n",
    "Таким образом матрица $Z$ будет иметь туже размерность, что и матрица $X$. Обратная матрица $Y$ существует только для квадратных невырожденных матриц (определитель которых не равен нулю).\n",
    "\n",
    "Пример:\n",
    "\n",
    "$\n",
    "X = \\begin{pmatrix}\n",
    "1 & 2 \\\\\n",
    "2 & 3 \\\\\n",
    "4 & 5  \n",
    "\\end{pmatrix}\n",
    "\\qquad \n",
    "Y = \\begin{pmatrix}\n",
    "1 & 0 \\\\\n",
    "2 & 3 \\\\  \n",
    "\\end{pmatrix}\n",
    "\\qquad det  Y = 3 $\n",
    "\n",
    "Найдем значние Z:\n",
    "\n",
    "$\n",
    "Z = \\begin{pmatrix}\n",
    "1 & 2 \\\\\n",
    "2 & 3 \\\\\n",
    "4 & 5  \n",
    "\\end{pmatrix} \\begin{pmatrix}\n",
    "1 & 0 \\\\\n",
    "2 & 3 \\\\  \n",
    "\\end{pmatrix} = \\begin{pmatrix}\n",
    "1*1+2*2 & 1*0+2*3  \\\\\n",
    "2*1+3*2 & 2*0+3*3  \\\\\n",
    "4*1+5*2 & 4*0+5*3   \n",
    "\\end{pmatrix} = \\begin{pmatrix}\n",
    "5 & 6 \\\\\n",
    "8 & 9 \\\\\n",
    "14 & 15  \n",
    "\\end{pmatrix}$\n",
    "\n",
    "После этого добавляем нулевой столбец и вводим данные в линейную регрессию."
   ]
  },
  {
   "cell_type": "markdown",
   "metadata": {},
   "source": [
    "## Проверка алгоритма"
   ]
  },
  {
   "cell_type": "markdown",
   "metadata": {},
   "source": [
    "Проведем исследование модели по двум направлениям:\n",
    "1. Исследуем качество модели без преобразования.\n",
    "         1.1 С исходными признаками\n",
    "         1.2 С отмасштабированными признаками\n",
    "2. Исследуем качество модели с преобразованием.\n",
    "         2.1 С исходными признаками\n",
    "         2.2 С отмасштабированными признаками\n",
    "\n",
    "Разделим данные на обучающие и тестовые."
   ]
  },
  {
   "cell_type": "code",
   "execution_count": 12,
   "metadata": {},
   "outputs": [],
   "source": [
    "features_train, features_test, target_train, target_test = train_test_split(\n",
    "    features, target, test_size=0.25, random_state=7072020)"
   ]
  },
  {
   "cell_type": "code",
   "execution_count": 13,
   "metadata": {},
   "outputs": [
    {
     "name": "stdout",
     "output_type": "stream",
     "text": [
      "w-vector coef [ 1.97416051e-03  3.51823837e-02  3.34772368e-08 -1.34952026e-02]\n",
      "R2 = 0.418410815122086\n"
     ]
    }
   ],
   "source": [
    "model = LinearRegression()\n",
    "model.fit(features_train, target_train)\n",
    "R2_LR_origin_data = r2_score(target_test, model.predict(features_test))\n",
    "print(\"w-vector coef\",model.coef_)\n",
    "print(\"R2 =\", R2_LR_origin_data)"
   ]
  },
  {
   "cell_type": "code",
   "execution_count": 14,
   "metadata": {},
   "outputs": [
    {
     "name": "stdout",
     "output_type": "stream",
     "text": [
      "R2 = 0.41841081512208866\n"
     ]
    }
   ],
   "source": [
    "regressor = LinearRegression()\n",
    "scaller = StandardScaler()\n",
    "pipeline = Pipeline([(\"standard_scaller\", scaller),(\"linear_regression\", regressor)])\n",
    "pipeline.fit(features_train, target_train)\n",
    "R2_LR_origin_data_scaled = r2_score(target_test, pipeline.predict(features_test))\n",
    "#print(\"w-vector coef\",pipeline.coef_) при использовании pipeline невозможно получить коэффициенты регрессии\n",
    "print(\"R2 =\", R2_LR_origin_data_scaled)"
   ]
  },
  {
   "cell_type": "markdown",
   "metadata": {},
   "source": [
    "Модель ведет себя одинаково как на исходных данных, так и на отмасштабированных. Колебания 15 знака и дальше после запятой связано с точностью хранения дробных чисел в python 3."
   ]
  },
  {
   "cell_type": "markdown",
   "metadata": {},
   "source": [
    "Создадим функцию преобразования матрицы признаков."
   ]
  },
  {
   "cell_type": "code",
   "execution_count": 15,
   "metadata": {},
   "outputs": [],
   "source": [
    "def cipher_features(features):\n",
    "    crypted_features = features\n",
    "    n = features.shape[1]\n",
    "    np.random.seed(7072020)\n",
    "    cipher_matrix = np.random.randint(1, 10, (n,n))\n",
    "    det = np.linalg.det(cipher_matrix)\n",
    "    while det == 0:\n",
    "        np.random.seed(7072021)\n",
    "        cipher_matrix = np.random.randint(1, 10, (n,n))\n",
    "        det = np.linalg.det(cipher_matrix)\n",
    "    crypted_features = crypted_features @ cipher_matrix\n",
    "    return crypted_features, cipher_matrix"
   ]
  },
  {
   "cell_type": "markdown",
   "metadata": {},
   "source": [
    "Выведем данные до преобразования и после."
   ]
  },
  {
   "cell_type": "code",
   "execution_count": 16,
   "metadata": {},
   "outputs": [
    {
     "data": {
      "text/html": [
       "<div>\n",
       "<style scoped>\n",
       "    .dataframe tbody tr th:only-of-type {\n",
       "        vertical-align: middle;\n",
       "    }\n",
       "\n",
       "    .dataframe tbody tr th {\n",
       "        vertical-align: top;\n",
       "    }\n",
       "\n",
       "    .dataframe thead th {\n",
       "        text-align: right;\n",
       "    }\n",
       "</style>\n",
       "<table border=\"1\" class=\"dataframe\">\n",
       "  <thead>\n",
       "    <tr style=\"text-align: right;\">\n",
       "      <th></th>\n",
       "      <th>Пол</th>\n",
       "      <th>Возраст</th>\n",
       "      <th>Зарплата</th>\n",
       "      <th>Члены семьи</th>\n",
       "    </tr>\n",
       "  </thead>\n",
       "  <tbody>\n",
       "    <tr>\n",
       "      <th>0</th>\n",
       "      <td>1</td>\n",
       "      <td>41</td>\n",
       "      <td>49600.0</td>\n",
       "      <td>1</td>\n",
       "    </tr>\n",
       "    <tr>\n",
       "      <th>1</th>\n",
       "      <td>0</td>\n",
       "      <td>46</td>\n",
       "      <td>38000.0</td>\n",
       "      <td>1</td>\n",
       "    </tr>\n",
       "    <tr>\n",
       "      <th>2</th>\n",
       "      <td>0</td>\n",
       "      <td>29</td>\n",
       "      <td>21000.0</td>\n",
       "      <td>0</td>\n",
       "    </tr>\n",
       "    <tr>\n",
       "      <th>3</th>\n",
       "      <td>0</td>\n",
       "      <td>21</td>\n",
       "      <td>41700.0</td>\n",
       "      <td>2</td>\n",
       "    </tr>\n",
       "    <tr>\n",
       "      <th>4</th>\n",
       "      <td>1</td>\n",
       "      <td>28</td>\n",
       "      <td>26100.0</td>\n",
       "      <td>0</td>\n",
       "    </tr>\n",
       "  </tbody>\n",
       "</table>\n",
       "</div>"
      ],
      "text/plain": [
       "   Пол  Возраст  Зарплата  Члены семьи\n",
       "0    1       41   49600.0            1\n",
       "1    0       46   38000.0            1\n",
       "2    0       29   21000.0            0\n",
       "3    0       21   41700.0            2\n",
       "4    1       28   26100.0            0"
      ]
     },
     "metadata": {},
     "output_type": "display_data"
    },
    {
     "data": {
      "text/html": [
       "<div>\n",
       "<style scoped>\n",
       "    .dataframe tbody tr th:only-of-type {\n",
       "        vertical-align: middle;\n",
       "    }\n",
       "\n",
       "    .dataframe tbody tr th {\n",
       "        vertical-align: top;\n",
       "    }\n",
       "\n",
       "    .dataframe thead th {\n",
       "        text-align: right;\n",
       "    }\n",
       "</style>\n",
       "<table border=\"1\" class=\"dataframe\">\n",
       "  <thead>\n",
       "    <tr style=\"text-align: right;\">\n",
       "      <th></th>\n",
       "      <th>0</th>\n",
       "      <th>1</th>\n",
       "      <th>2</th>\n",
       "      <th>3</th>\n",
       "    </tr>\n",
       "  </thead>\n",
       "  <tbody>\n",
       "    <tr>\n",
       "      <th>0</th>\n",
       "      <td>397184.0</td>\n",
       "      <td>49981.0</td>\n",
       "      <td>99373.0</td>\n",
       "      <td>248097.0</td>\n",
       "    </tr>\n",
       "    <tr>\n",
       "      <th>1</th>\n",
       "      <td>304422.0</td>\n",
       "      <td>38421.0</td>\n",
       "      <td>76185.0</td>\n",
       "      <td>190101.0</td>\n",
       "    </tr>\n",
       "    <tr>\n",
       "      <th>2</th>\n",
       "      <td>168261.0</td>\n",
       "      <td>21261.0</td>\n",
       "      <td>42116.0</td>\n",
       "      <td>105058.0</td>\n",
       "    </tr>\n",
       "    <tr>\n",
       "      <th>3</th>\n",
       "      <td>333805.0</td>\n",
       "      <td>41903.0</td>\n",
       "      <td>83486.0</td>\n",
       "      <td>208560.0</td>\n",
       "    </tr>\n",
       "    <tr>\n",
       "      <th>4</th>\n",
       "      <td>209059.0</td>\n",
       "      <td>26357.0</td>\n",
       "      <td>52320.0</td>\n",
       "      <td>130562.0</td>\n",
       "    </tr>\n",
       "  </tbody>\n",
       "</table>\n",
       "</div>"
      ],
      "text/plain": [
       "          0        1        2         3\n",
       "0  397184.0  49981.0  99373.0  248097.0\n",
       "1  304422.0  38421.0  76185.0  190101.0\n",
       "2  168261.0  21261.0  42116.0  105058.0\n",
       "3  333805.0  41903.0  83486.0  208560.0\n",
       "4  209059.0  26357.0  52320.0  130562.0"
      ]
     },
     "metadata": {},
     "output_type": "display_data"
    },
    {
     "data": {
      "text/plain": [
       "array([[7, 5, 8, 6],\n",
       "       [9, 9, 4, 2],\n",
       "       [8, 1, 2, 5],\n",
       "       [8, 7, 1, 9]])"
      ]
     },
     "execution_count": 16,
     "metadata": {},
     "output_type": "execute_result"
    }
   ],
   "source": [
    "display(features.head())\n",
    "features, cipher_matrix = cipher_features(features)\n",
    "display(features.head())\n",
    "cipher_matrix"
   ]
  },
  {
   "cell_type": "markdown",
   "metadata": {},
   "source": [
    "Как видно, данные потеряли свои оригинальные значения, теперь в них хранится непонятное число. Разобьем данные на тренировочную и обучающую выборку и проверим R2 значение."
   ]
  },
  {
   "cell_type": "code",
   "execution_count": 17,
   "metadata": {},
   "outputs": [],
   "source": [
    "features_train, features_test, target_train, target_test = train_test_split(\n",
    "    features, target, test_size=0.25, random_state=7072020)"
   ]
  },
  {
   "cell_type": "code",
   "execution_count": 18,
   "metadata": {},
   "outputs": [
    {
     "name": "stdout",
     "output_type": "stream",
     "text": [
      "w-vector coef [ 0.00319167  0.00168011  0.00069429 -0.0057204 ]\n",
      "R2 = 0.41841081512209166\n"
     ]
    }
   ],
   "source": [
    "model = LinearRegression()\n",
    "model.fit(features_train, target_train)\n",
    "R2_LR_cipher_data = r2_score(target_test, model.predict(features_test))\n",
    "print(\"w-vector coef\",model.coef_)\n",
    "print(\"R2 =\", R2_LR_cipher_data)"
   ]
  },
  {
   "cell_type": "code",
   "execution_count": 19,
   "metadata": {},
   "outputs": [
    {
     "name": "stdout",
     "output_type": "stream",
     "text": [
      "R2 = 0.41841081512209466\n"
     ]
    }
   ],
   "source": [
    "regressor = LinearRegression()\n",
    "scaller = StandardScaler()\n",
    "pipeline = Pipeline([(\"standard_scaller\", scaller),(\"linear_regression\", regressor)])\n",
    "pipeline.fit(features_train, target_train)\n",
    "R2_LR_cipher_data_scaled = r2_score(target_test, pipeline.predict(features_test))\n",
    "#print(\"w-vector coef\",pipeline.coef_) при использовании pipeline невозможно получить коэффициенты регрессии\n",
    "print(\"R2 =\", R2_LR_cipher_data_scaled)"
   ]
  },
  {
   "cell_type": "markdown",
   "metadata": {},
   "source": [
    "Сравним показатели качества моделей."
   ]
  },
  {
   "cell_type": "code",
   "execution_count": 20,
   "metadata": {},
   "outputs": [
    {
     "data": {
      "text/html": [
       "<div>\n",
       "<style scoped>\n",
       "    .dataframe tbody tr th:only-of-type {\n",
       "        vertical-align: middle;\n",
       "    }\n",
       "\n",
       "    .dataframe tbody tr th {\n",
       "        vertical-align: top;\n",
       "    }\n",
       "\n",
       "    .dataframe thead th {\n",
       "        text-align: right;\n",
       "    }\n",
       "</style>\n",
       "<table border=\"1\" class=\"dataframe\">\n",
       "  <thead>\n",
       "    <tr style=\"text-align: right;\">\n",
       "      <th></th>\n",
       "      <th>R2</th>\n",
       "    </tr>\n",
       "  </thead>\n",
       "  <tbody>\n",
       "    <tr>\n",
       "      <th>Линейная регрессия</th>\n",
       "      <td>0.418411</td>\n",
       "    </tr>\n",
       "    <tr>\n",
       "      <th>Линейная регрессия c масштабом</th>\n",
       "      <td>0.418411</td>\n",
       "    </tr>\n",
       "    <tr>\n",
       "      <th>Линейная регрессия на преобразованных признаках</th>\n",
       "      <td>0.418411</td>\n",
       "    </tr>\n",
       "    <tr>\n",
       "      <th>Линейная регрессия на преобразованных признаках c масштабом</th>\n",
       "      <td>0.418411</td>\n",
       "    </tr>\n",
       "  </tbody>\n",
       "</table>\n",
       "</div>"
      ],
      "text/plain": [
       "                                                          R2\n",
       "Линейная регрессия                                  0.418411\n",
       "Линейная регрессия c масштабом                      0.418411\n",
       "Линейная регрессия на преобразованных признаках     0.418411\n",
       "Линейная регрессия на преобразованных признаках...  0.418411"
      ]
     },
     "execution_count": 20,
     "metadata": {},
     "output_type": "execute_result"
    }
   ],
   "source": [
    "result = pd.DataFrame(data= [R2_LR_origin_data_scaled,\n",
    "                      R2_LR_origin_data,\n",
    "                      R2_LR_cipher_data,\n",
    "                      R2_LR_cipher_data_scaled], \n",
    "                     columns=['R2'], \n",
    "                     index=['Линейная регрессия',\n",
    "                            'Линейная регрессия c масштабом',\n",
    "                            'Линейная регрессия на преобразованных признаках',\n",
    "                            'Линейная регрессия на преобразованных признаках c масштабом',])\n",
    "result"
   ]
  },
  {
   "cell_type": "markdown",
   "metadata": {},
   "source": [
    "## Итоговый вывод\n",
    "\n",
    "В ходе работы было проделано:\n",
    "\n",
    "1. Загружены и изучены данные.\n",
    "2. Качество линейной регресии не изменилось от использования исодной матрици и исходной матрицы, умноженную на обратимую.\n",
    "3. Создан алгоритм преобразования данных.\n",
    "4. Исследован алгоритм преобразования данных и проверена метрика R2 для данных без преобразования и с ним.\n",
    "\n",
    "По результатам работы использования матричных операций можно увидеть, что данные очень просто зашифровать от распознования, имея правильную матрицу."
   ]
  }
 ],
 "metadata": {
  "ExecuteTimeLog": [
   {
    "duration": 1083,
    "start_time": "2023-02-13T03:34:56.173Z"
   },
   {
    "duration": 94,
    "start_time": "2023-02-13T03:35:15.449Z"
   },
   {
    "duration": 16,
    "start_time": "2023-02-13T03:35:28.369Z"
   },
   {
    "duration": 3,
    "start_time": "2023-02-13T03:35:35.842Z"
   },
   {
    "duration": 13,
    "start_time": "2023-02-13T03:35:45.353Z"
   },
   {
    "duration": 16,
    "start_time": "2023-02-13T03:36:24.985Z"
   },
   {
    "duration": 5,
    "start_time": "2023-02-13T03:38:16.883Z"
   },
   {
    "duration": 15,
    "start_time": "2023-02-13T03:38:32.227Z"
   },
   {
    "duration": 101,
    "start_time": "2023-02-13T03:53:46.523Z"
   },
   {
    "duration": 69,
    "start_time": "2023-02-13T03:56:46.920Z"
   },
   {
    "duration": 5,
    "start_time": "2023-02-13T03:57:20.928Z"
   },
   {
    "duration": 9,
    "start_time": "2023-02-13T03:57:28.280Z"
   },
   {
    "duration": 14,
    "start_time": "2023-02-13T03:57:41.896Z"
   },
   {
    "duration": 4,
    "start_time": "2023-02-13T03:58:27.113Z"
   },
   {
    "duration": 67,
    "start_time": "2023-02-13T03:58:34.081Z"
   },
   {
    "duration": 17,
    "start_time": "2023-02-13T03:58:59.471Z"
   },
   {
    "duration": 84,
    "start_time": "2023-02-13T03:59:08.559Z"
   },
   {
    "duration": 5,
    "start_time": "2023-02-13T03:59:35.775Z"
   },
   {
    "duration": 8,
    "start_time": "2023-02-13T04:00:02.879Z"
   },
   {
    "duration": 13,
    "start_time": "2023-02-13T04:00:11.448Z"
   },
   {
    "duration": 84,
    "start_time": "2023-02-13T04:00:33.198Z"
   },
   {
    "duration": 9,
    "start_time": "2023-02-13T04:00:49.751Z"
   },
   {
    "duration": 1841,
    "start_time": "2023-02-13T05:50:19.002Z"
   },
   {
    "duration": 36,
    "start_time": "2023-02-13T05:50:20.844Z"
   },
   {
    "duration": 14,
    "start_time": "2023-02-13T05:50:40.290Z"
   },
   {
    "duration": 4,
    "start_time": "2023-02-13T05:50:40.699Z"
   },
   {
    "duration": 13,
    "start_time": "2023-02-13T05:50:40.928Z"
   },
   {
    "duration": 15,
    "start_time": "2023-02-13T05:50:41.662Z"
   },
   {
    "duration": 5,
    "start_time": "2023-02-13T05:52:03.995Z"
   },
   {
    "duration": 14,
    "start_time": "2023-02-13T05:52:04.398Z"
   },
   {
    "duration": 6,
    "start_time": "2023-02-13T05:54:49.117Z"
   },
   {
    "duration": 8,
    "start_time": "2023-02-13T05:54:49.440Z"
   },
   {
    "duration": 11,
    "start_time": "2023-02-13T05:54:49.616Z"
   },
   {
    "duration": 4,
    "start_time": "2023-02-13T05:54:50.749Z"
   },
   {
    "duration": 17,
    "start_time": "2023-02-13T05:54:51.113Z"
   },
   {
    "duration": 5,
    "start_time": "2023-02-13T05:54:51.444Z"
   },
   {
    "duration": 9,
    "start_time": "2023-02-13T05:54:51.626Z"
   },
   {
    "duration": 12,
    "start_time": "2023-02-13T05:54:51.840Z"
   },
   {
    "duration": 8,
    "start_time": "2023-02-13T05:54:52.234Z"
   },
   {
    "duration": 69,
    "start_time": "2023-02-13T06:27:43.747Z"
   },
   {
    "duration": 1064,
    "start_time": "2023-02-13T06:27:56.023Z"
   },
   {
    "duration": 86,
    "start_time": "2023-02-13T06:27:57.088Z"
   },
   {
    "duration": 14,
    "start_time": "2023-02-13T06:27:57.176Z"
   },
   {
    "duration": 8,
    "start_time": "2023-02-13T06:27:57.192Z"
   },
   {
    "duration": 14,
    "start_time": "2023-02-13T06:27:57.201Z"
   },
   {
    "duration": 14,
    "start_time": "2023-02-13T06:27:57.217Z"
   },
   {
    "duration": 27,
    "start_time": "2023-02-13T06:27:57.233Z"
   },
   {
    "duration": 4,
    "start_time": "2023-02-13T06:27:57.262Z"
   },
   {
    "duration": 51,
    "start_time": "2023-02-13T06:27:57.267Z"
   },
   {
    "duration": 99,
    "start_time": "2023-02-13T06:27:57.321Z"
   },
   {
    "duration": 12,
    "start_time": "2023-02-13T06:27:57.421Z"
   },
   {
    "duration": 14,
    "start_time": "2023-02-13T06:27:57.435Z"
   },
   {
    "duration": 6,
    "start_time": "2023-02-13T06:27:57.451Z"
   },
   {
    "duration": 65,
    "start_time": "2023-02-13T06:27:57.459Z"
   },
   {
    "duration": 5,
    "start_time": "2023-02-13T06:27:57.526Z"
   },
   {
    "duration": 10,
    "start_time": "2023-02-13T06:27:57.533Z"
   },
   {
    "duration": 15,
    "start_time": "2023-02-13T06:27:57.545Z"
   },
   {
    "duration": 9,
    "start_time": "2023-02-13T06:27:57.561Z"
   },
   {
    "duration": 600,
    "start_time": "2023-02-13T06:35:37.148Z"
   },
   {
    "duration": 114,
    "start_time": "2023-02-13T06:36:21.800Z"
   },
   {
    "duration": 9,
    "start_time": "2023-02-13T06:36:35.860Z"
   },
   {
    "duration": 687,
    "start_time": "2023-02-13T06:36:39.148Z"
   },
   {
    "duration": 10,
    "start_time": "2023-02-13T06:36:44.532Z"
   },
   {
    "duration": 8,
    "start_time": "2023-02-13T06:36:47.332Z"
   },
   {
    "duration": 659,
    "start_time": "2023-02-13T06:36:50.900Z"
   },
   {
    "duration": 664,
    "start_time": "2023-02-13T06:36:54.221Z"
   },
   {
    "duration": 17,
    "start_time": "2023-02-13T06:38:48.525Z"
   },
   {
    "duration": 13,
    "start_time": "2023-02-13T06:39:27.933Z"
   },
   {
    "duration": 12,
    "start_time": "2023-02-13T06:40:16.469Z"
   },
   {
    "duration": 56,
    "start_time": "2023-02-13T06:41:04.700Z"
   },
   {
    "duration": 18,
    "start_time": "2023-02-13T06:41:08.573Z"
   },
   {
    "duration": 12,
    "start_time": "2023-02-13T06:41:14.533Z"
   },
   {
    "duration": 143,
    "start_time": "2023-02-13T06:41:22.357Z"
   },
   {
    "duration": 140,
    "start_time": "2023-02-13T06:41:34.437Z"
   },
   {
    "duration": 191,
    "start_time": "2023-02-13T06:41:48.405Z"
   },
   {
    "duration": 24199,
    "start_time": "2023-02-13T06:41:59.877Z"
   },
   {
    "duration": 257,
    "start_time": "2023-02-13T06:47:21.893Z"
   },
   {
    "duration": 118,
    "start_time": "2023-02-13T06:48:58.605Z"
   },
   {
    "duration": 14,
    "start_time": "2023-02-13T06:49:20.660Z"
   },
   {
    "duration": 139,
    "start_time": "2023-02-13T06:49:23.716Z"
   },
   {
    "duration": 114,
    "start_time": "2023-02-13T06:49:30.333Z"
   },
   {
    "duration": 136,
    "start_time": "2023-02-13T06:50:31.340Z"
   },
   {
    "duration": 136,
    "start_time": "2023-02-13T06:51:04.012Z"
   },
   {
    "duration": 16,
    "start_time": "2023-02-13T06:51:36.333Z"
   },
   {
    "duration": 9,
    "start_time": "2023-02-13T06:53:47.124Z"
   },
   {
    "duration": 51,
    "start_time": "2023-02-13T06:53:56.268Z"
   },
   {
    "duration": 15,
    "start_time": "2023-02-13T06:53:59.436Z"
   },
   {
    "duration": 14,
    "start_time": "2023-02-13T06:54:06.358Z"
   },
   {
    "duration": 54,
    "start_time": "2023-02-13T06:54:15.365Z"
   },
   {
    "duration": 90,
    "start_time": "2023-02-13T06:55:57.781Z"
   },
   {
    "duration": 117,
    "start_time": "2023-02-13T06:56:12.068Z"
   },
   {
    "duration": 123,
    "start_time": "2023-02-13T06:56:18.437Z"
   },
   {
    "duration": 121,
    "start_time": "2023-02-13T06:56:24.693Z"
   },
   {
    "duration": 87,
    "start_time": "2023-02-13T06:56:49.420Z"
   },
   {
    "duration": 42,
    "start_time": "2023-02-13T06:57:02.229Z"
   },
   {
    "duration": 11,
    "start_time": "2023-02-13T06:58:51.572Z"
   },
   {
    "duration": 26,
    "start_time": "2023-02-13T06:58:57.625Z"
   },
   {
    "duration": 104,
    "start_time": "2023-02-13T07:00:53.236Z"
   },
   {
    "duration": 122,
    "start_time": "2023-02-13T07:01:08.852Z"
   },
   {
    "duration": 94,
    "start_time": "2023-02-13T07:01:31.781Z"
   },
   {
    "duration": 110,
    "start_time": "2023-02-13T07:01:56.572Z"
   },
   {
    "duration": 328,
    "start_time": "2023-02-13T07:02:00.669Z"
   },
   {
    "duration": 25,
    "start_time": "2023-02-13T07:02:08.877Z"
   },
   {
    "duration": 120,
    "start_time": "2023-02-13T07:02:12.431Z"
   },
   {
    "duration": 101,
    "start_time": "2023-02-13T07:02:18.335Z"
   },
   {
    "duration": 96,
    "start_time": "2023-02-13T07:02:22.556Z"
   },
   {
    "duration": 100,
    "start_time": "2023-02-13T07:02:44.797Z"
   },
   {
    "duration": 121,
    "start_time": "2023-02-13T07:03:23.028Z"
   },
   {
    "duration": 108,
    "start_time": "2023-02-13T08:23:01.790Z"
   },
   {
    "duration": 87,
    "start_time": "2023-02-13T08:23:21.318Z"
   },
   {
    "duration": 49,
    "start_time": "2023-02-13T08:23:28.405Z"
   },
   {
    "duration": 82,
    "start_time": "2023-02-13T08:23:51.485Z"
   },
   {
    "duration": 97,
    "start_time": "2023-02-13T08:24:00.589Z"
   },
   {
    "duration": 134,
    "start_time": "2023-02-13T08:25:13.035Z"
   },
   {
    "duration": 142,
    "start_time": "2023-02-13T08:25:26.710Z"
   },
   {
    "duration": 94,
    "start_time": "2023-02-13T08:26:09.623Z"
   },
   {
    "duration": 113,
    "start_time": "2023-02-13T08:26:20.581Z"
   },
   {
    "duration": 88,
    "start_time": "2023-02-13T08:26:49.661Z"
   },
   {
    "duration": 108,
    "start_time": "2023-02-13T08:43:22.543Z"
   },
   {
    "duration": 87,
    "start_time": "2023-02-13T08:43:34.215Z"
   },
   {
    "duration": 91,
    "start_time": "2023-02-13T08:43:59.550Z"
   },
   {
    "duration": 92,
    "start_time": "2023-02-13T08:45:29.158Z"
   },
   {
    "duration": 85,
    "start_time": "2023-02-13T08:45:34.854Z"
   },
   {
    "duration": 95,
    "start_time": "2023-02-13T08:46:33.158Z"
   },
   {
    "duration": 53,
    "start_time": "2023-02-13T08:47:29.903Z"
   },
   {
    "duration": 94,
    "start_time": "2023-02-13T08:47:37.854Z"
   },
   {
    "duration": 138,
    "start_time": "2023-02-13T08:48:42.520Z"
   },
   {
    "duration": 151,
    "start_time": "2023-02-13T08:48:49.694Z"
   },
   {
    "duration": 125,
    "start_time": "2023-02-13T08:48:54.887Z"
   },
   {
    "duration": 87,
    "start_time": "2023-02-13T08:49:12.430Z"
   },
   {
    "duration": 109,
    "start_time": "2023-02-13T08:49:15.722Z"
   },
   {
    "duration": 1273,
    "start_time": "2023-02-13T08:52:21.148Z"
   },
   {
    "duration": 30,
    "start_time": "2023-02-13T08:52:22.424Z"
   },
   {
    "duration": 11,
    "start_time": "2023-02-13T08:52:22.456Z"
   },
   {
    "duration": 3,
    "start_time": "2023-02-13T08:52:22.468Z"
   },
   {
    "duration": 15,
    "start_time": "2023-02-13T08:52:22.473Z"
   },
   {
    "duration": 13,
    "start_time": "2023-02-13T08:52:22.489Z"
   },
   {
    "duration": 21,
    "start_time": "2023-02-13T08:52:22.504Z"
   },
   {
    "duration": 119,
    "start_time": "2023-02-13T08:52:22.527Z"
   },
   {
    "duration": 342,
    "start_time": "2023-02-13T08:52:22.648Z"
   },
   {
    "duration": 4,
    "start_time": "2023-02-13T08:52:22.992Z"
   },
   {
    "duration": 24,
    "start_time": "2023-02-13T08:52:22.997Z"
   },
   {
    "duration": 99,
    "start_time": "2023-02-13T08:52:23.024Z"
   },
   {
    "duration": 90,
    "start_time": "2023-02-13T08:52:23.125Z"
   },
   {
    "duration": 11,
    "start_time": "2023-02-13T08:52:23.218Z"
   },
   {
    "duration": 12,
    "start_time": "2023-02-13T08:52:23.230Z"
   },
   {
    "duration": 23,
    "start_time": "2023-02-13T08:52:23.244Z"
   },
   {
    "duration": 4,
    "start_time": "2023-02-13T08:52:23.269Z"
   },
   {
    "duration": 10,
    "start_time": "2023-02-13T08:52:23.274Z"
   },
   {
    "duration": 26,
    "start_time": "2023-02-13T08:52:23.286Z"
   },
   {
    "duration": 18,
    "start_time": "2023-02-13T08:52:23.313Z"
   },
   {
    "duration": 150,
    "start_time": "2023-02-13T08:52:51.375Z"
   },
   {
    "duration": 115,
    "start_time": "2023-02-13T08:53:22.125Z"
   },
   {
    "duration": 157,
    "start_time": "2023-02-13T08:54:42.445Z"
   },
   {
    "duration": 184,
    "start_time": "2023-02-13T09:39:30.030Z"
   },
   {
    "duration": 157,
    "start_time": "2023-02-13T09:39:38.663Z"
   },
   {
    "duration": 79,
    "start_time": "2023-02-13T09:39:58.710Z"
   },
   {
    "duration": 175,
    "start_time": "2023-02-13T09:41:32.552Z"
   },
   {
    "duration": 184,
    "start_time": "2023-02-13T09:42:13.334Z"
   },
   {
    "duration": 190,
    "start_time": "2023-02-13T09:42:34.150Z"
   },
   {
    "duration": 190,
    "start_time": "2023-02-13T09:42:44.710Z"
   },
   {
    "duration": 91,
    "start_time": "2023-02-13T09:42:58.684Z"
   },
   {
    "duration": 8,
    "start_time": "2023-02-13T09:44:28.134Z"
   },
   {
    "duration": 15090,
    "start_time": "2023-02-13T09:46:43.043Z"
   },
   {
    "duration": 100,
    "start_time": "2023-02-13T09:47:44.814Z"
   },
   {
    "duration": 16204,
    "start_time": "2023-02-13T09:47:59.942Z"
   },
   {
    "duration": 131,
    "start_time": "2023-02-13T09:48:21.253Z"
   },
   {
    "duration": 9,
    "start_time": "2023-02-13T09:48:33.909Z"
   },
   {
    "duration": 152,
    "start_time": "2023-02-13T09:48:38.797Z"
   },
   {
    "duration": 16105,
    "start_time": "2023-02-13T09:49:11.061Z"
   },
   {
    "duration": 15277,
    "start_time": "2023-02-13T09:49:57.365Z"
   },
   {
    "duration": 101,
    "start_time": "2023-02-13T09:53:22.854Z"
   },
   {
    "duration": 71,
    "start_time": "2023-02-13T09:53:45.510Z"
   },
   {
    "duration": 61,
    "start_time": "2023-02-13T09:53:52.805Z"
   },
   {
    "duration": 78,
    "start_time": "2023-02-13T09:55:19.181Z"
   },
   {
    "duration": 68,
    "start_time": "2023-02-13T09:55:22.477Z"
   },
   {
    "duration": 65,
    "start_time": "2023-02-13T09:55:29.604Z"
   },
   {
    "duration": 10,
    "start_time": "2023-02-13T09:56:14.302Z"
   },
   {
    "duration": 14,
    "start_time": "2023-02-13T09:56:20.917Z"
   },
   {
    "duration": 13,
    "start_time": "2023-02-13T09:56:23.733Z"
   },
   {
    "duration": 125,
    "start_time": "2023-02-13T09:56:45.077Z"
   },
   {
    "duration": 113,
    "start_time": "2023-02-13T09:56:54.277Z"
   },
   {
    "duration": 95,
    "start_time": "2023-02-13T09:59:59.406Z"
   },
   {
    "duration": 68,
    "start_time": "2023-02-13T10:00:07.726Z"
   },
   {
    "duration": 145,
    "start_time": "2023-02-13T10:00:39.357Z"
   },
   {
    "duration": 11,
    "start_time": "2023-02-13T10:02:46.990Z"
   },
   {
    "duration": 104,
    "start_time": "2023-02-13T10:02:51.296Z"
   },
   {
    "duration": 149,
    "start_time": "2023-02-13T10:03:23.190Z"
   },
   {
    "duration": 66,
    "start_time": "2023-02-13T10:04:11.782Z"
   },
   {
    "duration": 64,
    "start_time": "2023-02-13T10:04:36.173Z"
   },
   {
    "duration": 13,
    "start_time": "2023-02-13T10:04:51.391Z"
   },
   {
    "duration": 104,
    "start_time": "2023-02-13T10:05:00.165Z"
   },
   {
    "duration": 109,
    "start_time": "2023-02-13T10:05:08.677Z"
   },
   {
    "duration": 70,
    "start_time": "2023-02-13T10:05:15.289Z"
   },
   {
    "duration": 69,
    "start_time": "2023-02-13T10:05:22.813Z"
   },
   {
    "duration": 64,
    "start_time": "2023-02-13T10:05:30.445Z"
   },
   {
    "duration": 67,
    "start_time": "2023-02-13T10:05:35.517Z"
   },
   {
    "duration": 70,
    "start_time": "2023-02-13T10:05:42.597Z"
   },
   {
    "duration": 67,
    "start_time": "2023-02-13T10:05:45.525Z"
   },
   {
    "duration": 66,
    "start_time": "2023-02-13T10:05:50.373Z"
   },
   {
    "duration": 67,
    "start_time": "2023-02-13T10:05:56.069Z"
   },
   {
    "duration": 78,
    "start_time": "2023-02-13T10:06:25.973Z"
   },
   {
    "duration": 84,
    "start_time": "2023-02-13T10:06:46.068Z"
   },
   {
    "duration": 84,
    "start_time": "2023-02-13T10:06:55.004Z"
   },
   {
    "duration": 118,
    "start_time": "2023-02-13T10:10:24.374Z"
   },
   {
    "duration": 82,
    "start_time": "2023-02-13T10:10:33.493Z"
   },
   {
    "duration": 109,
    "start_time": "2023-02-13T10:11:11.869Z"
   },
   {
    "duration": 114,
    "start_time": "2023-02-13T10:12:24.525Z"
   },
   {
    "duration": 92,
    "start_time": "2023-02-13T10:13:47.981Z"
   },
   {
    "duration": 92,
    "start_time": "2023-02-13T10:13:58.020Z"
   },
   {
    "duration": 162,
    "start_time": "2023-02-13T10:14:27.109Z"
   },
   {
    "duration": 180,
    "start_time": "2023-02-13T10:14:48.525Z"
   },
   {
    "duration": 126,
    "start_time": "2023-02-13T10:15:08.477Z"
   },
   {
    "duration": 122,
    "start_time": "2023-02-13T10:15:55.157Z"
   },
   {
    "duration": 459,
    "start_time": "2023-02-13T10:17:01.389Z"
   },
   {
    "duration": 130,
    "start_time": "2023-02-13T10:17:14.397Z"
   },
   {
    "duration": 21,
    "start_time": "2023-02-13T10:18:54.637Z"
   },
   {
    "duration": 130,
    "start_time": "2023-02-13T10:19:42.269Z"
   },
   {
    "duration": 124,
    "start_time": "2023-02-13T10:19:50.037Z"
   },
   {
    "duration": 129,
    "start_time": "2023-02-13T10:20:00.141Z"
   },
   {
    "duration": 154,
    "start_time": "2023-02-13T10:20:02.949Z"
   },
   {
    "duration": 133,
    "start_time": "2023-02-13T10:20:07.237Z"
   },
   {
    "duration": 162,
    "start_time": "2023-02-13T10:23:37.877Z"
   },
   {
    "duration": 165,
    "start_time": "2023-02-13T10:23:51.253Z"
   },
   {
    "duration": 140,
    "start_time": "2023-02-13T10:24:15.429Z"
   },
   {
    "duration": 135,
    "start_time": "2023-02-13T10:24:24.572Z"
   },
   {
    "duration": 52,
    "start_time": "2023-02-13T11:32:05.991Z"
   },
   {
    "duration": 49,
    "start_time": "2023-02-13T11:35:46.082Z"
   }
  ],
  "kernelspec": {
   "display_name": "Python 3 (ipykernel)",
   "language": "python",
   "name": "python3"
  },
  "language_info": {
   "codemirror_mode": {
    "name": "ipython",
    "version": 3
   },
   "file_extension": ".py",
   "mimetype": "text/x-python",
   "name": "python",
   "nbconvert_exporter": "python",
   "pygments_lexer": "ipython3",
   "version": "3.9.13"
  },
  "toc": {
   "base_numbering": 1,
   "nav_menu": {},
   "number_sections": true,
   "sideBar": true,
   "skip_h1_title": true,
   "title_cell": "Содержание",
   "title_sidebar": "Contents",
   "toc_cell": true,
   "toc_position": {
    "height": "calc(100% - 180px)",
    "left": "10px",
    "top": "150px",
    "width": "195.583px"
   },
   "toc_section_display": true,
   "toc_window_display": true
  }
 },
 "nbformat": 4,
 "nbformat_minor": 2
}
