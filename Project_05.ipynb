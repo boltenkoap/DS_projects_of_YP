{
 "cells": [
  {
   "cell_type": "markdown",
   "metadata": {},
   "source": [
    "# Рекомендация тарифов"
   ]
  },
  {
   "cell_type": "markdown",
   "metadata": {},
   "source": [
    "## Описание проекта\n",
    "\n",
    "Оператор мобильной связи «Мегалайн» выяснил: многие клиенты пользуются архивными тарифами. Они хотят построить систему, способную проанализировать поведение клиентов и предложить пользователям новый тариф: «Смарт» или «Ультра».\n",
    "\n",
    "\n",
    "В вашем распоряжении данные о поведении клиентов, которые уже перешли на эти тарифы. Нужно построить модель для задачи классификации, которая выберет подходящий тариф. Предобработка данных не понадобится — она уже сделана проектом ранее.\n",
    "\n",
    "\n",
    "Постройте модель с максимально большим значением accuracy (нужно довести долю правильных ответов по крайней мере до 0.75).\n",
    "\n",
    "## Описание данных\n",
    "Каждый объект в наборе данных — это информация о поведении одного пользователя за месяц. Известно:\n",
    "\n",
    "- `сalls` — количество звонков,\n",
    "- `minutes` — суммарная длительность звонков в минутах,\n",
    "- `messages` — количество sms-сообщений,\n",
    "- `mb_used` — израсходованный интернет-трафик в Мб,\n",
    "- `is_ultra` — каким тарифом пользовался в течение месяца («Ультра» — 1, «Смарт» — 0)."
   ]
  },
  {
   "cell_type": "markdown",
   "metadata": {},
   "source": [
    "## Изучение общей инофрмации о данных\n",
    "\n",
    "**Вывод по шагу 1.**\n",
    "\n",
    "Перед нами стоит задача классификации. **Целевой признак** - *is_ultra.* Остальные признаки помогут предсказывать решение по целевому признаку is_ultra.\n",
    "\n",
    "Из-за того, что данных не очень много, модель может быть переобученной.\n",
    "\n",
    "*Предобработка данных не требуется, несмотря на то, что это было указано в описании задания, никогда не бывает лишним проверить названия столбцов, наличие дубликатов и пропусков (по общей информации видно, что их нет).*"
   ]
  },
  {
   "cell_type": "code",
   "execution_count": 1,
   "metadata": {},
   "outputs": [],
   "source": [
    "import pandas as pd\n",
    "import matplotlib.pyplot as plt \n",
    "import seaborn as sns\n",
    "import numpy as np\n",
    "from tqdm import tqdm\n",
    "import time\n",
    "from statsmodels.stats.outliers_influence import variance_inflation_factor  \n",
    "from statsmodels.tools.tools import add_constant\n",
    "from sklearn.model_selection import train_test_split\n",
    "from sklearn.tree import DecisionTreeClassifier \n",
    "from sklearn.ensemble import RandomForestClassifier\n",
    "from sklearn.linear_model import LogisticRegression\n",
    "from sklearn.dummy import DummyClassifier\n",
    "from sklearn.metrics import accuracy_score\n",
    "from sklearn.metrics import precision_score\n",
    "from sklearn.metrics import recall_score\n",
    "from sklearn.metrics import f1_score\n",
    "from sklearn.model_selection import GridSearchCV\n",
    "import warnings\n",
    "warnings.filterwarnings('ignore')"
   ]
  },
  {
   "cell_type": "code",
   "execution_count": 2,
   "metadata": {},
   "outputs": [
    {
     "name": "stdout",
     "output_type": "stream",
     "text": [
      "<class 'pandas.core.frame.DataFrame'>\n",
      "RangeIndex: 3214 entries, 0 to 3213\n",
      "Data columns (total 5 columns):\n",
      " #   Column    Non-Null Count  Dtype  \n",
      "---  ------    --------------  -----  \n",
      " 0   calls     3214 non-null   float64\n",
      " 1   minutes   3214 non-null   float64\n",
      " 2   messages  3214 non-null   float64\n",
      " 3   mb_used   3214 non-null   float64\n",
      " 4   is_ultra  3214 non-null   int64  \n",
      "dtypes: float64(4), int64(1)\n",
      "memory usage: 125.7 KB\n"
     ]
    }
   ],
   "source": [
    "tariff_data = pd.read_csv('/datasets/users_behavior.csv')\n",
    "tariff_data.info()"
   ]
  },
  {
   "cell_type": "code",
   "execution_count": 3,
   "metadata": {},
   "outputs": [
    {
     "data": {
      "text/html": [
       "<div>\n",
       "<style scoped>\n",
       "    .dataframe tbody tr th:only-of-type {\n",
       "        vertical-align: middle;\n",
       "    }\n",
       "\n",
       "    .dataframe tbody tr th {\n",
       "        vertical-align: top;\n",
       "    }\n",
       "\n",
       "    .dataframe thead th {\n",
       "        text-align: right;\n",
       "    }\n",
       "</style>\n",
       "<table border=\"1\" class=\"dataframe\">\n",
       "  <thead>\n",
       "    <tr style=\"text-align: right;\">\n",
       "      <th></th>\n",
       "      <th>calls</th>\n",
       "      <th>minutes</th>\n",
       "      <th>messages</th>\n",
       "      <th>mb_used</th>\n",
       "      <th>is_ultra</th>\n",
       "    </tr>\n",
       "  </thead>\n",
       "  <tbody>\n",
       "    <tr>\n",
       "      <th>0</th>\n",
       "      <td>40.0</td>\n",
       "      <td>311.90</td>\n",
       "      <td>83.0</td>\n",
       "      <td>19915.42</td>\n",
       "      <td>0</td>\n",
       "    </tr>\n",
       "    <tr>\n",
       "      <th>1</th>\n",
       "      <td>85.0</td>\n",
       "      <td>516.75</td>\n",
       "      <td>56.0</td>\n",
       "      <td>22696.96</td>\n",
       "      <td>0</td>\n",
       "    </tr>\n",
       "    <tr>\n",
       "      <th>2</th>\n",
       "      <td>77.0</td>\n",
       "      <td>467.66</td>\n",
       "      <td>86.0</td>\n",
       "      <td>21060.45</td>\n",
       "      <td>0</td>\n",
       "    </tr>\n",
       "    <tr>\n",
       "      <th>3</th>\n",
       "      <td>106.0</td>\n",
       "      <td>745.53</td>\n",
       "      <td>81.0</td>\n",
       "      <td>8437.39</td>\n",
       "      <td>1</td>\n",
       "    </tr>\n",
       "    <tr>\n",
       "      <th>4</th>\n",
       "      <td>66.0</td>\n",
       "      <td>418.74</td>\n",
       "      <td>1.0</td>\n",
       "      <td>14502.75</td>\n",
       "      <td>0</td>\n",
       "    </tr>\n",
       "  </tbody>\n",
       "</table>\n",
       "</div>"
      ],
      "text/plain": [
       "   calls  minutes  messages   mb_used  is_ultra\n",
       "0   40.0   311.90      83.0  19915.42         0\n",
       "1   85.0   516.75      56.0  22696.96         0\n",
       "2   77.0   467.66      86.0  21060.45         0\n",
       "3  106.0   745.53      81.0   8437.39         1\n",
       "4   66.0   418.74       1.0  14502.75         0"
      ]
     },
     "execution_count": 3,
     "metadata": {},
     "output_type": "execute_result"
    }
   ],
   "source": [
    "tariff_data.head()"
   ]
  },
  {
   "cell_type": "code",
   "execution_count": 4,
   "metadata": {},
   "outputs": [
    {
     "name": "stdout",
     "output_type": "stream",
     "text": [
      "             calls   minutes  messages   mb_used  is_ultra\n",
      "calls     1.000000  0.982083  0.177385  0.286442  0.207122\n",
      "minutes   0.982083  1.000000  0.173110  0.280967  0.206955\n",
      "messages  0.177385  0.173110  1.000000  0.195721  0.203830\n",
      "mb_used   0.286442  0.280967  0.195721  1.000000  0.198568\n",
      "is_ultra  0.207122  0.206955  0.203830  0.198568  1.000000\n"
     ]
    }
   ],
   "source": [
    "print(tariff_data.corr())"
   ]
  },
  {
   "cell_type": "code",
   "execution_count": 5,
   "metadata": {},
   "outputs": [
    {
     "data": {
      "image/png": "[encoded data removed]",
      "text/plain": [
       "<Figure size 432x288 with 2 Axes>"
      ]
     },
     "metadata": {
      "needs_background": "light"
     },
     "output_type": "display_data"
    }
   ],
   "source": [
    "tariff_data_plot = sns.heatmap(tariff_data.corr(), cmap=\"YlGnBu\", annot=True)"
   ]
  },
  {
   "cell_type": "code",
   "execution_count": 6,
   "metadata": {},
   "outputs": [
    {
     "name": "stdout",
     "output_type": "stream",
     "text": [
      "const        8.077246\n",
      "calls       28.283590\n",
      "minutes     28.172344\n",
      "messages     1.083318\n",
      "mb_used      1.133531\n",
      "is_ultra     1.094911\n",
      "dtype: float64\n"
     ]
    }
   ],
   "source": [
    "X = add_constant(tariff_data)  \n",
    "ds=pd.Series([variance_inflation_factor(X.values, i)   \n",
    "               for i in range(X.shape[1])],   \n",
    "              index=X.columns)  \n",
    "print(ds)"
   ]
  },
  {
   "cell_type": "markdown",
   "metadata": {},
   "source": [
    "## Разделение данных на выборки\n",
    "**Вывод по шагу 2**\n",
    "\n",
    "Данные были разбиты по принципу 60/20/20.\n",
    "\n",
    "- Обучение пройдет на данных train_tariff_data\n",
    "- Валидация модели на данных valid_tariff_data\n",
    "- Лучшая модель по валидации будет применена на данных test_tariff_data"
   ]
  },
  {
   "cell_type": "code",
   "execution_count": 7,
   "metadata": {},
   "outputs": [
    {
     "name": "stdout",
     "output_type": "stream",
     "text": [
      "Размер обучающей выборки 1928\n",
      "Размер валидационной выборки 643\n",
      "Размер тестовой выборки 643\n"
     ]
    }
   ],
   "source": [
    "#Разобьём выборки на обучающию, валидационную, тестовую в соответствии с принципом 60/20/20\n",
    "train_tariff_data, vnt_tariff_data = train_test_split(tariff_data, test_size=0.40, random_state=12345)\n",
    "valid_tariff_data, test_tariff_data = train_test_split(vnt_tariff_data, test_size=0.50, random_state=12345)\n",
    "\n",
    "print('Размер обучающей выборки', train_tariff_data.shape[0])\n",
    "print('Размер валидационной выборки', valid_tariff_data.shape[0])\n",
    "print('Размер тестовой выборки', test_tariff_data.shape[0])"
   ]
  },
  {
   "cell_type": "code",
   "execution_count": 8,
   "metadata": {},
   "outputs": [],
   "source": [
    "#Составим таблицы признаков и целового признака для каждого датафрейма\n",
    "\n",
    "train_tariff_data_features = train_tariff_data.drop(['is_ultra'], axis=1)\n",
    "train_tariff_data_target = train_tariff_data['is_ultra']\n",
    "\n",
    "valid_tariff_data_features = valid_tariff_data.drop(['is_ultra'], axis=1)\n",
    "valid_tariff_data_target = valid_tariff_data['is_ultra']\n",
    "\n",
    "test_tariff_data_features = test_tariff_data.drop(['is_ultra'], axis=1)\n",
    "test_tariff_data_target = test_tariff_data['is_ultra']"
   ]
  },
  {
   "cell_type": "markdown",
   "metadata": {},
   "source": [
    "# Исследование моделей\n",
    "\n",
    "**Вывод по шагу 2**\n",
    "\n",
    "В ходе исследования были получены следующие данные:\n",
    "\n",
    "- Точность модели решающего дерева при глубине 3 равна 0.78. Время выполнения код и обучения 0,86 секунд.\n",
    "- Точность модели случайного леса при количестве деревьев 11 равна 0.83. Время выполнения код и обучения 7,5 секунд.\n",
    "- Точность модели логистической регресии равна 0.762. Время выполнения код и обучения 5,91 секунд.\n",
    "\n",
    "Так как выборка небольшая, то лучший результат показывает решающее древо с гиперпараметром max_depth=8."
   ]
  },
  {
   "cell_type": "markdown",
   "metadata": {},
   "source": [
    "### Древо выбора"
   ]
  },
  {
   "cell_type": "code",
   "execution_count": 9,
   "metadata": {},
   "outputs": [
    {
     "name": "stdout",
     "output_type": "stream",
     "text": [
      "Глубина дерева: 1 качество: 0.7542768273716952\n",
      "Глубина дерева: 2 качество: 0.7822706065318819\n",
      "Глубина дерева: 3 качество: 0.7853810264385692\n",
      "Лучшая глубина дерева: 3 Лучшее Качество: 0.7853810264385692\n",
      "CPU times: user 91.4 ms, sys: 0 ns, total: 91.4 ms\n",
      "Wall time: 92.1 ms\n"
     ]
    }
   ],
   "source": [
    "%%time\n",
    "best_accuracy = 0\n",
    "best_depth = 0\n",
    "for depth in range(1,12):\n",
    "    model = DecisionTreeClassifier(max_depth=depth, random_state=412)\n",
    "    model.fit(train_tariff_data_features, train_tariff_data_target)\n",
    "    accuracy = model.score(valid_tariff_data_features, valid_tariff_data_target)\n",
    "    if accuracy > best_accuracy:\n",
    "        print(\"Глубина дерева:\", depth, \"качество:\" ,accuracy)\n",
    "        best_accuracy = accuracy\n",
    "        best_depth = depth\n",
    "print(\"Лучшая глубина дерева:\", best_depth, \"Лучшее Качество:\", best_accuracy)"
   ]
  },
  {
   "cell_type": "markdown",
   "metadata": {},
   "source": [
    "### Случайный лес"
   ]
  },
  {
   "cell_type": "code",
   "execution_count": null,
   "metadata": {},
   "outputs": [],
   "source": [
    "%time\n",
    "clf = RandomForestClassifier()\n",
    "parametrs = { 'n_estimators': range (10, 51, 10),\n",
    "              'max_depth': range (1,13, 2),\n",
    "              'min_samples_leaf': range (1,8),\n",
    "              'min_samples_split': range (2,10,2) }\n",
    "grid = GridSearchCV(clf, parametrs, cv=5)\n",
    "grid.fit(train_tariff_data_features, train_tariff_data_target)"
   ]
  },
  {
   "cell_type": "code",
   "execution_count": 11,
   "metadata": {},
   "outputs": [
    {
     "name": "stdout",
     "output_type": "stream",
     "text": [
      "CPU times: user 3 µs, sys: 1 µs, total: 4 µs\n",
      "Wall time: 8.34 µs\n"
     ]
    },
    {
     "data": {
      "text/plain": [
       "GridSearchCV(cv=5, estimator=RandomForestClassifier(),\n",
       "             param_grid={'max_depth': range(1, 13, 2),\n",
       "                         'min_samples_leaf': range(1, 8),\n",
       "                         'min_samples_split': range(2, 10, 2),\n",
       "                         'n_estimators': range(10, 51, 10)})"
      ]
     },
     "execution_count": 11,
     "metadata": {},
     "output_type": "execute_result"
    }
   ],
   "source": [
    "#Подбор параметров с помощью GridSearchCV\n",
    "%time\n",
    "clf = RandomForestClassifier()\n",
    "parametrs = { 'n_estimators': range (10, 51, 10),\n",
    "              'max_depth': range (1,13, 2),\n",
    "              'min_samples_leaf': range (1,8),\n",
    "              'min_samples_split': range (2,10,2) }\n",
    "grid = GridSearchCV(clf, parametrs, cv=5)\n",
    "grid.fit(valid_tariff_data_features, valid_tariff_data_target)"
   ]
  },
  {
   "cell_type": "code",
   "execution_count": 13,
   "metadata": {},
   "outputs": [
    {
     "data": {
      "text/plain": [
       "0.7870639534883721"
      ]
     },
     "execution_count": 13,
     "metadata": {},
     "output_type": "execute_result"
    }
   ],
   "source": [
    "grid.best_score_"
   ]
  },
  {
   "cell_type": "markdown",
   "metadata": {},
   "source": [
    "### Логистическая регрессия"
   ]
  },
  {
   "cell_type": "code",
   "execution_count": 14,
   "metadata": {},
   "outputs": [
    {
     "name": "stdout",
     "output_type": "stream",
     "text": [
      "Количество итерраций 1 Точность 0.7060653188180405\n",
      "Количество итерраций 2 Точность 0.7060653188180405\n",
      "Количество итерраций 3 Точность 0.7060653188180405\n",
      "Количество итерраций 4 Точность 0.7060653188180405\n",
      "Количество итерраций 5 Точность 0.7060653188180405\n",
      "Количество итерраций 6 Точность 0.7060653188180405\n",
      "Количество итерраций 7 Точность 0.7060653188180405\n",
      "Количество итерраций 8 Точность 0.7060653188180405\n",
      "Количество итерраций 9 Точность 0.7060653188180405\n",
      "Лучшее количество итерраций 1 Лучшая точность 0.7060653188180405\n",
      "CPU times: user 87 ms, sys: 38 µs, total: 87 ms\n",
      "Wall time: 96.7 ms\n"
     ]
    }
   ],
   "source": [
    "%%time\n",
    "\n",
    "best_max_iter = 0\n",
    "best_accuracy = 0\n",
    "\n",
    "for max_iter in range(1,10):\n",
    "    model = LogisticRegression(random_state=23042020, max_iter=max_iter)\n",
    "    model.fit(train_tariff_data_features, train_tariff_data_target)\n",
    "    valid_predictions = model.predict(valid_tariff_data_features)\n",
    "    accuracy = accuracy_score(valid_tariff_data_target, valid_predictions)\n",
    "    print('Количество итерраций', max_iter,'Точность',accuracy)\n",
    "    if accuracy > best_accuracy:\n",
    "        best_max_iter = max_iter\n",
    "        best_accuracy = accuracy\n",
    "\n",
    "print('Лучшее количество итерраций', best_max_iter,'Лучшая точность', best_accuracy) "
   ]
  },
  {
   "cell_type": "markdown",
   "metadata": {},
   "source": [
    "## Проверка модели на тестовой выборке\n",
    "\n",
    "**Вывод по шагу 4**\n",
    "\n",
    "Для решения поставленной задачи можно выбрать модель случайного леса (точность 0.78). Интересно, что в обучающей выборке наибольшая точность была достигнута при модели решающего древа. Учитывая разницу между текущей точностью и точностью на валидационной выборке, можно сделать вывод слабой переобученности модели."
   ]
  },
  {
   "cell_type": "code",
   "execution_count": 16,
   "metadata": {},
   "outputs": [
    {
     "name": "stdout",
     "output_type": "stream",
     "text": [
      "Точность модели случайного леса на тестовой выборке 0.7744945567651633\n"
     ]
    }
   ],
   "source": [
    "#Оценим точность модели случайного леса на тестовой выборке.\n",
    "test_predictions = grid.predict(test_tariff_data_features)\n",
    "accuracy = accuracy_score(test_tariff_data_target, test_predictions)\n",
    "print('Точность модели случайного леса на тестовой выборке',accuracy)"
   ]
  },
  {
   "cell_type": "markdown",
   "metadata": {},
   "source": [
    "## Проверка модели на адекватность\n"
   ]
  },
  {
   "cell_type": "code",
   "execution_count": null,
   "metadata": {},
   "outputs": [],
   "source": [
    "dummy_clf = DummyClassifier(strategy=\"most_frequent\", random_state=12345)\n",
    "\n",
    "dummy_clf.fit(train_tariff_data_features, train_tariff_data_target)\n",
    "\n",
    "dummy_clf.score(train_tariff_data_features, train_tariff_data_target)\n"
   ]
  },
  {
   "cell_type": "markdown",
   "metadata": {},
   "source": [
    "## Общий вывод\n",
    "\n",
    "В ходе проделанной работы было выполнено:\n",
    "\n",
    "1. Изучен файл с данными.\n",
    "2. Разбиты данные на три выборки: обучающая, валидационная и тестовая.\n",
    "3. Исследованы три модели классификации: Решающее дерево, Случайный лес и Логистическая регрессия.\n",
    "4. Найдены оптимальные параметры для каждой модели и выбрана одна из них для обучения модели (модель случайного леса).\n",
    "5. Оценена точность обученной модели (для модели случайного леса точность 0.78).\n",
    "6. Оценена адекватность модели (F-мера = 0.6045197740112994).\n",
    "\n",
    "Для обучения модели было использована выборка в 2000 значений. Этого может быть недостаточно для повышения ключевых параметров модели классификатора. Увеличение в 10 или 100 увеличит accuracy, precision и recall, а также время обучения.\n",
    "\n",
    "Адекватность модели повышается с ростом количества значений."
   ]
  },
  {
   "cell_type": "code",
   "execution_count": null,
   "metadata": {},
   "outputs": [],
   "source": []
  }
 ],
 "metadata": {
  "ExecuteTimeLog": [
   {
    "duration": 1163,
    "start_time": "2022-12-05T08:25:25.571Z"
   },
   {
    "duration": 134,
    "start_time": "2022-12-05T08:26:06.810Z"
   },
   {
    "duration": 18,
    "start_time": "2022-12-05T08:26:19.736Z"
   },
   {
    "duration": 4,
    "start_time": "2022-12-05T08:29:11.308Z"
   },
   {
    "duration": 8,
    "start_time": "2022-12-05T11:40:31.715Z"
   },
   {
    "duration": 9,
    "start_time": "2022-12-05T11:40:40.763Z"
   },
   {
    "duration": 147,
    "start_time": "2022-12-05T12:22:19.928Z"
   },
   {
    "duration": 3,
    "start_time": "2022-12-05T13:12:33.924Z"
   },
   {
    "duration": 36,
    "start_time": "2022-12-05T13:12:34.848Z"
   },
   {
    "duration": 10,
    "start_time": "2022-12-05T13:12:35.970Z"
   },
   {
    "duration": 8,
    "start_time": "2022-12-05T13:12:37.730Z"
   },
   {
    "duration": 6,
    "start_time": "2022-12-05T13:12:39.051Z"
   },
   {
    "duration": 1130,
    "start_time": "2022-12-05T13:12:40.554Z"
   },
   {
    "duration": 18,
    "start_time": "2022-12-05T13:16:41.225Z"
   },
   {
    "duration": 13,
    "start_time": "2022-12-05T13:16:58.089Z"
   },
   {
    "duration": 15,
    "start_time": "2022-12-05T13:16:59.593Z"
   },
   {
    "duration": 14,
    "start_time": "2022-12-05T13:17:29.777Z"
   },
   {
    "duration": 9,
    "start_time": "2022-12-05T13:18:02.027Z"
   },
   {
    "duration": 11,
    "start_time": "2022-12-05T13:18:36.577Z"
   },
   {
    "duration": 19087,
    "start_time": "2022-12-05T13:19:50.937Z"
   },
   {
    "duration": 18648,
    "start_time": "2022-12-05T13:20:21.795Z"
   },
   {
    "duration": 5,
    "start_time": "2022-12-05T13:22:02.126Z"
   },
   {
    "duration": 5,
    "start_time": "2022-12-05T13:22:03.634Z"
   },
   {
    "duration": 5,
    "start_time": "2022-12-05T13:22:18.642Z"
   },
   {
    "duration": 4,
    "start_time": "2022-12-05T13:22:29.129Z"
   },
   {
    "duration": 10,
    "start_time": "2022-12-05T13:22:42.957Z"
   },
   {
    "duration": 6,
    "start_time": "2022-12-05T13:22:48.762Z"
   },
   {
    "duration": 42,
    "start_time": "2022-12-05T13:22:53.547Z"
   },
   {
    "duration": 4,
    "start_time": "2022-12-05T13:23:01.125Z"
   },
   {
    "duration": 1119,
    "start_time": "2022-12-05T13:23:06.648Z"
   },
   {
    "duration": 37,
    "start_time": "2022-12-05T13:23:07.769Z"
   },
   {
    "duration": 14,
    "start_time": "2022-12-05T13:23:07.808Z"
   },
   {
    "duration": 10,
    "start_time": "2022-12-05T13:23:07.823Z"
   },
   {
    "duration": 20,
    "start_time": "2022-12-05T13:23:07.834Z"
   },
   {
    "duration": 1184,
    "start_time": "2022-12-05T13:23:07.855Z"
   },
   {
    "duration": 13,
    "start_time": "2022-12-05T13:23:09.040Z"
   },
   {
    "duration": 40,
    "start_time": "2022-12-05T13:23:09.054Z"
   },
   {
    "duration": 14,
    "start_time": "2022-12-05T13:23:09.096Z"
   },
   {
    "duration": 9,
    "start_time": "2022-12-05T13:23:09.113Z"
   },
   {
    "duration": 19285,
    "start_time": "2022-12-05T13:23:09.124Z"
   },
   {
    "duration": 4,
    "start_time": "2022-12-05T13:23:28.410Z"
   },
   {
    "duration": 83,
    "start_time": "2022-12-05T13:25:07.409Z"
   },
   {
    "duration": 108,
    "start_time": "2022-12-05T13:25:42.684Z"
   },
   {
    "duration": 112,
    "start_time": "2022-12-05T13:26:06.923Z"
   },
   {
    "duration": 70,
    "start_time": "2022-12-05T13:26:25.858Z"
   },
   {
    "duration": 6562,
    "start_time": "2022-12-05T13:28:19.162Z"
   },
   {
    "duration": 5746,
    "start_time": "2022-12-05T13:28:26.899Z"
   },
   {
    "duration": 3,
    "start_time": "2022-12-05T13:31:25.850Z"
   },
   {
    "duration": 1092,
    "start_time": "2022-12-05T13:31:44.015Z"
   },
   {
    "duration": 38,
    "start_time": "2022-12-05T13:31:45.109Z"
   },
   {
    "duration": 25,
    "start_time": "2022-12-05T13:31:45.149Z"
   },
   {
    "duration": 25,
    "start_time": "2022-12-05T13:31:45.176Z"
   },
   {
    "duration": 17,
    "start_time": "2022-12-05T13:31:45.203Z"
   },
   {
    "duration": 1087,
    "start_time": "2022-12-05T13:31:45.222Z"
   },
   {
    "duration": 12,
    "start_time": "2022-12-05T13:31:46.311Z"
   },
   {
    "duration": 13,
    "start_time": "2022-12-05T13:31:46.324Z"
   },
   {
    "duration": 12,
    "start_time": "2022-12-05T13:31:46.338Z"
   },
   {
    "duration": 28,
    "start_time": "2022-12-05T13:31:46.352Z"
   },
   {
    "duration": 19176,
    "start_time": "2022-12-05T13:31:46.382Z"
   },
   {
    "duration": 4,
    "start_time": "2022-12-05T13:32:05.560Z"
   },
   {
    "duration": 0,
    "start_time": "2022-12-05T13:32:05.576Z"
   },
   {
    "duration": 0,
    "start_time": "2022-12-05T13:32:05.577Z"
   },
   {
    "duration": 0,
    "start_time": "2022-12-05T13:32:05.578Z"
   },
   {
    "duration": 0,
    "start_time": "2022-12-05T13:32:05.579Z"
   },
   {
    "duration": 93,
    "start_time": "2022-12-05T13:32:12.817Z"
   },
   {
    "duration": 90,
    "start_time": "2022-12-05T13:32:14.673Z"
   },
   {
    "duration": 105,
    "start_time": "2022-12-05T13:32:15.697Z"
   },
   {
    "duration": 73,
    "start_time": "2022-12-05T13:32:16.521Z"
   },
   {
    "duration": 5423,
    "start_time": "2022-12-05T13:32:19.265Z"
   },
   {
    "duration": 5953,
    "start_time": "2022-12-05T13:33:02.586Z"
   },
   {
    "duration": 40,
    "start_time": "2022-12-05T13:33:24.107Z"
   },
   {
    "duration": 39,
    "start_time": "2022-12-05T13:33:43.009Z"
   },
   {
    "duration": 5,
    "start_time": "2022-12-05T13:34:39.321Z"
   },
   {
    "duration": 188,
    "start_time": "2022-12-05T13:34:41.817Z"
   },
   {
    "duration": 5,
    "start_time": "2022-12-05T13:35:06.769Z"
   },
   {
    "duration": 763,
    "start_time": "2022-12-05T13:35:08.889Z"
   },
   {
    "duration": 703,
    "start_time": "2022-12-05T13:35:29.714Z"
   },
   {
    "duration": 16,
    "start_time": "2022-12-05T13:37:34.521Z"
   },
   {
    "duration": 21,
    "start_time": "2022-12-05T13:41:11.577Z"
   },
   {
    "duration": 3,
    "start_time": "2022-12-05T13:42:19.256Z"
   },
   {
    "duration": 14,
    "start_time": "2022-12-05T13:42:43.544Z"
   },
   {
    "duration": 5,
    "start_time": "2022-12-05T13:43:25.202Z"
   },
   {
    "duration": 1726,
    "start_time": "2022-12-05T14:10:04.926Z"
   },
   {
    "duration": 127,
    "start_time": "2022-12-05T14:10:06.656Z"
   },
   {
    "duration": 16,
    "start_time": "2022-12-05T14:10:06.785Z"
   },
   {
    "duration": 8,
    "start_time": "2022-12-05T14:10:06.803Z"
   },
   {
    "duration": 10,
    "start_time": "2022-12-05T14:10:06.813Z"
   },
   {
    "duration": 1206,
    "start_time": "2022-12-05T14:10:06.824Z"
   },
   {
    "duration": 24,
    "start_time": "2022-12-05T14:10:08.032Z"
   },
   {
    "duration": 14,
    "start_time": "2022-12-05T14:10:08.058Z"
   },
   {
    "duration": 15,
    "start_time": "2022-12-05T14:10:08.074Z"
   },
   {
    "duration": 9,
    "start_time": "2022-12-05T14:10:08.091Z"
   },
   {
    "duration": 21425,
    "start_time": "2022-12-05T14:10:08.102Z"
   },
   {
    "duration": 88,
    "start_time": "2022-12-05T14:10:29.528Z"
   },
   {
    "duration": 105,
    "start_time": "2022-12-05T14:10:29.618Z"
   },
   {
    "duration": 121,
    "start_time": "2022-12-05T14:10:29.725Z"
   },
   {
    "duration": 83,
    "start_time": "2022-12-05T14:10:29.848Z"
   },
   {
    "duration": 6360,
    "start_time": "2022-12-05T14:10:29.933Z"
   },
   {
    "duration": 40,
    "start_time": "2022-12-05T14:10:36.295Z"
   },
   {
    "duration": 232,
    "start_time": "2022-12-05T14:10:36.354Z"
   },
   {
    "duration": 742,
    "start_time": "2022-12-05T14:10:36.588Z"
   },
   {
    "duration": 26,
    "start_time": "2022-12-05T14:10:37.332Z"
   },
   {
    "duration": 14,
    "start_time": "2022-12-05T14:10:37.360Z"
   },
   {
    "duration": 10,
    "start_time": "2022-12-05T14:10:37.375Z"
   },
   {
    "duration": 55,
    "start_time": "2022-12-06T06:08:59.615Z"
   },
   {
    "duration": 49,
    "start_time": "2022-12-06T06:09:12.458Z"
   },
   {
    "duration": 54,
    "start_time": "2022-12-06T06:09:14.704Z"
   },
   {
    "duration": 64,
    "start_time": "2022-12-06T07:50:20.630Z"
   },
   {
    "duration": 1697,
    "start_time": "2022-12-06T07:50:29.064Z"
   },
   {
    "duration": 121,
    "start_time": "2022-12-06T07:51:15.018Z"
   },
   {
    "duration": 10,
    "start_time": "2022-12-06T07:51:17.202Z"
   },
   {
    "duration": 138,
    "start_time": "2022-12-06T07:51:21.904Z"
   },
   {
    "duration": 14,
    "start_time": "2022-12-06T07:51:23.337Z"
   },
   {
    "duration": 8,
    "start_time": "2022-12-06T07:51:34.546Z"
   },
   {
    "duration": 10,
    "start_time": "2022-12-06T07:52:14.762Z"
   },
   {
    "duration": 414,
    "start_time": "2022-12-06T07:52:24.642Z"
   },
   {
    "duration": 39,
    "start_time": "2022-12-06T07:53:29.856Z"
   },
   {
    "duration": 21,
    "start_time": "2022-12-06T07:54:26.547Z"
   },
   {
    "duration": 21,
    "start_time": "2022-12-06T08:39:01.905Z"
   },
   {
    "duration": 1481,
    "start_time": "2022-12-06T08:39:24.227Z"
   },
   {
    "duration": 40,
    "start_time": "2022-12-06T08:39:25.711Z"
   },
   {
    "duration": 16,
    "start_time": "2022-12-06T08:39:25.753Z"
   },
   {
    "duration": 8,
    "start_time": "2022-12-06T08:39:25.771Z"
   },
   {
    "duration": 411,
    "start_time": "2022-12-06T08:39:25.783Z"
   },
   {
    "duration": 30,
    "start_time": "2022-12-06T08:39:26.196Z"
   },
   {
    "duration": 98,
    "start_time": "2022-12-06T08:39:26.315Z"
   },
   {
    "duration": 49,
    "start_time": "2022-12-06T08:39:26.416Z"
   },
   {
    "duration": 1323,
    "start_time": "2022-12-06T08:39:26.468Z"
   },
   {
    "duration": 155,
    "start_time": "2022-12-06T08:39:27.793Z"
   },
   {
    "duration": 17,
    "start_time": "2022-12-06T08:39:27.950Z"
   },
   {
    "duration": 57,
    "start_time": "2022-12-06T08:39:27.969Z"
   },
   {
    "duration": 36,
    "start_time": "2022-12-06T08:39:28.029Z"
   },
   {
    "duration": 14,
    "start_time": "2022-12-06T08:39:28.068Z"
   },
   {
    "duration": 21953,
    "start_time": "2022-12-06T08:39:28.084Z"
   },
   {
    "duration": 107,
    "start_time": "2022-12-06T08:39:50.040Z"
   },
   {
    "duration": 109,
    "start_time": "2022-12-06T08:39:50.149Z"
   },
   {
    "duration": 120,
    "start_time": "2022-12-06T08:39:50.260Z"
   },
   {
    "duration": 92,
    "start_time": "2022-12-06T08:39:50.381Z"
   },
   {
    "duration": 6684,
    "start_time": "2022-12-06T08:39:50.475Z"
   },
   {
    "duration": 59,
    "start_time": "2022-12-06T08:39:57.162Z"
   },
   {
    "duration": 257,
    "start_time": "2022-12-06T08:39:57.223Z"
   },
   {
    "duration": 830,
    "start_time": "2022-12-06T08:39:57.482Z"
   },
   {
    "duration": 21,
    "start_time": "2022-12-06T08:39:58.314Z"
   },
   {
    "duration": 64,
    "start_time": "2022-12-06T08:39:58.336Z"
   },
   {
    "duration": 41,
    "start_time": "2022-12-06T08:39:58.402Z"
   },
   {
    "duration": 5,
    "start_time": "2022-12-06T08:41:12.470Z"
   },
   {
    "duration": 140,
    "start_time": "2022-12-06T08:48:59.531Z"
   },
   {
    "duration": 137,
    "start_time": "2022-12-06T08:50:35.771Z"
   },
   {
    "duration": 27,
    "start_time": "2022-12-06T08:52:52.501Z"
   },
   {
    "duration": 1475,
    "start_time": "2022-12-06T09:20:58.756Z"
   },
   {
    "duration": 122,
    "start_time": "2022-12-06T09:22:19.705Z"
   },
   {
    "duration": 12,
    "start_time": "2022-12-06T09:29:38.332Z"
   },
   {
    "duration": 1454,
    "start_time": "2022-12-06T09:29:47.473Z"
   },
   {
    "duration": 38,
    "start_time": "2022-12-06T09:29:48.929Z"
   },
   {
    "duration": 14,
    "start_time": "2022-12-06T09:29:48.969Z"
   },
   {
    "duration": 9,
    "start_time": "2022-12-06T09:29:48.985Z"
   },
   {
    "duration": 415,
    "start_time": "2022-12-06T09:29:48.995Z"
   },
   {
    "duration": 100,
    "start_time": "2022-12-06T09:29:49.412Z"
   },
   {
    "duration": 104,
    "start_time": "2022-12-06T09:29:49.514Z"
   },
   {
    "duration": 8,
    "start_time": "2022-12-06T09:29:49.620Z"
   },
   {
    "duration": 30,
    "start_time": "2022-12-06T09:29:49.630Z"
   },
   {
    "duration": 14,
    "start_time": "2022-12-06T09:29:49.663Z"
   },
   {
    "duration": 42,
    "start_time": "2022-12-06T09:29:49.679Z"
   },
   {
    "duration": 16,
    "start_time": "2022-12-06T09:29:49.723Z"
   },
   {
    "duration": 11,
    "start_time": "2022-12-06T09:29:49.740Z"
   },
   {
    "duration": 21592,
    "start_time": "2022-12-06T09:29:49.752Z"
   },
   {
    "duration": 97,
    "start_time": "2022-12-06T09:30:11.345Z"
   },
   {
    "duration": 103,
    "start_time": "2022-12-06T09:30:11.444Z"
   },
   {
    "duration": 124,
    "start_time": "2022-12-06T09:30:11.549Z"
   },
   {
    "duration": 88,
    "start_time": "2022-12-06T09:30:11.675Z"
   },
   {
    "duration": 6313,
    "start_time": "2022-12-06T09:30:11.765Z"
   },
   {
    "duration": 51,
    "start_time": "2022-12-06T09:30:18.080Z"
   },
   {
    "duration": 256,
    "start_time": "2022-12-06T09:30:18.133Z"
   },
   {
    "duration": 802,
    "start_time": "2022-12-06T09:30:18.391Z"
   },
   {
    "duration": 26,
    "start_time": "2022-12-06T09:30:19.195Z"
   },
   {
    "duration": 14,
    "start_time": "2022-12-06T09:30:19.223Z"
   },
   {
    "duration": 22,
    "start_time": "2022-12-06T09:30:19.238Z"
   },
   {
    "duration": 8,
    "start_time": "2022-12-06T09:30:19.262Z"
   },
   {
    "duration": 11,
    "start_time": "2022-12-06T09:43:38.356Z"
   },
   {
    "duration": 380,
    "start_time": "2022-12-06T09:48:05.763Z"
   },
   {
    "duration": 125,
    "start_time": "2022-12-06T09:49:05.443Z"
   },
   {
    "duration": 51,
    "start_time": "2022-12-06T09:50:15.735Z"
   },
   {
    "duration": 3,
    "start_time": "2022-12-06T09:51:44.026Z"
   },
   {
    "duration": 9,
    "start_time": "2022-12-06T09:52:12.585Z"
   },
   {
    "duration": 5,
    "start_time": "2022-12-06T09:52:46.490Z"
   },
   {
    "duration": 6,
    "start_time": "2022-12-06T09:52:50.201Z"
   },
   {
    "duration": 5,
    "start_time": "2022-12-06T09:56:16.988Z"
   },
   {
    "duration": 16033,
    "start_time": "2022-12-06T09:56:20.824Z"
   },
   {
    "duration": 7,
    "start_time": "2022-12-06T09:59:14.944Z"
   },
   {
    "duration": 1487,
    "start_time": "2022-12-06T09:59:28.603Z"
   },
   {
    "duration": 43,
    "start_time": "2022-12-06T09:59:30.092Z"
   },
   {
    "duration": 14,
    "start_time": "2022-12-06T09:59:30.136Z"
   },
   {
    "duration": 15,
    "start_time": "2022-12-06T09:59:30.153Z"
   },
   {
    "duration": 404,
    "start_time": "2022-12-06T09:59:30.170Z"
   },
   {
    "duration": 45,
    "start_time": "2022-12-06T09:59:30.576Z"
   },
   {
    "duration": 91,
    "start_time": "2022-12-06T09:59:30.624Z"
   },
   {
    "duration": 125,
    "start_time": "2022-12-06T09:59:30.717Z"
   },
   {
    "duration": 203,
    "start_time": "2022-12-06T09:59:30.844Z"
   },
   {
    "duration": 81,
    "start_time": "2022-12-06T09:59:31.050Z"
   },
   {
    "duration": 73,
    "start_time": "2022-12-06T09:59:31.133Z"
   },
   {
    "duration": 12,
    "start_time": "2022-12-06T09:59:31.208Z"
   },
   {
    "duration": 0,
    "start_time": "2022-12-06T09:59:31.222Z"
   },
   {
    "duration": 0,
    "start_time": "2022-12-06T09:59:31.223Z"
   },
   {
    "duration": 0,
    "start_time": "2022-12-06T09:59:31.225Z"
   },
   {
    "duration": 80,
    "start_time": "2022-12-06T09:59:57.992Z"
   },
   {
    "duration": 64,
    "start_time": "2022-12-06T10:00:38.415Z"
   },
   {
    "duration": 66,
    "start_time": "2022-12-06T10:01:23.583Z"
   },
   {
    "duration": 1537,
    "start_time": "2022-12-06T10:02:18.214Z"
   },
   {
    "duration": 40,
    "start_time": "2022-12-06T10:02:19.753Z"
   },
   {
    "duration": 15,
    "start_time": "2022-12-06T10:02:19.795Z"
   },
   {
    "duration": 7,
    "start_time": "2022-12-06T10:02:19.813Z"
   },
   {
    "duration": 374,
    "start_time": "2022-12-06T10:02:19.821Z"
   },
   {
    "duration": 116,
    "start_time": "2022-12-06T10:02:20.197Z"
   },
   {
    "duration": 98,
    "start_time": "2022-12-06T10:02:20.315Z"
   },
   {
    "duration": 8,
    "start_time": "2022-12-06T10:02:20.415Z"
   },
   {
    "duration": 217,
    "start_time": "2022-12-06T10:02:20.425Z"
   },
   {
    "duration": 83,
    "start_time": "2022-12-06T10:02:20.645Z"
   },
   {
    "duration": 65,
    "start_time": "2022-12-06T10:02:20.730Z"
   },
   {
    "duration": 11,
    "start_time": "2022-12-06T10:02:20.797Z"
   },
   {
    "duration": 0,
    "start_time": "2022-12-06T10:02:20.809Z"
   },
   {
    "duration": 0,
    "start_time": "2022-12-06T10:02:20.811Z"
   },
   {
    "duration": 0,
    "start_time": "2022-12-06T10:02:20.812Z"
   },
   {
    "duration": 21,
    "start_time": "2022-12-06T10:02:36.319Z"
   },
   {
    "duration": 17,
    "start_time": "2022-12-06T10:02:50.232Z"
   },
   {
    "duration": 17,
    "start_time": "2022-12-06T10:02:55.208Z"
   },
   {
    "duration": 5,
    "start_time": "2022-12-06T10:03:02.904Z"
   },
   {
    "duration": 6,
    "start_time": "2022-12-06T10:03:08.228Z"
   },
   {
    "duration": 4,
    "start_time": "2022-12-06T10:03:10.445Z"
   },
   {
    "duration": 42,
    "start_time": "2022-12-06T10:03:10.451Z"
   },
   {
    "duration": 11,
    "start_time": "2022-12-06T10:03:10.494Z"
   },
   {
    "duration": 10,
    "start_time": "2022-12-06T10:03:10.507Z"
   },
   {
    "duration": 469,
    "start_time": "2022-12-06T10:03:10.519Z"
   },
   {
    "duration": 123,
    "start_time": "2022-12-06T10:03:10.990Z"
   },
   {
    "duration": 103,
    "start_time": "2022-12-06T10:03:11.115Z"
   },
   {
    "duration": 14,
    "start_time": "2022-12-06T10:03:11.220Z"
   },
   {
    "duration": 138,
    "start_time": "2022-12-06T10:03:11.237Z"
   },
   {
    "duration": 16139,
    "start_time": "2022-12-06T10:03:11.377Z"
   },
   {
    "duration": 6241,
    "start_time": "2022-12-06T10:03:27.518Z"
   },
   {
    "duration": 11,
    "start_time": "2022-12-06T10:03:33.761Z"
   },
   {
    "duration": 0,
    "start_time": "2022-12-06T10:03:33.773Z"
   },
   {
    "duration": 0,
    "start_time": "2022-12-06T10:03:33.774Z"
   },
   {
    "duration": 0,
    "start_time": "2022-12-06T10:03:33.775Z"
   },
   {
    "duration": 79,
    "start_time": "2022-12-06T10:04:15.751Z"
   },
   {
    "duration": 191,
    "start_time": "2022-12-06T10:04:38.812Z"
   },
   {
    "duration": 79,
    "start_time": "2022-12-06T10:04:43.129Z"
   },
   {
    "duration": 15780,
    "start_time": "2022-12-06T10:07:21.688Z"
   },
   {
    "duration": 4,
    "start_time": "2022-12-06T10:08:26.272Z"
   },
   {
    "duration": 12,
    "start_time": "2022-12-06T10:10:20.185Z"
   },
   {
    "duration": 50,
    "start_time": "2022-12-06T10:10:32.618Z"
   },
   {
    "duration": 11,
    "start_time": "2022-12-06T10:11:36.777Z"
   },
   {
    "duration": 4,
    "start_time": "2022-12-06T10:12:01.074Z"
   },
   {
    "duration": 5,
    "start_time": "2022-12-06T10:12:12.489Z"
   },
   {
    "duration": 152679,
    "start_time": "2022-12-06T10:19:49.199Z"
   },
   {
    "duration": 15813,
    "start_time": "2022-12-06T10:22:21.880Z"
   },
   {
    "duration": 74,
    "start_time": "2022-12-06T10:22:37.697Z"
   },
   {
    "duration": 102,
    "start_time": "2022-12-06T10:29:20.162Z"
   },
   {
    "duration": 131,
    "start_time": "2022-12-06T10:58:07.714Z"
   },
   {
    "duration": 1550,
    "start_time": "2022-12-06T10:58:13.943Z"
   },
   {
    "duration": 41,
    "start_time": "2022-12-06T10:58:15.495Z"
   },
   {
    "duration": 15,
    "start_time": "2022-12-06T10:58:15.538Z"
   },
   {
    "duration": 8,
    "start_time": "2022-12-06T10:58:15.556Z"
   },
   {
    "duration": 413,
    "start_time": "2022-12-06T10:58:15.566Z"
   },
   {
    "duration": 43,
    "start_time": "2022-12-06T10:58:15.981Z"
   },
   {
    "duration": 100,
    "start_time": "2022-12-06T10:58:16.113Z"
   },
   {
    "duration": 8,
    "start_time": "2022-12-06T10:58:16.215Z"
   },
   {
    "duration": 141,
    "start_time": "2022-12-06T10:58:16.225Z"
   },
   {
    "duration": 16121,
    "start_time": "2022-12-06T10:58:16.369Z"
   },
   {
    "duration": 205,
    "start_time": "2022-12-06T10:58:32.491Z"
   },
   {
    "duration": 83,
    "start_time": "2022-12-06T10:58:32.698Z"
   },
   {
    "duration": 56,
    "start_time": "2022-12-06T10:58:32.783Z"
   },
   {
    "duration": 0,
    "start_time": "2022-12-06T10:58:32.841Z"
   },
   {
    "duration": 0,
    "start_time": "2022-12-06T10:58:32.843Z"
   },
   {
    "duration": 0,
    "start_time": "2022-12-06T10:58:32.844Z"
   },
   {
    "duration": 411001,
    "start_time": "2022-12-06T10:59:24.676Z"
   },
   {
    "duration": 411467,
    "start_time": "2022-12-06T11:14:08.456Z"
   },
   {
    "duration": 13,
    "start_time": "2022-12-06T11:34:29.994Z"
   },
   {
    "duration": 11,
    "start_time": "2022-12-06T11:34:53.313Z"
   },
   {
    "duration": 5,
    "start_time": "2022-12-06T11:36:26.712Z"
   },
   {
    "duration": 17,
    "start_time": "2022-12-06T11:37:21.305Z"
   },
   {
    "duration": 16,
    "start_time": "2022-12-06T11:40:25.377Z"
   },
   {
    "duration": 23,
    "start_time": "2022-12-06T11:41:48.705Z"
   },
   {
    "duration": 15,
    "start_time": "2022-12-06T11:43:10.073Z"
   },
   {
    "duration": 1844,
    "start_time": "2022-12-07T06:57:13.020Z"
   },
   {
    "duration": 146,
    "start_time": "2022-12-07T06:57:14.867Z"
   },
   {
    "duration": 18,
    "start_time": "2022-12-07T06:57:15.015Z"
   },
   {
    "duration": 13,
    "start_time": "2022-12-07T06:57:15.036Z"
   },
   {
    "duration": 452,
    "start_time": "2022-12-07T06:57:15.052Z"
   },
   {
    "duration": 26,
    "start_time": "2022-12-07T06:57:15.506Z"
   },
   {
    "duration": 85,
    "start_time": "2022-12-07T06:57:15.534Z"
   },
   {
    "duration": 107,
    "start_time": "2022-12-07T06:57:15.620Z"
   },
   {
    "duration": 145,
    "start_time": "2022-12-07T06:57:15.730Z"
   },
   {
    "duration": 17387,
    "start_time": "2022-12-07T06:57:15.876Z"
   },
   {
    "duration": 428079,
    "start_time": "2022-12-07T06:57:33.266Z"
   },
   {
    "duration": 80,
    "start_time": "2022-12-07T07:04:41.346Z"
   },
   {
    "duration": 144,
    "start_time": "2022-12-07T07:04:41.427Z"
   },
   {
    "duration": 0,
    "start_time": "2022-12-07T07:04:41.572Z"
   },
   {
    "duration": 65,
    "start_time": "2022-12-07T11:03:00.004Z"
   },
   {
    "duration": 26,
    "start_time": "2022-12-07T11:03:13.076Z"
   },
   {
    "duration": 66,
    "start_time": "2022-12-07T11:03:18.585Z"
   },
   {
    "duration": 45,
    "start_time": "2022-12-07T11:06:47.015Z"
   },
   {
    "duration": 92,
    "start_time": "2022-12-07T11:06:56.823Z"
   },
   {
    "duration": 1453,
    "start_time": "2022-12-07T11:07:44.010Z"
   },
   {
    "duration": 39,
    "start_time": "2022-12-07T11:07:45.465Z"
   },
   {
    "duration": 14,
    "start_time": "2022-12-07T11:07:45.505Z"
   },
   {
    "duration": 7,
    "start_time": "2022-12-07T11:07:45.522Z"
   },
   {
    "duration": 369,
    "start_time": "2022-12-07T11:07:45.531Z"
   },
   {
    "duration": 24,
    "start_time": "2022-12-07T11:07:45.902Z"
   },
   {
    "duration": 94,
    "start_time": "2022-12-07T11:07:45.928Z"
   },
   {
    "duration": 97,
    "start_time": "2022-12-07T11:07:46.025Z"
   },
   {
    "duration": 70,
    "start_time": "2022-12-07T11:07:46.124Z"
   },
   {
    "duration": 3,
    "start_time": "2022-12-07T11:07:46.197Z"
   },
   {
    "duration": 11,
    "start_time": "2022-12-07T11:07:46.202Z"
   },
   {
    "duration": 77,
    "start_time": "2022-12-07T11:07:46.216Z"
   },
   {
    "duration": 89,
    "start_time": "2022-12-07T11:07:46.295Z"
   },
   {
    "duration": 135,
    "start_time": "2022-12-07T11:07:46.386Z"
   },
   {
    "duration": 0,
    "start_time": "2022-12-07T11:07:46.523Z"
   },
   {
    "duration": 46,
    "start_time": "2022-12-07T11:21:22.755Z"
   },
   {
    "duration": 65,
    "start_time": "2022-12-07T11:21:46.219Z"
   },
   {
    "duration": 65,
    "start_time": "2022-12-07T11:22:11.891Z"
   },
   {
    "duration": 86,
    "start_time": "2022-12-07T11:22:50.563Z"
   },
   {
    "duration": 84,
    "start_time": "2022-12-07T11:22:56.267Z"
   },
   {
    "duration": 76,
    "start_time": "2022-12-07T11:23:13.027Z"
   },
   {
    "duration": 89,
    "start_time": "2022-12-07T11:36:02.695Z"
   },
   {
    "duration": 17,
    "start_time": "2022-12-07T11:48:31.448Z"
   },
   {
    "duration": 16,
    "start_time": "2022-12-07T11:51:20.585Z"
   },
   {
    "duration": 17,
    "start_time": "2022-12-07T11:51:56.745Z"
   },
   {
    "duration": 12,
    "start_time": "2022-12-07T11:53:32.503Z"
   },
   {
    "duration": 12,
    "start_time": "2022-12-07T11:55:10.616Z"
   },
   {
    "duration": 12,
    "start_time": "2022-12-07T11:55:19.695Z"
   },
   {
    "duration": 55,
    "start_time": "2022-12-07T11:56:16.320Z"
   },
   {
    "duration": 19,
    "start_time": "2022-12-07T11:56:26.768Z"
   },
   {
    "duration": 12,
    "start_time": "2022-12-07T11:57:11.537Z"
   },
   {
    "duration": 12,
    "start_time": "2022-12-07T11:58:15.103Z"
   },
   {
    "duration": 9,
    "start_time": "2022-12-07T12:01:01.616Z"
   },
   {
    "duration": 6,
    "start_time": "2022-12-07T12:01:05.000Z"
   },
   {
    "duration": 76,
    "start_time": "2022-12-07T12:02:38.902Z"
   },
   {
    "duration": 77,
    "start_time": "2022-12-07T12:02:41.952Z"
   },
   {
    "duration": 75,
    "start_time": "2022-12-07T12:02:42.679Z"
   },
   {
    "duration": 76,
    "start_time": "2022-12-07T12:02:43.239Z"
   },
   {
    "duration": 75,
    "start_time": "2022-12-07T12:02:43.633Z"
   },
   {
    "duration": 77,
    "start_time": "2022-12-07T12:02:44.550Z"
   },
   {
    "duration": 77,
    "start_time": "2022-12-07T12:02:45.153Z"
   },
   {
    "duration": 91,
    "start_time": "2022-12-07T12:02:55.327Z"
   },
   {
    "duration": 12,
    "start_time": "2022-12-07T12:05:05.424Z"
   },
   {
    "duration": 11,
    "start_time": "2022-12-07T12:05:09.452Z"
   },
   {
    "duration": 1521,
    "start_time": "2022-12-07T12:06:29.421Z"
   },
   {
    "duration": 41,
    "start_time": "2022-12-07T12:06:30.944Z"
   },
   {
    "duration": 38,
    "start_time": "2022-12-07T12:06:30.987Z"
   },
   {
    "duration": 10,
    "start_time": "2022-12-07T12:06:31.029Z"
   },
   {
    "duration": 388,
    "start_time": "2022-12-07T12:06:31.041Z"
   },
   {
    "duration": 86,
    "start_time": "2022-12-07T12:06:31.431Z"
   },
   {
    "duration": 100,
    "start_time": "2022-12-07T12:06:31.518Z"
   },
   {
    "duration": 24,
    "start_time": "2022-12-07T12:06:31.620Z"
   },
   {
    "duration": 121,
    "start_time": "2022-12-07T12:06:31.646Z"
   },
   {
    "duration": 2,
    "start_time": "2022-12-07T12:06:31.770Z"
   },
   {
    "duration": 28,
    "start_time": "2022-12-07T12:06:31.774Z"
   },
   {
    "duration": 1,
    "start_time": "2022-12-07T12:06:31.803Z"
   },
   {
    "duration": 0,
    "start_time": "2022-12-07T12:06:31.805Z"
   },
   {
    "duration": 0,
    "start_time": "2022-12-07T12:06:31.806Z"
   },
   {
    "duration": 0,
    "start_time": "2022-12-07T12:06:31.807Z"
   },
   {
    "duration": 6,
    "start_time": "2022-12-07T12:07:12.356Z"
   },
   {
    "duration": 4,
    "start_time": "2022-12-07T12:09:05.962Z"
   },
   {
    "duration": 6,
    "start_time": "2022-12-07T12:09:09.309Z"
   },
   {
    "duration": 59,
    "start_time": "2022-12-07T12:09:09.317Z"
   },
   {
    "duration": 11,
    "start_time": "2022-12-07T12:09:09.378Z"
   },
   {
    "duration": 26,
    "start_time": "2022-12-07T12:09:09.391Z"
   },
   {
    "duration": 463,
    "start_time": "2022-12-07T12:09:09.419Z"
   },
   {
    "duration": 129,
    "start_time": "2022-12-07T12:09:09.884Z"
   },
   {
    "duration": 103,
    "start_time": "2022-12-07T12:09:10.015Z"
   },
   {
    "duration": 35,
    "start_time": "2022-12-07T12:09:10.119Z"
   },
   {
    "duration": 115,
    "start_time": "2022-12-07T12:09:10.156Z"
   },
   {
    "duration": 3,
    "start_time": "2022-12-07T12:09:10.274Z"
   },
   {
    "duration": 34,
    "start_time": "2022-12-07T12:09:10.278Z"
   },
   {
    "duration": 1,
    "start_time": "2022-12-07T12:09:10.314Z"
   },
   {
    "duration": 0,
    "start_time": "2022-12-07T12:09:10.316Z"
   },
   {
    "duration": 0,
    "start_time": "2022-12-07T12:09:10.317Z"
   },
   {
    "duration": 0,
    "start_time": "2022-12-07T12:09:10.319Z"
   },
   {
    "duration": 5,
    "start_time": "2022-12-07T12:10:17.921Z"
   },
   {
    "duration": 1513,
    "start_time": "2022-12-07T12:12:02.214Z"
   },
   {
    "duration": 39,
    "start_time": "2022-12-07T12:12:03.729Z"
   },
   {
    "duration": 14,
    "start_time": "2022-12-07T12:12:03.770Z"
   },
   {
    "duration": 7,
    "start_time": "2022-12-07T12:12:03.786Z"
   },
   {
    "duration": 388,
    "start_time": "2022-12-07T12:12:03.794Z"
   },
   {
    "duration": 39,
    "start_time": "2022-12-07T12:12:04.184Z"
   },
   {
    "duration": 100,
    "start_time": "2022-12-07T12:12:04.312Z"
   },
   {
    "duration": 11,
    "start_time": "2022-12-07T12:12:04.414Z"
   },
   {
    "duration": 93,
    "start_time": "2022-12-07T12:12:04.426Z"
   },
   {
    "duration": 2,
    "start_time": "2022-12-07T12:12:04.522Z"
   },
   {
    "duration": 1908,
    "start_time": "2022-12-07T14:49:50.264Z"
   },
   {
    "duration": 42,
    "start_time": "2022-12-07T14:49:52.173Z"
   },
   {
    "duration": 13,
    "start_time": "2022-12-07T14:49:52.216Z"
   },
   {
    "duration": 11,
    "start_time": "2022-12-07T14:49:52.230Z"
   },
   {
    "duration": 333,
    "start_time": "2022-12-07T14:49:52.243Z"
   },
   {
    "duration": 144,
    "start_time": "2022-12-07T14:49:52.577Z"
   },
   {
    "duration": 97,
    "start_time": "2022-12-07T14:49:52.725Z"
   },
   {
    "duration": 6,
    "start_time": "2022-12-07T14:49:52.825Z"
   },
   {
    "duration": 89,
    "start_time": "2022-12-07T14:49:52.833Z"
   },
   {
    "duration": 3,
    "start_time": "2022-12-07T14:49:52.924Z"
   },
   {
    "duration": 357434,
    "start_time": "2022-12-07T14:49:52.928Z"
   },
   {
    "duration": 75,
    "start_time": "2022-12-07T14:55:50.364Z"
   },
   {
    "duration": 64,
    "start_time": "2022-12-07T14:55:50.441Z"
   },
   {
    "duration": 20,
    "start_time": "2022-12-07T14:55:50.507Z"
   },
   {
    "duration": 6,
    "start_time": "2022-12-07T14:55:50.529Z"
   },
   {
    "duration": 53,
    "start_time": "2022-12-08T04:30:49.858Z"
   },
   {
    "duration": 1705,
    "start_time": "2022-12-08T04:44:58.967Z"
   },
   {
    "duration": 112,
    "start_time": "2022-12-08T04:45:00.674Z"
   },
   {
    "duration": 14,
    "start_time": "2022-12-08T04:45:00.787Z"
   },
   {
    "duration": 23,
    "start_time": "2022-12-08T04:45:00.803Z"
   },
   {
    "duration": 444,
    "start_time": "2022-12-08T04:45:00.828Z"
   },
   {
    "duration": 363,
    "start_time": "2022-12-08T04:45:01.273Z"
   },
   {
    "duration": 90,
    "start_time": "2022-12-08T04:45:01.638Z"
   },
   {
    "duration": 135,
    "start_time": "2022-12-08T04:45:01.734Z"
   },
   {
    "duration": 110,
    "start_time": "2022-12-08T04:45:01.870Z"
   },
   {
    "duration": 3,
    "start_time": "2022-12-08T04:45:01.982Z"
   },
   {
    "duration": 293817,
    "start_time": "2022-12-08T04:45:01.986Z"
   },
   {
    "duration": 101,
    "start_time": "2022-12-08T04:49:55.804Z"
   },
   {
    "duration": 82,
    "start_time": "2022-12-08T04:49:55.906Z"
   },
   {
    "duration": 11,
    "start_time": "2022-12-08T04:49:55.990Z"
   },
   {
    "duration": 38,
    "start_time": "2022-12-08T04:49:56.003Z"
   },
   {
    "duration": 1527,
    "start_time": "2022-12-08T11:39:27.042Z"
   },
   {
    "duration": 40,
    "start_time": "2022-12-08T11:39:28.572Z"
   },
   {
    "duration": 15,
    "start_time": "2022-12-08T11:39:28.615Z"
   },
   {
    "duration": 7,
    "start_time": "2022-12-08T11:39:28.632Z"
   },
   {
    "duration": 377,
    "start_time": "2022-12-08T11:39:28.641Z"
   },
   {
    "duration": 22,
    "start_time": "2022-12-08T11:39:29.022Z"
   },
   {
    "duration": 10,
    "start_time": "2022-12-08T11:39:29.123Z"
   },
   {
    "duration": 98,
    "start_time": "2022-12-08T11:39:29.136Z"
   },
   {
    "duration": 102,
    "start_time": "2022-12-08T11:39:29.236Z"
   },
   {
    "duration": 3,
    "start_time": "2022-12-08T11:39:29.340Z"
   },
   {
    "duration": 215633,
    "start_time": "2022-12-08T11:39:29.345Z"
   },
   {
    "duration": 3,
    "start_time": "2022-12-08T11:43:04.979Z"
   },
   {
    "duration": 8,
    "start_time": "2022-12-08T11:43:04.984Z"
   },
   {
    "duration": 105,
    "start_time": "2022-12-08T11:43:04.993Z"
   },
   {
    "duration": 153,
    "start_time": "2022-12-08T11:43:05.103Z"
   },
   {
    "duration": 0,
    "start_time": "2022-12-08T11:43:05.258Z"
   },
   {
    "duration": 9,
    "start_time": "2022-12-08T11:46:14.915Z"
   },
   {
    "duration": 102,
    "start_time": "2022-12-08T11:46:53.885Z"
   },
   {
    "duration": 105,
    "start_time": "2022-12-08T11:46:58.221Z"
   },
   {
    "duration": 110,
    "start_time": "2022-12-08T11:47:24.844Z"
   },
   {
    "duration": 104,
    "start_time": "2022-12-08T11:48:47.972Z"
   }
  ],
  "kernelspec": {
   "display_name": "Python 3 (ipykernel)",
   "language": "python",
   "name": "python3"
  },
  "language_info": {
   "codemirror_mode": {
    "name": "ipython",
    "version": 3
   },
   "file_extension": ".py",
   "mimetype": "text/x-python",
   "name": "python",
   "nbconvert_exporter": "python",
   "pygments_lexer": "ipython3",
   "version": "3.9.13"
  },
  "toc": {
   "base_numbering": 1,
   "nav_menu": {},
   "number_sections": true,
   "sideBar": true,
   "skip_h1_title": true,
   "title_cell": "Table of Contents",
   "title_sidebar": "Contents",
   "toc_cell": false,
   "toc_position": {},
   "toc_section_display": true,
   "toc_window_display": false
  }
 },
 "nbformat": 4,
 "nbformat_minor": 2
}
