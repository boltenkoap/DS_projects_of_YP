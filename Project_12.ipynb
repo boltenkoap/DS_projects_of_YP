{
 "cells": [
  {
   "cell_type": "markdown",
   "metadata": {
    "toc": true
   },
   "source": [
    "<h1>Содержание<span class=\"tocSkip\"></span></h1>\n",
    "</font></a></span></li></ul></li><li><span><a href=\"#Подготовка\" data-toc-modified-id=\"Подготовка-1\"><span class=\"toc-item-num\">1&nbsp;&nbsp;</span>Подготовка</a></span><ul class=\"toc-item\"><li><span><a href=\"#Вывод-по-предобработке-данных\" data-toc-modified-id=\"Вывод-по-предобработке-данных-1.1\"><span class=\"toc-item-num\">1.1&nbsp;&nbsp;</span>Вывод по предобработке данных</a></span></li></ul></li><li><span><a href=\"#Обучение\" data-toc-modified-id=\"Обучение-2\"><span class=\"toc-item-num\">2&nbsp;&nbsp;</span>Обучение</a></span><ul class=\"toc-item\"><li><span><a href=\"#Логистическая-регрессия\" data-toc-modified-id=\"Логистическая-регрессия-2.1\"><span class=\"toc-item-num\">2.1&nbsp;&nbsp;</span>Логистическая регрессия</a></span></li><li><span><a href=\"#Случайный-лес\" data-toc-modified-id=\"Случайный-лес-2.2\"><span class=\"toc-item-num\">2.2&nbsp;&nbsp;</span>Случайный лес</a></span></li><li><span><a href=\"#Модель-градиентного-бустинга---CatBoost\" data-toc-modified-id=\"Модель-градиентного-бустинга---CatBoost-2.3\"><span class=\"toc-item-num\">2.3&nbsp;&nbsp;</span>Модель градиентного бустинга - CatBoost</a></span></li><li><span><a href=\"#Вывод-по-этапу-обучения-моеделей\" data-toc-modified-id=\"Вывод-по-этапу-обучения-моеделей-2.4\"><span class=\"toc-item-num\">2.4&nbsp;&nbsp;</span>Вывод по этапу обучения моеделей</a></span></li></ul></li><li><span><a href=\"#Тестирование\" data-toc-modified-id=\"Тестирование-3\"><span class=\"toc-item-num\">3&nbsp;&nbsp;</span>Тестирование</a></span><ul class=\"toc-item\"><li><span><a href=\"#Тест-на-адекватность-моделей-(Создание-константной-модели)\" data-toc-modified-id=\"Тест-на-адекватность-моделей-(Создание-константной-модели)-3.1\"><span class=\"toc-item-num\">3.1&nbsp;&nbsp;</span>Тест на адекватность моделей (Создание константной модели)</a></span></li></ul></li><li><span><a href=\"#Выводы\" data-toc-modified-id=\"Выводы-4\"><span class=\"toc-item-num\">4&nbsp;&nbsp;</span>Выводы</a></span></li><li><span><a href=\"#Чек-лист-проверки\" data-toc-modified-id=\"Чек-лист-проверки-5\"><span class=\"toc-item-num\">5&nbsp;&nbsp;</span>Чек-лист проверки</a></span></li></ul></div>"
   ]
  },
  {
   "cell_type": "markdown",
   "metadata": {},
   "source": [
    "# Проект для «Викишоп»"
   ]
  },
  {
   "cell_type": "markdown",
   "metadata": {},
   "source": [
    "Интернет-магазин «Викишоп» запускает новый сервис. Теперь пользователи могут редактировать и дополнять описания товаров, как в вики-сообществах. То есть клиенты предлагают свои правки и комментируют изменения других. Магазину нужен инструмент, который будет искать токсичные комментарии и отправлять их на модерацию. \n",
    "\n",
    "Обучите модель классифицировать комментарии на позитивные и негативные. В вашем распоряжении набор данных с разметкой о токсичности правок.\n",
    "\n",
    "Постройте модель со значением метрики качества *F1* не меньше 0.75. \n",
    "\n",
    "**Инструкция по выполнению проекта**\n",
    "\n",
    "1. Загрузите и подготовьте данные.\n",
    "2. Обучите разные модели. \n",
    "3. Сделайте выводы.\n",
    "\n",
    "\n",
    "**Описание данных**\n",
    "\n",
    "Данные находятся в файле `toxic_comments.csv`. Столбец *text* в нём содержит текст комментария, а *toxic* — целевой признак."
   ]
  },
  {
   "cell_type": "markdown",
   "metadata": {},
   "source": [
    "## Подготовка"
   ]
  },
  {
   "cell_type": "code",
   "execution_count": 2,
   "metadata": {},
   "outputs": [],
   "source": [
    "import pandas as pd \n",
    "import numpy as np \n",
    "from tqdm import tqdm\n",
    "import nltk \n",
    "from nltk.stem import WordNetLemmatizer \n",
    "from nltk.corpus import stopwords \n",
    "from sklearn.feature_extraction.text import TfidfVectorizer \n",
    "import re \n",
    "%matplotlib inline\n",
    "import matplotlib.pyplot as plt \n",
    "import seaborn as sns \n",
    "from sklearn.model_selection import train_test_split, cross_val_score, GridSearchCV\n",
    "import catboost as cb\n",
    "from sklearn.linear_model import LogisticRegression\n",
    "from sklearn.metrics import f1_score\n",
    "from sklearn.ensemble import RandomForestClassifier\n",
    "import catboost as cb"
   ]
  },
  {
   "cell_type": "code",
   "execution_count": 3,
   "metadata": {},
   "outputs": [],
   "source": [
    "#Выгружаем данные\n",
    "try: \n",
    "    df = pd.read_csv('/datasets/toxic_comments.csv')\n",
    "except: \n",
    "    df = pd.read_csv('datasets/toxic_comments.csv')"
   ]
  },
  {
   "cell_type": "code",
   "execution_count": 4,
   "metadata": {},
   "outputs": [
    {
     "data": {
      "text/html": [
       "<div>\n",
       "<style scoped>\n",
       "    .dataframe tbody tr th:only-of-type {\n",
       "        vertical-align: middle;\n",
       "    }\n",
       "\n",
       "    .dataframe tbody tr th {\n",
       "        vertical-align: top;\n",
       "    }\n",
       "\n",
       "    .dataframe thead th {\n",
       "        text-align: right;\n",
       "    }\n",
       "</style>\n",
       "<table border=\"1\" class=\"dataframe\">\n",
       "  <thead>\n",
       "    <tr style=\"text-align: right;\">\n",
       "      <th></th>\n",
       "      <th>Unnamed: 0</th>\n",
       "      <th>text</th>\n",
       "      <th>toxic</th>\n",
       "    </tr>\n",
       "  </thead>\n",
       "  <tbody>\n",
       "    <tr>\n",
       "      <th>0</th>\n",
       "      <td>0</td>\n",
       "      <td>Explanation\\nWhy the edits made under my usern...</td>\n",
       "      <td>0</td>\n",
       "    </tr>\n",
       "    <tr>\n",
       "      <th>1</th>\n",
       "      <td>1</td>\n",
       "      <td>D'aww! He matches this background colour I'm s...</td>\n",
       "      <td>0</td>\n",
       "    </tr>\n",
       "    <tr>\n",
       "      <th>2</th>\n",
       "      <td>2</td>\n",
       "      <td>Hey man, I'm really not trying to edit war. It...</td>\n",
       "      <td>0</td>\n",
       "    </tr>\n",
       "    <tr>\n",
       "      <th>3</th>\n",
       "      <td>3</td>\n",
       "      <td>\"\\nMore\\nI can't make any real suggestions on ...</td>\n",
       "      <td>0</td>\n",
       "    </tr>\n",
       "    <tr>\n",
       "      <th>4</th>\n",
       "      <td>4</td>\n",
       "      <td>You, sir, are my hero. Any chance you remember...</td>\n",
       "      <td>0</td>\n",
       "    </tr>\n",
       "    <tr>\n",
       "      <th>5</th>\n",
       "      <td>5</td>\n",
       "      <td>\"\\n\\nCongratulations from me as well, use the ...</td>\n",
       "      <td>0</td>\n",
       "    </tr>\n",
       "    <tr>\n",
       "      <th>6</th>\n",
       "      <td>6</td>\n",
       "      <td>COCKSUCKER BEFORE YOU PISS AROUND ON MY WORK</td>\n",
       "      <td>1</td>\n",
       "    </tr>\n",
       "    <tr>\n",
       "      <th>7</th>\n",
       "      <td>7</td>\n",
       "      <td>Your vandalism to the Matt Shirvington article...</td>\n",
       "      <td>0</td>\n",
       "    </tr>\n",
       "    <tr>\n",
       "      <th>8</th>\n",
       "      <td>8</td>\n",
       "      <td>Sorry if the word 'nonsense' was offensive to ...</td>\n",
       "      <td>0</td>\n",
       "    </tr>\n",
       "    <tr>\n",
       "      <th>9</th>\n",
       "      <td>9</td>\n",
       "      <td>alignment on this subject and which are contra...</td>\n",
       "      <td>0</td>\n",
       "    </tr>\n",
       "  </tbody>\n",
       "</table>\n",
       "</div>"
      ],
      "text/plain": [
       "   Unnamed: 0                                               text  toxic\n",
       "0           0  Explanation\\nWhy the edits made under my usern...      0\n",
       "1           1  D'aww! He matches this background colour I'm s...      0\n",
       "2           2  Hey man, I'm really not trying to edit war. It...      0\n",
       "3           3  \"\\nMore\\nI can't make any real suggestions on ...      0\n",
       "4           4  You, sir, are my hero. Any chance you remember...      0\n",
       "5           5  \"\\n\\nCongratulations from me as well, use the ...      0\n",
       "6           6       COCKSUCKER BEFORE YOU PISS AROUND ON MY WORK      1\n",
       "7           7  Your vandalism to the Matt Shirvington article...      0\n",
       "8           8  Sorry if the word 'nonsense' was offensive to ...      0\n",
       "9           9  alignment on this subject and which are contra...      0"
      ]
     },
     "metadata": {},
     "output_type": "display_data"
    },
    {
     "name": "stdout",
     "output_type": "stream",
     "text": [
      "<class 'pandas.core.frame.DataFrame'>\n",
      "RangeIndex: 159292 entries, 0 to 159291\n",
      "Data columns (total 3 columns):\n",
      " #   Column      Non-Null Count   Dtype \n",
      "---  ------      --------------   ----- \n",
      " 0   Unnamed: 0  159292 non-null  int64 \n",
      " 1   text        159292 non-null  object\n",
      " 2   toxic       159292 non-null  int64 \n",
      "dtypes: int64(2), object(1)\n",
      "memory usage: 3.6+ MB\n"
     ]
    }
   ],
   "source": [
    "#Просмотрим данные\n",
    "display(df.head(10))\n",
    "df.info()"
   ]
  },
  {
   "cell_type": "code",
   "execution_count": 5,
   "metadata": {},
   "outputs": [
    {
     "name": "stdout",
     "output_type": "stream",
     "text": [
      "Explanation\n",
      "Why the edits made under my username Hardcore Metallica Fan were reverted? They weren't vandalisms, just closure on some GAs after I voted at New York Dolls FAC. And please don't remove the template from the talk page since I'm retired now.89.205.38.27\n"
     ]
    }
   ],
   "source": [
    "#Объявим корпус текстов\n",
    "corpus = df['text'].values\n",
    "print(corpus[0])"
   ]
  },
  {
   "cell_type": "code",
   "execution_count": 6,
   "metadata": {},
   "outputs": [],
   "source": [
    "#Объявим лемматизатор и функцию для очистки и лемматизации текстов \"clear_text\":\n",
    "wnl = WordNetLemmatizer()\n",
    "\n",
    "def clear_text(text):\n",
    "    pattern = re.sub(r'[^a-zA-Z]', ' ', text)\n",
    "    clear = pattern.split()\n",
    "    lemm = []\n",
    "    for i in range(len(clear)):\n",
    "        lemm.append(wnl.lemmatize(clear[i]))\n",
    "    return \" \".join(lemm)"
   ]
  },
  {
   "cell_type": "code",
   "execution_count": 7,
   "metadata": {},
   "outputs": [
    {
     "name": "stderr",
     "output_type": "stream",
     "text": [
      "100%|██████████| 159292/159292 [00:37<00:00, 4291.17it/s]\n"
     ]
    }
   ],
   "source": [
    "#В цикле применим функцию для очистки и лемматизации текстов \"clear_text\":\n",
    "for i in tqdm(range(len(corpus))):\n",
    "    corpus[i] = clear_text(corpus[i])"
   ]
  },
  {
   "cell_type": "code",
   "execution_count": 8,
   "metadata": {},
   "outputs": [
    {
     "data": {
      "text/html": [
       "<div>\n",
       "<style scoped>\n",
       "    .dataframe tbody tr th:only-of-type {\n",
       "        vertical-align: middle;\n",
       "    }\n",
       "\n",
       "    .dataframe tbody tr th {\n",
       "        vertical-align: top;\n",
       "    }\n",
       "\n",
       "    .dataframe thead th {\n",
       "        text-align: right;\n",
       "    }\n",
       "</style>\n",
       "<table border=\"1\" class=\"dataframe\">\n",
       "  <thead>\n",
       "    <tr style=\"text-align: right;\">\n",
       "      <th></th>\n",
       "      <th>Unnamed: 0</th>\n",
       "      <th>text</th>\n",
       "      <th>toxic</th>\n",
       "      <th>lemm_text</th>\n",
       "    </tr>\n",
       "  </thead>\n",
       "  <tbody>\n",
       "    <tr>\n",
       "      <th>0</th>\n",
       "      <td>0</td>\n",
       "      <td>Explanation Why the edits made under my userna...</td>\n",
       "      <td>0</td>\n",
       "      <td>Explanation Why the edits made under my userna...</td>\n",
       "    </tr>\n",
       "    <tr>\n",
       "      <th>1</th>\n",
       "      <td>1</td>\n",
       "      <td>D aww He match this background colour I m seem...</td>\n",
       "      <td>0</td>\n",
       "      <td>D aww He match this background colour I m seem...</td>\n",
       "    </tr>\n",
       "    <tr>\n",
       "      <th>2</th>\n",
       "      <td>2</td>\n",
       "      <td>Hey man I m really not trying to edit war It s...</td>\n",
       "      <td>0</td>\n",
       "      <td>Hey man I m really not trying to edit war It s...</td>\n",
       "    </tr>\n",
       "    <tr>\n",
       "      <th>3</th>\n",
       "      <td>3</td>\n",
       "      <td>More I can t make any real suggestion on impro...</td>\n",
       "      <td>0</td>\n",
       "      <td>More I can t make any real suggestion on impro...</td>\n",
       "    </tr>\n",
       "    <tr>\n",
       "      <th>4</th>\n",
       "      <td>4</td>\n",
       "      <td>You sir are my hero Any chance you remember wh...</td>\n",
       "      <td>0</td>\n",
       "      <td>You sir are my hero Any chance you remember wh...</td>\n",
       "    </tr>\n",
       "    <tr>\n",
       "      <th>5</th>\n",
       "      <td>5</td>\n",
       "      <td>Congratulations from me a well use the tool we...</td>\n",
       "      <td>0</td>\n",
       "      <td>Congratulations from me a well use the tool we...</td>\n",
       "    </tr>\n",
       "    <tr>\n",
       "      <th>6</th>\n",
       "      <td>6</td>\n",
       "      <td>COCKSUCKER BEFORE YOU PISS AROUND ON MY WORK</td>\n",
       "      <td>1</td>\n",
       "      <td>COCKSUCKER BEFORE YOU PISS AROUND ON MY WORK</td>\n",
       "    </tr>\n",
       "    <tr>\n",
       "      <th>7</th>\n",
       "      <td>7</td>\n",
       "      <td>Your vandalism to the Matt Shirvington article...</td>\n",
       "      <td>0</td>\n",
       "      <td>Your vandalism to the Matt Shirvington article...</td>\n",
       "    </tr>\n",
       "    <tr>\n",
       "      <th>8</th>\n",
       "      <td>8</td>\n",
       "      <td>Sorry if the word nonsense wa offensive to you...</td>\n",
       "      <td>0</td>\n",
       "      <td>Sorry if the word nonsense wa offensive to you...</td>\n",
       "    </tr>\n",
       "    <tr>\n",
       "      <th>9</th>\n",
       "      <td>9</td>\n",
       "      <td>alignment on this subject and which are contra...</td>\n",
       "      <td>0</td>\n",
       "      <td>alignment on this subject and which are contra...</td>\n",
       "    </tr>\n",
       "  </tbody>\n",
       "</table>\n",
       "</div>"
      ],
      "text/plain": [
       "   Unnamed: 0                                               text  toxic  \\\n",
       "0           0  Explanation Why the edits made under my userna...      0   \n",
       "1           1  D aww He match this background colour I m seem...      0   \n",
       "2           2  Hey man I m really not trying to edit war It s...      0   \n",
       "3           3  More I can t make any real suggestion on impro...      0   \n",
       "4           4  You sir are my hero Any chance you remember wh...      0   \n",
       "5           5  Congratulations from me a well use the tool we...      0   \n",
       "6           6       COCKSUCKER BEFORE YOU PISS AROUND ON MY WORK      1   \n",
       "7           7  Your vandalism to the Matt Shirvington article...      0   \n",
       "8           8  Sorry if the word nonsense wa offensive to you...      0   \n",
       "9           9  alignment on this subject and which are contra...      0   \n",
       "\n",
       "                                           lemm_text  \n",
       "0  Explanation Why the edits made under my userna...  \n",
       "1  D aww He match this background colour I m seem...  \n",
       "2  Hey man I m really not trying to edit war It s...  \n",
       "3  More I can t make any real suggestion on impro...  \n",
       "4  You sir are my hero Any chance you remember wh...  \n",
       "5  Congratulations from me a well use the tool we...  \n",
       "6       COCKSUCKER BEFORE YOU PISS AROUND ON MY WORK  \n",
       "7  Your vandalism to the Matt Shirvington article...  \n",
       "8  Sorry if the word nonsense wa offensive to you...  \n",
       "9  alignment on this subject and which are contra...  "
      ]
     },
     "metadata": {},
     "output_type": "display_data"
    },
    {
     "name": "stdout",
     "output_type": "stream",
     "text": [
      "<class 'pandas.core.frame.DataFrame'>\n",
      "RangeIndex: 159292 entries, 0 to 159291\n",
      "Data columns (total 4 columns):\n",
      " #   Column      Non-Null Count   Dtype \n",
      "---  ------      --------------   ----- \n",
      " 0   Unnamed: 0  159292 non-null  int64 \n",
      " 1   text        159292 non-null  object\n",
      " 2   toxic       159292 non-null  int64 \n",
      " 3   lemm_text   159292 non-null  object\n",
      "dtypes: int64(2), object(2)\n",
      "memory usage: 4.9+ MB\n"
     ]
    }
   ],
   "source": [
    "#Объединим датасет и корпус:\n",
    "df_corpus = pd.DataFrame(corpus)\n",
    "df['lemm_text'] = df_corpus[0]\n",
    "display(df.head(10))\n",
    "df.info()"
   ]
  },
  {
   "cell_type": "code",
   "execution_count": 9,
   "metadata": {},
   "outputs": [
    {
     "name": "stdout",
     "output_type": "stream",
     "text": [
      "0    143106\n",
      "1     16186\n",
      "Name: toxic, dtype: int64\n"
     ]
    },
    {
     "data": {
      "text/plain": [
       "<AxesSubplot:xlabel='toxic', ylabel='count'>"
      ]
     },
     "execution_count": 9,
     "metadata": {},
     "output_type": "execute_result"
    },
    {
     "data": {
      "image/png": "[encoded data removed]",
      "text/plain": [
       "<Figure size 1080x432 with 1 Axes>"
      ]
     },
     "metadata": {
      "needs_background": "light"
     },
     "output_type": "display_data"
    }
   ],
   "source": [
    "#Определим количество объектов мажорного и минорного классов и для наглядности строим график:\n",
    "print(df['toxic'].value_counts())\n",
    "zeroes = df['toxic'].value_counts()[0]\n",
    "ones = df['toxic'].value_counts()[1]\n",
    "\n",
    "plt.figure(figsize=(15, 6))\n",
    "sns.countplot(x='toxic', data=df)"
   ]
  },
  {
   "cell_type": "code",
   "execution_count": 10,
   "metadata": {},
   "outputs": [],
   "source": [
    "#Определяем признаки и целевой признак, разделяем датасет на тренировочную и тестовую выборки:\n",
    "features = df['lemm_text']\n",
    "target = df['toxic']\n",
    "\n",
    "features_train_1, features_test_1, target_train, target_test = train_test_split(\n",
    "    features, target, test_size=0.25, random_state=42, stratify = target)"
   ]
  },
  {
   "cell_type": "code",
   "execution_count": 11,
   "metadata": {},
   "outputs": [
    {
     "name": "stderr",
     "output_type": "stream",
     "text": [
      "[nltk_data] Downloading package stopwords to /home/jovyan/nltk_data...\n",
      "[nltk_data]   Package stopwords is already up-to-date!\n"
     ]
    }
   ],
   "source": [
    "#Сделаем стоп-слова и векторизацию текста:\n",
    "try:\n",
    "    nltk.download('stopwords')\n",
    "except:\n",
    "    pass\n",
    "#Объявляю набор стоп-слов \n",
    "try:\n",
    "    stopwords = set(stopwords.words('english'))\n",
    "except:\n",
    "    pass\n",
    "#Объявляю TFIDF-векторизатор\n",
    "count_tf_idf = TfidfVectorizer(stop_words=stopwords) \n",
    "#Выполняю векторизацию текстов\n",
    "features_train = count_tf_idf.fit_transform(features_train_1)\n",
    "features_test = count_tf_idf.transform(features_test_1)"
   ]
  },
  {
   "cell_type": "code",
   "execution_count": 12,
   "metadata": {},
   "outputs": [
    {
     "name": "stdout",
     "output_type": "stream",
     "text": [
      "(119469, 138262)\n",
      "(39823, 138262)\n",
      "(119469,)\n",
      "(39823,)\n"
     ]
    }
   ],
   "source": [
    "#Оцениваем результаты:\n",
    "print(features_train.shape)\n",
    "print(features_test.shape)\n",
    "print(target_train.shape)\n",
    "print(target_test.shape)"
   ]
  },
  {
   "cell_type": "markdown",
   "metadata": {},
   "source": [
    "**Отдельно слелаем набор фичей и таргетов для обучения CatBoost с меньшим количеством**"
   ]
  },
  {
   "cell_type": "code",
   "execution_count": 13,
   "metadata": {},
   "outputs": [],
   "source": [
    "features_train_cb = features_train_1[:900]\n",
    "features_test_cb = features_test_1[:300]\n",
    "target_train_cb = target_train[:900]\n",
    "target_test_cb = target_test[:300]"
   ]
  },
  {
   "cell_type": "code",
   "execution_count": 14,
   "metadata": {},
   "outputs": [
    {
     "name": "stderr",
     "output_type": "stream",
     "text": [
      "[nltk_data] Downloading package stopwords to /home/jovyan/nltk_data...\n",
      "[nltk_data]   Package stopwords is already up-to-date!\n"
     ]
    }
   ],
   "source": [
    "try:\n",
    "    nltk.download('stopwords')\n",
    "except:\n",
    "    pass\n",
    "#Объявляю набор стоп-слов \n",
    "try:\n",
    "    stopwords = set(stopwords.words('english'))\n",
    "except:\n",
    "    pass\n",
    "#Объявляю TFIDF-векторизатор\n",
    "count_tf_idf = TfidfVectorizer(stop_words=stopwords) \n",
    "#Выполняю векторизацию текстов\n",
    "features_train_cb = count_tf_idf.fit_transform(features_train_cb)\n",
    "features_test_cb = count_tf_idf.transform(features_test_cb)"
   ]
  },
  {
   "cell_type": "code",
   "execution_count": 15,
   "metadata": {},
   "outputs": [
    {
     "name": "stdout",
     "output_type": "stream",
     "text": [
      "(900, 7417)\n",
      "(300, 7417)\n",
      "(900,)\n",
      "(300,)\n"
     ]
    }
   ],
   "source": [
    "print(features_train_cb.shape)\n",
    "print(features_test_cb.shape)\n",
    "print(target_train_cb.shape)\n",
    "print(target_test_cb.shape)"
   ]
  },
  {
   "cell_type": "markdown",
   "metadata": {},
   "source": [
    "### Вывод по предобработке данных\n",
    "На первом этапе произведена загрузка данных и их подготовка для обучения моделей. Для анализа данных и построения модели предоставлен датасет с размеченными данными, содержащий комментарии пользователей к товарам, доступным для приобретения в интернет-магазине «Викишоп». Датасет состоит из 2 столбцов с данными и 159571 строк. Исходный датасет состоит из следующих столбцов:\n",
    "\n",
    "* *text* — текст комментария;\n",
    "\n",
    "* *toxic* — является ли комментарий токсичным (1) или нет (0)\n",
    "\n",
    "* Пропуски в данных отсутствуют.\n",
    "\n",
    "После открытия датасета и ознакомления с общей информацией объявлен корпус текстов. Затем тексты были очищены и лемматизированы. Проверка соотношения классов показала, что в датасете имеет место явный дисбаланс. Мажорный класс составляет лишь 10% от всего датасета. Следовательно этот аспект необходимо будет учесть в дальнейшем при обучении моделей. Для векторизации текстов был использован TfidfVectorizer(). После векторизации датасет образовал матрицу размером 159571 строк на 164272 столбцов.\n",
    "\n",
    "В итоге полученный датасет разделен на обучающую и тестовые выборки в соотношении 4:1. Можно приступать к обучению моделей."
   ]
  },
  {
   "cell_type": "markdown",
   "metadata": {},
   "source": [
    "## Обучение"
   ]
  },
  {
   "cell_type": "markdown",
   "metadata": {},
   "source": [
    "*В качестве моделей будем использовать Логистическую регрессию, Случайный лес и CatBoost классификатор.*"
   ]
  },
  {
   "cell_type": "markdown",
   "metadata": {},
   "source": [
    "### Логистическая регрессия"
   ]
  },
  {
   "cell_type": "code",
   "execution_count": 21,
   "metadata": {},
   "outputs": [
    {
     "name": "stdout",
     "output_type": "stream",
     "text": [
      "Среднее качество модели Логистической регрессии на кросс-валидации: 0.7481180673684099\n",
      "CPU times: user 51.3 s, sys: 1min 29s, total: 2min 20s\n",
      "Wall time: 2min 21s\n"
     ]
    }
   ],
   "source": [
    "%%time\n",
    "#Обучаю и проверяю Логистическую регрессию на кросс-валидации, указываю параметр class_weight = 'balanced'\n",
    "regression = LogisticRegression(fit_intercept=True, \n",
    "                                class_weight='balanced', \n",
    "                                random_state=42,\n",
    "                                solver='liblinear'\n",
    "                               )\n",
    "#Определяю словарь с набором параметров\n",
    "regression_parametrs = {'C': [0.1, 1, 10]}\n",
    "\n",
    "#Применяю GridSearchCV с кросс-валидацией\n",
    "regression_grid = GridSearchCV(regression, regression_parametrs, scoring='f1', cv=3)\n",
    "regression_grid.fit(features_train, target_train)\n",
    "\n",
    "regression.fit(features_train, target_train)\n",
    "regression_cv_score = cross_val_score(regression,features_train, target_train,scoring='f1',cv=3).mean()\n",
    "print('Среднее качество модели Логистической регрессии на кросс-валидации:', regression_cv_score)"
   ]
  },
  {
   "cell_type": "code",
   "execution_count": 22,
   "metadata": {},
   "outputs": [
    {
     "name": "stdout",
     "output_type": "stream",
     "text": [
      "{'C': 10}\n",
      "0.9181897632708895\n",
      "_______________\n",
      "CPU times: user 40.4 ms, sys: 2.09 ms, total: 42.5 ms\n",
      "Wall time: 41 ms\n"
     ]
    }
   ],
   "source": [
    "%%time\n",
    "#Определяем оптимальные гиперпараметры и качество модели на кросс-валидации:\n",
    "regression_params = regression_grid.best_params_\n",
    "regression_score = regression_grid.score(features_train, target_train)\n",
    "print(regression_params)\n",
    "print(regression_score)\n",
    "print('_______________')"
   ]
  },
  {
   "cell_type": "markdown",
   "metadata": {},
   "source": [
    "### Случайный лес"
   ]
  },
  {
   "cell_type": "code",
   "execution_count": 20,
   "metadata": {},
   "outputs": [
    {
     "name": "stdout",
     "output_type": "stream",
     "text": [
      "CPU times: user 3min 20s, sys: 5.09 s, total: 3min 25s\n",
      "Wall time: 3min 26s\n"
     ]
    },
    {
     "data": {
      "text/plain": [
       "GridSearchCV(cv=3,\n",
       "             estimator=RandomForestClassifier(class_weight='balanced',\n",
       "                                              n_jobs=-1),\n",
       "             param_grid={'max_depth': range(4, 8, 2),\n",
       "                         'min_samples_leaf': range(3, 5),\n",
       "                         'min_samples_split': range(2, 6, 2),\n",
       "                         'n_estimators': range(20, 40, 5)},\n",
       "             scoring='f1')"
      ]
     },
     "execution_count": 20,
     "metadata": {},
     "output_type": "execute_result"
    }
   ],
   "source": [
    "%%time\n",
    "#Подбираю оптимальные гиперпараметры для Случайного леса на кросс-валидации, указываю параметр class_weight = 'balanced'\n",
    "forest = RandomForestClassifier(class_weight='balanced', n_jobs=-1 )\n",
    "#Определяю словарь с набором параметров\n",
    "forest_parametrs = { 'n_estimators': range(20, 40, 5),\n",
    "                     'max_depth': range(4, 8, 2),\n",
    "                     'min_samples_leaf': range(3,5),\n",
    "                     'min_samples_split': range(2,6,2)}\n",
    "\n",
    "#Применяю GridSearchCV с кросс-валидацией\n",
    "forest_grid = GridSearchCV(forest, forest_parametrs, scoring='f1', cv=3)\n",
    "forest_grid.fit(features_train, target_train)"
   ]
  },
  {
   "cell_type": "code",
   "execution_count": 22,
   "metadata": {},
   "outputs": [
    {
     "name": "stdout",
     "output_type": "stream",
     "text": [
      "{'max_depth': 6, 'min_samples_leaf': 4, 'min_samples_split': 4, 'n_estimators': 35}\n",
      "0.29996352228788215\n",
      "_______________\n",
      "CPU times: user 687 ms, sys: 14.2 ms, total: 701 ms\n",
      "Wall time: 700 ms\n"
     ]
    }
   ],
   "source": [
    "%%time\n",
    "#Определяем оптимальные гиперпараметры и качество модели на кросс-валидации:\n",
    "forest_params = forest_grid.best_params_\n",
    "forest_score = forest_grid.score(features_train, target_train)\n",
    "print(forest_params)\n",
    "print(forest_score)\n",
    "print('_______________')"
   ]
  },
  {
   "cell_type": "code",
   "execution_count": 24,
   "metadata": {},
   "outputs": [
    {
     "name": "stdout",
     "output_type": "stream",
     "text": [
      "CPU times: user 696 ms, sys: 14.7 ms, total: 711 ms\n",
      "Wall time: 710 ms\n"
     ]
    },
    {
     "data": {
      "text/plain": [
       "RandomForestClassifier(class_weight='balanced', max_depth=6, min_samples_leaf=4,\n",
       "                       min_samples_split=4, n_estimators=35, n_jobs=-1,\n",
       "                       random_state=42)"
      ]
     },
     "execution_count": 24,
     "metadata": {},
     "output_type": "execute_result"
    }
   ],
   "source": [
    "%%time\n",
    "#Обучаем модель Случайного леса на оптимальных гиперпараметрах:\n",
    "\n",
    "forest_model = RandomForestClassifier(random_state=42, n_jobs=-1, class_weight='balanced',\n",
    "                                     max_depth=forest_params['max_depth'],\n",
    "                                     min_samples_leaf = forest_params['min_samples_leaf'],\n",
    "                                     min_samples_split = forest_params['min_samples_split'],\n",
    "                                     n_estimators = forest_params['n_estimators'])\n",
    "\n",
    "forest_model.fit(features_train, target_train)"
   ]
  },
  {
   "cell_type": "markdown",
   "metadata": {},
   "source": [
    "### Модель градиентного бустинга - CatBoost"
   ]
  },
  {
   "cell_type": "code",
   "execution_count": 16,
   "metadata": {},
   "outputs": [
    {
     "name": "stdout",
     "output_type": "stream",
     "text": [
      "Learning rate set to 0.206388\n",
      "0:\tlearn: 0.6850913\ttotal: 60ms\tremaining: 1.74s\n",
      "10:\tlearn: 0.5262648\ttotal: 168ms\tremaining: 290ms\n",
      "20:\tlearn: 0.4494319\ttotal: 280ms\tremaining: 120ms\n",
      "29:\tlearn: 0.3847356\ttotal: 377ms\tremaining: 0us\n",
      "Learning rate set to 0.206388\n",
      "0:\tlearn: 0.6492229\ttotal: 14.4ms\tremaining: 419ms\n",
      "10:\tlearn: 0.5347738\ttotal: 133ms\tremaining: 230ms\n",
      "20:\tlearn: 0.4725138\ttotal: 264ms\tremaining: 113ms\n",
      "29:\tlearn: 0.3940579\ttotal: 371ms\tremaining: 0us\n",
      "Learning rate set to 0.206388\n",
      "0:\tlearn: 0.6815340\ttotal: 14.1ms\tremaining: 410ms\n",
      "10:\tlearn: 0.5453773\ttotal: 133ms\tremaining: 229ms\n",
      "20:\tlearn: 0.4835644\ttotal: 252ms\tremaining: 108ms\n",
      "29:\tlearn: 0.4307988\ttotal: 362ms\tremaining: 0us\n",
      "Learning rate set to 0.206388\n",
      "0:\tlearn: 0.6543050\ttotal: 96.9ms\tremaining: 2.81s\n",
      "10:\tlearn: 0.4535442\ttotal: 744ms\tremaining: 1.28s\n",
      "20:\tlearn: 0.3813252\ttotal: 1.39s\tremaining: 596ms\n",
      "29:\tlearn: 0.3046501\ttotal: 1.98s\tremaining: 0us\n",
      "Learning rate set to 0.206388\n",
      "0:\tlearn: 0.6381994\ttotal: 111ms\tremaining: 3.21s\n",
      "10:\tlearn: 0.4907868\ttotal: 780ms\tremaining: 1.35s\n",
      "20:\tlearn: 0.4000006\ttotal: 1.5s\tremaining: 644ms\n",
      "29:\tlearn: 0.3263469\ttotal: 2.17s\tremaining: 0us\n",
      "Learning rate set to 0.206388\n",
      "0:\tlearn: 0.6617134\ttotal: 98.3ms\tremaining: 2.85s\n",
      "10:\tlearn: 0.4624808\ttotal: 830ms\tremaining: 1.43s\n",
      "20:\tlearn: 0.3842544\ttotal: 1.51s\tremaining: 647ms\n",
      "29:\tlearn: 0.3201756\ttotal: 2.13s\tremaining: 0us\n",
      "Learning rate set to 0.2454\n",
      "0:\tlearn: 0.6600524\ttotal: 142ms\tremaining: 4.12s\n",
      "10:\tlearn: 0.4936890\ttotal: 1.12s\tremaining: 1.94s\n",
      "20:\tlearn: 0.4079751\ttotal: 2.08s\tremaining: 893ms\n",
      "29:\tlearn: 0.3158101\ttotal: 2.97s\tremaining: 0us\n",
      "CPU times: user 10.7 s, sys: 172 ms, total: 10.9 s\n",
      "Wall time: 13.8 s\n"
     ]
    },
    {
     "data": {
      "text/plain": [
       "GridSearchCV(cv=3,\n",
       "             estimator=<catboost.core.CatBoostClassifier object at 0x7f6535009670>,\n",
       "             param_grid={'depth': [4, 8]}, scoring='f1')"
      ]
     },
     "execution_count": 16,
     "metadata": {},
     "output_type": "execute_result"
    }
   ],
   "source": [
    "%%time\n",
    "\n",
    "#Объявляю модель с учетом дисбаланса классов\n",
    "cb = cb.CatBoostClassifier(class_weights=[1, zeroes/ones], iterations=30)\n",
    "#Определяю словарь с набором параметров\n",
    "cb_parametrs = {'depth': [4, 8]}\n",
    "\n",
    "cb_grid = GridSearchCV(cb, cb_parametrs, scoring='f1', cv=3)\n",
    "cb_grid.fit(features_train_cb, target_train_cb, verbose=10)"
   ]
  },
  {
   "cell_type": "code",
   "execution_count": 17,
   "metadata": {},
   "outputs": [
    {
     "name": "stdout",
     "output_type": "stream",
     "text": [
      "{'depth': 8}\n",
      "0.8316831683168318\n",
      "_______________\n",
      "CPU times: user 12.5 ms, sys: 3.97 ms, total: 16.5 ms\n",
      "Wall time: 14.8 ms\n"
     ]
    }
   ],
   "source": [
    "%%time\n",
    "#Определяем оптимальные гиперпараметры и качество модели на кросс-валидации:\n",
    "\n",
    "cb_params = cb_grid.best_params_\n",
    "cb_score = cb_grid.score(features_train_cb, target_train_cb)\n",
    "print(cb_params)\n",
    "print(cb_score)\n",
    "print('_______________')"
   ]
  },
  {
   "cell_type": "code",
   "execution_count": 18,
   "metadata": {},
   "outputs": [
    {
     "name": "stdout",
     "output_type": "stream",
     "text": [
      "Learning rate set to 0.153617\n",
      "0:\tlearn: 0.6706149\ttotal: 145ms\tremaining: 7.09s\n",
      "10:\tlearn: 0.5379942\ttotal: 1.1s\tremaining: 3.9s\n",
      "20:\tlearn: 0.4592597\ttotal: 2.06s\tremaining: 2.84s\n",
      "30:\tlearn: 0.3959669\ttotal: 3.01s\tremaining: 1.85s\n",
      "40:\tlearn: 0.3454275\ttotal: 3.98s\tremaining: 873ms\n",
      "49:\tlearn: 0.2925621\ttotal: 4.88s\tremaining: 0us\n",
      "CPU times: user 4.92 s, sys: 56.4 ms, total: 4.97 s\n",
      "Wall time: 5.34 s\n"
     ]
    },
    {
     "data": {
      "text/plain": [
       "<catboost.core.CatBoostClassifier at 0x7f652cf43c10>"
      ]
     },
     "execution_count": 18,
     "metadata": {},
     "output_type": "execute_result"
    }
   ],
   "source": [
    "%%time\n",
    "#Обучаем модель на оптимальных гиперпараметрах\n",
    "\n",
    "cb_model = cb.CatBoostClassifier(class_weights=[1, zeroes/ones], depth=cb_params['depth'], iterations=50)\n",
    "cb_model.fit(features_train_cb, target_train_cb, verbose=10)"
   ]
  },
  {
   "cell_type": "markdown",
   "metadata": {},
   "source": [
    "### Вывод по этапу обучения моеделей\n",
    "\n",
    "Для тестирования модели нам необходимо выбрать на этапе обучения лучшую модель, обученную с лучшими гиперпараметрами. Такой моделью в нашем исследовании является модель градиентного бустинга - CatBoost, однако в виду того, что работа с ней постоянно крашит ядро, а также её неадекватного поведения на тестовой выборке, лучше взять модель линейной регрессии, она тоже имеет качество выше 0,75 что удовлетворяет требованию задания."
   ]
  },
  {
   "cell_type": "markdown",
   "metadata": {},
   "source": [
    "## Тестирование"
   ]
  },
  {
   "cell_type": "markdown",
   "metadata": {},
   "source": [
    "### Тест на адекватность моделей (Создание константной модели)"
   ]
  },
  {
   "cell_type": "code",
   "execution_count": 38,
   "metadata": {},
   "outputs": [
    {
     "name": "stdout",
     "output_type": "stream",
     "text": [
      "0.18445827349609065\n"
     ]
    }
   ],
   "source": [
    "#Для надлежащей проверки моделей на адекватность создадим константную модель, данные константной модели будут набором единиц.\n",
    "const_model = [1 for i in range(len(target_test))]\n",
    "const_f1 = f1_score(target_test.reset_index(drop=True), const_model)\n",
    "print(const_f1)"
   ]
  },
  {
   "cell_type": "code",
   "execution_count": 23,
   "metadata": {},
   "outputs": [
    {
     "name": "stdout",
     "output_type": "stream",
     "text": [
      "CPU times: user 9.34 s, sys: 15.7 s, total: 25 s\n",
      "Wall time: 25 s\n"
     ]
    }
   ],
   "source": [
    "%%time\n",
    "\n",
    "regression_model = LogisticRegression(fit_intercept=True,\n",
    "                                class_weight='balanced',\n",
    "                                random_state=42,\n",
    "                                solver='liblinear',\n",
    "                                C=regression_params['C']\n",
    "                               )\n",
    "\n",
    "regression_model.fit(features_train, target_train)\n",
    "regression_model_predictions = regression_model.predict(features_test)"
   ]
  },
  {
   "cell_type": "code",
   "execution_count": 24,
   "metadata": {},
   "outputs": [
    {
     "name": "stdout",
     "output_type": "stream",
     "text": [
      "0.762\n"
     ]
    }
   ],
   "source": [
    "regression_predictions = regression_model.predict(features_test)\n",
    "regression_f1 = round(f1_score(target_test, regression_predictions), 3) \n",
    "print(regression_f1)"
   ]
  },
  {
   "cell_type": "markdown",
   "metadata": {},
   "source": [
    "## Выводы"
   ]
  },
  {
   "cell_type": "markdown",
   "metadata": {},
   "source": [
    "На первом этапе произведена загрузка данных и их подготовка для обучения моделей. \n",
    "Для анализа данных и построения модели предоставлен датасет с размеченными данными, содержащий комментарии пользователей к товарам, доступным для приобретения в интернет-магазине «Викишоп». Датасет состоит из 2 столбцов с данными и 159571 строк. \n",
    "Затем тексты комментариев были очищены и лемматизированы. \n",
    "Проверка соотношения классов показала, что в датасете имеет место явный дисбаланс. Мажорный класс составляет лишь 10% от всего датасета. \n",
    "После векторизации датасет образовал матрицу размером 159571 строк на 164272 столбцов. В итоге полученный датасет разделен на обучающую и тестовые выборки в соотношении 4:1.\n",
    "\n",
    "В качестве моделей использованы Логистическая регрессия, Случайный лес и CatBoost классификатор. \n",
    "По результатам подбора гиперпараметров и обучения моделей наилучший результат показал CatBoost классификатор (однако, он не был выбран для тестирования, об этом подробнее ниже), наихудший - Случайный лес. \n",
    "\n",
    "Все выбранные модели прошли проверку на адекватность в сравнении с константной моделью. Стоит отметить, что CatBoost классификатор выполняет расчеты в десятки раз дольше, нежели Логистическая регрессия, полученное при этом значение метрики f1 ниже, чем у Логистической регрессии, возможно при увеличении количества итераций мы получим результат, который будет стремиться к логистической регрессии и может быть f1-метрика будет даже больше, но и количество времени на обучение в виду этого будет затрачено колоссальное.\n",
    "\n",
    "В связи с этим модели Логистическая регрессия и CatBoost классификатор подходят для решения поставленной задачи. Однако, для экономии времени и вычислителной мощности Логистическая регрессия является оптимальным решением для данной задачи.    "
   ]
  }
 ],
 "metadata": {
  "ExecuteTimeLog": [
   {
    "duration": 1670,
    "start_time": "2023-03-17T08:22:42.761Z"
   },
   {
    "duration": 3769,
    "start_time": "2023-03-17T08:23:18.965Z"
   },
   {
    "duration": 34,
    "start_time": "2023-03-17T08:23:37.099Z"
   },
   {
    "duration": 3,
    "start_time": "2023-03-17T08:23:49.812Z"
   },
   {
    "duration": 47,
    "start_time": "2023-03-17T08:24:07.527Z"
   },
   {
    "duration": 1485,
    "start_time": "2023-03-17T08:24:11.479Z"
   },
   {
    "duration": 3826,
    "start_time": "2023-03-17T08:24:12.965Z"
   },
   {
    "duration": 33,
    "start_time": "2023-03-17T08:24:16.793Z"
   },
   {
    "duration": 49,
    "start_time": "2023-03-17T08:24:33.559Z"
   },
   {
    "duration": 1511,
    "start_time": "2023-03-17T08:24:37.534Z"
   },
   {
    "duration": 3784,
    "start_time": "2023-03-17T08:24:39.136Z"
   },
   {
    "duration": 34,
    "start_time": "2023-03-17T08:24:42.922Z"
   },
   {
    "duration": 2,
    "start_time": "2023-03-17T08:24:46.219Z"
   },
   {
    "duration": 5,
    "start_time": "2023-03-17T08:25:16.272Z"
   },
   {
    "duration": 38259,
    "start_time": "2023-03-17T08:25:30.632Z"
   },
   {
    "duration": 48,
    "start_time": "2023-03-17T08:26:48.974Z"
   },
   {
    "duration": 146,
    "start_time": "2023-03-17T08:27:04.834Z"
   },
   {
    "duration": 51,
    "start_time": "2023-03-17T08:27:21.213Z"
   },
   {
    "duration": 6533,
    "start_time": "2023-03-17T08:27:33.804Z"
   },
   {
    "duration": 2,
    "start_time": "2023-03-17T08:28:02.958Z"
   },
   {
    "duration": 4,
    "start_time": "2023-03-17T08:28:09.375Z"
   },
   {
    "duration": 3,
    "start_time": "2023-03-17T08:28:51.074Z"
   },
   {
    "duration": 68,
    "start_time": "2023-03-17T08:29:00.201Z"
   },
   {
    "duration": 4,
    "start_time": "2023-03-17T08:29:10.121Z"
   },
   {
    "duration": 158805,
    "start_time": "2023-03-17T08:33:35.951Z"
   },
   {
    "duration": 4,
    "start_time": "2023-03-17T09:08:59.924Z"
   },
   {
    "duration": 44,
    "start_time": "2023-03-17T09:09:09.946Z"
   },
   {
    "duration": 206071,
    "start_time": "2023-03-17T09:10:53.274Z"
   },
   {
    "duration": 4,
    "start_time": "2023-03-17T09:14:22.626Z"
   },
   {
    "duration": 705,
    "start_time": "2023-03-17T09:14:36.652Z"
   },
   {
    "duration": 5,
    "start_time": "2023-03-17T09:15:41.651Z"
   },
   {
    "duration": 717,
    "start_time": "2023-03-17T09:15:48.660Z"
   },
   {
    "duration": 6,
    "start_time": "2023-03-17T09:17:02.693Z"
   },
   {
    "duration": 13932,
    "start_time": "2023-03-17T09:17:26.130Z"
   },
   {
    "duration": 4,
    "start_time": "2023-03-17T09:17:55.433Z"
   },
   {
    "duration": 16,
    "start_time": "2023-03-17T09:18:01.629Z"
   },
   {
    "duration": 132,
    "start_time": "2023-03-17T09:18:39.575Z"
   },
   {
    "duration": 49,
    "start_time": "2023-03-17T09:18:44.661Z"
   },
   {
    "duration": 62,
    "start_time": "2023-03-17T09:18:58.719Z"
   },
   {
    "duration": 50,
    "start_time": "2023-03-17T09:19:10.589Z"
   },
   {
    "duration": 53,
    "start_time": "2023-03-17T09:19:27.969Z"
   },
   {
    "duration": 47,
    "start_time": "2023-03-17T09:19:36.888Z"
   },
   {
    "duration": 76,
    "start_time": "2023-03-17T09:20:00.667Z"
   },
   {
    "duration": 54,
    "start_time": "2023-03-17T09:20:06.842Z"
   },
   {
    "duration": 5438,
    "start_time": "2023-03-17T09:20:17.633Z"
   },
   {
    "duration": 28,
    "start_time": "2023-03-17T09:22:26.104Z"
   },
   {
    "duration": 13,
    "start_time": "2023-03-17T09:27:49.831Z"
   },
   {
    "duration": 89,
    "start_time": "2023-03-17T09:36:58.275Z"
   },
   {
    "duration": 48,
    "start_time": "2023-03-17T09:37:03.434Z"
   },
   {
    "duration": 787,
    "start_time": "2023-03-17T09:37:24.108Z"
   },
   {
    "duration": 46,
    "start_time": "2023-03-17T09:37:45.355Z"
   },
   {
    "duration": 52,
    "start_time": "2023-03-17T09:38:28.292Z"
   },
   {
    "duration": 47,
    "start_time": "2023-03-17T09:39:34.011Z"
   },
   {
    "duration": 44,
    "start_time": "2023-03-17T09:39:47.854Z"
   },
   {
    "duration": 953,
    "start_time": "2023-03-17T09:40:05.159Z"
   },
   {
    "duration": 3759,
    "start_time": "2023-03-17T09:40:06.114Z"
   },
   {
    "duration": 26,
    "start_time": "2023-03-17T09:40:09.875Z"
   },
   {
    "duration": 3,
    "start_time": "2023-03-17T09:40:09.902Z"
   },
   {
    "duration": 7,
    "start_time": "2023-03-17T09:40:09.908Z"
   },
   {
    "duration": 38448,
    "start_time": "2023-03-17T09:40:09.916Z"
   },
   {
    "duration": 52,
    "start_time": "2023-03-17T09:40:48.366Z"
   },
   {
    "duration": 181,
    "start_time": "2023-03-17T09:40:48.419Z"
   },
   {
    "duration": 58,
    "start_time": "2023-03-17T09:40:48.601Z"
   },
   {
    "duration": 6193,
    "start_time": "2023-03-17T09:40:48.661Z"
   },
   {
    "duration": 3,
    "start_time": "2023-03-17T09:40:54.856Z"
   },
   {
    "duration": 2135,
    "start_time": "2023-03-17T09:40:54.861Z"
   },
   {
    "duration": 1999,
    "start_time": "2023-03-17T09:40:56.997Z"
   },
   {
    "duration": 0,
    "start_time": "2023-03-17T09:40:58.998Z"
   },
   {
    "duration": 791,
    "start_time": "2023-03-17T09:44:28.930Z"
   },
   {
    "duration": 8,
    "start_time": "2023-03-17T09:44:42.021Z"
   },
   {
    "duration": 873,
    "start_time": "2023-03-17T09:45:47.575Z"
   },
   {
    "duration": 3768,
    "start_time": "2023-03-17T09:45:48.450Z"
   },
   {
    "duration": 29,
    "start_time": "2023-03-17T09:45:52.219Z"
   },
   {
    "duration": 2,
    "start_time": "2023-03-17T09:45:52.250Z"
   },
   {
    "duration": 4,
    "start_time": "2023-03-17T09:45:52.254Z"
   },
   {
    "duration": 36965,
    "start_time": "2023-03-17T09:45:52.260Z"
   },
   {
    "duration": 65,
    "start_time": "2023-03-17T09:46:29.226Z"
   },
   {
    "duration": 159,
    "start_time": "2023-03-17T09:46:29.292Z"
   },
   {
    "duration": 57,
    "start_time": "2023-03-17T09:46:29.452Z"
   },
   {
    "duration": 6246,
    "start_time": "2023-03-17T09:46:29.512Z"
   },
   {
    "duration": 3,
    "start_time": "2023-03-17T09:46:35.760Z"
   },
   {
    "duration": 94,
    "start_time": "2023-03-17T09:46:35.764Z"
   },
   {
    "duration": 23,
    "start_time": "2023-03-17T09:46:35.859Z"
   },
   {
    "duration": 27,
    "start_time": "2023-03-17T09:46:35.883Z"
   },
   {
    "duration": 49,
    "start_time": "2023-03-17T09:51:02.444Z"
   },
   {
    "duration": 1491,
    "start_time": "2023-03-17T09:51:14.865Z"
   },
   {
    "duration": 3786,
    "start_time": "2023-03-17T09:51:16.358Z"
   },
   {
    "duration": 27,
    "start_time": "2023-03-17T09:51:20.146Z"
   },
   {
    "duration": 3,
    "start_time": "2023-03-17T09:51:20.174Z"
   },
   {
    "duration": 11,
    "start_time": "2023-03-17T09:51:20.178Z"
   },
   {
    "duration": 37127,
    "start_time": "2023-03-17T09:51:20.190Z"
   },
   {
    "duration": 64,
    "start_time": "2023-03-17T09:51:57.319Z"
   },
   {
    "duration": 161,
    "start_time": "2023-03-17T09:51:57.385Z"
   },
   {
    "duration": 52,
    "start_time": "2023-03-17T09:51:57.548Z"
   },
   {
    "duration": 6344,
    "start_time": "2023-03-17T09:51:57.601Z"
   },
   {
    "duration": 3,
    "start_time": "2023-03-17T09:52:03.947Z"
   },
   {
    "duration": 7,
    "start_time": "2023-03-17T09:52:03.952Z"
   },
   {
    "duration": 78,
    "start_time": "2023-03-17T09:52:03.960Z"
   },
   {
    "duration": 4,
    "start_time": "2023-03-17T09:52:04.040Z"
   },
   {
    "duration": 13788,
    "start_time": "2023-03-17T09:52:29.712Z"
   },
   {
    "duration": 18,
    "start_time": "2023-03-17T09:52:56.763Z"
   },
   {
    "duration": 5344,
    "start_time": "2023-03-17T09:54:08.523Z"
   },
   {
    "duration": 13,
    "start_time": "2023-03-17T09:54:37.335Z"
   },
   {
    "duration": 139,
    "start_time": "2023-03-17T09:58:29.684Z"
   },
   {
    "duration": 141090,
    "start_time": "2023-03-17T09:59:13.873Z"
   },
   {
    "duration": 45,
    "start_time": "2023-03-17T10:01:34.965Z"
   },
   {
    "duration": 25037,
    "start_time": "2023-03-17T10:01:35.013Z"
   },
   {
    "duration": 17,
    "start_time": "2023-03-17T10:04:13.244Z"
   }
  ],
  "kernelspec": {
   "display_name": "Python 3 (ipykernel)",
   "language": "python",
   "name": "python3"
  },
  "language_info": {
   "codemirror_mode": {
    "name": "ipython",
    "version": 3
   },
   "file_extension": ".py",
   "mimetype": "text/x-python",
   "name": "python",
   "nbconvert_exporter": "python",
   "pygments_lexer": "ipython3",
   "version": "3.9.13"
  },
  "toc": {
   "base_numbering": 1,
   "nav_menu": {},
   "number_sections": true,
   "sideBar": true,
   "skip_h1_title": true,
   "title_cell": "Содержание",
   "title_sidebar": "Contents",
   "toc_cell": true,
   "toc_position": {
    "height": "calc(100% - 180px)",
    "left": "10px",
    "top": "150px",
    "width": "302.391px"
   },
   "toc_section_display": true,
   "toc_window_display": false
  }
 },
 "nbformat": 4,
 "nbformat_minor": 2
}
