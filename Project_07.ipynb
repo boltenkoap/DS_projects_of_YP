{
 "cells": [
  {
   "cell_type": "markdown",
   "metadata": {},
   "source": [
    "# Выбор локации для скважины"
   ]
  },
  {
   "cell_type": "markdown",
   "metadata": {},
   "source": [
    "Допустим, вы работаете в добывающей компании «ГлавРосГосНефть». Нужно решить, где бурить новую скважину.\n",
    "\n",
    "Вам предоставлены пробы нефти в трёх регионах: в каждом 10 000 месторождений, где измерили качество нефти и объём её запасов. Постройте модель машинного обучения, которая поможет определить регион, где добыча принесёт наибольшую прибыль. Проанализируйте возможную прибыль и риски техникой *Bootstrap.*\n",
    "\n",
    "Шаги для выбора локации:\n",
    "\n",
    "- В избранном регионе ищут месторождения, для каждого определяют значения признаков;\n",
    "- Строят модель и оценивают объём запасов;\n",
    "- Выбирают месторождения с самым высокими оценками значений. Количество месторождений зависит от бюджета компании и стоимости разработки одной скважины;\n",
    "- Прибыль равна суммарной прибыли отобранных месторождений."
   ]
  },
  {
   "cell_type": "markdown",
   "metadata": {},
   "source": [
    "## Загрузка и подготовка данных"
   ]
  },
  {
   "cell_type": "code",
   "execution_count": 4,
   "metadata": {},
   "outputs": [],
   "source": [
    "import pandas as pd\n",
    "import numpy as np\n",
    "import matplotlib.pyplot as plt\n",
    "import seaborn as sns\n",
    "\n",
    "import itertools\n",
    "\n",
    "from tqdm import tqdm\n",
    "\n",
    "from sklearn.model_selection import train_test_split\n",
    "from sklearn.linear_model import LinearRegression\n",
    "from sklearn.metrics import mean_squared_error\n",
    "from sklearn.preprocessing import StandardScaler\n",
    "from sklearn.utils import shuffle\n",
    "\n",
    "import warnings\n",
    "warnings.filterwarnings('ignore')"
   ]
  },
  {
   "cell_type": "markdown",
   "metadata": {},
   "source": [
    "### Изучение общей информации о данных"
   ]
  },
  {
   "cell_type": "markdown",
   "metadata": {},
   "source": [
    "Загрузим каждый регион в отдельный датафрейм, изучив общую информацию о данных"
   ]
  },
  {
   "cell_type": "code",
   "execution_count": 2,
   "metadata": {},
   "outputs": [
    {
     "name": "stdout",
     "output_type": "stream",
     "text": [
      "<class 'pandas.core.frame.DataFrame'>\n",
      "RangeIndex: 100000 entries, 0 to 99999\n",
      "Data columns (total 5 columns):\n",
      " #   Column   Non-Null Count   Dtype  \n",
      "---  ------   --------------   -----  \n",
      " 0   id       100000 non-null  object \n",
      " 1   f0       100000 non-null  float64\n",
      " 2   f1       100000 non-null  float64\n",
      " 3   f2       100000 non-null  float64\n",
      " 4   product  100000 non-null  float64\n",
      "dtypes: float64(4), object(1)\n",
      "memory usage: 3.8+ MB\n"
     ]
    },
    {
     "data": {
      "text/html": [
       "<div>\n",
       "<style scoped>\n",
       "    .dataframe tbody tr th:only-of-type {\n",
       "        vertical-align: middle;\n",
       "    }\n",
       "\n",
       "    .dataframe tbody tr th {\n",
       "        vertical-align: top;\n",
       "    }\n",
       "\n",
       "    .dataframe thead th {\n",
       "        text-align: right;\n",
       "    }\n",
       "</style>\n",
       "<table border=\"1\" class=\"dataframe\">\n",
       "  <thead>\n",
       "    <tr style=\"text-align: right;\">\n",
       "      <th></th>\n",
       "      <th>f0</th>\n",
       "      <th>f1</th>\n",
       "      <th>f2</th>\n",
       "      <th>product</th>\n",
       "    </tr>\n",
       "  </thead>\n",
       "  <tbody>\n",
       "    <tr>\n",
       "      <th>count</th>\n",
       "      <td>100000.000000</td>\n",
       "      <td>100000.000000</td>\n",
       "      <td>100000.000000</td>\n",
       "      <td>100000.000000</td>\n",
       "    </tr>\n",
       "    <tr>\n",
       "      <th>mean</th>\n",
       "      <td>0.500419</td>\n",
       "      <td>0.250143</td>\n",
       "      <td>2.502647</td>\n",
       "      <td>92.500000</td>\n",
       "    </tr>\n",
       "    <tr>\n",
       "      <th>std</th>\n",
       "      <td>0.871832</td>\n",
       "      <td>0.504433</td>\n",
       "      <td>3.248248</td>\n",
       "      <td>44.288691</td>\n",
       "    </tr>\n",
       "    <tr>\n",
       "      <th>min</th>\n",
       "      <td>-1.408605</td>\n",
       "      <td>-0.848218</td>\n",
       "      <td>-12.088328</td>\n",
       "      <td>0.000000</td>\n",
       "    </tr>\n",
       "    <tr>\n",
       "      <th>25%</th>\n",
       "      <td>-0.072580</td>\n",
       "      <td>-0.200881</td>\n",
       "      <td>0.287748</td>\n",
       "      <td>56.497507</td>\n",
       "    </tr>\n",
       "    <tr>\n",
       "      <th>50%</th>\n",
       "      <td>0.502360</td>\n",
       "      <td>0.250252</td>\n",
       "      <td>2.515969</td>\n",
       "      <td>91.849972</td>\n",
       "    </tr>\n",
       "    <tr>\n",
       "      <th>75%</th>\n",
       "      <td>1.073581</td>\n",
       "      <td>0.700646</td>\n",
       "      <td>4.715088</td>\n",
       "      <td>128.564089</td>\n",
       "    </tr>\n",
       "    <tr>\n",
       "      <th>max</th>\n",
       "      <td>2.362331</td>\n",
       "      <td>1.343769</td>\n",
       "      <td>16.003790</td>\n",
       "      <td>185.364347</td>\n",
       "    </tr>\n",
       "  </tbody>\n",
       "</table>\n",
       "</div>"
      ],
      "text/plain": [
       "                  f0             f1             f2        product\n",
       "count  100000.000000  100000.000000  100000.000000  100000.000000\n",
       "mean        0.500419       0.250143       2.502647      92.500000\n",
       "std         0.871832       0.504433       3.248248      44.288691\n",
       "min        -1.408605      -0.848218     -12.088328       0.000000\n",
       "25%        -0.072580      -0.200881       0.287748      56.497507\n",
       "50%         0.502360       0.250252       2.515969      91.849972\n",
       "75%         1.073581       0.700646       4.715088     128.564089\n",
       "max         2.362331       1.343769      16.003790     185.364347"
      ]
     },
     "execution_count": 2,
     "metadata": {},
     "output_type": "execute_result"
    }
   ],
   "source": [
    "geo_data_0 = pd.read_csv('/datasets/geo_data_0.csv')\n",
    "geo_data_0.info()\n",
    "geo_data_0.describe()"
   ]
  },
  {
   "cell_type": "code",
   "execution_count": 3,
   "metadata": {},
   "outputs": [
    {
     "name": "stdout",
     "output_type": "stream",
     "text": [
      "<class 'pandas.core.frame.DataFrame'>\n",
      "RangeIndex: 100000 entries, 0 to 99999\n",
      "Data columns (total 5 columns):\n",
      " #   Column   Non-Null Count   Dtype  \n",
      "---  ------   --------------   -----  \n",
      " 0   id       100000 non-null  object \n",
      " 1   f0       100000 non-null  float64\n",
      " 2   f1       100000 non-null  float64\n",
      " 3   f2       100000 non-null  float64\n",
      " 4   product  100000 non-null  float64\n",
      "dtypes: float64(4), object(1)\n",
      "memory usage: 3.8+ MB\n"
     ]
    },
    {
     "data": {
      "text/html": [
       "<div>\n",
       "<style scoped>\n",
       "    .dataframe tbody tr th:only-of-type {\n",
       "        vertical-align: middle;\n",
       "    }\n",
       "\n",
       "    .dataframe tbody tr th {\n",
       "        vertical-align: top;\n",
       "    }\n",
       "\n",
       "    .dataframe thead th {\n",
       "        text-align: right;\n",
       "    }\n",
       "</style>\n",
       "<table border=\"1\" class=\"dataframe\">\n",
       "  <thead>\n",
       "    <tr style=\"text-align: right;\">\n",
       "      <th></th>\n",
       "      <th>f0</th>\n",
       "      <th>f1</th>\n",
       "      <th>f2</th>\n",
       "      <th>product</th>\n",
       "    </tr>\n",
       "  </thead>\n",
       "  <tbody>\n",
       "    <tr>\n",
       "      <th>count</th>\n",
       "      <td>100000.000000</td>\n",
       "      <td>100000.000000</td>\n",
       "      <td>100000.000000</td>\n",
       "      <td>100000.000000</td>\n",
       "    </tr>\n",
       "    <tr>\n",
       "      <th>mean</th>\n",
       "      <td>1.141296</td>\n",
       "      <td>-4.796579</td>\n",
       "      <td>2.494541</td>\n",
       "      <td>68.825000</td>\n",
       "    </tr>\n",
       "    <tr>\n",
       "      <th>std</th>\n",
       "      <td>8.965932</td>\n",
       "      <td>5.119872</td>\n",
       "      <td>1.703572</td>\n",
       "      <td>45.944423</td>\n",
       "    </tr>\n",
       "    <tr>\n",
       "      <th>min</th>\n",
       "      <td>-31.609576</td>\n",
       "      <td>-26.358598</td>\n",
       "      <td>-0.018144</td>\n",
       "      <td>0.000000</td>\n",
       "    </tr>\n",
       "    <tr>\n",
       "      <th>25%</th>\n",
       "      <td>-6.298551</td>\n",
       "      <td>-8.267985</td>\n",
       "      <td>1.000021</td>\n",
       "      <td>26.953261</td>\n",
       "    </tr>\n",
       "    <tr>\n",
       "      <th>50%</th>\n",
       "      <td>1.153055</td>\n",
       "      <td>-4.813172</td>\n",
       "      <td>2.011479</td>\n",
       "      <td>57.085625</td>\n",
       "    </tr>\n",
       "    <tr>\n",
       "      <th>75%</th>\n",
       "      <td>8.621015</td>\n",
       "      <td>-1.332816</td>\n",
       "      <td>3.999904</td>\n",
       "      <td>107.813044</td>\n",
       "    </tr>\n",
       "    <tr>\n",
       "      <th>max</th>\n",
       "      <td>29.421755</td>\n",
       "      <td>18.734063</td>\n",
       "      <td>5.019721</td>\n",
       "      <td>137.945408</td>\n",
       "    </tr>\n",
       "  </tbody>\n",
       "</table>\n",
       "</div>"
      ],
      "text/plain": [
       "                  f0             f1             f2        product\n",
       "count  100000.000000  100000.000000  100000.000000  100000.000000\n",
       "mean        1.141296      -4.796579       2.494541      68.825000\n",
       "std         8.965932       5.119872       1.703572      45.944423\n",
       "min       -31.609576     -26.358598      -0.018144       0.000000\n",
       "25%        -6.298551      -8.267985       1.000021      26.953261\n",
       "50%         1.153055      -4.813172       2.011479      57.085625\n",
       "75%         8.621015      -1.332816       3.999904     107.813044\n",
       "max        29.421755      18.734063       5.019721     137.945408"
      ]
     },
     "execution_count": 3,
     "metadata": {},
     "output_type": "execute_result"
    }
   ],
   "source": [
    "geo_data_1 = pd.read_csv('/datasets/geo_data_1.csv')\n",
    "geo_data_1.info()\n",
    "geo_data_1.describe()"
   ]
  },
  {
   "cell_type": "code",
   "execution_count": 4,
   "metadata": {},
   "outputs": [
    {
     "name": "stdout",
     "output_type": "stream",
     "text": [
      "<class 'pandas.core.frame.DataFrame'>\n",
      "RangeIndex: 100000 entries, 0 to 99999\n",
      "Data columns (total 5 columns):\n",
      " #   Column   Non-Null Count   Dtype  \n",
      "---  ------   --------------   -----  \n",
      " 0   id       100000 non-null  object \n",
      " 1   f0       100000 non-null  float64\n",
      " 2   f1       100000 non-null  float64\n",
      " 3   f2       100000 non-null  float64\n",
      " 4   product  100000 non-null  float64\n",
      "dtypes: float64(4), object(1)\n",
      "memory usage: 3.8+ MB\n"
     ]
    },
    {
     "data": {
      "text/html": [
       "<div>\n",
       "<style scoped>\n",
       "    .dataframe tbody tr th:only-of-type {\n",
       "        vertical-align: middle;\n",
       "    }\n",
       "\n",
       "    .dataframe tbody tr th {\n",
       "        vertical-align: top;\n",
       "    }\n",
       "\n",
       "    .dataframe thead th {\n",
       "        text-align: right;\n",
       "    }\n",
       "</style>\n",
       "<table border=\"1\" class=\"dataframe\">\n",
       "  <thead>\n",
       "    <tr style=\"text-align: right;\">\n",
       "      <th></th>\n",
       "      <th>f0</th>\n",
       "      <th>f1</th>\n",
       "      <th>f2</th>\n",
       "      <th>product</th>\n",
       "    </tr>\n",
       "  </thead>\n",
       "  <tbody>\n",
       "    <tr>\n",
       "      <th>count</th>\n",
       "      <td>100000.000000</td>\n",
       "      <td>100000.000000</td>\n",
       "      <td>100000.000000</td>\n",
       "      <td>100000.000000</td>\n",
       "    </tr>\n",
       "    <tr>\n",
       "      <th>mean</th>\n",
       "      <td>0.002023</td>\n",
       "      <td>-0.002081</td>\n",
       "      <td>2.495128</td>\n",
       "      <td>95.000000</td>\n",
       "    </tr>\n",
       "    <tr>\n",
       "      <th>std</th>\n",
       "      <td>1.732045</td>\n",
       "      <td>1.730417</td>\n",
       "      <td>3.473445</td>\n",
       "      <td>44.749921</td>\n",
       "    </tr>\n",
       "    <tr>\n",
       "      <th>min</th>\n",
       "      <td>-8.760004</td>\n",
       "      <td>-7.084020</td>\n",
       "      <td>-11.970335</td>\n",
       "      <td>0.000000</td>\n",
       "    </tr>\n",
       "    <tr>\n",
       "      <th>25%</th>\n",
       "      <td>-1.162288</td>\n",
       "      <td>-1.174820</td>\n",
       "      <td>0.130359</td>\n",
       "      <td>59.450441</td>\n",
       "    </tr>\n",
       "    <tr>\n",
       "      <th>50%</th>\n",
       "      <td>0.009424</td>\n",
       "      <td>-0.009482</td>\n",
       "      <td>2.484236</td>\n",
       "      <td>94.925613</td>\n",
       "    </tr>\n",
       "    <tr>\n",
       "      <th>75%</th>\n",
       "      <td>1.158535</td>\n",
       "      <td>1.163678</td>\n",
       "      <td>4.858794</td>\n",
       "      <td>130.595027</td>\n",
       "    </tr>\n",
       "    <tr>\n",
       "      <th>max</th>\n",
       "      <td>7.238262</td>\n",
       "      <td>7.844801</td>\n",
       "      <td>16.739402</td>\n",
       "      <td>190.029838</td>\n",
       "    </tr>\n",
       "  </tbody>\n",
       "</table>\n",
       "</div>"
      ],
      "text/plain": [
       "                  f0             f1             f2        product\n",
       "count  100000.000000  100000.000000  100000.000000  100000.000000\n",
       "mean        0.002023      -0.002081       2.495128      95.000000\n",
       "std         1.732045       1.730417       3.473445      44.749921\n",
       "min        -8.760004      -7.084020     -11.970335       0.000000\n",
       "25%        -1.162288      -1.174820       0.130359      59.450441\n",
       "50%         0.009424      -0.009482       2.484236      94.925613\n",
       "75%         1.158535       1.163678       4.858794     130.595027\n",
       "max         7.238262       7.844801      16.739402     190.029838"
      ]
     },
     "execution_count": 4,
     "metadata": {},
     "output_type": "execute_result"
    }
   ],
   "source": [
    "geo_data_2 = pd.read_csv('/datasets/geo_data_2.csv')\n",
    "geo_data_2.info()\n",
    "geo_data_2.describe()"
   ]
  },
  {
   "cell_type": "markdown",
   "metadata": {},
   "source": [
    "### Визуализация данных"
   ]
  },
  {
   "cell_type": "code",
   "execution_count": 5,
   "metadata": {},
   "outputs": [],
   "source": [
    "#функция для проверки пропущенных значений, наличия дубликатов и проверки распределения признаков\n",
    "def exploratory(data):\n",
    "    print(f'Shape:    {data.shape}')\n",
    "    print(\"Na's:         \", data.isna().sum().sum())\n",
    "    print(\"duplicates:   \", data.duplicated().sum())\n",
    "    print(\"\\nРаспределение признаков:\")\n",
    "    sns.histplot(data[[\"f0\",\"f1\",\"f2\"]], binwidth = 3)\n",
    "    plt.show()"
   ]
  },
  {
   "cell_type": "code",
   "execution_count": 6,
   "metadata": {
    "scrolled": true
   },
   "outputs": [
    {
     "name": "stdout",
     "output_type": "stream",
     "text": [
      "Shape:    (100000, 5)\n",
      "Na's:          0\n",
      "duplicates:    0\n",
      "\n",
      "Распределение признаков:\n"
     ]
    },
    {
     "data": {
      "image/png": "[encoded data removed]",
      "text/plain": [
       "<Figure size 432x288 with 1 Axes>"
      ]
     },
     "metadata": {
      "needs_background": "light"
     },
     "output_type": "display_data"
    }
   ],
   "source": [
    "exploratory(geo_data_0)"
   ]
  },
  {
   "cell_type": "code",
   "execution_count": 7,
   "metadata": {
    "scrolled": true
   },
   "outputs": [
    {
     "name": "stdout",
     "output_type": "stream",
     "text": [
      "Shape:    (100000, 5)\n",
      "Na's:          0\n",
      "duplicates:    0\n",
      "\n",
      "Распределение признаков:\n"
     ]
    },
    {
     "data": {
      "image/png": "[encoded data removed]",
      "text/plain": [
       "<Figure size 432x288 with 1 Axes>"
      ]
     },
     "metadata": {
      "needs_background": "light"
     },
     "output_type": "display_data"
    }
   ],
   "source": [
    "exploratory(geo_data_1)"
   ]
  },
  {
   "cell_type": "code",
   "execution_count": 8,
   "metadata": {},
   "outputs": [
    {
     "name": "stdout",
     "output_type": "stream",
     "text": [
      "Shape:    (100000, 5)\n",
      "Na's:          0\n",
      "duplicates:    0\n",
      "\n",
      "Распределение признаков:\n"
     ]
    },
    {
     "data": {
      "image/png": "[encoded data removed]",
      "text/plain": [
       "<Figure size 432x288 with 1 Axes>"
      ]
     },
     "metadata": {
      "needs_background": "light"
     },
     "output_type": "display_data"
    }
   ],
   "source": [
    "exploratory(geo_data_2)"
   ]
  },
  {
   "cell_type": "code",
   "execution_count": 9,
   "metadata": {},
   "outputs": [],
   "source": [
    "def oil_hist(seria, bins, xlim_max, ylim_max):\n",
    "    plt.figure(figsize=[12,9])\n",
    "\n",
    "    sns.histplot(seria, bins=bins)\n",
    "\n",
    "    plt.xlim([0,xlim_max])\n",
    "    plt.ylim([0,ylim_max])\n",
    "\n",
    "    plt.xlabel(\"Объем нефти на скважину, тыс. барелей\")\n",
    "    plt.ylabel(\"Количество скважин\")\n",
    "\n",
    "    plt.title(\"Гистограмма распределения по объему скважин\")\n",
    "    plt.show()"
   ]
  },
  {
   "cell_type": "code",
   "execution_count": 10,
   "metadata": {},
   "outputs": [
    {
     "data": {
      "image/png": "[encoded data removed]",
      "text/plain": [
       "<Figure size 864x648 with 1 Axes>"
      ]
     },
     "metadata": {
      "needs_background": "light"
     },
     "output_type": "display_data"
    }
   ],
   "source": [
    "oil_hist(geo_data_0['product'], 200, 190, 1000)"
   ]
  },
  {
   "cell_type": "code",
   "execution_count": 11,
   "metadata": {},
   "outputs": [
    {
     "data": {
      "image/png": "[encoded data removed]",
      "text/plain": [
       "<Figure size 864x648 with 1 Axes>"
      ]
     },
     "metadata": {
      "needs_background": "light"
     },
     "output_type": "display_data"
    }
   ],
   "source": [
    "oil_hist(geo_data_1['product'], 200, 190, 10000)"
   ]
  },
  {
   "cell_type": "code",
   "execution_count": 12,
   "metadata": {},
   "outputs": [
    {
     "data": {
      "image/png": "[encoded data removed]",
      "text/plain": [
       "<Figure size 864x648 with 1 Axes>"
      ]
     },
     "metadata": {
      "needs_background": "light"
     },
     "output_type": "display_data"
    }
   ],
   "source": [
    "oil_hist(geo_data_2['product'], 200, 190, 900)"
   ]
  },
  {
   "cell_type": "markdown",
   "metadata": {},
   "source": [
    "### Заполнение выбивающихся значений"
   ]
  },
  {
   "cell_type": "code",
   "execution_count": 13,
   "metadata": {
    "scrolled": true
   },
   "outputs": [
    {
     "data": {
      "image/png": "[encoded data removed]",
      "text/plain": [
       "<Figure size 1440x1080 with 12 Axes>"
      ]
     },
     "metadata": {
      "needs_background": "light"
     },
     "output_type": "display_data"
    }
   ],
   "source": [
    "fig,ax = plt.subplots(3,4,figsize = (20,15))\n",
    "\n",
    "all_frames = [\"geo_data_0\",\"geo_data_1\",\"geo_data_2\"]\n",
    "num_columns = geo_data_0.columns[1:]\n",
    "num_columns_with_columns = zip(geo_data_0.columns[1:],range(4))\n",
    "all_frames_with_rows = zip([geo_data_0,geo_data_1,geo_data_2],range(3))\n",
    "# Построим графики\n",
    "for column in list(itertools.product(all_frames_with_rows,num_columns_with_columns)):\n",
    "    ax[column[0][1]][column[1][1]].boxplot(column[0][0][column[1][0]])\n",
    "# Добавим название фрейма изображаемого на графике\n",
    "for row in range(3):\n",
    "    ax[row][0].set_ylabel(all_frames[row])\n",
    "# Добавим название столбца изображаемого на графике\n",
    "for column in range(4):\n",
    "    ax[0][column].set_title(num_columns[column])"
   ]
  },
  {
   "cell_type": "code",
   "execution_count": 14,
   "metadata": {},
   "outputs": [],
   "source": [
    "def remove_ouliers(frame,column):\n",
    "    q25=np.array(frame[column].quantile(0.25))\n",
    "    \n",
    "    q75=np.array(frame[column].quantile(0.75))\n",
    "    first_part=q25-1.5*(q75-q25)\n",
    "    second_part=q75+1.5*(q75-q25)\n",
    "    del_index = []\n",
    "    for index_value, value in zip(frame[column].index,frame[column]):\n",
    "        if second_part <= value or value <= first_part:\n",
    "            del_index.append(index_value)\n",
    "    \n",
    "    print('Количество строк, выбранных для удаления: ',len(del_index))\n",
    "    return del_index"
   ]
  },
  {
   "cell_type": "code",
   "execution_count": 15,
   "metadata": {},
   "outputs": [
    {
     "name": "stdout",
     "output_type": "stream",
     "text": [
      "Количество строк, выбранных для удаления:  506\n",
      "Количество строк, выбранных для удаления:  636\n",
      "Количество строк, выбранных для удаления:  733\n",
      "Количество строк, выбранных для удаления:  682\n",
      "Количество строк, выбранных для удаления:  582\n"
     ]
    }
   ],
   "source": [
    "noise_data = [(geo_data_0,\"f2\"),\n",
    " (geo_data_1,\"f1\"),\n",
    " (geo_data_2,\"f0\"),\n",
    " (geo_data_2,\"f1\"),\n",
    " (geo_data_2,\"f2\")]\n",
    "\n",
    "for frame,column in noise_data:\n",
    "    indexes = remove_ouliers(frame,column)\n",
    "    frame.drop(indexes,axis = 0,inplace = True)"
   ]
  },
  {
   "cell_type": "markdown",
   "metadata": {},
   "source": [
    "В данных отсутсвуют пропуски. Удалим из каждого датафрейма столбец id. Он не несет значимости для для модели."
   ]
  },
  {
   "cell_type": "code",
   "execution_count": 16,
   "metadata": {},
   "outputs": [],
   "source": [
    "geo_data_0 = geo_data_0.reset_index(drop = True)\n",
    "geo_data_1 = geo_data_1.reset_index(drop = True)\n",
    "geo_data_2 = geo_data_2.reset_index(drop = True)"
   ]
  },
  {
   "cell_type": "markdown",
   "metadata": {},
   "source": [
    "### Проверка корреляции между признаками"
   ]
  },
  {
   "cell_type": "code",
   "execution_count": 17,
   "metadata": {},
   "outputs": [
    {
     "data": {
      "text/plain": [
       "<AxesSubplot:>"
      ]
     },
     "execution_count": 17,
     "metadata": {},
     "output_type": "execute_result"
    },
    {
     "data": {
      "image/png": "[encoded data removed]",
      "text/plain": [
       "<Figure size 432x288 with 2 Axes>"
      ]
     },
     "metadata": {
      "needs_background": "light"
     },
     "output_type": "display_data"
    }
   ],
   "source": [
    "sns.heatmap(geo_data_0.corr(), annot = True, fmt='.1g', cmap= 'coolwarm')"
   ]
  },
  {
   "cell_type": "code",
   "execution_count": 18,
   "metadata": {},
   "outputs": [
    {
     "data": {
      "text/plain": [
       "<AxesSubplot:>"
      ]
     },
     "execution_count": 18,
     "metadata": {},
     "output_type": "execute_result"
    },
    {
     "data": {
      "image/png": "[encoded data removed]",
      "text/plain": [
       "<Figure size 432x288 with 2 Axes>"
      ]
     },
     "metadata": {
      "needs_background": "light"
     },
     "output_type": "display_data"
    }
   ],
   "source": [
    "sns.heatmap(geo_data_1.corr(), annot = True, fmt='.1g', cmap= 'coolwarm')"
   ]
  },
  {
   "cell_type": "code",
   "execution_count": 19,
   "metadata": {},
   "outputs": [
    {
     "data": {
      "text/plain": [
       "<AxesSubplot:>"
      ]
     },
     "execution_count": 19,
     "metadata": {},
     "output_type": "execute_result"
    },
    {
     "data": {
      "image/png": "[encoded data removed]",
      "text/plain": [
       "<Figure size 432x288 with 2 Axes>"
      ]
     },
     "metadata": {
      "needs_background": "light"
     },
     "output_type": "display_data"
    }
   ],
   "source": [
    "sns.heatmap(geo_data_2.corr(), annot = True, fmt='.1g', cmap= 'coolwarm')"
   ]
  },
  {
   "cell_type": "code",
   "execution_count": 20,
   "metadata": {},
   "outputs": [],
   "source": [
    "geo_data_0 = geo_data_0.drop(['id'], axis=1)\n",
    "geo_data_1 = geo_data_1.drop(['id'], axis=1)\n",
    "geo_data_2 = geo_data_2.drop(['id'], axis=1)"
   ]
  },
  {
   "cell_type": "markdown",
   "metadata": {},
   "source": [
    "**Вывод по шагу 1:**\n",
    "\n",
    "Данные готовы к обучению. \n",
    "\n",
    "Во втором месторождении около 8,2% месторождений не имело значения в столбце product. При сравнении с такими же значениями из первого и третьего региона можно предположить, что были утеряны данные или не было исследовано количество барелей нефти.\n",
    "\n",
    "По гистограммам можно понять, что у первого и третьего региона наспределение скважин близкое к нормальному. \n",
    "Во втором регионе данные имеют странное распределение: от 0 до 5 баррелей с шагом по 15-20 равномерно распределены 100000 значений. Данные не подчиняются закону больших чисел и, возможно, были введены искуственно.\n",
    "\n",
    "Признаки для модели: \n",
    "- *f0;*\n",
    "- *f1;*\n",
    "- *f2.*\n",
    "\n",
    "Целевой признак: \n",
    "- *product.*\n"
   ]
  },
  {
   "cell_type": "markdown",
   "metadata": {},
   "source": [
    "## Обучение и проверка модели"
   ]
  },
  {
   "cell_type": "markdown",
   "metadata": {},
   "source": [
    "Проверим качество модели линейной регрессии с текущим значением признаков и с масштабируемыми. Проверим эту гипотезу на geo_data_0. Выполняем разбивку неподготовленного датафрейма."
   ]
  },
  {
   "cell_type": "code",
   "execution_count": 21,
   "metadata": {},
   "outputs": [],
   "source": [
    "def test_split(df, target):\n",
    "    features = df.drop([target] , axis=1)\n",
    "    target = df[target]\n",
    "\n",
    "    features_train, features_valid, target_train, target_valid = train_test_split(\n",
    "    features, target, test_size=0.25, random_state=5062020)\n",
    "    \n",
    "    return features_train, features_valid, target_train, target_valid"
   ]
  },
  {
   "cell_type": "code",
   "execution_count": 22,
   "metadata": {},
   "outputs": [
    {
     "data": {
      "text/html": [
       "<div>\n",
       "<style scoped>\n",
       "    .dataframe tbody tr th:only-of-type {\n",
       "        vertical-align: middle;\n",
       "    }\n",
       "\n",
       "    .dataframe tbody tr th {\n",
       "        vertical-align: top;\n",
       "    }\n",
       "\n",
       "    .dataframe thead th {\n",
       "        text-align: right;\n",
       "    }\n",
       "</style>\n",
       "<table border=\"1\" class=\"dataframe\">\n",
       "  <thead>\n",
       "    <tr style=\"text-align: right;\">\n",
       "      <th></th>\n",
       "      <th>f0</th>\n",
       "      <th>f1</th>\n",
       "      <th>f2</th>\n",
       "    </tr>\n",
       "  </thead>\n",
       "  <tbody>\n",
       "    <tr>\n",
       "      <th>61380</th>\n",
       "      <td>0.082153</td>\n",
       "      <td>1.020137</td>\n",
       "      <td>3.720367</td>\n",
       "    </tr>\n",
       "    <tr>\n",
       "      <th>81456</th>\n",
       "      <td>0.347326</td>\n",
       "      <td>0.889149</td>\n",
       "      <td>-0.659423</td>\n",
       "    </tr>\n",
       "    <tr>\n",
       "      <th>93894</th>\n",
       "      <td>0.266099</td>\n",
       "      <td>-0.201654</td>\n",
       "      <td>4.220563</td>\n",
       "    </tr>\n",
       "    <tr>\n",
       "      <th>87380</th>\n",
       "      <td>0.847291</td>\n",
       "      <td>-0.417228</td>\n",
       "      <td>1.001541</td>\n",
       "    </tr>\n",
       "    <tr>\n",
       "      <th>73641</th>\n",
       "      <td>0.166807</td>\n",
       "      <td>0.949760</td>\n",
       "      <td>-3.939722</td>\n",
       "    </tr>\n",
       "  </tbody>\n",
       "</table>\n",
       "</div>"
      ],
      "text/plain": [
       "             f0        f1        f2\n",
       "61380  0.082153  1.020137  3.720367\n",
       "81456  0.347326  0.889149 -0.659423\n",
       "93894  0.266099 -0.201654  4.220563\n",
       "87380  0.847291 -0.417228  1.001541\n",
       "73641  0.166807  0.949760 -3.939722"
      ]
     },
     "execution_count": 22,
     "metadata": {},
     "output_type": "execute_result"
    }
   ],
   "source": [
    "features_train_0, features_valid_0, target_train_0, target_valid_0 = test_split(geo_data_0, 'product')\n",
    "\n",
    "features_train_0.head()"
   ]
  },
  {
   "cell_type": "code",
   "execution_count": 23,
   "metadata": {},
   "outputs": [],
   "source": [
    "def test_split_scaled(df, numeric, target):\n",
    "    geo_data_s = df.copy()\n",
    "\n",
    "    features_s = geo_data_s.drop([target] , axis=1)\n",
    "    target_s = geo_data_s[target]\n",
    "\n",
    "    features_train_s, features_valid_s, target_train_s, target_valid_s = train_test_split(\n",
    "        features_s, target_s, test_size=0.25, random_state=5062020)\n",
    "\n",
    "    scaler = StandardScaler()\n",
    "    scaler.fit(features_train_s[numeric])\n",
    "    features_train_s[numeric] = scaler.transform(features_train_s[numeric])\n",
    "    features_valid_s[numeric] = scaler.transform(features_valid_s[numeric])\n",
    "\n",
    "    return features_train_s, features_valid_s, target_train_s, target_valid_s"
   ]
  },
  {
   "cell_type": "markdown",
   "metadata": {},
   "source": [
    "1. features - данные без масштаба\n",
    "2. features_s - данные с масштабом\n",
    "\n",
    "Видно, что данные изменились теперь проведем обучение модели без измененных данных. "
   ]
  },
  {
   "cell_type": "code",
   "execution_count": 24,
   "metadata": {},
   "outputs": [
    {
     "name": "stdout",
     "output_type": "stream",
     "text": [
      "RMSE - 37.522739361207734\n"
     ]
    }
   ],
   "source": [
    "model = LinearRegression()\n",
    "\n",
    "model.fit(features_train_0, target_train_0)\n",
    "predicted_target_0 = model.predict(features_valid_0)\n",
    "print('RMSE -', mean_squared_error(target_valid_0, predicted_target_0)**0.5)"
   ]
  },
  {
   "cell_type": "markdown",
   "metadata": {},
   "source": [
    "Проверим каково RMSE на маштабированных данных."
   ]
  },
  {
   "cell_type": "code",
   "execution_count": 25,
   "metadata": {},
   "outputs": [
    {
     "name": "stdout",
     "output_type": "stream",
     "text": [
      "RMSE - 37.522739361207734\n"
     ]
    }
   ],
   "source": [
    "features_train_0s, features_valid_0s, target_train_0s, target_valid_0s = test_split_scaled(\n",
    "                                                                        geo_data_0, ['f0', 'f1', 'f2'], 'product')\n",
    "model.fit(features_train_0s, target_train_0s)\n",
    "predicted_target_0s = model.predict(features_valid_0s)\n",
    "print('RMSE -', mean_squared_error(target_valid_0s, predicted_target_0s)**0.5)"
   ]
  },
  {
   "cell_type": "code",
   "execution_count": 26,
   "metadata": {},
   "outputs": [
    {
     "name": "stdout",
     "output_type": "stream",
     "text": [
      "RMSE - 0.8846644310075582\n",
      "RMSE - 0.8846644310075581\n"
     ]
    }
   ],
   "source": [
    "features_train_1, features_valid_1, target_train_1, target_valid_1 = test_split(geo_data_1, 'product')\n",
    "model.fit(features_train_1, target_train_1)\n",
    "predicted_target_1 = model.predict(features_valid_1)\n",
    "print('RMSE -', mean_squared_error(target_valid_1, predicted_target_1)**0.5)\n",
    "\n",
    "features_train_1s, features_valid_1s, target_train_1s, target_valid_1s = test_split_scaled(\n",
    "                                                                        geo_data_1, ['f0', 'f1', 'f2'], 'product')\n",
    "model.fit(features_train_1s, target_train_1s)\n",
    "predicted_target_1s = model.predict(features_valid_1s)\n",
    "print('RMSE -', mean_squared_error(target_valid_1s, predicted_target_1s)**0.5)"
   ]
  },
  {
   "cell_type": "code",
   "execution_count": 27,
   "metadata": {},
   "outputs": [
    {
     "name": "stdout",
     "output_type": "stream",
     "text": [
      "RMSE - 39.973467830251884\n",
      "RMSE - 39.973467830251884\n"
     ]
    }
   ],
   "source": [
    "features_train_2, features_valid_2, target_train_2, target_valid_2 = test_split(geo_data_2, 'product')\n",
    "model.fit(features_train_2, target_train_2)\n",
    "predicted_target_2 = model.predict(features_valid_2)\n",
    "print('RMSE -', mean_squared_error(target_valid_2, predicted_target_2)**0.5)\n",
    "\n",
    "features_train_2s, features_valid_2s, target_train_2s, target_valid_2s = test_split_scaled(\n",
    "                                                                        geo_data_2, ['f0', 'f1', 'f2'], 'product')\n",
    "model.fit(features_train_2s, target_train_2s)\n",
    "predicted_target_2s = model.predict(features_valid_2s)\n",
    "print('RMSE -', mean_squared_error(target_valid_2s, predicted_target_2s)**0.5)"
   ]
  },
  {
   "cell_type": "markdown",
   "metadata": {},
   "source": [
    "Масштабирование данных не требуется. Проверим показатель RMSE при других гиперпараметрах модели."
   ]
  },
  {
   "cell_type": "code",
   "execution_count": 28,
   "metadata": {},
   "outputs": [
    {
     "name": "stdout",
     "output_type": "stream",
     "text": [
      "RMSE - 37.522739361207734\n"
     ]
    }
   ],
   "source": [
    "model = LinearRegression(normalize=True)\n",
    "model.fit(features_train_0, target_train_0)\n",
    "predicted_target_0 = model.predict(features_valid_0)\n",
    "print('RMSE -', mean_squared_error(target_valid_0, predicted_target_0)**0.5)"
   ]
  },
  {
   "cell_type": "code",
   "execution_count": 29,
   "metadata": {},
   "outputs": [
    {
     "name": "stdout",
     "output_type": "stream",
     "text": [
      "RMSE - 60.34243802997542\n"
     ]
    }
   ],
   "source": [
    "model = LinearRegression(fit_intercept=False)\n",
    "model.fit(features_train_0, target_train_0)\n",
    "predicted_target_0 = model.predict(features_valid_0)\n",
    "print('RMSE -', mean_squared_error(target_valid_0, predicted_target_0)**0.5)"
   ]
  },
  {
   "cell_type": "markdown",
   "metadata": {},
   "source": [
    "Изменение стандартных значений гиперпараметров не улучшило модель. Произведем вывод предсказанного запаса с реальным и выведем RMSE."
   ]
  },
  {
   "cell_type": "code",
   "execution_count": 30,
   "metadata": {},
   "outputs": [],
   "source": [
    "model = LinearRegression()\n",
    "\n",
    "def oil_predict(df, target_name):\n",
    "    features = df.drop([target_name] , axis=1)\n",
    "    target = df[target_name]\n",
    "    \n",
    "    features_train, features_valid, target_train, target_valid = train_test_split(\n",
    "    features, target, test_size=0.25, random_state=5062020)\n",
    "    \n",
    "    model.fit(features_train, target_train)\n",
    "    predicted_target = model.predict(features_valid)\n",
    "    data = {'real_product' : target_valid,\n",
    "            'predicted_product' : predicted_target         \n",
    "    }\n",
    "    data_frame = pd.DataFrame(data, columns = ['real_product', 'predicted_product'])\n",
    "    rmse = mean_squared_error(target_valid, predicted_target)**0.5\n",
    "    mean = data_frame['predicted_product'].mean()\n",
    "    oil_sum = data_frame['predicted_product'].sum()\n",
    "    return data_frame, rmse, mean, oil_sum"
   ]
  },
  {
   "cell_type": "code",
   "execution_count": 31,
   "metadata": {},
   "outputs": [
    {
     "name": "stdout",
     "output_type": "stream",
     "text": [
      "       real_product  predicted_product\n",
      "34031    132.013360         101.721235\n",
      "71295    127.747440         101.475536\n",
      "51188    146.357394         147.751224\n",
      "89370     16.116933          76.725541\n",
      "23403    132.063108          60.760323\n",
      "RMSE - 37.522739361207734\n",
      "Средний запас запасанного сырья - 92.6114484521939\n"
     ]
    }
   ],
   "source": [
    "geo_data_0_predicted, geo_data_0_rmse, geo_data_0_predicted_mean, geo_data_0_predicted_sum = oil_predict(geo_data_0, 'product')\n",
    "print(geo_data_0_predicted.head())\n",
    "print('RMSE -', geo_data_0_rmse)\n",
    "print('Средний запас запасанного сырья -', geo_data_0_predicted_mean)"
   ]
  },
  {
   "cell_type": "code",
   "execution_count": 32,
   "metadata": {},
   "outputs": [
    {
     "name": "stdout",
     "output_type": "stream",
     "text": [
      "       real_product  predicted_product\n",
      "59670     57.085625          55.098356\n",
      "508      107.813044         108.595791\n",
      "77323     30.132364          28.612257\n",
      "92030     30.132364          30.067975\n",
      "33500     80.859783          81.834507\n",
      "RMSE - 0.8846644310075582\n",
      "Средний запас запасанного сырья - 68.98509316704175\n"
     ]
    }
   ],
   "source": [
    "geo_data_1_predicted, geo_data_1_rmse, geo_data_1_predicted_mean, geo_data_1_predicted_sum = oil_predict(geo_data_1, 'product')\n",
    "print(geo_data_1_predicted.head())\n",
    "print('RMSE -', geo_data_1_rmse)\n",
    "print('Средний запас запасанного сырья -', geo_data_1_predicted_mean)"
   ]
  },
  {
   "cell_type": "code",
   "execution_count": 33,
   "metadata": {},
   "outputs": [
    {
     "name": "stdout",
     "output_type": "stream",
     "text": [
      "       real_product  predicted_product\n",
      "84883    152.588973         128.379182\n",
      "43135     19.707841         102.549292\n",
      "36430    120.838058          95.843200\n",
      "93441    112.791842         116.560184\n",
      "87932    135.706205          92.465885\n",
      "RMSE - 39.973467830251884\n",
      "Средний запас запасанного сырья - 94.77150572060633\n"
     ]
    }
   ],
   "source": [
    "geo_data_2_predicted, geo_data_2_rmse, geo_data_2_predicted_mean, geo_data_2_predicted_sum = oil_predict(geo_data_2, 'product')\n",
    "print(geo_data_2_predicted.head())\n",
    "print('RMSE -', geo_data_2_rmse)\n",
    "print('Средний запас запасанного сырья -', geo_data_2_predicted_mean)"
   ]
  },
  {
   "cell_type": "markdown",
   "metadata": {},
   "source": [
    "Оценим общий запас на регион по предсказанным данным."
   ]
  },
  {
   "cell_type": "code",
   "execution_count": 34,
   "metadata": {},
   "outputs": [
    {
     "name": "stdout",
     "output_type": "stream",
     "text": [
      "Суммарный предсказанный запас в позиции 0 - 2303617.168799871\n",
      "Суммарный реальный запас в позиции 0 - 2290785.3117362503\n",
      "\n",
      "Суммарный предсказанный запас в позиции 1 - 1713658.699362484\n",
      "Суммарный реальный запас в позиции 1 - 1713485.0120418195\n",
      "\n",
      "Суммарный предсказанный запас в позиции 2 - 2321996.661660576\n",
      "Суммарный реальный запас в позиции 2 - 2322326.524473088\n"
     ]
    }
   ],
   "source": [
    "print('Суммарный предсказанный запас в позиции 0 -', geo_data_0_predicted_sum)\n",
    "print('Суммарный реальный запас в позиции 0 -', geo_data_0_predicted['real_product'].sum())\n",
    "print()\n",
    "print('Суммарный предсказанный запас в позиции 1 -', geo_data_1_predicted_sum)\n",
    "print('Суммарный реальный запас в позиции 1 -', geo_data_1_predicted['real_product'].sum())\n",
    "print()\n",
    "print('Суммарный предсказанный запас в позиции 2 -', geo_data_2_predicted_sum)\n",
    "print('Суммарный реальный запас в позиции 2 -', geo_data_2_predicted['real_product'].sum())"
   ]
  },
  {
   "cell_type": "markdown",
   "metadata": {},
   "source": [
    "**Вывод по шагу 2:** \n",
    "\n",
    "Данные предсказаний о количестве нефти по сумме примерно совпадают по сумме с предсказанными значениями.\n",
    "Лучше всего модель предсказала запасы во втором регионе (RMSE - 0.88), далее в первом и третьем соотвественно.\n",
    "\n",
    "\n",
    "Возможно утеряные данные из второго региона сказались на модели и она достаточно сильно переобучилась.\n",
    "\n",
    "\n",
    "Но из-за утери данных и малого запаса в среднем на месторождение, не имеет смысла рассматривать месторождение под номером 2 как прибыльное.\n",
    "\n",
    "\n",
    "Изучим все регионы на риски и прибыль, но в конечном итоге будем выбирать между 1 и 3 регионом."
   ]
  },
  {
   "cell_type": "markdown",
   "metadata": {},
   "source": [
    "## Подготовка к расчёту прибыли"
   ]
  },
  {
   "cell_type": "markdown",
   "metadata": {},
   "source": [
    "Создадим переменные об экономической информации."
   ]
  },
  {
   "cell_type": "code",
   "execution_count": 35,
   "metadata": {},
   "outputs": [],
   "source": [
    "budget = 1e+07 #Мы расчитываем прибыль в тысячах рублей за тысячу барелей, поэтому 1 милиард сохранен таким образом\n",
    "chosen_points = 500\n",
    "best_points = 200\n",
    "price_per_barrel = 450"
   ]
  },
  {
   "cell_type": "markdown",
   "metadata": {},
   "source": [
    "Расчитаем безубыточную разработку сырья на 200 месторождениях. И найдем среднее количество продукта в месторождениях необходимое для этого."
   ]
  },
  {
   "cell_type": "code",
   "execution_count": 36,
   "metadata": {},
   "outputs": [
    {
     "name": "stdout",
     "output_type": "stream",
     "text": [
      "Средняя прибыль на лучшую точку - 50000.0 тыс.руб.\n",
      "Средний объем нефти на точку - 111.11111111111111 тыс. барелей\n",
      "Средний объем нефти на регион - 22222.222222222223 тыс. барелей\n"
     ]
    }
   ],
   "source": [
    "average_profit_per_point = budget / best_points\n",
    "print('Средняя прибыль на лучшую точку -', average_profit_per_point, 'тыс.руб.')\n",
    "\n",
    "average_barrels_per_point = average_profit_per_point  / price_per_barrel\n",
    "print('Средний объем нефти на точку -',average_barrels_per_point, 'тыс. барелей')\n",
    "\n",
    "average_barrels = budget / price_per_barrel\n",
    "print('Средний объем нефти на регион -',average_barrels, 'тыс. барелей')"
   ]
  },
  {
   "cell_type": "code",
   "execution_count": 37,
   "metadata": {},
   "outputs": [
    {
     "name": "stdout",
     "output_type": "stream",
     "text": [
      "Средний запас фактичекой нефти на скважину в регионе 1 -  92.50067661514835\n",
      "Средний запас фактичекой нефти на скважину в регионе 2 -  68.80991858101544\n",
      "Средний запас фактичекой нефти на скважину в регионе 3 -  94.78507187440762\n"
     ]
    }
   ],
   "source": [
    "print('Средний запас фактичекой нефти на скважину в регионе 1 - ', geo_data_0['product'].mean())\n",
    "print('Средний запас фактичекой нефти на скважину в регионе 2 - ', geo_data_1['product'].mean())\n",
    "print('Средний запас фактичекой нефти на скважину в регионе 3 - ', geo_data_2['product'].mean())"
   ]
  },
  {
   "cell_type": "markdown",
   "metadata": {},
   "source": [
    "Создадим функцию для расчета приыли на 500 разведанных точек."
   ]
  },
  {
   "cell_type": "code",
   "execution_count": 38,
   "metadata": {},
   "outputs": [],
   "source": [
    "def oil_profit_calculation(target, probabilities, count):\n",
    "    probs_sorted = probabilities.sort_values(ascending=False)\n",
    "    selected = target[probs_sorted.index][:count]\n",
    "    return price_per_barrel * selected.sum() - budget"
   ]
  },
  {
   "cell_type": "markdown",
   "metadata": {},
   "source": [
    "Выведем распределение предсказанных значений."
   ]
  },
  {
   "cell_type": "code",
   "execution_count": 39,
   "metadata": {},
   "outputs": [
    {
     "data": {
      "image/png": "[encoded data removed]",
      "text/plain": [
       "<Figure size 864x648 with 1 Axes>"
      ]
     },
     "metadata": {
      "needs_background": "light"
     },
     "output_type": "display_data"
    }
   ],
   "source": [
    "oil_hist(geo_data_0_predicted['predicted_product'], 200, 190, 500)"
   ]
  },
  {
   "cell_type": "code",
   "execution_count": 40,
   "metadata": {},
   "outputs": [
    {
     "data": {
      "image/png": "[encoded data removed]",
      "text/plain": [
       "<Figure size 864x648 with 1 Axes>"
      ]
     },
     "metadata": {
      "needs_background": "light"
     },
     "output_type": "display_data"
    }
   ],
   "source": [
    "oil_hist(geo_data_1_predicted['predicted_product'], 20, 150, 5000)"
   ]
  },
  {
   "cell_type": "code",
   "execution_count": 41,
   "metadata": {},
   "outputs": [
    {
     "data": {
      "image/png": "[encoded data removed]",
      "text/plain": [
       "<Figure size 864x648 with 1 Axes>"
      ]
     },
     "metadata": {
      "needs_background": "light"
     },
     "output_type": "display_data"
    }
   ],
   "source": [
    "oil_hist(geo_data_2_predicted['predicted_product'], 200, 190, 500)"
   ]
  },
  {
   "cell_type": "markdown",
   "metadata": {},
   "source": [
    "**Вывод по шагу 3:**\n",
    "\n",
    "Была подготовлена средняя оценка прибили за скважину и средний объем на скважину. И создана функция по расчету прибыли.\n",
    "\n",
    "Анализ средних объемов на скважину для каждого региона следующий.\n",
    "\n",
    "Изучены средние фактические запасы. Для первого и третьего - высокая вероятность окупить затраты. Разброс значений вокруг среднего 92.5 и 95 говорит нам о том, что существует достаточно много скважин, где запасы больше необходимого среднего.\n",
    "\n",
    "В данных из второго датафрейма, возможно, есть определенный смысл - значений больше 111 достаточно много и при определенной доли везения можно выбрать только лучшие в этой выборке, хотя и среднее значение 68.8."
   ]
  },
  {
   "cell_type": "markdown",
   "metadata": {},
   "source": [
    "## Расчёт прибыли и рисков "
   ]
  },
  {
   "cell_type": "code",
   "execution_count": 42,
   "metadata": {},
   "outputs": [],
   "source": [
    "state = np.random.RandomState(5062020)\n",
    "def bootstrap_1000(target, probs):\n",
    "    values=[]\n",
    "    lost = 0\n",
    "    for i in range(1000):\n",
    "        target_sample = target.sample(replace=True, random_state=state, n=chosen_points)\n",
    "        probs_sample = probs[target_sample.index]\n",
    "        profit = oil_profit_calculation(target, probs_sample, best_points)\n",
    "        if profit < 0:\n",
    "            lost +=1\n",
    "        values.append(profit)\n",
    "    \n",
    "    values = pd.Series(values)\n",
    "    lower = values.quantile(0.025)\n",
    "    upper = values.quantile(0.975)\n",
    "    average = values.mean()\n",
    "    risk = lost / 1000\n",
    "    return average, lower, upper, risk"
   ]
  },
  {
   "cell_type": "code",
   "execution_count": 43,
   "metadata": {},
   "outputs": [
    {
     "name": "stdout",
     "output_type": "stream",
     "text": [
      "Данные по первому региону.\n",
      "Средняя прибыль по региону = 425551.33 тыс.руб.\n",
      "95% доверительный интервал от -90799.78 до 935524.57 тыс.руб.\n",
      "Процент риска 5.80%\n"
     ]
    }
   ],
   "source": [
    "average_0, lower_0, upper_0, risk_0 = bootstrap_1000(geo_data_0_predicted['real_product'], \n",
    "                                                     geo_data_0_predicted['predicted_product'])\n",
    "print('Данные по первому региону.')\n",
    "print('Средняя прибыль по региону = {:.2f} тыс.руб.'.format(average_0))\n",
    "print('95% доверительный интервал от {:.2f} до {:.2f} тыс.руб.'.format(lower_0, upper_0))\n",
    "print('Процент риска {:.2%}'.format(risk_0))"
   ]
  },
  {
   "cell_type": "code",
   "execution_count": 44,
   "metadata": {},
   "outputs": [
    {
     "name": "stdout",
     "output_type": "stream",
     "text": [
      "Данные по первому региону.\n",
      "Средняя прибыль по региону = 479779.94 тыс.руб.\n",
      "95% доверительный интервал от 78025.93 до 885850.93 тыс.руб.\n",
      "Процент риска 1.20%\n"
     ]
    }
   ],
   "source": [
    "average_1, lower_1, upper_1, risk_1 = bootstrap_1000(geo_data_1_predicted['real_product'], \n",
    "                                                     geo_data_1_predicted['predicted_product'])\n",
    "print('Данные по первому региону.')\n",
    "print('Средняя прибыль по региону = {:.2f} тыс.руб.'.format(average_1))\n",
    "print('95% доверительный интервал от {:.2f} до {:.2f} тыс.руб.'.format(lower_1, upper_1))\n",
    "print('Процент риска {:.2%}'.format(risk_1))"
   ]
  },
  {
   "cell_type": "code",
   "execution_count": 45,
   "metadata": {},
   "outputs": [
    {
     "name": "stdout",
     "output_type": "stream",
     "text": [
      "Данные по первому региону.\n",
      "Средняя прибыль по региону = 284462.12 тыс.руб.\n",
      "95% доверительный интервал от -212786.88 до 778797.34 тыс.руб.\n",
      "Процент риска 14.40%\n"
     ]
    }
   ],
   "source": [
    "average_2, lower_2, upper_2, risk_2 = bootstrap_1000(geo_data_2_predicted['real_product'], \n",
    "                                                     geo_data_2_predicted['predicted_product'])\n",
    "print('Данные по первому региону.')\n",
    "print('Средняя прибыль по региону = {:.2f} тыс.руб.'.format(average_2))\n",
    "print('95% доверительный интервал от {:.2f} до {:.2f} тыс.руб.'.format(lower_2, upper_2))\n",
    "print('Процент риска {:.2%}'.format(risk_2))"
   ]
  },
  {
   "cell_type": "markdown",
   "metadata": {},
   "source": [
    "**Вывод по шагу 4:**\n",
    "\n",
    "Данные были обработаны и рассчитаны прибыль, интервал и риски.\n",
    "\n",
    "Мы отсеиваем первый и третий регион, так как риски остаточно велики.\n",
    "Остается один единственный - второй, чей риск ниже требуемого. Кроме того доверительный интервал показывает, что даже при не очень удачном выборе разработка скважин окупится."
   ]
  },
  {
   "cell_type": "markdown",
   "metadata": {},
   "source": [
    "# Итоговый вывод\n",
    "\n",
    "При выполнении следующего проекта было выполнено:\n",
    "\n",
    "1. Изучины данные. Проведена подготовка данных к моделированию (пропусков нет, дубликатов нет, выбивающиеся (аномальные) значение устранены, масштабирование данных не потребовалось)\n",
    "2. Обучена модель для каждого региона geo_data_0, geo_data_1 и geo_data_2. (проведена работа с гиперпараметрами модели)\n",
    "3. Составлена функция расчета прибыли в регионе.\n",
    "4. Посчитана прибыль и риски за каждый регион и обоснован выбор региона.\n",
    "\n",
    "***Второй*** регион получился одним из лучших по показателям предсказывания, хотя данные не выглядят нормально распределенными."
   ]
  }
 ],
 "metadata": {
  "ExecuteTimeLog": [
   {
    "duration": 1434,
    "start_time": "2023-01-09T10:05:44.008Z"
   },
   {
    "duration": 548,
    "start_time": "2023-01-09T10:07:29.924Z"
   },
   {
    "duration": 631,
    "start_time": "2023-01-09T10:07:45.687Z"
   },
   {
    "duration": 643,
    "start_time": "2023-01-09T10:07:52.612Z"
   },
   {
    "duration": 4,
    "start_time": "2023-01-09T10:22:31.451Z"
   },
   {
    "duration": 323,
    "start_time": "2023-01-09T10:23:31.731Z"
   },
   {
    "duration": 294,
    "start_time": "2023-01-09T10:23:54.273Z"
   },
   {
    "duration": 303,
    "start_time": "2023-01-09T10:23:56.969Z"
   },
   {
    "duration": 381,
    "start_time": "2023-01-09T10:24:00.001Z"
   },
   {
    "duration": 300,
    "start_time": "2023-01-09T10:24:01.524Z"
   },
   {
    "duration": 51,
    "start_time": "2023-01-09T10:29:20.778Z"
   },
   {
    "duration": 314,
    "start_time": "2023-01-09T10:29:23.677Z"
   },
   {
    "duration": 3,
    "start_time": "2023-01-09T10:29:33.270Z"
   },
   {
    "duration": 407,
    "start_time": "2023-01-09T10:29:35.362Z"
   },
   {
    "duration": 5,
    "start_time": "2023-01-09T10:34:55.347Z"
   },
   {
    "duration": 3,
    "start_time": "2023-01-09T10:34:58.107Z"
   },
   {
    "duration": 895,
    "start_time": "2023-01-09T10:35:02.156Z"
   },
   {
    "duration": 943,
    "start_time": "2023-01-09T10:35:07.407Z"
   },
   {
    "duration": 806,
    "start_time": "2023-01-09T10:35:10.272Z"
   },
   {
    "duration": 3,
    "start_time": "2023-01-09T10:35:30.586Z"
   },
   {
    "duration": 3594,
    "start_time": "2023-01-09T10:35:32.624Z"
   },
   {
    "duration": 3,
    "start_time": "2023-01-09T10:35:50.426Z"
   },
   {
    "duration": 914,
    "start_time": "2023-01-09T10:35:53.355Z"
   },
   {
    "duration": 1015,
    "start_time": "2023-01-09T10:35:56.146Z"
   },
   {
    "duration": 861,
    "start_time": "2023-01-09T10:36:01.270Z"
   },
   {
    "duration": 4,
    "start_time": "2023-01-09T10:38:06.433Z"
   },
   {
    "duration": 797,
    "start_time": "2023-01-09T10:38:07.214Z"
   },
   {
    "duration": 4,
    "start_time": "2023-01-09T10:38:12.465Z"
   },
   {
    "duration": 941,
    "start_time": "2023-01-09T10:38:13.416Z"
   },
   {
    "duration": 4,
    "start_time": "2023-01-09T10:38:19.369Z"
   },
   {
    "duration": 835,
    "start_time": "2023-01-09T10:38:22.465Z"
   },
   {
    "duration": 3,
    "start_time": "2023-01-09T10:38:26.770Z"
   },
   {
    "duration": 817,
    "start_time": "2023-01-09T10:38:31.810Z"
   },
   {
    "duration": 3,
    "start_time": "2023-01-09T10:42:37.321Z"
   },
   {
    "duration": 534,
    "start_time": "2023-01-09T10:42:38.624Z"
   },
   {
    "duration": 555,
    "start_time": "2023-01-09T10:42:41.865Z"
   },
   {
    "duration": 517,
    "start_time": "2023-01-09T10:42:44.561Z"
   },
   {
    "duration": 4,
    "start_time": "2023-01-09T10:44:18.128Z"
   },
   {
    "duration": 56,
    "start_time": "2023-01-09T10:44:19.432Z"
   },
   {
    "duration": 4,
    "start_time": "2023-01-09T10:44:26.011Z"
   },
   {
    "duration": 520,
    "start_time": "2023-01-09T10:44:27.513Z"
   },
   {
    "duration": 278,
    "start_time": "2023-01-09T10:46:33.648Z"
   },
   {
    "duration": 14,
    "start_time": "2023-01-09T10:47:10.461Z"
   },
   {
    "duration": 145,
    "start_time": "2023-01-09T10:47:13.990Z"
   },
   {
    "duration": 334,
    "start_time": "2023-01-09T10:47:19.354Z"
   },
   {
    "duration": 338,
    "start_time": "2023-01-09T10:48:03.442Z"
   },
   {
    "duration": 313,
    "start_time": "2023-01-09T10:48:19.929Z"
   },
   {
    "duration": 302,
    "start_time": "2023-01-09T10:48:54.265Z"
   },
   {
    "duration": 137,
    "start_time": "2023-01-09T10:50:55.465Z"
   },
   {
    "duration": 265,
    "start_time": "2023-01-09T10:51:10.196Z"
   },
   {
    "duration": 296,
    "start_time": "2023-01-09T10:51:20.161Z"
   },
   {
    "duration": 265,
    "start_time": "2023-01-09T10:51:23.216Z"
   },
   {
    "duration": 1829,
    "start_time": "2023-01-10T08:16:12.467Z"
   },
   {
    "duration": 4,
    "start_time": "2023-01-10T08:16:25.306Z"
   },
   {
    "duration": 761,
    "start_time": "2023-01-10T08:16:25.312Z"
   },
   {
    "duration": 676,
    "start_time": "2023-01-10T08:16:26.075Z"
   },
   {
    "duration": 692,
    "start_time": "2023-01-10T08:16:26.752Z"
   },
   {
    "duration": 4,
    "start_time": "2023-01-10T08:16:27.446Z"
   },
   {
    "duration": 681,
    "start_time": "2023-01-10T08:16:27.451Z"
   },
   {
    "duration": 625,
    "start_time": "2023-01-10T08:16:28.134Z"
   },
   {
    "duration": 597,
    "start_time": "2023-01-10T08:16:28.760Z"
   },
   {
    "duration": 500,
    "start_time": "2023-01-10T08:16:29.358Z"
   },
   {
    "duration": 333,
    "start_time": "2023-01-10T08:16:29.862Z"
   },
   {
    "duration": 313,
    "start_time": "2023-01-10T08:16:30.196Z"
   },
   {
    "duration": 3,
    "start_time": "2023-01-10T08:32:29.662Z"
   },
   {
    "duration": 451,
    "start_time": "2023-01-10T08:32:47.048Z"
   },
   {
    "duration": 4,
    "start_time": "2023-01-10T09:44:57.485Z"
   },
   {
    "duration": 1101,
    "start_time": "2023-01-10T09:44:59.093Z"
   },
   {
    "duration": 6,
    "start_time": "2023-01-10T09:46:04.068Z"
   },
   {
    "duration": 545,
    "start_time": "2023-01-10T09:46:05.813Z"
   },
   {
    "duration": 670,
    "start_time": "2023-01-10T09:46:09.045Z"
   },
   {
    "duration": 483,
    "start_time": "2023-01-10T09:46:11.437Z"
   },
   {
    "duration": 4,
    "start_time": "2023-01-10T09:46:46.644Z"
   },
   {
    "duration": 513,
    "start_time": "2023-01-10T09:46:49.013Z"
   },
   {
    "duration": 437,
    "start_time": "2023-01-10T09:47:45.358Z"
   },
   {
    "duration": 610,
    "start_time": "2023-01-10T09:47:53.871Z"
   },
   {
    "duration": 468,
    "start_time": "2023-01-10T09:48:18.620Z"
   },
   {
    "duration": 520,
    "start_time": "2023-01-10T09:48:22.573Z"
   },
   {
    "duration": 460,
    "start_time": "2023-01-10T09:48:32.205Z"
   },
   {
    "duration": 73,
    "start_time": "2023-01-10T10:13:51.135Z"
   },
   {
    "duration": 71,
    "start_time": "2023-01-10T10:13:54.412Z"
   },
   {
    "duration": 177,
    "start_time": "2023-01-10T10:13:57.571Z"
   },
   {
    "duration": 69,
    "start_time": "2023-01-11T05:04:01.568Z"
   },
   {
    "duration": 1577,
    "start_time": "2023-01-11T05:04:04.756Z"
   },
   {
    "duration": 1058,
    "start_time": "2023-01-11T05:04:06.335Z"
   },
   {
    "duration": 642,
    "start_time": "2023-01-11T05:04:20.807Z"
   },
   {
    "duration": 620,
    "start_time": "2023-01-11T05:04:27.781Z"
   },
   {
    "duration": 71,
    "start_time": "2023-01-11T05:05:27.932Z"
   },
   {
    "duration": 4,
    "start_time": "2023-01-11T05:05:44.819Z"
   },
   {
    "duration": 580,
    "start_time": "2023-01-11T05:05:46.484Z"
   },
   {
    "duration": 10,
    "start_time": "2023-01-11T10:18:38.474Z"
   },
   {
    "duration": 84,
    "start_time": "2023-01-11T10:18:52.950Z"
   },
   {
    "duration": 10,
    "start_time": "2023-01-11T10:19:33.482Z"
   },
   {
    "duration": 1626,
    "start_time": "2023-01-11T10:19:38.150Z"
   },
   {
    "duration": 13,
    "start_time": "2023-01-11T10:19:42.857Z"
   },
   {
    "duration": 703,
    "start_time": "2023-01-11T10:19:42.877Z"
   },
   {
    "duration": 665,
    "start_time": "2023-01-11T10:19:43.582Z"
   },
   {
    "duration": 592,
    "start_time": "2023-01-11T10:19:44.249Z"
   },
   {
    "duration": 4,
    "start_time": "2023-01-11T10:19:44.844Z"
   },
   {
    "duration": 630,
    "start_time": "2023-01-11T10:19:44.850Z"
   },
   {
    "duration": 635,
    "start_time": "2023-01-11T10:19:45.482Z"
   },
   {
    "duration": 543,
    "start_time": "2023-01-11T10:19:46.119Z"
   },
   {
    "duration": 5,
    "start_time": "2023-01-11T10:19:46.664Z"
   },
   {
    "duration": 552,
    "start_time": "2023-01-11T10:19:46.670Z"
   },
   {
    "duration": 490,
    "start_time": "2023-01-11T10:19:47.224Z"
   },
   {
    "duration": 503,
    "start_time": "2023-01-11T10:19:47.716Z"
   },
   {
    "duration": 4,
    "start_time": "2023-01-11T10:19:48.221Z"
   },
   {
    "duration": 240,
    "start_time": "2023-01-11T10:19:48.229Z"
   },
   {
    "duration": 377,
    "start_time": "2023-01-11T10:19:48.470Z"
   },
   {
    "duration": 374,
    "start_time": "2023-01-11T10:19:48.849Z"
   },
   {
    "duration": 493,
    "start_time": "2023-01-11T10:19:49.225Z"
   },
   {
    "duration": 74,
    "start_time": "2023-01-11T10:20:43.650Z"
   },
   {
    "duration": 10,
    "start_time": "2023-01-11T10:20:58.755Z"
   },
   {
    "duration": 334,
    "start_time": "2023-01-11T10:21:01.398Z"
   },
   {
    "duration": 332,
    "start_time": "2023-01-11T10:21:03.895Z"
   },
   {
    "duration": 283,
    "start_time": "2023-01-11T10:21:06.807Z"
   },
   {
    "duration": 16,
    "start_time": "2023-01-11T10:23:47.495Z"
   },
   {
    "duration": 12,
    "start_time": "2023-01-11T10:24:18.559Z"
   },
   {
    "duration": 6,
    "start_time": "2023-01-11T10:24:24.719Z"
   },
   {
    "duration": 6,
    "start_time": "2023-01-11T10:24:31.548Z"
   },
   {
    "duration": 7,
    "start_time": "2023-01-11T10:25:20.159Z"
   },
   {
    "duration": 4,
    "start_time": "2023-01-11T10:30:19.461Z"
   },
   {
    "duration": 91,
    "start_time": "2023-01-11T10:32:17.640Z"
   },
   {
    "duration": 31,
    "start_time": "2023-01-11T10:37:47.923Z"
   },
   {
    "duration": 1133,
    "start_time": "2023-01-11T10:39:23.854Z"
   },
   {
    "duration": 1040,
    "start_time": "2023-01-11T10:40:58.318Z"
   },
   {
    "duration": 6,
    "start_time": "2023-01-11T10:41:48.621Z"
   },
   {
    "duration": 1032,
    "start_time": "2023-01-11T10:42:14.819Z"
   },
   {
    "duration": 32,
    "start_time": "2023-01-11T10:44:05.997Z"
   },
   {
    "duration": 94,
    "start_time": "2023-01-11T10:44:25.387Z"
   },
   {
    "duration": 99,
    "start_time": "2023-01-11T10:44:52.621Z"
   },
   {
    "duration": 1127,
    "start_time": "2023-01-11T10:46:06.953Z"
   },
   {
    "duration": 20,
    "start_time": "2023-01-11T10:47:44.572Z"
   },
   {
    "duration": 13,
    "start_time": "2023-01-11T10:47:59.519Z"
   },
   {
    "duration": 112,
    "start_time": "2023-01-11T10:48:28.988Z"
   },
   {
    "duration": 9,
    "start_time": "2023-01-11T10:49:10.518Z"
   },
   {
    "duration": 11,
    "start_time": "2023-01-11T10:49:40.935Z"
   },
   {
    "duration": 12,
    "start_time": "2023-01-11T10:49:49.133Z"
   },
   {
    "duration": 1163,
    "start_time": "2023-01-11T10:50:00.137Z"
   },
   {
    "duration": 3,
    "start_time": "2023-01-11T10:51:57.591Z"
   },
   {
    "duration": 3,
    "start_time": "2023-01-11T10:51:59.920Z"
   },
   {
    "duration": 1161,
    "start_time": "2023-01-11T10:52:22.470Z"
   },
   {
    "duration": 3,
    "start_time": "2023-01-11T10:52:34.268Z"
   },
   {
    "duration": 1154,
    "start_time": "2023-01-11T10:52:35.099Z"
   },
   {
    "duration": 133,
    "start_time": "2023-01-11T11:07:18.240Z"
   },
   {
    "duration": 1180,
    "start_time": "2023-01-11T11:08:49.735Z"
   },
   {
    "duration": 144,
    "start_time": "2023-01-11T11:09:04.846Z"
   },
   {
    "duration": 3,
    "start_time": "2023-01-11T11:10:40.574Z"
   },
   {
    "duration": 3,
    "start_time": "2023-01-11T11:10:42.291Z"
   },
   {
    "duration": 86,
    "start_time": "2023-01-11T11:10:59.077Z"
   },
   {
    "duration": 3,
    "start_time": "2023-01-11T11:11:16.172Z"
   },
   {
    "duration": 73,
    "start_time": "2023-01-11T11:11:31.997Z"
   },
   {
    "duration": 72,
    "start_time": "2023-01-11T11:11:50.643Z"
   },
   {
    "duration": 3,
    "start_time": "2023-01-11T11:11:55.419Z"
   },
   {
    "duration": 3,
    "start_time": "2023-01-11T11:12:02.894Z"
   },
   {
    "duration": 16,
    "start_time": "2023-01-11T11:12:04.203Z"
   },
   {
    "duration": 11,
    "start_time": "2023-01-11T11:13:53.900Z"
   },
   {
    "duration": 3,
    "start_time": "2023-01-11T11:13:56.100Z"
   },
   {
    "duration": 521,
    "start_time": "2023-01-11T11:13:57.372Z"
   },
   {
    "duration": 572,
    "start_time": "2023-01-11T11:13:59.412Z"
   },
   {
    "duration": 517,
    "start_time": "2023-01-11T11:14:01.317Z"
   },
   {
    "duration": 581,
    "start_time": "2023-01-11T11:14:04.300Z"
   },
   {
    "duration": 454,
    "start_time": "2023-01-11T11:14:06.284Z"
   },
   {
    "duration": 1087,
    "start_time": "2023-01-11T11:14:15.136Z"
   },
   {
    "duration": 1318,
    "start_time": "2023-01-11T11:15:00.077Z"
   },
   {
    "duration": 560,
    "start_time": "2023-01-11T11:15:12.869Z"
   },
   {
    "duration": 30,
    "start_time": "2023-01-11T11:15:23.572Z"
   },
   {
    "duration": 626,
    "start_time": "2023-01-11T11:15:28.404Z"
   },
   {
    "duration": 1268,
    "start_time": "2023-01-11T11:15:39.249Z"
   },
   {
    "duration": 187,
    "start_time": "2023-01-11T11:16:06.348Z"
   },
   {
    "duration": 22,
    "start_time": "2023-01-11T11:16:21.268Z"
   },
   {
    "duration": 1325,
    "start_time": "2023-01-11T11:16:29.884Z"
   },
   {
    "duration": 1233,
    "start_time": "2023-01-11T11:16:37.467Z"
   },
   {
    "duration": 71,
    "start_time": "2023-01-11T11:18:12.283Z"
   },
   {
    "duration": 68,
    "start_time": "2023-01-11T11:18:16.171Z"
   },
   {
    "duration": 75,
    "start_time": "2023-01-11T11:18:42.011Z"
   },
   {
    "duration": 3,
    "start_time": "2023-01-11T11:18:43.555Z"
   },
   {
    "duration": 16,
    "start_time": "2023-01-11T11:19:07.060Z"
   },
   {
    "duration": 892,
    "start_time": "2023-01-11T11:31:19.499Z"
   },
   {
    "duration": 898,
    "start_time": "2023-01-11T11:31:33.928Z"
   },
   {
    "duration": 705,
    "start_time": "2023-01-11T11:33:12.107Z"
   },
   {
    "duration": 526,
    "start_time": "2023-01-11T11:33:20.135Z"
   },
   {
    "duration": 14,
    "start_time": "2023-01-11T11:34:28.555Z"
   },
   {
    "duration": 23,
    "start_time": "2023-01-11T11:35:51.099Z"
   },
   {
    "duration": 19,
    "start_time": "2023-01-11T11:36:03.508Z"
   },
   {
    "duration": 23,
    "start_time": "2023-01-11T11:36:06.995Z"
   },
   {
    "duration": 16,
    "start_time": "2023-01-11T11:37:51.612Z"
   },
   {
    "duration": 3,
    "start_time": "2023-01-11T11:37:58.340Z"
   },
   {
    "duration": 175,
    "start_time": "2023-01-11T11:37:59.796Z"
   },
   {
    "duration": 197,
    "start_time": "2023-01-11T11:38:03.155Z"
   },
   {
    "duration": 173,
    "start_time": "2023-01-11T11:38:05.535Z"
   },
   {
    "duration": 13,
    "start_time": "2023-01-11T11:38:09.003Z"
   },
   {
    "duration": 4,
    "start_time": "2023-01-11T11:38:11.779Z"
   },
   {
    "duration": 501,
    "start_time": "2023-01-11T11:38:12.883Z"
   },
   {
    "duration": 537,
    "start_time": "2023-01-11T11:38:14.596Z"
   },
   {
    "duration": 634,
    "start_time": "2023-01-11T11:38:16.155Z"
   },
   {
    "duration": 475,
    "start_time": "2023-01-11T11:38:18.595Z"
   },
   {
    "duration": 444,
    "start_time": "2023-01-11T11:38:21.170Z"
   },
   {
    "duration": 519,
    "start_time": "2023-01-11T11:38:23.327Z"
   },
   {
    "duration": 687,
    "start_time": "2023-01-11T11:38:26.147Z"
   },
   {
    "duration": 742,
    "start_time": "2023-01-11T11:38:39.897Z"
   },
   {
    "duration": 12,
    "start_time": "2023-01-11T11:39:18.547Z"
   },
   {
    "duration": 492,
    "start_time": "2023-01-11T11:40:14.314Z"
   },
   {
    "duration": 885,
    "start_time": "2023-01-11T11:40:18.570Z"
   },
   {
    "duration": 295,
    "start_time": "2023-01-11T11:40:31.707Z"
   },
   {
    "duration": 492,
    "start_time": "2023-01-11T11:40:36.746Z"
   },
   {
    "duration": 703,
    "start_time": "2023-01-11T11:40:40.650Z"
   },
   {
    "duration": 1094,
    "start_time": "2023-01-11T11:40:47.786Z"
   },
   {
    "duration": 699,
    "start_time": "2023-01-11T11:40:59.656Z"
   },
   {
    "duration": 10,
    "start_time": "2023-01-11T11:48:01.036Z"
   },
   {
    "duration": 91,
    "start_time": "2023-01-11T11:48:22.211Z"
   },
   {
    "duration": 108,
    "start_time": "2023-01-11T11:48:34.236Z"
   },
   {
    "duration": 426,
    "start_time": "2023-01-11T11:53:29.654Z"
   },
   {
    "duration": 12,
    "start_time": "2023-01-11T11:53:38.649Z"
   },
   {
    "duration": 291,
    "start_time": "2023-01-11T11:53:44.746Z"
   },
   {
    "duration": 11,
    "start_time": "2023-01-11T11:54:57.305Z"
   },
   {
    "duration": 14,
    "start_time": "2023-01-11T11:55:06.996Z"
   },
   {
    "duration": 1439,
    "start_time": "2023-01-11T12:02:53.100Z"
   },
   {
    "duration": 182,
    "start_time": "2023-01-11T12:02:57.498Z"
   },
   {
    "duration": 5,
    "start_time": "2023-01-11T12:03:02.646Z"
   },
   {
    "duration": 217,
    "start_time": "2023-01-11T12:03:02.653Z"
   },
   {
    "duration": 175,
    "start_time": "2023-01-11T12:03:02.872Z"
   },
   {
    "duration": 167,
    "start_time": "2023-01-11T12:03:03.049Z"
   },
   {
    "duration": 19,
    "start_time": "2023-01-11T12:03:03.219Z"
   },
   {
    "duration": 41,
    "start_time": "2023-01-11T12:03:03.241Z"
   },
   {
    "duration": 551,
    "start_time": "2023-01-11T12:03:03.284Z"
   },
   {
    "duration": 690,
    "start_time": "2023-01-11T12:03:03.837Z"
   },
   {
    "duration": 553,
    "start_time": "2023-01-11T12:03:04.530Z"
   },
   {
    "duration": 4,
    "start_time": "2023-01-11T12:03:05.086Z"
   },
   {
    "duration": 561,
    "start_time": "2023-01-11T12:03:05.093Z"
   },
   {
    "duration": 507,
    "start_time": "2023-01-11T12:03:05.656Z"
   },
   {
    "duration": 521,
    "start_time": "2023-01-11T12:03:06.165Z"
   },
   {
    "duration": 364,
    "start_time": "2023-01-11T12:03:06.688Z"
   },
   {
    "duration": 1809,
    "start_time": "2023-01-12T03:57:35.239Z"
   },
   {
    "duration": 295,
    "start_time": "2023-01-12T03:57:37.051Z"
   },
   {
    "duration": 281,
    "start_time": "2023-01-12T03:57:37.348Z"
   },
   {
    "duration": 274,
    "start_time": "2023-01-12T03:57:37.632Z"
   },
   {
    "duration": 14,
    "start_time": "2023-01-12T03:57:37.908Z"
   },
   {
    "duration": 19,
    "start_time": "2023-01-12T03:57:37.924Z"
   },
   {
    "duration": 673,
    "start_time": "2023-01-12T03:57:37.945Z"
   },
   {
    "duration": 653,
    "start_time": "2023-01-12T03:57:38.620Z"
   },
   {
    "duration": 600,
    "start_time": "2023-01-12T03:57:39.275Z"
   },
   {
    "duration": 4,
    "start_time": "2023-01-12T03:57:39.878Z"
   },
   {
    "duration": 599,
    "start_time": "2023-01-12T03:57:39.884Z"
   },
   {
    "duration": 506,
    "start_time": "2023-01-12T03:57:40.485Z"
   },
   {
    "duration": 506,
    "start_time": "2023-01-12T03:57:40.993Z"
   },
   {
    "duration": 379,
    "start_time": "2023-01-12T03:57:41.500Z"
   },
   {
    "duration": 4,
    "start_time": "2023-01-12T03:57:41.881Z"
   },
   {
    "duration": 278,
    "start_time": "2023-01-12T03:57:41.887Z"
   },
   {
    "duration": 9,
    "start_time": "2023-01-12T03:57:42.167Z"
   },
   {
    "duration": 514,
    "start_time": "2023-01-12T03:57:42.177Z"
   },
   {
    "duration": 445,
    "start_time": "2023-01-12T03:57:42.693Z"
   },
   {
    "duration": 340,
    "start_time": "2023-01-12T03:57:43.141Z"
   },
   {
    "duration": 3,
    "start_time": "2023-01-12T03:57:43.483Z"
   },
   {
    "duration": 21,
    "start_time": "2023-01-12T03:57:43.488Z"
   },
   {
    "duration": 122,
    "start_time": "2023-01-12T04:53:05.859Z"
   },
   {
    "duration": 272,
    "start_time": "2023-01-12T04:53:13.671Z"
   },
   {
    "duration": 131,
    "start_time": "2023-01-12T04:53:51.383Z"
   },
   {
    "duration": 272,
    "start_time": "2023-01-12T04:53:59.151Z"
   },
   {
    "duration": 325,
    "start_time": "2023-01-12T04:55:54.176Z"
   },
   {
    "duration": 80,
    "start_time": "2023-01-12T04:55:57.800Z"
   },
   {
    "duration": 452,
    "start_time": "2023-01-12T04:56:12.624Z"
   },
   {
    "duration": 10,
    "start_time": "2023-01-12T04:56:44.560Z"
   },
   {
    "duration": 13,
    "start_time": "2023-01-12T04:56:54.121Z"
   },
   {
    "duration": 10,
    "start_time": "2023-01-12T04:57:06.272Z"
   },
   {
    "duration": 326,
    "start_time": "2023-01-12T04:57:14.695Z"
   },
   {
    "duration": 89,
    "start_time": "2023-01-12T04:57:18.990Z"
   },
   {
    "duration": 15,
    "start_time": "2023-01-12T05:00:41.109Z"
   },
   {
    "duration": 17,
    "start_time": "2023-01-12T05:01:17.023Z"
   },
   {
    "duration": 159,
    "start_time": "2023-01-12T05:01:23.800Z"
   },
   {
    "duration": 202,
    "start_time": "2023-01-12T05:02:02.616Z"
   },
   {
    "duration": 171,
    "start_time": "2023-01-12T05:02:08.639Z"
   },
   {
    "duration": 101,
    "start_time": "2023-01-12T05:02:28.903Z"
   },
   {
    "duration": 95,
    "start_time": "2023-01-12T05:02:48.263Z"
   },
   {
    "duration": 87,
    "start_time": "2023-01-12T05:02:50.294Z"
   },
   {
    "duration": 101,
    "start_time": "2023-01-12T05:02:53.350Z"
   },
   {
    "duration": 100,
    "start_time": "2023-01-12T05:02:54.944Z"
   },
   {
    "duration": 47,
    "start_time": "2023-01-12T05:16:27.590Z"
   },
   {
    "duration": 173,
    "start_time": "2023-01-12T05:16:35.882Z"
   },
   {
    "duration": 312,
    "start_time": "2023-01-12T05:16:44.735Z"
   },
   {
    "duration": 335,
    "start_time": "2023-01-12T05:21:21.503Z"
   },
   {
    "duration": 310,
    "start_time": "2023-01-12T05:21:23.501Z"
   },
   {
    "duration": 256,
    "start_time": "2023-01-12T05:25:28.548Z"
   },
   {
    "duration": 255,
    "start_time": "2023-01-12T05:25:31.277Z"
   },
   {
    "duration": 838,
    "start_time": "2023-01-12T05:25:42.094Z"
   },
   {
    "duration": 7,
    "start_time": "2023-01-12T05:32:21.484Z"
   },
   {
    "duration": 1023,
    "start_time": "2023-01-12T05:32:29.998Z"
   },
   {
    "duration": 1142,
    "start_time": "2023-01-12T05:33:38.709Z"
   },
   {
    "duration": 1379,
    "start_time": "2023-01-12T05:33:59.898Z"
   },
   {
    "duration": 194,
    "start_time": "2023-01-12T05:34:01.279Z"
   },
   {
    "duration": 179,
    "start_time": "2023-01-12T05:34:01.475Z"
   },
   {
    "duration": 195,
    "start_time": "2023-01-12T05:34:01.656Z"
   },
   {
    "duration": 5,
    "start_time": "2023-01-12T05:34:01.853Z"
   },
   {
    "duration": 768,
    "start_time": "2023-01-12T05:34:01.860Z"
   },
   {
    "duration": 657,
    "start_time": "2023-01-12T05:34:02.635Z"
   },
   {
    "duration": 596,
    "start_time": "2023-01-12T05:34:03.294Z"
   },
   {
    "duration": 3,
    "start_time": "2023-01-12T05:34:03.893Z"
   },
   {
    "duration": 642,
    "start_time": "2023-01-12T05:34:03.899Z"
   },
   {
    "duration": 499,
    "start_time": "2023-01-12T05:34:04.543Z"
   },
   {
    "duration": 541,
    "start_time": "2023-01-12T05:34:05.045Z"
   },
   {
    "duration": 1276,
    "start_time": "2023-01-12T05:34:05.588Z"
   },
   {
    "duration": 6,
    "start_time": "2023-01-12T05:34:06.867Z"
   },
   {
    "duration": 268,
    "start_time": "2023-01-12T05:34:06.874Z"
   },
   {
    "duration": 9,
    "start_time": "2023-01-12T05:34:07.144Z"
   },
   {
    "duration": 361,
    "start_time": "2023-01-12T05:34:07.154Z"
   },
   {
    "duration": 361,
    "start_time": "2023-01-12T05:34:07.517Z"
   },
   {
    "duration": 375,
    "start_time": "2023-01-12T05:34:07.881Z"
   },
   {
    "duration": 11,
    "start_time": "2023-01-12T05:34:08.258Z"
   },
   {
    "duration": 31,
    "start_time": "2023-01-12T05:34:08.270Z"
   },
   {
    "duration": 30,
    "start_time": "2023-01-12T05:34:08.302Z"
   },
   {
    "duration": 117,
    "start_time": "2023-01-12T05:37:13.366Z"
   },
   {
    "duration": 19,
    "start_time": "2023-01-12T05:37:17.558Z"
   },
   {
    "duration": 1121,
    "start_time": "2023-01-12T05:37:33.436Z"
   },
   {
    "duration": 1267,
    "start_time": "2023-01-12T05:37:45.357Z"
   },
   {
    "duration": 928,
    "start_time": "2023-01-12T05:38:23.014Z"
   },
   {
    "duration": 1259,
    "start_time": "2023-01-12T05:38:37.733Z"
   },
   {
    "duration": 4,
    "start_time": "2023-01-12T05:39:32.261Z"
   },
   {
    "duration": 4,
    "start_time": "2023-01-12T05:39:35.053Z"
   },
   {
    "duration": 21,
    "start_time": "2023-01-12T05:40:19.571Z"
   },
   {
    "duration": 38,
    "start_time": "2023-01-12T05:40:41.452Z"
   },
   {
    "duration": 218,
    "start_time": "2023-01-12T05:40:55.444Z"
   },
   {
    "duration": 216,
    "start_time": "2023-01-12T05:41:14.748Z"
   },
   {
    "duration": 51,
    "start_time": "2023-01-12T05:41:26.939Z"
   },
   {
    "duration": 15,
    "start_time": "2023-01-12T05:41:36.828Z"
   },
   {
    "duration": 20,
    "start_time": "2023-01-12T05:41:56.204Z"
   },
   {
    "duration": 5,
    "start_time": "2023-01-12T05:42:19.564Z"
   },
   {
    "duration": 118,
    "start_time": "2023-01-12T05:42:37.516Z"
   },
   {
    "duration": 102,
    "start_time": "2023-01-12T05:42:56.037Z"
   },
   {
    "duration": 74,
    "start_time": "2023-01-12T05:43:04.164Z"
   },
   {
    "duration": 48,
    "start_time": "2023-01-12T05:43:22.300Z"
   },
   {
    "duration": 9,
    "start_time": "2023-01-12T05:43:38.260Z"
   },
   {
    "duration": 58,
    "start_time": "2023-01-12T05:46:55.518Z"
   },
   {
    "duration": 3,
    "start_time": "2023-01-12T05:50:39.124Z"
   },
   {
    "duration": 6,
    "start_time": "2023-01-12T05:51:02.572Z"
   },
   {
    "duration": 6,
    "start_time": "2023-01-12T05:51:20.820Z"
   },
   {
    "duration": 7,
    "start_time": "2023-01-12T05:51:36.158Z"
   },
   {
    "duration": 3,
    "start_time": "2023-01-12T05:52:04.619Z"
   },
   {
    "duration": 439,
    "start_time": "2023-01-12T05:52:35.397Z"
   },
   {
    "duration": 221,
    "start_time": "2023-01-12T05:52:49.539Z"
   },
   {
    "duration": 420,
    "start_time": "2023-01-12T05:53:00.892Z"
   },
   {
    "duration": 6,
    "start_time": "2023-01-12T05:54:56.772Z"
   },
   {
    "duration": 998,
    "start_time": "2023-01-12T05:55:05.963Z"
   },
   {
    "duration": 962,
    "start_time": "2023-01-12T05:55:25.980Z"
   },
   {
    "duration": 973,
    "start_time": "2023-01-12T05:55:35.804Z"
   },
   {
    "duration": 1489,
    "start_time": "2023-01-12T06:00:09.917Z"
   },
   {
    "duration": 200,
    "start_time": "2023-01-12T06:00:11.409Z"
   },
   {
    "duration": 172,
    "start_time": "2023-01-12T06:00:11.610Z"
   },
   {
    "duration": 174,
    "start_time": "2023-01-12T06:00:11.784Z"
   },
   {
    "duration": 3,
    "start_time": "2023-01-12T06:00:11.960Z"
   },
   {
    "duration": 763,
    "start_time": "2023-01-12T06:00:11.965Z"
   },
   {
    "duration": 635,
    "start_time": "2023-01-12T06:00:12.730Z"
   },
   {
    "duration": 576,
    "start_time": "2023-01-12T06:00:13.367Z"
   },
   {
    "duration": 3,
    "start_time": "2023-01-12T06:00:13.945Z"
   },
   {
    "duration": 594,
    "start_time": "2023-01-12T06:00:13.951Z"
   },
   {
    "duration": 492,
    "start_time": "2023-01-12T06:00:14.546Z"
   },
   {
    "duration": 501,
    "start_time": "2023-01-12T06:00:15.040Z"
   },
   {
    "duration": 1066,
    "start_time": "2023-01-12T06:00:15.543Z"
   },
   {
    "duration": 4,
    "start_time": "2023-01-12T06:00:16.611Z"
   },
   {
    "duration": 258,
    "start_time": "2023-01-12T06:00:16.617Z"
   },
   {
    "duration": 8,
    "start_time": "2023-01-12T06:00:16.877Z"
   },
   {
    "duration": 363,
    "start_time": "2023-01-12T06:00:16.886Z"
   },
   {
    "duration": 298,
    "start_time": "2023-01-12T06:00:17.251Z"
   },
   {
    "duration": 305,
    "start_time": "2023-01-12T06:00:17.551Z"
   },
   {
    "duration": 9,
    "start_time": "2023-01-12T06:00:17.858Z"
   },
   {
    "duration": 15,
    "start_time": "2023-01-12T06:00:17.869Z"
   },
   {
    "duration": 24,
    "start_time": "2023-01-12T06:00:17.886Z"
   },
   {
    "duration": 4,
    "start_time": "2023-01-12T06:00:17.912Z"
   },
   {
    "duration": 26,
    "start_time": "2023-01-12T06:00:17.918Z"
   },
   {
    "duration": 218,
    "start_time": "2023-01-12T06:00:17.946Z"
   },
   {
    "duration": 391,
    "start_time": "2023-01-12T06:00:18.167Z"
   },
   {
    "duration": 397,
    "start_time": "2023-01-12T06:00:18.562Z"
   },
   {
    "duration": 174,
    "start_time": "2023-01-12T06:00:18.964Z"
   },
   {
    "duration": 196,
    "start_time": "2023-01-12T06:00:19.141Z"
   },
   {
    "duration": 97,
    "start_time": "2023-01-12T06:00:19.339Z"
   },
   {
    "duration": 99,
    "start_time": "2023-01-12T06:00:19.438Z"
   },
   {
    "duration": 116,
    "start_time": "2023-01-12T06:00:19.540Z"
   },
   {
    "duration": 201,
    "start_time": "2023-01-12T06:00:19.737Z"
   },
   {
    "duration": 96,
    "start_time": "2023-01-12T06:00:19.945Z"
   },
   {
    "duration": 18,
    "start_time": "2023-01-12T06:00:20.043Z"
   },
   {
    "duration": 25,
    "start_time": "2023-01-12T06:00:20.063Z"
   },
   {
    "duration": 34,
    "start_time": "2023-01-12T06:00:20.090Z"
   },
   {
    "duration": 27,
    "start_time": "2023-01-12T06:00:20.125Z"
   },
   {
    "duration": 477,
    "start_time": "2023-01-12T06:00:20.154Z"
   },
   {
    "duration": 215,
    "start_time": "2023-01-12T06:00:20.632Z"
   },
   {
    "duration": 558,
    "start_time": "2023-01-12T06:00:20.849Z"
   },
   {
    "duration": 6,
    "start_time": "2023-01-12T06:00:21.409Z"
   },
   {
    "duration": 954,
    "start_time": "2023-01-12T06:00:21.417Z"
   },
   {
    "duration": 1012,
    "start_time": "2023-01-12T06:00:22.373Z"
   },
   {
    "duration": 942,
    "start_time": "2023-01-12T06:00:23.386Z"
   },
   {
    "duration": 1336,
    "start_time": "2023-01-12T08:03:39.433Z"
   },
   {
    "duration": 49,
    "start_time": "2023-01-12T08:03:53.198Z"
   },
   {
    "duration": 10,
    "start_time": "2023-01-12T08:04:36.862Z"
   },
   {
    "duration": 249,
    "start_time": "2023-01-12T08:04:45.099Z"
   },
   {
    "duration": 67,
    "start_time": "2023-01-12T08:05:14.118Z"
   }
  ],
  "kernelspec": {
   "display_name": "Python 3 (ipykernel)",
   "language": "python",
   "name": "python3"
  },
  "language_info": {
   "codemirror_mode": {
    "name": "ipython",
    "version": 3
   },
   "file_extension": ".py",
   "mimetype": "text/x-python",
   "name": "python",
   "nbconvert_exporter": "python",
   "pygments_lexer": "ipython3",
   "version": "3.9.13"
  },
  "toc": {
   "base_numbering": 1,
   "nav_menu": {},
   "number_sections": true,
   "sideBar": true,
   "skip_h1_title": true,
   "title_cell": "Table of Contents",
   "title_sidebar": "Contents",
   "toc_cell": false,
   "toc_position": {},
   "toc_section_display": true,
   "toc_window_display": false
  }
 },
 "nbformat": 4,
 "nbformat_minor": 2
}
