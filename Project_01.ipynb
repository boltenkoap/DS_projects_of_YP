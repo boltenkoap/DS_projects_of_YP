{
 "cells": [
  {
   "cell_type": "markdown",
   "id": "8e2b40ca",
   "metadata": {
    "deletable": false,
    "editable": false,
    "id": "c81daeeb"
   },
   "source": [
    "# Исследование надежности заемщиков\n"
   ]
  },
  {
   "cell_type": "markdown",
   "id": "51b673d7",
   "metadata": {},
   "source": [
    "Заказчик — кредитный отдел банка. Нужно разобраться, влияет ли семейное положение и количество детей клиента на факт погашения кредита в срок. Входные данные от банка — статистика о платёжеспособности клиентов.\n",
    "\n",
    "Результаты исследования будут учтены при построении модели **кредитного скоринга** — специальной системы, которая оценивает способность потенциального заёмщика вернуть кредит банку.\n",
    "\n",
    "#### Данные имеют следующие столбцы\n",
    "\n",
    "- children — количество детей в семье\n",
    "- days_employed — общий трудовой стаж в днях\n",
    "- dob_years — возраст клиента в годах\n",
    "- education — уровень образования клиента\n",
    "- education_id — идентификатор уровня образования\n",
    "- family_status — семейное положение\n",
    "- family_status_id — идентификатор семейного положения\n",
    "- gender — пол клиента\n",
    "- income_type — тип занятости\n",
    "- debt — имел ли задолженность по возврату кредитов\n",
    "- total_income — ежемесячный доход\n",
    "- purpose — цель получения кредита"
   ]
  },
  {
   "cell_type": "markdown",
   "id": "90676139",
   "metadata": {
    "id": "744d7639"
   },
   "source": [
    "## Откроем таблицу и изучим общую информацию о данных"
   ]
  },
  {
   "cell_type": "code",
   "execution_count": null,
   "id": "ffe9af09",
   "metadata": {
    "deletable": false,
    "id": "7bcf75c9"
   },
   "outputs": [],
   "source": [
    "import pandas as pd\n",
    "import numpy as np\n",
    "try:\n",
    "    data = pd.read_csv('/datasets/data.csv')\n",
    "except:\n",
    "    data = pd.read_csv('https://code.s3.yandex.net/datasets/data.csv')"
   ]
  },
  {
   "cell_type": "code",
   "execution_count": 2,
   "id": "51ec638b",
   "metadata": {
    "deletable": false,
    "id": "2a7cab99",
    "outputId": "1a8f3ef2-d323-4ec2-ddf7-89670b5944c4"
   },
   "outputs": [
    {
     "data": {
      "text/html": [
       "<div>\n",
       "<style scoped>\n",
       "    .dataframe tbody tr th:only-of-type {\n",
       "        vertical-align: middle;\n",
       "    }\n",
       "\n",
       "    .dataframe tbody tr th {\n",
       "        vertical-align: top;\n",
       "    }\n",
       "\n",
       "    .dataframe thead th {\n",
       "        text-align: right;\n",
       "    }\n",
       "</style>\n",
       "<table border=\"1\" class=\"dataframe\">\n",
       "  <thead>\n",
       "    <tr style=\"text-align: right;\">\n",
       "      <th></th>\n",
       "      <th>children</th>\n",
       "      <th>days_employed</th>\n",
       "      <th>dob_years</th>\n",
       "      <th>education</th>\n",
       "      <th>education_id</th>\n",
       "      <th>family_status</th>\n",
       "      <th>family_status_id</th>\n",
       "      <th>gender</th>\n",
       "      <th>income_type</th>\n",
       "      <th>debt</th>\n",
       "      <th>total_income</th>\n",
       "      <th>purpose</th>\n",
       "    </tr>\n",
       "  </thead>\n",
       "  <tbody>\n",
       "    <tr>\n",
       "      <th>0</th>\n",
       "      <td>1</td>\n",
       "      <td>-8437.673028</td>\n",
       "      <td>42</td>\n",
       "      <td>высшее</td>\n",
       "      <td>0</td>\n",
       "      <td>женат / замужем</td>\n",
       "      <td>0</td>\n",
       "      <td>F</td>\n",
       "      <td>сотрудник</td>\n",
       "      <td>0</td>\n",
       "      <td>253875.639453</td>\n",
       "      <td>покупка жилья</td>\n",
       "    </tr>\n",
       "    <tr>\n",
       "      <th>1</th>\n",
       "      <td>1</td>\n",
       "      <td>-4024.803754</td>\n",
       "      <td>36</td>\n",
       "      <td>среднее</td>\n",
       "      <td>1</td>\n",
       "      <td>женат / замужем</td>\n",
       "      <td>0</td>\n",
       "      <td>F</td>\n",
       "      <td>сотрудник</td>\n",
       "      <td>0</td>\n",
       "      <td>112080.014102</td>\n",
       "      <td>приобретение автомобиля</td>\n",
       "    </tr>\n",
       "    <tr>\n",
       "      <th>2</th>\n",
       "      <td>0</td>\n",
       "      <td>-5623.422610</td>\n",
       "      <td>33</td>\n",
       "      <td>Среднее</td>\n",
       "      <td>1</td>\n",
       "      <td>женат / замужем</td>\n",
       "      <td>0</td>\n",
       "      <td>M</td>\n",
       "      <td>сотрудник</td>\n",
       "      <td>0</td>\n",
       "      <td>145885.952297</td>\n",
       "      <td>покупка жилья</td>\n",
       "    </tr>\n",
       "    <tr>\n",
       "      <th>3</th>\n",
       "      <td>3</td>\n",
       "      <td>-4124.747207</td>\n",
       "      <td>32</td>\n",
       "      <td>среднее</td>\n",
       "      <td>1</td>\n",
       "      <td>женат / замужем</td>\n",
       "      <td>0</td>\n",
       "      <td>M</td>\n",
       "      <td>сотрудник</td>\n",
       "      <td>0</td>\n",
       "      <td>267628.550329</td>\n",
       "      <td>дополнительное образование</td>\n",
       "    </tr>\n",
       "    <tr>\n",
       "      <th>4</th>\n",
       "      <td>0</td>\n",
       "      <td>340266.072047</td>\n",
       "      <td>53</td>\n",
       "      <td>среднее</td>\n",
       "      <td>1</td>\n",
       "      <td>гражданский брак</td>\n",
       "      <td>1</td>\n",
       "      <td>F</td>\n",
       "      <td>пенсионер</td>\n",
       "      <td>0</td>\n",
       "      <td>158616.077870</td>\n",
       "      <td>сыграть свадьбу</td>\n",
       "    </tr>\n",
       "    <tr>\n",
       "      <th>5</th>\n",
       "      <td>0</td>\n",
       "      <td>-926.185831</td>\n",
       "      <td>27</td>\n",
       "      <td>высшее</td>\n",
       "      <td>0</td>\n",
       "      <td>гражданский брак</td>\n",
       "      <td>1</td>\n",
       "      <td>M</td>\n",
       "      <td>компаньон</td>\n",
       "      <td>0</td>\n",
       "      <td>255763.565419</td>\n",
       "      <td>покупка жилья</td>\n",
       "    </tr>\n",
       "    <tr>\n",
       "      <th>6</th>\n",
       "      <td>0</td>\n",
       "      <td>-2879.202052</td>\n",
       "      <td>43</td>\n",
       "      <td>высшее</td>\n",
       "      <td>0</td>\n",
       "      <td>женат / замужем</td>\n",
       "      <td>0</td>\n",
       "      <td>F</td>\n",
       "      <td>компаньон</td>\n",
       "      <td>0</td>\n",
       "      <td>240525.971920</td>\n",
       "      <td>операции с жильем</td>\n",
       "    </tr>\n",
       "    <tr>\n",
       "      <th>7</th>\n",
       "      <td>0</td>\n",
       "      <td>-152.779569</td>\n",
       "      <td>50</td>\n",
       "      <td>СРЕДНЕЕ</td>\n",
       "      <td>1</td>\n",
       "      <td>женат / замужем</td>\n",
       "      <td>0</td>\n",
       "      <td>M</td>\n",
       "      <td>сотрудник</td>\n",
       "      <td>0</td>\n",
       "      <td>135823.934197</td>\n",
       "      <td>образование</td>\n",
       "    </tr>\n",
       "    <tr>\n",
       "      <th>8</th>\n",
       "      <td>2</td>\n",
       "      <td>-6929.865299</td>\n",
       "      <td>35</td>\n",
       "      <td>ВЫСШЕЕ</td>\n",
       "      <td>0</td>\n",
       "      <td>гражданский брак</td>\n",
       "      <td>1</td>\n",
       "      <td>F</td>\n",
       "      <td>сотрудник</td>\n",
       "      <td>0</td>\n",
       "      <td>95856.832424</td>\n",
       "      <td>на проведение свадьбы</td>\n",
       "    </tr>\n",
       "    <tr>\n",
       "      <th>9</th>\n",
       "      <td>0</td>\n",
       "      <td>-2188.756445</td>\n",
       "      <td>41</td>\n",
       "      <td>среднее</td>\n",
       "      <td>1</td>\n",
       "      <td>женат / замужем</td>\n",
       "      <td>0</td>\n",
       "      <td>M</td>\n",
       "      <td>сотрудник</td>\n",
       "      <td>0</td>\n",
       "      <td>144425.938277</td>\n",
       "      <td>покупка жилья для семьи</td>\n",
       "    </tr>\n",
       "    <tr>\n",
       "      <th>10</th>\n",
       "      <td>2</td>\n",
       "      <td>-4171.483647</td>\n",
       "      <td>36</td>\n",
       "      <td>высшее</td>\n",
       "      <td>0</td>\n",
       "      <td>женат / замужем</td>\n",
       "      <td>0</td>\n",
       "      <td>M</td>\n",
       "      <td>компаньон</td>\n",
       "      <td>0</td>\n",
       "      <td>113943.491460</td>\n",
       "      <td>покупка недвижимости</td>\n",
       "    </tr>\n",
       "    <tr>\n",
       "      <th>11</th>\n",
       "      <td>0</td>\n",
       "      <td>-792.701887</td>\n",
       "      <td>40</td>\n",
       "      <td>среднее</td>\n",
       "      <td>1</td>\n",
       "      <td>женат / замужем</td>\n",
       "      <td>0</td>\n",
       "      <td>F</td>\n",
       "      <td>сотрудник</td>\n",
       "      <td>0</td>\n",
       "      <td>77069.234271</td>\n",
       "      <td>покупка коммерческой недвижимости</td>\n",
       "    </tr>\n",
       "    <tr>\n",
       "      <th>12</th>\n",
       "      <td>0</td>\n",
       "      <td>NaN</td>\n",
       "      <td>65</td>\n",
       "      <td>среднее</td>\n",
       "      <td>1</td>\n",
       "      <td>гражданский брак</td>\n",
       "      <td>1</td>\n",
       "      <td>M</td>\n",
       "      <td>пенсионер</td>\n",
       "      <td>0</td>\n",
       "      <td>NaN</td>\n",
       "      <td>сыграть свадьбу</td>\n",
       "    </tr>\n",
       "    <tr>\n",
       "      <th>13</th>\n",
       "      <td>0</td>\n",
       "      <td>-1846.641941</td>\n",
       "      <td>54</td>\n",
       "      <td>неоконченное высшее</td>\n",
       "      <td>2</td>\n",
       "      <td>женат / замужем</td>\n",
       "      <td>0</td>\n",
       "      <td>F</td>\n",
       "      <td>сотрудник</td>\n",
       "      <td>0</td>\n",
       "      <td>130458.228857</td>\n",
       "      <td>приобретение автомобиля</td>\n",
       "    </tr>\n",
       "    <tr>\n",
       "      <th>14</th>\n",
       "      <td>0</td>\n",
       "      <td>-1844.956182</td>\n",
       "      <td>56</td>\n",
       "      <td>высшее</td>\n",
       "      <td>0</td>\n",
       "      <td>гражданский брак</td>\n",
       "      <td>1</td>\n",
       "      <td>F</td>\n",
       "      <td>компаньон</td>\n",
       "      <td>1</td>\n",
       "      <td>165127.911772</td>\n",
       "      <td>покупка жилой недвижимости</td>\n",
       "    </tr>\n",
       "    <tr>\n",
       "      <th>15</th>\n",
       "      <td>1</td>\n",
       "      <td>-972.364419</td>\n",
       "      <td>26</td>\n",
       "      <td>среднее</td>\n",
       "      <td>1</td>\n",
       "      <td>женат / замужем</td>\n",
       "      <td>0</td>\n",
       "      <td>F</td>\n",
       "      <td>сотрудник</td>\n",
       "      <td>0</td>\n",
       "      <td>116820.904450</td>\n",
       "      <td>строительство собственной недвижимости</td>\n",
       "    </tr>\n",
       "    <tr>\n",
       "      <th>16</th>\n",
       "      <td>0</td>\n",
       "      <td>-1719.934226</td>\n",
       "      <td>35</td>\n",
       "      <td>среднее</td>\n",
       "      <td>1</td>\n",
       "      <td>женат / замужем</td>\n",
       "      <td>0</td>\n",
       "      <td>F</td>\n",
       "      <td>сотрудник</td>\n",
       "      <td>0</td>\n",
       "      <td>289202.704229</td>\n",
       "      <td>недвижимость</td>\n",
       "    </tr>\n",
       "    <tr>\n",
       "      <th>17</th>\n",
       "      <td>0</td>\n",
       "      <td>-2369.999720</td>\n",
       "      <td>33</td>\n",
       "      <td>высшее</td>\n",
       "      <td>0</td>\n",
       "      <td>гражданский брак</td>\n",
       "      <td>1</td>\n",
       "      <td>M</td>\n",
       "      <td>сотрудник</td>\n",
       "      <td>0</td>\n",
       "      <td>90410.586745</td>\n",
       "      <td>строительство недвижимости</td>\n",
       "    </tr>\n",
       "    <tr>\n",
       "      <th>18</th>\n",
       "      <td>0</td>\n",
       "      <td>400281.136913</td>\n",
       "      <td>53</td>\n",
       "      <td>среднее</td>\n",
       "      <td>1</td>\n",
       "      <td>вдовец / вдова</td>\n",
       "      <td>2</td>\n",
       "      <td>F</td>\n",
       "      <td>пенсионер</td>\n",
       "      <td>0</td>\n",
       "      <td>56823.777243</td>\n",
       "      <td>на покупку подержанного автомобиля</td>\n",
       "    </tr>\n",
       "    <tr>\n",
       "      <th>19</th>\n",
       "      <td>0</td>\n",
       "      <td>-10038.818549</td>\n",
       "      <td>48</td>\n",
       "      <td>СРЕДНЕЕ</td>\n",
       "      <td>1</td>\n",
       "      <td>в разводе</td>\n",
       "      <td>3</td>\n",
       "      <td>F</td>\n",
       "      <td>сотрудник</td>\n",
       "      <td>0</td>\n",
       "      <td>242831.107982</td>\n",
       "      <td>на покупку своего автомобиля</td>\n",
       "    </tr>\n",
       "  </tbody>\n",
       "</table>\n",
       "</div>"
      ],
      "text/plain": [
       "    children  days_employed  dob_years            education  education_id  \\\n",
       "0          1   -8437.673028         42               высшее             0   \n",
       "1          1   -4024.803754         36              среднее             1   \n",
       "2          0   -5623.422610         33              Среднее             1   \n",
       "3          3   -4124.747207         32              среднее             1   \n",
       "4          0  340266.072047         53              среднее             1   \n",
       "5          0    -926.185831         27               высшее             0   \n",
       "6          0   -2879.202052         43               высшее             0   \n",
       "7          0    -152.779569         50              СРЕДНЕЕ             1   \n",
       "8          2   -6929.865299         35               ВЫСШЕЕ             0   \n",
       "9          0   -2188.756445         41              среднее             1   \n",
       "10         2   -4171.483647         36               высшее             0   \n",
       "11         0    -792.701887         40              среднее             1   \n",
       "12         0            NaN         65              среднее             1   \n",
       "13         0   -1846.641941         54  неоконченное высшее             2   \n",
       "14         0   -1844.956182         56               высшее             0   \n",
       "15         1    -972.364419         26              среднее             1   \n",
       "16         0   -1719.934226         35              среднее             1   \n",
       "17         0   -2369.999720         33               высшее             0   \n",
       "18         0  400281.136913         53              среднее             1   \n",
       "19         0  -10038.818549         48              СРЕДНЕЕ             1   \n",
       "\n",
       "       family_status  family_status_id gender income_type  debt  \\\n",
       "0    женат / замужем                 0      F   сотрудник     0   \n",
       "1    женат / замужем                 0      F   сотрудник     0   \n",
       "2    женат / замужем                 0      M   сотрудник     0   \n",
       "3    женат / замужем                 0      M   сотрудник     0   \n",
       "4   гражданский брак                 1      F   пенсионер     0   \n",
       "5   гражданский брак                 1      M   компаньон     0   \n",
       "6    женат / замужем                 0      F   компаньон     0   \n",
       "7    женат / замужем                 0      M   сотрудник     0   \n",
       "8   гражданский брак                 1      F   сотрудник     0   \n",
       "9    женат / замужем                 0      M   сотрудник     0   \n",
       "10   женат / замужем                 0      M   компаньон     0   \n",
       "11   женат / замужем                 0      F   сотрудник     0   \n",
       "12  гражданский брак                 1      M   пенсионер     0   \n",
       "13   женат / замужем                 0      F   сотрудник     0   \n",
       "14  гражданский брак                 1      F   компаньон     1   \n",
       "15   женат / замужем                 0      F   сотрудник     0   \n",
       "16   женат / замужем                 0      F   сотрудник     0   \n",
       "17  гражданский брак                 1      M   сотрудник     0   \n",
       "18    вдовец / вдова                 2      F   пенсионер     0   \n",
       "19         в разводе                 3      F   сотрудник     0   \n",
       "\n",
       "     total_income                                 purpose  \n",
       "0   253875.639453                           покупка жилья  \n",
       "1   112080.014102                 приобретение автомобиля  \n",
       "2   145885.952297                           покупка жилья  \n",
       "3   267628.550329              дополнительное образование  \n",
       "4   158616.077870                         сыграть свадьбу  \n",
       "5   255763.565419                           покупка жилья  \n",
       "6   240525.971920                       операции с жильем  \n",
       "7   135823.934197                             образование  \n",
       "8    95856.832424                   на проведение свадьбы  \n",
       "9   144425.938277                 покупка жилья для семьи  \n",
       "10  113943.491460                    покупка недвижимости  \n",
       "11   77069.234271       покупка коммерческой недвижимости  \n",
       "12            NaN                         сыграть свадьбу  \n",
       "13  130458.228857                 приобретение автомобиля  \n",
       "14  165127.911772              покупка жилой недвижимости  \n",
       "15  116820.904450  строительство собственной недвижимости  \n",
       "16  289202.704229                            недвижимость  \n",
       "17   90410.586745              строительство недвижимости  \n",
       "18   56823.777243      на покупку подержанного автомобиля  \n",
       "19  242831.107982            на покупку своего автомобиля  "
      ]
     },
     "execution_count": 2,
     "metadata": {},
     "output_type": "execute_result"
    }
   ],
   "source": [
    "data.head(20)"
   ]
  },
  {
   "cell_type": "code",
   "execution_count": 3,
   "id": "f4a5d558",
   "metadata": {
    "deletable": false,
    "id": "2b757bca",
    "outputId": "15376089-8dad-46c9-b520-c05248d43158"
   },
   "outputs": [
    {
     "name": "stdout",
     "output_type": "stream",
     "text": [
      "<class 'pandas.core.frame.DataFrame'>\n",
      "RangeIndex: 21525 entries, 0 to 21524\n",
      "Data columns (total 12 columns):\n",
      " #   Column            Non-Null Count  Dtype  \n",
      "---  ------            --------------  -----  \n",
      " 0   children          21525 non-null  int64  \n",
      " 1   days_employed     19351 non-null  float64\n",
      " 2   dob_years         21525 non-null  int64  \n",
      " 3   education         21525 non-null  object \n",
      " 4   education_id      21525 non-null  int64  \n",
      " 5   family_status     21525 non-null  object \n",
      " 6   family_status_id  21525 non-null  int64  \n",
      " 7   gender            21525 non-null  object \n",
      " 8   income_type       21525 non-null  object \n",
      " 9   debt              21525 non-null  int64  \n",
      " 10  total_income      19351 non-null  float64\n",
      " 11  purpose           21525 non-null  object \n",
      "dtypes: float64(2), int64(5), object(5)\n",
      "memory usage: 2.0+ MB\n"
     ]
    }
   ],
   "source": [
    "data.info()"
   ]
  },
  {
   "cell_type": "markdown",
   "id": "88b5a04e",
   "metadata": {
    "deletable": false,
    "editable": false,
    "id": "333ec665"
   },
   "source": [
    "## Предобработка данных"
   ]
  },
  {
   "cell_type": "markdown",
   "id": "34cf6706",
   "metadata": {
    "deletable": false,
    "editable": false,
    "id": "02d92d53"
   },
   "source": [
    "### Удаление пропусков"
   ]
  },
  {
   "cell_type": "code",
   "execution_count": 4,
   "id": "12c557a5",
   "metadata": {
    "deletable": false,
    "id": "7f9b2309",
    "outputId": "81f4d817-781c-465c-ed15-91ce4446810d"
   },
   "outputs": [
    {
     "data": {
      "text/plain": [
       "children               0\n",
       "days_employed       2174\n",
       "dob_years              0\n",
       "education              0\n",
       "education_id           0\n",
       "family_status          0\n",
       "family_status_id       0\n",
       "gender                 0\n",
       "income_type            0\n",
       "debt                   0\n",
       "total_income        2174\n",
       "purpose                0\n",
       "dtype: int64"
      ]
     },
     "execution_count": 4,
     "metadata": {},
     "output_type": "execute_result"
    }
   ],
   "source": [
    "data.isna().sum()"
   ]
  },
  {
   "cell_type": "markdown",
   "id": "5a076a90",
   "metadata": {
    "id": "db86e27b"
   },
   "source": [
    "### Заполнение пропусков"
   ]
  },
  {
   "cell_type": "code",
   "execution_count": 5,
   "id": "f1eb66b5",
   "metadata": {
    "deletable": false,
    "id": "42006a93"
   },
   "outputs": [],
   "source": [
    "for t in data['income_type'].unique():\n",
    "    data.loc[(data['income_type'] == t) & (data['total_income'].isna()), 'total_income'] = \\\n",
    "    data.loc[(data['income_type'] == t), 'total_income'].median()"
   ]
  },
  {
   "cell_type": "markdown",
   "id": "480e0bf8",
   "metadata": {
    "deletable": false,
    "editable": false,
    "id": "89da5ece"
   },
   "source": [
    "### Обработка аномальных значений"
   ]
  },
  {
   "cell_type": "code",
   "execution_count": 6,
   "id": "f6dffae7",
   "metadata": {
    "deletable": false,
    "id": "f6f055bf"
   },
   "outputs": [],
   "source": [
    "data['days_employed'] = data['days_employed'].abs()"
   ]
  },
  {
   "cell_type": "markdown",
   "id": "2b8635a1",
   "metadata": {
    "id": "6107dd2f"
   },
   "source": [
    "**Для каждого типа занятости выведем медианное значение трудового стажа `days_employed` в днях.**"
   ]
  },
  {
   "cell_type": "code",
   "execution_count": 7,
   "id": "90ac96cb",
   "metadata": {
    "deletable": false,
    "id": "85a5faf6",
    "outputId": "801ef80e-522b-4668-f34e-565af7432bcf"
   },
   "outputs": [
    {
     "data": {
      "text/plain": [
       "income_type\n",
       "безработный        366413.652744\n",
       "в декрете            3296.759962\n",
       "госслужащий          2689.368353\n",
       "компаньон            1547.382223\n",
       "пенсионер          365213.306266\n",
       "предприниматель       520.848083\n",
       "сотрудник            1574.202821\n",
       "студент               578.751554\n",
       "Name: days_employed, dtype: float64"
      ]
     },
     "execution_count": 7,
     "metadata": {},
     "output_type": "execute_result"
    }
   ],
   "source": [
    "data.groupby('income_type')['days_employed'].agg('median')"
   ]
  },
  {
   "cell_type": "markdown",
   "id": "d96968ed",
   "metadata": {
    "id": "38d1a030"
   },
   "source": [
    "У двух типов (безработные и пенсионеры) получатся аномально большие значения. Исправить такие значения сложно, поэтому оставим их как есть. Тем более этот столбец не понадобится для дальнейшего исследования."
   ]
  },
  {
   "cell_type": "markdown",
   "id": "8b3919c7",
   "metadata": {
    "id": "d8a9f147"
   },
   "source": [
    "**Выведем перечень уникальных значений столбца `children`.**"
   ]
  },
  {
   "cell_type": "code",
   "execution_count": 8,
   "id": "7843a040",
   "metadata": {
    "deletable": false,
    "id": "ef5056eb",
    "outputId": "6975b15c-7f95-4697-d16d-a0c79b657b03"
   },
   "outputs": [
    {
     "data": {
      "text/plain": [
       "array([ 1,  0,  3,  2, -1,  4, 20,  5])"
      ]
     },
     "execution_count": 8,
     "metadata": {},
     "output_type": "execute_result"
    }
   ],
   "source": [
    "data['children'].unique()"
   ]
  },
  {
   "cell_type": "markdown",
   "id": "8fba1406",
   "metadata": {
    "id": "40b9ebf2"
   },
   "source": [
    "**В столбце `children` есть два аномальных значения. Удалим строки, в которых встречаются такие аномальные значения из датафрейма `data`.**"
   ]
  },
  {
   "cell_type": "code",
   "execution_count": 9,
   "id": "9b9098bb",
   "metadata": {
    "deletable": false,
    "id": "3ff9801d"
   },
   "outputs": [],
   "source": [
    "data = data[(data['children'] != -1) & (data['children'] != 20)]"
   ]
  },
  {
   "cell_type": "markdown",
   "id": "10751d3d",
   "metadata": {
    "id": "bbc4d0ce"
   },
   "source": [
    "**Ещё раз выведем перечень уникальных значений столбца `children`, чтобы убедиться, что артефакты удалены.**"
   ]
  },
  {
   "cell_type": "code",
   "execution_count": 10,
   "id": "b7937eed",
   "metadata": {
    "deletable": false,
    "id": "ad4fa8b7",
    "outputId": "b2097101-d49d-44d9-901b-32a65c9463d1"
   },
   "outputs": [
    {
     "data": {
      "text/plain": [
       "array([1, 0, 3, 2, 4, 5])"
      ]
     },
     "execution_count": 10,
     "metadata": {},
     "output_type": "execute_result"
    }
   ],
   "source": [
    "data['children'].unique()"
   ]
  },
  {
   "cell_type": "markdown",
   "id": "cee68037",
   "metadata": {
    "id": "f4ea573f"
   },
   "source": [
    "**Заполним пропуски в столбце `days_employed` медианными значениями по каждому типу занятости `income_type`.**"
   ]
  },
  {
   "cell_type": "code",
   "execution_count": 11,
   "id": "ad5537fc",
   "metadata": {
    "deletable": false,
    "id": "af6b1a7e"
   },
   "outputs": [],
   "source": [
    "for t in data['income_type'].unique():\n",
    "    data.loc[(data['income_type'] == t) & (data['days_employed'].isna()), 'days_employed'] = \\\n",
    "    data.loc[(data['income_type'] == t), 'days_employed'].median()"
   ]
  },
  {
   "cell_type": "markdown",
   "id": "50294618",
   "metadata": {
    "id": "2753f40d"
   },
   "source": [
    "**Убедимся, что все пропуски заполнены.**"
   ]
  },
  {
   "cell_type": "code",
   "execution_count": 12,
   "id": "936e8c1a",
   "metadata": {
    "deletable": false,
    "id": "55f78bc2",
    "outputId": "8da1e4e1-358e-4e87-98c9-f261bce0a7b2"
   },
   "outputs": [
    {
     "data": {
      "text/plain": [
       "children            0\n",
       "days_employed       0\n",
       "dob_years           0\n",
       "education           0\n",
       "education_id        0\n",
       "family_status       0\n",
       "family_status_id    0\n",
       "gender              0\n",
       "income_type         0\n",
       "debt                0\n",
       "total_income        0\n",
       "purpose             0\n",
       "dtype: int64"
      ]
     },
     "execution_count": 12,
     "metadata": {},
     "output_type": "execute_result"
    }
   ],
   "source": [
    "data.isna().sum()"
   ]
  },
  {
   "cell_type": "markdown",
   "id": "a7233594",
   "metadata": {
    "deletable": false,
    "editable": false,
    "id": "ddc81e43"
   },
   "source": [
    "### Изменение типов данных"
   ]
  },
  {
   "cell_type": "code",
   "execution_count": 13,
   "id": "dc3f421a",
   "metadata": {
    "id": "920b65ad"
   },
   "outputs": [],
   "source": [
    "data['total_income'] = data['total_income'].astype(int)"
   ]
  },
  {
   "cell_type": "markdown",
   "id": "24420c42",
   "metadata": {
    "deletable": false,
    "editable": false,
    "id": "80c420ba"
   },
   "source": [
    "### Обработка дубликатов"
   ]
  },
  {
   "cell_type": "code",
   "execution_count": 14,
   "id": "d0d5f8a5",
   "metadata": {
    "deletable": false
   },
   "outputs": [],
   "source": [
    "data['education'] = data['education'].str.lower()"
   ]
  },
  {
   "cell_type": "code",
   "execution_count": 15,
   "id": "1b5b4ec8",
   "metadata": {
    "deletable": false,
    "id": "3ee445e4",
    "outputId": "9684deba-1934-42d1-99e1-cda61740f822"
   },
   "outputs": [
    {
     "data": {
      "text/plain": [
       "71"
      ]
     },
     "execution_count": 15,
     "metadata": {},
     "output_type": "execute_result"
    }
   ],
   "source": [
    "data.duplicated().sum()"
   ]
  },
  {
   "cell_type": "code",
   "execution_count": 16,
   "id": "633e021e",
   "metadata": {
    "deletable": false,
    "id": "8575fe05"
   },
   "outputs": [],
   "source": [
    "data = data.drop_duplicates()"
   ]
  },
  {
   "cell_type": "markdown",
   "id": "493b7fcd",
   "metadata": {
    "deletable": false,
    "editable": false,
    "id": "9904cf55"
   },
   "source": [
    "### Категоризация данных"
   ]
  },
  {
   "cell_type": "markdown",
   "id": "15fdbf32",
   "metadata": {
    "id": "72fcc8a2"
   },
   "source": [
    "**Задание 16. На основании диапазонов, указанных ниже, создадим в датафрейме `data` столбец `total_income_category` с категориями:**\n",
    "\n",
    "- 0–30000 — `'E'`;\n",
    "- 30001–50000 — `'D'`;\n",
    "- 50001–200000 — `'C'`;\n",
    "- 200001–1000000 — `'B'`;\n",
    "- 1000001 и выше — `'A'`.\n",
    "\n",
    "\n",
    "**Например, кредитополучателю с доходом 25000 нужно назначить категорию `'E'`, а клиенту, получающему 235000, — `'B'`. Используем собственную функцию с именем `categorize_income()` и метод `apply()`.**"
   ]
  },
  {
   "cell_type": "code",
   "execution_count": 17,
   "id": "2da130f8",
   "metadata": {
    "deletable": false,
    "id": "e1771346"
   },
   "outputs": [],
   "source": [
    "def categorize_income(income):\n",
    "    try:\n",
    "        if 0 <= income <= 30000:\n",
    "            return 'E'\n",
    "        elif 30001 <= income <= 50000:\n",
    "            return 'D'\n",
    "        elif 50001 <= income <= 200000:\n",
    "            return 'C'\n",
    "        elif 200001 <= income <= 1000000:\n",
    "            return 'B'\n",
    "        elif income >= 1000001:\n",
    "            return 'A'\n",
    "    except:\n",
    "        pass"
   ]
  },
  {
   "cell_type": "code",
   "execution_count": 18,
   "id": "959b0688",
   "metadata": {
    "deletable": false,
    "id": "d5f3586d"
   },
   "outputs": [],
   "source": [
    "data['total_income_category'] = data['total_income'].apply(categorize_income)"
   ]
  },
  {
   "cell_type": "markdown",
   "id": "e00a35a7",
   "metadata": {
    "id": "dde49b5c"
   },
   "source": [
    "**Выведем на экран перечень уникальных целей взятия кредита из столбца `purpose`.**"
   ]
  },
  {
   "cell_type": "code",
   "execution_count": 19,
   "id": "446732ae",
   "metadata": {
    "deletable": false,
    "id": "f67ce9b3",
    "outputId": "673c12d9-7d7e-4ae0-9812-c622c89dd244"
   },
   "outputs": [
    {
     "data": {
      "text/plain": [
       "array(['покупка жилья', 'приобретение автомобиля',\n",
       "       'дополнительное образование', 'сыграть свадьбу',\n",
       "       'операции с жильем', 'образование', 'на проведение свадьбы',\n",
       "       'покупка жилья для семьи', 'покупка недвижимости',\n",
       "       'покупка коммерческой недвижимости', 'покупка жилой недвижимости',\n",
       "       'строительство собственной недвижимости', 'недвижимость',\n",
       "       'строительство недвижимости', 'на покупку подержанного автомобиля',\n",
       "       'на покупку своего автомобиля',\n",
       "       'операции с коммерческой недвижимостью',\n",
       "       'строительство жилой недвижимости', 'жилье',\n",
       "       'операции со своей недвижимостью', 'автомобили',\n",
       "       'заняться образованием', 'сделка с подержанным автомобилем',\n",
       "       'получение образования', 'автомобиль', 'свадьба',\n",
       "       'получение дополнительного образования', 'покупка своего жилья',\n",
       "       'операции с недвижимостью', 'получение высшего образования',\n",
       "       'свой автомобиль', 'сделка с автомобилем',\n",
       "       'профильное образование', 'высшее образование',\n",
       "       'покупка жилья для сдачи', 'на покупку автомобиля', 'ремонт жилью',\n",
       "       'заняться высшим образованием'], dtype=object)"
      ]
     },
     "execution_count": 19,
     "metadata": {},
     "output_type": "execute_result"
    }
   ],
   "source": [
    "data['purpose'].unique()"
   ]
  },
  {
   "cell_type": "markdown",
   "id": "4ff79b1b",
   "metadata": {
    "id": "85d0aef0"
   },
   "source": [
    "**Создадим функцию, которая на основании данных из столбца `purpose` сформирует новый столбец `purpose_category`, в который войдут следующие категории:**\n",
    "\n",
    "- `'операции с автомобилем'`,\n",
    "- `'операции с недвижимостью'`,\n",
    "- `'проведение свадьбы'`,\n",
    "- `'получение образования'`.\n",
    "\n",
    "**Например, если в столбце `purpose` находится подстрока `'на покупку автомобиля'`, то в столбце `purpose_category` должна появиться строка `'операции с автомобилем'`.**\n",
    "\n",
    "**Используем собственную функцию с именем `categorize_purpose()` и метод `apply()`. Изучим данные в столбце `purpose` и определим, какие подстроки помогут правильно определить категорию.**"
   ]
  },
  {
   "cell_type": "code",
   "execution_count": 20,
   "id": "ee6b31f0",
   "metadata": {
    "deletable": false,
    "id": "e149fab4"
   },
   "outputs": [],
   "source": [
    "def categorize_purpose(row):\n",
    "    try:\n",
    "        if 'автом' in row:\n",
    "            return 'операции с автомобилем'\n",
    "        elif 'жил' in row or 'недвиж' in row:\n",
    "            return 'операции с недвижимостью'\n",
    "        elif 'свад' in row:\n",
    "            return 'проведение свадьбы'\n",
    "        elif 'образов' in row:\n",
    "            return 'получение образования'\n",
    "    except:\n",
    "        return 'нет категории'"
   ]
  },
  {
   "cell_type": "code",
   "execution_count": 21,
   "id": "6243e207",
   "metadata": {
    "deletable": false,
    "id": "bf36e69b"
   },
   "outputs": [],
   "source": [
    "data['purpose_category'] = data['purpose'].apply(categorize_purpose)"
   ]
  },
  {
   "cell_type": "markdown",
   "id": "3a03dfe4",
   "metadata": {
    "id": "09b242bf"
   },
   "source": [
    "###  Исследуем данные и ответим на поставленные вопросы иследования"
   ]
  },
  {
   "cell_type": "markdown",
   "id": "91ab6546",
   "metadata": {
    "id": "c5d66278"
   },
   "source": [
    "#### Есть ли зависимость между количеством детей и возвратом кредита в срок?"
   ]
  },
  {
   "cell_type": "code",
   "execution_count": 22,
   "id": "653784e4",
   "metadata": {
    "deletable": false,
    "id": "2cacfc4a",
    "scrolled": true
   },
   "outputs": [
    {
     "data": {
      "text/html": [
       "<div>\n",
       "<style scoped>\n",
       "    .dataframe tbody tr th:only-of-type {\n",
       "        vertical-align: middle;\n",
       "    }\n",
       "\n",
       "    .dataframe tbody tr th {\n",
       "        vertical-align: top;\n",
       "    }\n",
       "\n",
       "    .dataframe thead th {\n",
       "        text-align: right;\n",
       "    }\n",
       "</style>\n",
       "<table border=\"1\" class=\"dataframe\">\n",
       "  <thead>\n",
       "    <tr style=\"text-align: right;\">\n",
       "      <th></th>\n",
       "      <th>count_children</th>\n",
       "      <th>sum_children</th>\n",
       "      <th>result_children</th>\n",
       "    </tr>\n",
       "    <tr>\n",
       "      <th>children</th>\n",
       "      <th></th>\n",
       "      <th></th>\n",
       "      <th></th>\n",
       "    </tr>\n",
       "  </thead>\n",
       "  <tbody>\n",
       "    <tr>\n",
       "      <th>4</th>\n",
       "      <td>41</td>\n",
       "      <td>4</td>\n",
       "      <td>9.76%</td>\n",
       "    </tr>\n",
       "    <tr>\n",
       "      <th>2</th>\n",
       "      <td>2052</td>\n",
       "      <td>194</td>\n",
       "      <td>9.45%</td>\n",
       "    </tr>\n",
       "    <tr>\n",
       "      <th>1</th>\n",
       "      <td>4808</td>\n",
       "      <td>444</td>\n",
       "      <td>9.23%</td>\n",
       "    </tr>\n",
       "    <tr>\n",
       "      <th>3</th>\n",
       "      <td>330</td>\n",
       "      <td>27</td>\n",
       "      <td>8.18%</td>\n",
       "    </tr>\n",
       "    <tr>\n",
       "      <th>0</th>\n",
       "      <td>14091</td>\n",
       "      <td>1063</td>\n",
       "      <td>7.54%</td>\n",
       "    </tr>\n",
       "    <tr>\n",
       "      <th>5</th>\n",
       "      <td>9</td>\n",
       "      <td>0</td>\n",
       "      <td>0.00%</td>\n",
       "    </tr>\n",
       "  </tbody>\n",
       "</table>\n",
       "</div>"
      ],
      "text/plain": [
       "          count_children  sum_children result_children\n",
       "children                                              \n",
       "4                     41             4           9.76%\n",
       "2                   2052           194           9.45%\n",
       "1                   4808           444           9.23%\n",
       "3                    330            27           8.18%\n",
       "0                  14091          1063           7.54%\n",
       "5                      9             0           0.00%"
      ]
     },
     "execution_count": 22,
     "metadata": {},
     "output_type": "execute_result"
    }
   ],
   "source": [
    "grouped_children = pd.DataFrame() #создаём отдельный датафрейм для работы над новыми ячейками, связанными с количеством деетй у заемщиков\n",
    "grouped_children['count_children'] = data.groupby('children')['debt'].count() #группируем датафрейм по количеству детей и считаем сколько заемщиков по количеству детей \n",
    "grouped_children['sum_children'] = data.groupby('children')['debt'].sum() #группируем датафрейм по количеству детей и считаем сколько просрочек по кредитам в каждой категории\n",
    "grouped_children['result_children'] = grouped_children['sum_children'] / grouped_children['count_children'] #находим отношение количества просрочек к количеству заемщиков с детьми, чтобы посчитать \"коэффициент просрочки\"\n",
    "grouped_children['result_children'] = list(map(lambda cell: \"{:.2%}\".format(cell), grouped_children['result_children'])) #настраиваем формат отображения столбца 'result_children' в процентах и двумя знаками после запятой, так более наглядно и понятно\n",
    "grouped_children.sort_values('result_children', ascending = False) #сортируем заемщиков с данным количеством детей по просрочке"
   ]
  },
  {
   "cell_type": "markdown",
   "id": "df8a4fb7",
   "metadata": {
    "deletable": false,
    "id": "3a6b99ec"
   },
   "source": [
    "**Вывод:** С увеличением количества детей у заемщика мы видим увеличение количества просроченных задолженностей, хотя люди с 3 детьми чаще платят в срок чем люди с 1 и 2 детьми. Данные неоднозначные, возможно, нужна большая выборка, чем та, которую мы имеем. По крайней мере, это точно можно сказать для заемщиков с 5 детьми, их слишком мало в выборке, чтобы делать хоть сколько-нибудь обоснованные выводы. Бездетные заемщики, как правило реже просрачивают оплату по кредиту, чем люди с детьми."
   ]
  },
  {
   "cell_type": "markdown",
   "id": "b039d497",
   "metadata": {
    "id": "97be82ca"
   },
   "source": [
    "#### Есть ли зависимость между семейным положением и возвратом кредита в срок?"
   ]
  },
  {
   "cell_type": "code",
   "execution_count": 23,
   "id": "7df27815",
   "metadata": {
    "deletable": false,
    "id": "dc3f7ee8"
   },
   "outputs": [
    {
     "data": {
      "text/html": [
       "<div>\n",
       "<style scoped>\n",
       "    .dataframe tbody tr th:only-of-type {\n",
       "        vertical-align: middle;\n",
       "    }\n",
       "\n",
       "    .dataframe tbody tr th {\n",
       "        vertical-align: top;\n",
       "    }\n",
       "\n",
       "    .dataframe thead th {\n",
       "        text-align: right;\n",
       "    }\n",
       "</style>\n",
       "<table border=\"1\" class=\"dataframe\">\n",
       "  <thead>\n",
       "    <tr style=\"text-align: right;\">\n",
       "      <th></th>\n",
       "      <th>count_family_status</th>\n",
       "      <th>sum_family_status</th>\n",
       "      <th>result_family_status</th>\n",
       "    </tr>\n",
       "    <tr>\n",
       "      <th>family_status</th>\n",
       "      <th></th>\n",
       "      <th></th>\n",
       "      <th></th>\n",
       "    </tr>\n",
       "  </thead>\n",
       "  <tbody>\n",
       "    <tr>\n",
       "      <th>Не женат / не замужем</th>\n",
       "      <td>2796</td>\n",
       "      <td>273</td>\n",
       "      <td>9.76%</td>\n",
       "    </tr>\n",
       "    <tr>\n",
       "      <th>гражданский брак</th>\n",
       "      <td>4134</td>\n",
       "      <td>385</td>\n",
       "      <td>9.31%</td>\n",
       "    </tr>\n",
       "    <tr>\n",
       "      <th>женат / замужем</th>\n",
       "      <td>12261</td>\n",
       "      <td>927</td>\n",
       "      <td>7.56%</td>\n",
       "    </tr>\n",
       "    <tr>\n",
       "      <th>в разводе</th>\n",
       "      <td>1189</td>\n",
       "      <td>84</td>\n",
       "      <td>7.06%</td>\n",
       "    </tr>\n",
       "    <tr>\n",
       "      <th>вдовец / вдова</th>\n",
       "      <td>951</td>\n",
       "      <td>63</td>\n",
       "      <td>6.62%</td>\n",
       "    </tr>\n",
       "  </tbody>\n",
       "</table>\n",
       "</div>"
      ],
      "text/plain": [
       "                       count_family_status  sum_family_status  \\\n",
       "family_status                                                   \n",
       "Не женат / не замужем                 2796                273   \n",
       "гражданский брак                      4134                385   \n",
       "женат / замужем                      12261                927   \n",
       "в разводе                             1189                 84   \n",
       "вдовец / вдова                         951                 63   \n",
       "\n",
       "                      result_family_status  \n",
       "family_status                               \n",
       "Не женат / не замужем                9.76%  \n",
       "гражданский брак                     9.31%  \n",
       "женат / замужем                      7.56%  \n",
       "в разводе                            7.06%  \n",
       "вдовец / вдова                       6.62%  "
      ]
     },
     "execution_count": 23,
     "metadata": {},
     "output_type": "execute_result"
    }
   ],
   "source": [
    "# Ваш код будет здесь. Вы можете создавать новые ячейки.\n",
    "debt_family_status = pd.DataFrame() #создаём отдельный датафрейм для работы над новыми ячейками, связанными с семейным статусом заемщиков\n",
    "debt_family_status['count_family_status'] = data.groupby('family_status')['debt'].count() #группируем датафрейм по семейному статусу и считаем сколько заемщиков по этой категории\n",
    "debt_family_status['sum_family_status'] = data.groupby('family_status')['debt'].sum() #группируем датафрейм по семейному статусу и считаем сколько просрочек по кредитам в каждой категории\n",
    "debt_family_status['result_family_status'] = debt_family_status['sum_family_status'] / debt_family_status['count_family_status'] #находим отношение количества просрочек к количеству заемщиков с данным семейным статусом, чтобы посчитать \"коэффициент просрочки\"\n",
    "debt_family_status['result_family_status'] = list(map(lambda cell: \"{:.2%}\".format(cell), debt_family_status['result_family_status'])) #настраиваем формат отображения столбца 'result_family_status' в процентах и двумя знаками после запятой, так более наглядно и понятно\n",
    "debt_family_status.sort_values('result_family_status', ascending = False) #сортируем заемщиков с данным семейным статусом по просрочке"
   ]
  },
  {
   "cell_type": "markdown",
   "id": "793f9182",
   "metadata": {
    "deletable": false,
    "id": "1cef7837"
   },
   "source": [
    "**Вывод:**  Имеется зависимость между семейным положением и возвратом кредита в срок. Люди, несостоящие в браке, чаще не возвращают кредит в срок. Однако, те заемщики, которые  развелись или овдовели чаще возвращают деньги в срок, чем люди, состоящие в браке."
   ]
  },
  {
   "cell_type": "markdown",
   "id": "6e20128c",
   "metadata": {
    "id": "1e8b2fca"
   },
   "source": [
    "#### Есть ли зависимость между уровнем дохода и возвратом кредита в срок?"
   ]
  },
  {
   "cell_type": "code",
   "execution_count": 24,
   "id": "6ca23b2b",
   "metadata": {
    "deletable": false,
    "id": "cd7e3720",
    "scrolled": true
   },
   "outputs": [
    {
     "data": {
      "text/html": [
       "<div>\n",
       "<style scoped>\n",
       "    .dataframe tbody tr th:only-of-type {\n",
       "        vertical-align: middle;\n",
       "    }\n",
       "\n",
       "    .dataframe tbody tr th {\n",
       "        vertical-align: top;\n",
       "    }\n",
       "\n",
       "    .dataframe thead th {\n",
       "        text-align: right;\n",
       "    }\n",
       "</style>\n",
       "<table border=\"1\" class=\"dataframe\">\n",
       "  <thead>\n",
       "    <tr style=\"text-align: right;\">\n",
       "      <th></th>\n",
       "      <th>count</th>\n",
       "      <th>sum</th>\n",
       "      <th>result_total_income</th>\n",
       "    </tr>\n",
       "    <tr>\n",
       "      <th>total_income_category</th>\n",
       "      <th></th>\n",
       "      <th></th>\n",
       "      <th></th>\n",
       "    </tr>\n",
       "  </thead>\n",
       "  <tbody>\n",
       "    <tr>\n",
       "      <th>E</th>\n",
       "      <td>22</td>\n",
       "      <td>2</td>\n",
       "      <td>9.09%</td>\n",
       "    </tr>\n",
       "    <tr>\n",
       "      <th>C</th>\n",
       "      <td>15921</td>\n",
       "      <td>1353</td>\n",
       "      <td>8.50%</td>\n",
       "    </tr>\n",
       "    <tr>\n",
       "      <th>A</th>\n",
       "      <td>25</td>\n",
       "      <td>2</td>\n",
       "      <td>8.00%</td>\n",
       "    </tr>\n",
       "    <tr>\n",
       "      <th>B</th>\n",
       "      <td>5014</td>\n",
       "      <td>354</td>\n",
       "      <td>7.06%</td>\n",
       "    </tr>\n",
       "    <tr>\n",
       "      <th>D</th>\n",
       "      <td>349</td>\n",
       "      <td>21</td>\n",
       "      <td>6.02%</td>\n",
       "    </tr>\n",
       "  </tbody>\n",
       "</table>\n",
       "</div>"
      ],
      "text/plain": [
       "                       count   sum result_total_income\n",
       "total_income_category                                 \n",
       "E                         22     2               9.09%\n",
       "C                      15921  1353               8.50%\n",
       "A                         25     2               8.00%\n",
       "B                       5014   354               7.06%\n",
       "D                        349    21               6.02%"
      ]
     },
     "execution_count": 24,
     "metadata": {},
     "output_type": "execute_result"
    }
   ],
   "source": [
    "# Ваш код будет здесь. Вы можете создавать новые ячейки.\n",
    "debt_total_income = pd.DataFrame() #создаём отдельный датафрейм для работы над новыми ячейками, связанными с семейным статусом заемщиков\n",
    "debt_total_income['count'] = data.groupby('total_income_category')['debt'].count() #группируем датафрейм по уровню дохода и считаем сколько заемщиков по этой категории\n",
    "debt_total_income['sum'] = data.groupby('total_income_category')['debt'].sum() #группируем датафрейм по уровню дохода и считаем сколько просрочек по кредитам в каждой категории\n",
    "debt_total_income['result_total_income'] = debt_total_income['sum'] / debt_total_income['count'] #находим отношение количества просрочек к количеству заемщиков с данным увровнем дохода, чтобы посчитать \"коэффициент просрочки\"\n",
    "debt_total_income['result_total_income'] = list(map(lambda cell: \"{:.2%}\".format(cell), debt_total_income['result_total_income'])) #настраиваем формат отображения столбца 'result_total_income' в процентах и двумя знаками после запятой, так более наглядно и понятно\n",
    "debt_total_income.sort_values('result_total_income', ascending = False) #сортируем заемщиков с данным уровнем дохода по просрочке"
   ]
  },
  {
   "cell_type": "markdown",
   "id": "12491252",
   "metadata": {
    "deletable": false,
    "id": "e8593def"
   },
   "source": [
    "**Вывод:** Зависимость между уровнем дохода заемщика и возвратом кредита в срок отсутствует (хотя этот вывод и контринтуитивен, исследование показала такую картину). Больше всего просрочек по кредитам в категории"
   ]
  },
  {
   "cell_type": "code",
   "execution_count": 25,
   "id": "208ff3fc",
   "metadata": {},
   "outputs": [
    {
     "data": {
      "text/html": [
       "<div>\n",
       "<style scoped>\n",
       "    .dataframe tbody tr th:only-of-type {\n",
       "        vertical-align: middle;\n",
       "    }\n",
       "\n",
       "    .dataframe tbody tr th {\n",
       "        vertical-align: top;\n",
       "    }\n",
       "\n",
       "    .dataframe thead tr th {\n",
       "        text-align: left;\n",
       "    }\n",
       "\n",
       "    .dataframe thead tr:last-of-type th {\n",
       "        text-align: right;\n",
       "    }\n",
       "</style>\n",
       "<table border=\"1\" class=\"dataframe\">\n",
       "  <thead>\n",
       "    <tr>\n",
       "      <th></th>\n",
       "      <th colspan=\"3\" halign=\"left\">debt</th>\n",
       "    </tr>\n",
       "    <tr>\n",
       "      <th></th>\n",
       "      <th>count</th>\n",
       "      <th>sum</th>\n",
       "      <th>mean</th>\n",
       "    </tr>\n",
       "    <tr>\n",
       "      <th>total_income_category</th>\n",
       "      <th></th>\n",
       "      <th></th>\n",
       "      <th></th>\n",
       "    </tr>\n",
       "  </thead>\n",
       "  <tbody>\n",
       "    <tr>\n",
       "      <th>E</th>\n",
       "      <td>22</td>\n",
       "      <td>2</td>\n",
       "      <td>9.09%</td>\n",
       "    </tr>\n",
       "    <tr>\n",
       "      <th>C</th>\n",
       "      <td>15921</td>\n",
       "      <td>1353</td>\n",
       "      <td>8.50%</td>\n",
       "    </tr>\n",
       "    <tr>\n",
       "      <th>A</th>\n",
       "      <td>25</td>\n",
       "      <td>2</td>\n",
       "      <td>8.00%</td>\n",
       "    </tr>\n",
       "    <tr>\n",
       "      <th>B</th>\n",
       "      <td>5014</td>\n",
       "      <td>354</td>\n",
       "      <td>7.06%</td>\n",
       "    </tr>\n",
       "    <tr>\n",
       "      <th>D</th>\n",
       "      <td>349</td>\n",
       "      <td>21</td>\n",
       "      <td>6.02%</td>\n",
       "    </tr>\n",
       "  </tbody>\n",
       "</table>\n",
       "</div>"
      ],
      "text/plain": [
       "                        debt             \n",
       "                       count   sum   mean\n",
       "total_income_category                    \n",
       "E                         22     2  9.09%\n",
       "C                      15921  1353  8.50%\n",
       "A                         25     2  8.00%\n",
       "B                       5014   354  7.06%\n",
       "D                        349    21  6.02%"
      ]
     },
     "execution_count": 25,
     "metadata": {},
     "output_type": "execute_result"
    }
   ],
   "source": [
    "data_total_income_new = data.groupby('total_income_category').agg({'debt': ['count', 'sum', 'mean']}).sort_values(by = ('debt', 'mean'), ascending=False)\n",
    "def percent(row):\n",
    "    return \"{0:.2%}\".format(row)\n",
    "data_total_income_new['debt','mean'] = data_total_income_new['debt','mean'].apply(percent)\n",
    "data_total_income_new"
   ]
  },
  {
   "cell_type": "markdown",
   "id": "f95970ce",
   "metadata": {
    "id": "99ecbd1f"
   },
   "source": [
    "#### Как разные цели кредита влияют на его возврат в срок?"
   ]
  },
  {
   "cell_type": "code",
   "execution_count": 29,
   "id": "43ddd7d9",
   "metadata": {
    "scrolled": true
   },
   "outputs": [
    {
     "data": {
      "text/html": [
       "<div>\n",
       "<style scoped>\n",
       "    .dataframe tbody tr th:only-of-type {\n",
       "        vertical-align: middle;\n",
       "    }\n",
       "\n",
       "    .dataframe tbody tr th {\n",
       "        vertical-align: top;\n",
       "    }\n",
       "\n",
       "    .dataframe thead th {\n",
       "        text-align: right;\n",
       "    }\n",
       "</style>\n",
       "<table border=\"1\" class=\"dataframe\">\n",
       "  <thead>\n",
       "    <tr style=\"text-align: right;\">\n",
       "      <th></th>\n",
       "      <th>count</th>\n",
       "      <th>mean</th>\n",
       "      <th>sum</th>\n",
       "    </tr>\n",
       "    <tr>\n",
       "      <th>purpose_category</th>\n",
       "      <th></th>\n",
       "      <th></th>\n",
       "      <th></th>\n",
       "    </tr>\n",
       "  </thead>\n",
       "  <tbody>\n",
       "    <tr>\n",
       "      <th>операции с автомобилем</th>\n",
       "      <td>4279.0</td>\n",
       "      <td>9.35%</td>\n",
       "      <td>400.0</td>\n",
       "    </tr>\n",
       "    <tr>\n",
       "      <th>операции с недвижимостью</th>\n",
       "      <td>10751.0</td>\n",
       "      <td>7.26%</td>\n",
       "      <td>780.0</td>\n",
       "    </tr>\n",
       "    <tr>\n",
       "      <th>получение образования</th>\n",
       "      <td>3988.0</td>\n",
       "      <td>9.25%</td>\n",
       "      <td>369.0</td>\n",
       "    </tr>\n",
       "    <tr>\n",
       "      <th>проведение свадьбы</th>\n",
       "      <td>2313.0</td>\n",
       "      <td>7.91%</td>\n",
       "      <td>183.0</td>\n",
       "    </tr>\n",
       "  </tbody>\n",
       "</table>\n",
       "</div>"
      ],
      "text/plain": [
       "                            count   mean    sum\n",
       "purpose_category                               \n",
       "операции с автомобилем     4279.0  9.35%  400.0\n",
       "операции с недвижимостью  10751.0  7.26%  780.0\n",
       "получение образования      3988.0  9.25%  369.0\n",
       "проведение свадьбы         2313.0  7.91%  183.0"
      ]
     },
     "execution_count": 29,
     "metadata": {},
     "output_type": "execute_result"
    }
   ],
   "source": [
    "debt_purpose_category_new = data.pivot_table(index='purpose_category', values='debt', aggfunc=('count', 'sum', 'mean'))\n",
    "debt_purpose_category_new['mean'] = debt_purpose_category_new['mean'].apply(percent)\n",
    "debt_purpose_category_new"
   ]
  },
  {
   "cell_type": "markdown",
   "id": "e6cb4dcc",
   "metadata": {
    "deletable": false,
    "id": "b4bb2ce6"
   },
   "source": [
    "**Вывод:** Из данных видно, что среди всех категорий, чаще всего платят в срок с целью кредита на недвижимость, чаще просрочка у тех кому нужен кредит на операции с автомобилем и образованием. Кредиты на свадьбу просрачивают реже - примерно как и в случае с просрочками по недвижимости."
   ]
  },
  {
   "cell_type": "code",
   "execution_count": 30,
   "id": "f3e6ad85",
   "metadata": {},
   "outputs": [],
   "source": [
    "def percent(row):\n",
    "    return \"{0:.2%}\".format(np.mean(row))"
   ]
  },
  {
   "cell_type": "code",
   "execution_count": 31,
   "id": "ab77e6d6",
   "metadata": {},
   "outputs": [
    {
     "data": {
      "text/html": [
       "<div>\n",
       "<style scoped>\n",
       "    .dataframe tbody tr th:only-of-type {\n",
       "        vertical-align: middle;\n",
       "    }\n",
       "\n",
       "    .dataframe tbody tr th {\n",
       "        vertical-align: top;\n",
       "    }\n",
       "\n",
       "    .dataframe thead tr th {\n",
       "        text-align: left;\n",
       "    }\n",
       "\n",
       "    .dataframe thead tr:last-of-type th {\n",
       "        text-align: right;\n",
       "    }\n",
       "</style>\n",
       "<table border=\"1\" class=\"dataframe\">\n",
       "  <thead>\n",
       "    <tr>\n",
       "      <th></th>\n",
       "      <th>count</th>\n",
       "      <th>sum</th>\n",
       "      <th>percent</th>\n",
       "    </tr>\n",
       "    <tr>\n",
       "      <th></th>\n",
       "      <th>debt</th>\n",
       "      <th>debt</th>\n",
       "      <th>debt</th>\n",
       "    </tr>\n",
       "    <tr>\n",
       "      <th>purpose_category</th>\n",
       "      <th></th>\n",
       "      <th></th>\n",
       "      <th></th>\n",
       "    </tr>\n",
       "  </thead>\n",
       "  <tbody>\n",
       "    <tr>\n",
       "      <th>операции с автомобилем</th>\n",
       "      <td>4279</td>\n",
       "      <td>400</td>\n",
       "      <td>9.35%</td>\n",
       "    </tr>\n",
       "    <tr>\n",
       "      <th>операции с недвижимостью</th>\n",
       "      <td>10751</td>\n",
       "      <td>780</td>\n",
       "      <td>7.26%</td>\n",
       "    </tr>\n",
       "    <tr>\n",
       "      <th>получение образования</th>\n",
       "      <td>3988</td>\n",
       "      <td>369</td>\n",
       "      <td>9.25%</td>\n",
       "    </tr>\n",
       "    <tr>\n",
       "      <th>проведение свадьбы</th>\n",
       "      <td>2313</td>\n",
       "      <td>183</td>\n",
       "      <td>7.91%</td>\n",
       "    </tr>\n",
       "  </tbody>\n",
       "</table>\n",
       "</div>"
      ],
      "text/plain": [
       "                          count  sum percent\n",
       "                           debt debt    debt\n",
       "purpose_category                            \n",
       "операции с автомобилем     4279  400   9.35%\n",
       "операции с недвижимостью  10751  780   7.26%\n",
       "получение образования      3988  369   9.25%\n",
       "проведение свадьбы         2313  183   7.91%"
      ]
     },
     "execution_count": 31,
     "metadata": {},
     "output_type": "execute_result"
    }
   ],
   "source": [
    "debt_purpose_category_new = data.pivot_table(index='purpose_category', values='debt', aggfunc=['count', 'sum', percent])\n",
    "debt_purpose_category_new"
   ]
  },
  {
   "cell_type": "markdown",
   "id": "e9e60850",
   "metadata": {
    "id": "6db5255a"
   },
   "source": [
    "### Общий вывод."
   ]
  },
  {
   "cell_type": "markdown",
   "id": "f43d7c36",
   "metadata": {
    "deletable": false,
    "id": "bad65432"
   },
   "source": [
    "Для построения модели кредитного скоринга придётся учитывать различные данные, связанные с заемщиком:\n",
    "* **Количество детей**. *(Чем больше детей у заемщика, тем больше вероятность просрочки (не включая в эту выборку людей с 5 детьми, нужно больше данных по этой категории заемщиков)*\n",
    "\n",
    "\n",
    "* **Семейное положение**. *(Люди, состоящие в браке чаще возвращают деньги в срок, чем несостоящие в браке, а овдовевшие или разведенные, возвращают чаще, чем люди состоящие в браке.)*\n",
    "\n",
    "\n",
    "* **Цель кредита**. *(Вероятность просрочки ниже для кредитов на операции с недвижимостью, и выше для целей образования и операций с автомобилем, кредиты на свадьбу возвращают в срок почти также часто как кредиты на операции с недвижимостью.)*\n",
    "\n",
    "Как ни странно, в результате исследования выяснилось, что **доход заемщика не влияет на вероятноть просрочки**"
   ]
  },
  {
   "cell_type": "code",
   "execution_count": 32,
   "id": "af0a5753",
   "metadata": {},
   "outputs": [
    {
     "data": {
      "text/html": [
       "<div>\n",
       "<style scoped>\n",
       "    .dataframe tbody tr th:only-of-type {\n",
       "        vertical-align: middle;\n",
       "    }\n",
       "\n",
       "    .dataframe tbody tr th {\n",
       "        vertical-align: top;\n",
       "    }\n",
       "\n",
       "    .dataframe thead tr th {\n",
       "        text-align: left;\n",
       "    }\n",
       "\n",
       "    .dataframe thead tr:last-of-type th {\n",
       "        text-align: right;\n",
       "    }\n",
       "</style>\n",
       "<table border=\"1\" class=\"dataframe\">\n",
       "  <thead>\n",
       "    <tr>\n",
       "      <th></th>\n",
       "      <th colspan=\"6\" halign=\"left\">count</th>\n",
       "      <th colspan=\"6\" halign=\"left\">sum</th>\n",
       "      <th colspan=\"6\" halign=\"left\">percent</th>\n",
       "    </tr>\n",
       "    <tr>\n",
       "      <th>children</th>\n",
       "      <th>0</th>\n",
       "      <th>1</th>\n",
       "      <th>2</th>\n",
       "      <th>3</th>\n",
       "      <th>4</th>\n",
       "      <th>5</th>\n",
       "      <th>0</th>\n",
       "      <th>1</th>\n",
       "      <th>2</th>\n",
       "      <th>3</th>\n",
       "      <th>4</th>\n",
       "      <th>5</th>\n",
       "      <th>0</th>\n",
       "      <th>1</th>\n",
       "      <th>2</th>\n",
       "      <th>3</th>\n",
       "      <th>4</th>\n",
       "      <th>5</th>\n",
       "    </tr>\n",
       "    <tr>\n",
       "      <th>purpose_category</th>\n",
       "      <th></th>\n",
       "      <th></th>\n",
       "      <th></th>\n",
       "      <th></th>\n",
       "      <th></th>\n",
       "      <th></th>\n",
       "      <th></th>\n",
       "      <th></th>\n",
       "      <th></th>\n",
       "      <th></th>\n",
       "      <th></th>\n",
       "      <th></th>\n",
       "      <th></th>\n",
       "      <th></th>\n",
       "      <th></th>\n",
       "      <th></th>\n",
       "      <th></th>\n",
       "      <th></th>\n",
       "    </tr>\n",
       "  </thead>\n",
       "  <tbody>\n",
       "    <tr>\n",
       "      <th>операции с автомобилем</th>\n",
       "      <td>2845</td>\n",
       "      <td>963</td>\n",
       "      <td>399</td>\n",
       "      <td>60</td>\n",
       "      <td>10</td>\n",
       "      <td>2</td>\n",
       "      <td>243</td>\n",
       "      <td>103</td>\n",
       "      <td>48</td>\n",
       "      <td>5</td>\n",
       "      <td>1</td>\n",
       "      <td>0</td>\n",
       "      <td>8.54%</td>\n",
       "      <td>10.70%</td>\n",
       "      <td>12.03%</td>\n",
       "      <td>8.33%</td>\n",
       "      <td>10.00%</td>\n",
       "      <td>0.00%</td>\n",
       "    </tr>\n",
       "    <tr>\n",
       "      <th>операции с недвижимостью</th>\n",
       "      <td>7074</td>\n",
       "      <td>2447</td>\n",
       "      <td>1035</td>\n",
       "      <td>169</td>\n",
       "      <td>21</td>\n",
       "      <td>5</td>\n",
       "      <td>476</td>\n",
       "      <td>200</td>\n",
       "      <td>88</td>\n",
       "      <td>13</td>\n",
       "      <td>3</td>\n",
       "      <td>0</td>\n",
       "      <td>6.73%</td>\n",
       "      <td>8.17%</td>\n",
       "      <td>8.50%</td>\n",
       "      <td>7.69%</td>\n",
       "      <td>14.29%</td>\n",
       "      <td>0.00%</td>\n",
       "    </tr>\n",
       "    <tr>\n",
       "      <th>получение образования</th>\n",
       "      <td>2642</td>\n",
       "      <td>866</td>\n",
       "      <td>403</td>\n",
       "      <td>69</td>\n",
       "      <td>7</td>\n",
       "      <td>1</td>\n",
       "      <td>229</td>\n",
       "      <td>90</td>\n",
       "      <td>46</td>\n",
       "      <td>4</td>\n",
       "      <td>0</td>\n",
       "      <td>0</td>\n",
       "      <td>8.67%</td>\n",
       "      <td>10.39%</td>\n",
       "      <td>11.41%</td>\n",
       "      <td>5.80%</td>\n",
       "      <td>0.00%</td>\n",
       "      <td>0.00%</td>\n",
       "    </tr>\n",
       "    <tr>\n",
       "      <th>проведение свадьбы</th>\n",
       "      <td>1530</td>\n",
       "      <td>532</td>\n",
       "      <td>215</td>\n",
       "      <td>32</td>\n",
       "      <td>3</td>\n",
       "      <td>1</td>\n",
       "      <td>115</td>\n",
       "      <td>51</td>\n",
       "      <td>12</td>\n",
       "      <td>5</td>\n",
       "      <td>0</td>\n",
       "      <td>0</td>\n",
       "      <td>7.52%</td>\n",
       "      <td>9.59%</td>\n",
       "      <td>5.58%</td>\n",
       "      <td>15.62%</td>\n",
       "      <td>0.00%</td>\n",
       "      <td>0.00%</td>\n",
       "    </tr>\n",
       "  </tbody>\n",
       "</table>\n",
       "</div>"
      ],
      "text/plain": [
       "                         count                          sum                  \\\n",
       "children                     0     1     2    3   4  5    0    1   2   3  4   \n",
       "purpose_category                                                              \n",
       "операции с автомобилем    2845   963   399   60  10  2  243  103  48   5  1   \n",
       "операции с недвижимостью  7074  2447  1035  169  21  5  476  200  88  13  3   \n",
       "получение образования     2642   866   403   69   7  1  229   90  46   4  0   \n",
       "проведение свадьбы        1530   532   215   32   3  1  115   51  12   5  0   \n",
       "\n",
       "                            percent                                         \n",
       "children                  5       0       1       2       3       4      5  \n",
       "purpose_category                                                            \n",
       "операции с автомобилем    0   8.54%  10.70%  12.03%   8.33%  10.00%  0.00%  \n",
       "операции с недвижимостью  0   6.73%   8.17%   8.50%   7.69%  14.29%  0.00%  \n",
       "получение образования     0   8.67%  10.39%  11.41%   5.80%   0.00%  0.00%  \n",
       "проведение свадьбы        0   7.52%   9.59%   5.58%  15.62%   0.00%  0.00%  "
      ]
     },
     "execution_count": 32,
     "metadata": {},
     "output_type": "execute_result"
    }
   ],
   "source": [
    "debt_purpose_category_new = data.pivot_table(index='purpose_category', columns='children', values='debt', aggfunc=['count', 'sum', percent])\n",
    "debt_purpose_category_new"
   ]
  },
  {
   "cell_type": "code",
   "execution_count": 33,
   "id": "9f7e260a",
   "metadata": {},
   "outputs": [
    {
     "data": {
      "text/html": [
       "<div>\n",
       "<style scoped>\n",
       "    .dataframe tbody tr th:only-of-type {\n",
       "        vertical-align: middle;\n",
       "    }\n",
       "\n",
       "    .dataframe tbody tr th {\n",
       "        vertical-align: top;\n",
       "    }\n",
       "\n",
       "    .dataframe thead th {\n",
       "        text-align: right;\n",
       "    }\n",
       "</style>\n",
       "<table border=\"1\" class=\"dataframe\">\n",
       "  <thead>\n",
       "    <tr style=\"text-align: right;\">\n",
       "      <th></th>\n",
       "      <th></th>\n",
       "      <th>count</th>\n",
       "      <th>sum</th>\n",
       "      <th>percent</th>\n",
       "    </tr>\n",
       "    <tr>\n",
       "      <th>purpose_category</th>\n",
       "      <th>children</th>\n",
       "      <th></th>\n",
       "      <th></th>\n",
       "      <th></th>\n",
       "    </tr>\n",
       "  </thead>\n",
       "  <tbody>\n",
       "    <tr>\n",
       "      <th rowspan=\"6\" valign=\"top\">операции с автомобилем</th>\n",
       "      <th>0</th>\n",
       "      <td>2845</td>\n",
       "      <td>243</td>\n",
       "      <td>8.54%</td>\n",
       "    </tr>\n",
       "    <tr>\n",
       "      <th>1</th>\n",
       "      <td>963</td>\n",
       "      <td>103</td>\n",
       "      <td>10.70%</td>\n",
       "    </tr>\n",
       "    <tr>\n",
       "      <th>2</th>\n",
       "      <td>399</td>\n",
       "      <td>48</td>\n",
       "      <td>12.03%</td>\n",
       "    </tr>\n",
       "    <tr>\n",
       "      <th>3</th>\n",
       "      <td>60</td>\n",
       "      <td>5</td>\n",
       "      <td>8.33%</td>\n",
       "    </tr>\n",
       "    <tr>\n",
       "      <th>4</th>\n",
       "      <td>10</td>\n",
       "      <td>1</td>\n",
       "      <td>10.00%</td>\n",
       "    </tr>\n",
       "    <tr>\n",
       "      <th>5</th>\n",
       "      <td>2</td>\n",
       "      <td>0</td>\n",
       "      <td>0.00%</td>\n",
       "    </tr>\n",
       "    <tr>\n",
       "      <th rowspan=\"6\" valign=\"top\">операции с недвижимостью</th>\n",
       "      <th>0</th>\n",
       "      <td>7074</td>\n",
       "      <td>476</td>\n",
       "      <td>6.73%</td>\n",
       "    </tr>\n",
       "    <tr>\n",
       "      <th>1</th>\n",
       "      <td>2447</td>\n",
       "      <td>200</td>\n",
       "      <td>8.17%</td>\n",
       "    </tr>\n",
       "    <tr>\n",
       "      <th>2</th>\n",
       "      <td>1035</td>\n",
       "      <td>88</td>\n",
       "      <td>8.50%</td>\n",
       "    </tr>\n",
       "    <tr>\n",
       "      <th>3</th>\n",
       "      <td>169</td>\n",
       "      <td>13</td>\n",
       "      <td>7.69%</td>\n",
       "    </tr>\n",
       "    <tr>\n",
       "      <th>4</th>\n",
       "      <td>21</td>\n",
       "      <td>3</td>\n",
       "      <td>14.29%</td>\n",
       "    </tr>\n",
       "    <tr>\n",
       "      <th>5</th>\n",
       "      <td>5</td>\n",
       "      <td>0</td>\n",
       "      <td>0.00%</td>\n",
       "    </tr>\n",
       "    <tr>\n",
       "      <th rowspan=\"6\" valign=\"top\">получение образования</th>\n",
       "      <th>0</th>\n",
       "      <td>2642</td>\n",
       "      <td>229</td>\n",
       "      <td>8.67%</td>\n",
       "    </tr>\n",
       "    <tr>\n",
       "      <th>1</th>\n",
       "      <td>866</td>\n",
       "      <td>90</td>\n",
       "      <td>10.39%</td>\n",
       "    </tr>\n",
       "    <tr>\n",
       "      <th>2</th>\n",
       "      <td>403</td>\n",
       "      <td>46</td>\n",
       "      <td>11.41%</td>\n",
       "    </tr>\n",
       "    <tr>\n",
       "      <th>3</th>\n",
       "      <td>69</td>\n",
       "      <td>4</td>\n",
       "      <td>5.80%</td>\n",
       "    </tr>\n",
       "    <tr>\n",
       "      <th>4</th>\n",
       "      <td>7</td>\n",
       "      <td>0</td>\n",
       "      <td>0.00%</td>\n",
       "    </tr>\n",
       "    <tr>\n",
       "      <th>5</th>\n",
       "      <td>1</td>\n",
       "      <td>0</td>\n",
       "      <td>0.00%</td>\n",
       "    </tr>\n",
       "    <tr>\n",
       "      <th rowspan=\"6\" valign=\"top\">проведение свадьбы</th>\n",
       "      <th>0</th>\n",
       "      <td>1530</td>\n",
       "      <td>115</td>\n",
       "      <td>7.52%</td>\n",
       "    </tr>\n",
       "    <tr>\n",
       "      <th>1</th>\n",
       "      <td>532</td>\n",
       "      <td>51</td>\n",
       "      <td>9.59%</td>\n",
       "    </tr>\n",
       "    <tr>\n",
       "      <th>2</th>\n",
       "      <td>215</td>\n",
       "      <td>12</td>\n",
       "      <td>5.58%</td>\n",
       "    </tr>\n",
       "    <tr>\n",
       "      <th>3</th>\n",
       "      <td>32</td>\n",
       "      <td>5</td>\n",
       "      <td>15.62%</td>\n",
       "    </tr>\n",
       "    <tr>\n",
       "      <th>4</th>\n",
       "      <td>3</td>\n",
       "      <td>0</td>\n",
       "      <td>0.00%</td>\n",
       "    </tr>\n",
       "    <tr>\n",
       "      <th>5</th>\n",
       "      <td>1</td>\n",
       "      <td>0</td>\n",
       "      <td>0.00%</td>\n",
       "    </tr>\n",
       "  </tbody>\n",
       "</table>\n",
       "</div>"
      ],
      "text/plain": [
       "                                   count  sum percent\n",
       "purpose_category         children                    \n",
       "операции с автомобилем   0          2845  243   8.54%\n",
       "                         1           963  103  10.70%\n",
       "                         2           399   48  12.03%\n",
       "                         3            60    5   8.33%\n",
       "                         4            10    1  10.00%\n",
       "                         5             2    0   0.00%\n",
       "операции с недвижимостью 0          7074  476   6.73%\n",
       "                         1          2447  200   8.17%\n",
       "                         2          1035   88   8.50%\n",
       "                         3           169   13   7.69%\n",
       "                         4            21    3  14.29%\n",
       "                         5             5    0   0.00%\n",
       "получение образования    0          2642  229   8.67%\n",
       "                         1           866   90  10.39%\n",
       "                         2           403   46  11.41%\n",
       "                         3            69    4   5.80%\n",
       "                         4             7    0   0.00%\n",
       "                         5             1    0   0.00%\n",
       "проведение свадьбы       0          1530  115   7.52%\n",
       "                         1           532   51   9.59%\n",
       "                         2           215   12   5.58%\n",
       "                         3            32    5  15.62%\n",
       "                         4             3    0   0.00%\n",
       "                         5             1    0   0.00%"
      ]
     },
     "execution_count": 33,
     "metadata": {},
     "output_type": "execute_result"
    }
   ],
   "source": [
    "data.groupby(['purpose_category', 'children'])['debt'].agg(['count', 'sum', percent])"
   ]
  },
  {
   "cell_type": "markdown",
   "id": "bac401a5",
   "metadata": {},
   "source": [
    "# Итоговый вывод\n",
    "Проведенная работа над исследованием надёжности заёмщиков завершена.\n",
    "\n",
    "На основе имеющихся таблиц вывести следущие закономерности:\n",
    "\n",
    "- Чем выше и лучше твое образование, тем больше ответсвенности и понимания приходит по поводу кредита. \n",
    "- С возрастом приходит понимание как распределять деньги и возвращать кредит вовремя.\n",
    "- Наличие детей в целом негативно влияет на возврат кредита.\n",
    "- Если люди живут только ради себя, вероятность невозврата кредита увеличивается.\n",
    "- Люди с высоким доходом успешнее возвращают кредит, почти так же, как и люди с низким доходом.\n",
    "- Цель кредита, повышающий качество жизни без серьезных расходов - повышает возврат кредита.\n",
    "\n",
    "Опишем идеального кандидата на возврат кредита по данным этой выборки без учета возраста и образования:\n",
    "Человек, потерявщий супруга, не имеет детей, с доходом от 320 тысяч, который делает операции с жилой недвижимостью. Человек, обладающий опытом жизни и понимающий, что он может расчитывать только на себя и при его скромных доходах он эффективно планирует возврат кредита.\n",
    "\n",
    "Кандидат с наименьшой вероятностью по выдачи кредита:\n",
    "Человек, живущий один, с доходом от 120 до 200 тысяч желает купить машину в кредит.\n",
    "\n",
    "Проект состоял из следущих задач, которые успешно выполнены:\n",
    "\n",
    "1. Оценка аномалий и определение их типа.\n",
    "2. Выявление пропусков и их заполнение, замена некорректных значений.\n",
    "3. Приведение дублирующих названий в один вид и удаление полных дупликатов.\n",
    "4. Лемматизация целей дохода и выявление категорий.\n",
    "5. Проведение сводного анализа для подтверждение гипотез.\n",
    "6. Получение опыта в распределении доходов по миру"
   ]
  },
  {
   "cell_type": "code",
   "execution_count": null,
   "id": "9b138e12",
   "metadata": {},
   "outputs": [],
   "source": []
  }
 ],
 "metadata": {
  "ExecuteTimeLog": [
   {
    "duration": 446,
    "start_time": "2022-10-11T10:10:38.418Z"
   },
   {
    "duration": 20,
    "start_time": "2022-10-11T10:10:39.909Z"
   },
   {
    "duration": 14,
    "start_time": "2022-10-11T10:10:42.243Z"
   },
   {
    "duration": 11,
    "start_time": "2022-10-11T10:10:44.436Z"
   },
   {
    "duration": 30,
    "start_time": "2022-10-11T10:10:45.731Z"
   },
   {
    "duration": 3,
    "start_time": "2022-10-11T10:10:46.964Z"
   },
   {
    "duration": 7,
    "start_time": "2022-10-11T10:10:47.645Z"
   },
   {
    "duration": 4,
    "start_time": "2022-10-11T10:10:48.915Z"
   },
   {
    "duration": 7,
    "start_time": "2022-10-11T10:10:50.387Z"
   },
   {
    "duration": 4,
    "start_time": "2022-10-11T10:10:51.068Z"
   },
   {
    "duration": 32,
    "start_time": "2022-10-11T10:10:52.499Z"
   },
   {
    "duration": 10,
    "start_time": "2022-10-11T10:10:53.827Z"
   },
   {
    "duration": 4,
    "start_time": "2022-10-11T10:10:55.819Z"
   },
   {
    "duration": 10,
    "start_time": "2022-10-11T10:10:57.091Z"
   },
   {
    "duration": 18,
    "start_time": "2022-10-11T10:10:59.203Z"
   },
   {
    "duration": 19,
    "start_time": "2022-10-11T10:11:00.124Z"
   },
   {
    "duration": 3,
    "start_time": "2022-10-11T10:11:01.803Z"
   },
   {
    "duration": 9,
    "start_time": "2022-10-11T10:11:03.059Z"
   },
   {
    "duration": 6,
    "start_time": "2022-10-11T10:11:04.227Z"
   },
   {
    "duration": 4,
    "start_time": "2022-10-11T10:11:07.283Z"
   },
   {
    "duration": 8,
    "start_time": "2022-10-11T10:11:08.419Z"
   },
   {
    "duration": 15,
    "start_time": "2022-10-11T10:15:37.792Z"
   },
   {
    "duration": 69,
    "start_time": "2022-10-11T10:15:44.764Z"
   },
   {
    "duration": 14,
    "start_time": "2022-10-11T10:15:46.036Z"
   },
   {
    "duration": 15,
    "start_time": "2022-10-11T10:15:48.539Z"
   },
   {
    "duration": 1257,
    "start_time": "2022-10-11T10:36:44.735Z"
   },
   {
    "duration": 385,
    "start_time": "2022-10-11T10:36:56.529Z"
   },
   {
    "duration": 376,
    "start_time": "2022-10-11T10:37:03.400Z"
   },
   {
    "duration": 3,
    "start_time": "2022-10-11T10:39:01.900Z"
   },
   {
    "duration": 68,
    "start_time": "2022-10-11T10:39:07.805Z"
   },
   {
    "duration": 15,
    "start_time": "2022-10-11T10:39:08.864Z"
   },
   {
    "duration": 14,
    "start_time": "2022-10-11T10:39:11.701Z"
   },
   {
    "duration": 8,
    "start_time": "2022-10-11T10:39:12.932Z"
   },
   {
    "duration": 38,
    "start_time": "2022-10-11T10:39:14.476Z"
   },
   {
    "duration": 3,
    "start_time": "2022-10-11T10:39:15.933Z"
   },
   {
    "duration": 10,
    "start_time": "2022-10-11T10:39:16.548Z"
   },
   {
    "duration": 5,
    "start_time": "2022-10-11T10:39:18.052Z"
   },
   {
    "duration": 6,
    "start_time": "2022-10-11T10:39:19.341Z"
   },
   {
    "duration": 4,
    "start_time": "2022-10-11T10:39:20.269Z"
   },
   {
    "duration": 31,
    "start_time": "2022-10-11T10:39:21.788Z"
   },
   {
    "duration": 9,
    "start_time": "2022-10-11T10:39:23.324Z"
   },
   {
    "duration": 4,
    "start_time": "2022-10-11T10:39:27.396Z"
   },
   {
    "duration": 10,
    "start_time": "2022-10-11T10:39:28.517Z"
   },
   {
    "duration": 18,
    "start_time": "2022-10-11T10:39:29.917Z"
   },
   {
    "duration": 17,
    "start_time": "2022-10-11T10:39:30.525Z"
   },
   {
    "duration": 3,
    "start_time": "2022-10-11T10:39:33.749Z"
   },
   {
    "duration": 9,
    "start_time": "2022-10-11T10:39:35.204Z"
   },
   {
    "duration": 6,
    "start_time": "2022-10-11T10:39:36.204Z"
   },
   {
    "duration": 3,
    "start_time": "2022-10-11T10:39:38.334Z"
   },
   {
    "duration": 9,
    "start_time": "2022-10-11T10:39:39.668Z"
   },
   {
    "duration": 4,
    "start_time": "2022-10-11T10:51:31.188Z"
   },
   {
    "duration": 16,
    "start_time": "2022-10-11T10:53:04.701Z"
   },
   {
    "duration": 6,
    "start_time": "2022-10-11T10:54:11.224Z"
   },
   {
    "duration": 4,
    "start_time": "2022-10-11T11:03:06.741Z"
   },
   {
    "duration": 4,
    "start_time": "2022-10-11T11:03:08.317Z"
   },
   {
    "duration": 5,
    "start_time": "2022-10-11T11:03:17.165Z"
   },
   {
    "duration": 5,
    "start_time": "2022-10-11T11:03:21.565Z"
   },
   {
    "duration": 6,
    "start_time": "2022-10-11T11:03:31.109Z"
   },
   {
    "duration": 134,
    "start_time": "2022-10-11T11:14:41.053Z"
   },
   {
    "duration": 114,
    "start_time": "2022-10-11T11:15:47.829Z"
   },
   {
    "duration": 137,
    "start_time": "2022-10-11T11:15:54.222Z"
   },
   {
    "duration": 1237,
    "start_time": "2022-10-11T11:17:04.751Z"
   },
   {
    "duration": 595,
    "start_time": "2022-10-11T11:17:31.759Z"
   },
   {
    "duration": 129,
    "start_time": "2022-10-11T11:18:42.758Z"
   },
   {
    "duration": 583,
    "start_time": "2022-10-11T11:19:28.654Z"
   },
   {
    "duration": 137,
    "start_time": "2022-10-11T11:19:39.117Z"
   },
   {
    "duration": 108,
    "start_time": "2022-10-11T11:19:41.533Z"
   },
   {
    "duration": 16,
    "start_time": "2022-10-11T11:20:18.527Z"
   },
   {
    "duration": 13,
    "start_time": "2022-10-11T11:20:22.206Z"
   },
   {
    "duration": 171,
    "start_time": "2022-10-11T11:20:25.478Z"
   },
   {
    "duration": 1053,
    "start_time": "2022-10-11T11:30:25.526Z"
   },
   {
    "duration": 8,
    "start_time": "2022-10-11T11:31:55.215Z"
   },
   {
    "duration": 16,
    "start_time": "2022-10-11T11:32:33.614Z"
   },
   {
    "duration": 7,
    "start_time": "2022-10-11T11:33:19.198Z"
   },
   {
    "duration": 6,
    "start_time": "2022-10-11T11:34:53.166Z"
   },
   {
    "duration": 4,
    "start_time": "2022-10-11T11:35:05.494Z"
   },
   {
    "duration": 5,
    "start_time": "2022-10-11T11:37:17.104Z"
   },
   {
    "duration": 6,
    "start_time": "2022-10-11T11:40:10.242Z"
   },
   {
    "duration": 49,
    "start_time": "2022-10-12T04:22:03.548Z"
   },
   {
    "duration": 7,
    "start_time": "2022-10-12T04:22:11.520Z"
   },
   {
    "duration": 6,
    "start_time": "2022-10-12T04:22:24.790Z"
   },
   {
    "duration": 675,
    "start_time": "2022-10-12T04:22:35.926Z"
   },
   {
    "duration": 21,
    "start_time": "2022-10-12T04:22:37.654Z"
   },
   {
    "duration": 14,
    "start_time": "2022-10-12T04:22:40.141Z"
   },
   {
    "duration": 8,
    "start_time": "2022-10-12T04:22:41.454Z"
   },
   {
    "duration": 31,
    "start_time": "2022-10-12T04:22:42.733Z"
   },
   {
    "duration": 4,
    "start_time": "2022-10-12T04:22:44.206Z"
   },
   {
    "duration": 7,
    "start_time": "2022-10-12T04:22:44.885Z"
   },
   {
    "duration": 4,
    "start_time": "2022-10-12T04:22:46.006Z"
   },
   {
    "duration": 7,
    "start_time": "2022-10-12T04:22:46.989Z"
   },
   {
    "duration": 7,
    "start_time": "2022-10-12T04:22:48.230Z"
   },
   {
    "duration": 36,
    "start_time": "2022-10-12T04:22:49.396Z"
   },
   {
    "duration": 8,
    "start_time": "2022-10-12T04:22:50.822Z"
   },
   {
    "duration": 4,
    "start_time": "2022-10-12T04:22:52.109Z"
   },
   {
    "duration": 20,
    "start_time": "2022-10-12T04:22:54.085Z"
   },
   {
    "duration": 26,
    "start_time": "2022-10-12T04:22:55.310Z"
   },
   {
    "duration": 16,
    "start_time": "2022-10-12T04:22:56.142Z"
   },
   {
    "duration": 3,
    "start_time": "2022-10-12T04:22:58.245Z"
   },
   {
    "duration": 11,
    "start_time": "2022-10-12T04:22:59.701Z"
   },
   {
    "duration": 6,
    "start_time": "2022-10-12T04:23:01.405Z"
   },
   {
    "duration": 3,
    "start_time": "2022-10-12T04:23:04.149Z"
   },
   {
    "duration": 8,
    "start_time": "2022-10-12T04:23:05.525Z"
   },
   {
    "duration": 80,
    "start_time": "2022-10-12T04:23:07.934Z"
   },
   {
    "duration": 2,
    "start_time": "2022-10-12T04:26:18.982Z"
   },
   {
    "duration": 15,
    "start_time": "2022-10-12T04:32:11.404Z"
   },
   {
    "duration": 16,
    "start_time": "2022-10-12T04:32:26.407Z"
   },
   {
    "duration": 19,
    "start_time": "2022-10-12T04:34:19.558Z"
   },
   {
    "duration": 8,
    "start_time": "2022-10-12T04:34:49.950Z"
   },
   {
    "duration": 10,
    "start_time": "2022-10-12T04:34:59.381Z"
   },
   {
    "duration": 11,
    "start_time": "2022-10-12T04:35:13.957Z"
   },
   {
    "duration": 46,
    "start_time": "2022-10-12T04:35:48.229Z"
   },
   {
    "duration": 53,
    "start_time": "2022-10-12T04:36:14.693Z"
   },
   {
    "duration": 42,
    "start_time": "2022-10-12T04:37:10.933Z"
   },
   {
    "duration": 45,
    "start_time": "2022-10-12T04:37:17.996Z"
   },
   {
    "duration": 45,
    "start_time": "2022-10-12T04:38:20.557Z"
   },
   {
    "duration": 7,
    "start_time": "2022-10-12T04:40:39.062Z"
   },
   {
    "duration": 8,
    "start_time": "2022-10-12T04:40:53.125Z"
   },
   {
    "duration": 12,
    "start_time": "2022-10-12T04:42:22.509Z"
   },
   {
    "duration": 59,
    "start_time": "2022-10-12T05:04:11.034Z"
   },
   {
    "duration": 49,
    "start_time": "2022-10-12T05:04:16.573Z"
   },
   {
    "duration": 13,
    "start_time": "2022-10-12T05:05:08.262Z"
   },
   {
    "duration": 95,
    "start_time": "2022-10-12T05:05:49.078Z"
   },
   {
    "duration": 63,
    "start_time": "2022-10-12T05:12:10.382Z"
   },
   {
    "duration": 47,
    "start_time": "2022-10-12T05:12:47.446Z"
   },
   {
    "duration": 63,
    "start_time": "2022-10-12T05:12:58.917Z"
   },
   {
    "duration": 13,
    "start_time": "2022-10-12T05:19:24.942Z"
   },
   {
    "duration": 12,
    "start_time": "2022-10-12T05:25:44.705Z"
   },
   {
    "duration": 61,
    "start_time": "2022-10-12T05:39:19.727Z"
   },
   {
    "duration": 15,
    "start_time": "2022-10-12T05:39:53.702Z"
   },
   {
    "duration": 51,
    "start_time": "2022-10-12T05:40:14.270Z"
   },
   {
    "duration": 52,
    "start_time": "2022-10-12T05:40:21.398Z"
   },
   {
    "duration": 12,
    "start_time": "2022-10-12T05:40:26.719Z"
   },
   {
    "duration": 49,
    "start_time": "2022-10-12T05:41:35.039Z"
   },
   {
    "duration": 47,
    "start_time": "2022-10-12T05:41:40.966Z"
   },
   {
    "duration": 719,
    "start_time": "2022-10-12T05:48:57.519Z"
   },
   {
    "duration": 14,
    "start_time": "2022-10-12T05:49:28.873Z"
   },
   {
    "duration": 13,
    "start_time": "2022-10-12T05:54:07.232Z"
   },
   {
    "duration": 13,
    "start_time": "2022-10-12T05:54:35.800Z"
   },
   {
    "duration": 12,
    "start_time": "2022-10-12T05:54:38.297Z"
   },
   {
    "duration": 12,
    "start_time": "2022-10-12T05:54:43.336Z"
   },
   {
    "duration": 48,
    "start_time": "2022-10-12T05:54:53.182Z"
   },
   {
    "duration": 8,
    "start_time": "2022-10-12T05:54:54.623Z"
   },
   {
    "duration": 50,
    "start_time": "2022-10-12T05:55:11.265Z"
   },
   {
    "duration": 426,
    "start_time": "2022-10-12T05:55:30.545Z"
   },
   {
    "duration": 20,
    "start_time": "2022-10-12T05:55:32.264Z"
   },
   {
    "duration": 17,
    "start_time": "2022-10-12T05:55:34.576Z"
   },
   {
    "duration": 9,
    "start_time": "2022-10-12T05:55:36.223Z"
   },
   {
    "duration": 33,
    "start_time": "2022-10-12T05:55:59.119Z"
   },
   {
    "duration": 3,
    "start_time": "2022-10-12T05:56:00.152Z"
   },
   {
    "duration": 8,
    "start_time": "2022-10-12T05:56:00.640Z"
   },
   {
    "duration": 4,
    "start_time": "2022-10-12T05:56:01.720Z"
   },
   {
    "duration": 6,
    "start_time": "2022-10-12T05:56:02.943Z"
   },
   {
    "duration": 4,
    "start_time": "2022-10-12T05:56:03.520Z"
   },
   {
    "duration": 33,
    "start_time": "2022-10-12T05:56:04.688Z"
   },
   {
    "duration": 10,
    "start_time": "2022-10-12T05:56:05.815Z"
   },
   {
    "duration": 3,
    "start_time": "2022-10-12T05:56:07.064Z"
   },
   {
    "duration": 17,
    "start_time": "2022-10-12T05:56:08.792Z"
   },
   {
    "duration": 19,
    "start_time": "2022-10-12T05:56:09.488Z"
   },
   {
    "duration": 17,
    "start_time": "2022-10-12T05:56:10.167Z"
   },
   {
    "duration": 4,
    "start_time": "2022-10-12T05:56:11.471Z"
   },
   {
    "duration": 9,
    "start_time": "2022-10-12T05:56:12.569Z"
   },
   {
    "duration": 7,
    "start_time": "2022-10-12T05:56:13.167Z"
   },
   {
    "duration": 3,
    "start_time": "2022-10-12T05:56:15.007Z"
   },
   {
    "duration": 10,
    "start_time": "2022-10-12T05:56:16.462Z"
   },
   {
    "duration": 13,
    "start_time": "2022-10-12T05:56:18.783Z"
   },
   {
    "duration": 13,
    "start_time": "2022-10-12T05:56:45.344Z"
   },
   {
    "duration": 13,
    "start_time": "2022-10-12T05:57:34.960Z"
   },
   {
    "duration": 13,
    "start_time": "2022-10-12T05:57:38.648Z"
   },
   {
    "duration": 12,
    "start_time": "2022-10-12T05:58:25.928Z"
   },
   {
    "duration": 433,
    "start_time": "2022-10-12T06:06:57.968Z"
   },
   {
    "duration": 12,
    "start_time": "2022-10-12T06:09:16.793Z"
   },
   {
    "duration": 13,
    "start_time": "2022-10-12T06:24:40.520Z"
   },
   {
    "duration": 13,
    "start_time": "2022-10-12T06:24:42.814Z"
   },
   {
    "duration": 17,
    "start_time": "2022-10-12T06:27:06.545Z"
   },
   {
    "duration": 14,
    "start_time": "2022-10-12T06:27:17.495Z"
   },
   {
    "duration": 535,
    "start_time": "2022-10-12T06:29:42.031Z"
   },
   {
    "duration": 8,
    "start_time": "2022-10-12T06:29:49.815Z"
   },
   {
    "duration": 14,
    "start_time": "2022-10-12T06:31:08.023Z"
   },
   {
    "duration": 7,
    "start_time": "2022-10-12T06:31:09.663Z"
   },
   {
    "duration": 1277,
    "start_time": "2022-10-12T06:34:25.884Z"
   },
   {
    "duration": 461,
    "start_time": "2022-10-12T06:35:17.398Z"
   },
   {
    "duration": 23,
    "start_time": "2022-10-12T06:35:17.861Z"
   },
   {
    "duration": 24,
    "start_time": "2022-10-12T06:35:17.886Z"
   },
   {
    "duration": 9,
    "start_time": "2022-10-12T06:35:17.912Z"
   },
   {
    "duration": 42,
    "start_time": "2022-10-12T06:35:17.922Z"
   },
   {
    "duration": 4,
    "start_time": "2022-10-12T06:35:17.965Z"
   },
   {
    "duration": 12,
    "start_time": "2022-10-12T06:35:17.971Z"
   },
   {
    "duration": 27,
    "start_time": "2022-10-12T06:35:17.985Z"
   },
   {
    "duration": 9,
    "start_time": "2022-10-12T06:35:18.013Z"
   },
   {
    "duration": 4,
    "start_time": "2022-10-12T06:35:18.024Z"
   },
   {
    "duration": 32,
    "start_time": "2022-10-12T06:35:18.030Z"
   },
   {
    "duration": 9,
    "start_time": "2022-10-12T06:35:18.064Z"
   },
   {
    "duration": 37,
    "start_time": "2022-10-12T06:35:18.074Z"
   },
   {
    "duration": 18,
    "start_time": "2022-10-12T06:35:18.112Z"
   },
   {
    "duration": 21,
    "start_time": "2022-10-12T06:35:18.131Z"
   },
   {
    "duration": 16,
    "start_time": "2022-10-12T06:35:18.153Z"
   },
   {
    "duration": 3,
    "start_time": "2022-10-12T06:35:18.170Z"
   },
   {
    "duration": 12,
    "start_time": "2022-10-12T06:35:18.175Z"
   },
   {
    "duration": 21,
    "start_time": "2022-10-12T06:35:18.189Z"
   },
   {
    "duration": 12,
    "start_time": "2022-10-12T06:35:18.212Z"
   },
   {
    "duration": 15,
    "start_time": "2022-10-12T06:35:18.226Z"
   },
   {
    "duration": 273,
    "start_time": "2022-10-12T06:35:18.243Z"
   },
   {
    "duration": 605,
    "start_time": "2022-10-12T06:35:20.485Z"
   },
   {
    "duration": 1349,
    "start_time": "2022-10-12T06:36:55.292Z"
   },
   {
    "duration": 9,
    "start_time": "2022-10-12T06:37:33.364Z"
   },
   {
    "duration": 123,
    "start_time": "2022-10-12T06:37:48.901Z"
   },
   {
    "duration": 17,
    "start_time": "2022-10-12T06:38:04.821Z"
   },
   {
    "duration": 15,
    "start_time": "2022-10-12T06:38:14.044Z"
   },
   {
    "duration": 14,
    "start_time": "2022-10-12T06:39:29.020Z"
   },
   {
    "duration": 14,
    "start_time": "2022-10-12T06:39:50.124Z"
   },
   {
    "duration": 16,
    "start_time": "2022-10-12T06:39:51.564Z"
   },
   {
    "duration": 17,
    "start_time": "2022-10-12T06:40:01.964Z"
   },
   {
    "duration": 18,
    "start_time": "2022-10-12T06:40:02.924Z"
   },
   {
    "duration": 50,
    "start_time": "2022-10-12T06:41:17.800Z"
   },
   {
    "duration": 51,
    "start_time": "2022-10-12T06:41:31.418Z"
   },
   {
    "duration": 481,
    "start_time": "2022-10-12T06:41:36.886Z"
   },
   {
    "duration": 22,
    "start_time": "2022-10-12T06:41:37.369Z"
   },
   {
    "duration": 18,
    "start_time": "2022-10-12T06:41:37.393Z"
   },
   {
    "duration": 25,
    "start_time": "2022-10-12T06:41:37.414Z"
   },
   {
    "duration": 42,
    "start_time": "2022-10-12T06:41:37.441Z"
   },
   {
    "duration": 7,
    "start_time": "2022-10-12T06:41:37.484Z"
   },
   {
    "duration": 40,
    "start_time": "2022-10-12T06:41:37.493Z"
   },
   {
    "duration": 17,
    "start_time": "2022-10-12T06:41:37.535Z"
   },
   {
    "duration": 27,
    "start_time": "2022-10-12T06:41:37.553Z"
   },
   {
    "duration": 21,
    "start_time": "2022-10-12T06:41:37.582Z"
   },
   {
    "duration": 44,
    "start_time": "2022-10-12T06:41:37.604Z"
   },
   {
    "duration": 15,
    "start_time": "2022-10-12T06:41:37.650Z"
   },
   {
    "duration": 11,
    "start_time": "2022-10-12T06:41:37.666Z"
   },
   {
    "duration": 26,
    "start_time": "2022-10-12T06:41:37.678Z"
   },
   {
    "duration": 43,
    "start_time": "2022-10-12T06:41:37.705Z"
   },
   {
    "duration": 16,
    "start_time": "2022-10-12T06:41:37.749Z"
   },
   {
    "duration": 11,
    "start_time": "2022-10-12T06:41:37.767Z"
   },
   {
    "duration": 32,
    "start_time": "2022-10-12T06:41:37.779Z"
   },
   {
    "duration": 22,
    "start_time": "2022-10-12T06:41:37.812Z"
   },
   {
    "duration": 17,
    "start_time": "2022-10-12T06:41:37.835Z"
   },
   {
    "duration": 27,
    "start_time": "2022-10-12T06:41:37.853Z"
   },
   {
    "duration": 298,
    "start_time": "2022-10-12T06:41:37.882Z"
   },
   {
    "duration": 616,
    "start_time": "2022-10-12T06:41:38.182Z"
   },
   {
    "duration": 2,
    "start_time": "2022-10-12T06:41:38.800Z"
   },
   {
    "duration": 2,
    "start_time": "2022-10-12T06:41:38.809Z"
   },
   {
    "duration": 10,
    "start_time": "2022-10-12T06:41:38.813Z"
   },
   {
    "duration": 50,
    "start_time": "2022-10-12T06:42:02.653Z"
   },
   {
    "duration": 0,
    "start_time": "2022-10-12T06:42:02.705Z"
   },
   {
    "duration": 0,
    "start_time": "2022-10-12T06:42:02.706Z"
   },
   {
    "duration": 0,
    "start_time": "2022-10-12T06:42:02.708Z"
   },
   {
    "duration": 0,
    "start_time": "2022-10-12T06:42:02.708Z"
   },
   {
    "duration": 482,
    "start_time": "2022-10-12T06:44:35.275Z"
   },
   {
    "duration": 22,
    "start_time": "2022-10-12T06:44:35.759Z"
   },
   {
    "duration": 22,
    "start_time": "2022-10-12T06:44:35.783Z"
   },
   {
    "duration": 10,
    "start_time": "2022-10-12T06:44:35.809Z"
   },
   {
    "duration": 39,
    "start_time": "2022-10-12T06:44:35.821Z"
   },
   {
    "duration": 3,
    "start_time": "2022-10-12T06:44:35.862Z"
   },
   {
    "duration": 20,
    "start_time": "2022-10-12T06:44:35.866Z"
   },
   {
    "duration": 32,
    "start_time": "2022-10-12T06:44:35.887Z"
   },
   {
    "duration": 20,
    "start_time": "2022-10-12T06:44:35.920Z"
   },
   {
    "duration": 6,
    "start_time": "2022-10-12T06:44:35.943Z"
   },
   {
    "duration": 43,
    "start_time": "2022-10-12T06:44:35.951Z"
   },
   {
    "duration": 10,
    "start_time": "2022-10-12T06:44:35.995Z"
   },
   {
    "duration": 8,
    "start_time": "2022-10-12T06:44:36.007Z"
   },
   {
    "duration": 14,
    "start_time": "2022-10-12T06:44:36.017Z"
   },
   {
    "duration": 19,
    "start_time": "2022-10-12T06:44:36.033Z"
   },
   {
    "duration": 18,
    "start_time": "2022-10-12T06:44:36.054Z"
   },
   {
    "duration": 4,
    "start_time": "2022-10-12T06:44:36.073Z"
   },
   {
    "duration": 30,
    "start_time": "2022-10-12T06:44:36.079Z"
   },
   {
    "duration": 7,
    "start_time": "2022-10-12T06:44:36.110Z"
   },
   {
    "duration": 11,
    "start_time": "2022-10-12T06:44:36.119Z"
   },
   {
    "duration": 17,
    "start_time": "2022-10-12T06:44:36.132Z"
   },
   {
    "duration": 249,
    "start_time": "2022-10-12T06:44:37.472Z"
   },
   {
    "duration": 15,
    "start_time": "2022-10-12T06:47:34.255Z"
   },
   {
    "duration": 14,
    "start_time": "2022-10-12T06:48:12.271Z"
   },
   {
    "duration": 13,
    "start_time": "2022-10-12T06:48:13.240Z"
   },
   {
    "duration": 14,
    "start_time": "2022-10-12T06:48:13.783Z"
   },
   {
    "duration": 17,
    "start_time": "2022-10-12T06:48:14.408Z"
   },
   {
    "duration": 17,
    "start_time": "2022-10-12T06:48:14.568Z"
   },
   {
    "duration": 17,
    "start_time": "2022-10-12T06:48:14.744Z"
   },
   {
    "duration": 18,
    "start_time": "2022-10-12T06:48:14.912Z"
   },
   {
    "duration": 17,
    "start_time": "2022-10-12T06:48:15.216Z"
   },
   {
    "duration": 479,
    "start_time": "2022-10-12T06:48:41.183Z"
   },
   {
    "duration": 21,
    "start_time": "2022-10-12T06:48:41.665Z"
   },
   {
    "duration": 26,
    "start_time": "2022-10-12T06:48:41.688Z"
   },
   {
    "duration": 12,
    "start_time": "2022-10-12T06:48:41.717Z"
   },
   {
    "duration": 30,
    "start_time": "2022-10-12T06:48:41.731Z"
   },
   {
    "duration": 4,
    "start_time": "2022-10-12T06:48:41.762Z"
   },
   {
    "duration": 12,
    "start_time": "2022-10-12T06:48:41.767Z"
   },
   {
    "duration": 4,
    "start_time": "2022-10-12T06:48:41.780Z"
   },
   {
    "duration": 28,
    "start_time": "2022-10-12T06:48:41.785Z"
   },
   {
    "duration": 4,
    "start_time": "2022-10-12T06:48:41.815Z"
   },
   {
    "duration": 32,
    "start_time": "2022-10-12T06:48:41.821Z"
   },
   {
    "duration": 9,
    "start_time": "2022-10-12T06:48:41.854Z"
   },
   {
    "duration": 9,
    "start_time": "2022-10-12T06:48:41.864Z"
   },
   {
    "duration": 35,
    "start_time": "2022-10-12T06:48:41.875Z"
   },
   {
    "duration": 23,
    "start_time": "2022-10-12T06:48:41.912Z"
   },
   {
    "duration": 17,
    "start_time": "2022-10-12T06:48:41.936Z"
   },
   {
    "duration": 4,
    "start_time": "2022-10-12T06:48:41.954Z"
   },
   {
    "duration": 11,
    "start_time": "2022-10-12T06:48:41.959Z"
   },
   {
    "duration": 8,
    "start_time": "2022-10-12T06:48:41.971Z"
   },
   {
    "duration": 30,
    "start_time": "2022-10-12T06:48:41.980Z"
   },
   {
    "duration": 11,
    "start_time": "2022-10-12T06:48:42.012Z"
   },
   {
    "duration": 294,
    "start_time": "2022-10-12T06:48:43.040Z"
   },
   {
    "duration": 68,
    "start_time": "2022-10-12T06:51:12.343Z"
   },
   {
    "duration": 49,
    "start_time": "2022-10-12T06:51:21.113Z"
   },
   {
    "duration": 422,
    "start_time": "2022-10-12T06:51:27.367Z"
   },
   {
    "duration": 20,
    "start_time": "2022-10-12T06:51:27.791Z"
   },
   {
    "duration": 20,
    "start_time": "2022-10-12T06:51:27.813Z"
   },
   {
    "duration": 8,
    "start_time": "2022-10-12T06:51:27.836Z"
   },
   {
    "duration": 31,
    "start_time": "2022-10-12T06:51:27.845Z"
   },
   {
    "duration": 3,
    "start_time": "2022-10-12T06:51:27.878Z"
   },
   {
    "duration": 10,
    "start_time": "2022-10-12T06:51:27.882Z"
   },
   {
    "duration": 4,
    "start_time": "2022-10-12T06:51:27.909Z"
   },
   {
    "duration": 11,
    "start_time": "2022-10-12T06:51:27.914Z"
   },
   {
    "duration": 4,
    "start_time": "2022-10-12T06:51:27.927Z"
   },
   {
    "duration": 37,
    "start_time": "2022-10-12T06:51:27.933Z"
   },
   {
    "duration": 37,
    "start_time": "2022-10-12T06:51:27.972Z"
   },
   {
    "duration": 4,
    "start_time": "2022-10-12T06:51:28.011Z"
   },
   {
    "duration": 20,
    "start_time": "2022-10-12T06:51:28.017Z"
   },
   {
    "duration": 29,
    "start_time": "2022-10-12T06:51:28.039Z"
   },
   {
    "duration": 17,
    "start_time": "2022-10-12T06:51:28.069Z"
   },
   {
    "duration": 21,
    "start_time": "2022-10-12T06:51:28.088Z"
   },
   {
    "duration": 13,
    "start_time": "2022-10-12T06:51:28.110Z"
   },
   {
    "duration": 5,
    "start_time": "2022-10-12T06:51:28.125Z"
   },
   {
    "duration": 7,
    "start_time": "2022-10-12T06:51:28.131Z"
   },
   {
    "duration": 13,
    "start_time": "2022-10-12T06:51:28.139Z"
   },
   {
    "duration": 250,
    "start_time": "2022-10-12T06:51:28.264Z"
   },
   {
    "duration": 14,
    "start_time": "2022-10-12T06:53:00.465Z"
   },
   {
    "duration": 14,
    "start_time": "2022-10-12T06:53:49.464Z"
   },
   {
    "duration": 12,
    "start_time": "2022-10-12T06:53:53.041Z"
   },
   {
    "duration": 16,
    "start_time": "2022-10-12T06:55:03.648Z"
   },
   {
    "duration": 14,
    "start_time": "2022-10-12T06:55:04.608Z"
   },
   {
    "duration": 398,
    "start_time": "2022-10-12T06:55:16.664Z"
   },
   {
    "duration": 19,
    "start_time": "2022-10-12T06:55:17.064Z"
   },
   {
    "duration": 13,
    "start_time": "2022-10-12T06:55:17.085Z"
   },
   {
    "duration": 15,
    "start_time": "2022-10-12T06:55:17.100Z"
   },
   {
    "duration": 30,
    "start_time": "2022-10-12T06:55:17.117Z"
   },
   {
    "duration": 3,
    "start_time": "2022-10-12T06:55:17.149Z"
   },
   {
    "duration": 12,
    "start_time": "2022-10-12T06:55:17.153Z"
   },
   {
    "duration": 4,
    "start_time": "2022-10-12T06:55:17.167Z"
   },
   {
    "duration": 11,
    "start_time": "2022-10-12T06:55:17.172Z"
   },
   {
    "duration": 26,
    "start_time": "2022-10-12T06:55:17.185Z"
   },
   {
    "duration": 34,
    "start_time": "2022-10-12T06:55:17.213Z"
   },
   {
    "duration": 12,
    "start_time": "2022-10-12T06:55:17.249Z"
   },
   {
    "duration": 6,
    "start_time": "2022-10-12T06:55:17.262Z"
   },
   {
    "duration": 17,
    "start_time": "2022-10-12T06:55:17.269Z"
   },
   {
    "duration": 18,
    "start_time": "2022-10-12T06:55:17.309Z"
   },
   {
    "duration": 16,
    "start_time": "2022-10-12T06:55:17.328Z"
   },
   {
    "duration": 4,
    "start_time": "2022-10-12T06:55:17.345Z"
   },
   {
    "duration": 10,
    "start_time": "2022-10-12T06:55:17.350Z"
   },
   {
    "duration": 7,
    "start_time": "2022-10-12T06:55:17.362Z"
   },
   {
    "duration": 4,
    "start_time": "2022-10-12T06:55:17.371Z"
   },
   {
    "duration": 40,
    "start_time": "2022-10-12T06:55:17.376Z"
   },
   {
    "duration": 243,
    "start_time": "2022-10-12T06:55:17.672Z"
   },
   {
    "duration": 462,
    "start_time": "2022-10-12T06:55:30.826Z"
   },
   {
    "duration": 25,
    "start_time": "2022-10-12T06:55:31.292Z"
   },
   {
    "duration": 15,
    "start_time": "2022-10-12T06:55:31.318Z"
   },
   {
    "duration": 9,
    "start_time": "2022-10-12T06:55:31.335Z"
   },
   {
    "duration": 39,
    "start_time": "2022-10-12T06:55:31.346Z"
   },
   {
    "duration": 3,
    "start_time": "2022-10-12T06:55:31.387Z"
   },
   {
    "duration": 18,
    "start_time": "2022-10-12T06:55:31.391Z"
   },
   {
    "duration": 16,
    "start_time": "2022-10-12T06:55:31.411Z"
   },
   {
    "duration": 12,
    "start_time": "2022-10-12T06:55:31.428Z"
   },
   {
    "duration": 5,
    "start_time": "2022-10-12T06:55:31.442Z"
   },
   {
    "duration": 35,
    "start_time": "2022-10-12T06:55:31.448Z"
   },
   {
    "duration": 9,
    "start_time": "2022-10-12T06:55:31.485Z"
   },
   {
    "duration": 13,
    "start_time": "2022-10-12T06:55:31.496Z"
   },
   {
    "duration": 22,
    "start_time": "2022-10-12T06:55:31.510Z"
   },
   {
    "duration": 43,
    "start_time": "2022-10-12T06:55:31.533Z"
   },
   {
    "duration": 16,
    "start_time": "2022-10-12T06:55:31.578Z"
   },
   {
    "duration": 4,
    "start_time": "2022-10-12T06:55:31.596Z"
   },
   {
    "duration": 31,
    "start_time": "2022-10-12T06:55:31.602Z"
   },
   {
    "duration": 18,
    "start_time": "2022-10-12T06:55:31.634Z"
   },
   {
    "duration": 31,
    "start_time": "2022-10-12T06:55:31.653Z"
   },
   {
    "duration": 27,
    "start_time": "2022-10-12T06:55:31.685Z"
   },
   {
    "duration": 268,
    "start_time": "2022-10-12T06:55:31.714Z"
   },
   {
    "duration": 446,
    "start_time": "2022-10-12T06:55:46.328Z"
   },
   {
    "duration": 20,
    "start_time": "2022-10-12T06:55:46.777Z"
   },
   {
    "duration": 14,
    "start_time": "2022-10-12T06:55:46.798Z"
   },
   {
    "duration": 8,
    "start_time": "2022-10-12T06:55:46.814Z"
   },
   {
    "duration": 35,
    "start_time": "2022-10-12T06:55:46.824Z"
   },
   {
    "duration": 3,
    "start_time": "2022-10-12T06:55:46.860Z"
   },
   {
    "duration": 16,
    "start_time": "2022-10-12T06:55:46.864Z"
   },
   {
    "duration": 5,
    "start_time": "2022-10-12T06:55:46.881Z"
   },
   {
    "duration": 16,
    "start_time": "2022-10-12T06:55:46.888Z"
   },
   {
    "duration": 7,
    "start_time": "2022-10-12T06:55:46.908Z"
   },
   {
    "duration": 35,
    "start_time": "2022-10-12T06:55:46.916Z"
   },
   {
    "duration": 9,
    "start_time": "2022-10-12T06:55:46.952Z"
   },
   {
    "duration": 6,
    "start_time": "2022-10-12T06:55:46.962Z"
   },
   {
    "duration": 15,
    "start_time": "2022-10-12T06:55:46.969Z"
   },
   {
    "duration": 40,
    "start_time": "2022-10-12T06:55:46.986Z"
   },
   {
    "duration": 16,
    "start_time": "2022-10-12T06:55:47.027Z"
   },
   {
    "duration": 4,
    "start_time": "2022-10-12T06:55:47.044Z"
   },
   {
    "duration": 17,
    "start_time": "2022-10-12T06:55:47.049Z"
   },
   {
    "duration": 11,
    "start_time": "2022-10-12T06:55:47.068Z"
   },
   {
    "duration": 6,
    "start_time": "2022-10-12T06:55:47.080Z"
   },
   {
    "duration": 22,
    "start_time": "2022-10-12T06:55:47.087Z"
   },
   {
    "duration": 264,
    "start_time": "2022-10-12T06:55:47.297Z"
   },
   {
    "duration": 121,
    "start_time": "2022-10-12T06:56:48.361Z"
   },
   {
    "duration": 14,
    "start_time": "2022-10-12T06:56:58.968Z"
   },
   {
    "duration": 647,
    "start_time": "2022-10-12T06:58:02.001Z"
   },
   {
    "duration": 121,
    "start_time": "2022-10-12T06:58:09.704Z"
   },
   {
    "duration": 1131,
    "start_time": "2022-10-12T06:58:23.261Z"
   },
   {
    "duration": 0,
    "start_time": "2022-10-12T06:58:24.393Z"
   },
   {
    "duration": 0,
    "start_time": "2022-10-12T06:58:24.395Z"
   },
   {
    "duration": 0,
    "start_time": "2022-10-12T06:58:24.397Z"
   },
   {
    "duration": 1237,
    "start_time": "2022-10-12T06:58:34.670Z"
   },
   {
    "duration": 72,
    "start_time": "2022-10-12T06:58:47.102Z"
   },
   {
    "duration": 18,
    "start_time": "2022-10-12T06:58:47.176Z"
   },
   {
    "duration": 19,
    "start_time": "2022-10-12T06:58:47.195Z"
   },
   {
    "duration": 9,
    "start_time": "2022-10-12T06:58:47.215Z"
   },
   {
    "duration": 34,
    "start_time": "2022-10-12T06:58:47.225Z"
   },
   {
    "duration": 3,
    "start_time": "2022-10-12T06:58:47.261Z"
   },
   {
    "duration": 13,
    "start_time": "2022-10-12T06:58:47.266Z"
   },
   {
    "duration": 5,
    "start_time": "2022-10-12T06:58:47.280Z"
   },
   {
    "duration": 8,
    "start_time": "2022-10-12T06:58:47.310Z"
   },
   {
    "duration": 7,
    "start_time": "2022-10-12T06:58:47.320Z"
   },
   {
    "duration": 30,
    "start_time": "2022-10-12T06:58:47.329Z"
   },
   {
    "duration": 8,
    "start_time": "2022-10-12T06:58:47.361Z"
   },
   {
    "duration": 7,
    "start_time": "2022-10-12T06:58:47.371Z"
   },
   {
    "duration": 41,
    "start_time": "2022-10-12T06:58:47.380Z"
   },
   {
    "duration": 20,
    "start_time": "2022-10-12T06:58:47.423Z"
   },
   {
    "duration": 15,
    "start_time": "2022-10-12T06:58:47.444Z"
   },
   {
    "duration": 3,
    "start_time": "2022-10-12T06:58:47.461Z"
   },
   {
    "duration": 16,
    "start_time": "2022-10-12T06:58:47.465Z"
   },
   {
    "duration": 5,
    "start_time": "2022-10-12T06:58:47.482Z"
   },
   {
    "duration": 22,
    "start_time": "2022-10-12T06:58:47.489Z"
   },
   {
    "duration": 10,
    "start_time": "2022-10-12T06:58:47.513Z"
   },
   {
    "duration": 13,
    "start_time": "2022-10-12T06:58:47.525Z"
   },
   {
    "duration": 139,
    "start_time": "2022-10-12T06:58:47.540Z"
   },
   {
    "duration": 3,
    "start_time": "2022-10-12T06:58:47.680Z"
   },
   {
    "duration": 3,
    "start_time": "2022-10-12T06:58:47.685Z"
   },
   {
    "duration": 6,
    "start_time": "2022-10-12T06:58:47.690Z"
   },
   {
    "duration": 15,
    "start_time": "2022-10-12T07:00:31.644Z"
   },
   {
    "duration": 13,
    "start_time": "2022-10-12T07:00:34.267Z"
   },
   {
    "duration": 506,
    "start_time": "2022-10-12T07:01:04.044Z"
   },
   {
    "duration": 31,
    "start_time": "2022-10-12T07:01:04.553Z"
   },
   {
    "duration": 32,
    "start_time": "2022-10-12T07:01:04.585Z"
   },
   {
    "duration": 14,
    "start_time": "2022-10-12T07:01:04.620Z"
   },
   {
    "duration": 34,
    "start_time": "2022-10-12T07:01:04.636Z"
   },
   {
    "duration": 3,
    "start_time": "2022-10-12T07:01:04.672Z"
   },
   {
    "duration": 10,
    "start_time": "2022-10-12T07:01:04.676Z"
   },
   {
    "duration": 22,
    "start_time": "2022-10-12T07:01:04.688Z"
   },
   {
    "duration": 7,
    "start_time": "2022-10-12T07:01:04.711Z"
   },
   {
    "duration": 5,
    "start_time": "2022-10-12T07:01:04.721Z"
   },
   {
    "duration": 30,
    "start_time": "2022-10-12T07:01:04.729Z"
   },
   {
    "duration": 10,
    "start_time": "2022-10-12T07:01:04.761Z"
   },
   {
    "duration": 37,
    "start_time": "2022-10-12T07:01:04.772Z"
   },
   {
    "duration": 12,
    "start_time": "2022-10-12T07:01:04.811Z"
   },
   {
    "duration": 20,
    "start_time": "2022-10-12T07:01:04.824Z"
   },
   {
    "duration": 19,
    "start_time": "2022-10-12T07:01:04.845Z"
   },
   {
    "duration": 4,
    "start_time": "2022-10-12T07:01:04.866Z"
   },
   {
    "duration": 41,
    "start_time": "2022-10-12T07:01:04.872Z"
   },
   {
    "duration": 6,
    "start_time": "2022-10-12T07:01:04.914Z"
   },
   {
    "duration": 4,
    "start_time": "2022-10-12T07:01:04.921Z"
   },
   {
    "duration": 10,
    "start_time": "2022-10-12T07:01:04.927Z"
   },
   {
    "duration": 300,
    "start_time": "2022-10-12T07:01:04.939Z"
   },
   {
    "duration": 14,
    "start_time": "2022-10-12T07:03:12.640Z"
   },
   {
    "duration": 473,
    "start_time": "2022-10-12T07:03:21.980Z"
   },
   {
    "duration": 22,
    "start_time": "2022-10-12T07:03:22.456Z"
   },
   {
    "duration": 13,
    "start_time": "2022-10-12T07:03:22.479Z"
   },
   {
    "duration": 18,
    "start_time": "2022-10-12T07:03:22.494Z"
   },
   {
    "duration": 36,
    "start_time": "2022-10-12T07:03:22.513Z"
   },
   {
    "duration": 4,
    "start_time": "2022-10-12T07:03:22.550Z"
   },
   {
    "duration": 16,
    "start_time": "2022-10-12T07:03:22.555Z"
   },
   {
    "duration": 5,
    "start_time": "2022-10-12T07:03:22.572Z"
   },
   {
    "duration": 15,
    "start_time": "2022-10-12T07:03:22.578Z"
   },
   {
    "duration": 16,
    "start_time": "2022-10-12T07:03:22.596Z"
   },
   {
    "duration": 38,
    "start_time": "2022-10-12T07:03:22.613Z"
   },
   {
    "duration": 10,
    "start_time": "2022-10-12T07:03:22.653Z"
   },
   {
    "duration": 8,
    "start_time": "2022-10-12T07:03:22.664Z"
   },
   {
    "duration": 16,
    "start_time": "2022-10-12T07:03:22.674Z"
   },
   {
    "duration": 28,
    "start_time": "2022-10-12T07:03:22.692Z"
   },
   {
    "duration": 16,
    "start_time": "2022-10-12T07:03:22.721Z"
   },
   {
    "duration": 5,
    "start_time": "2022-10-12T07:03:22.739Z"
   },
   {
    "duration": 19,
    "start_time": "2022-10-12T07:03:22.745Z"
   },
   {
    "duration": 7,
    "start_time": "2022-10-12T07:03:22.766Z"
   },
   {
    "duration": 8,
    "start_time": "2022-10-12T07:03:22.775Z"
   },
   {
    "duration": 27,
    "start_time": "2022-10-12T07:03:22.785Z"
   },
   {
    "duration": 270,
    "start_time": "2022-10-12T07:03:23.126Z"
   },
   {
    "duration": 78,
    "start_time": "2022-10-12T07:11:19.903Z"
   },
   {
    "duration": 77,
    "start_time": "2022-10-12T07:11:43.454Z"
   },
   {
    "duration": 67,
    "start_time": "2022-10-12T07:12:04.901Z"
   },
   {
    "duration": 52,
    "start_time": "2022-10-12T07:12:20.046Z"
   },
   {
    "duration": 15,
    "start_time": "2022-10-12T07:14:11.479Z"
   },
   {
    "duration": 488,
    "start_time": "2022-10-12T07:14:24.893Z"
   },
   {
    "duration": 23,
    "start_time": "2022-10-12T07:14:25.383Z"
   },
   {
    "duration": 14,
    "start_time": "2022-10-12T07:14:25.408Z"
   },
   {
    "duration": 8,
    "start_time": "2022-10-12T07:14:25.423Z"
   },
   {
    "duration": 30,
    "start_time": "2022-10-12T07:14:25.432Z"
   },
   {
    "duration": 3,
    "start_time": "2022-10-12T07:14:25.463Z"
   },
   {
    "duration": 9,
    "start_time": "2022-10-12T07:14:25.467Z"
   },
   {
    "duration": 33,
    "start_time": "2022-10-12T07:14:25.477Z"
   },
   {
    "duration": 10,
    "start_time": "2022-10-12T07:14:25.511Z"
   },
   {
    "duration": 5,
    "start_time": "2022-10-12T07:14:25.523Z"
   },
   {
    "duration": 50,
    "start_time": "2022-10-12T07:14:25.529Z"
   },
   {
    "duration": 11,
    "start_time": "2022-10-12T07:14:25.581Z"
   },
   {
    "duration": 37,
    "start_time": "2022-10-12T07:14:25.593Z"
   },
   {
    "duration": 51,
    "start_time": "2022-10-12T07:14:25.632Z"
   },
   {
    "duration": 38,
    "start_time": "2022-10-12T07:14:25.685Z"
   },
   {
    "duration": 34,
    "start_time": "2022-10-12T07:14:25.725Z"
   },
   {
    "duration": 24,
    "start_time": "2022-10-12T07:14:25.761Z"
   },
   {
    "duration": 39,
    "start_time": "2022-10-12T07:14:25.786Z"
   },
   {
    "duration": 11,
    "start_time": "2022-10-12T07:14:25.827Z"
   },
   {
    "duration": 14,
    "start_time": "2022-10-12T07:14:25.839Z"
   },
   {
    "duration": 43,
    "start_time": "2022-10-12T07:14:25.854Z"
   },
   {
    "duration": 30,
    "start_time": "2022-10-12T07:14:25.900Z"
   },
   {
    "duration": 12,
    "start_time": "2022-10-12T07:15:04.137Z"
   },
   {
    "duration": 66,
    "start_time": "2022-10-12T07:20:30.902Z"
   },
   {
    "duration": 10,
    "start_time": "2022-10-12T07:20:48.599Z"
   },
   {
    "duration": 10,
    "start_time": "2022-10-12T07:20:57.039Z"
   },
   {
    "duration": 12,
    "start_time": "2022-10-12T07:21:03.416Z"
   },
   {
    "duration": 13,
    "start_time": "2022-10-12T07:22:19.119Z"
   },
   {
    "duration": 14,
    "start_time": "2022-10-12T07:22:37.823Z"
   },
   {
    "duration": 13,
    "start_time": "2022-10-12T07:22:46.951Z"
   },
   {
    "duration": 10,
    "start_time": "2022-10-12T07:23:12.968Z"
   },
   {
    "duration": 49,
    "start_time": "2022-10-12T07:23:25.853Z"
   },
   {
    "duration": 53,
    "start_time": "2022-10-12T07:23:40.090Z"
   },
   {
    "duration": 426,
    "start_time": "2022-10-12T07:23:43.763Z"
   },
   {
    "duration": 22,
    "start_time": "2022-10-12T07:23:44.191Z"
   },
   {
    "duration": 14,
    "start_time": "2022-10-12T07:23:44.214Z"
   },
   {
    "duration": 24,
    "start_time": "2022-10-12T07:23:44.230Z"
   },
   {
    "duration": 36,
    "start_time": "2022-10-12T07:23:44.256Z"
   },
   {
    "duration": 3,
    "start_time": "2022-10-12T07:23:44.294Z"
   },
   {
    "duration": 26,
    "start_time": "2022-10-12T07:23:44.299Z"
   },
   {
    "duration": 21,
    "start_time": "2022-10-12T07:23:44.327Z"
   },
   {
    "duration": 18,
    "start_time": "2022-10-12T07:23:44.350Z"
   },
   {
    "duration": 21,
    "start_time": "2022-10-12T07:23:44.371Z"
   },
   {
    "duration": 65,
    "start_time": "2022-10-12T07:23:44.396Z"
   },
   {
    "duration": 26,
    "start_time": "2022-10-12T07:23:44.463Z"
   },
   {
    "duration": 19,
    "start_time": "2022-10-12T07:23:44.493Z"
   },
   {
    "duration": 42,
    "start_time": "2022-10-12T07:23:44.514Z"
   },
   {
    "duration": 38,
    "start_time": "2022-10-12T07:23:44.558Z"
   },
   {
    "duration": 26,
    "start_time": "2022-10-12T07:23:44.598Z"
   },
   {
    "duration": 9,
    "start_time": "2022-10-12T07:23:44.626Z"
   },
   {
    "duration": 29,
    "start_time": "2022-10-12T07:23:44.636Z"
   },
   {
    "duration": 21,
    "start_time": "2022-10-12T07:23:44.667Z"
   },
   {
    "duration": 19,
    "start_time": "2022-10-12T07:23:44.690Z"
   },
   {
    "duration": 23,
    "start_time": "2022-10-12T07:23:44.711Z"
   },
   {
    "duration": 51,
    "start_time": "2022-10-12T07:23:44.736Z"
   },
   {
    "duration": 0,
    "start_time": "2022-10-12T07:23:44.789Z"
   },
   {
    "duration": 11,
    "start_time": "2022-10-12T07:23:55.234Z"
   },
   {
    "duration": 16,
    "start_time": "2022-10-12T07:26:04.346Z"
   },
   {
    "duration": 15,
    "start_time": "2022-10-12T07:27:54.570Z"
   },
   {
    "duration": 17,
    "start_time": "2022-10-12T07:28:10.252Z"
   },
   {
    "duration": 10,
    "start_time": "2022-10-12T07:36:52.347Z"
   },
   {
    "duration": 16,
    "start_time": "2022-10-12T07:37:19.235Z"
   },
   {
    "duration": 681,
    "start_time": "2022-10-12T07:37:49.875Z"
   },
   {
    "duration": 16,
    "start_time": "2022-10-12T07:38:02.995Z"
   },
   {
    "duration": 16,
    "start_time": "2022-10-12T07:45:14.987Z"
   },
   {
    "duration": 817,
    "start_time": "2022-10-12T07:45:54.083Z"
   },
   {
    "duration": 18,
    "start_time": "2022-10-12T07:46:07.835Z"
   },
   {
    "duration": 9,
    "start_time": "2022-10-12T08:25:31.445Z"
   },
   {
    "duration": 13,
    "start_time": "2022-10-12T08:25:43.870Z"
   },
   {
    "duration": 24,
    "start_time": "2022-10-12T08:26:04.414Z"
   },
   {
    "duration": 24,
    "start_time": "2022-10-12T08:26:21.477Z"
   },
   {
    "duration": 14,
    "start_time": "2022-10-12T08:27:44.797Z"
   },
   {
    "duration": 16,
    "start_time": "2022-10-12T08:28:48.494Z"
   },
   {
    "duration": 16,
    "start_time": "2022-10-12T08:29:11.662Z"
   },
   {
    "duration": 15,
    "start_time": "2022-10-12T08:29:17.341Z"
   },
   {
    "duration": 16,
    "start_time": "2022-10-12T08:29:33.143Z"
   },
   {
    "duration": 936,
    "start_time": "2022-10-12T08:29:59.069Z"
   },
   {
    "duration": 26,
    "start_time": "2022-10-12T08:30:52.286Z"
   },
   {
    "duration": 24,
    "start_time": "2022-10-12T08:31:00.141Z"
   },
   {
    "duration": 16,
    "start_time": "2022-10-12T08:35:12.855Z"
   },
   {
    "duration": 14,
    "start_time": "2022-10-12T08:35:25.142Z"
   },
   {
    "duration": 17,
    "start_time": "2022-10-12T08:35:35.838Z"
   },
   {
    "duration": 25,
    "start_time": "2022-10-12T08:39:30.014Z"
   },
   {
    "duration": 26,
    "start_time": "2022-10-12T08:42:21.926Z"
   },
   {
    "duration": 15,
    "start_time": "2022-10-12T08:52:36.390Z"
   },
   {
    "duration": 15,
    "start_time": "2022-10-12T08:52:58.438Z"
   },
   {
    "duration": 873,
    "start_time": "2022-10-12T08:53:43.303Z"
   },
   {
    "duration": 112,
    "start_time": "2022-10-12T08:54:03.374Z"
   },
   {
    "duration": 118,
    "start_time": "2022-10-12T09:03:57.223Z"
   },
   {
    "duration": 119,
    "start_time": "2022-10-12T09:04:27.182Z"
   },
   {
    "duration": 51,
    "start_time": "2022-10-12T09:05:14.246Z"
   },
   {
    "duration": 117,
    "start_time": "2022-10-12T09:05:40.830Z"
   },
   {
    "duration": 16,
    "start_time": "2022-10-12T09:06:14.639Z"
   },
   {
    "duration": 20,
    "start_time": "2022-10-12T09:11:38.719Z"
   },
   {
    "duration": 21,
    "start_time": "2022-10-12T09:12:08.512Z"
   },
   {
    "duration": 1414,
    "start_time": "2022-10-12T09:13:40.480Z"
   },
   {
    "duration": 14,
    "start_time": "2022-10-12T09:13:52.479Z"
   },
   {
    "duration": 18,
    "start_time": "2022-10-12T09:17:54.328Z"
   },
   {
    "duration": 17,
    "start_time": "2022-10-12T09:27:13.928Z"
   },
   {
    "duration": 15,
    "start_time": "2022-10-12T09:28:26.568Z"
   },
   {
    "duration": 17,
    "start_time": "2022-10-12T09:28:36.839Z"
   },
   {
    "duration": 15,
    "start_time": "2022-10-12T09:28:39.887Z"
   },
   {
    "duration": 15,
    "start_time": "2022-10-12T09:29:08.744Z"
   },
   {
    "duration": 116,
    "start_time": "2022-10-12T09:29:39.897Z"
   },
   {
    "duration": 107,
    "start_time": "2022-10-12T09:30:17.568Z"
   },
   {
    "duration": 3,
    "start_time": "2022-10-12T09:35:14.087Z"
   },
   {
    "duration": 116,
    "start_time": "2022-10-12T09:35:19.855Z"
   },
   {
    "duration": 103,
    "start_time": "2022-10-12T09:35:21.856Z"
   },
   {
    "duration": 464,
    "start_time": "2022-10-12T09:35:34.340Z"
   },
   {
    "duration": 21,
    "start_time": "2022-10-12T09:35:34.806Z"
   },
   {
    "duration": 14,
    "start_time": "2022-10-12T09:35:34.828Z"
   },
   {
    "duration": 8,
    "start_time": "2022-10-12T09:35:34.844Z"
   },
   {
    "duration": 30,
    "start_time": "2022-10-12T09:35:34.854Z"
   },
   {
    "duration": 25,
    "start_time": "2022-10-12T09:35:34.886Z"
   },
   {
    "duration": 9,
    "start_time": "2022-10-12T09:35:34.913Z"
   },
   {
    "duration": 4,
    "start_time": "2022-10-12T09:35:34.924Z"
   },
   {
    "duration": 16,
    "start_time": "2022-10-12T09:35:34.929Z"
   },
   {
    "duration": 5,
    "start_time": "2022-10-12T09:35:34.947Z"
   },
   {
    "duration": 39,
    "start_time": "2022-10-12T09:35:34.953Z"
   },
   {
    "duration": 23,
    "start_time": "2022-10-12T09:35:34.993Z"
   },
   {
    "duration": 8,
    "start_time": "2022-10-12T09:35:35.018Z"
   },
   {
    "duration": 13,
    "start_time": "2022-10-12T09:35:35.028Z"
   },
   {
    "duration": 21,
    "start_time": "2022-10-12T09:35:35.042Z"
   },
   {
    "duration": 16,
    "start_time": "2022-10-12T09:35:35.065Z"
   },
   {
    "duration": 3,
    "start_time": "2022-10-12T09:35:35.083Z"
   },
   {
    "duration": 9,
    "start_time": "2022-10-12T09:35:35.108Z"
   },
   {
    "duration": 11,
    "start_time": "2022-10-12T09:35:35.118Z"
   },
   {
    "duration": 3,
    "start_time": "2022-10-12T09:35:35.130Z"
   },
   {
    "duration": 12,
    "start_time": "2022-10-12T09:35:35.135Z"
   },
   {
    "duration": 17,
    "start_time": "2022-10-12T09:35:35.149Z"
   },
   {
    "duration": 16,
    "start_time": "2022-10-12T09:35:35.167Z"
   },
   {
    "duration": 32,
    "start_time": "2022-10-12T09:35:35.185Z"
   },
   {
    "duration": 821,
    "start_time": "2022-10-12T09:35:35.218Z"
   },
   {
    "duration": 0,
    "start_time": "2022-10-12T09:35:36.041Z"
   },
   {
    "duration": 16,
    "start_time": "2022-10-12T09:35:46.226Z"
   },
   {
    "duration": 16,
    "start_time": "2022-10-12T09:41:43.197Z"
   },
   {
    "duration": 16,
    "start_time": "2022-10-12T09:43:20.307Z"
   },
   {
    "duration": 3,
    "start_time": "2022-10-12T09:44:27.107Z"
   },
   {
    "duration": 17,
    "start_time": "2022-10-12T09:47:40.035Z"
   },
   {
    "duration": 17,
    "start_time": "2022-10-12T09:47:48.235Z"
   },
   {
    "duration": 122,
    "start_time": "2022-10-12T09:47:50.004Z"
   },
   {
    "duration": 113,
    "start_time": "2022-10-12T09:49:04.138Z"
   },
   {
    "duration": 134,
    "start_time": "2022-10-12T09:49:56.506Z"
   },
   {
    "duration": 21,
    "start_time": "2022-10-12T09:51:09.588Z"
   },
   {
    "duration": 22,
    "start_time": "2022-10-12T09:51:11.395Z"
   },
   {
    "duration": 18,
    "start_time": "2022-10-12T09:52:01.283Z"
   },
   {
    "duration": 19,
    "start_time": "2022-10-12T09:52:12.603Z"
   },
   {
    "duration": 15,
    "start_time": "2022-10-12T10:07:48.155Z"
   },
   {
    "duration": 110,
    "start_time": "2022-10-12T10:07:51.276Z"
   },
   {
    "duration": 107,
    "start_time": "2022-10-12T10:11:15.972Z"
   },
   {
    "duration": 12,
    "start_time": "2022-10-12T10:13:34.275Z"
   },
   {
    "duration": 118,
    "start_time": "2022-10-12T10:13:47.076Z"
   },
   {
    "duration": 105,
    "start_time": "2022-10-12T10:15:39.444Z"
   },
   {
    "duration": 107,
    "start_time": "2022-10-12T10:16:01.124Z"
   },
   {
    "duration": 112,
    "start_time": "2022-10-12T10:16:09.860Z"
   },
   {
    "duration": 21,
    "start_time": "2022-10-12T10:16:55.300Z"
   },
   {
    "duration": 17,
    "start_time": "2022-10-12T10:18:20.564Z"
   },
   {
    "duration": 52,
    "start_time": "2022-10-12T10:54:47.993Z"
   },
   {
    "duration": 145,
    "start_time": "2022-10-12T10:54:58.419Z"
   },
   {
    "duration": 70,
    "start_time": "2022-10-12T10:58:40.733Z"
   },
   {
    "duration": 52,
    "start_time": "2022-10-12T10:58:43.181Z"
   },
   {
    "duration": 134,
    "start_time": "2022-10-12T10:58:52.419Z"
   },
   {
    "duration": 72,
    "start_time": "2022-10-12T10:59:02.372Z"
   },
   {
    "duration": 20,
    "start_time": "2022-10-12T10:59:02.446Z"
   },
   {
    "duration": 20,
    "start_time": "2022-10-12T10:59:02.468Z"
   },
   {
    "duration": 26,
    "start_time": "2022-10-12T10:59:02.490Z"
   },
   {
    "duration": 34,
    "start_time": "2022-10-12T10:59:02.518Z"
   },
   {
    "duration": 4,
    "start_time": "2022-10-12T10:59:02.553Z"
   },
   {
    "duration": 10,
    "start_time": "2022-10-12T10:59:02.559Z"
   },
   {
    "duration": 9,
    "start_time": "2022-10-12T10:59:02.570Z"
   },
   {
    "duration": 29,
    "start_time": "2022-10-12T10:59:02.580Z"
   },
   {
    "duration": 12,
    "start_time": "2022-10-12T10:59:02.612Z"
   },
   {
    "duration": 42,
    "start_time": "2022-10-12T10:59:02.626Z"
   },
   {
    "duration": 10,
    "start_time": "2022-10-12T10:59:02.669Z"
   },
   {
    "duration": 9,
    "start_time": "2022-10-12T10:59:02.680Z"
   },
   {
    "duration": 26,
    "start_time": "2022-10-12T10:59:02.690Z"
   },
   {
    "duration": 25,
    "start_time": "2022-10-12T10:59:02.718Z"
   },
   {
    "duration": 18,
    "start_time": "2022-10-12T10:59:02.745Z"
   },
   {
    "duration": 4,
    "start_time": "2022-10-12T10:59:02.764Z"
   },
   {
    "duration": 13,
    "start_time": "2022-10-12T10:59:02.770Z"
   },
   {
    "duration": 30,
    "start_time": "2022-10-12T10:59:02.785Z"
   },
   {
    "duration": 10,
    "start_time": "2022-10-12T10:59:02.817Z"
   },
   {
    "duration": 24,
    "start_time": "2022-10-12T10:59:02.828Z"
   },
   {
    "duration": 17,
    "start_time": "2022-10-12T10:59:02.854Z"
   },
   {
    "duration": 20,
    "start_time": "2022-10-12T10:59:02.873Z"
   },
   {
    "duration": 25,
    "start_time": "2022-10-12T10:59:02.895Z"
   },
   {
    "duration": 55,
    "start_time": "2022-10-12T10:59:02.921Z"
   },
   {
    "duration": 0,
    "start_time": "2022-10-12T10:59:02.977Z"
   },
   {
    "duration": 27,
    "start_time": "2022-10-12T10:59:33.211Z"
   },
   {
    "duration": 28,
    "start_time": "2022-10-12T11:29:43.764Z"
   },
   {
    "duration": 2,
    "start_time": "2022-10-12T11:33:06.902Z"
   },
   {
    "duration": 2,
    "start_time": "2022-10-12T11:33:08.149Z"
   },
   {
    "duration": 5,
    "start_time": "2022-10-12T11:34:34.605Z"
   },
   {
    "duration": 8,
    "start_time": "2022-10-12T11:55:29.974Z"
   },
   {
    "duration": 9,
    "start_time": "2022-10-12T11:55:33.038Z"
   },
   {
    "duration": 9,
    "start_time": "2022-10-12T11:56:16.270Z"
   },
   {
    "duration": 16,
    "start_time": "2022-10-12T11:56:30.415Z"
   },
   {
    "duration": 11,
    "start_time": "2022-10-12T11:57:40.978Z"
   },
   {
    "duration": 11,
    "start_time": "2022-10-12T11:58:22.774Z"
   },
   {
    "duration": 10,
    "start_time": "2022-10-12T11:58:58.262Z"
   },
   {
    "duration": 46,
    "start_time": "2022-10-12T12:05:18.415Z"
   },
   {
    "duration": 13,
    "start_time": "2022-10-12T12:06:00.935Z"
   },
   {
    "duration": 16,
    "start_time": "2022-10-12T12:06:24.978Z"
   },
   {
    "duration": 15,
    "start_time": "2022-10-12T12:07:29.047Z"
   },
   {
    "duration": 16,
    "start_time": "2022-10-12T12:07:43.223Z"
   },
   {
    "duration": 17,
    "start_time": "2022-10-12T12:09:02.366Z"
   },
   {
    "duration": 13,
    "start_time": "2022-10-12T12:09:14.694Z"
   },
   {
    "duration": 14,
    "start_time": "2022-10-12T12:10:42.153Z"
   },
   {
    "duration": 20,
    "start_time": "2022-10-12T12:11:55.063Z"
   },
   {
    "duration": 21,
    "start_time": "2022-10-12T12:12:12.223Z"
   },
   {
    "duration": 16,
    "start_time": "2022-10-12T12:12:21.174Z"
   },
   {
    "duration": 15,
    "start_time": "2022-10-12T12:12:28.966Z"
   },
   {
    "duration": 18,
    "start_time": "2022-10-12T12:12:58.986Z"
   },
   {
    "duration": 18,
    "start_time": "2022-10-12T12:13:18.975Z"
   },
   {
    "duration": 14,
    "start_time": "2022-10-12T12:13:45.558Z"
   },
   {
    "duration": 17,
    "start_time": "2022-10-12T12:13:55.151Z"
   },
   {
    "duration": 14,
    "start_time": "2022-10-12T12:14:03.015Z"
   },
   {
    "duration": 16,
    "start_time": "2022-10-12T12:15:54.727Z"
   },
   {
    "duration": 16,
    "start_time": "2022-10-12T12:16:02.719Z"
   },
   {
    "duration": 16,
    "start_time": "2022-10-12T12:16:30.455Z"
   },
   {
    "duration": 12,
    "start_time": "2022-10-12T12:16:38.367Z"
   },
   {
    "duration": 14,
    "start_time": "2022-10-12T12:16:45.767Z"
   },
   {
    "duration": 8,
    "start_time": "2022-10-12T12:22:28.447Z"
   },
   {
    "duration": 21,
    "start_time": "2022-10-12T12:22:34.400Z"
   },
   {
    "duration": 18,
    "start_time": "2022-10-12T12:22:36.184Z"
   },
   {
    "duration": 18,
    "start_time": "2022-10-12T12:22:44.751Z"
   },
   {
    "duration": 15,
    "start_time": "2022-10-12T12:23:19.032Z"
   },
   {
    "duration": 22,
    "start_time": "2022-10-12T12:23:53.335Z"
   },
   {
    "duration": 13,
    "start_time": "2022-10-12T12:27:54.632Z"
   },
   {
    "duration": 52,
    "start_time": "2022-10-12T12:28:01.336Z"
   },
   {
    "duration": 431,
    "start_time": "2022-10-12T12:28:16.441Z"
   },
   {
    "duration": 20,
    "start_time": "2022-10-12T12:28:16.874Z"
   },
   {
    "duration": 13,
    "start_time": "2022-10-12T12:28:16.896Z"
   },
   {
    "duration": 19,
    "start_time": "2022-10-12T12:28:16.911Z"
   },
   {
    "duration": 41,
    "start_time": "2022-10-12T12:28:16.932Z"
   },
   {
    "duration": 14,
    "start_time": "2022-10-12T12:28:16.974Z"
   },
   {
    "duration": 26,
    "start_time": "2022-10-12T12:28:16.989Z"
   },
   {
    "duration": 23,
    "start_time": "2022-10-12T12:28:17.016Z"
   },
   {
    "duration": 14,
    "start_time": "2022-10-12T12:28:17.041Z"
   },
   {
    "duration": 27,
    "start_time": "2022-10-12T12:28:17.057Z"
   },
   {
    "duration": 56,
    "start_time": "2022-10-12T12:28:17.085Z"
   },
   {
    "duration": 9,
    "start_time": "2022-10-12T12:28:17.143Z"
   },
   {
    "duration": 33,
    "start_time": "2022-10-12T12:28:17.153Z"
   },
   {
    "duration": 32,
    "start_time": "2022-10-12T12:28:17.187Z"
   },
   {
    "duration": 34,
    "start_time": "2022-10-12T12:28:17.220Z"
   },
   {
    "duration": 49,
    "start_time": "2022-10-12T12:28:17.256Z"
   },
   {
    "duration": 7,
    "start_time": "2022-10-12T12:28:17.306Z"
   },
   {
    "duration": 39,
    "start_time": "2022-10-12T12:28:17.314Z"
   },
   {
    "duration": 43,
    "start_time": "2022-10-12T12:28:17.354Z"
   },
   {
    "duration": 25,
    "start_time": "2022-10-12T12:28:17.399Z"
   },
   {
    "duration": 61,
    "start_time": "2022-10-12T12:28:17.425Z"
   },
   {
    "duration": 35,
    "start_time": "2022-10-12T12:28:17.487Z"
   },
   {
    "duration": 80,
    "start_time": "2022-10-12T12:28:17.524Z"
   },
   {
    "duration": 107,
    "start_time": "2022-10-12T12:28:17.606Z"
   },
   {
    "duration": 67,
    "start_time": "2022-10-12T12:28:17.715Z"
   },
   {
    "duration": 15,
    "start_time": "2022-10-12T12:31:02.924Z"
   },
   {
    "duration": 1474,
    "start_time": "2022-10-12T12:31:26.325Z"
   },
   {
    "duration": 14,
    "start_time": "2022-10-12T12:31:58.533Z"
   },
   {
    "duration": 26,
    "start_time": "2022-10-12T12:33:52.221Z"
   },
   {
    "duration": 1498,
    "start_time": "2022-10-12T12:35:13.500Z"
   },
   {
    "duration": 22,
    "start_time": "2022-10-12T12:35:33.453Z"
   },
   {
    "duration": 488,
    "start_time": "2022-10-12T14:07:59.748Z"
   },
   {
    "duration": 22,
    "start_time": "2022-10-12T14:08:00.238Z"
   },
   {
    "duration": 32,
    "start_time": "2022-10-12T14:08:00.261Z"
   },
   {
    "duration": 9,
    "start_time": "2022-10-12T14:08:00.296Z"
   },
   {
    "duration": 50,
    "start_time": "2022-10-12T14:08:00.306Z"
   },
   {
    "duration": 13,
    "start_time": "2022-10-12T14:08:00.357Z"
   },
   {
    "duration": 36,
    "start_time": "2022-10-12T14:08:00.371Z"
   },
   {
    "duration": 10,
    "start_time": "2022-10-12T14:08:00.409Z"
   },
   {
    "duration": 32,
    "start_time": "2022-10-12T14:08:00.420Z"
   },
   {
    "duration": 34,
    "start_time": "2022-10-12T14:08:00.455Z"
   },
   {
    "duration": 35,
    "start_time": "2022-10-12T14:08:00.491Z"
   },
   {
    "duration": 15,
    "start_time": "2022-10-12T14:08:00.528Z"
   },
   {
    "duration": 15,
    "start_time": "2022-10-12T14:08:00.545Z"
   },
   {
    "duration": 23,
    "start_time": "2022-10-12T14:08:00.562Z"
   },
   {
    "duration": 34,
    "start_time": "2022-10-12T14:08:00.586Z"
   },
   {
    "duration": 18,
    "start_time": "2022-10-12T14:08:00.621Z"
   },
   {
    "duration": 4,
    "start_time": "2022-10-12T14:08:00.640Z"
   },
   {
    "duration": 18,
    "start_time": "2022-10-12T14:08:00.645Z"
   },
   {
    "duration": 23,
    "start_time": "2022-10-12T14:08:00.665Z"
   },
   {
    "duration": 10,
    "start_time": "2022-10-12T14:08:00.690Z"
   },
   {
    "duration": 22,
    "start_time": "2022-10-12T14:08:00.701Z"
   },
   {
    "duration": 26,
    "start_time": "2022-10-12T14:08:00.724Z"
   },
   {
    "duration": 18,
    "start_time": "2022-10-12T14:08:00.751Z"
   },
   {
    "duration": 15,
    "start_time": "2022-10-12T14:08:00.770Z"
   },
   {
    "duration": 23,
    "start_time": "2022-10-12T14:08:00.786Z"
   },
   {
    "duration": 18,
    "start_time": "2022-10-12T14:08:00.811Z"
   },
   {
    "duration": 6,
    "start_time": "2022-10-12T14:08:00.832Z"
   },
   {
    "duration": 333,
    "start_time": "2022-10-12T14:08:00.841Z"
   },
   {
    "duration": 3,
    "start_time": "2022-10-12T14:08:14.005Z"
   },
   {
    "duration": 286,
    "start_time": "2022-10-12T14:08:14.623Z"
   },
   {
    "duration": 2,
    "start_time": "2022-10-12T14:08:17.733Z"
   },
   {
    "duration": 289,
    "start_time": "2022-10-12T14:08:18.702Z"
   },
   {
    "duration": 2,
    "start_time": "2022-10-12T14:08:26.106Z"
   },
   {
    "duration": 4,
    "start_time": "2022-10-12T14:08:29.093Z"
   },
   {
    "duration": 3,
    "start_time": "2022-10-12T14:08:29.387Z"
   },
   {
    "duration": 22,
    "start_time": "2022-10-12T14:08:29.718Z"
   },
   {
    "duration": 25,
    "start_time": "2022-10-12T14:08:45.483Z"
   },
   {
    "duration": 22,
    "start_time": "2022-10-12T14:09:01.665Z"
   },
   {
    "duration": 36,
    "start_time": "2022-10-12T14:09:28.874Z"
   },
   {
    "duration": 2,
    "start_time": "2022-10-12T14:09:56.744Z"
   },
   {
    "duration": 30,
    "start_time": "2022-10-12T14:09:56.878Z"
   },
   {
    "duration": 428,
    "start_time": "2022-10-12T14:10:02.051Z"
   },
   {
    "duration": 22,
    "start_time": "2022-10-12T14:10:02.480Z"
   },
   {
    "duration": 16,
    "start_time": "2022-10-12T14:10:02.503Z"
   },
   {
    "duration": 37,
    "start_time": "2022-10-12T14:10:02.521Z"
   },
   {
    "duration": 59,
    "start_time": "2022-10-12T14:10:02.561Z"
   },
   {
    "duration": 5,
    "start_time": "2022-10-12T14:10:02.622Z"
   },
   {
    "duration": 46,
    "start_time": "2022-10-12T14:10:02.629Z"
   },
   {
    "duration": 14,
    "start_time": "2022-10-12T14:10:02.676Z"
   },
   {
    "duration": 14,
    "start_time": "2022-10-12T14:10:02.691Z"
   },
   {
    "duration": 28,
    "start_time": "2022-10-12T14:10:02.707Z"
   },
   {
    "duration": 66,
    "start_time": "2022-10-12T14:10:02.737Z"
   },
   {
    "duration": 9,
    "start_time": "2022-10-12T14:10:02.804Z"
   },
   {
    "duration": 20,
    "start_time": "2022-10-12T14:10:02.814Z"
   },
   {
    "duration": 43,
    "start_time": "2022-10-12T14:10:02.837Z"
   },
   {
    "duration": 40,
    "start_time": "2022-10-12T14:10:02.882Z"
   },
   {
    "duration": 53,
    "start_time": "2022-10-12T14:10:02.924Z"
   },
   {
    "duration": 3,
    "start_time": "2022-10-12T14:10:02.979Z"
   },
   {
    "duration": 67,
    "start_time": "2022-10-12T14:10:02.984Z"
   },
   {
    "duration": 61,
    "start_time": "2022-10-12T14:10:03.053Z"
   },
   {
    "duration": 25,
    "start_time": "2022-10-12T14:10:03.116Z"
   },
   {
    "duration": 65,
    "start_time": "2022-10-12T14:10:03.142Z"
   },
   {
    "duration": 42,
    "start_time": "2022-10-12T14:10:03.209Z"
   },
   {
    "duration": 81,
    "start_time": "2022-10-12T14:10:03.253Z"
   },
   {
    "duration": 29,
    "start_time": "2022-10-12T14:10:03.335Z"
   },
   {
    "duration": 38,
    "start_time": "2022-10-12T14:10:03.365Z"
   },
   {
    "duration": 46,
    "start_time": "2022-10-12T14:10:03.404Z"
   },
   {
    "duration": 38,
    "start_time": "2022-10-12T14:10:03.451Z"
   },
   {
    "duration": 62,
    "start_time": "2022-10-12T14:10:03.491Z"
   },
   {
    "duration": 13,
    "start_time": "2022-10-12T14:10:03.555Z"
   },
   {
    "duration": 62,
    "start_time": "2022-10-12T14:10:03.570Z"
   },
   {
    "duration": 32,
    "start_time": "2022-10-12T14:11:09.526Z"
   },
   {
    "duration": 459,
    "start_time": "2022-10-12T14:11:18.215Z"
   },
   {
    "duration": 22,
    "start_time": "2022-10-12T14:11:18.675Z"
   },
   {
    "duration": 32,
    "start_time": "2022-10-12T14:11:18.698Z"
   },
   {
    "duration": 19,
    "start_time": "2022-10-12T14:11:18.732Z"
   },
   {
    "duration": 48,
    "start_time": "2022-10-12T14:11:18.753Z"
   },
   {
    "duration": 3,
    "start_time": "2022-10-12T14:11:18.802Z"
   },
   {
    "duration": 22,
    "start_time": "2022-10-12T14:11:18.807Z"
   },
   {
    "duration": 29,
    "start_time": "2022-10-12T14:11:18.830Z"
   },
   {
    "duration": 25,
    "start_time": "2022-10-12T14:11:18.861Z"
   },
   {
    "duration": 8,
    "start_time": "2022-10-12T14:11:18.889Z"
   },
   {
    "duration": 33,
    "start_time": "2022-10-12T14:11:18.898Z"
   },
   {
    "duration": 9,
    "start_time": "2022-10-12T14:11:18.933Z"
   },
   {
    "duration": 3,
    "start_time": "2022-10-12T14:11:18.944Z"
   },
   {
    "duration": 13,
    "start_time": "2022-10-12T14:11:18.948Z"
   },
   {
    "duration": 18,
    "start_time": "2022-10-12T14:11:18.962Z"
   },
   {
    "duration": 37,
    "start_time": "2022-10-12T14:11:18.981Z"
   },
   {
    "duration": 3,
    "start_time": "2022-10-12T14:11:19.020Z"
   },
   {
    "duration": 17,
    "start_time": "2022-10-12T14:11:19.025Z"
   },
   {
    "duration": 6,
    "start_time": "2022-10-12T14:11:19.044Z"
   },
   {
    "duration": 5,
    "start_time": "2022-10-12T14:11:19.052Z"
   },
   {
    "duration": 11,
    "start_time": "2022-10-12T14:11:19.058Z"
   },
   {
    "duration": 16,
    "start_time": "2022-10-12T14:11:19.071Z"
   },
   {
    "duration": 20,
    "start_time": "2022-10-12T14:11:19.109Z"
   },
   {
    "duration": 14,
    "start_time": "2022-10-12T14:11:19.131Z"
   },
   {
    "duration": 14,
    "start_time": "2022-10-12T14:11:19.147Z"
   },
   {
    "duration": 47,
    "start_time": "2022-10-12T14:11:19.163Z"
   },
   {
    "duration": 2,
    "start_time": "2022-10-12T14:11:19.212Z"
   },
   {
    "duration": 115,
    "start_time": "2022-10-12T14:11:19.217Z"
   },
   {
    "duration": 0,
    "start_time": "2022-10-12T14:11:19.333Z"
   },
   {
    "duration": 0,
    "start_time": "2022-10-12T14:11:19.335Z"
   },
   {
    "duration": 23,
    "start_time": "2022-10-12T14:11:42.035Z"
   },
   {
    "duration": 2,
    "start_time": "2022-10-12T14:11:48.322Z"
   },
   {
    "duration": 35,
    "start_time": "2022-10-12T14:11:48.329Z"
   },
   {
    "duration": 50,
    "start_time": "2022-10-12T14:16:39.827Z"
   },
   {
    "duration": 19,
    "start_time": "2022-10-12T14:17:48.014Z"
   }
  ],
  "celltoolbar": "Необработанный формат ячейки",
  "colab": {
   "name": "dpp_template_part2.ipynb",
   "provenance": []
  },
  "kernelspec": {
   "display_name": "Python 3 (ipykernel)",
   "language": "python",
   "name": "python3"
  },
  "language_info": {
   "codemirror_mode": {
    "name": "ipython",
    "version": 3
   },
   "file_extension": ".py",
   "mimetype": "text/x-python",
   "name": "python",
   "nbconvert_exporter": "python",
   "pygments_lexer": "ipython3",
   "version": "3.9.13"
  },
  "toc": {
   "base_numbering": 1,
   "nav_menu": {},
   "number_sections": true,
   "sideBar": true,
   "skip_h1_title": true,
   "title_cell": "Table of Contents",
   "title_sidebar": "Contents",
   "toc_cell": false,
   "toc_position": {},
   "toc_section_display": true,
   "toc_window_display": false
  }
 },
 "nbformat": 4,
 "nbformat_minor": 5
}
