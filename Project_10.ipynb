{
 "cells": [
  {
   "cell_type": "markdown",
   "metadata": {},
   "source": [
    "# Определение стоимости автомобилей"
   ]
  },
  {
   "cell_type": "markdown",
   "metadata": {},
   "source": [
    "# Описание проекта\n",
    "Сервис по продаже автомобилей с пробегом «Не бит, не крашен» разрабатывает приложение для привлечения новых клиентов. В нём можно быстро узнать рыночную стоимость своего автомобиля. В вашем распоряжении исторические данные: технические характеристики, комплектации и цены автомобилей. Вам нужно построить модель для определения стоимости. \n",
    "\n",
    "Заказчику важны:\n",
    "\n",
    "- качество предсказания;\n",
    "- скорость предсказания;\n",
    "- время обучения."
   ]
  },
  {
   "cell_type": "markdown",
   "metadata": {},
   "source": [
    "# Описание данных\n",
    "\n",
    "**Признаки**\n",
    "\n",
    "\n",
    "- `DateCrawled` — дата скачивания анкеты из базы\n",
    "- `VehicleType` — тип автомобильного кузова\n",
    "- `RegistrationYear` — год регистрации автомобиля\n",
    "- `Gearbox` — тип коробки передач\n",
    "- `Power` — мощность (л. с.)\n",
    "- `Model` — модель автомобиля\n",
    "- `Kilometer` — пробег (км)\n",
    "- `RegistrationMonth` — месяц регистрации автомобиля\n",
    "- `FuelType` — тип топлива\n",
    "- `Brand` — марка автомобиля\n",
    "- `Repaired` — была машина в ремонте или нет\n",
    "- `DateCreated` — дата создания анкеты\n",
    "- `NumberOfPictures` — количество фотографий автомобиля\n",
    "- `PostalCode` — почтовый индекс владельца анкеты (пользователя)\n",
    "- `LastSeen` — дата последней активности пользователя\n",
    "\n",
    "\n",
    "**Целевой признак**\n",
    "\n",
    "- `Price` — цена (евро)"
   ]
  },
  {
   "cell_type": "markdown",
   "metadata": {},
   "source": [
    "## Подготовка данных"
   ]
  },
  {
   "cell_type": "code",
   "execution_count": 1,
   "metadata": {},
   "outputs": [],
   "source": [
    "import matplotlib.pyplot as plt\n",
    "import numpy as np\n",
    "import pandas as pd\n",
    "import warnings\n",
    "\n",
    "from tqdm.notebook import tqdm\n",
    "\n",
    "from sklearn.model_selection import train_test_split\n",
    "from sklearn.metrics import make_scorer, mean_squared_error \n",
    "from sklearn.preprocessing import OrdinalEncoder, OneHotEncoder\n",
    "from sklearn.ensemble import RandomForestRegressor\n",
    "from sklearn.linear_model import LinearRegression\n",
    "from sklearn.model_selection import cross_val_score, GridSearchCV\n",
    "\n",
    "from catboost import CatBoostRegressor\n",
    "from lightgbm import LGBMRegressor\n",
    "\n",
    "warnings.filterwarnings('ignore')"
   ]
  },
  {
   "cell_type": "markdown",
   "metadata": {},
   "source": [
    "### Анализ данных"
   ]
  },
  {
   "cell_type": "code",
   "execution_count": 2,
   "metadata": {},
   "outputs": [
    {
     "name": "stdout",
     "output_type": "stream",
     "text": [
      "<class 'pandas.core.frame.DataFrame'>\n",
      "RangeIndex: 354369 entries, 0 to 354368\n",
      "Data columns (total 17 columns):\n",
      " #   Column             Non-Null Count   Dtype \n",
      "---  ------             --------------   ----- \n",
      " 0   Unnamed: 0         354369 non-null  int64 \n",
      " 1   DateCrawled        354369 non-null  object\n",
      " 2   Price              354369 non-null  int64 \n",
      " 3   VehicleType        316879 non-null  object\n",
      " 4   RegistrationYear   354369 non-null  int64 \n",
      " 5   Gearbox            334536 non-null  object\n",
      " 6   Power              354369 non-null  int64 \n",
      " 7   Model              334664 non-null  object\n",
      " 8   Kilometer          354369 non-null  int64 \n",
      " 9   RegistrationMonth  354369 non-null  int64 \n",
      " 10  FuelType           321474 non-null  object\n",
      " 11  Brand              354369 non-null  object\n",
      " 12  Repaired           283215 non-null  object\n",
      " 13  DateCreated        354369 non-null  object\n",
      " 14  NumberOfPictures   354369 non-null  int64 \n",
      " 15  PostalCode         354369 non-null  int64 \n",
      " 16  LastSeen           354369 non-null  object\n",
      "dtypes: int64(8), object(9)\n",
      "memory usage: 46.0+ MB\n"
     ]
    },
    {
     "data": {
      "text/plain": [
       "None"
      ]
     },
     "metadata": {},
     "output_type": "display_data"
    },
    {
     "data": {
      "text/html": [
       "<div>\n",
       "<style scoped>\n",
       "    .dataframe tbody tr th:only-of-type {\n",
       "        vertical-align: middle;\n",
       "    }\n",
       "\n",
       "    .dataframe tbody tr th {\n",
       "        vertical-align: top;\n",
       "    }\n",
       "\n",
       "    .dataframe thead th {\n",
       "        text-align: right;\n",
       "    }\n",
       "</style>\n",
       "<table border=\"1\" class=\"dataframe\">\n",
       "  <thead>\n",
       "    <tr style=\"text-align: right;\">\n",
       "      <th></th>\n",
       "      <th>Unnamed: 0</th>\n",
       "      <th>DateCrawled</th>\n",
       "      <th>Price</th>\n",
       "      <th>VehicleType</th>\n",
       "      <th>RegistrationYear</th>\n",
       "      <th>Gearbox</th>\n",
       "      <th>Power</th>\n",
       "      <th>Model</th>\n",
       "      <th>Kilometer</th>\n",
       "      <th>RegistrationMonth</th>\n",
       "      <th>FuelType</th>\n",
       "      <th>Brand</th>\n",
       "      <th>Repaired</th>\n",
       "      <th>DateCreated</th>\n",
       "      <th>NumberOfPictures</th>\n",
       "      <th>PostalCode</th>\n",
       "      <th>LastSeen</th>\n",
       "    </tr>\n",
       "  </thead>\n",
       "  <tbody>\n",
       "    <tr>\n",
       "      <th>0</th>\n",
       "      <td>0</td>\n",
       "      <td>2016-03-24 11:52:17</td>\n",
       "      <td>480</td>\n",
       "      <td>NaN</td>\n",
       "      <td>1993</td>\n",
       "      <td>manual</td>\n",
       "      <td>0</td>\n",
       "      <td>golf</td>\n",
       "      <td>150000</td>\n",
       "      <td>0</td>\n",
       "      <td>petrol</td>\n",
       "      <td>volkswagen</td>\n",
       "      <td>NaN</td>\n",
       "      <td>2016-03-24 00:00:00</td>\n",
       "      <td>0</td>\n",
       "      <td>70435</td>\n",
       "      <td>2016-04-07 03:16:57</td>\n",
       "    </tr>\n",
       "    <tr>\n",
       "      <th>1</th>\n",
       "      <td>1</td>\n",
       "      <td>2016-03-24 10:58:45</td>\n",
       "      <td>18300</td>\n",
       "      <td>coupe</td>\n",
       "      <td>2011</td>\n",
       "      <td>manual</td>\n",
       "      <td>190</td>\n",
       "      <td>NaN</td>\n",
       "      <td>125000</td>\n",
       "      <td>5</td>\n",
       "      <td>gasoline</td>\n",
       "      <td>audi</td>\n",
       "      <td>yes</td>\n",
       "      <td>2016-03-24 00:00:00</td>\n",
       "      <td>0</td>\n",
       "      <td>66954</td>\n",
       "      <td>2016-04-07 01:46:50</td>\n",
       "    </tr>\n",
       "    <tr>\n",
       "      <th>2</th>\n",
       "      <td>2</td>\n",
       "      <td>2016-03-14 12:52:21</td>\n",
       "      <td>9800</td>\n",
       "      <td>suv</td>\n",
       "      <td>2004</td>\n",
       "      <td>auto</td>\n",
       "      <td>163</td>\n",
       "      <td>grand</td>\n",
       "      <td>125000</td>\n",
       "      <td>8</td>\n",
       "      <td>gasoline</td>\n",
       "      <td>jeep</td>\n",
       "      <td>NaN</td>\n",
       "      <td>2016-03-14 00:00:00</td>\n",
       "      <td>0</td>\n",
       "      <td>90480</td>\n",
       "      <td>2016-04-05 12:47:46</td>\n",
       "    </tr>\n",
       "    <tr>\n",
       "      <th>3</th>\n",
       "      <td>3</td>\n",
       "      <td>2016-03-17 16:54:04</td>\n",
       "      <td>1500</td>\n",
       "      <td>small</td>\n",
       "      <td>2001</td>\n",
       "      <td>manual</td>\n",
       "      <td>75</td>\n",
       "      <td>golf</td>\n",
       "      <td>150000</td>\n",
       "      <td>6</td>\n",
       "      <td>petrol</td>\n",
       "      <td>volkswagen</td>\n",
       "      <td>no</td>\n",
       "      <td>2016-03-17 00:00:00</td>\n",
       "      <td>0</td>\n",
       "      <td>91074</td>\n",
       "      <td>2016-03-17 17:40:17</td>\n",
       "    </tr>\n",
       "    <tr>\n",
       "      <th>4</th>\n",
       "      <td>4</td>\n",
       "      <td>2016-03-31 17:25:20</td>\n",
       "      <td>3600</td>\n",
       "      <td>small</td>\n",
       "      <td>2008</td>\n",
       "      <td>manual</td>\n",
       "      <td>69</td>\n",
       "      <td>fabia</td>\n",
       "      <td>90000</td>\n",
       "      <td>7</td>\n",
       "      <td>gasoline</td>\n",
       "      <td>skoda</td>\n",
       "      <td>no</td>\n",
       "      <td>2016-03-31 00:00:00</td>\n",
       "      <td>0</td>\n",
       "      <td>60437</td>\n",
       "      <td>2016-04-06 10:17:21</td>\n",
       "    </tr>\n",
       "  </tbody>\n",
       "</table>\n",
       "</div>"
      ],
      "text/plain": [
       "   Unnamed: 0          DateCrawled  Price VehicleType  RegistrationYear  \\\n",
       "0           0  2016-03-24 11:52:17    480         NaN              1993   \n",
       "1           1  2016-03-24 10:58:45  18300       coupe              2011   \n",
       "2           2  2016-03-14 12:52:21   9800         suv              2004   \n",
       "3           3  2016-03-17 16:54:04   1500       small              2001   \n",
       "4           4  2016-03-31 17:25:20   3600       small              2008   \n",
       "\n",
       "  Gearbox  Power  Model  Kilometer  RegistrationMonth  FuelType       Brand  \\\n",
       "0  manual      0   golf     150000                  0    petrol  volkswagen   \n",
       "1  manual    190    NaN     125000                  5  gasoline        audi   \n",
       "2    auto    163  grand     125000                  8  gasoline        jeep   \n",
       "3  manual     75   golf     150000                  6    petrol  volkswagen   \n",
       "4  manual     69  fabia      90000                  7  gasoline       skoda   \n",
       "\n",
       "  Repaired          DateCreated  NumberOfPictures  PostalCode  \\\n",
       "0      NaN  2016-03-24 00:00:00                 0       70435   \n",
       "1      yes  2016-03-24 00:00:00                 0       66954   \n",
       "2      NaN  2016-03-14 00:00:00                 0       90480   \n",
       "3       no  2016-03-17 00:00:00                 0       91074   \n",
       "4       no  2016-03-31 00:00:00                 0       60437   \n",
       "\n",
       "              LastSeen  \n",
       "0  2016-04-07 03:16:57  \n",
       "1  2016-04-07 01:46:50  \n",
       "2  2016-04-05 12:47:46  \n",
       "3  2016-03-17 17:40:17  \n",
       "4  2016-04-06 10:17:21  "
      ]
     },
     "execution_count": 2,
     "metadata": {},
     "output_type": "execute_result"
    }
   ],
   "source": [
    "#Выгрузим данные из таблицы и изучим их.\n",
    "autos_data = pd.read_csv('/datasets/autos.csv')\n",
    "display(autos_data.info())\n",
    "autos_data.head()"
   ]
  },
  {
   "cell_type": "code",
   "execution_count": 3,
   "metadata": {
    "scrolled": true
   },
   "outputs": [
    {
     "data": {
      "text/plain": [
       "Unnamed: 0           0.000000\n",
       "DateCrawled          0.000000\n",
       "Price                0.000000\n",
       "VehicleType          0.105794\n",
       "RegistrationYear     0.000000\n",
       "Gearbox              0.055967\n",
       "Power                0.000000\n",
       "Model                0.055606\n",
       "Kilometer            0.000000\n",
       "RegistrationMonth    0.000000\n",
       "FuelType             0.092827\n",
       "Brand                0.000000\n",
       "Repaired             0.200791\n",
       "DateCreated          0.000000\n",
       "NumberOfPictures     0.000000\n",
       "PostalCode           0.000000\n",
       "LastSeen             0.000000\n",
       "dtype: float64"
      ]
     },
     "execution_count": 3,
     "metadata": {},
     "output_type": "execute_result"
    }
   ],
   "source": [
    "#Оценим количество пропусков по каждому критерию.\n",
    "autos_data.isna().mean()"
   ]
  },
  {
   "cell_type": "code",
   "execution_count": 4,
   "metadata": {},
   "outputs": [
    {
     "name": "stdout",
     "output_type": "stream",
     "text": [
      "Уникальные значения столбца Unnamed: 0\n",
      "[     0      1      2 ... 354366 354367 354368]\n",
      "Уникальные значения столбца DateCrawled\n",
      "['2016-03-24 11:52:17' '2016-03-24 10:58:45' '2016-03-14 12:52:21' ...\n",
      " '2016-03-21 09:50:58' '2016-03-14 17:48:27' '2016-03-19 18:57:12']\n",
      "Уникальные значения столбца Price\n",
      "[  480 18300  9800 ... 12395 18429 10985]\n",
      "Уникальные значения столбца VehicleType\n",
      "[nan 'coupe' 'suv' 'small' 'sedan' 'convertible' 'bus' 'wagon' 'other']\n",
      "Уникальные значения столбца RegistrationYear\n",
      "[1993 2011 2004 2001 2008 1995 1980 2014 1998 2005 1910 2016 2007 2009\n",
      " 2002 2018 1997 1990 2017 1981 2003 1994 1991 1984 2006 1999 2012 2010\n",
      " 2000 1992 2013 1996 1985 1989 2015 1982 1976 1983 1973 1111 1969 1971\n",
      " 1987 1986 1988 1970 1965 1945 1925 1974 1979 1955 1978 1972 1968 1977\n",
      " 1961 1960 1966 1975 1963 1964 5000 1954 1958 1967 1959 9999 1956 3200\n",
      " 1000 1941 8888 1500 2200 4100 1962 1929 1957 1940 3000 2066 1949 2019\n",
      " 1937 1951 1800 1953 1234 8000 5300 9000 2900 6000 5900 5911 1933 1400\n",
      " 1950 4000 1948 1952 1200 8500 1932 1255 3700 3800 4800 1942 7000 1935\n",
      " 1936 6500 1923 2290 2500 1930 1001 9450 1944 1943 1934 1938 1688 2800\n",
      " 1253 1928 1919 5555 5600 1600 2222 1039 9996 1300 8455 1931 1915 4500\n",
      " 1920 1602 7800 9229 1947 1927 7100 8200 1946 7500 3500]\n",
      "Уникальные значения столбца Gearbox\n",
      "['manual' 'auto' nan]\n",
      "Уникальные значения столбца Power\n",
      "[    0   190   163    75    69   102   109    50   125   101   105   140\n",
      "   115   131    60   136   160   231    90   118   193    99   113   218\n",
      "   122   129    70   306    95    61   177    80   170    55   143    64\n",
      "   286   232   150   156    82   155    54   185    87   180    86    84\n",
      "   224   235   200   178   265    77   110   144   120   116   184   126\n",
      "   204    88   194   305   197   179   250    45   313    41   165    98\n",
      "   130   114   211    56   201   213    58   107    83   174   100   220\n",
      "    85    73   192    68    66   299    74    52   147    65   310    71\n",
      "    97   239   203     5   300   103   258   320    63    81   148    44\n",
      "   145   230   280   260   104   188   333   186   117   141    59   132\n",
      "   234   158    39    92    51   135    53   209    43   146    67   106\n",
      "   166   276   344    72   249   237   245   111   326   279    23   138\n",
      "   175    96   226    26    37   301   334   128   133   124    33   219\n",
      "   241   167    94   182   196   238  1398   228   112    48   272   139\n",
      "  1799    40   240    79   256   360   243   375   252   396   340   108\n",
      "   121   345   187   289   222   198   284   450   233   387   152   347\n",
      "   172    57   137   212   476   314    30     7    47   173   290   207\n",
      "   205   171   750    78    91    89   349   325    76   151   350   953\n",
      "    93   142   500   343   199   119   164    16   264   367   208   210\n",
      "    46   435  1001   225   127   176   161   603   307   354    35   206\n",
      "   771   355   273   223   255   123   154   149  7515  1400   268   620\n",
      "   169   400   275    34     2   242  1779   285   162   328  1753   329\n",
      "   134   420   247   168 10317   215    18   330   283    62    10   214\n",
      "   183   254    15   321   322   315   952   600   181   426   599   379\n",
      "   999    22   157    42   195   553     4   309   507   381   271   440\n",
      "   189   401  1111  2729    21   236  1240  1704   521     1  1900   270\n",
      "    24   159   292   808   515  1200   303    29    38  1993    14   216\n",
      "   610   504    49   267   331   363   261   385  1011   253   696 10520\n",
      "   376   227   311    27   217    20  1999    11  1056    25   394    12\n",
      "   298   296  1659   294   551  6920   246    17  1800  1625   368   390\n",
      "   221  1367   259   606   327  2017  1597   266   374   392     9   405\n",
      "    13   262   601   430   295     8   411   900   541  7512   382 10218\n",
      "  7544  1102   287    19   751   297  1090   457   282   602   388     6\n",
      "  1000  5411   335  1360   202  3750   805  1062  1024 11530   364  1796\n",
      "  5000   269   460  1002   288  1780 12012 17932   316  2005  1399   191\n",
      "   278  1300   380   257   449  1256   153  1653   520   560   281 12510\n",
      "     3  1500   386    32  1202  2016  1436  1405   671   274  1288  1055\n",
      " 10912 15016  6226  1115   277  1105   341  1223  2340  8404  1968   338\n",
      "   445  1920   370   517  4400 10710 10522  9010   431  1164 11509   371\n",
      "  1501   428 11635    36   304   348  1703  1910  1995   579 10000   580\n",
      "   408    31  1005   358  1403   489  5575 19211   585   960   365   353\n",
      "   490   352  1801   346   550  3199   800  7508  1312   357  1937   950\n",
      "  4700  1600  3454 19208   251   850   337   700  8011  2331  2789   487\n",
      "   519  2461  6006  3500  5815  6018  1781  1503   612  1596   229  1506\n",
      "  5809 15020  5867  2172  1598 17410  1363   584  1054   851  1339   318\n",
      "   510   525  1700    28  1151   685  6011   317   703  1771 15001   514\n",
      "   362   332   324  6045   530   425   308  6010   475   903   640  2000\n",
      "   248   651  2799 17011   505  1103  1521   351 16051   398  9000  1998\n",
      " 10311   409  1230 17019 12684  8259  1895   901  1317   871   909  2201\n",
      "  1595   776 17700 11011  1199   459  1162  1120 15033  1896   339   361\n",
      "   574  6512   454   650 13616   604   607 16312  1082   336 20000   416\n",
      "   678  6012  1401  1021  1870 13636  1250  9710   323  1158  2009   902\n",
      "  6062  1275   572   244   399  1016   743  1221  2402 16011  1362   544\n",
      "   645   907   702 12512  1986  1003  1432  9013  9011   442  1017  1394\n",
      " 15017 10910  1992   540  2018 11025  1433  1701  2792  1502  1239  1390\n",
      " 14009  1160  1351 11111  1783  9007   923  1149   754  1988   402  2004\n",
      "  5420  1793  1324   356  7511  1299   293 19312  1079  1689   998  1100\n",
      "  9012  1933   508 16311   682  1252  1922  7529   732  2389  2200  1707\n",
      "  1416  8500  1012   485  3000 10110   421  4507  1631  7518   377  1004\n",
      "  2007  2598  1548  1241]\n",
      "Уникальные значения столбца Model\n",
      "['golf' nan 'grand' 'fabia' '3er' '2_reihe' 'other' 'c_max' '3_reihe'\n",
      " 'passat' 'navara' 'ka' 'polo' 'twingo' 'a_klasse' 'scirocco' '5er'\n",
      " 'meriva' 'arosa' 'c4' 'civic' 'transporter' 'punto' 'e_klasse' 'clio'\n",
      " 'kadett' 'kangoo' 'corsa' 'one' 'fortwo' '1er' 'b_klasse' 'signum'\n",
      " 'astra' 'a8' 'jetta' 'fiesta' 'c_klasse' 'micra' 'vito' 'sprinter' '156'\n",
      " 'escort' 'forester' 'xc_reihe' 'scenic' 'a4' 'a1' 'insignia' 'combo'\n",
      " 'focus' 'tt' 'a6' 'jazz' 'omega' 'slk' '7er' '80' '147' '100' 'z_reihe'\n",
      " 'sportage' 'sorento' 'v40' 'ibiza' 'mustang' 'eos' 'touran' 'getz' 'a3'\n",
      " 'almera' 'megane' 'lupo' 'r19' 'zafira' 'caddy' 'mondeo' 'cordoba' 'colt'\n",
      " 'impreza' 'vectra' 'berlingo' 'tiguan' 'i_reihe' 'espace' 'sharan'\n",
      " '6_reihe' 'panda' 'up' 'seicento' 'ceed' '5_reihe' 'yeti' 'octavia' 'mii'\n",
      " 'rx_reihe' '6er' 'modus' 'fox' 'matiz' 'beetle' 'c1' 'rio' 'touareg'\n",
      " 'logan' 'spider' 'cuore' 's_max' 'a2' 'galaxy' 'c3' 'viano' 's_klasse'\n",
      " '1_reihe' 'avensis' 'roomster' 'sl' 'kaefer' 'santa' 'cooper' 'leon'\n",
      " '4_reihe' 'a5' '500' 'laguna' 'ptcruiser' 'clk' 'primera' 'x_reihe'\n",
      " 'exeo' '159' 'transit' 'juke' 'qashqai' 'carisma' 'accord' 'corolla'\n",
      " 'lanos' 'phaeton' 'verso' 'swift' 'rav' 'picanto' 'boxster' 'kalos'\n",
      " 'superb' 'stilo' 'alhambra' 'mx_reihe' 'roadster' 'ypsilon' 'cayenne'\n",
      " 'galant' 'justy' '90' 'sirion' 'crossfire' 'agila' 'duster' 'cr_reihe'\n",
      " 'v50' 'c_reihe' 'v_klasse' 'm_klasse' 'yaris' 'c5' 'aygo' 'cc' 'carnival'\n",
      " 'fusion' '911' 'bora' 'forfour' 'm_reihe' 'cl' 'tigra' '300c' 'spark'\n",
      " 'v70' 'kuga' 'x_type' 'ducato' 's_type' 'x_trail' 'toledo' 'altea'\n",
      " 'voyager' 'calibra' 'bravo' 'antara' 'tucson' 'citigo' 'jimny' 'wrangler'\n",
      " 'lybra' 'q7' 'lancer' 'captiva' 'c2' 'discovery' 'freelander' 'sandero'\n",
      " 'note' '900' 'cherokee' 'clubman' 'samara' 'defender' '601' 'cx_reihe'\n",
      " 'legacy' 'pajero' 'auris' 'niva' 's60' 'nubira' 'vivaro' 'g_klasse'\n",
      " 'lodgy' '850' 'range_rover' 'q3' 'serie_2' 'glk' 'charade' 'croma'\n",
      " 'outlander' 'doblo' 'musa' 'move' '9000' 'v60' '145' 'aveo' '200' 'b_max'\n",
      " 'range_rover_sport' 'terios' 'rangerover' 'q5' 'range_rover_evoque'\n",
      " 'materia' 'delta' 'gl' 'kalina' 'amarok' 'elefantino' 'i3' 'kappa'\n",
      " 'serie_3' 'serie_1']\n",
      "Уникальные значения столбца Kilometer\n",
      "[150000 125000  90000  40000  30000  70000   5000 100000  60000  20000\n",
      "  80000  50000  10000]\n",
      "Уникальные значения столбца RegistrationMonth\n",
      "[ 0  5  8  6  7 10 12 11  2  3  1  4  9]\n",
      "Уникальные значения столбца FuelType\n",
      "['petrol' 'gasoline' nan 'lpg' 'other' 'hybrid' 'cng' 'electric']\n",
      "Уникальные значения столбца Brand\n",
      "['volkswagen' 'audi' 'jeep' 'skoda' 'bmw' 'peugeot' 'ford' 'mazda'\n",
      " 'nissan' 'renault' 'mercedes_benz' 'opel' 'seat' 'citroen' 'honda' 'fiat'\n",
      " 'mini' 'smart' 'hyundai' 'sonstige_autos' 'alfa_romeo' 'subaru' 'volvo'\n",
      " 'mitsubishi' 'kia' 'suzuki' 'lancia' 'toyota' 'chevrolet' 'dacia'\n",
      " 'daihatsu' 'trabant' 'saab' 'chrysler' 'jaguar' 'daewoo' 'porsche'\n",
      " 'rover' 'land_rover' 'lada']\n",
      "Уникальные значения столбца Repaired\n",
      "[nan 'yes' 'no']\n",
      "Уникальные значения столбца DateCreated\n",
      "['2016-03-24 00:00:00' '2016-03-14 00:00:00' '2016-03-17 00:00:00'\n",
      " '2016-03-31 00:00:00' '2016-04-04 00:00:00' '2016-04-01 00:00:00'\n",
      " '2016-03-21 00:00:00' '2016-03-26 00:00:00' '2016-04-07 00:00:00'\n",
      " '2016-03-15 00:00:00' '2016-03-11 00:00:00' '2016-03-20 00:00:00'\n",
      " '2016-03-23 00:00:00' '2016-03-27 00:00:00' '2016-03-12 00:00:00'\n",
      " '2016-03-13 00:00:00' '2016-03-18 00:00:00' '2016-03-10 00:00:00'\n",
      " '2016-03-07 00:00:00' '2016-03-09 00:00:00' '2016-03-08 00:00:00'\n",
      " '2016-04-03 00:00:00' '2016-03-29 00:00:00' '2016-03-25 00:00:00'\n",
      " '2016-03-28 00:00:00' '2016-03-30 00:00:00' '2016-03-22 00:00:00'\n",
      " '2016-02-09 00:00:00' '2016-03-05 00:00:00' '2016-04-02 00:00:00'\n",
      " '2016-03-16 00:00:00' '2016-03-19 00:00:00' '2016-04-05 00:00:00'\n",
      " '2016-03-06 00:00:00' '2016-02-12 00:00:00' '2016-03-03 00:00:00'\n",
      " '2016-03-01 00:00:00' '2016-03-04 00:00:00' '2016-04-06 00:00:00'\n",
      " '2016-02-15 00:00:00' '2016-02-24 00:00:00' '2016-02-27 00:00:00'\n",
      " '2015-03-20 00:00:00' '2016-02-28 00:00:00' '2016-02-17 00:00:00'\n",
      " '2016-01-27 00:00:00' '2016-02-20 00:00:00' '2016-02-29 00:00:00'\n",
      " '2016-02-10 00:00:00' '2016-02-23 00:00:00' '2016-02-21 00:00:00'\n",
      " '2015-11-02 00:00:00' '2016-02-19 00:00:00' '2016-02-26 00:00:00'\n",
      " '2016-02-11 00:00:00' '2016-01-10 00:00:00' '2016-02-06 00:00:00'\n",
      " '2016-02-18 00:00:00' '2016-01-29 00:00:00' '2016-03-02 00:00:00'\n",
      " '2015-12-06 00:00:00' '2016-01-24 00:00:00' '2016-01-30 00:00:00'\n",
      " '2016-02-02 00:00:00' '2016-02-16 00:00:00' '2016-02-13 00:00:00'\n",
      " '2016-02-05 00:00:00' '2016-02-22 00:00:00' '2015-11-17 00:00:00'\n",
      " '2014-03-10 00:00:00' '2016-02-07 00:00:00' '2016-01-23 00:00:00'\n",
      " '2016-02-25 00:00:00' '2016-02-14 00:00:00' '2016-01-02 00:00:00'\n",
      " '2015-09-04 00:00:00' '2015-11-12 00:00:00' '2015-12-27 00:00:00'\n",
      " '2015-11-24 00:00:00' '2016-01-20 00:00:00' '2016-02-03 00:00:00'\n",
      " '2015-12-05 00:00:00' '2015-08-07 00:00:00' '2016-01-28 00:00:00'\n",
      " '2016-01-31 00:00:00' '2016-02-08 00:00:00' '2016-01-07 00:00:00'\n",
      " '2016-01-22 00:00:00' '2016-01-18 00:00:00' '2016-01-08 00:00:00'\n",
      " '2015-11-23 00:00:00' '2016-01-13 00:00:00' '2016-01-17 00:00:00'\n",
      " '2016-01-15 00:00:00' '2015-11-08 00:00:00' '2016-01-26 00:00:00'\n",
      " '2016-02-04 00:00:00' '2016-01-25 00:00:00' '2016-01-16 00:00:00'\n",
      " '2015-08-10 00:00:00' '2016-01-03 00:00:00' '2016-01-19 00:00:00'\n",
      " '2015-12-30 00:00:00' '2016-02-01 00:00:00' '2015-12-17 00:00:00'\n",
      " '2015-11-10 00:00:00' '2016-01-06 00:00:00' '2015-09-09 00:00:00'\n",
      " '2015-06-18 00:00:00']\n",
      "Уникальные значения столбца NumberOfPictures\n",
      "[0]\n",
      "Уникальные значения столбца PostalCode\n",
      "[70435 66954 90480 ... 38528 38325 31096]\n",
      "Уникальные значения столбца LastSeen\n",
      "['2016-04-07 03:16:57' '2016-04-07 01:46:50' '2016-04-05 12:47:46' ...\n",
      " '2016-03-19 20:44:43' '2016-03-29 10:17:23' '2016-03-21 10:42:49']\n"
     ]
    }
   ],
   "source": [
    "#Столбцы VehicleType, Gearbox, FuelType и NotRepaired обладают пропусками. Изучим, какие данные есть в каждом столбце.\n",
    "def show_rows(data_frame):\n",
    "    for column in data_frame.columns:\n",
    "        print('Уникальные значения столбца', column)\n",
    "        print(data_frame[column].unique())\n",
    "show_rows(autos_data)"
   ]
  },
  {
   "cell_type": "markdown",
   "metadata": {},
   "source": [
    "**Вывод по пункту 1.1.**\n",
    "\n",
    "В столбце ***RegistrationYear*** существуют некорректные значения года регистрации.\n",
    "\n",
    "В столбце ***RegistrationMonth*** отсутсвует месяц регистрации.\n",
    "\n",
    "В столбце ***Power*** присутвует некорректное значение мощности.\n",
    "\n",
    "**К значимым признакам отнесем следующие столбцы:**\n",
    "\n",
    "* ***VehicleType.*** Тип машины определяет ее функционал. Чем больше возможносей у машины, тем выше цена.\n",
    "\n",
    "* ***Gearbox.*** Наличие автоматической коробки передач повышает стоимость машины из-за сложности конструкции.\n",
    "\n",
    "* ***Power.*** Мощность в лоашдиных силах (далее л.с.) напрямую влияют на цену.\n",
    "\n",
    "* ***Kilometer.*** Имеет обратно пропорциональную зависиммость от цены. Чем больше километров проехала машина, тем меньше ее надежность и соответсвенно цена.\n",
    "\n",
    "* ***FuelType.*** Тип топлива определяет конструкцию двигателя внутреннего сгорания.\n",
    "\n",
    "* ***Brand.*** Концерн/компания, которая создала автомобиль показывает качество и надежность автомобиля.\n",
    "\n",
    "* ***Repaired.*** Машины, которые побывали в дорожно-транспортных проишествиях означает, что машина подвергалась изменениям и ее надежность ниже.\n",
    "\n",
    "* ***RegistrationYear.*** Год регистрации определяет сколько уже лет машина на ходу. соответвенно, чем больше возраст, тем меньше цена.\n",
    "\n",
    "* ***Model.*** В купе с типом машины и брендом може влиять на популярность у покупателей.\n",
    "\n",
    "*Остальные столбцы для модели не требуются, так как не влияют на стоимость.*"
   ]
  },
  {
   "cell_type": "markdown",
   "metadata": {},
   "source": [
    "### Предобработка данных"
   ]
  },
  {
   "cell_type": "code",
   "execution_count": 5,
   "metadata": {},
   "outputs": [
    {
     "name": "stdout",
     "output_type": "stream",
     "text": [
      "<class 'pandas.core.frame.DataFrame'>\n",
      "RangeIndex: 354369 entries, 0 to 354368\n",
      "Data columns (total 10 columns):\n",
      " #   Column            Non-Null Count   Dtype \n",
      "---  ------            --------------   ----- \n",
      " 0   VehicleType       316879 non-null  object\n",
      " 1   Gearbox           334536 non-null  object\n",
      " 2   Power             354369 non-null  int64 \n",
      " 3   Kilometer         354369 non-null  int64 \n",
      " 4   FuelType          321474 non-null  object\n",
      " 5   Brand             354369 non-null  object\n",
      " 6   Repaired          283215 non-null  object\n",
      " 7   RegistrationYear  354369 non-null  int64 \n",
      " 8   Model             334664 non-null  object\n",
      " 9   Price             354369 non-null  int64 \n",
      "dtypes: int64(4), object(6)\n",
      "memory usage: 27.0+ MB\n"
     ]
    }
   ],
   "source": [
    "#Сократим дата фрейм до нужных столбцов.\n",
    "filtred_autos_data = autos_data[['VehicleType', \n",
    "                         'Gearbox', \n",
    "                         'Power',\n",
    "                         'Kilometer',\n",
    "                         'FuelType',\n",
    "                         'Brand',\n",
    "                         'Repaired',\n",
    "                         'RegistrationYear',\n",
    "                         'Model',\n",
    "                         'Price']]\n",
    "filtred_autos_data.info()"
   ]
  },
  {
   "cell_type": "markdown",
   "metadata": {},
   "source": [
    "Столбцы, требующие обработки:\n",
    "\n",
    "* ***VehicleType.*** Восстановим пропущенные значения по популярному типу из столбца Brand.\n",
    "* ***Gearbox.*** Для всех NaN установим значение 'manual'.\n",
    "* ***Power.*** Скоректируем на основе реальных значений в машинах. Иметь 1 л.с. или 15000 л.с. для машины на данный момент нереально.\n",
    "* ***FuelType.*** Восстановим пропущенные значения по популярному типу из столбца Brand.\n",
    "* ***Repaired.*** Для всех NaN установим значение 'yes'.\n",
    "* ***RegistrationYear.*** Скоректируем на основе реальных значений в машинах.\n",
    "* ***Model.*** Для всех NaN установим значение 'unknown'."
   ]
  },
  {
   "cell_type": "code",
   "execution_count": 6,
   "metadata": {},
   "outputs": [
    {
     "data": {
      "text/plain": [
       "0        10772\n",
       "500       5670\n",
       "1500      5394\n",
       "1000      4649\n",
       "1200      4594\n",
       "         ...  \n",
       "1368         1\n",
       "233          1\n",
       "11080        1\n",
       "16340        1\n",
       "10985        1\n",
       "Name: Price, Length: 3731, dtype: int64"
      ]
     },
     "execution_count": 6,
     "metadata": {},
     "output_type": "execute_result"
    }
   ],
   "source": [
    "#Проверим наполнение целевого признака Price.\n",
    "filtred_autos_data['Price'].value_counts()"
   ]
  },
  {
   "cell_type": "code",
   "execution_count": 7,
   "metadata": {},
   "outputs": [
    {
     "data": {
      "image/png": "[encoded data removed]",
      "text/plain": [
       "<Figure size 1200x900 with 1 Axes>"
      ]
     },
     "metadata": {},
     "output_type": "display_data"
    }
   ],
   "source": [
    "#Видно, что существует 10772 записи без цены. Удалим их и проверим распределение цены на гистограмме.\n",
    "filtred_autos_data = filtred_autos_data.query('Price > 0')\n",
    "filtred_autos_data['Price'].hist(bins=100, figsize=(12,9))\n",
    "filtred_autos_data['Price'].describe()\n",
    "plt.title('Распределение цен автомобилей')\n",
    "plt.xlabel('Цена автомобиля, €')\n",
    "plt.ylabel('Количество автомобилей, шт.');"
   ]
  },
  {
   "cell_type": "code",
   "execution_count": 8,
   "metadata": {},
   "outputs": [
    {
     "data": {
      "text/plain": [
       "0.05     350.0\n",
       "0.80    7800.0\n",
       "Name: Price, dtype: float64"
      ]
     },
     "execution_count": 8,
     "metadata": {},
     "output_type": "execute_result"
    }
   ],
   "source": [
    "#Выделим квантили 5% и 80%.\n",
    "filtred_autos_data['Price'].quantile([.05, 0.8])"
   ]
  },
  {
   "cell_type": "code",
   "execution_count": 9,
   "metadata": {},
   "outputs": [
    {
     "name": "stdout",
     "output_type": "stream",
     "text": [
      "<class 'pandas.core.frame.DataFrame'>\n",
      "Int64Index: 259798 entries, 0 to 354368\n",
      "Data columns (total 10 columns):\n",
      " #   Column            Non-Null Count   Dtype \n",
      "---  ------            --------------   ----- \n",
      " 0   VehicleType       233267 non-null  object\n",
      " 1   Gearbox           246646 non-null  object\n",
      " 2   Power             259798 non-null  int64 \n",
      " 3   Kilometer         259798 non-null  int64 \n",
      " 4   FuelType          236972 non-null  object\n",
      " 5   Brand             259798 non-null  object\n",
      " 6   Repaired          206998 non-null  object\n",
      " 7   RegistrationYear  259798 non-null  int64 \n",
      " 8   Model             246358 non-null  object\n",
      " 9   Price             259798 non-null  int64 \n",
      "dtypes: int64(4), object(6)\n",
      "memory usage: 21.8+ MB\n"
     ]
    }
   ],
   "source": [
    "#Стоимость 350 евро примерно равно 28000 рублей. \n",
    "#Это минимальная цена для продажи поддержанного авто. Выбор 80% квантиля обоснован болльшими выбросами после 7500 евро.\n",
    "filtred_autos_data = filtred_autos_data.query('350 <= Price <= 7800')\n",
    "filtred_autos_data.info()"
   ]
  },
  {
   "cell_type": "code",
   "execution_count": 10,
   "metadata": {},
   "outputs": [
    {
     "data": {
      "image/png": "[encoded data removed]",
      "text/plain": [
       "<Figure size 1200x900 with 1 Axes>"
      ]
     },
     "metadata": {},
     "output_type": "display_data"
    }
   ],
   "source": [
    "#Проверим значения столбца RegistrationYear на гистограмме.\n",
    "filtred_autos_data['RegistrationYear'].hist(bins=100, figsize=(12,9))\n",
    "filtred_autos_data['RegistrationYear'].describe()\n",
    "plt.title('Гистограмма года регистрации')\n",
    "plt.xlabel('Год регистрации')\n",
    "plt.ylabel('Количество автомобилей, шт.');"
   ]
  },
  {
   "cell_type": "code",
   "execution_count": 11,
   "metadata": {},
   "outputs": [
    {
     "data": {
      "text/plain": [
       "Timestamp('2016-04-07 14:36:58')"
      ]
     },
     "execution_count": 11,
     "metadata": {},
     "output_type": "execute_result"
    }
   ],
   "source": [
    "#В годе регистрации наблюдаются выбросы. Отсечем правые выбросы, узнав максимальную дату скачивания анкеты автомобиля.\n",
    "date = pd.to_datetime(autos_data['DateCrawled'])\n",
    "date.max()"
   ]
  },
  {
   "cell_type": "code",
   "execution_count": 12,
   "metadata": {},
   "outputs": [
    {
     "data": {
      "image/png": "[encoded data removed]",
      "text/plain": [
       "<Figure size 1200x900 with 1 Axes>"
      ]
     },
     "metadata": {},
     "output_type": "display_data"
    }
   ],
   "source": [
    "#Даты регистрации после 2016 года некорректны и машины появились не раньше 1900 года. \n",
    "#Отсечем ненужные года и промотрим левые выбросы.\n",
    "filtred_autos_data = filtred_autos_data.query('1899 < RegistrationYear < 2017')\n",
    "filtred_autos_data['RegistrationYear'].hist(bins=100, figsize=(12,9))\n",
    "filtred_autos_data['RegistrationYear'].describe()\n",
    "plt.title('Гистограмма года регистрации с 1900 по 2016 годы')\n",
    "plt.xlabel('Год регистрации')\n",
    "plt.ylabel('Количество автомобилей, шт.');"
   ]
  },
  {
   "cell_type": "code",
   "execution_count": 13,
   "metadata": {},
   "outputs": [
    {
     "data": {
      "image/png": "[encoded data removed]",
      "text/plain": [
       "<Figure size 1200x900 with 1 Axes>"
      ]
     },
     "metadata": {},
     "output_type": "display_data"
    }
   ],
   "source": [
    "#По левой части гистограммы видно, что адекватно использовать левую границу в 1960 год, \n",
    "#так как это старые, но возможно еще работающие машины.\n",
    "filtred_autos_data = filtred_autos_data.query('1959 < RegistrationYear < 2017')\n",
    "filtred_autos_data['RegistrationYear'].hist(bins=50, figsize=(12,9))\n",
    "filtred_autos_data['RegistrationYear'].describe()\n",
    "plt.title('Гистограмма года регистрации с 1960 по 2016 годы')\n",
    "plt.xlabel('Год регистрации')\n",
    "plt.ylabel('Количество автомобилей, шт.');"
   ]
  },
  {
   "cell_type": "code",
   "execution_count": 14,
   "metadata": {
    "scrolled": true
   },
   "outputs": [
    {
     "data": {
      "text/plain": [
       "VehicleType         0.058640\n",
       "Gearbox             0.000000\n",
       "Power               0.000000\n",
       "Kilometer           0.000000\n",
       "FuelType            0.073575\n",
       "Brand               0.000000\n",
       "Repaired            0.191489\n",
       "RegistrationYear    0.000000\n",
       "Model               0.000000\n",
       "Price               0.000000\n",
       "dtype: float64"
      ]
     },
     "execution_count": 14,
     "metadata": {},
     "output_type": "execute_result"
    }
   ],
   "source": [
    "#Проведем замену NaN в Gearbox, NotRepaired и Model.\n",
    "filtred_autos_data.fillna({'Gearbox':'unknown', \n",
    "                           'NotRepaired':'unknown',\n",
    "                           'Model':'unknown'},\n",
    "                          inplace=True)\n",
    "filtred_autos_data.isna().mean()"
   ]
  },
  {
   "cell_type": "code",
   "execution_count": 15,
   "metadata": {
    "scrolled": true
   },
   "outputs": [
    {
     "data": {
      "text/plain": [
       "sedan          67609\n",
       "small          66486\n",
       "wagon          47300\n",
       "bus            21087\n",
       "convertible    12662\n",
       "coupe          10311\n",
       "suv             5237\n",
       "other           2450\n",
       "Name: VehicleType, dtype: int64"
      ]
     },
     "metadata": {},
     "output_type": "display_data"
    },
    {
     "data": {
      "text/plain": [
       "14523"
      ]
     },
     "execution_count": 15,
     "metadata": {},
     "output_type": "execute_result"
    }
   ],
   "source": [
    "#Оценим количество пропущенных значений относительно всех значений в столбце VehicleType\n",
    "display(filtred_autos_data['VehicleType'].value_counts())\n",
    "filtred_autos_data['VehicleType'].isna().sum()"
   ]
  },
  {
   "cell_type": "code",
   "execution_count": 16,
   "metadata": {},
   "outputs": [
    {
     "data": {
      "text/html": [
       "<div>\n",
       "<style scoped>\n",
       "    .dataframe tbody tr th:only-of-type {\n",
       "        vertical-align: middle;\n",
       "    }\n",
       "\n",
       "    .dataframe tbody tr th {\n",
       "        vertical-align: top;\n",
       "    }\n",
       "\n",
       "    .dataframe thead tr th {\n",
       "        text-align: left;\n",
       "    }\n",
       "\n",
       "    .dataframe thead tr:last-of-type th {\n",
       "        text-align: right;\n",
       "    }\n",
       "</style>\n",
       "<table border=\"1\" class=\"dataframe\">\n",
       "  <thead>\n",
       "    <tr>\n",
       "      <th></th>\n",
       "      <th colspan=\"21\" halign=\"left\">count</th>\n",
       "    </tr>\n",
       "    <tr>\n",
       "      <th></th>\n",
       "      <th colspan=\"21\" halign=\"left\">Price</th>\n",
       "    </tr>\n",
       "    <tr>\n",
       "      <th>Brand</th>\n",
       "      <th>alfa_romeo</th>\n",
       "      <th>audi</th>\n",
       "      <th>bmw</th>\n",
       "      <th>chevrolet</th>\n",
       "      <th>chrysler</th>\n",
       "      <th>citroen</th>\n",
       "      <th>dacia</th>\n",
       "      <th>daewoo</th>\n",
       "      <th>daihatsu</th>\n",
       "      <th>fiat</th>\n",
       "      <th>...</th>\n",
       "      <th>seat</th>\n",
       "      <th>skoda</th>\n",
       "      <th>smart</th>\n",
       "      <th>sonstige_autos</th>\n",
       "      <th>subaru</th>\n",
       "      <th>suzuki</th>\n",
       "      <th>toyota</th>\n",
       "      <th>trabant</th>\n",
       "      <th>volkswagen</th>\n",
       "      <th>volvo</th>\n",
       "    </tr>\n",
       "    <tr>\n",
       "      <th>VehicleType</th>\n",
       "      <th></th>\n",
       "      <th></th>\n",
       "      <th></th>\n",
       "      <th></th>\n",
       "      <th></th>\n",
       "      <th></th>\n",
       "      <th></th>\n",
       "      <th></th>\n",
       "      <th></th>\n",
       "      <th></th>\n",
       "      <th></th>\n",
       "      <th></th>\n",
       "      <th></th>\n",
       "      <th></th>\n",
       "      <th></th>\n",
       "      <th></th>\n",
       "      <th></th>\n",
       "      <th></th>\n",
       "      <th></th>\n",
       "      <th></th>\n",
       "      <th></th>\n",
       "    </tr>\n",
       "  </thead>\n",
       "  <tbody>\n",
       "    <tr>\n",
       "      <th>bus</th>\n",
       "      <td>NaN</td>\n",
       "      <td>10.0</td>\n",
       "      <td>4.0</td>\n",
       "      <td>98.0</td>\n",
       "      <td>370.0</td>\n",
       "      <td>1040.0</td>\n",
       "      <td>15.0</td>\n",
       "      <td>26.0</td>\n",
       "      <td>31.0</td>\n",
       "      <td>707.0</td>\n",
       "      <td>...</td>\n",
       "      <td>485.0</td>\n",
       "      <td>158.0</td>\n",
       "      <td>1.0</td>\n",
       "      <td>140.0</td>\n",
       "      <td>16.0</td>\n",
       "      <td>27.0</td>\n",
       "      <td>341.0</td>\n",
       "      <td>NaN</td>\n",
       "      <td>5936.0</td>\n",
       "      <td>NaN</td>\n",
       "    </tr>\n",
       "    <tr>\n",
       "      <th>convertible</th>\n",
       "      <td>111.0</td>\n",
       "      <td>667.0</td>\n",
       "      <td>1636.0</td>\n",
       "      <td>6.0</td>\n",
       "      <td>195.0</td>\n",
       "      <td>96.0</td>\n",
       "      <td>NaN</td>\n",
       "      <td>1.0</td>\n",
       "      <td>8.0</td>\n",
       "      <td>257.0</td>\n",
       "      <td>...</td>\n",
       "      <td>NaN</td>\n",
       "      <td>3.0</td>\n",
       "      <td>988.0</td>\n",
       "      <td>161.0</td>\n",
       "      <td>NaN</td>\n",
       "      <td>32.0</td>\n",
       "      <td>47.0</td>\n",
       "      <td>30.0</td>\n",
       "      <td>2029.0</td>\n",
       "      <td>35.0</td>\n",
       "    </tr>\n",
       "    <tr>\n",
       "      <th>coupe</th>\n",
       "      <td>180.0</td>\n",
       "      <td>651.0</td>\n",
       "      <td>2570.0</td>\n",
       "      <td>45.0</td>\n",
       "      <td>17.0</td>\n",
       "      <td>137.0</td>\n",
       "      <td>NaN</td>\n",
       "      <td>2.0</td>\n",
       "      <td>NaN</td>\n",
       "      <td>151.0</td>\n",
       "      <td>...</td>\n",
       "      <td>64.0</td>\n",
       "      <td>6.0</td>\n",
       "      <td>318.0</td>\n",
       "      <td>79.0</td>\n",
       "      <td>3.0</td>\n",
       "      <td>4.0</td>\n",
       "      <td>178.0</td>\n",
       "      <td>2.0</td>\n",
       "      <td>740.0</td>\n",
       "      <td>50.0</td>\n",
       "    </tr>\n",
       "    <tr>\n",
       "      <th>other</th>\n",
       "      <td>10.0</td>\n",
       "      <td>83.0</td>\n",
       "      <td>187.0</td>\n",
       "      <td>18.0</td>\n",
       "      <td>6.0</td>\n",
       "      <td>95.0</td>\n",
       "      <td>5.0</td>\n",
       "      <td>5.0</td>\n",
       "      <td>9.0</td>\n",
       "      <td>151.0</td>\n",
       "      <td>...</td>\n",
       "      <td>47.0</td>\n",
       "      <td>21.0</td>\n",
       "      <td>8.0</td>\n",
       "      <td>167.0</td>\n",
       "      <td>5.0</td>\n",
       "      <td>10.0</td>\n",
       "      <td>15.0</td>\n",
       "      <td>4.0</td>\n",
       "      <td>586.0</td>\n",
       "      <td>NaN</td>\n",
       "    </tr>\n",
       "    <tr>\n",
       "      <th>sedan</th>\n",
       "      <td>777.0</td>\n",
       "      <td>7828.0</td>\n",
       "      <td>11309.0</td>\n",
       "      <td>146.0</td>\n",
       "      <td>205.0</td>\n",
       "      <td>538.0</td>\n",
       "      <td>97.0</td>\n",
       "      <td>87.0</td>\n",
       "      <td>35.0</td>\n",
       "      <td>796.0</td>\n",
       "      <td>...</td>\n",
       "      <td>1220.0</td>\n",
       "      <td>694.0</td>\n",
       "      <td>26.0</td>\n",
       "      <td>257.0</td>\n",
       "      <td>99.0</td>\n",
       "      <td>131.0</td>\n",
       "      <td>735.0</td>\n",
       "      <td>170.0</td>\n",
       "      <td>14847.0</td>\n",
       "      <td>487.0</td>\n",
       "    </tr>\n",
       "    <tr>\n",
       "      <th>small</th>\n",
       "      <td>185.0</td>\n",
       "      <td>933.0</td>\n",
       "      <td>324.0</td>\n",
       "      <td>574.0</td>\n",
       "      <td>12.0</td>\n",
       "      <td>1372.0</td>\n",
       "      <td>178.0</td>\n",
       "      <td>247.0</td>\n",
       "      <td>439.0</td>\n",
       "      <td>4520.0</td>\n",
       "      <td>...</td>\n",
       "      <td>2621.0</td>\n",
       "      <td>930.0</td>\n",
       "      <td>3099.0</td>\n",
       "      <td>166.0</td>\n",
       "      <td>99.0</td>\n",
       "      <td>810.0</td>\n",
       "      <td>1475.0</td>\n",
       "      <td>49.0</td>\n",
       "      <td>15294.0</td>\n",
       "      <td>6.0</td>\n",
       "    </tr>\n",
       "    <tr>\n",
       "      <th>suv</th>\n",
       "      <td>NaN</td>\n",
       "      <td>18.0</td>\n",
       "      <td>189.0</td>\n",
       "      <td>146.0</td>\n",
       "      <td>12.0</td>\n",
       "      <td>8.0</td>\n",
       "      <td>46.0</td>\n",
       "      <td>1.0</td>\n",
       "      <td>46.0</td>\n",
       "      <td>17.0</td>\n",
       "      <td>...</td>\n",
       "      <td>1.0</td>\n",
       "      <td>7.0</td>\n",
       "      <td>NaN</td>\n",
       "      <td>174.0</td>\n",
       "      <td>42.0</td>\n",
       "      <td>557.0</td>\n",
       "      <td>252.0</td>\n",
       "      <td>NaN</td>\n",
       "      <td>247.0</td>\n",
       "      <td>30.0</td>\n",
       "    </tr>\n",
       "    <tr>\n",
       "      <th>wagon</th>\n",
       "      <td>388.0</td>\n",
       "      <td>6422.0</td>\n",
       "      <td>4997.0</td>\n",
       "      <td>83.0</td>\n",
       "      <td>183.0</td>\n",
       "      <td>497.0</td>\n",
       "      <td>227.0</td>\n",
       "      <td>36.0</td>\n",
       "      <td>16.0</td>\n",
       "      <td>370.0</td>\n",
       "      <td>...</td>\n",
       "      <td>215.0</td>\n",
       "      <td>1763.0</td>\n",
       "      <td>9.0</td>\n",
       "      <td>104.0</td>\n",
       "      <td>241.0</td>\n",
       "      <td>84.0</td>\n",
       "      <td>449.0</td>\n",
       "      <td>66.0</td>\n",
       "      <td>9704.0</td>\n",
       "      <td>1655.0</td>\n",
       "    </tr>\n",
       "  </tbody>\n",
       "</table>\n",
       "<p>8 rows × 40 columns</p>\n",
       "</div>"
      ],
      "text/plain": [
       "                 count                                                     \\\n",
       "                 Price                                                      \n",
       "Brand       alfa_romeo    audi      bmw chevrolet chrysler citroen  dacia   \n",
       "VehicleType                                                                 \n",
       "bus                NaN    10.0      4.0      98.0    370.0  1040.0   15.0   \n",
       "convertible      111.0   667.0   1636.0       6.0    195.0    96.0    NaN   \n",
       "coupe            180.0   651.0   2570.0      45.0     17.0   137.0    NaN   \n",
       "other             10.0    83.0    187.0      18.0      6.0    95.0    5.0   \n",
       "sedan            777.0  7828.0  11309.0     146.0    205.0   538.0   97.0   \n",
       "small            185.0   933.0    324.0     574.0     12.0  1372.0  178.0   \n",
       "suv                NaN    18.0    189.0     146.0     12.0     8.0   46.0   \n",
       "wagon            388.0  6422.0   4997.0      83.0    183.0   497.0  227.0   \n",
       "\n",
       "                                     ...                          \\\n",
       "                                     ...                           \n",
       "Brand       daewoo daihatsu    fiat  ...    seat   skoda   smart   \n",
       "VehicleType                          ...                           \n",
       "bus           26.0     31.0   707.0  ...   485.0   158.0     1.0   \n",
       "convertible    1.0      8.0   257.0  ...     NaN     3.0   988.0   \n",
       "coupe          2.0      NaN   151.0  ...    64.0     6.0   318.0   \n",
       "other          5.0      9.0   151.0  ...    47.0    21.0     8.0   \n",
       "sedan         87.0     35.0   796.0  ...  1220.0   694.0    26.0   \n",
       "small        247.0    439.0  4520.0  ...  2621.0   930.0  3099.0   \n",
       "suv            1.0     46.0    17.0  ...     1.0     7.0     NaN   \n",
       "wagon         36.0     16.0   370.0  ...   215.0  1763.0     9.0   \n",
       "\n",
       "                                                                             \n",
       "                                                                             \n",
       "Brand       sonstige_autos subaru suzuki  toyota trabant volkswagen   volvo  \n",
       "VehicleType                                                                  \n",
       "bus                  140.0   16.0   27.0   341.0     NaN     5936.0     NaN  \n",
       "convertible          161.0    NaN   32.0    47.0    30.0     2029.0    35.0  \n",
       "coupe                 79.0    3.0    4.0   178.0     2.0      740.0    50.0  \n",
       "other                167.0    5.0   10.0    15.0     4.0      586.0     NaN  \n",
       "sedan                257.0   99.0  131.0   735.0   170.0    14847.0   487.0  \n",
       "small                166.0   99.0  810.0  1475.0    49.0    15294.0     6.0  \n",
       "suv                  174.0   42.0  557.0   252.0     NaN      247.0    30.0  \n",
       "wagon                104.0  241.0   84.0   449.0    66.0     9704.0  1655.0  \n",
       "\n",
       "[8 rows x 40 columns]"
      ]
     },
     "metadata": {},
     "output_type": "display_data"
    },
    {
     "data": {
      "text/plain": [
       "sedan          777\n",
       "wagon          388\n",
       "small          185\n",
       "coupe          180\n",
       "convertible    111\n",
       "other           10\n",
       "Name: VehicleType, dtype: int64"
      ]
     },
     "execution_count": 16,
     "metadata": {},
     "output_type": "execute_result"
    }
   ],
   "source": [
    "#Выполним замену NaN в соотвествии с популярным типом кузова для каждого бренда.\n",
    "\n",
    "vehicle_type_pivot_table = filtred_autos_data.pivot_table(index=['VehicleType'], \n",
    "                                                          columns=['Brand'],\n",
    "                                                          values=['Price'],\n",
    "                                                          aggfunc=['count'])\n",
    "display(vehicle_type_pivot_table)\n",
    "filtred_autos_data[filtred_autos_data['Brand'] == 'alfa_romeo']['VehicleType'].value_counts()"
   ]
  },
  {
   "cell_type": "code",
   "execution_count": 17,
   "metadata": {},
   "outputs": [
    {
     "data": {
      "text/html": [
       "<div>\n",
       "<style scoped>\n",
       "    .dataframe tbody tr th:only-of-type {\n",
       "        vertical-align: middle;\n",
       "    }\n",
       "\n",
       "    .dataframe tbody tr th {\n",
       "        vertical-align: top;\n",
       "    }\n",
       "\n",
       "    .dataframe thead th {\n",
       "        text-align: right;\n",
       "    }\n",
       "</style>\n",
       "<table border=\"1\" class=\"dataframe\">\n",
       "  <thead>\n",
       "    <tr style=\"text-align: right;\">\n",
       "      <th>Brand</th>\n",
       "      <th>alfa_romeo</th>\n",
       "      <th>audi</th>\n",
       "      <th>bmw</th>\n",
       "      <th>chevrolet</th>\n",
       "      <th>chrysler</th>\n",
       "      <th>citroen</th>\n",
       "      <th>dacia</th>\n",
       "      <th>daewoo</th>\n",
       "      <th>daihatsu</th>\n",
       "      <th>fiat</th>\n",
       "      <th>...</th>\n",
       "      <th>seat</th>\n",
       "      <th>skoda</th>\n",
       "      <th>smart</th>\n",
       "      <th>sonstige_autos</th>\n",
       "      <th>subaru</th>\n",
       "      <th>suzuki</th>\n",
       "      <th>toyota</th>\n",
       "      <th>trabant</th>\n",
       "      <th>volkswagen</th>\n",
       "      <th>volvo</th>\n",
       "    </tr>\n",
       "    <tr>\n",
       "      <th>VehicleType</th>\n",
       "      <th></th>\n",
       "      <th></th>\n",
       "      <th></th>\n",
       "      <th></th>\n",
       "      <th></th>\n",
       "      <th></th>\n",
       "      <th></th>\n",
       "      <th></th>\n",
       "      <th></th>\n",
       "      <th></th>\n",
       "      <th></th>\n",
       "      <th></th>\n",
       "      <th></th>\n",
       "      <th></th>\n",
       "      <th></th>\n",
       "      <th></th>\n",
       "      <th></th>\n",
       "      <th></th>\n",
       "      <th></th>\n",
       "      <th></th>\n",
       "      <th></th>\n",
       "    </tr>\n",
       "  </thead>\n",
       "  <tbody>\n",
       "    <tr>\n",
       "      <th>bus</th>\n",
       "      <td>NaN</td>\n",
       "      <td>10.0</td>\n",
       "      <td>4.0</td>\n",
       "      <td>98.0</td>\n",
       "      <td>370.0</td>\n",
       "      <td>1040.0</td>\n",
       "      <td>15.0</td>\n",
       "      <td>26.0</td>\n",
       "      <td>31.0</td>\n",
       "      <td>707.0</td>\n",
       "      <td>...</td>\n",
       "      <td>485.0</td>\n",
       "      <td>158.0</td>\n",
       "      <td>1.0</td>\n",
       "      <td>140.0</td>\n",
       "      <td>16.0</td>\n",
       "      <td>27.0</td>\n",
       "      <td>341.0</td>\n",
       "      <td>NaN</td>\n",
       "      <td>5936.0</td>\n",
       "      <td>NaN</td>\n",
       "    </tr>\n",
       "    <tr>\n",
       "      <th>convertible</th>\n",
       "      <td>111.0</td>\n",
       "      <td>667.0</td>\n",
       "      <td>1636.0</td>\n",
       "      <td>6.0</td>\n",
       "      <td>195.0</td>\n",
       "      <td>96.0</td>\n",
       "      <td>NaN</td>\n",
       "      <td>1.0</td>\n",
       "      <td>8.0</td>\n",
       "      <td>257.0</td>\n",
       "      <td>...</td>\n",
       "      <td>NaN</td>\n",
       "      <td>3.0</td>\n",
       "      <td>988.0</td>\n",
       "      <td>161.0</td>\n",
       "      <td>NaN</td>\n",
       "      <td>32.0</td>\n",
       "      <td>47.0</td>\n",
       "      <td>30.0</td>\n",
       "      <td>2029.0</td>\n",
       "      <td>35.0</td>\n",
       "    </tr>\n",
       "    <tr>\n",
       "      <th>coupe</th>\n",
       "      <td>180.0</td>\n",
       "      <td>651.0</td>\n",
       "      <td>2570.0</td>\n",
       "      <td>45.0</td>\n",
       "      <td>17.0</td>\n",
       "      <td>137.0</td>\n",
       "      <td>NaN</td>\n",
       "      <td>2.0</td>\n",
       "      <td>NaN</td>\n",
       "      <td>151.0</td>\n",
       "      <td>...</td>\n",
       "      <td>64.0</td>\n",
       "      <td>6.0</td>\n",
       "      <td>318.0</td>\n",
       "      <td>79.0</td>\n",
       "      <td>3.0</td>\n",
       "      <td>4.0</td>\n",
       "      <td>178.0</td>\n",
       "      <td>2.0</td>\n",
       "      <td>740.0</td>\n",
       "      <td>50.0</td>\n",
       "    </tr>\n",
       "    <tr>\n",
       "      <th>other</th>\n",
       "      <td>10.0</td>\n",
       "      <td>83.0</td>\n",
       "      <td>187.0</td>\n",
       "      <td>18.0</td>\n",
       "      <td>6.0</td>\n",
       "      <td>95.0</td>\n",
       "      <td>5.0</td>\n",
       "      <td>5.0</td>\n",
       "      <td>9.0</td>\n",
       "      <td>151.0</td>\n",
       "      <td>...</td>\n",
       "      <td>47.0</td>\n",
       "      <td>21.0</td>\n",
       "      <td>8.0</td>\n",
       "      <td>167.0</td>\n",
       "      <td>5.0</td>\n",
       "      <td>10.0</td>\n",
       "      <td>15.0</td>\n",
       "      <td>4.0</td>\n",
       "      <td>586.0</td>\n",
       "      <td>NaN</td>\n",
       "    </tr>\n",
       "    <tr>\n",
       "      <th>sedan</th>\n",
       "      <td>777.0</td>\n",
       "      <td>7828.0</td>\n",
       "      <td>11309.0</td>\n",
       "      <td>146.0</td>\n",
       "      <td>205.0</td>\n",
       "      <td>538.0</td>\n",
       "      <td>97.0</td>\n",
       "      <td>87.0</td>\n",
       "      <td>35.0</td>\n",
       "      <td>796.0</td>\n",
       "      <td>...</td>\n",
       "      <td>1220.0</td>\n",
       "      <td>694.0</td>\n",
       "      <td>26.0</td>\n",
       "      <td>257.0</td>\n",
       "      <td>99.0</td>\n",
       "      <td>131.0</td>\n",
       "      <td>735.0</td>\n",
       "      <td>170.0</td>\n",
       "      <td>14847.0</td>\n",
       "      <td>487.0</td>\n",
       "    </tr>\n",
       "    <tr>\n",
       "      <th>small</th>\n",
       "      <td>185.0</td>\n",
       "      <td>933.0</td>\n",
       "      <td>324.0</td>\n",
       "      <td>574.0</td>\n",
       "      <td>12.0</td>\n",
       "      <td>1372.0</td>\n",
       "      <td>178.0</td>\n",
       "      <td>247.0</td>\n",
       "      <td>439.0</td>\n",
       "      <td>4520.0</td>\n",
       "      <td>...</td>\n",
       "      <td>2621.0</td>\n",
       "      <td>930.0</td>\n",
       "      <td>3099.0</td>\n",
       "      <td>166.0</td>\n",
       "      <td>99.0</td>\n",
       "      <td>810.0</td>\n",
       "      <td>1475.0</td>\n",
       "      <td>49.0</td>\n",
       "      <td>15294.0</td>\n",
       "      <td>6.0</td>\n",
       "    </tr>\n",
       "    <tr>\n",
       "      <th>suv</th>\n",
       "      <td>NaN</td>\n",
       "      <td>18.0</td>\n",
       "      <td>189.0</td>\n",
       "      <td>146.0</td>\n",
       "      <td>12.0</td>\n",
       "      <td>8.0</td>\n",
       "      <td>46.0</td>\n",
       "      <td>1.0</td>\n",
       "      <td>46.0</td>\n",
       "      <td>17.0</td>\n",
       "      <td>...</td>\n",
       "      <td>1.0</td>\n",
       "      <td>7.0</td>\n",
       "      <td>NaN</td>\n",
       "      <td>174.0</td>\n",
       "      <td>42.0</td>\n",
       "      <td>557.0</td>\n",
       "      <td>252.0</td>\n",
       "      <td>NaN</td>\n",
       "      <td>247.0</td>\n",
       "      <td>30.0</td>\n",
       "    </tr>\n",
       "    <tr>\n",
       "      <th>wagon</th>\n",
       "      <td>388.0</td>\n",
       "      <td>6422.0</td>\n",
       "      <td>4997.0</td>\n",
       "      <td>83.0</td>\n",
       "      <td>183.0</td>\n",
       "      <td>497.0</td>\n",
       "      <td>227.0</td>\n",
       "      <td>36.0</td>\n",
       "      <td>16.0</td>\n",
       "      <td>370.0</td>\n",
       "      <td>...</td>\n",
       "      <td>215.0</td>\n",
       "      <td>1763.0</td>\n",
       "      <td>9.0</td>\n",
       "      <td>104.0</td>\n",
       "      <td>241.0</td>\n",
       "      <td>84.0</td>\n",
       "      <td>449.0</td>\n",
       "      <td>66.0</td>\n",
       "      <td>9704.0</td>\n",
       "      <td>1655.0</td>\n",
       "    </tr>\n",
       "  </tbody>\n",
       "</table>\n",
       "<p>8 rows × 40 columns</p>\n",
       "</div>"
      ],
      "text/plain": [
       "Brand        alfa_romeo    audi      bmw  chevrolet  chrysler  citroen  dacia  \\\n",
       "VehicleType                                                                     \n",
       "bus                 NaN    10.0      4.0       98.0     370.0   1040.0   15.0   \n",
       "convertible       111.0   667.0   1636.0        6.0     195.0     96.0    NaN   \n",
       "coupe             180.0   651.0   2570.0       45.0      17.0    137.0    NaN   \n",
       "other              10.0    83.0    187.0       18.0       6.0     95.0    5.0   \n",
       "sedan             777.0  7828.0  11309.0      146.0     205.0    538.0   97.0   \n",
       "small             185.0   933.0    324.0      574.0      12.0   1372.0  178.0   \n",
       "suv                 NaN    18.0    189.0      146.0      12.0      8.0   46.0   \n",
       "wagon             388.0  6422.0   4997.0       83.0     183.0    497.0  227.0   \n",
       "\n",
       "Brand        daewoo  daihatsu    fiat  ...    seat   skoda   smart  \\\n",
       "VehicleType                            ...                           \n",
       "bus            26.0      31.0   707.0  ...   485.0   158.0     1.0   \n",
       "convertible     1.0       8.0   257.0  ...     NaN     3.0   988.0   \n",
       "coupe           2.0       NaN   151.0  ...    64.0     6.0   318.0   \n",
       "other           5.0       9.0   151.0  ...    47.0    21.0     8.0   \n",
       "sedan          87.0      35.0   796.0  ...  1220.0   694.0    26.0   \n",
       "small         247.0     439.0  4520.0  ...  2621.0   930.0  3099.0   \n",
       "suv             1.0      46.0    17.0  ...     1.0     7.0     NaN   \n",
       "wagon          36.0      16.0   370.0  ...   215.0  1763.0     9.0   \n",
       "\n",
       "Brand        sonstige_autos  subaru  suzuki  toyota  trabant  volkswagen  \\\n",
       "VehicleType                                                                \n",
       "bus                   140.0    16.0    27.0   341.0      NaN      5936.0   \n",
       "convertible           161.0     NaN    32.0    47.0     30.0      2029.0   \n",
       "coupe                  79.0     3.0     4.0   178.0      2.0       740.0   \n",
       "other                 167.0     5.0    10.0    15.0      4.0       586.0   \n",
       "sedan                 257.0    99.0   131.0   735.0    170.0     14847.0   \n",
       "small                 166.0    99.0   810.0  1475.0     49.0     15294.0   \n",
       "suv                   174.0    42.0   557.0   252.0      NaN       247.0   \n",
       "wagon                 104.0   241.0    84.0   449.0     66.0      9704.0   \n",
       "\n",
       "Brand         volvo  \n",
       "VehicleType          \n",
       "bus             NaN  \n",
       "convertible    35.0  \n",
       "coupe          50.0  \n",
       "other           NaN  \n",
       "sedan         487.0  \n",
       "small           6.0  \n",
       "suv            30.0  \n",
       "wagon        1655.0  \n",
       "\n",
       "[8 rows x 40 columns]"
      ]
     },
     "execution_count": 17,
     "metadata": {},
     "output_type": "execute_result"
    }
   ],
   "source": [
    "vehicle_type_pivot_table = vehicle_type_pivot_table['count']['Price']\n",
    "vehicle_type_pivot_table"
   ]
  },
  {
   "cell_type": "code",
   "execution_count": 18,
   "metadata": {},
   "outputs": [
    {
     "name": "stdout",
     "output_type": "stream",
     "text": [
      "<class 'pandas.core.frame.DataFrame'>\n",
      "Int64Index: 247665 entries, 0 to 354368\n",
      "Data columns (total 10 columns):\n",
      " #   Column            Non-Null Count   Dtype \n",
      "---  ------            --------------   ----- \n",
      " 0   VehicleType       233142 non-null  object\n",
      " 1   Gearbox           247665 non-null  object\n",
      " 2   Power             247665 non-null  int64 \n",
      " 3   Kilometer         247665 non-null  int64 \n",
      " 4   FuelType          229443 non-null  object\n",
      " 5   Brand             247665 non-null  object\n",
      " 6   Repaired          200240 non-null  object\n",
      " 7   RegistrationYear  247665 non-null  int64 \n",
      " 8   Model             247665 non-null  object\n",
      " 9   Price             247665 non-null  int64 \n",
      "dtypes: int64(4), object(6)\n",
      "memory usage: 20.8+ MB\n"
     ]
    }
   ],
   "source": [
    "#Заполним словарь брендов и популярных типов машин и заполним пропуски по столбцу VehicleType.\n",
    "filtred_autos_data.info()"
   ]
  },
  {
   "cell_type": "code",
   "execution_count": 19,
   "metadata": {},
   "outputs": [
    {
     "data": {
      "text/plain": [
       "0"
      ]
     },
     "metadata": {},
     "output_type": "display_data"
    },
    {
     "data": {
      "text/plain": [
       "small          76545\n",
       "sedan          71693\n",
       "wagon          47556\n",
       "bus            21144\n",
       "convertible    12662\n",
       "coupe          10330\n",
       "suv             5285\n",
       "other           2450\n",
       "Name: VehicleType, dtype: int64"
      ]
     },
     "execution_count": 19,
     "metadata": {},
     "output_type": "execute_result"
    }
   ],
   "source": [
    "filtred_autos_data.fillna({'VehicleType':0},inplace=True)\n",
    "\n",
    "def fillna_by_brand(row, row_number, vehicle_type_pivot_table):\n",
    "    brand = row[5]\n",
    "    fill_value = row[row_number]\n",
    "    if row[row_number] == 0:\n",
    "        fill_value = vehicle_type_pivot_table[brand].idxmax()\n",
    "    return fill_value\n",
    "\n",
    "filtred_autos_data['VehicleType'] = filtred_autos_data.apply(\n",
    "                                fillna_by_brand, \n",
    "                                args=[0, vehicle_type_pivot_table],\n",
    "                                axis=1)\n",
    "display(filtred_autos_data['VehicleType'].isna().sum())\n",
    "filtred_autos_data['VehicleType'].value_counts()"
   ]
  },
  {
   "cell_type": "code",
   "execution_count": 20,
   "metadata": {},
   "outputs": [
    {
     "data": {
      "text/html": [
       "<div>\n",
       "<style scoped>\n",
       "    .dataframe tbody tr th:only-of-type {\n",
       "        vertical-align: middle;\n",
       "    }\n",
       "\n",
       "    .dataframe tbody tr th {\n",
       "        vertical-align: top;\n",
       "    }\n",
       "\n",
       "    .dataframe thead th {\n",
       "        text-align: right;\n",
       "    }\n",
       "</style>\n",
       "<table border=\"1\" class=\"dataframe\">\n",
       "  <thead>\n",
       "    <tr style=\"text-align: right;\">\n",
       "      <th>Brand</th>\n",
       "      <th>alfa_romeo</th>\n",
       "      <th>audi</th>\n",
       "      <th>bmw</th>\n",
       "      <th>chevrolet</th>\n",
       "      <th>chrysler</th>\n",
       "      <th>citroen</th>\n",
       "      <th>dacia</th>\n",
       "      <th>daewoo</th>\n",
       "      <th>daihatsu</th>\n",
       "      <th>fiat</th>\n",
       "      <th>...</th>\n",
       "      <th>seat</th>\n",
       "      <th>skoda</th>\n",
       "      <th>smart</th>\n",
       "      <th>sonstige_autos</th>\n",
       "      <th>subaru</th>\n",
       "      <th>suzuki</th>\n",
       "      <th>toyota</th>\n",
       "      <th>trabant</th>\n",
       "      <th>volkswagen</th>\n",
       "      <th>volvo</th>\n",
       "    </tr>\n",
       "    <tr>\n",
       "      <th>FuelType</th>\n",
       "      <th></th>\n",
       "      <th></th>\n",
       "      <th></th>\n",
       "      <th></th>\n",
       "      <th></th>\n",
       "      <th></th>\n",
       "      <th></th>\n",
       "      <th></th>\n",
       "      <th></th>\n",
       "      <th></th>\n",
       "      <th></th>\n",
       "      <th></th>\n",
       "      <th></th>\n",
       "      <th></th>\n",
       "      <th></th>\n",
       "      <th></th>\n",
       "      <th></th>\n",
       "      <th></th>\n",
       "      <th></th>\n",
       "      <th></th>\n",
       "      <th></th>\n",
       "    </tr>\n",
       "  </thead>\n",
       "  <tbody>\n",
       "    <tr>\n",
       "      <th>cng</th>\n",
       "      <td>NaN</td>\n",
       "      <td>1.0</td>\n",
       "      <td>6.0</td>\n",
       "      <td>4.0</td>\n",
       "      <td>NaN</td>\n",
       "      <td>7.0</td>\n",
       "      <td>2.0</td>\n",
       "      <td>NaN</td>\n",
       "      <td>NaN</td>\n",
       "      <td>63.0</td>\n",
       "      <td>...</td>\n",
       "      <td>NaN</td>\n",
       "      <td>4.0</td>\n",
       "      <td>2.0</td>\n",
       "      <td>NaN</td>\n",
       "      <td>2.0</td>\n",
       "      <td>NaN</td>\n",
       "      <td>NaN</td>\n",
       "      <td>NaN</td>\n",
       "      <td>125.0</td>\n",
       "      <td>14.0</td>\n",
       "    </tr>\n",
       "    <tr>\n",
       "      <th>electric</th>\n",
       "      <td>NaN</td>\n",
       "      <td>1.0</td>\n",
       "      <td>3.0</td>\n",
       "      <td>NaN</td>\n",
       "      <td>NaN</td>\n",
       "      <td>NaN</td>\n",
       "      <td>NaN</td>\n",
       "      <td>NaN</td>\n",
       "      <td>1.0</td>\n",
       "      <td>2.0</td>\n",
       "      <td>...</td>\n",
       "      <td>NaN</td>\n",
       "      <td>NaN</td>\n",
       "      <td>1.0</td>\n",
       "      <td>16.0</td>\n",
       "      <td>NaN</td>\n",
       "      <td>NaN</td>\n",
       "      <td>NaN</td>\n",
       "      <td>NaN</td>\n",
       "      <td>1.0</td>\n",
       "      <td>NaN</td>\n",
       "    </tr>\n",
       "    <tr>\n",
       "      <th>gasoline</th>\n",
       "      <td>480.0</td>\n",
       "      <td>6502.0</td>\n",
       "      <td>5073.0</td>\n",
       "      <td>66.0</td>\n",
       "      <td>264.0</td>\n",
       "      <td>1181.0</td>\n",
       "      <td>98.0</td>\n",
       "      <td>1.0</td>\n",
       "      <td>4.0</td>\n",
       "      <td>1243.0</td>\n",
       "      <td>...</td>\n",
       "      <td>1229.0</td>\n",
       "      <td>1145.0</td>\n",
       "      <td>807.0</td>\n",
       "      <td>297.0</td>\n",
       "      <td>10.0</td>\n",
       "      <td>145.0</td>\n",
       "      <td>679.0</td>\n",
       "      <td>1.0</td>\n",
       "      <td>16655.0</td>\n",
       "      <td>582.0</td>\n",
       "    </tr>\n",
       "    <tr>\n",
       "      <th>hybrid</th>\n",
       "      <td>NaN</td>\n",
       "      <td>NaN</td>\n",
       "      <td>NaN</td>\n",
       "      <td>NaN</td>\n",
       "      <td>NaN</td>\n",
       "      <td>NaN</td>\n",
       "      <td>NaN</td>\n",
       "      <td>NaN</td>\n",
       "      <td>NaN</td>\n",
       "      <td>3.0</td>\n",
       "      <td>...</td>\n",
       "      <td>1.0</td>\n",
       "      <td>NaN</td>\n",
       "      <td>1.0</td>\n",
       "      <td>NaN</td>\n",
       "      <td>NaN</td>\n",
       "      <td>NaN</td>\n",
       "      <td>35.0</td>\n",
       "      <td>NaN</td>\n",
       "      <td>5.0</td>\n",
       "      <td>NaN</td>\n",
       "    </tr>\n",
       "    <tr>\n",
       "      <th>lpg</th>\n",
       "      <td>30.0</td>\n",
       "      <td>356.0</td>\n",
       "      <td>606.0</td>\n",
       "      <td>139.0</td>\n",
       "      <td>77.0</td>\n",
       "      <td>63.0</td>\n",
       "      <td>35.0</td>\n",
       "      <td>23.0</td>\n",
       "      <td>5.0</td>\n",
       "      <td>64.0</td>\n",
       "      <td>...</td>\n",
       "      <td>56.0</td>\n",
       "      <td>48.0</td>\n",
       "      <td>3.0</td>\n",
       "      <td>58.0</td>\n",
       "      <td>25.0</td>\n",
       "      <td>18.0</td>\n",
       "      <td>18.0</td>\n",
       "      <td>NaN</td>\n",
       "      <td>454.0</td>\n",
       "      <td>100.0</td>\n",
       "    </tr>\n",
       "    <tr>\n",
       "      <th>other</th>\n",
       "      <td>NaN</td>\n",
       "      <td>2.0</td>\n",
       "      <td>5.0</td>\n",
       "      <td>NaN</td>\n",
       "      <td>NaN</td>\n",
       "      <td>2.0</td>\n",
       "      <td>NaN</td>\n",
       "      <td>1.0</td>\n",
       "      <td>NaN</td>\n",
       "      <td>3.0</td>\n",
       "      <td>...</td>\n",
       "      <td>NaN</td>\n",
       "      <td>NaN</td>\n",
       "      <td>1.0</td>\n",
       "      <td>16.0</td>\n",
       "      <td>NaN</td>\n",
       "      <td>1.0</td>\n",
       "      <td>NaN</td>\n",
       "      <td>31.0</td>\n",
       "      <td>14.0</td>\n",
       "      <td>2.0</td>\n",
       "    </tr>\n",
       "    <tr>\n",
       "      <th>petrol</th>\n",
       "      <td>1124.0</td>\n",
       "      <td>9465.0</td>\n",
       "      <td>14948.0</td>\n",
       "      <td>884.0</td>\n",
       "      <td>642.0</td>\n",
       "      <td>2499.0</td>\n",
       "      <td>424.0</td>\n",
       "      <td>374.0</td>\n",
       "      <td>564.0</td>\n",
       "      <td>5496.0</td>\n",
       "      <td>...</td>\n",
       "      <td>3333.0</td>\n",
       "      <td>2333.0</td>\n",
       "      <td>3604.0</td>\n",
       "      <td>784.0</td>\n",
       "      <td>453.0</td>\n",
       "      <td>1457.0</td>\n",
       "      <td>2736.0</td>\n",
       "      <td>242.0</td>\n",
       "      <td>31839.0</td>\n",
       "      <td>1507.0</td>\n",
       "    </tr>\n",
       "  </tbody>\n",
       "</table>\n",
       "<p>7 rows × 40 columns</p>\n",
       "</div>"
      ],
      "text/plain": [
       "Brand     alfa_romeo    audi      bmw  chevrolet  chrysler  citroen  dacia  \\\n",
       "FuelType                                                                     \n",
       "cng              NaN     1.0      6.0        4.0       NaN      7.0    2.0   \n",
       "electric         NaN     1.0      3.0        NaN       NaN      NaN    NaN   \n",
       "gasoline       480.0  6502.0   5073.0       66.0     264.0   1181.0   98.0   \n",
       "hybrid           NaN     NaN      NaN        NaN       NaN      NaN    NaN   \n",
       "lpg             30.0   356.0    606.0      139.0      77.0     63.0   35.0   \n",
       "other            NaN     2.0      5.0        NaN       NaN      2.0    NaN   \n",
       "petrol        1124.0  9465.0  14948.0      884.0     642.0   2499.0  424.0   \n",
       "\n",
       "Brand     daewoo  daihatsu    fiat  ...    seat   skoda   smart  \\\n",
       "FuelType                            ...                           \n",
       "cng          NaN       NaN    63.0  ...     NaN     4.0     2.0   \n",
       "electric     NaN       1.0     2.0  ...     NaN     NaN     1.0   \n",
       "gasoline     1.0       4.0  1243.0  ...  1229.0  1145.0   807.0   \n",
       "hybrid       NaN       NaN     3.0  ...     1.0     NaN     1.0   \n",
       "lpg         23.0       5.0    64.0  ...    56.0    48.0     3.0   \n",
       "other        1.0       NaN     3.0  ...     NaN     NaN     1.0   \n",
       "petrol     374.0     564.0  5496.0  ...  3333.0  2333.0  3604.0   \n",
       "\n",
       "Brand     sonstige_autos  subaru  suzuki  toyota  trabant  volkswagen   volvo  \n",
       "FuelType                                                                       \n",
       "cng                  NaN     2.0     NaN     NaN      NaN       125.0    14.0  \n",
       "electric            16.0     NaN     NaN     NaN      NaN         1.0     NaN  \n",
       "gasoline           297.0    10.0   145.0   679.0      1.0     16655.0   582.0  \n",
       "hybrid               NaN     NaN     NaN    35.0      NaN         5.0     NaN  \n",
       "lpg                 58.0    25.0    18.0    18.0      NaN       454.0   100.0  \n",
       "other               16.0     NaN     1.0     NaN     31.0        14.0     2.0  \n",
       "petrol             784.0   453.0  1457.0  2736.0    242.0     31839.0  1507.0  \n",
       "\n",
       "[7 rows x 40 columns]"
      ]
     },
     "metadata": {},
     "output_type": "display_data"
    },
    {
     "data": {
      "text/plain": [
       "0"
      ]
     },
     "metadata": {},
     "output_type": "display_data"
    },
    {
     "data": {
      "text/plain": [
       "petrol      162858\n",
       "gasoline     61661\n",
       "small        12152\n",
       "sedan         5523\n",
       "lpg           4241\n",
       "cng            431\n",
       "wagon          390\n",
       "other          115\n",
       "hybrid          83\n",
       "bus             74\n",
       "suv             62\n",
       "electric        54\n",
       "coupe           21\n",
       "Name: FuelType, dtype: int64"
      ]
     },
     "execution_count": 20,
     "metadata": {},
     "output_type": "execute_result"
    }
   ],
   "source": [
    "#Заполним пропуски в FuelType по похожему принципу.\n",
    "filtred_autos_data['FuelType'].value_counts()\n",
    "fuel_type_pivot_table = filtred_autos_data.pivot_table(index=['FuelType'], \n",
    "                                                          columns=['Brand'],\n",
    "                                                          values=['Price'],\n",
    "                                                          aggfunc=['count'])\n",
    "fuel_type_pivot_table = fuel_type_pivot_table['count']['Price']\n",
    "display(fuel_type_pivot_table)\n",
    "\n",
    "filtred_autos_data.fillna({'FuelType':0},inplace=True)\n",
    "\n",
    "filtred_autos_data['FuelType'] = filtred_autos_data.apply(\n",
    "                                fillna_by_brand, \n",
    "                                args=[4, vehicle_type_pivot_table],\n",
    "                                axis=1)\n",
    "display(filtred_autos_data['FuelType'].isna().sum())\n",
    "filtred_autos_data['FuelType'].value_counts()"
   ]
  },
  {
   "cell_type": "code",
   "execution_count": 21,
   "metadata": {},
   "outputs": [
    {
     "data": {
      "text/plain": [
       "VehicleType         0.000000\n",
       "Gearbox             0.000000\n",
       "Power               0.000000\n",
       "Kilometer           0.000000\n",
       "FuelType            0.000000\n",
       "Brand               0.000000\n",
       "Repaired            0.191489\n",
       "RegistrationYear    0.000000\n",
       "Model               0.000000\n",
       "Price               0.000000\n",
       "dtype: float64"
      ]
     },
     "execution_count": 21,
     "metadata": {},
     "output_type": "execute_result"
    }
   ],
   "source": [
    "filtred_autos_data.isna().mean()"
   ]
  },
  {
   "cell_type": "code",
   "execution_count": 22,
   "metadata": {},
   "outputs": [],
   "source": [
    "filtred_autos_data.fillna('Repaired', inplace=True)"
   ]
  },
  {
   "cell_type": "code",
   "execution_count": 23,
   "metadata": {},
   "outputs": [
    {
     "data": {
      "text/plain": [
       "VehicleType         0.0\n",
       "Gearbox             0.0\n",
       "Power               0.0\n",
       "Kilometer           0.0\n",
       "FuelType            0.0\n",
       "Brand               0.0\n",
       "Repaired            0.0\n",
       "RegistrationYear    0.0\n",
       "Model               0.0\n",
       "Price               0.0\n",
       "dtype: float64"
      ]
     },
     "execution_count": 23,
     "metadata": {},
     "output_type": "execute_result"
    }
   ],
   "source": [
    "filtred_autos_data.isna().mean()"
   ]
  },
  {
   "cell_type": "code",
   "execution_count": 24,
   "metadata": {},
   "outputs": [
    {
     "data": {
      "image/png": "[encoded data removed]",
      "text/plain": [
       "<Figure size 1200x900 with 1 Axes>"
      ]
     },
     "metadata": {},
     "output_type": "display_data"
    }
   ],
   "source": [
    "#Пропуски убраны. Осталось заняться некорректнымми значениями в столбце Power.\n",
    "filtred_autos_data['Power'].hist(bins=100, figsize=(12,9))\n",
    "filtred_autos_data['Power'].describe()\n",
    "plt.title('Распределение автомобилей по мощности двигателя')\n",
    "plt.xlabel('Мощность, л.с.')\n",
    "plt.ylabel('Количество автомобилей, шт.');"
   ]
  },
  {
   "cell_type": "code",
   "execution_count": 25,
   "metadata": {},
   "outputs": [
    {
     "data": {
      "image/png": "[encoded data removed]",
      "text/plain": [
       "<Figure size 1200x900 with 1 Axes>"
      ]
     },
     "metadata": {},
     "output_type": "display_data"
    }
   ],
   "source": [
    "#Раброс очень сильный, усечем выбросы больше 1000 л.с.\n",
    "filtred_autos_data = filtred_autos_data.query('Power < 1001')\n",
    "filtred_autos_data['Power'].hist(bins=100, figsize=(12,9))\n",
    "filtred_autos_data['Power'].describe()\n",
    "plt.title('Распределение автомобилей по мощности двигателя до 1000 л.с.')\n",
    "plt.xlabel('Мощность, л.с.')\n",
    "plt.ylabel('Количество автомобилей, шт.');"
   ]
  },
  {
   "cell_type": "code",
   "execution_count": 26,
   "metadata": {},
   "outputs": [
    {
     "data": {
      "image/png": "[encoded data removed]",
      "text/plain": [
       "<Figure size 1200x900 with 1 Axes>"
      ]
     },
     "metadata": {},
     "output_type": "display_data"
    }
   ],
   "source": [
    "#Из графика видно, что многие машины имеют мощность 0. \n",
    "#Эти строки не подлежат восстановлению и будут удалены. \n",
    "#По правому отсечению выберем границу в 400 л.с.\n",
    "filtred_autos_data = filtred_autos_data.query('0 < Power < 401')\n",
    "filtred_autos_data['Power'].hist(bins=100, figsize=(12,9))\n",
    "filtred_autos_data['Power'].describe()\n",
    "plt.title('Распределение автомобилей по мощности двигателя до 400 л.с.')\n",
    "plt.xlabel('Мощность, л.с.')\n",
    "plt.ylabel('Количество автомобилей, шт.');"
   ]
  },
  {
   "cell_type": "code",
   "execution_count": 27,
   "metadata": {},
   "outputs": [
    {
     "data": {
      "image/png": "[encoded data removed]",
      "text/plain": [
       "<Figure size 1200x900 with 1 Axes>"
      ]
     },
     "metadata": {},
     "output_type": "display_data"
    }
   ],
   "source": [
    "#Следующими границами выберем 25 и 350 л.с.\n",
    "good_autos_data = filtred_autos_data.query('24 < Power < 351')\n",
    "good_autos_data['Power'].hist(bins=100, figsize=(12,9))\n",
    "good_autos_data['Power'].describe()\n",
    "plt.title('Распределение автомобилей по мощности двигателя от 35 л.с. до 400 л.с.')\n",
    "plt.xlabel('Мощность, л.с.')\n",
    "plt.ylabel('Количество автомобилей, шт.');"
   ]
  },
  {
   "cell_type": "code",
   "execution_count": 28,
   "metadata": {
    "scrolled": true
   },
   "outputs": [
    {
     "name": "stdout",
     "output_type": "stream",
     "text": [
      "<class 'pandas.core.frame.DataFrame'>\n",
      "Int64Index: 221412 entries, 3 to 354368\n",
      "Data columns (total 10 columns):\n",
      " #   Column            Non-Null Count   Dtype \n",
      "---  ------            --------------   ----- \n",
      " 0   VehicleType       221412 non-null  object\n",
      " 1   Gearbox           221412 non-null  object\n",
      " 2   Power             221412 non-null  int64 \n",
      " 3   Kilometer         221412 non-null  int64 \n",
      " 4   FuelType          221412 non-null  object\n",
      " 5   Brand             221412 non-null  object\n",
      " 6   Repaired          221412 non-null  object\n",
      " 7   RegistrationYear  221412 non-null  int64 \n",
      " 8   Model             221412 non-null  object\n",
      " 9   Price             221412 non-null  int64 \n",
      "dtypes: int64(4), object(6)\n",
      "memory usage: 18.6+ MB\n"
     ]
    }
   ],
   "source": [
    "good_autos_data.info()"
   ]
  },
  {
   "cell_type": "markdown",
   "metadata": {},
   "source": [
    "Проведем замену столбцов ***Gearbox*** и ***Repaired*** на *булев тип.*\n",
    "* ***IsManualGearbox. 1(manual)*** - означает механическую коробку передач. 0(auto) - автоматическую.\n",
    "* ***IsNotRepaired. 1(yes)*** - означает машину без ремонта. 0(no) - с ремонтом."
   ]
  },
  {
   "cell_type": "markdown",
   "metadata": {},
   "source": [
    "**Вывод по шагу 1.**\n",
    "\n",
    "1. Была изучена таблица данных.\n",
    "2. Выведены аномальные и пропущенные значения.\n",
    "3. Отобраны небходимые столбцы для обучения модели.\n",
    "4. Заполнены пропуски в столбцах и удалены некорректные значения."
   ]
  },
  {
   "cell_type": "markdown",
   "metadata": {},
   "source": [
    "## Обучение моделей"
   ]
  },
  {
   "cell_type": "code",
   "execution_count": 29,
   "metadata": {
    "scrolled": true
   },
   "outputs": [
    {
     "data": {
      "text/html": [
       "<div>\n",
       "<style scoped>\n",
       "    .dataframe tbody tr th:only-of-type {\n",
       "        vertical-align: middle;\n",
       "    }\n",
       "\n",
       "    .dataframe tbody tr th {\n",
       "        vertical-align: top;\n",
       "    }\n",
       "\n",
       "    .dataframe thead th {\n",
       "        text-align: right;\n",
       "    }\n",
       "</style>\n",
       "<table border=\"1\" class=\"dataframe\">\n",
       "  <thead>\n",
       "    <tr style=\"text-align: right;\">\n",
       "      <th></th>\n",
       "      <th>VehicleType</th>\n",
       "      <th>Gearbox</th>\n",
       "      <th>Power</th>\n",
       "      <th>Kilometer</th>\n",
       "      <th>FuelType</th>\n",
       "      <th>Brand</th>\n",
       "      <th>Repaired</th>\n",
       "      <th>RegistrationYear</th>\n",
       "      <th>Model</th>\n",
       "    </tr>\n",
       "  </thead>\n",
       "  <tbody>\n",
       "    <tr>\n",
       "      <th>0</th>\n",
       "      <td>wagon</td>\n",
       "      <td>manual</td>\n",
       "      <td>131</td>\n",
       "      <td>150000</td>\n",
       "      <td>gasoline</td>\n",
       "      <td>ford</td>\n",
       "      <td>no</td>\n",
       "      <td>2007</td>\n",
       "      <td>mondeo</td>\n",
       "    </tr>\n",
       "    <tr>\n",
       "      <th>1</th>\n",
       "      <td>sedan</td>\n",
       "      <td>manual</td>\n",
       "      <td>110</td>\n",
       "      <td>150000</td>\n",
       "      <td>petrol</td>\n",
       "      <td>peugeot</td>\n",
       "      <td>no</td>\n",
       "      <td>1999</td>\n",
       "      <td>3_reihe</td>\n",
       "    </tr>\n",
       "    <tr>\n",
       "      <th>2</th>\n",
       "      <td>small</td>\n",
       "      <td>manual</td>\n",
       "      <td>64</td>\n",
       "      <td>150000</td>\n",
       "      <td>petrol</td>\n",
       "      <td>volkswagen</td>\n",
       "      <td>no</td>\n",
       "      <td>2002</td>\n",
       "      <td>polo</td>\n",
       "    </tr>\n",
       "    <tr>\n",
       "      <th>3</th>\n",
       "      <td>convertible</td>\n",
       "      <td>manual</td>\n",
       "      <td>133</td>\n",
       "      <td>150000</td>\n",
       "      <td>petrol</td>\n",
       "      <td>audi</td>\n",
       "      <td>no</td>\n",
       "      <td>1992</td>\n",
       "      <td>80</td>\n",
       "    </tr>\n",
       "    <tr>\n",
       "      <th>4</th>\n",
       "      <td>small</td>\n",
       "      <td>auto</td>\n",
       "      <td>45</td>\n",
       "      <td>150000</td>\n",
       "      <td>petrol</td>\n",
       "      <td>smart</td>\n",
       "      <td>Repaired</td>\n",
       "      <td>1999</td>\n",
       "      <td>fortwo</td>\n",
       "    </tr>\n",
       "  </tbody>\n",
       "</table>\n",
       "</div>"
      ],
      "text/plain": [
       "   VehicleType Gearbox  Power  Kilometer  FuelType       Brand  Repaired  \\\n",
       "0        wagon  manual    131     150000  gasoline        ford        no   \n",
       "1        sedan  manual    110     150000    petrol     peugeot        no   \n",
       "2        small  manual     64     150000    petrol  volkswagen        no   \n",
       "3  convertible  manual    133     150000    petrol        audi        no   \n",
       "4        small    auto     45     150000    petrol       smart  Repaired   \n",
       "\n",
       "   RegistrationYear    Model  \n",
       "0              2007   mondeo  \n",
       "1              1999  3_reihe  \n",
       "2              2002     polo  \n",
       "3              1992       80  \n",
       "4              1999   fortwo  "
      ]
     },
     "execution_count": 29,
     "metadata": {},
     "output_type": "execute_result"
    }
   ],
   "source": [
    "#Разбиваем датасет на обучаюищую и тестовую выборки\n",
    "features=good_autos_data.drop(['Price'],axis=1)\n",
    "target=good_autos_data['Price']\n",
    "features_train, features_test, target_train, target_test = train_test_split(\n",
    "    features, target, test_size=0.25, random_state=12345)\n",
    "features_train.reset_index(drop=True, inplace=True)\n",
    "features_test.reset_index(drop=True, inplace=True)\n",
    "features_train.head()"
   ]
  },
  {
   "cell_type": "code",
   "execution_count": 30,
   "metadata": {},
   "outputs": [],
   "source": [
    "#Выберем только категориальные признаки\n",
    "cat_feature=['VehicleType', 'Gearbox','Model',\n",
    "       'FuelType', 'Brand', 'Repaired']\n",
    "#Выберем только численные признаки\n",
    "num_feature=['Power', 'Kilometer', 'RegistrationYear']"
   ]
  },
  {
   "cell_type": "code",
   "execution_count": 31,
   "metadata": {
    "scrolled": true
   },
   "outputs": [
    {
     "data": {
      "text/html": [
       "<div>\n",
       "<style scoped>\n",
       "    .dataframe tbody tr th:only-of-type {\n",
       "        vertical-align: middle;\n",
       "    }\n",
       "\n",
       "    .dataframe tbody tr th {\n",
       "        vertical-align: top;\n",
       "    }\n",
       "\n",
       "    .dataframe thead th {\n",
       "        text-align: right;\n",
       "    }\n",
       "</style>\n",
       "<table border=\"1\" class=\"dataframe\">\n",
       "  <thead>\n",
       "    <tr style=\"text-align: right;\">\n",
       "      <th></th>\n",
       "      <th>VehicleType</th>\n",
       "      <th>Gearbox</th>\n",
       "      <th>Power</th>\n",
       "      <th>Kilometer</th>\n",
       "      <th>FuelType</th>\n",
       "      <th>Brand</th>\n",
       "      <th>Repaired</th>\n",
       "      <th>RegistrationYear</th>\n",
       "      <th>Model</th>\n",
       "    </tr>\n",
       "  </thead>\n",
       "  <tbody>\n",
       "    <tr>\n",
       "      <th>0</th>\n",
       "      <td>7.0</td>\n",
       "      <td>1.0</td>\n",
       "      <td>131</td>\n",
       "      <td>150000</td>\n",
       "      <td>4.0</td>\n",
       "      <td>10.0</td>\n",
       "      <td>1.0</td>\n",
       "      <td>2007</td>\n",
       "      <td>152.0</td>\n",
       "    </tr>\n",
       "    <tr>\n",
       "      <th>1</th>\n",
       "      <td>4.0</td>\n",
       "      <td>1.0</td>\n",
       "      <td>110</td>\n",
       "      <td>150000</td>\n",
       "      <td>8.0</td>\n",
       "      <td>25.0</td>\n",
       "      <td>1.0</td>\n",
       "      <td>1999</td>\n",
       "      <td>10.0</td>\n",
       "    </tr>\n",
       "    <tr>\n",
       "      <th>2</th>\n",
       "      <td>5.0</td>\n",
       "      <td>1.0</td>\n",
       "      <td>64</td>\n",
       "      <td>150000</td>\n",
       "      <td>8.0</td>\n",
       "      <td>38.0</td>\n",
       "      <td>1.0</td>\n",
       "      <td>2002</td>\n",
       "      <td>171.0</td>\n",
       "    </tr>\n",
       "    <tr>\n",
       "      <th>3</th>\n",
       "      <td>1.0</td>\n",
       "      <td>1.0</td>\n",
       "      <td>133</td>\n",
       "      <td>150000</td>\n",
       "      <td>8.0</td>\n",
       "      <td>1.0</td>\n",
       "      <td>1.0</td>\n",
       "      <td>1992</td>\n",
       "      <td>20.0</td>\n",
       "    </tr>\n",
       "    <tr>\n",
       "      <th>4</th>\n",
       "      <td>5.0</td>\n",
       "      <td>0.0</td>\n",
       "      <td>45</td>\n",
       "      <td>150000</td>\n",
       "      <td>8.0</td>\n",
       "      <td>32.0</td>\n",
       "      <td>0.0</td>\n",
       "      <td>1999</td>\n",
       "      <td>106.0</td>\n",
       "    </tr>\n",
       "  </tbody>\n",
       "</table>\n",
       "</div>"
      ],
      "text/plain": [
       "   VehicleType  Gearbox  Power  Kilometer  FuelType  Brand  Repaired  \\\n",
       "0          7.0      1.0    131     150000       4.0   10.0       1.0   \n",
       "1          4.0      1.0    110     150000       8.0   25.0       1.0   \n",
       "2          5.0      1.0     64     150000       8.0   38.0       1.0   \n",
       "3          1.0      1.0    133     150000       8.0    1.0       1.0   \n",
       "4          5.0      0.0     45     150000       8.0   32.0       0.0   \n",
       "\n",
       "   RegistrationYear  Model  \n",
       "0              2007  152.0  \n",
       "1              1999   10.0  \n",
       "2              2002  171.0  \n",
       "3              1992   20.0  \n",
       "4              1999  106.0  "
      ]
     },
     "execution_count": 31,
     "metadata": {},
     "output_type": "execute_result"
    }
   ],
   "source": [
    "#Порядковое кодирование (OE) для обучающей выборки\n",
    "oe = OrdinalEncoder(handle_unknown='use_encoded_value', unknown_value=-1)\n",
    "oe.fit(features_train[cat_feature])\n",
    "features_train_oe = features_train.copy()\n",
    "features_train_oe[cat_feature] = pd.DataFrame(data = oe.transform(features_train[cat_feature]), columns=features_train[cat_feature].columns)\n",
    "features_train_oe.head()"
   ]
  },
  {
   "cell_type": "code",
   "execution_count": 32,
   "metadata": {},
   "outputs": [
    {
     "data": {
      "text/html": [
       "<div>\n",
       "<style scoped>\n",
       "    .dataframe tbody tr th:only-of-type {\n",
       "        vertical-align: middle;\n",
       "    }\n",
       "\n",
       "    .dataframe tbody tr th {\n",
       "        vertical-align: top;\n",
       "    }\n",
       "\n",
       "    .dataframe thead th {\n",
       "        text-align: right;\n",
       "    }\n",
       "</style>\n",
       "<table border=\"1\" class=\"dataframe\">\n",
       "  <thead>\n",
       "    <tr style=\"text-align: right;\">\n",
       "      <th></th>\n",
       "      <th>VehicleType</th>\n",
       "      <th>Gearbox</th>\n",
       "      <th>Power</th>\n",
       "      <th>Kilometer</th>\n",
       "      <th>FuelType</th>\n",
       "      <th>Brand</th>\n",
       "      <th>Repaired</th>\n",
       "      <th>RegistrationYear</th>\n",
       "      <th>Model</th>\n",
       "    </tr>\n",
       "  </thead>\n",
       "  <tbody>\n",
       "    <tr>\n",
       "      <th>0</th>\n",
       "      <td>7.0</td>\n",
       "      <td>1.0</td>\n",
       "      <td>120</td>\n",
       "      <td>150000</td>\n",
       "      <td>4.0</td>\n",
       "      <td>24.0</td>\n",
       "      <td>1.0</td>\n",
       "      <td>2005</td>\n",
       "      <td>244.0</td>\n",
       "    </tr>\n",
       "    <tr>\n",
       "      <th>1</th>\n",
       "      <td>5.0</td>\n",
       "      <td>1.0</td>\n",
       "      <td>75</td>\n",
       "      <td>150000</td>\n",
       "      <td>8.0</td>\n",
       "      <td>38.0</td>\n",
       "      <td>1.0</td>\n",
       "      <td>2000</td>\n",
       "      <td>222.0</td>\n",
       "    </tr>\n",
       "    <tr>\n",
       "      <th>2</th>\n",
       "      <td>7.0</td>\n",
       "      <td>1.0</td>\n",
       "      <td>75</td>\n",
       "      <td>150000</td>\n",
       "      <td>8.0</td>\n",
       "      <td>31.0</td>\n",
       "      <td>1.0</td>\n",
       "      <td>2004</td>\n",
       "      <td>101.0</td>\n",
       "    </tr>\n",
       "    <tr>\n",
       "      <th>3</th>\n",
       "      <td>4.0</td>\n",
       "      <td>1.0</td>\n",
       "      <td>102</td>\n",
       "      <td>150000</td>\n",
       "      <td>6.0</td>\n",
       "      <td>1.0</td>\n",
       "      <td>0.0</td>\n",
       "      <td>2016</td>\n",
       "      <td>28.0</td>\n",
       "    </tr>\n",
       "    <tr>\n",
       "      <th>4</th>\n",
       "      <td>5.0</td>\n",
       "      <td>1.0</td>\n",
       "      <td>60</td>\n",
       "      <td>150000</td>\n",
       "      <td>8.0</td>\n",
       "      <td>24.0</td>\n",
       "      <td>1.0</td>\n",
       "      <td>2005</td>\n",
       "      <td>83.0</td>\n",
       "    </tr>\n",
       "  </tbody>\n",
       "</table>\n",
       "</div>"
      ],
      "text/plain": [
       "   VehicleType  Gearbox  Power  Kilometer  FuelType  Brand  Repaired  \\\n",
       "0          7.0      1.0    120     150000       4.0   24.0       1.0   \n",
       "1          5.0      1.0     75     150000       8.0   38.0       1.0   \n",
       "2          7.0      1.0     75     150000       8.0   31.0       1.0   \n",
       "3          4.0      1.0    102     150000       6.0    1.0       0.0   \n",
       "4          5.0      1.0     60     150000       8.0   24.0       1.0   \n",
       "\n",
       "   RegistrationYear  Model  \n",
       "0              2005  244.0  \n",
       "1              2000  222.0  \n",
       "2              2004  101.0  \n",
       "3              2016   28.0  \n",
       "4              2005   83.0  "
      ]
     },
     "execution_count": 32,
     "metadata": {},
     "output_type": "execute_result"
    }
   ],
   "source": [
    "#Порядковое кодирование (OE) для тестовой выборки\n",
    "#oe = OrdinalEncoder(handle_unknown='use_encoded_value', unknown_value=-1)\n",
    "#oe.fit(features_train[cat_feature])\n",
    "features_test_oe = features_test.copy()\n",
    "features_test_oe[cat_feature] = pd.DataFrame(data = oe.transform(features_test[cat_feature]), columns=features_test[cat_feature].columns)\n",
    "features_test_oe.head()"
   ]
  },
  {
   "cell_type": "code",
   "execution_count": 33,
   "metadata": {
    "scrolled": false
   },
   "outputs": [
    {
     "data": {
      "text/html": [
       "<div>\n",
       "<style scoped>\n",
       "    .dataframe tbody tr th:only-of-type {\n",
       "        vertical-align: middle;\n",
       "    }\n",
       "\n",
       "    .dataframe tbody tr th {\n",
       "        vertical-align: top;\n",
       "    }\n",
       "\n",
       "    .dataframe thead th {\n",
       "        text-align: right;\n",
       "    }\n",
       "</style>\n",
       "<table border=\"1\" class=\"dataframe\">\n",
       "  <thead>\n",
       "    <tr style=\"text-align: right;\">\n",
       "      <th></th>\n",
       "      <th>Power</th>\n",
       "      <th>Kilometer</th>\n",
       "      <th>RegistrationYear</th>\n",
       "      <th>x0_convertible</th>\n",
       "      <th>x0_coupe</th>\n",
       "      <th>x0_other</th>\n",
       "      <th>x0_sedan</th>\n",
       "      <th>x0_small</th>\n",
       "      <th>x0_suv</th>\n",
       "      <th>x0_wagon</th>\n",
       "      <th>...</th>\n",
       "      <th>x4_smart</th>\n",
       "      <th>x4_sonstige_autos</th>\n",
       "      <th>x4_subaru</th>\n",
       "      <th>x4_suzuki</th>\n",
       "      <th>x4_toyota</th>\n",
       "      <th>x4_trabant</th>\n",
       "      <th>x4_volkswagen</th>\n",
       "      <th>x4_volvo</th>\n",
       "      <th>x5_no</th>\n",
       "      <th>x5_yes</th>\n",
       "    </tr>\n",
       "  </thead>\n",
       "  <tbody>\n",
       "    <tr>\n",
       "      <th>0</th>\n",
       "      <td>131</td>\n",
       "      <td>150000</td>\n",
       "      <td>2007</td>\n",
       "      <td>0.0</td>\n",
       "      <td>0.0</td>\n",
       "      <td>0.0</td>\n",
       "      <td>0.0</td>\n",
       "      <td>0.0</td>\n",
       "      <td>0.0</td>\n",
       "      <td>1.0</td>\n",
       "      <td>...</td>\n",
       "      <td>0.0</td>\n",
       "      <td>0.0</td>\n",
       "      <td>0.0</td>\n",
       "      <td>0.0</td>\n",
       "      <td>0.0</td>\n",
       "      <td>0.0</td>\n",
       "      <td>0.0</td>\n",
       "      <td>0.0</td>\n",
       "      <td>1.0</td>\n",
       "      <td>0.0</td>\n",
       "    </tr>\n",
       "    <tr>\n",
       "      <th>1</th>\n",
       "      <td>110</td>\n",
       "      <td>150000</td>\n",
       "      <td>1999</td>\n",
       "      <td>0.0</td>\n",
       "      <td>0.0</td>\n",
       "      <td>0.0</td>\n",
       "      <td>1.0</td>\n",
       "      <td>0.0</td>\n",
       "      <td>0.0</td>\n",
       "      <td>0.0</td>\n",
       "      <td>...</td>\n",
       "      <td>0.0</td>\n",
       "      <td>0.0</td>\n",
       "      <td>0.0</td>\n",
       "      <td>0.0</td>\n",
       "      <td>0.0</td>\n",
       "      <td>0.0</td>\n",
       "      <td>0.0</td>\n",
       "      <td>0.0</td>\n",
       "      <td>1.0</td>\n",
       "      <td>0.0</td>\n",
       "    </tr>\n",
       "    <tr>\n",
       "      <th>2</th>\n",
       "      <td>64</td>\n",
       "      <td>150000</td>\n",
       "      <td>2002</td>\n",
       "      <td>0.0</td>\n",
       "      <td>0.0</td>\n",
       "      <td>0.0</td>\n",
       "      <td>0.0</td>\n",
       "      <td>1.0</td>\n",
       "      <td>0.0</td>\n",
       "      <td>0.0</td>\n",
       "      <td>...</td>\n",
       "      <td>0.0</td>\n",
       "      <td>0.0</td>\n",
       "      <td>0.0</td>\n",
       "      <td>0.0</td>\n",
       "      <td>0.0</td>\n",
       "      <td>0.0</td>\n",
       "      <td>1.0</td>\n",
       "      <td>0.0</td>\n",
       "      <td>1.0</td>\n",
       "      <td>0.0</td>\n",
       "    </tr>\n",
       "    <tr>\n",
       "      <th>3</th>\n",
       "      <td>133</td>\n",
       "      <td>150000</td>\n",
       "      <td>1992</td>\n",
       "      <td>1.0</td>\n",
       "      <td>0.0</td>\n",
       "      <td>0.0</td>\n",
       "      <td>0.0</td>\n",
       "      <td>0.0</td>\n",
       "      <td>0.0</td>\n",
       "      <td>0.0</td>\n",
       "      <td>...</td>\n",
       "      <td>0.0</td>\n",
       "      <td>0.0</td>\n",
       "      <td>0.0</td>\n",
       "      <td>0.0</td>\n",
       "      <td>0.0</td>\n",
       "      <td>0.0</td>\n",
       "      <td>0.0</td>\n",
       "      <td>0.0</td>\n",
       "      <td>1.0</td>\n",
       "      <td>0.0</td>\n",
       "    </tr>\n",
       "    <tr>\n",
       "      <th>4</th>\n",
       "      <td>45</td>\n",
       "      <td>150000</td>\n",
       "      <td>1999</td>\n",
       "      <td>0.0</td>\n",
       "      <td>0.0</td>\n",
       "      <td>0.0</td>\n",
       "      <td>0.0</td>\n",
       "      <td>1.0</td>\n",
       "      <td>0.0</td>\n",
       "      <td>0.0</td>\n",
       "      <td>...</td>\n",
       "      <td>1.0</td>\n",
       "      <td>0.0</td>\n",
       "      <td>0.0</td>\n",
       "      <td>0.0</td>\n",
       "      <td>0.0</td>\n",
       "      <td>0.0</td>\n",
       "      <td>0.0</td>\n",
       "      <td>0.0</td>\n",
       "      <td>0.0</td>\n",
       "      <td>0.0</td>\n",
       "    </tr>\n",
       "  </tbody>\n",
       "</table>\n",
       "<p>5 rows × 309 columns</p>\n",
       "</div>"
      ],
      "text/plain": [
       "   Power  Kilometer  RegistrationYear  x0_convertible  x0_coupe  x0_other  \\\n",
       "0    131     150000              2007             0.0       0.0       0.0   \n",
       "1    110     150000              1999             0.0       0.0       0.0   \n",
       "2     64     150000              2002             0.0       0.0       0.0   \n",
       "3    133     150000              1992             1.0       0.0       0.0   \n",
       "4     45     150000              1999             0.0       0.0       0.0   \n",
       "\n",
       "   x0_sedan  x0_small  x0_suv  x0_wagon  ...  x4_smart  x4_sonstige_autos  \\\n",
       "0       0.0       0.0     0.0       1.0  ...       0.0                0.0   \n",
       "1       1.0       0.0     0.0       0.0  ...       0.0                0.0   \n",
       "2       0.0       1.0     0.0       0.0  ...       0.0                0.0   \n",
       "3       0.0       0.0     0.0       0.0  ...       0.0                0.0   \n",
       "4       0.0       1.0     0.0       0.0  ...       1.0                0.0   \n",
       "\n",
       "   x4_subaru  x4_suzuki  x4_toyota  x4_trabant  x4_volkswagen  x4_volvo  \\\n",
       "0        0.0        0.0        0.0         0.0            0.0       0.0   \n",
       "1        0.0        0.0        0.0         0.0            0.0       0.0   \n",
       "2        0.0        0.0        0.0         0.0            1.0       0.0   \n",
       "3        0.0        0.0        0.0         0.0            0.0       0.0   \n",
       "4        0.0        0.0        0.0         0.0            0.0       0.0   \n",
       "\n",
       "   x5_no  x5_yes  \n",
       "0    1.0     0.0  \n",
       "1    1.0     0.0  \n",
       "2    1.0     0.0  \n",
       "3    1.0     0.0  \n",
       "4    0.0     0.0  \n",
       "\n",
       "[5 rows x 309 columns]"
      ]
     },
     "execution_count": 33,
     "metadata": {},
     "output_type": "execute_result"
    }
   ],
   "source": [
    "#Прямое кодирование (OHE)\n",
    "ohe = OneHotEncoder(drop='first', sparse=False)\n",
    "ohe.fit(features_train[cat_feature])\n",
    "features_train_ohe = features_train.copy()\n",
    "columns_list = ohe.get_feature_names()\n",
    "new_frame = pd.DataFrame(data = ohe.transform(features_train[cat_feature]), index = features_train.index, columns=columns_list)\n",
    "features_train_ohe = pd.concat((features_train_ohe[num_feature], new_frame), axis=1)\n",
    "features_train_ohe.head()"
   ]
  },
  {
   "cell_type": "code",
   "execution_count": 34,
   "metadata": {},
   "outputs": [],
   "source": [
    "#Напишем функцию для расчета метрики RMSE и с помощию функции make_scorer создаем метрику RMSE:\n",
    "def RMSE(target, predict):\n",
    "    return (mean_squared_error(target, predict))**0.5\n",
    "   \n",
    "RMSE_score = make_scorer(RMSE, greater_is_better=False)"
   ]
  },
  {
   "cell_type": "markdown",
   "metadata": {},
   "source": [
    "### Линейная регрессия"
   ]
  },
  {
   "cell_type": "code",
   "execution_count": 35,
   "metadata": {
    "scrolled": false
   },
   "outputs": [
    {
     "name": "stdout",
     "output_type": "stream",
     "text": [
      "CPU times: user 11.2 s, sys: 1.01 s, total: 12.2 s\n",
      "Wall time: 3.79 s\n"
     ]
    },
    {
     "data": {
      "text/html": [
       "<style>#sk-container-id-1 {color: black;background-color: white;}#sk-container-id-1 pre{padding: 0;}#sk-container-id-1 div.sk-toggleable {background-color: white;}#sk-container-id-1 label.sk-toggleable__label {cursor: pointer;display: block;width: 100%;margin-bottom: 0;padding: 0.3em;box-sizing: border-box;text-align: center;}#sk-container-id-1 label.sk-toggleable__label-arrow:before {content: \"▸\";float: left;margin-right: 0.25em;color: #696969;}#sk-container-id-1 label.sk-toggleable__label-arrow:hover:before {color: black;}#sk-container-id-1 div.sk-estimator:hover label.sk-toggleable__label-arrow:before {color: black;}#sk-container-id-1 div.sk-toggleable__content {max-height: 0;max-width: 0;overflow: hidden;text-align: left;background-color: #f0f8ff;}#sk-container-id-1 div.sk-toggleable__content pre {margin: 0.2em;color: black;border-radius: 0.25em;background-color: #f0f8ff;}#sk-container-id-1 input.sk-toggleable__control:checked~div.sk-toggleable__content {max-height: 200px;max-width: 100%;overflow: auto;}#sk-container-id-1 input.sk-toggleable__control:checked~label.sk-toggleable__label-arrow:before {content: \"▾\";}#sk-container-id-1 div.sk-estimator input.sk-toggleable__control:checked~label.sk-toggleable__label {background-color: #d4ebff;}#sk-container-id-1 div.sk-label input.sk-toggleable__control:checked~label.sk-toggleable__label {background-color: #d4ebff;}#sk-container-id-1 input.sk-hidden--visually {border: 0;clip: rect(1px 1px 1px 1px);clip: rect(1px, 1px, 1px, 1px);height: 1px;margin: -1px;overflow: hidden;padding: 0;position: absolute;width: 1px;}#sk-container-id-1 div.sk-estimator {font-family: monospace;background-color: #f0f8ff;border: 1px dotted black;border-radius: 0.25em;box-sizing: border-box;margin-bottom: 0.5em;}#sk-container-id-1 div.sk-estimator:hover {background-color: #d4ebff;}#sk-container-id-1 div.sk-parallel-item::after {content: \"\";width: 100%;border-bottom: 1px solid gray;flex-grow: 1;}#sk-container-id-1 div.sk-label:hover label.sk-toggleable__label {background-color: #d4ebff;}#sk-container-id-1 div.sk-serial::before {content: \"\";position: absolute;border-left: 1px solid gray;box-sizing: border-box;top: 0;bottom: 0;left: 50%;z-index: 0;}#sk-container-id-1 div.sk-serial {display: flex;flex-direction: column;align-items: center;background-color: white;padding-right: 0.2em;padding-left: 0.2em;position: relative;}#sk-container-id-1 div.sk-item {position: relative;z-index: 1;}#sk-container-id-1 div.sk-parallel {display: flex;align-items: stretch;justify-content: center;background-color: white;position: relative;}#sk-container-id-1 div.sk-item::before, #sk-container-id-1 div.sk-parallel-item::before {content: \"\";position: absolute;border-left: 1px solid gray;box-sizing: border-box;top: 0;bottom: 0;left: 50%;z-index: -1;}#sk-container-id-1 div.sk-parallel-item {display: flex;flex-direction: column;z-index: 1;position: relative;background-color: white;}#sk-container-id-1 div.sk-parallel-item:first-child::after {align-self: flex-end;width: 50%;}#sk-container-id-1 div.sk-parallel-item:last-child::after {align-self: flex-start;width: 50%;}#sk-container-id-1 div.sk-parallel-item:only-child::after {width: 0;}#sk-container-id-1 div.sk-dashed-wrapped {border: 1px dashed gray;margin: 0 0.4em 0.5em 0.4em;box-sizing: border-box;padding-bottom: 0.4em;background-color: white;}#sk-container-id-1 div.sk-label label {font-family: monospace;font-weight: bold;display: inline-block;line-height: 1.2em;}#sk-container-id-1 div.sk-label-container {text-align: center;}#sk-container-id-1 div.sk-container {/* jupyter's `normalize.less` sets `[hidden] { display: none; }` but bootstrap.min.css set `[hidden] { display: none !important; }` so we also need the `!important` here to be able to override the default hidden behavior on the sphinx rendered scikit-learn.org. See: https://github.com/scikit-learn/scikit-learn/issues/21755 */display: inline-block !important;position: relative;}#sk-container-id-1 div.sk-text-repr-fallback {display: none;}</style><div id=\"sk-container-id-1\" class=\"sk-top-container\"><div class=\"sk-text-repr-fallback\"><pre>LinearRegression()</pre><b>In a Jupyter environment, please rerun this cell to show the HTML representation or trust the notebook. <br />On GitHub, the HTML representation is unable to render, please try loading this page with nbviewer.org.</b></div><div class=\"sk-container\" hidden><div class=\"sk-item\"><div class=\"sk-estimator sk-toggleable\"><input class=\"sk-toggleable__control sk-hidden--visually\" id=\"sk-estimator-id-1\" type=\"checkbox\" checked><label for=\"sk-estimator-id-1\" class=\"sk-toggleable__label sk-toggleable__label-arrow\">LinearRegression</label><div class=\"sk-toggleable__content\"><pre>LinearRegression()</pre></div></div></div></div></div>"
      ],
      "text/plain": [
       "LinearRegression()"
      ]
     },
     "execution_count": 35,
     "metadata": {},
     "output_type": "execute_result"
    }
   ],
   "source": [
    "%%time\n",
    "#Объявляем модель\n",
    "regression = LinearRegression()\n",
    "#Обучаем модель\n",
    "regression.fit(features_train_ohe, target_train)"
   ]
  },
  {
   "cell_type": "code",
   "execution_count": 36,
   "metadata": {
    "scrolled": false
   },
   "outputs": [
    {
     "name": "stdout",
     "output_type": "stream",
     "text": [
      "Среднее качество модели линейной регрессии на кросс-валидации: 1343.243974429741\n",
      "CPU times: user 26.9 s, sys: 2.73 s, total: 29.6 s\n",
      "Wall time: 8.3 s\n"
     ]
    }
   ],
   "source": [
    "%%time\n",
    "#Определяем RMSE модели с помощью кросс-валидации\n",
    "regression_score = pd.Series(cross_val_score(regression, features_train_ohe, target_train,scoring=RMSE_score,cv=3)).mean()*(-1)\n",
    "print('Среднее качество модели линейной регрессии на кросс-валидации:', regression_score)"
   ]
  },
  {
   "cell_type": "markdown",
   "metadata": {},
   "source": [
    "### Лес решений"
   ]
  },
  {
   "cell_type": "code",
   "execution_count": 37,
   "metadata": {},
   "outputs": [
    {
     "name": "stdout",
     "output_type": "stream",
     "text": [
      "CPU times: user 313 µs, sys: 6 µs, total: 319 µs\n",
      "Wall time: 45.1 µs\n"
     ]
    }
   ],
   "source": [
    "%%time\n",
    "#Объявляем модель\n",
    "forest = RandomForestRegressor(random_state = 12345)\n",
    "#Определяем словарь с набором параметров\n",
    "forest_parametrs = { 'n_estimators': range(10, 100, 200),\n",
    "                     'max_depth': range(1, 6, 2),\n",
    "                     'min_samples_leaf': range(1,4),\n",
    "                     'min_samples_split': range(2,6,2), \n",
    "                     }"
   ]
  },
  {
   "cell_type": "code",
   "execution_count": 38,
   "metadata": {},
   "outputs": [
    {
     "name": "stdout",
     "output_type": "stream",
     "text": [
      "CPU times: user 29.6 s, sys: 464 ms, total: 30.1 s\n",
      "Wall time: 29 s\n"
     ]
    },
    {
     "data": {
      "text/html": [
       "<style>#sk-container-id-2 {color: black;background-color: white;}#sk-container-id-2 pre{padding: 0;}#sk-container-id-2 div.sk-toggleable {background-color: white;}#sk-container-id-2 label.sk-toggleable__label {cursor: pointer;display: block;width: 100%;margin-bottom: 0;padding: 0.3em;box-sizing: border-box;text-align: center;}#sk-container-id-2 label.sk-toggleable__label-arrow:before {content: \"▸\";float: left;margin-right: 0.25em;color: #696969;}#sk-container-id-2 label.sk-toggleable__label-arrow:hover:before {color: black;}#sk-container-id-2 div.sk-estimator:hover label.sk-toggleable__label-arrow:before {color: black;}#sk-container-id-2 div.sk-toggleable__content {max-height: 0;max-width: 0;overflow: hidden;text-align: left;background-color: #f0f8ff;}#sk-container-id-2 div.sk-toggleable__content pre {margin: 0.2em;color: black;border-radius: 0.25em;background-color: #f0f8ff;}#sk-container-id-2 input.sk-toggleable__control:checked~div.sk-toggleable__content {max-height: 200px;max-width: 100%;overflow: auto;}#sk-container-id-2 input.sk-toggleable__control:checked~label.sk-toggleable__label-arrow:before {content: \"▾\";}#sk-container-id-2 div.sk-estimator input.sk-toggleable__control:checked~label.sk-toggleable__label {background-color: #d4ebff;}#sk-container-id-2 div.sk-label input.sk-toggleable__control:checked~label.sk-toggleable__label {background-color: #d4ebff;}#sk-container-id-2 input.sk-hidden--visually {border: 0;clip: rect(1px 1px 1px 1px);clip: rect(1px, 1px, 1px, 1px);height: 1px;margin: -1px;overflow: hidden;padding: 0;position: absolute;width: 1px;}#sk-container-id-2 div.sk-estimator {font-family: monospace;background-color: #f0f8ff;border: 1px dotted black;border-radius: 0.25em;box-sizing: border-box;margin-bottom: 0.5em;}#sk-container-id-2 div.sk-estimator:hover {background-color: #d4ebff;}#sk-container-id-2 div.sk-parallel-item::after {content: \"\";width: 100%;border-bottom: 1px solid gray;flex-grow: 1;}#sk-container-id-2 div.sk-label:hover label.sk-toggleable__label {background-color: #d4ebff;}#sk-container-id-2 div.sk-serial::before {content: \"\";position: absolute;border-left: 1px solid gray;box-sizing: border-box;top: 0;bottom: 0;left: 50%;z-index: 0;}#sk-container-id-2 div.sk-serial {display: flex;flex-direction: column;align-items: center;background-color: white;padding-right: 0.2em;padding-left: 0.2em;position: relative;}#sk-container-id-2 div.sk-item {position: relative;z-index: 1;}#sk-container-id-2 div.sk-parallel {display: flex;align-items: stretch;justify-content: center;background-color: white;position: relative;}#sk-container-id-2 div.sk-item::before, #sk-container-id-2 div.sk-parallel-item::before {content: \"\";position: absolute;border-left: 1px solid gray;box-sizing: border-box;top: 0;bottom: 0;left: 50%;z-index: -1;}#sk-container-id-2 div.sk-parallel-item {display: flex;flex-direction: column;z-index: 1;position: relative;background-color: white;}#sk-container-id-2 div.sk-parallel-item:first-child::after {align-self: flex-end;width: 50%;}#sk-container-id-2 div.sk-parallel-item:last-child::after {align-self: flex-start;width: 50%;}#sk-container-id-2 div.sk-parallel-item:only-child::after {width: 0;}#sk-container-id-2 div.sk-dashed-wrapped {border: 1px dashed gray;margin: 0 0.4em 0.5em 0.4em;box-sizing: border-box;padding-bottom: 0.4em;background-color: white;}#sk-container-id-2 div.sk-label label {font-family: monospace;font-weight: bold;display: inline-block;line-height: 1.2em;}#sk-container-id-2 div.sk-label-container {text-align: center;}#sk-container-id-2 div.sk-container {/* jupyter's `normalize.less` sets `[hidden] { display: none; }` but bootstrap.min.css set `[hidden] { display: none !important; }` so we also need the `!important` here to be able to override the default hidden behavior on the sphinx rendered scikit-learn.org. See: https://github.com/scikit-learn/scikit-learn/issues/21755 */display: inline-block !important;position: relative;}#sk-container-id-2 div.sk-text-repr-fallback {display: none;}</style><div id=\"sk-container-id-2\" class=\"sk-top-container\"><div class=\"sk-text-repr-fallback\"><pre>GridSearchCV(cv=3, estimator=RandomForestRegressor(random_state=12345),\n",
       "             param_grid={&#x27;max_depth&#x27;: range(1, 6, 2),\n",
       "                         &#x27;min_samples_leaf&#x27;: range(1, 4),\n",
       "                         &#x27;min_samples_split&#x27;: range(2, 6, 2),\n",
       "                         &#x27;n_estimators&#x27;: range(10, 100, 200)},\n",
       "             scoring=make_scorer(RMSE, greater_is_better=False))</pre><b>In a Jupyter environment, please rerun this cell to show the HTML representation or trust the notebook. <br />On GitHub, the HTML representation is unable to render, please try loading this page with nbviewer.org.</b></div><div class=\"sk-container\" hidden><div class=\"sk-item sk-dashed-wrapped\"><div class=\"sk-label-container\"><div class=\"sk-label sk-toggleable\"><input class=\"sk-toggleable__control sk-hidden--visually\" id=\"sk-estimator-id-2\" type=\"checkbox\" ><label for=\"sk-estimator-id-2\" class=\"sk-toggleable__label sk-toggleable__label-arrow\">GridSearchCV</label><div class=\"sk-toggleable__content\"><pre>GridSearchCV(cv=3, estimator=RandomForestRegressor(random_state=12345),\n",
       "             param_grid={&#x27;max_depth&#x27;: range(1, 6, 2),\n",
       "                         &#x27;min_samples_leaf&#x27;: range(1, 4),\n",
       "                         &#x27;min_samples_split&#x27;: range(2, 6, 2),\n",
       "                         &#x27;n_estimators&#x27;: range(10, 100, 200)},\n",
       "             scoring=make_scorer(RMSE, greater_is_better=False))</pre></div></div></div><div class=\"sk-parallel\"><div class=\"sk-parallel-item\"><div class=\"sk-item\"><div class=\"sk-label-container\"><div class=\"sk-label sk-toggleable\"><input class=\"sk-toggleable__control sk-hidden--visually\" id=\"sk-estimator-id-3\" type=\"checkbox\" ><label for=\"sk-estimator-id-3\" class=\"sk-toggleable__label sk-toggleable__label-arrow\">estimator: RandomForestRegressor</label><div class=\"sk-toggleable__content\"><pre>RandomForestRegressor(random_state=12345)</pre></div></div></div><div class=\"sk-serial\"><div class=\"sk-item\"><div class=\"sk-estimator sk-toggleable\"><input class=\"sk-toggleable__control sk-hidden--visually\" id=\"sk-estimator-id-4\" type=\"checkbox\" ><label for=\"sk-estimator-id-4\" class=\"sk-toggleable__label sk-toggleable__label-arrow\">RandomForestRegressor</label><div class=\"sk-toggleable__content\"><pre>RandomForestRegressor(random_state=12345)</pre></div></div></div></div></div></div></div></div></div></div>"
      ],
      "text/plain": [
       "GridSearchCV(cv=3, estimator=RandomForestRegressor(random_state=12345),\n",
       "             param_grid={'max_depth': range(1, 6, 2),\n",
       "                         'min_samples_leaf': range(1, 4),\n",
       "                         'min_samples_split': range(2, 6, 2),\n",
       "                         'n_estimators': range(10, 100, 200)},\n",
       "             scoring=make_scorer(RMSE, greater_is_better=False))"
      ]
     },
     "execution_count": 38,
     "metadata": {},
     "output_type": "execute_result"
    }
   ],
   "source": [
    "%%time\n",
    "#Применяем GridSearchCV с кросс-валидацией\n",
    "forest_grid = GridSearchCV(forest, forest_parametrs, scoring=RMSE_score, cv=3)\n",
    "forest_grid.fit(features_train_oe, target_train)"
   ]
  },
  {
   "cell_type": "code",
   "execution_count": 39,
   "metadata": {
    "scrolled": false
   },
   "outputs": [
    {
     "name": "stdout",
     "output_type": "stream",
     "text": [
      "{'max_depth': 5, 'min_samples_leaf': 2, 'min_samples_split': 2, 'n_estimators': 10}\n",
      "CPU times: user 299 µs, sys: 133 µs, total: 432 µs\n",
      "Wall time: 366 µs\n"
     ]
    }
   ],
   "source": [
    "%%time\n",
    "#Определяем оптимальные гиперпараметры и качество модели на кросс-валидации\n",
    "forest_params = forest_grid.best_params_\n",
    "#forest_score = forest_grid.score(features_train_oe, target_train) * (-1)\n",
    "print(forest_params)\n",
    "#print(forest_score)"
   ]
  },
  {
   "cell_type": "code",
   "execution_count": 40,
   "metadata": {},
   "outputs": [
    {
     "name": "stdout",
     "output_type": "stream",
     "text": [
      "Среднее качество модели леса на кросс-валидации: 1283.8805312719182\n",
      "CPU times: user 2.41 s, sys: 28.5 ms, total: 2.44 s\n",
      "Wall time: 2.44 s\n"
     ]
    }
   ],
   "source": [
    "%%time\n",
    "forest_model = RandomForestRegressor(max_depth=5, min_samples_leaf=2, min_samples_split=2, n_estimators=10, random_state=12345)\n",
    "forest_model_score = (cross_val_score(forest_model, features_train_oe, target_train,scoring=RMSE_score,cv=3)).mean()*(-1)\n",
    "print('Среднее качество модели леса на кросс-валидации:', forest_model_score)"
   ]
  },
  {
   "cell_type": "markdown",
   "metadata": {},
   "source": [
    "### LGBMRegressor"
   ]
  },
  {
   "cell_type": "code",
   "execution_count": 41,
   "metadata": {
    "scrolled": false
   },
   "outputs": [
    {
     "name": "stdout",
     "output_type": "stream",
     "text": [
      "Fitting 3 folds for each of 24 candidates, totalling 72 fits\n",
      "[CV 1/3] END learning_rate=0.01, max_depth=25, n_estimators=5, num_leaves=500;, score=-1948.465 total time=   0.3s\n",
      "[CV 2/3] END learning_rate=0.01, max_depth=25, n_estimators=5, num_leaves=500;, score=-1950.709 total time=   0.3s\n",
      "[CV 3/3] END learning_rate=0.01, max_depth=25, n_estimators=5, num_leaves=500;, score=-1952.435 total time=   0.3s\n",
      "[CV 1/3] END learning_rate=0.01, max_depth=25, n_estimators=5, num_leaves=1200;, score=-1946.124 total time=   1.7s\n",
      "[CV 2/3] END learning_rate=0.01, max_depth=25, n_estimators=5, num_leaves=1200;, score=-1948.430 total time=   2.5s\n",
      "[CV 3/3] END learning_rate=0.01, max_depth=25, n_estimators=5, num_leaves=1200;, score=-1949.984 total time=   1.3s\n",
      "[CV 1/3] END learning_rate=0.01, max_depth=25, n_estimators=10, num_leaves=500;, score=-1880.932 total time=   0.5s\n",
      "[CV 2/3] END learning_rate=0.01, max_depth=25, n_estimators=10, num_leaves=500;, score=-1883.451 total time=   0.7s\n",
      "[CV 3/3] END learning_rate=0.01, max_depth=25, n_estimators=10, num_leaves=500;, score=-1885.160 total time=   1.0s\n",
      "[CV 1/3] END learning_rate=0.01, max_depth=25, n_estimators=10, num_leaves=1200;, score=-1876.381 total time=   1.0s\n",
      "[CV 2/3] END learning_rate=0.01, max_depth=25, n_estimators=10, num_leaves=1200;, score=-1878.935 total time=   0.9s\n",
      "[CV 3/3] END learning_rate=0.01, max_depth=25, n_estimators=10, num_leaves=1200;, score=-1880.373 total time=   1.9s\n",
      "[CV 1/3] END learning_rate=0.01, max_depth=50, n_estimators=5, num_leaves=500;, score=-1948.465 total time=   0.9s\n",
      "[CV 2/3] END learning_rate=0.01, max_depth=50, n_estimators=5, num_leaves=500;, score=-1950.709 total time=   0.8s\n",
      "[CV 3/3] END learning_rate=0.01, max_depth=50, n_estimators=5, num_leaves=500;, score=-1952.435 total time=   0.2s\n",
      "[CV 1/3] END learning_rate=0.01, max_depth=50, n_estimators=5, num_leaves=1200;, score=-1946.124 total time=   0.4s\n",
      "[CV 2/3] END learning_rate=0.01, max_depth=50, n_estimators=5, num_leaves=1200;, score=-1948.430 total time=   0.4s\n",
      "[CV 3/3] END learning_rate=0.01, max_depth=50, n_estimators=5, num_leaves=1200;, score=-1949.984 total time=   0.4s\n",
      "[CV 1/3] END learning_rate=0.01, max_depth=50, n_estimators=10, num_leaves=500;, score=-1880.932 total time=   0.4s\n",
      "[CV 2/3] END learning_rate=0.01, max_depth=50, n_estimators=10, num_leaves=500;, score=-1883.451 total time=   0.4s\n",
      "[CV 3/3] END learning_rate=0.01, max_depth=50, n_estimators=10, num_leaves=500;, score=-1885.160 total time=   0.4s\n",
      "[CV 1/3] END learning_rate=0.01, max_depth=50, n_estimators=10, num_leaves=1200;, score=-1876.381 total time=   0.7s\n",
      "[CV 2/3] END learning_rate=0.01, max_depth=50, n_estimators=10, num_leaves=1200;, score=-1878.935 total time=   0.7s\n",
      "[CV 3/3] END learning_rate=0.01, max_depth=50, n_estimators=10, num_leaves=1200;, score=-1880.373 total time=   0.7s\n",
      "[CV 1/3] END learning_rate=0.01, max_depth=75, n_estimators=5, num_leaves=500;, score=-1948.465 total time=   0.3s\n",
      "[CV 2/3] END learning_rate=0.01, max_depth=75, n_estimators=5, num_leaves=500;, score=-1950.709 total time=   0.4s\n",
      "[CV 3/3] END learning_rate=0.01, max_depth=75, n_estimators=5, num_leaves=500;, score=-1952.435 total time=   0.3s\n",
      "[CV 1/3] END learning_rate=0.01, max_depth=75, n_estimators=5, num_leaves=1200;, score=-1946.124 total time=   0.5s\n",
      "[CV 2/3] END learning_rate=0.01, max_depth=75, n_estimators=5, num_leaves=1200;, score=-1948.430 total time=   0.6s\n",
      "[CV 3/3] END learning_rate=0.01, max_depth=75, n_estimators=5, num_leaves=1200;, score=-1949.984 total time=   0.6s\n",
      "[CV 1/3] END learning_rate=0.01, max_depth=75, n_estimators=10, num_leaves=500;, score=-1880.932 total time=   0.4s\n",
      "[CV 2/3] END learning_rate=0.01, max_depth=75, n_estimators=10, num_leaves=500;, score=-1883.451 total time=   0.5s\n",
      "[CV 3/3] END learning_rate=0.01, max_depth=75, n_estimators=10, num_leaves=500;, score=-1885.160 total time=   1.2s\n",
      "[CV 1/3] END learning_rate=0.01, max_depth=75, n_estimators=10, num_leaves=1200;, score=-1876.381 total time=   2.6s\n",
      "[CV 2/3] END learning_rate=0.01, max_depth=75, n_estimators=10, num_leaves=1200;, score=-1878.935 total time=   0.7s\n",
      "[CV 3/3] END learning_rate=0.01, max_depth=75, n_estimators=10, num_leaves=1200;, score=-1880.373 total time=   1.1s\n",
      "[CV 1/3] END learning_rate=0.1, max_depth=25, n_estimators=5, num_leaves=500;, score=-1455.037 total time=   0.3s\n",
      "[CV 2/3] END learning_rate=0.1, max_depth=25, n_estimators=5, num_leaves=500;, score=-1459.078 total time=   0.3s\n",
      "[CV 3/3] END learning_rate=0.1, max_depth=25, n_estimators=5, num_leaves=500;, score=-1460.459 total time=   0.3s\n",
      "[CV 1/3] END learning_rate=0.1, max_depth=25, n_estimators=5, num_leaves=1200;, score=-1435.891 total time=   0.4s\n",
      "[CV 2/3] END learning_rate=0.1, max_depth=25, n_estimators=5, num_leaves=1200;, score=-1440.945 total time=   0.5s\n",
      "[CV 3/3] END learning_rate=0.1, max_depth=25, n_estimators=5, num_leaves=1200;, score=-1441.323 total time=   0.5s\n",
      "[CV 1/3] END learning_rate=0.1, max_depth=25, n_estimators=10, num_leaves=500;, score=-1174.400 total time=   0.4s\n",
      "[CV 2/3] END learning_rate=0.1, max_depth=25, n_estimators=10, num_leaves=500;, score=-1180.642 total time=   0.4s\n",
      "[CV 3/3] END learning_rate=0.1, max_depth=25, n_estimators=10, num_leaves=500;, score=-1181.041 total time=   0.4s\n",
      "[CV 1/3] END learning_rate=0.1, max_depth=25, n_estimators=10, num_leaves=1200;, score=-1151.909 total time=   0.7s\n",
      "[CV 2/3] END learning_rate=0.1, max_depth=25, n_estimators=10, num_leaves=1200;, score=-1157.905 total time=   0.8s\n",
      "[CV 3/3] END learning_rate=0.1, max_depth=25, n_estimators=10, num_leaves=1200;, score=-1157.360 total time=   0.7s\n",
      "[CV 1/3] END learning_rate=0.1, max_depth=50, n_estimators=5, num_leaves=500;, score=-1455.037 total time=   0.3s\n",
      "[CV 2/3] END learning_rate=0.1, max_depth=50, n_estimators=5, num_leaves=500;, score=-1459.078 total time=   0.3s\n",
      "[CV 3/3] END learning_rate=0.1, max_depth=50, n_estimators=5, num_leaves=500;, score=-1460.459 total time=   0.3s\n",
      "[CV 1/3] END learning_rate=0.1, max_depth=50, n_estimators=5, num_leaves=1200;, score=-1435.891 total time=   1.0s\n",
      "[CV 2/3] END learning_rate=0.1, max_depth=50, n_estimators=5, num_leaves=1200;, score=-1440.945 total time=   2.3s\n",
      "[CV 3/3] END learning_rate=0.1, max_depth=50, n_estimators=5, num_leaves=1200;, score=-1441.323 total time=   0.6s\n",
      "[CV 1/3] END learning_rate=0.1, max_depth=50, n_estimators=10, num_leaves=500;, score=-1174.400 total time=   0.7s\n",
      "[CV 2/3] END learning_rate=0.1, max_depth=50, n_estimators=10, num_leaves=500;, score=-1180.642 total time=   0.5s\n",
      "[CV 3/3] END learning_rate=0.1, max_depth=50, n_estimators=10, num_leaves=500;, score=-1181.041 total time=   0.5s\n",
      "[CV 1/3] END learning_rate=0.1, max_depth=50, n_estimators=10, num_leaves=1200;, score=-1151.909 total time=   0.8s\n",
      "[CV 2/3] END learning_rate=0.1, max_depth=50, n_estimators=10, num_leaves=1200;, score=-1157.905 total time=   0.9s\n",
      "[CV 3/3] END learning_rate=0.1, max_depth=50, n_estimators=10, num_leaves=1200;, score=-1157.360 total time=   1.3s\n",
      "[CV 1/3] END learning_rate=0.1, max_depth=75, n_estimators=5, num_leaves=500;, score=-1455.037 total time=   0.3s\n",
      "[CV 2/3] END learning_rate=0.1, max_depth=75, n_estimators=5, num_leaves=500;, score=-1459.078 total time=   0.3s\n",
      "[CV 3/3] END learning_rate=0.1, max_depth=75, n_estimators=5, num_leaves=500;, score=-1460.459 total time=   0.3s\n",
      "[CV 1/3] END learning_rate=0.1, max_depth=75, n_estimators=5, num_leaves=1200;, score=-1435.891 total time=   0.5s\n",
      "[CV 2/3] END learning_rate=0.1, max_depth=75, n_estimators=5, num_leaves=1200;, score=-1440.945 total time=   0.5s\n",
      "[CV 3/3] END learning_rate=0.1, max_depth=75, n_estimators=5, num_leaves=1200;, score=-1441.323 total time=   0.6s\n",
      "[CV 1/3] END learning_rate=0.1, max_depth=75, n_estimators=10, num_leaves=500;, score=-1174.400 total time=   0.4s\n",
      "[CV 2/3] END learning_rate=0.1, max_depth=75, n_estimators=10, num_leaves=500;, score=-1180.642 total time=   0.4s\n",
      "[CV 3/3] END learning_rate=0.1, max_depth=75, n_estimators=10, num_leaves=500;, score=-1181.041 total time=   0.4s\n",
      "[CV 1/3] END learning_rate=0.1, max_depth=75, n_estimators=10, num_leaves=1200;, score=-1151.909 total time=   0.7s\n",
      "[CV 2/3] END learning_rate=0.1, max_depth=75, n_estimators=10, num_leaves=1200;, score=-1157.905 total time=   0.7s\n",
      "[CV 3/3] END learning_rate=0.1, max_depth=75, n_estimators=10, num_leaves=1200;, score=-1157.360 total time=   0.7s\n",
      "CPU times: user 11min 32s, sys: 35.6 s, total: 12min 7s\n",
      "Wall time: 49.3 s\n"
     ]
    },
    {
     "data": {
      "text/html": [
       "<style>#sk-container-id-3 {color: black;background-color: white;}#sk-container-id-3 pre{padding: 0;}#sk-container-id-3 div.sk-toggleable {background-color: white;}#sk-container-id-3 label.sk-toggleable__label {cursor: pointer;display: block;width: 100%;margin-bottom: 0;padding: 0.3em;box-sizing: border-box;text-align: center;}#sk-container-id-3 label.sk-toggleable__label-arrow:before {content: \"▸\";float: left;margin-right: 0.25em;color: #696969;}#sk-container-id-3 label.sk-toggleable__label-arrow:hover:before {color: black;}#sk-container-id-3 div.sk-estimator:hover label.sk-toggleable__label-arrow:before {color: black;}#sk-container-id-3 div.sk-toggleable__content {max-height: 0;max-width: 0;overflow: hidden;text-align: left;background-color: #f0f8ff;}#sk-container-id-3 div.sk-toggleable__content pre {margin: 0.2em;color: black;border-radius: 0.25em;background-color: #f0f8ff;}#sk-container-id-3 input.sk-toggleable__control:checked~div.sk-toggleable__content {max-height: 200px;max-width: 100%;overflow: auto;}#sk-container-id-3 input.sk-toggleable__control:checked~label.sk-toggleable__label-arrow:before {content: \"▾\";}#sk-container-id-3 div.sk-estimator input.sk-toggleable__control:checked~label.sk-toggleable__label {background-color: #d4ebff;}#sk-container-id-3 div.sk-label input.sk-toggleable__control:checked~label.sk-toggleable__label {background-color: #d4ebff;}#sk-container-id-3 input.sk-hidden--visually {border: 0;clip: rect(1px 1px 1px 1px);clip: rect(1px, 1px, 1px, 1px);height: 1px;margin: -1px;overflow: hidden;padding: 0;position: absolute;width: 1px;}#sk-container-id-3 div.sk-estimator {font-family: monospace;background-color: #f0f8ff;border: 1px dotted black;border-radius: 0.25em;box-sizing: border-box;margin-bottom: 0.5em;}#sk-container-id-3 div.sk-estimator:hover {background-color: #d4ebff;}#sk-container-id-3 div.sk-parallel-item::after {content: \"\";width: 100%;border-bottom: 1px solid gray;flex-grow: 1;}#sk-container-id-3 div.sk-label:hover label.sk-toggleable__label {background-color: #d4ebff;}#sk-container-id-3 div.sk-serial::before {content: \"\";position: absolute;border-left: 1px solid gray;box-sizing: border-box;top: 0;bottom: 0;left: 50%;z-index: 0;}#sk-container-id-3 div.sk-serial {display: flex;flex-direction: column;align-items: center;background-color: white;padding-right: 0.2em;padding-left: 0.2em;position: relative;}#sk-container-id-3 div.sk-item {position: relative;z-index: 1;}#sk-container-id-3 div.sk-parallel {display: flex;align-items: stretch;justify-content: center;background-color: white;position: relative;}#sk-container-id-3 div.sk-item::before, #sk-container-id-3 div.sk-parallel-item::before {content: \"\";position: absolute;border-left: 1px solid gray;box-sizing: border-box;top: 0;bottom: 0;left: 50%;z-index: -1;}#sk-container-id-3 div.sk-parallel-item {display: flex;flex-direction: column;z-index: 1;position: relative;background-color: white;}#sk-container-id-3 div.sk-parallel-item:first-child::after {align-self: flex-end;width: 50%;}#sk-container-id-3 div.sk-parallel-item:last-child::after {align-self: flex-start;width: 50%;}#sk-container-id-3 div.sk-parallel-item:only-child::after {width: 0;}#sk-container-id-3 div.sk-dashed-wrapped {border: 1px dashed gray;margin: 0 0.4em 0.5em 0.4em;box-sizing: border-box;padding-bottom: 0.4em;background-color: white;}#sk-container-id-3 div.sk-label label {font-family: monospace;font-weight: bold;display: inline-block;line-height: 1.2em;}#sk-container-id-3 div.sk-label-container {text-align: center;}#sk-container-id-3 div.sk-container {/* jupyter's `normalize.less` sets `[hidden] { display: none; }` but bootstrap.min.css set `[hidden] { display: none !important; }` so we also need the `!important` here to be able to override the default hidden behavior on the sphinx rendered scikit-learn.org. See: https://github.com/scikit-learn/scikit-learn/issues/21755 */display: inline-block !important;position: relative;}#sk-container-id-3 div.sk-text-repr-fallback {display: none;}</style><div id=\"sk-container-id-3\" class=\"sk-top-container\"><div class=\"sk-text-repr-fallback\"><pre>GridSearchCV(cv=3, estimator=LGBMRegressor(random_state=12345),\n",
       "             param_grid={&#x27;learning_rate&#x27;: [0.01, 0.1],\n",
       "                         &#x27;max_depth&#x27;: [25, 50, 75],\n",
       "                         &#x27;n_estimators&#x27;: range(5, 15, 5),\n",
       "                         &#x27;num_leaves&#x27;: [500, 1200]},\n",
       "             scoring=make_scorer(RMSE, greater_is_better=False), verbose=3)</pre><b>In a Jupyter environment, please rerun this cell to show the HTML representation or trust the notebook. <br />On GitHub, the HTML representation is unable to render, please try loading this page with nbviewer.org.</b></div><div class=\"sk-container\" hidden><div class=\"sk-item sk-dashed-wrapped\"><div class=\"sk-label-container\"><div class=\"sk-label sk-toggleable\"><input class=\"sk-toggleable__control sk-hidden--visually\" id=\"sk-estimator-id-5\" type=\"checkbox\" ><label for=\"sk-estimator-id-5\" class=\"sk-toggleable__label sk-toggleable__label-arrow\">GridSearchCV</label><div class=\"sk-toggleable__content\"><pre>GridSearchCV(cv=3, estimator=LGBMRegressor(random_state=12345),\n",
       "             param_grid={&#x27;learning_rate&#x27;: [0.01, 0.1],\n",
       "                         &#x27;max_depth&#x27;: [25, 50, 75],\n",
       "                         &#x27;n_estimators&#x27;: range(5, 15, 5),\n",
       "                         &#x27;num_leaves&#x27;: [500, 1200]},\n",
       "             scoring=make_scorer(RMSE, greater_is_better=False), verbose=3)</pre></div></div></div><div class=\"sk-parallel\"><div class=\"sk-parallel-item\"><div class=\"sk-item\"><div class=\"sk-label-container\"><div class=\"sk-label sk-toggleable\"><input class=\"sk-toggleable__control sk-hidden--visually\" id=\"sk-estimator-id-6\" type=\"checkbox\" ><label for=\"sk-estimator-id-6\" class=\"sk-toggleable__label sk-toggleable__label-arrow\">estimator: LGBMRegressor</label><div class=\"sk-toggleable__content\"><pre>LGBMRegressor(random_state=12345)</pre></div></div></div><div class=\"sk-serial\"><div class=\"sk-item\"><div class=\"sk-estimator sk-toggleable\"><input class=\"sk-toggleable__control sk-hidden--visually\" id=\"sk-estimator-id-7\" type=\"checkbox\" ><label for=\"sk-estimator-id-7\" class=\"sk-toggleable__label sk-toggleable__label-arrow\">LGBMRegressor</label><div class=\"sk-toggleable__content\"><pre>LGBMRegressor(random_state=12345)</pre></div></div></div></div></div></div></div></div></div></div>"
      ],
      "text/plain": [
       "GridSearchCV(cv=3, estimator=LGBMRegressor(random_state=12345),\n",
       "             param_grid={'learning_rate': [0.01, 0.1],\n",
       "                         'max_depth': [25, 50, 75],\n",
       "                         'n_estimators': range(5, 15, 5),\n",
       "                         'num_leaves': [500, 1200]},\n",
       "             scoring=make_scorer(RMSE, greater_is_better=False), verbose=3)"
      ]
     },
     "execution_count": 41,
     "metadata": {},
     "output_type": "execute_result"
    }
   ],
   "source": [
    "%%time\n",
    "#Объявляю модель\n",
    "lg = LGBMRegressor(random_state = 12345)\n",
    "#Определяю словарь с набором параметров\n",
    "lg_parametrs = {\"max_depth\": [25, 50, 75],\n",
    "               \"learning_rate\" : [0.01, 0.1],\n",
    "               \"num_leaves\": [500, 1200],\n",
    "               \"n_estimators\": range (5, 15, 5),\n",
    "                             }\n",
    "#Применяю GridSearchCV с кросс-валидацией\n",
    "lg_grid = GridSearchCV(lg, lg_parametrs, scoring=RMSE_score, cv=3, verbose=3)\n",
    "lg_grid.fit(features_train_oe, target_train)"
   ]
  },
  {
   "cell_type": "code",
   "execution_count": 42,
   "metadata": {},
   "outputs": [
    {
     "name": "stdout",
     "output_type": "stream",
     "text": [
      "{'learning_rate': 0.1, 'max_depth': 25, 'n_estimators': 10, 'num_leaves': 1200}\n",
      "CPU times: user 4.15 ms, sys: 305 µs, total: 4.46 ms\n",
      "Wall time: 286 µs\n"
     ]
    }
   ],
   "source": [
    "%%time\n",
    "#Определяем оптимальные гиперпараметры и качество модели на кросс-валидации\n",
    "lg_params = lg_grid.best_params_\n",
    "#lg_score = lg_grid.score(features_train_oe, target_train) * (-1)\n",
    "print(lg_params)\n",
    "#print(lg_score)"
   ]
  },
  {
   "cell_type": "code",
   "execution_count": 43,
   "metadata": {},
   "outputs": [
    {
     "name": "stdout",
     "output_type": "stream",
     "text": [
      "Среднее качество модели LGBMR на кросс-валидации: 1155.7242592749656\n",
      "CPU times: user 37.7 s, sys: 1.27 s, total: 39 s\n",
      "Wall time: 2.55 s\n"
     ]
    }
   ],
   "source": [
    "%%time\n",
    "#Определяю качество модели на кросс-валидации\n",
    "lg_model = LGBMRegressor(learning_rate=0.1, max_depth=25, n_estimators=10, num_leaves=1200, random_state = 12345)\n",
    "lg_model_score = (cross_val_score(lg_model, features_train_oe, target_train,scoring=RMSE_score,cv=3)).mean()*(-1)\n",
    "print('Среднее качество модели LGBMR на кросс-валидации:', lg_model_score)"
   ]
  },
  {
   "cell_type": "markdown",
   "metadata": {},
   "source": [
    "### CatBoostRegressor"
   ]
  },
  {
   "cell_type": "code",
   "execution_count": 44,
   "metadata": {
    "scrolled": true
   },
   "outputs": [
    {
     "name": "stdout",
     "output_type": "stream",
     "text": [
      "0:\tlearn: 1858.9860302\ttotal: 69.5ms\tremaining: 6.88s\n",
      "1:\tlearn: 1723.0297963\ttotal: 78ms\tremaining: 3.82s\n",
      "2:\tlearn: 1615.3379176\ttotal: 86.2ms\tremaining: 2.79s\n",
      "3:\tlearn: 1521.5858830\ttotal: 94.2ms\tremaining: 2.26s\n",
      "4:\tlearn: 1446.7694688\ttotal: 102ms\tremaining: 1.94s\n",
      "5:\tlearn: 1386.8401914\ttotal: 110ms\tremaining: 1.73s\n",
      "6:\tlearn: 1339.5301124\ttotal: 118ms\tremaining: 1.56s\n",
      "7:\tlearn: 1300.3552875\ttotal: 126ms\tremaining: 1.45s\n",
      "8:\tlearn: 1265.1754524\ttotal: 135ms\tremaining: 1.37s\n",
      "9:\tlearn: 1237.6140186\ttotal: 144ms\tremaining: 1.3s\n",
      "10:\tlearn: 1213.9784115\ttotal: 153ms\tremaining: 1.24s\n",
      "11:\tlearn: 1190.9745162\ttotal: 161ms\tremaining: 1.18s\n",
      "12:\tlearn: 1174.4760304\ttotal: 169ms\tremaining: 1.13s\n",
      "13:\tlearn: 1154.2757157\ttotal: 177ms\tremaining: 1.09s\n",
      "14:\tlearn: 1138.3488321\ttotal: 184ms\tremaining: 1.04s\n",
      "15:\tlearn: 1128.6595658\ttotal: 192ms\tremaining: 1.01s\n",
      "16:\tlearn: 1114.5267803\ttotal: 199ms\tremaining: 973ms\n",
      "17:\tlearn: 1105.4038180\ttotal: 207ms\tremaining: 942ms\n",
      "18:\tlearn: 1096.1969537\ttotal: 215ms\tremaining: 915ms\n",
      "19:\tlearn: 1087.7751744\ttotal: 222ms\tremaining: 888ms\n",
      "20:\tlearn: 1081.6587939\ttotal: 230ms\tremaining: 864ms\n",
      "21:\tlearn: 1074.7359854\ttotal: 237ms\tremaining: 839ms\n",
      "22:\tlearn: 1070.3326931\ttotal: 244ms\tremaining: 816ms\n",
      "23:\tlearn: 1066.2712568\ttotal: 251ms\tremaining: 793ms\n",
      "24:\tlearn: 1059.0947713\ttotal: 258ms\tremaining: 773ms\n",
      "25:\tlearn: 1052.9478284\ttotal: 265ms\tremaining: 755ms\n",
      "26:\tlearn: 1048.9014044\ttotal: 274ms\tremaining: 740ms\n",
      "27:\tlearn: 1045.7959730\ttotal: 281ms\tremaining: 723ms\n",
      "28:\tlearn: 1041.9694601\ttotal: 290ms\tremaining: 709ms\n",
      "29:\tlearn: 1039.5386496\ttotal: 298ms\tremaining: 694ms\n",
      "30:\tlearn: 1035.9234613\ttotal: 305ms\tremaining: 680ms\n",
      "31:\tlearn: 1031.9519686\ttotal: 313ms\tremaining: 666ms\n",
      "32:\tlearn: 1028.5323596\ttotal: 321ms\tremaining: 652ms\n",
      "33:\tlearn: 1026.2685478\ttotal: 330ms\tremaining: 640ms\n",
      "34:\tlearn: 1023.9876216\ttotal: 338ms\tremaining: 627ms\n",
      "35:\tlearn: 1021.1056997\ttotal: 346ms\tremaining: 615ms\n",
      "36:\tlearn: 1017.5164140\ttotal: 354ms\tremaining: 603ms\n",
      "37:\tlearn: 1015.7048776\ttotal: 362ms\tremaining: 590ms\n",
      "38:\tlearn: 1013.2202443\ttotal: 370ms\tremaining: 578ms\n",
      "39:\tlearn: 1011.3146670\ttotal: 377ms\tremaining: 565ms\n",
      "40:\tlearn: 1009.3285251\ttotal: 385ms\tremaining: 554ms\n",
      "41:\tlearn: 1007.7823030\ttotal: 392ms\tremaining: 542ms\n",
      "42:\tlearn: 1004.6416176\ttotal: 400ms\tremaining: 530ms\n",
      "43:\tlearn: 1002.9112344\ttotal: 408ms\tremaining: 519ms\n",
      "44:\tlearn: 1001.6074430\ttotal: 416ms\tremaining: 508ms\n",
      "45:\tlearn: 1000.6352684\ttotal: 423ms\tremaining: 496ms\n",
      "46:\tlearn: 999.5731648\ttotal: 431ms\tremaining: 486ms\n",
      "47:\tlearn: 997.2718121\ttotal: 440ms\tremaining: 477ms\n",
      "48:\tlearn: 995.7846521\ttotal: 449ms\tremaining: 467ms\n",
      "49:\tlearn: 993.9825753\ttotal: 457ms\tremaining: 457ms\n",
      "50:\tlearn: 992.3229315\ttotal: 465ms\tremaining: 446ms\n",
      "51:\tlearn: 991.7891049\ttotal: 473ms\tremaining: 436ms\n",
      "52:\tlearn: 990.8240340\ttotal: 480ms\tremaining: 425ms\n",
      "53:\tlearn: 989.4451932\ttotal: 487ms\tremaining: 415ms\n",
      "54:\tlearn: 988.2572591\ttotal: 494ms\tremaining: 404ms\n",
      "55:\tlearn: 986.5620612\ttotal: 502ms\tremaining: 394ms\n",
      "56:\tlearn: 985.7186861\ttotal: 509ms\tremaining: 384ms\n",
      "57:\tlearn: 984.7049391\ttotal: 517ms\tremaining: 374ms\n",
      "58:\tlearn: 983.5165538\ttotal: 525ms\tremaining: 365ms\n",
      "59:\tlearn: 982.6024983\ttotal: 533ms\tremaining: 356ms\n",
      "60:\tlearn: 982.3003011\ttotal: 541ms\tremaining: 346ms\n",
      "61:\tlearn: 981.4367172\ttotal: 549ms\tremaining: 336ms\n",
      "62:\tlearn: 980.7326158\ttotal: 556ms\tremaining: 326ms\n",
      "63:\tlearn: 979.0261175\ttotal: 563ms\tremaining: 317ms\n",
      "64:\tlearn: 977.5709294\ttotal: 571ms\tremaining: 308ms\n",
      "65:\tlearn: 976.4322919\ttotal: 579ms\tremaining: 298ms\n",
      "66:\tlearn: 975.6827782\ttotal: 586ms\tremaining: 288ms\n",
      "67:\tlearn: 974.3790318\ttotal: 593ms\tremaining: 279ms\n",
      "68:\tlearn: 973.5351371\ttotal: 600ms\tremaining: 270ms\n",
      "69:\tlearn: 972.1535852\ttotal: 608ms\tremaining: 260ms\n",
      "70:\tlearn: 971.1452050\ttotal: 615ms\tremaining: 251ms\n",
      "71:\tlearn: 970.2757621\ttotal: 622ms\tremaining: 242ms\n",
      "72:\tlearn: 969.6784447\ttotal: 629ms\tremaining: 233ms\n",
      "73:\tlearn: 968.8535755\ttotal: 637ms\tremaining: 224ms\n",
      "74:\tlearn: 967.4205592\ttotal: 645ms\tremaining: 215ms\n",
      "75:\tlearn: 966.5112401\ttotal: 652ms\tremaining: 206ms\n",
      "76:\tlearn: 966.1981981\ttotal: 660ms\tremaining: 197ms\n",
      "77:\tlearn: 965.2797009\ttotal: 670ms\tremaining: 189ms\n",
      "78:\tlearn: 964.4227698\ttotal: 679ms\tremaining: 180ms\n",
      "79:\tlearn: 963.7543527\ttotal: 686ms\tremaining: 171ms\n",
      "80:\tlearn: 962.9001516\ttotal: 694ms\tremaining: 163ms\n",
      "81:\tlearn: 961.9124018\ttotal: 701ms\tremaining: 154ms\n",
      "82:\tlearn: 961.3896349\ttotal: 709ms\tremaining: 145ms\n",
      "83:\tlearn: 960.3668724\ttotal: 716ms\tremaining: 136ms\n",
      "84:\tlearn: 959.7339295\ttotal: 724ms\tremaining: 128ms\n",
      "85:\tlearn: 959.0565866\ttotal: 732ms\tremaining: 119ms\n",
      "86:\tlearn: 958.1935057\ttotal: 741ms\tremaining: 111ms\n",
      "87:\tlearn: 957.1125231\ttotal: 748ms\tremaining: 102ms\n",
      "88:\tlearn: 956.3770357\ttotal: 756ms\tremaining: 93.4ms\n",
      "89:\tlearn: 955.6849048\ttotal: 764ms\tremaining: 84.8ms\n",
      "90:\tlearn: 955.1465863\ttotal: 771ms\tremaining: 76.2ms\n",
      "91:\tlearn: 954.7056052\ttotal: 778ms\tremaining: 67.7ms\n",
      "92:\tlearn: 953.8144742\ttotal: 786ms\tremaining: 59.2ms\n",
      "93:\tlearn: 952.8438971\ttotal: 794ms\tremaining: 50.7ms\n",
      "94:\tlearn: 952.0291156\ttotal: 803ms\tremaining: 42.3ms\n",
      "95:\tlearn: 951.2459619\ttotal: 812ms\tremaining: 33.8ms\n",
      "96:\tlearn: 950.6579427\ttotal: 820ms\tremaining: 25.4ms\n",
      "97:\tlearn: 950.0526833\ttotal: 828ms\tremaining: 16.9ms\n",
      "98:\tlearn: 949.2597448\ttotal: 836ms\tremaining: 8.44ms\n",
      "99:\tlearn: 948.4907275\ttotal: 845ms\tremaining: 0us\n",
      "0:\tlearn: 1856.7569480\ttotal: 11.7ms\tremaining: 1.16s\n",
      "1:\tlearn: 1723.3205489\ttotal: 20.8ms\tremaining: 1.02s\n",
      "2:\tlearn: 1611.8031227\ttotal: 28.7ms\tremaining: 927ms\n",
      "3:\tlearn: 1519.0203365\ttotal: 37ms\tremaining: 888ms\n",
      "4:\tlearn: 1446.8161416\ttotal: 45ms\tremaining: 854ms\n",
      "5:\tlearn: 1386.7241159\ttotal: 52.8ms\tremaining: 827ms\n",
      "6:\tlearn: 1336.7127945\ttotal: 60.3ms\tremaining: 801ms\n",
      "7:\tlearn: 1296.5755467\ttotal: 67.5ms\tremaining: 776ms\n",
      "8:\tlearn: 1262.9545569\ttotal: 74.8ms\tremaining: 756ms\n",
      "9:\tlearn: 1234.2510507\ttotal: 82.3ms\tremaining: 740ms\n",
      "10:\tlearn: 1208.7418683\ttotal: 89.6ms\tremaining: 725ms\n",
      "11:\tlearn: 1188.2293628\ttotal: 97ms\tremaining: 711ms\n",
      "12:\tlearn: 1171.5653147\ttotal: 105ms\tremaining: 700ms\n",
      "13:\tlearn: 1158.9548953\ttotal: 112ms\tremaining: 686ms\n",
      "14:\tlearn: 1139.4102780\ttotal: 119ms\tremaining: 675ms\n",
      "15:\tlearn: 1125.3551405\ttotal: 126ms\tremaining: 664ms\n",
      "16:\tlearn: 1115.7285689\ttotal: 134ms\tremaining: 652ms\n",
      "17:\tlearn: 1105.3539953\ttotal: 141ms\tremaining: 641ms\n",
      "18:\tlearn: 1094.1331294\ttotal: 149ms\tremaining: 633ms\n",
      "19:\tlearn: 1086.1744041\ttotal: 156ms\tremaining: 625ms\n",
      "20:\tlearn: 1079.9840145\ttotal: 164ms\tremaining: 618ms\n",
      "21:\tlearn: 1073.6950088\ttotal: 172ms\tremaining: 609ms\n",
      "22:\tlearn: 1068.3340672\ttotal: 180ms\tremaining: 602ms\n",
      "23:\tlearn: 1062.0821877\ttotal: 187ms\tremaining: 592ms\n",
      "24:\tlearn: 1057.4409917\ttotal: 195ms\tremaining: 586ms\n",
      "25:\tlearn: 1052.9135282\ttotal: 203ms\tremaining: 578ms\n",
      "26:\tlearn: 1047.3232032\ttotal: 212ms\tremaining: 573ms\n",
      "27:\tlearn: 1044.0607607\ttotal: 220ms\tremaining: 567ms\n",
      "28:\tlearn: 1039.8834835\ttotal: 228ms\tremaining: 559ms\n",
      "29:\tlearn: 1036.5621373\ttotal: 237ms\tremaining: 552ms\n",
      "30:\tlearn: 1033.4300424\ttotal: 244ms\tremaining: 544ms\n",
      "31:\tlearn: 1031.2152250\ttotal: 252ms\tremaining: 535ms\n",
      "32:\tlearn: 1028.0511823\ttotal: 260ms\tremaining: 527ms\n",
      "33:\tlearn: 1026.0521929\ttotal: 267ms\tremaining: 518ms\n",
      "34:\tlearn: 1023.4608080\ttotal: 275ms\tremaining: 510ms\n",
      "35:\tlearn: 1021.0768890\ttotal: 283ms\tremaining: 503ms\n",
      "36:\tlearn: 1018.1564072\ttotal: 290ms\tremaining: 495ms\n",
      "37:\tlearn: 1016.6084867\ttotal: 298ms\tremaining: 486ms\n",
      "38:\tlearn: 1014.8963056\ttotal: 306ms\tremaining: 478ms\n",
      "39:\tlearn: 1013.3570338\ttotal: 313ms\tremaining: 470ms\n",
      "40:\tlearn: 1009.6667328\ttotal: 321ms\tremaining: 462ms\n",
      "41:\tlearn: 1007.2927515\ttotal: 329ms\tremaining: 454ms\n",
      "42:\tlearn: 1004.5184103\ttotal: 336ms\tremaining: 446ms\n",
      "43:\tlearn: 1003.0046245\ttotal: 344ms\tremaining: 438ms\n",
      "44:\tlearn: 1002.0326928\ttotal: 352ms\tremaining: 430ms\n",
      "45:\tlearn: 1000.2175709\ttotal: 360ms\tremaining: 423ms\n",
      "46:\tlearn: 998.1714392\ttotal: 368ms\tremaining: 415ms\n",
      "47:\tlearn: 997.0492655\ttotal: 375ms\tremaining: 406ms\n",
      "48:\tlearn: 995.3120188\ttotal: 383ms\tremaining: 398ms\n",
      "49:\tlearn: 992.9782512\ttotal: 391ms\tremaining: 391ms\n",
      "50:\tlearn: 991.3052488\ttotal: 398ms\tremaining: 383ms\n",
      "51:\tlearn: 989.8247030\ttotal: 406ms\tremaining: 375ms\n",
      "52:\tlearn: 987.4182665\ttotal: 415ms\tremaining: 368ms\n",
      "53:\tlearn: 986.5351722\ttotal: 423ms\tremaining: 360ms\n",
      "54:\tlearn: 985.2598333\ttotal: 430ms\tremaining: 352ms\n",
      "55:\tlearn: 983.7101303\ttotal: 440ms\tremaining: 345ms\n",
      "56:\tlearn: 982.4043446\ttotal: 448ms\tremaining: 338ms\n",
      "57:\tlearn: 981.5778016\ttotal: 455ms\tremaining: 330ms\n",
      "58:\tlearn: 979.6979544\ttotal: 463ms\tremaining: 322ms\n",
      "59:\tlearn: 979.0987254\ttotal: 470ms\tremaining: 314ms\n",
      "60:\tlearn: 977.4928019\ttotal: 480ms\tremaining: 307ms\n",
      "61:\tlearn: 976.6848743\ttotal: 488ms\tremaining: 299ms\n",
      "62:\tlearn: 975.9185628\ttotal: 495ms\tremaining: 291ms\n",
      "63:\tlearn: 974.4442134\ttotal: 503ms\tremaining: 283ms\n",
      "64:\tlearn: 973.2136983\ttotal: 511ms\tremaining: 275ms\n",
      "65:\tlearn: 971.5781808\ttotal: 520ms\tremaining: 268ms\n",
      "66:\tlearn: 970.7174018\ttotal: 527ms\tremaining: 260ms\n",
      "67:\tlearn: 969.8462327\ttotal: 536ms\tremaining: 252ms\n",
      "68:\tlearn: 969.0951766\ttotal: 544ms\tremaining: 244ms\n",
      "69:\tlearn: 967.9164242\ttotal: 553ms\tremaining: 237ms\n",
      "70:\tlearn: 966.9056581\ttotal: 560ms\tremaining: 229ms\n",
      "71:\tlearn: 965.9018477\ttotal: 568ms\tremaining: 221ms\n",
      "72:\tlearn: 965.0133780\ttotal: 576ms\tremaining: 213ms\n",
      "73:\tlearn: 964.3408957\ttotal: 584ms\tremaining: 205ms\n",
      "74:\tlearn: 963.2326252\ttotal: 592ms\tremaining: 197ms\n",
      "75:\tlearn: 962.3381863\ttotal: 600ms\tremaining: 189ms\n",
      "76:\tlearn: 961.5124097\ttotal: 607ms\tremaining: 181ms\n",
      "77:\tlearn: 960.6638148\ttotal: 616ms\tremaining: 174ms\n",
      "78:\tlearn: 959.7573288\ttotal: 624ms\tremaining: 166ms\n",
      "79:\tlearn: 958.9428457\ttotal: 633ms\tremaining: 158ms\n",
      "80:\tlearn: 957.8175255\ttotal: 641ms\tremaining: 150ms\n",
      "81:\tlearn: 957.2826423\ttotal: 649ms\tremaining: 142ms\n",
      "82:\tlearn: 956.3518350\ttotal: 656ms\tremaining: 134ms\n",
      "83:\tlearn: 955.7397477\ttotal: 664ms\tremaining: 126ms\n",
      "84:\tlearn: 954.4104842\ttotal: 672ms\tremaining: 119ms\n",
      "85:\tlearn: 953.7365623\ttotal: 680ms\tremaining: 111ms\n",
      "86:\tlearn: 953.0557350\ttotal: 687ms\tremaining: 103ms\n",
      "87:\tlearn: 952.5064274\ttotal: 695ms\tremaining: 94.7ms\n",
      "88:\tlearn: 951.8512622\ttotal: 702ms\tremaining: 86.8ms\n",
      "89:\tlearn: 950.9619990\ttotal: 710ms\tremaining: 78.9ms\n",
      "90:\tlearn: 950.5235830\ttotal: 717ms\tremaining: 70.9ms\n",
      "91:\tlearn: 949.9633540\ttotal: 725ms\tremaining: 63.1ms\n",
      "92:\tlearn: 948.7731074\ttotal: 733ms\tremaining: 55.2ms\n",
      "93:\tlearn: 947.6546961\ttotal: 740ms\tremaining: 47.3ms\n",
      "94:\tlearn: 947.0502185\ttotal: 747ms\tremaining: 39.3ms\n",
      "95:\tlearn: 946.6366042\ttotal: 755ms\tremaining: 31.4ms\n",
      "96:\tlearn: 945.9403525\ttotal: 762ms\tremaining: 23.6ms\n",
      "97:\tlearn: 945.5167411\ttotal: 770ms\tremaining: 15.7ms\n",
      "98:\tlearn: 944.7540893\ttotal: 777ms\tremaining: 7.85ms\n",
      "99:\tlearn: 944.0774404\ttotal: 785ms\tremaining: 0us\n",
      "0:\tlearn: 1857.7406136\ttotal: 8.65ms\tremaining: 856ms\n",
      "1:\tlearn: 1720.3895853\ttotal: 17.8ms\tremaining: 873ms\n",
      "2:\tlearn: 1610.6297822\ttotal: 26.1ms\tremaining: 844ms\n",
      "3:\tlearn: 1522.4107868\ttotal: 33.7ms\tremaining: 809ms\n",
      "4:\tlearn: 1447.6601807\ttotal: 40.8ms\tremaining: 776ms\n",
      "5:\tlearn: 1387.9907571\ttotal: 48.1ms\tremaining: 754ms\n",
      "6:\tlearn: 1337.2595256\ttotal: 55.6ms\tremaining: 739ms\n",
      "7:\tlearn: 1298.8955375\ttotal: 63.2ms\tremaining: 727ms\n",
      "8:\tlearn: 1262.7442528\ttotal: 70.2ms\tremaining: 709ms\n",
      "9:\tlearn: 1229.4133459\ttotal: 77.2ms\tremaining: 695ms\n",
      "10:\tlearn: 1204.2011028\ttotal: 84.7ms\tremaining: 685ms\n",
      "11:\tlearn: 1183.5179277\ttotal: 91.8ms\tremaining: 673ms\n",
      "12:\tlearn: 1166.2962206\ttotal: 98.7ms\tremaining: 661ms\n",
      "13:\tlearn: 1151.3321464\ttotal: 106ms\tremaining: 650ms\n",
      "14:\tlearn: 1133.5199190\ttotal: 113ms\tremaining: 640ms\n",
      "15:\tlearn: 1119.8461170\ttotal: 120ms\tremaining: 631ms\n",
      "16:\tlearn: 1110.0789334\ttotal: 127ms\tremaining: 619ms\n",
      "17:\tlearn: 1101.1209820\ttotal: 134ms\tremaining: 608ms\n",
      "18:\tlearn: 1093.6836633\ttotal: 141ms\tremaining: 600ms\n",
      "19:\tlearn: 1087.1321604\ttotal: 148ms\tremaining: 591ms\n",
      "20:\tlearn: 1079.2372140\ttotal: 155ms\tremaining: 584ms\n",
      "21:\tlearn: 1073.9995107\ttotal: 162ms\tremaining: 576ms\n",
      "22:\tlearn: 1064.5497034\ttotal: 170ms\tremaining: 570ms\n",
      "23:\tlearn: 1060.3037751\ttotal: 177ms\tremaining: 561ms\n",
      "24:\tlearn: 1054.3436841\ttotal: 185ms\tremaining: 556ms\n",
      "25:\tlearn: 1050.0350226\ttotal: 192ms\tremaining: 547ms\n",
      "26:\tlearn: 1046.4922028\ttotal: 199ms\tremaining: 539ms\n",
      "27:\tlearn: 1044.0316604\ttotal: 206ms\tremaining: 531ms\n",
      "28:\tlearn: 1040.1641898\ttotal: 214ms\tremaining: 524ms\n",
      "29:\tlearn: 1037.5289654\ttotal: 221ms\tremaining: 516ms\n",
      "30:\tlearn: 1033.5800244\ttotal: 228ms\tremaining: 508ms\n",
      "31:\tlearn: 1028.8392301\ttotal: 236ms\tremaining: 501ms\n",
      "32:\tlearn: 1025.9150436\ttotal: 243ms\tremaining: 493ms\n",
      "33:\tlearn: 1023.5023121\ttotal: 250ms\tremaining: 485ms\n",
      "34:\tlearn: 1021.1526861\ttotal: 256ms\tremaining: 476ms\n",
      "35:\tlearn: 1018.8515847\ttotal: 263ms\tremaining: 468ms\n",
      "36:\tlearn: 1015.3429765\ttotal: 272ms\tremaining: 463ms\n",
      "37:\tlearn: 1013.0554783\ttotal: 279ms\tremaining: 456ms\n",
      "38:\tlearn: 1010.4470558\ttotal: 287ms\tremaining: 449ms\n",
      "39:\tlearn: 1008.9755478\ttotal: 294ms\tremaining: 441ms\n",
      "40:\tlearn: 1006.6567243\ttotal: 301ms\tremaining: 433ms\n",
      "41:\tlearn: 1005.4351729\ttotal: 308ms\tremaining: 426ms\n",
      "42:\tlearn: 1002.7930200\ttotal: 316ms\tremaining: 419ms\n",
      "43:\tlearn: 1001.2421988\ttotal: 323ms\tremaining: 411ms\n",
      "44:\tlearn: 999.1303216\ttotal: 331ms\tremaining: 405ms\n",
      "45:\tlearn: 997.2485297\ttotal: 339ms\tremaining: 398ms\n",
      "46:\tlearn: 996.1274080\ttotal: 346ms\tremaining: 390ms\n",
      "47:\tlearn: 994.2212340\ttotal: 355ms\tremaining: 384ms\n",
      "48:\tlearn: 992.4130614\ttotal: 363ms\tremaining: 378ms\n",
      "49:\tlearn: 991.0810164\ttotal: 372ms\tremaining: 372ms\n",
      "50:\tlearn: 990.0178311\ttotal: 380ms\tremaining: 365ms\n",
      "51:\tlearn: 989.2041048\ttotal: 388ms\tremaining: 358ms\n",
      "52:\tlearn: 987.7823993\ttotal: 396ms\tremaining: 351ms\n",
      "53:\tlearn: 986.6827878\ttotal: 405ms\tremaining: 345ms\n",
      "54:\tlearn: 985.2231487\ttotal: 413ms\tremaining: 338ms\n",
      "55:\tlearn: 983.7102687\ttotal: 422ms\tremaining: 331ms\n",
      "56:\tlearn: 982.3848920\ttotal: 429ms\tremaining: 324ms\n",
      "57:\tlearn: 981.3968385\ttotal: 436ms\tremaining: 316ms\n",
      "58:\tlearn: 980.5777256\ttotal: 443ms\tremaining: 308ms\n",
      "59:\tlearn: 979.8646367\ttotal: 450ms\tremaining: 300ms\n",
      "60:\tlearn: 978.9047106\ttotal: 458ms\tremaining: 293ms\n",
      "61:\tlearn: 977.2971480\ttotal: 465ms\tremaining: 285ms\n",
      "62:\tlearn: 975.9854735\ttotal: 473ms\tremaining: 278ms\n",
      "63:\tlearn: 974.1720831\ttotal: 481ms\tremaining: 270ms\n",
      "64:\tlearn: 972.8864120\ttotal: 488ms\tremaining: 263ms\n",
      "65:\tlearn: 972.1168377\ttotal: 495ms\tremaining: 255ms\n",
      "66:\tlearn: 970.9901404\ttotal: 503ms\tremaining: 248ms\n",
      "67:\tlearn: 970.2157526\ttotal: 510ms\tremaining: 240ms\n",
      "68:\tlearn: 969.6379794\ttotal: 517ms\tremaining: 232ms\n",
      "69:\tlearn: 968.6194476\ttotal: 525ms\tremaining: 225ms\n",
      "70:\tlearn: 967.4327349\ttotal: 532ms\tremaining: 217ms\n",
      "71:\tlearn: 966.3564525\ttotal: 540ms\tremaining: 210ms\n",
      "72:\tlearn: 965.6392184\ttotal: 547ms\tremaining: 202ms\n",
      "73:\tlearn: 965.0715082\ttotal: 554ms\tremaining: 195ms\n",
      "74:\tlearn: 964.2173355\ttotal: 561ms\tremaining: 187ms\n",
      "75:\tlearn: 963.5825760\ttotal: 569ms\tremaining: 180ms\n",
      "76:\tlearn: 963.2350706\ttotal: 576ms\tremaining: 172ms\n",
      "77:\tlearn: 962.3165926\ttotal: 583ms\tremaining: 165ms\n",
      "78:\tlearn: 961.5698106\ttotal: 591ms\tremaining: 157ms\n",
      "79:\tlearn: 960.8084196\ttotal: 598ms\tremaining: 150ms\n",
      "80:\tlearn: 960.2347786\ttotal: 607ms\tremaining: 142ms\n",
      "81:\tlearn: 959.4667257\ttotal: 614ms\tremaining: 135ms\n",
      "82:\tlearn: 958.8146105\ttotal: 621ms\tremaining: 127ms\n",
      "83:\tlearn: 957.8514312\ttotal: 629ms\tremaining: 120ms\n",
      "84:\tlearn: 956.8366510\ttotal: 636ms\tremaining: 112ms\n",
      "85:\tlearn: 956.0113616\ttotal: 643ms\tremaining: 105ms\n",
      "86:\tlearn: 955.3289901\ttotal: 649ms\tremaining: 97ms\n",
      "87:\tlearn: 954.5359042\ttotal: 657ms\tremaining: 89.5ms\n",
      "88:\tlearn: 953.6690658\ttotal: 664ms\tremaining: 82ms\n",
      "89:\tlearn: 953.2057935\ttotal: 670ms\tremaining: 74.5ms\n",
      "90:\tlearn: 952.3870827\ttotal: 678ms\tremaining: 67ms\n",
      "91:\tlearn: 951.4137454\ttotal: 685ms\tremaining: 59.6ms\n",
      "92:\tlearn: 950.4181579\ttotal: 693ms\tremaining: 52.1ms\n",
      "93:\tlearn: 949.6961839\ttotal: 700ms\tremaining: 44.7ms\n",
      "94:\tlearn: 949.1321134\ttotal: 708ms\tremaining: 37.2ms\n",
      "95:\tlearn: 948.7480984\ttotal: 714ms\tremaining: 29.8ms\n",
      "96:\tlearn: 948.2920701\ttotal: 721ms\tremaining: 22.3ms\n",
      "97:\tlearn: 947.8042803\ttotal: 728ms\tremaining: 14.9ms\n",
      "98:\tlearn: 947.3881194\ttotal: 735ms\tremaining: 7.42ms\n",
      "99:\tlearn: 946.5267133\ttotal: 742ms\tremaining: 0us\n",
      "0:\tlearn: 1849.8163644\ttotal: 16.2ms\tremaining: 1.6s\n",
      "1:\tlearn: 1707.8333645\ttotal: 30.5ms\tremaining: 1.5s\n",
      "2:\tlearn: 1586.9676082\ttotal: 44.1ms\tremaining: 1.43s\n",
      "3:\tlearn: 1493.5151788\ttotal: 57ms\tremaining: 1.37s\n",
      "4:\tlearn: 1415.7393709\ttotal: 69.3ms\tremaining: 1.32s\n",
      "5:\tlearn: 1353.1894300\ttotal: 83.6ms\tremaining: 1.31s\n",
      "6:\tlearn: 1302.6693342\ttotal: 97.6ms\tremaining: 1.3s\n",
      "7:\tlearn: 1260.8609418\ttotal: 110ms\tremaining: 1.26s\n",
      "8:\tlearn: 1225.9458472\ttotal: 123ms\tremaining: 1.24s\n",
      "9:\tlearn: 1196.7100039\ttotal: 136ms\tremaining: 1.23s\n",
      "10:\tlearn: 1169.8608814\ttotal: 148ms\tremaining: 1.2s\n",
      "11:\tlearn: 1147.6231746\ttotal: 160ms\tremaining: 1.18s\n",
      "12:\tlearn: 1130.6989332\ttotal: 172ms\tremaining: 1.15s\n",
      "13:\tlearn: 1115.3503319\ttotal: 184ms\tremaining: 1.13s\n",
      "14:\tlearn: 1100.7392429\ttotal: 198ms\tremaining: 1.12s\n",
      "15:\tlearn: 1090.4476777\ttotal: 210ms\tremaining: 1.1s\n",
      "16:\tlearn: 1077.7800589\ttotal: 224ms\tremaining: 1.09s\n",
      "17:\tlearn: 1067.3105646\ttotal: 237ms\tremaining: 1.08s\n",
      "18:\tlearn: 1059.4916584\ttotal: 249ms\tremaining: 1.06s\n",
      "19:\tlearn: 1050.8143241\ttotal: 262ms\tremaining: 1.05s\n",
      "20:\tlearn: 1043.0244744\ttotal: 274ms\tremaining: 1.03s\n",
      "21:\tlearn: 1036.9920313\ttotal: 286ms\tremaining: 1.01s\n",
      "22:\tlearn: 1032.3581644\ttotal: 299ms\tremaining: 1s\n",
      "23:\tlearn: 1025.8031426\ttotal: 311ms\tremaining: 986ms\n",
      "24:\tlearn: 1021.7870537\ttotal: 324ms\tremaining: 971ms\n",
      "25:\tlearn: 1018.3775574\ttotal: 336ms\tremaining: 957ms\n",
      "26:\tlearn: 1014.5656109\ttotal: 348ms\tremaining: 942ms\n",
      "27:\tlearn: 1012.4854498\ttotal: 361ms\tremaining: 927ms\n",
      "28:\tlearn: 1008.5188628\ttotal: 374ms\tremaining: 915ms\n",
      "29:\tlearn: 1004.9288421\ttotal: 387ms\tremaining: 904ms\n",
      "30:\tlearn: 1001.7184544\ttotal: 401ms\tremaining: 892ms\n",
      "31:\tlearn: 999.6474193\ttotal: 414ms\tremaining: 880ms\n",
      "32:\tlearn: 996.1335820\ttotal: 427ms\tremaining: 867ms\n",
      "33:\tlearn: 994.0071475\ttotal: 440ms\tremaining: 855ms\n",
      "34:\tlearn: 992.3929782\ttotal: 454ms\tremaining: 843ms\n",
      "35:\tlearn: 989.8183319\ttotal: 468ms\tremaining: 832ms\n",
      "36:\tlearn: 988.4462336\ttotal: 481ms\tremaining: 819ms\n",
      "37:\tlearn: 986.8651753\ttotal: 497ms\tremaining: 811ms\n",
      "38:\tlearn: 985.3795019\ttotal: 510ms\tremaining: 798ms\n",
      "39:\tlearn: 983.7190757\ttotal: 524ms\tremaining: 786ms\n",
      "40:\tlearn: 981.5206188\ttotal: 537ms\tremaining: 772ms\n",
      "41:\tlearn: 979.0604097\ttotal: 550ms\tremaining: 760ms\n",
      "42:\tlearn: 976.1438749\ttotal: 563ms\tremaining: 747ms\n",
      "43:\tlearn: 974.9324663\ttotal: 577ms\tremaining: 734ms\n",
      "44:\tlearn: 973.8516640\ttotal: 590ms\tremaining: 721ms\n",
      "45:\tlearn: 971.7212520\ttotal: 603ms\tremaining: 707ms\n",
      "46:\tlearn: 969.6772490\ttotal: 616ms\tremaining: 695ms\n",
      "47:\tlearn: 967.8656039\ttotal: 630ms\tremaining: 682ms\n",
      "48:\tlearn: 965.3766256\ttotal: 644ms\tremaining: 670ms\n",
      "49:\tlearn: 963.7505213\ttotal: 657ms\tremaining: 657ms\n",
      "50:\tlearn: 963.2572573\ttotal: 671ms\tremaining: 645ms\n",
      "51:\tlearn: 962.0222227\ttotal: 685ms\tremaining: 632ms\n",
      "52:\tlearn: 959.7850381\ttotal: 698ms\tremaining: 619ms\n",
      "53:\tlearn: 958.2916289\ttotal: 711ms\tremaining: 606ms\n",
      "54:\tlearn: 957.1761888\ttotal: 724ms\tremaining: 592ms\n",
      "55:\tlearn: 955.3578638\ttotal: 737ms\tremaining: 579ms\n",
      "56:\tlearn: 954.2017116\ttotal: 751ms\tremaining: 566ms\n",
      "57:\tlearn: 953.2395353\ttotal: 765ms\tremaining: 554ms\n",
      "58:\tlearn: 951.8755251\ttotal: 779ms\tremaining: 541ms\n",
      "59:\tlearn: 951.0268611\ttotal: 792ms\tremaining: 528ms\n",
      "60:\tlearn: 950.1937121\ttotal: 806ms\tremaining: 515ms\n",
      "61:\tlearn: 949.2903884\ttotal: 819ms\tremaining: 502ms\n",
      "62:\tlearn: 948.0098814\ttotal: 831ms\tremaining: 488ms\n",
      "63:\tlearn: 947.1563296\ttotal: 844ms\tremaining: 475ms\n",
      "64:\tlearn: 946.0727657\ttotal: 857ms\tremaining: 462ms\n",
      "65:\tlearn: 945.1397287\ttotal: 871ms\tremaining: 449ms\n",
      "66:\tlearn: 944.1900123\ttotal: 885ms\tremaining: 436ms\n",
      "67:\tlearn: 943.0767968\ttotal: 899ms\tremaining: 423ms\n",
      "68:\tlearn: 942.2583246\ttotal: 913ms\tremaining: 410ms\n",
      "69:\tlearn: 941.3344137\ttotal: 927ms\tremaining: 397ms\n",
      "70:\tlearn: 940.0898188\ttotal: 940ms\tremaining: 384ms\n",
      "71:\tlearn: 939.3910306\ttotal: 954ms\tremaining: 371ms\n",
      "72:\tlearn: 938.4254071\ttotal: 967ms\tremaining: 358ms\n",
      "73:\tlearn: 937.7616714\ttotal: 980ms\tremaining: 344ms\n",
      "74:\tlearn: 936.6779602\ttotal: 993ms\tremaining: 331ms\n",
      "75:\tlearn: 936.0569196\ttotal: 1.01s\tremaining: 318ms\n",
      "76:\tlearn: 935.1989579\ttotal: 1.02s\tremaining: 304ms\n",
      "77:\tlearn: 934.3590132\ttotal: 1.03s\tremaining: 291ms\n",
      "78:\tlearn: 933.5621016\ttotal: 1.05s\tremaining: 278ms\n",
      "79:\tlearn: 933.1327909\ttotal: 1.06s\tremaining: 265ms\n",
      "80:\tlearn: 932.2818064\ttotal: 1.07s\tremaining: 252ms\n",
      "81:\tlearn: 931.2879740\ttotal: 1.08s\tremaining: 238ms\n",
      "82:\tlearn: 930.1169478\ttotal: 1.1s\tremaining: 225ms\n",
      "83:\tlearn: 929.6529983\ttotal: 1.11s\tremaining: 212ms\n",
      "84:\tlearn: 928.9113370\ttotal: 1.13s\tremaining: 199ms\n",
      "85:\tlearn: 927.6582782\ttotal: 1.14s\tremaining: 186ms\n",
      "86:\tlearn: 927.0353378\ttotal: 1.15s\tremaining: 172ms\n",
      "87:\tlearn: 926.3129593\ttotal: 1.17s\tremaining: 159ms\n",
      "88:\tlearn: 925.3367745\ttotal: 1.18s\tremaining: 146ms\n",
      "89:\tlearn: 924.3378515\ttotal: 1.19s\tremaining: 132ms\n",
      "90:\tlearn: 923.8508336\ttotal: 1.2s\tremaining: 119ms\n",
      "91:\tlearn: 923.1822888\ttotal: 1.21s\tremaining: 106ms\n",
      "92:\tlearn: 922.8124105\ttotal: 1.23s\tremaining: 92.4ms\n",
      "93:\tlearn: 922.2567829\ttotal: 1.24s\tremaining: 79.1ms\n",
      "94:\tlearn: 921.5022997\ttotal: 1.25s\tremaining: 65.9ms\n",
      "95:\tlearn: 920.3948288\ttotal: 1.27s\tremaining: 52.8ms\n",
      "96:\tlearn: 919.7909925\ttotal: 1.28s\tremaining: 39.5ms\n",
      "97:\tlearn: 919.2657396\ttotal: 1.29s\tremaining: 26.3ms\n",
      "98:\tlearn: 918.1558408\ttotal: 1.3s\tremaining: 13.2ms\n",
      "99:\tlearn: 917.3174986\ttotal: 1.31s\tremaining: 0us\n",
      "0:\tlearn: 1848.2026556\ttotal: 14.4ms\tremaining: 1.43s\n",
      "1:\tlearn: 1701.2485751\ttotal: 28.2ms\tremaining: 1.38s\n",
      "2:\tlearn: 1584.1643111\ttotal: 42.3ms\tremaining: 1.37s\n",
      "3:\tlearn: 1488.7940912\ttotal: 55.9ms\tremaining: 1.34s\n",
      "4:\tlearn: 1413.5563494\ttotal: 70.6ms\tremaining: 1.34s\n",
      "5:\tlearn: 1354.0418438\ttotal: 85.6ms\tremaining: 1.34s\n",
      "6:\tlearn: 1302.9069386\ttotal: 99.2ms\tremaining: 1.32s\n",
      "7:\tlearn: 1260.6861788\ttotal: 113ms\tremaining: 1.29s\n",
      "8:\tlearn: 1224.4137381\ttotal: 126ms\tremaining: 1.27s\n",
      "9:\tlearn: 1197.4160802\ttotal: 140ms\tremaining: 1.26s\n",
      "10:\tlearn: 1167.1648588\ttotal: 153ms\tremaining: 1.24s\n",
      "11:\tlearn: 1144.5759078\ttotal: 173ms\tremaining: 1.27s\n",
      "12:\tlearn: 1127.6990180\ttotal: 199ms\tremaining: 1.33s\n",
      "13:\tlearn: 1114.0044946\ttotal: 231ms\tremaining: 1.42s\n",
      "14:\tlearn: 1097.0961475\ttotal: 245ms\tremaining: 1.39s\n",
      "15:\tlearn: 1082.6085434\ttotal: 258ms\tremaining: 1.36s\n",
      "16:\tlearn: 1070.3034216\ttotal: 272ms\tremaining: 1.33s\n",
      "17:\tlearn: 1061.8715341\ttotal: 286ms\tremaining: 1.3s\n",
      "18:\tlearn: 1054.2172166\ttotal: 300ms\tremaining: 1.28s\n",
      "19:\tlearn: 1046.9774869\ttotal: 314ms\tremaining: 1.25s\n",
      "20:\tlearn: 1038.3508265\ttotal: 326ms\tremaining: 1.23s\n",
      "21:\tlearn: 1032.5659784\ttotal: 339ms\tremaining: 1.2s\n",
      "22:\tlearn: 1027.9829004\ttotal: 352ms\tremaining: 1.18s\n",
      "23:\tlearn: 1022.2193953\ttotal: 365ms\tremaining: 1.16s\n",
      "24:\tlearn: 1017.6674616\ttotal: 380ms\tremaining: 1.14s\n",
      "25:\tlearn: 1013.5727874\ttotal: 394ms\tremaining: 1.12s\n",
      "26:\tlearn: 1010.2936946\ttotal: 410ms\tremaining: 1.11s\n",
      "27:\tlearn: 1007.5836812\ttotal: 425ms\tremaining: 1.09s\n",
      "28:\tlearn: 1003.8075627\ttotal: 439ms\tremaining: 1.07s\n",
      "29:\tlearn: 1001.0496961\ttotal: 453ms\tremaining: 1.06s\n",
      "30:\tlearn: 997.6501517\ttotal: 468ms\tremaining: 1.04s\n",
      "31:\tlearn: 994.4844704\ttotal: 482ms\tremaining: 1.02s\n",
      "32:\tlearn: 991.3107872\ttotal: 496ms\tremaining: 1.01s\n",
      "33:\tlearn: 989.1874764\ttotal: 510ms\tremaining: 991ms\n",
      "34:\tlearn: 987.4445601\ttotal: 523ms\tremaining: 972ms\n",
      "35:\tlearn: 985.5521775\ttotal: 536ms\tremaining: 952ms\n",
      "36:\tlearn: 984.1206052\ttotal: 549ms\tremaining: 934ms\n",
      "37:\tlearn: 981.2609424\ttotal: 561ms\tremaining: 916ms\n",
      "38:\tlearn: 979.2547209\ttotal: 574ms\tremaining: 898ms\n",
      "39:\tlearn: 977.5618331\ttotal: 586ms\tremaining: 879ms\n",
      "40:\tlearn: 975.4029817\ttotal: 598ms\tremaining: 861ms\n",
      "41:\tlearn: 972.9847878\ttotal: 611ms\tremaining: 844ms\n",
      "42:\tlearn: 970.6423430\ttotal: 623ms\tremaining: 826ms\n",
      "43:\tlearn: 969.1030104\ttotal: 636ms\tremaining: 809ms\n",
      "44:\tlearn: 967.8671691\ttotal: 648ms\tremaining: 792ms\n",
      "45:\tlearn: 965.9974400\ttotal: 661ms\tremaining: 776ms\n",
      "46:\tlearn: 965.8123363\ttotal: 665ms\tremaining: 750ms\n",
      "47:\tlearn: 963.6074458\ttotal: 678ms\tremaining: 734ms\n",
      "48:\tlearn: 962.3099808\ttotal: 690ms\tremaining: 718ms\n",
      "49:\tlearn: 961.2530688\ttotal: 703ms\tremaining: 703ms\n",
      "50:\tlearn: 960.7404732\ttotal: 717ms\tremaining: 689ms\n",
      "51:\tlearn: 958.3901358\ttotal: 730ms\tremaining: 674ms\n",
      "52:\tlearn: 956.4330442\ttotal: 744ms\tremaining: 660ms\n",
      "53:\tlearn: 954.5450772\ttotal: 757ms\tremaining: 645ms\n",
      "54:\tlearn: 952.9355489\ttotal: 771ms\tremaining: 631ms\n",
      "55:\tlearn: 951.6309339\ttotal: 785ms\tremaining: 617ms\n",
      "56:\tlearn: 949.8635543\ttotal: 800ms\tremaining: 603ms\n",
      "57:\tlearn: 948.7730902\ttotal: 813ms\tremaining: 589ms\n",
      "58:\tlearn: 947.5542106\ttotal: 827ms\tremaining: 575ms\n",
      "59:\tlearn: 946.4684562\ttotal: 841ms\tremaining: 560ms\n",
      "60:\tlearn: 945.2606153\ttotal: 854ms\tremaining: 546ms\n",
      "61:\tlearn: 944.3639145\ttotal: 867ms\tremaining: 531ms\n",
      "62:\tlearn: 942.8205124\ttotal: 880ms\tremaining: 517ms\n",
      "63:\tlearn: 941.6396980\ttotal: 895ms\tremaining: 503ms\n",
      "64:\tlearn: 940.6629423\ttotal: 908ms\tremaining: 489ms\n",
      "65:\tlearn: 939.7297208\ttotal: 923ms\tremaining: 475ms\n",
      "66:\tlearn: 939.0029918\ttotal: 937ms\tremaining: 461ms\n",
      "67:\tlearn: 938.2397376\ttotal: 950ms\tremaining: 447ms\n",
      "68:\tlearn: 937.1771629\ttotal: 963ms\tremaining: 433ms\n",
      "69:\tlearn: 936.4047630\ttotal: 977ms\tremaining: 419ms\n",
      "70:\tlearn: 935.5247571\ttotal: 990ms\tremaining: 404ms\n",
      "71:\tlearn: 935.0946953\ttotal: 1s\tremaining: 390ms\n",
      "72:\tlearn: 934.0111279\ttotal: 1.01s\tremaining: 376ms\n",
      "73:\tlearn: 933.3479330\ttotal: 1.03s\tremaining: 362ms\n",
      "74:\tlearn: 932.5028262\ttotal: 1.04s\tremaining: 348ms\n",
      "75:\tlearn: 931.7488555\ttotal: 1.05s\tremaining: 333ms\n",
      "76:\tlearn: 930.9635001\ttotal: 1.07s\tremaining: 319ms\n",
      "77:\tlearn: 929.4135522\ttotal: 1.08s\tremaining: 305ms\n",
      "78:\tlearn: 928.4477397\ttotal: 1.09s\tremaining: 291ms\n",
      "79:\tlearn: 927.1694346\ttotal: 1.11s\tremaining: 277ms\n",
      "80:\tlearn: 926.2185522\ttotal: 1.12s\tremaining: 263ms\n",
      "81:\tlearn: 925.4234287\ttotal: 1.13s\tremaining: 249ms\n",
      "82:\tlearn: 924.8052919\ttotal: 1.15s\tremaining: 235ms\n",
      "83:\tlearn: 923.7658064\ttotal: 1.16s\tremaining: 221ms\n",
      "84:\tlearn: 923.1383899\ttotal: 1.17s\tremaining: 207ms\n",
      "85:\tlearn: 922.2163960\ttotal: 1.19s\tremaining: 193ms\n",
      "86:\tlearn: 921.4046965\ttotal: 1.2s\tremaining: 179ms\n",
      "87:\tlearn: 920.8235593\ttotal: 1.21s\tremaining: 165ms\n",
      "88:\tlearn: 919.9981949\ttotal: 1.23s\tremaining: 152ms\n",
      "89:\tlearn: 919.4360667\ttotal: 1.24s\tremaining: 138ms\n",
      "90:\tlearn: 918.5766224\ttotal: 1.25s\tremaining: 124ms\n",
      "91:\tlearn: 917.6133481\ttotal: 1.26s\tremaining: 110ms\n",
      "92:\tlearn: 916.7669524\ttotal: 1.28s\tremaining: 96.3ms\n",
      "93:\tlearn: 915.9778485\ttotal: 1.29s\tremaining: 82.5ms\n",
      "94:\tlearn: 915.3811354\ttotal: 1.3s\tremaining: 68.7ms\n",
      "95:\tlearn: 914.7494872\ttotal: 1.32s\tremaining: 54.9ms\n",
      "96:\tlearn: 913.9928169\ttotal: 1.33s\tremaining: 41.2ms\n",
      "97:\tlearn: 913.2767140\ttotal: 1.34s\tremaining: 27.5ms\n",
      "98:\tlearn: 912.4314326\ttotal: 1.36s\tremaining: 13.7ms\n",
      "99:\tlearn: 911.8845325\ttotal: 1.37s\tremaining: 0us\n",
      "0:\tlearn: 1848.7286048\ttotal: 12.8ms\tremaining: 1.26s\n",
      "1:\tlearn: 1707.1894455\ttotal: 25.2ms\tremaining: 1.24s\n",
      "2:\tlearn: 1586.2720573\ttotal: 37.8ms\tremaining: 1.22s\n",
      "3:\tlearn: 1490.9170038\ttotal: 50ms\tremaining: 1.2s\n",
      "4:\tlearn: 1413.7226406\ttotal: 63.4ms\tremaining: 1.2s\n",
      "5:\tlearn: 1350.3649188\ttotal: 75.9ms\tremaining: 1.19s\n",
      "6:\tlearn: 1298.9936377\ttotal: 88.5ms\tremaining: 1.18s\n",
      "7:\tlearn: 1257.3349818\ttotal: 102ms\tremaining: 1.17s\n",
      "8:\tlearn: 1224.5809564\ttotal: 117ms\tremaining: 1.18s\n",
      "9:\tlearn: 1197.7893063\ttotal: 130ms\tremaining: 1.17s\n",
      "10:\tlearn: 1167.4173738\ttotal: 144ms\tremaining: 1.17s\n",
      "11:\tlearn: 1146.4127167\ttotal: 157ms\tremaining: 1.15s\n",
      "12:\tlearn: 1125.8759146\ttotal: 170ms\tremaining: 1.14s\n",
      "13:\tlearn: 1111.5465807\ttotal: 182ms\tremaining: 1.12s\n",
      "14:\tlearn: 1098.9252530\ttotal: 195ms\tremaining: 1.1s\n",
      "15:\tlearn: 1083.9327707\ttotal: 207ms\tremaining: 1.09s\n",
      "16:\tlearn: 1075.7148108\ttotal: 220ms\tremaining: 1.07s\n",
      "17:\tlearn: 1065.3708806\ttotal: 232ms\tremaining: 1.06s\n",
      "18:\tlearn: 1055.2255308\ttotal: 245ms\tremaining: 1.04s\n",
      "19:\tlearn: 1048.9666446\ttotal: 257ms\tremaining: 1.03s\n",
      "20:\tlearn: 1041.5763561\ttotal: 269ms\tremaining: 1.01s\n",
      "21:\tlearn: 1035.1234438\ttotal: 281ms\tremaining: 998ms\n",
      "22:\tlearn: 1030.6981137\ttotal: 294ms\tremaining: 984ms\n",
      "23:\tlearn: 1025.2753809\ttotal: 307ms\tremaining: 971ms\n",
      "24:\tlearn: 1021.7094012\ttotal: 321ms\tremaining: 962ms\n",
      "25:\tlearn: 1017.9519450\ttotal: 335ms\tremaining: 953ms\n",
      "26:\tlearn: 1014.9006823\ttotal: 350ms\tremaining: 946ms\n",
      "27:\tlearn: 1011.2180762\ttotal: 365ms\tremaining: 937ms\n",
      "28:\tlearn: 1008.1104383\ttotal: 379ms\tremaining: 927ms\n",
      "29:\tlearn: 1004.7879277\ttotal: 392ms\tremaining: 916ms\n",
      "30:\tlearn: 1002.0542854\ttotal: 407ms\tremaining: 905ms\n",
      "31:\tlearn: 998.3046613\ttotal: 420ms\tremaining: 892ms\n",
      "32:\tlearn: 994.9198535\ttotal: 433ms\tremaining: 880ms\n",
      "33:\tlearn: 992.5427059\ttotal: 447ms\tremaining: 868ms\n",
      "34:\tlearn: 989.7257943\ttotal: 461ms\tremaining: 857ms\n",
      "35:\tlearn: 987.0940889\ttotal: 477ms\tremaining: 848ms\n",
      "36:\tlearn: 985.8842005\ttotal: 491ms\tremaining: 837ms\n",
      "37:\tlearn: 983.7329971\ttotal: 507ms\tremaining: 826ms\n",
      "38:\tlearn: 981.6146827\ttotal: 521ms\tremaining: 815ms\n",
      "39:\tlearn: 980.4727650\ttotal: 536ms\tremaining: 803ms\n",
      "40:\tlearn: 978.0082750\ttotal: 550ms\tremaining: 791ms\n",
      "41:\tlearn: 976.7811445\ttotal: 564ms\tremaining: 779ms\n",
      "42:\tlearn: 973.4960540\ttotal: 578ms\tremaining: 766ms\n",
      "43:\tlearn: 972.3720395\ttotal: 592ms\tremaining: 753ms\n",
      "44:\tlearn: 970.7602800\ttotal: 605ms\tremaining: 740ms\n",
      "45:\tlearn: 968.0006655\ttotal: 619ms\tremaining: 726ms\n",
      "46:\tlearn: 966.6632248\ttotal: 632ms\tremaining: 712ms\n",
      "47:\tlearn: 964.2503489\ttotal: 647ms\tremaining: 701ms\n",
      "48:\tlearn: 961.9149506\ttotal: 660ms\tremaining: 687ms\n",
      "49:\tlearn: 960.9780908\ttotal: 674ms\tremaining: 674ms\n",
      "50:\tlearn: 959.8379370\ttotal: 686ms\tremaining: 659ms\n",
      "51:\tlearn: 958.4436965\ttotal: 699ms\tremaining: 645ms\n",
      "52:\tlearn: 956.2524585\ttotal: 712ms\tremaining: 631ms\n",
      "53:\tlearn: 954.8345682\ttotal: 725ms\tremaining: 617ms\n",
      "54:\tlearn: 953.8878364\ttotal: 737ms\tremaining: 603ms\n",
      "55:\tlearn: 952.4795561\ttotal: 750ms\tremaining: 589ms\n",
      "56:\tlearn: 950.8288861\ttotal: 762ms\tremaining: 575ms\n",
      "57:\tlearn: 949.4808009\ttotal: 775ms\tremaining: 561ms\n",
      "58:\tlearn: 947.9805057\ttotal: 787ms\tremaining: 547ms\n",
      "59:\tlearn: 947.1470221\ttotal: 800ms\tremaining: 533ms\n",
      "60:\tlearn: 945.9315619\ttotal: 813ms\tremaining: 520ms\n",
      "61:\tlearn: 944.9890621\ttotal: 827ms\tremaining: 507ms\n",
      "62:\tlearn: 943.8284417\ttotal: 840ms\tremaining: 493ms\n",
      "63:\tlearn: 942.9126307\ttotal: 853ms\tremaining: 480ms\n",
      "64:\tlearn: 941.6849179\ttotal: 866ms\tremaining: 466ms\n",
      "65:\tlearn: 940.8555776\ttotal: 879ms\tremaining: 453ms\n",
      "66:\tlearn: 939.9464267\ttotal: 891ms\tremaining: 439ms\n",
      "67:\tlearn: 939.2919698\ttotal: 904ms\tremaining: 426ms\n",
      "68:\tlearn: 938.6664015\ttotal: 918ms\tremaining: 412ms\n",
      "69:\tlearn: 937.4851853\ttotal: 932ms\tremaining: 399ms\n",
      "70:\tlearn: 936.7283998\ttotal: 945ms\tremaining: 386ms\n",
      "71:\tlearn: 935.8228671\ttotal: 958ms\tremaining: 373ms\n",
      "72:\tlearn: 934.7053189\ttotal: 972ms\tremaining: 359ms\n",
      "73:\tlearn: 933.3116830\ttotal: 985ms\tremaining: 346ms\n",
      "74:\tlearn: 932.6959632\ttotal: 999ms\tremaining: 333ms\n",
      "75:\tlearn: 931.8982235\ttotal: 1.01s\tremaining: 320ms\n",
      "76:\tlearn: 930.9755437\ttotal: 1.03s\tremaining: 307ms\n",
      "77:\tlearn: 930.2601309\ttotal: 1.04s\tremaining: 293ms\n",
      "78:\tlearn: 929.2858286\ttotal: 1.05s\tremaining: 280ms\n",
      "79:\tlearn: 928.4425964\ttotal: 1.06s\tremaining: 266ms\n",
      "80:\tlearn: 927.4093458\ttotal: 1.08s\tremaining: 253ms\n",
      "81:\tlearn: 926.3758861\ttotal: 1.09s\tremaining: 240ms\n",
      "82:\tlearn: 925.6661294\ttotal: 1.11s\tremaining: 227ms\n",
      "83:\tlearn: 924.6634171\ttotal: 1.12s\tremaining: 213ms\n",
      "84:\tlearn: 924.0356133\ttotal: 1.13s\tremaining: 200ms\n",
      "85:\tlearn: 923.1525308\ttotal: 1.15s\tremaining: 186ms\n",
      "86:\tlearn: 922.2009329\ttotal: 1.16s\tremaining: 173ms\n",
      "87:\tlearn: 921.1854764\ttotal: 1.17s\tremaining: 160ms\n",
      "88:\tlearn: 920.1982974\ttotal: 1.19s\tremaining: 146ms\n",
      "89:\tlearn: 919.3676762\ttotal: 1.2s\tremaining: 133ms\n",
      "90:\tlearn: 918.3595189\ttotal: 1.21s\tremaining: 120ms\n",
      "91:\tlearn: 917.6055797\ttotal: 1.23s\tremaining: 107ms\n",
      "92:\tlearn: 916.7272884\ttotal: 1.24s\tremaining: 93.4ms\n",
      "93:\tlearn: 915.9890061\ttotal: 1.25s\tremaining: 80ms\n",
      "94:\tlearn: 915.4496788\ttotal: 1.27s\tremaining: 66.7ms\n",
      "95:\tlearn: 915.0133990\ttotal: 1.28s\tremaining: 53.4ms\n",
      "96:\tlearn: 914.5344518\ttotal: 1.29s\tremaining: 40.1ms\n",
      "97:\tlearn: 913.9486939\ttotal: 1.31s\tremaining: 26.7ms\n",
      "98:\tlearn: 913.5697332\ttotal: 1.32s\tremaining: 13.4ms\n",
      "99:\tlearn: 913.0487426\ttotal: 1.34s\tremaining: 0us\n",
      "0:\tlearn: 1839.9243128\ttotal: 40.9ms\tremaining: 4.05s\n",
      "1:\tlearn: 1687.8526425\ttotal: 71.9ms\tremaining: 3.52s\n",
      "2:\tlearn: 1565.0681451\ttotal: 101ms\tremaining: 3.27s\n",
      "3:\tlearn: 1467.6859047\ttotal: 130ms\tremaining: 3.13s\n",
      "4:\tlearn: 1387.3122028\ttotal: 162ms\tremaining: 3.08s\n",
      "5:\tlearn: 1323.1161118\ttotal: 191ms\tremaining: 3s\n",
      "6:\tlearn: 1270.8930992\ttotal: 219ms\tremaining: 2.91s\n",
      "7:\tlearn: 1222.7890891\ttotal: 248ms\tremaining: 2.85s\n",
      "8:\tlearn: 1185.5986530\ttotal: 276ms\tremaining: 2.79s\n",
      "9:\tlearn: 1155.9753532\ttotal: 304ms\tremaining: 2.73s\n",
      "10:\tlearn: 1131.2856417\ttotal: 332ms\tremaining: 2.68s\n",
      "11:\tlearn: 1110.8744839\ttotal: 360ms\tremaining: 2.64s\n",
      "12:\tlearn: 1091.4630856\ttotal: 389ms\tremaining: 2.6s\n",
      "13:\tlearn: 1075.1853977\ttotal: 417ms\tremaining: 2.56s\n",
      "14:\tlearn: 1060.7977459\ttotal: 446ms\tremaining: 2.52s\n",
      "15:\tlearn: 1049.8322794\ttotal: 475ms\tremaining: 2.5s\n",
      "16:\tlearn: 1040.2143863\ttotal: 503ms\tremaining: 2.46s\n",
      "17:\tlearn: 1032.6673346\ttotal: 533ms\tremaining: 2.43s\n",
      "18:\tlearn: 1024.9820446\ttotal: 564ms\tremaining: 2.4s\n",
      "19:\tlearn: 1018.0223991\ttotal: 595ms\tremaining: 2.38s\n",
      "20:\tlearn: 1011.4077263\ttotal: 625ms\tremaining: 2.35s\n",
      "21:\tlearn: 1005.6341939\ttotal: 656ms\tremaining: 2.32s\n",
      "22:\tlearn: 1000.9873473\ttotal: 685ms\tremaining: 2.29s\n",
      "23:\tlearn: 996.9226018\ttotal: 714ms\tremaining: 2.26s\n",
      "24:\tlearn: 992.6316080\ttotal: 745ms\tremaining: 2.23s\n",
      "25:\tlearn: 989.5734367\ttotal: 776ms\tremaining: 2.21s\n",
      "26:\tlearn: 985.3750178\ttotal: 805ms\tremaining: 2.17s\n",
      "27:\tlearn: 983.0645726\ttotal: 834ms\tremaining: 2.15s\n",
      "28:\tlearn: 979.0221553\ttotal: 863ms\tremaining: 2.11s\n",
      "29:\tlearn: 976.3799475\ttotal: 893ms\tremaining: 2.08s\n",
      "30:\tlearn: 973.1682261\ttotal: 923ms\tremaining: 2.05s\n",
      "31:\tlearn: 970.4355293\ttotal: 958ms\tremaining: 2.04s\n",
      "32:\tlearn: 968.1585605\ttotal: 988ms\tremaining: 2.01s\n",
      "33:\tlearn: 965.9146613\ttotal: 1.02s\tremaining: 1.98s\n",
      "34:\tlearn: 963.2925363\ttotal: 1.05s\tremaining: 1.95s\n",
      "35:\tlearn: 961.2522986\ttotal: 1.08s\tremaining: 1.91s\n",
      "36:\tlearn: 958.4312912\ttotal: 1.1s\tremaining: 1.88s\n",
      "37:\tlearn: 956.1398207\ttotal: 1.13s\tremaining: 1.85s\n",
      "38:\tlearn: 954.7151134\ttotal: 1.16s\tremaining: 1.81s\n",
      "39:\tlearn: 952.1380869\ttotal: 1.19s\tremaining: 1.78s\n",
      "40:\tlearn: 950.4432831\ttotal: 1.22s\tremaining: 1.75s\n",
      "41:\tlearn: 948.4632748\ttotal: 1.25s\tremaining: 1.72s\n",
      "42:\tlearn: 947.4301119\ttotal: 1.27s\tremaining: 1.69s\n",
      "43:\tlearn: 946.0955267\ttotal: 1.3s\tremaining: 1.66s\n",
      "44:\tlearn: 943.9771443\ttotal: 1.34s\tremaining: 1.63s\n",
      "45:\tlearn: 942.9418847\ttotal: 1.37s\tremaining: 1.6s\n",
      "46:\tlearn: 941.4907829\ttotal: 1.4s\tremaining: 1.57s\n",
      "47:\tlearn: 940.2990884\ttotal: 1.43s\tremaining: 1.54s\n",
      "48:\tlearn: 938.0475329\ttotal: 1.45s\tremaining: 1.51s\n",
      "49:\tlearn: 936.8731156\ttotal: 1.48s\tremaining: 1.48s\n",
      "50:\tlearn: 934.9592141\ttotal: 1.51s\tremaining: 1.45s\n",
      "51:\tlearn: 933.4801236\ttotal: 1.54s\tremaining: 1.42s\n",
      "52:\tlearn: 931.9398516\ttotal: 1.57s\tremaining: 1.39s\n",
      "53:\tlearn: 931.0682807\ttotal: 1.59s\tremaining: 1.36s\n",
      "54:\tlearn: 929.7924765\ttotal: 1.62s\tremaining: 1.33s\n",
      "55:\tlearn: 928.9001529\ttotal: 1.65s\tremaining: 1.3s\n",
      "56:\tlearn: 927.9801425\ttotal: 1.68s\tremaining: 1.26s\n",
      "57:\tlearn: 926.3522637\ttotal: 1.71s\tremaining: 1.24s\n",
      "58:\tlearn: 925.1912487\ttotal: 1.74s\tremaining: 1.21s\n",
      "59:\tlearn: 923.9454627\ttotal: 1.76s\tremaining: 1.18s\n",
      "60:\tlearn: 922.7046995\ttotal: 1.79s\tremaining: 1.14s\n",
      "61:\tlearn: 921.3363731\ttotal: 1.82s\tremaining: 1.11s\n",
      "62:\tlearn: 920.1595750\ttotal: 1.84s\tremaining: 1.08s\n",
      "63:\tlearn: 918.5835563\ttotal: 1.87s\tremaining: 1.05s\n",
      "64:\tlearn: 917.6474539\ttotal: 1.9s\tremaining: 1.02s\n",
      "65:\tlearn: 916.4238498\ttotal: 1.93s\tremaining: 992ms\n",
      "66:\tlearn: 915.3898926\ttotal: 1.95s\tremaining: 962ms\n",
      "67:\tlearn: 913.9597919\ttotal: 1.98s\tremaining: 932ms\n",
      "68:\tlearn: 912.5513381\ttotal: 2.01s\tremaining: 902ms\n",
      "69:\tlearn: 911.9100620\ttotal: 2.04s\tremaining: 873ms\n",
      "70:\tlearn: 910.2319580\ttotal: 2.06s\tremaining: 844ms\n",
      "71:\tlearn: 909.5314876\ttotal: 2.09s\tremaining: 814ms\n",
      "72:\tlearn: 908.7781524\ttotal: 2.12s\tremaining: 784ms\n",
      "73:\tlearn: 907.4217444\ttotal: 2.15s\tremaining: 755ms\n",
      "74:\tlearn: 906.2902043\ttotal: 2.17s\tremaining: 725ms\n",
      "75:\tlearn: 905.1283435\ttotal: 2.2s\tremaining: 696ms\n",
      "76:\tlearn: 903.8759795\ttotal: 2.23s\tremaining: 666ms\n",
      "77:\tlearn: 903.0430182\ttotal: 2.26s\tremaining: 637ms\n",
      "78:\tlearn: 902.6648838\ttotal: 2.29s\tremaining: 608ms\n",
      "79:\tlearn: 901.7142482\ttotal: 2.31s\tremaining: 578ms\n",
      "80:\tlearn: 900.5295371\ttotal: 2.34s\tremaining: 549ms\n",
      "81:\tlearn: 899.7223864\ttotal: 2.37s\tremaining: 520ms\n",
      "82:\tlearn: 898.9798109\ttotal: 2.4s\tremaining: 491ms\n",
      "83:\tlearn: 897.8064080\ttotal: 2.42s\tremaining: 462ms\n",
      "84:\tlearn: 896.7303374\ttotal: 2.45s\tremaining: 433ms\n",
      "85:\tlearn: 895.6193247\ttotal: 2.48s\tremaining: 404ms\n",
      "86:\tlearn: 894.8730780\ttotal: 2.51s\tremaining: 375ms\n",
      "87:\tlearn: 893.9171498\ttotal: 2.54s\tremaining: 346ms\n",
      "88:\tlearn: 893.1805445\ttotal: 2.56s\tremaining: 317ms\n",
      "89:\tlearn: 892.7847280\ttotal: 2.59s\tremaining: 288ms\n",
      "90:\tlearn: 891.8268037\ttotal: 2.62s\tremaining: 259ms\n",
      "91:\tlearn: 891.0510460\ttotal: 2.64s\tremaining: 230ms\n",
      "92:\tlearn: 889.7119921\ttotal: 2.67s\tremaining: 201ms\n",
      "93:\tlearn: 888.6908962\ttotal: 2.7s\tremaining: 172ms\n",
      "94:\tlearn: 888.4283554\ttotal: 2.73s\tremaining: 144ms\n",
      "95:\tlearn: 887.2408374\ttotal: 2.75s\tremaining: 115ms\n",
      "96:\tlearn: 886.1952112\ttotal: 2.78s\tremaining: 86ms\n",
      "97:\tlearn: 885.2888269\ttotal: 2.81s\tremaining: 57.3ms\n",
      "98:\tlearn: 884.3482324\ttotal: 2.84s\tremaining: 28.7ms\n",
      "99:\tlearn: 883.6466643\ttotal: 2.86s\tremaining: 0us\n",
      "0:\tlearn: 1838.7225635\ttotal: 27.3ms\tremaining: 2.71s\n",
      "1:\tlearn: 1687.9403751\ttotal: 57.5ms\tremaining: 2.82s\n",
      "2:\tlearn: 1569.7965501\ttotal: 84.5ms\tremaining: 2.73s\n",
      "3:\tlearn: 1470.7311274\ttotal: 112ms\tremaining: 2.69s\n",
      "4:\tlearn: 1389.5655405\ttotal: 140ms\tremaining: 2.66s\n",
      "5:\tlearn: 1327.4702472\ttotal: 168ms\tremaining: 2.63s\n",
      "6:\tlearn: 1270.3132398\ttotal: 195ms\tremaining: 2.59s\n",
      "7:\tlearn: 1217.4772914\ttotal: 223ms\tremaining: 2.56s\n",
      "8:\tlearn: 1180.4824306\ttotal: 250ms\tremaining: 2.53s\n",
      "9:\tlearn: 1149.1580497\ttotal: 277ms\tremaining: 2.5s\n",
      "10:\tlearn: 1124.6339625\ttotal: 304ms\tremaining: 2.46s\n",
      "11:\tlearn: 1101.7041455\ttotal: 332ms\tremaining: 2.43s\n",
      "12:\tlearn: 1084.6618687\ttotal: 359ms\tremaining: 2.4s\n",
      "13:\tlearn: 1070.0418512\ttotal: 387ms\tremaining: 2.38s\n",
      "14:\tlearn: 1057.4622926\ttotal: 415ms\tremaining: 2.35s\n",
      "15:\tlearn: 1046.5987649\ttotal: 442ms\tremaining: 2.32s\n",
      "16:\tlearn: 1033.7919487\ttotal: 470ms\tremaining: 2.29s\n",
      "17:\tlearn: 1023.7042976\ttotal: 498ms\tremaining: 2.27s\n",
      "18:\tlearn: 1015.0300179\ttotal: 526ms\tremaining: 2.24s\n",
      "19:\tlearn: 1007.4585174\ttotal: 553ms\tremaining: 2.21s\n",
      "20:\tlearn: 1001.1945883\ttotal: 581ms\tremaining: 2.18s\n",
      "21:\tlearn: 995.7321191\ttotal: 608ms\tremaining: 2.15s\n",
      "22:\tlearn: 990.6396519\ttotal: 635ms\tremaining: 2.13s\n",
      "23:\tlearn: 986.9731018\ttotal: 663ms\tremaining: 2.1s\n",
      "24:\tlearn: 983.1492916\ttotal: 690ms\tremaining: 2.07s\n",
      "25:\tlearn: 979.3671371\ttotal: 718ms\tremaining: 2.04s\n",
      "26:\tlearn: 975.4037253\ttotal: 746ms\tremaining: 2.02s\n",
      "27:\tlearn: 972.2000064\ttotal: 775ms\tremaining: 1.99s\n",
      "28:\tlearn: 969.2173691\ttotal: 803ms\tremaining: 1.97s\n",
      "29:\tlearn: 966.9350378\ttotal: 830ms\tremaining: 1.94s\n",
      "30:\tlearn: 964.7621666\ttotal: 858ms\tremaining: 1.91s\n",
      "31:\tlearn: 962.4228596\ttotal: 885ms\tremaining: 1.88s\n",
      "32:\tlearn: 959.5286446\ttotal: 913ms\tremaining: 1.85s\n",
      "33:\tlearn: 958.0601568\ttotal: 940ms\tremaining: 1.82s\n",
      "34:\tlearn: 955.3924448\ttotal: 967ms\tremaining: 1.8s\n",
      "35:\tlearn: 953.4026899\ttotal: 995ms\tremaining: 1.77s\n",
      "36:\tlearn: 950.1065810\ttotal: 1.02s\tremaining: 1.74s\n",
      "37:\tlearn: 949.4301489\ttotal: 1.05s\tremaining: 1.71s\n",
      "38:\tlearn: 947.3918096\ttotal: 1.08s\tremaining: 1.69s\n",
      "39:\tlearn: 944.7282694\ttotal: 1.11s\tremaining: 1.66s\n",
      "40:\tlearn: 943.5105253\ttotal: 1.14s\tremaining: 1.63s\n",
      "41:\tlearn: 941.8046743\ttotal: 1.16s\tremaining: 1.6s\n",
      "42:\tlearn: 940.5994030\ttotal: 1.19s\tremaining: 1.58s\n",
      "43:\tlearn: 938.3354424\ttotal: 1.22s\tremaining: 1.55s\n",
      "44:\tlearn: 935.9607868\ttotal: 1.24s\tremaining: 1.52s\n",
      "45:\tlearn: 934.2582358\ttotal: 1.27s\tremaining: 1.49s\n",
      "46:\tlearn: 932.8077014\ttotal: 1.3s\tremaining: 1.47s\n",
      "47:\tlearn: 931.6435182\ttotal: 1.33s\tremaining: 1.44s\n",
      "48:\tlearn: 929.5745622\ttotal: 1.35s\tremaining: 1.41s\n",
      "49:\tlearn: 927.7557539\ttotal: 1.38s\tremaining: 1.38s\n",
      "50:\tlearn: 926.0195363\ttotal: 1.41s\tremaining: 1.35s\n",
      "51:\tlearn: 925.0688752\ttotal: 1.44s\tremaining: 1.32s\n",
      "52:\tlearn: 923.3141360\ttotal: 1.46s\tremaining: 1.3s\n",
      "53:\tlearn: 921.6606987\ttotal: 1.49s\tremaining: 1.27s\n",
      "54:\tlearn: 920.7770808\ttotal: 1.52s\tremaining: 1.24s\n",
      "55:\tlearn: 919.8001229\ttotal: 1.55s\tremaining: 1.22s\n",
      "56:\tlearn: 918.6086420\ttotal: 1.57s\tremaining: 1.19s\n",
      "57:\tlearn: 917.2755792\ttotal: 1.6s\tremaining: 1.16s\n",
      "58:\tlearn: 915.9637477\ttotal: 1.63s\tremaining: 1.13s\n",
      "59:\tlearn: 915.1731576\ttotal: 1.66s\tremaining: 1.1s\n",
      "60:\tlearn: 914.0074926\ttotal: 1.68s\tremaining: 1.08s\n",
      "61:\tlearn: 912.7789055\ttotal: 1.71s\tremaining: 1.05s\n",
      "62:\tlearn: 911.2722995\ttotal: 1.74s\tremaining: 1.02s\n",
      "63:\tlearn: 910.2215090\ttotal: 1.77s\tremaining: 994ms\n",
      "64:\tlearn: 909.1772066\ttotal: 1.8s\tremaining: 968ms\n",
      "65:\tlearn: 908.0920940\ttotal: 1.83s\tremaining: 941ms\n",
      "66:\tlearn: 907.6516977\ttotal: 1.85s\tremaining: 914ms\n",
      "67:\tlearn: 906.4396419\ttotal: 1.88s\tremaining: 886ms\n",
      "68:\tlearn: 905.1643293\ttotal: 1.91s\tremaining: 859ms\n",
      "69:\tlearn: 904.4327902\ttotal: 1.94s\tremaining: 831ms\n",
      "70:\tlearn: 903.6998891\ttotal: 1.97s\tremaining: 803ms\n",
      "71:\tlearn: 902.4539343\ttotal: 1.99s\tremaining: 775ms\n",
      "72:\tlearn: 901.4070473\ttotal: 2.02s\tremaining: 748ms\n",
      "73:\tlearn: 900.3218024\ttotal: 2.05s\tremaining: 720ms\n",
      "74:\tlearn: 899.3700190\ttotal: 2.08s\tremaining: 692ms\n",
      "75:\tlearn: 898.6255303\ttotal: 2.1s\tremaining: 665ms\n",
      "76:\tlearn: 897.6329111\ttotal: 2.13s\tremaining: 637ms\n",
      "77:\tlearn: 896.7262265\ttotal: 2.16s\tremaining: 609ms\n",
      "78:\tlearn: 895.9789622\ttotal: 2.19s\tremaining: 582ms\n",
      "79:\tlearn: 894.8238181\ttotal: 2.21s\tremaining: 554ms\n",
      "80:\tlearn: 894.0006186\ttotal: 2.24s\tremaining: 526ms\n",
      "81:\tlearn: 893.0273631\ttotal: 2.27s\tremaining: 498ms\n",
      "82:\tlearn: 892.2145182\ttotal: 2.3s\tremaining: 471ms\n",
      "83:\tlearn: 891.4111776\ttotal: 2.32s\tremaining: 443ms\n",
      "84:\tlearn: 890.6828399\ttotal: 2.35s\tremaining: 415ms\n",
      "85:\tlearn: 889.6495855\ttotal: 2.38s\tremaining: 387ms\n",
      "86:\tlearn: 888.7530383\ttotal: 2.41s\tremaining: 360ms\n",
      "87:\tlearn: 887.7449720\ttotal: 2.43s\tremaining: 332ms\n",
      "88:\tlearn: 886.8759568\ttotal: 2.46s\tremaining: 304ms\n",
      "89:\tlearn: 886.2768001\ttotal: 2.49s\tremaining: 277ms\n",
      "90:\tlearn: 885.6821916\ttotal: 2.52s\tremaining: 249ms\n",
      "91:\tlearn: 884.3684448\ttotal: 2.54s\tremaining: 221ms\n",
      "92:\tlearn: 883.3690523\ttotal: 2.57s\tremaining: 193ms\n",
      "93:\tlearn: 882.9657553\ttotal: 2.6s\tremaining: 166ms\n",
      "94:\tlearn: 882.1506037\ttotal: 2.62s\tremaining: 138ms\n",
      "95:\tlearn: 881.3790229\ttotal: 2.65s\tremaining: 111ms\n",
      "96:\tlearn: 880.8612446\ttotal: 2.68s\tremaining: 82.9ms\n",
      "97:\tlearn: 879.9415759\ttotal: 2.71s\tremaining: 55.3ms\n",
      "98:\tlearn: 879.2178312\ttotal: 2.74s\tremaining: 27.6ms\n",
      "99:\tlearn: 878.4136981\ttotal: 2.76s\tremaining: 0us\n",
      "0:\tlearn: 1839.6069024\ttotal: 28.1ms\tremaining: 2.78s\n",
      "1:\tlearn: 1688.0560196\ttotal: 55.4ms\tremaining: 2.71s\n",
      "2:\tlearn: 1566.3047776\ttotal: 83.9ms\tremaining: 2.71s\n",
      "3:\tlearn: 1468.2245413\ttotal: 112ms\tremaining: 2.68s\n",
      "4:\tlearn: 1386.0182459\ttotal: 140ms\tremaining: 2.66s\n",
      "5:\tlearn: 1323.9012437\ttotal: 168ms\tremaining: 2.63s\n",
      "6:\tlearn: 1270.7593357\ttotal: 195ms\tremaining: 2.6s\n",
      "7:\tlearn: 1220.8312844\ttotal: 222ms\tremaining: 2.56s\n",
      "8:\tlearn: 1180.3170636\ttotal: 249ms\tremaining: 2.52s\n",
      "9:\tlearn: 1153.1298262\ttotal: 278ms\tremaining: 2.5s\n",
      "10:\tlearn: 1128.6321633\ttotal: 306ms\tremaining: 2.47s\n",
      "11:\tlearn: 1106.4684396\ttotal: 333ms\tremaining: 2.44s\n",
      "12:\tlearn: 1089.3770328\ttotal: 360ms\tremaining: 2.41s\n",
      "13:\tlearn: 1075.0106790\ttotal: 388ms\tremaining: 2.38s\n",
      "14:\tlearn: 1063.2870115\ttotal: 418ms\tremaining: 2.37s\n",
      "15:\tlearn: 1050.6877767\ttotal: 445ms\tremaining: 2.34s\n",
      "16:\tlearn: 1039.5679176\ttotal: 473ms\tremaining: 2.31s\n",
      "17:\tlearn: 1029.2501655\ttotal: 501ms\tremaining: 2.28s\n",
      "18:\tlearn: 1020.6083598\ttotal: 529ms\tremaining: 2.25s\n",
      "19:\tlearn: 1014.0697436\ttotal: 557ms\tremaining: 2.23s\n",
      "20:\tlearn: 1009.1369767\ttotal: 584ms\tremaining: 2.2s\n",
      "21:\tlearn: 1003.2155634\ttotal: 613ms\tremaining: 2.17s\n",
      "22:\tlearn: 997.3160202\ttotal: 640ms\tremaining: 2.14s\n",
      "23:\tlearn: 993.5567744\ttotal: 667ms\tremaining: 2.11s\n",
      "24:\tlearn: 989.0260830\ttotal: 695ms\tremaining: 2.08s\n",
      "25:\tlearn: 986.1690794\ttotal: 723ms\tremaining: 2.06s\n",
      "26:\tlearn: 981.8315797\ttotal: 752ms\tremaining: 2.03s\n",
      "27:\tlearn: 978.2833954\ttotal: 779ms\tremaining: 2s\n",
      "28:\tlearn: 975.0928219\ttotal: 807ms\tremaining: 1.98s\n",
      "29:\tlearn: 972.0923134\ttotal: 834ms\tremaining: 1.95s\n",
      "30:\tlearn: 970.0542135\ttotal: 861ms\tremaining: 1.92s\n",
      "31:\tlearn: 967.1999971\ttotal: 888ms\tremaining: 1.89s\n",
      "32:\tlearn: 964.7833505\ttotal: 916ms\tremaining: 1.86s\n",
      "33:\tlearn: 962.5755356\ttotal: 945ms\tremaining: 1.83s\n",
      "34:\tlearn: 959.2705208\ttotal: 973ms\tremaining: 1.81s\n",
      "35:\tlearn: 956.9850226\ttotal: 1s\tremaining: 1.78s\n",
      "36:\tlearn: 954.5921521\ttotal: 1.03s\tremaining: 1.75s\n",
      "37:\tlearn: 952.2834922\ttotal: 1.05s\tremaining: 1.72s\n",
      "38:\tlearn: 950.8482435\ttotal: 1.08s\tremaining: 1.7s\n",
      "39:\tlearn: 949.3871955\ttotal: 1.11s\tremaining: 1.67s\n",
      "40:\tlearn: 947.5007073\ttotal: 1.14s\tremaining: 1.64s\n",
      "41:\tlearn: 945.4148814\ttotal: 1.17s\tremaining: 1.61s\n",
      "42:\tlearn: 942.8341119\ttotal: 1.19s\tremaining: 1.58s\n",
      "43:\tlearn: 941.3785982\ttotal: 1.22s\tremaining: 1.55s\n",
      "44:\tlearn: 940.1959172\ttotal: 1.25s\tremaining: 1.53s\n",
      "45:\tlearn: 939.0038496\ttotal: 1.28s\tremaining: 1.5s\n",
      "46:\tlearn: 936.8312987\ttotal: 1.3s\tremaining: 1.47s\n",
      "47:\tlearn: 934.6327361\ttotal: 1.33s\tremaining: 1.44s\n",
      "48:\tlearn: 932.8684884\ttotal: 1.36s\tremaining: 1.41s\n",
      "49:\tlearn: 931.0321674\ttotal: 1.39s\tremaining: 1.39s\n",
      "50:\tlearn: 929.9016594\ttotal: 1.42s\tremaining: 1.36s\n",
      "51:\tlearn: 928.9122793\ttotal: 1.44s\tremaining: 1.33s\n",
      "52:\tlearn: 927.5725149\ttotal: 1.47s\tremaining: 1.3s\n",
      "53:\tlearn: 926.4123607\ttotal: 1.5s\tremaining: 1.28s\n",
      "54:\tlearn: 925.3068505\ttotal: 1.53s\tremaining: 1.25s\n",
      "55:\tlearn: 924.3530900\ttotal: 1.55s\tremaining: 1.22s\n",
      "56:\tlearn: 923.4151591\ttotal: 1.58s\tremaining: 1.19s\n",
      "57:\tlearn: 921.6645666\ttotal: 1.61s\tremaining: 1.17s\n",
      "58:\tlearn: 921.0701835\ttotal: 1.64s\tremaining: 1.14s\n",
      "59:\tlearn: 920.1278180\ttotal: 1.66s\tremaining: 1.11s\n",
      "60:\tlearn: 918.9557695\ttotal: 1.69s\tremaining: 1.08s\n",
      "61:\tlearn: 917.8965821\ttotal: 1.72s\tremaining: 1.05s\n",
      "62:\tlearn: 917.1120350\ttotal: 1.75s\tremaining: 1.02s\n",
      "63:\tlearn: 916.1046636\ttotal: 1.77s\tremaining: 997ms\n",
      "64:\tlearn: 914.4254674\ttotal: 1.8s\tremaining: 970ms\n",
      "65:\tlearn: 913.4113113\ttotal: 1.83s\tremaining: 942ms\n",
      "66:\tlearn: 912.0412360\ttotal: 1.85s\tremaining: 914ms\n",
      "67:\tlearn: 911.2346775\ttotal: 1.88s\tremaining: 886ms\n",
      "68:\tlearn: 910.0035787\ttotal: 1.91s\tremaining: 858ms\n",
      "69:\tlearn: 909.0446674\ttotal: 1.94s\tremaining: 831ms\n",
      "70:\tlearn: 907.3866537\ttotal: 1.97s\tremaining: 804ms\n",
      "71:\tlearn: 906.0410653\ttotal: 2s\tremaining: 776ms\n",
      "72:\tlearn: 904.9876040\ttotal: 2.02s\tremaining: 748ms\n",
      "73:\tlearn: 904.6523830\ttotal: 2.05s\tremaining: 721ms\n",
      "74:\tlearn: 903.4528983\ttotal: 2.08s\tremaining: 693ms\n",
      "75:\tlearn: 902.0156084\ttotal: 2.1s\tremaining: 665ms\n",
      "76:\tlearn: 900.9630416\ttotal: 2.13s\tremaining: 637ms\n",
      "77:\tlearn: 900.2377825\ttotal: 2.16s\tremaining: 610ms\n",
      "78:\tlearn: 899.6322844\ttotal: 2.19s\tremaining: 582ms\n",
      "79:\tlearn: 898.8891498\ttotal: 2.22s\tremaining: 554ms\n",
      "80:\tlearn: 897.8971435\ttotal: 2.24s\tremaining: 526ms\n",
      "81:\tlearn: 896.5370294\ttotal: 2.27s\tremaining: 499ms\n",
      "82:\tlearn: 895.5034208\ttotal: 2.3s\tremaining: 471ms\n",
      "83:\tlearn: 894.2234267\ttotal: 2.33s\tremaining: 443ms\n",
      "84:\tlearn: 893.2584254\ttotal: 2.35s\tremaining: 415ms\n",
      "85:\tlearn: 892.2561120\ttotal: 2.38s\tremaining: 388ms\n",
      "86:\tlearn: 891.6081958\ttotal: 2.41s\tremaining: 360ms\n",
      "87:\tlearn: 891.0998396\ttotal: 2.44s\tremaining: 332ms\n",
      "88:\tlearn: 889.9582207\ttotal: 2.46s\tremaining: 305ms\n",
      "89:\tlearn: 888.9693680\ttotal: 2.49s\tremaining: 277ms\n",
      "90:\tlearn: 888.2494780\ttotal: 2.52s\tremaining: 249ms\n",
      "91:\tlearn: 887.3418579\ttotal: 2.55s\tremaining: 222ms\n",
      "92:\tlearn: 885.9559496\ttotal: 2.58s\tremaining: 194ms\n",
      "93:\tlearn: 885.5233161\ttotal: 2.61s\tremaining: 167ms\n",
      "94:\tlearn: 884.8434498\ttotal: 2.64s\tremaining: 139ms\n",
      "95:\tlearn: 884.3818274\ttotal: 2.67s\tremaining: 111ms\n",
      "96:\tlearn: 883.7133074\ttotal: 2.71s\tremaining: 83.7ms\n",
      "97:\tlearn: 882.9513997\ttotal: 2.74s\tremaining: 55.8ms\n",
      "98:\tlearn: 882.1885741\ttotal: 2.77s\tremaining: 28ms\n",
      "99:\tlearn: 882.0268019\ttotal: 2.8s\tremaining: 0us\n",
      "0:\tlearn: 1836.0634992\ttotal: 147ms\tremaining: 14.5s\n",
      "1:\tlearn: 1682.0111211\ttotal: 279ms\tremaining: 13.7s\n",
      "2:\tlearn: 1556.5635236\ttotal: 419ms\tremaining: 13.6s\n",
      "3:\tlearn: 1456.8627344\ttotal: 559ms\tremaining: 13.4s\n",
      "4:\tlearn: 1372.6161496\ttotal: 699ms\tremaining: 13.3s\n",
      "5:\tlearn: 1304.5049345\ttotal: 829ms\tremaining: 13s\n",
      "6:\tlearn: 1247.2535558\ttotal: 962ms\tremaining: 12.8s\n",
      "7:\tlearn: 1198.0390163\ttotal: 1.09s\tremaining: 12.6s\n",
      "8:\tlearn: 1160.5934387\ttotal: 1.23s\tremaining: 12.5s\n",
      "9:\tlearn: 1130.8746740\ttotal: 1.37s\tremaining: 12.4s\n",
      "10:\tlearn: 1105.5830111\ttotal: 1.51s\tremaining: 12.2s\n",
      "11:\tlearn: 1082.6205221\ttotal: 1.63s\tremaining: 12s\n",
      "12:\tlearn: 1064.7142588\ttotal: 1.76s\tremaining: 11.8s\n",
      "13:\tlearn: 1050.1237708\ttotal: 1.89s\tremaining: 11.6s\n",
      "14:\tlearn: 1036.3629547\ttotal: 2.03s\tremaining: 11.5s\n",
      "15:\tlearn: 1021.5717274\ttotal: 2.17s\tremaining: 11.4s\n",
      "16:\tlearn: 1009.6751675\ttotal: 2.3s\tremaining: 11.2s\n",
      "17:\tlearn: 1002.4107576\ttotal: 2.43s\tremaining: 11.1s\n",
      "18:\tlearn: 995.3226057\ttotal: 2.57s\tremaining: 11s\n",
      "19:\tlearn: 988.5879705\ttotal: 2.7s\tremaining: 10.8s\n",
      "20:\tlearn: 982.3344673\ttotal: 2.84s\tremaining: 10.7s\n",
      "21:\tlearn: 978.4459821\ttotal: 2.97s\tremaining: 10.5s\n",
      "22:\tlearn: 972.0211372\ttotal: 3.11s\tremaining: 10.4s\n",
      "23:\tlearn: 967.7726165\ttotal: 3.24s\tremaining: 10.3s\n",
      "24:\tlearn: 962.9132085\ttotal: 3.37s\tremaining: 10.1s\n",
      "25:\tlearn: 959.1802979\ttotal: 3.5s\tremaining: 9.95s\n",
      "26:\tlearn: 954.6276653\ttotal: 3.62s\tremaining: 9.79s\n",
      "27:\tlearn: 950.9681224\ttotal: 3.76s\tremaining: 9.66s\n",
      "28:\tlearn: 948.6289971\ttotal: 3.89s\tremaining: 9.53s\n",
      "29:\tlearn: 945.8910648\ttotal: 4.03s\tremaining: 9.39s\n",
      "30:\tlearn: 943.2963024\ttotal: 4.15s\tremaining: 9.24s\n",
      "31:\tlearn: 941.6012872\ttotal: 4.28s\tremaining: 9.09s\n",
      "32:\tlearn: 939.7240389\ttotal: 4.41s\tremaining: 8.95s\n",
      "33:\tlearn: 936.3656140\ttotal: 4.53s\tremaining: 8.8s\n",
      "34:\tlearn: 933.8520078\ttotal: 4.66s\tremaining: 8.66s\n",
      "35:\tlearn: 931.1040528\ttotal: 4.79s\tremaining: 8.52s\n",
      "36:\tlearn: 929.4151643\ttotal: 4.92s\tremaining: 8.38s\n",
      "37:\tlearn: 927.1414005\ttotal: 5.06s\tremaining: 8.25s\n",
      "38:\tlearn: 925.9359065\ttotal: 5.11s\tremaining: 7.99s\n",
      "39:\tlearn: 923.8267356\ttotal: 5.23s\tremaining: 7.85s\n",
      "40:\tlearn: 921.7309757\ttotal: 5.36s\tremaining: 7.71s\n",
      "41:\tlearn: 920.1093703\ttotal: 5.49s\tremaining: 7.58s\n",
      "42:\tlearn: 918.5536815\ttotal: 5.63s\tremaining: 7.46s\n",
      "43:\tlearn: 916.3553368\ttotal: 5.76s\tremaining: 7.33s\n",
      "44:\tlearn: 915.1207901\ttotal: 5.88s\tremaining: 7.19s\n",
      "45:\tlearn: 913.2710684\ttotal: 6.01s\tremaining: 7.06s\n",
      "46:\tlearn: 910.3014385\ttotal: 6.14s\tremaining: 6.92s\n",
      "47:\tlearn: 907.9027567\ttotal: 6.27s\tremaining: 6.79s\n",
      "48:\tlearn: 906.7209556\ttotal: 6.4s\tremaining: 6.66s\n",
      "49:\tlearn: 905.3817108\ttotal: 6.54s\tremaining: 6.54s\n",
      "50:\tlearn: 903.9881242\ttotal: 6.67s\tremaining: 6.41s\n",
      "51:\tlearn: 902.7773318\ttotal: 6.8s\tremaining: 6.28s\n",
      "52:\tlearn: 901.6558513\ttotal: 6.94s\tremaining: 6.15s\n",
      "53:\tlearn: 900.7802313\ttotal: 7.07s\tremaining: 6.02s\n",
      "54:\tlearn: 899.1265875\ttotal: 7.2s\tremaining: 5.89s\n",
      "55:\tlearn: 897.6482392\ttotal: 7.33s\tremaining: 5.76s\n",
      "56:\tlearn: 896.7344787\ttotal: 7.46s\tremaining: 5.63s\n",
      "57:\tlearn: 895.0229617\ttotal: 7.6s\tremaining: 5.5s\n",
      "58:\tlearn: 893.4077412\ttotal: 7.74s\tremaining: 5.38s\n",
      "59:\tlearn: 892.3221202\ttotal: 7.87s\tremaining: 5.25s\n",
      "60:\tlearn: 890.8385315\ttotal: 8.01s\tremaining: 5.12s\n",
      "61:\tlearn: 888.7074762\ttotal: 8.14s\tremaining: 4.99s\n",
      "62:\tlearn: 887.6899569\ttotal: 8.27s\tremaining: 4.86s\n",
      "63:\tlearn: 886.8689652\ttotal: 8.39s\tremaining: 4.72s\n",
      "64:\tlearn: 885.8440881\ttotal: 8.52s\tremaining: 4.59s\n",
      "65:\tlearn: 883.6236733\ttotal: 8.65s\tremaining: 4.45s\n",
      "66:\tlearn: 881.9837909\ttotal: 8.78s\tremaining: 4.32s\n",
      "67:\tlearn: 880.7033624\ttotal: 8.91s\tremaining: 4.19s\n",
      "68:\tlearn: 879.4607553\ttotal: 9.03s\tremaining: 4.06s\n",
      "69:\tlearn: 878.1097643\ttotal: 9.16s\tremaining: 3.93s\n",
      "70:\tlearn: 876.8956872\ttotal: 9.3s\tremaining: 3.8s\n",
      "71:\tlearn: 875.3920584\ttotal: 9.43s\tremaining: 3.67s\n",
      "72:\tlearn: 873.4687980\ttotal: 9.57s\tremaining: 3.54s\n",
      "73:\tlearn: 872.0107608\ttotal: 9.71s\tremaining: 3.41s\n",
      "74:\tlearn: 870.8539351\ttotal: 9.86s\tremaining: 3.29s\n",
      "75:\tlearn: 869.4184948\ttotal: 9.99s\tremaining: 3.16s\n",
      "76:\tlearn: 868.3018856\ttotal: 10.1s\tremaining: 3.03s\n",
      "77:\tlearn: 867.6901213\ttotal: 10.3s\tremaining: 2.9s\n",
      "78:\tlearn: 866.8307727\ttotal: 10.4s\tremaining: 2.77s\n",
      "79:\tlearn: 866.0876392\ttotal: 10.5s\tremaining: 2.64s\n",
      "80:\tlearn: 864.9428497\ttotal: 10.7s\tremaining: 2.5s\n",
      "81:\tlearn: 863.9994749\ttotal: 10.8s\tremaining: 2.37s\n",
      "82:\tlearn: 862.5874421\ttotal: 10.9s\tremaining: 2.24s\n",
      "83:\tlearn: 861.3447890\ttotal: 11.1s\tremaining: 2.11s\n",
      "84:\tlearn: 860.0857870\ttotal: 11.2s\tremaining: 1.98s\n",
      "85:\tlearn: 858.9540026\ttotal: 11.3s\tremaining: 1.84s\n",
      "86:\tlearn: 858.1751173\ttotal: 11.5s\tremaining: 1.71s\n",
      "87:\tlearn: 857.2630793\ttotal: 11.6s\tremaining: 1.58s\n",
      "88:\tlearn: 856.5636535\ttotal: 11.7s\tremaining: 1.45s\n",
      "89:\tlearn: 855.8408862\ttotal: 11.9s\tremaining: 1.32s\n",
      "90:\tlearn: 854.6540001\ttotal: 12s\tremaining: 1.19s\n",
      "91:\tlearn: 854.0014953\ttotal: 12.1s\tremaining: 1.05s\n",
      "92:\tlearn: 853.3012534\ttotal: 12.3s\tremaining: 922ms\n",
      "93:\tlearn: 852.8562020\ttotal: 12.4s\tremaining: 790ms\n",
      "94:\tlearn: 852.2440676\ttotal: 12.5s\tremaining: 658ms\n",
      "95:\tlearn: 850.7815272\ttotal: 12.6s\tremaining: 527ms\n",
      "96:\tlearn: 849.7627137\ttotal: 12.8s\tremaining: 395ms\n",
      "97:\tlearn: 848.8809133\ttotal: 12.9s\tremaining: 263ms\n",
      "98:\tlearn: 848.6392169\ttotal: 12.9s\tremaining: 131ms\n",
      "99:\tlearn: 847.7089362\ttotal: 13.1s\tremaining: 0us\n",
      "0:\tlearn: 1836.1491349\ttotal: 143ms\tremaining: 14.2s\n",
      "1:\tlearn: 1680.1679013\ttotal: 282ms\tremaining: 13.8s\n",
      "2:\tlearn: 1552.9744392\ttotal: 435ms\tremaining: 14.1s\n",
      "3:\tlearn: 1452.8870746\ttotal: 576ms\tremaining: 13.8s\n",
      "4:\tlearn: 1370.3988085\ttotal: 720ms\tremaining: 13.7s\n",
      "5:\tlearn: 1298.0939425\ttotal: 852ms\tremaining: 13.4s\n",
      "6:\tlearn: 1236.2437570\ttotal: 985ms\tremaining: 13.1s\n",
      "7:\tlearn: 1190.7057421\ttotal: 1.12s\tremaining: 12.9s\n",
      "8:\tlearn: 1149.5106779\ttotal: 1.25s\tremaining: 12.6s\n",
      "9:\tlearn: 1118.4320651\ttotal: 1.38s\tremaining: 12.4s\n",
      "10:\tlearn: 1091.1026358\ttotal: 1.51s\tremaining: 12.3s\n",
      "11:\tlearn: 1069.3566765\ttotal: 1.65s\tremaining: 12.1s\n",
      "12:\tlearn: 1050.9348870\ttotal: 1.78s\tremaining: 11.9s\n",
      "13:\tlearn: 1035.8827825\ttotal: 1.92s\tremaining: 11.8s\n",
      "14:\tlearn: 1024.4961262\ttotal: 2.05s\tremaining: 11.6s\n",
      "15:\tlearn: 1012.6312938\ttotal: 2.18s\tremaining: 11.5s\n",
      "16:\tlearn: 1003.2241074\ttotal: 2.31s\tremaining: 11.3s\n",
      "17:\tlearn: 996.1276921\ttotal: 2.44s\tremaining: 11.1s\n",
      "18:\tlearn: 986.2217944\ttotal: 2.57s\tremaining: 10.9s\n",
      "19:\tlearn: 977.7744600\ttotal: 2.7s\tremaining: 10.8s\n",
      "20:\tlearn: 973.3151631\ttotal: 2.84s\tremaining: 10.7s\n",
      "21:\tlearn: 968.0744345\ttotal: 2.97s\tremaining: 10.5s\n",
      "22:\tlearn: 961.7721082\ttotal: 3.1s\tremaining: 10.4s\n",
      "23:\tlearn: 957.2554640\ttotal: 3.23s\tremaining: 10.2s\n",
      "24:\tlearn: 952.4045547\ttotal: 3.36s\tremaining: 10.1s\n",
      "25:\tlearn: 949.0457870\ttotal: 3.49s\tremaining: 9.94s\n",
      "26:\tlearn: 945.4872291\ttotal: 3.62s\tremaining: 9.8s\n",
      "27:\tlearn: 942.4406013\ttotal: 3.75s\tremaining: 9.65s\n",
      "28:\tlearn: 939.7475333\ttotal: 3.89s\tremaining: 9.52s\n",
      "29:\tlearn: 937.4939246\ttotal: 4.02s\tremaining: 9.38s\n",
      "30:\tlearn: 934.1084376\ttotal: 4.15s\tremaining: 9.24s\n",
      "31:\tlearn: 932.5776256\ttotal: 4.28s\tremaining: 9.09s\n",
      "32:\tlearn: 929.9751801\ttotal: 4.41s\tremaining: 8.95s\n",
      "33:\tlearn: 928.1542040\ttotal: 4.54s\tremaining: 8.82s\n",
      "34:\tlearn: 925.8674060\ttotal: 4.67s\tremaining: 8.67s\n",
      "35:\tlearn: 924.1533115\ttotal: 4.8s\tremaining: 8.54s\n",
      "36:\tlearn: 922.7219061\ttotal: 4.93s\tremaining: 8.39s\n",
      "37:\tlearn: 920.0825224\ttotal: 5.06s\tremaining: 8.25s\n",
      "38:\tlearn: 917.3503700\ttotal: 5.18s\tremaining: 8.11s\n",
      "39:\tlearn: 915.6457346\ttotal: 5.31s\tremaining: 7.97s\n",
      "40:\tlearn: 913.4314782\ttotal: 5.44s\tremaining: 7.83s\n",
      "41:\tlearn: 912.6090975\ttotal: 5.57s\tremaining: 7.69s\n",
      "42:\tlearn: 911.0941794\ttotal: 5.7s\tremaining: 7.55s\n",
      "43:\tlearn: 909.1943929\ttotal: 5.83s\tremaining: 7.42s\n",
      "44:\tlearn: 908.0061072\ttotal: 5.95s\tremaining: 7.28s\n",
      "45:\tlearn: 906.2698163\ttotal: 6.08s\tremaining: 7.14s\n",
      "46:\tlearn: 903.5491745\ttotal: 6.21s\tremaining: 7.01s\n",
      "47:\tlearn: 902.2685024\ttotal: 6.34s\tremaining: 6.87s\n",
      "48:\tlearn: 900.4541998\ttotal: 6.47s\tremaining: 6.74s\n",
      "49:\tlearn: 898.7837846\ttotal: 6.6s\tremaining: 6.6s\n",
      "50:\tlearn: 897.3829877\ttotal: 6.72s\tremaining: 6.46s\n",
      "51:\tlearn: 895.9942507\ttotal: 6.86s\tremaining: 6.33s\n",
      "52:\tlearn: 894.3963533\ttotal: 6.98s\tremaining: 6.19s\n",
      "53:\tlearn: 892.8779390\ttotal: 7.11s\tremaining: 6.05s\n",
      "54:\tlearn: 891.3448626\ttotal: 7.24s\tremaining: 5.92s\n",
      "55:\tlearn: 889.6694914\ttotal: 7.37s\tremaining: 5.79s\n",
      "56:\tlearn: 888.3648002\ttotal: 7.49s\tremaining: 5.65s\n",
      "57:\tlearn: 886.7031790\ttotal: 7.62s\tremaining: 5.52s\n",
      "58:\tlearn: 885.6140222\ttotal: 7.75s\tremaining: 5.38s\n",
      "59:\tlearn: 884.4324817\ttotal: 7.88s\tremaining: 5.25s\n",
      "60:\tlearn: 883.5080999\ttotal: 8.01s\tremaining: 5.12s\n",
      "61:\tlearn: 882.3274239\ttotal: 8.13s\tremaining: 4.99s\n",
      "62:\tlearn: 881.3727803\ttotal: 8.26s\tremaining: 4.85s\n",
      "63:\tlearn: 880.0526077\ttotal: 8.39s\tremaining: 4.72s\n",
      "64:\tlearn: 878.4551851\ttotal: 8.53s\tremaining: 4.59s\n",
      "65:\tlearn: 877.0262141\ttotal: 8.66s\tremaining: 4.46s\n",
      "66:\tlearn: 876.1734797\ttotal: 8.78s\tremaining: 4.33s\n",
      "67:\tlearn: 875.0387416\ttotal: 8.91s\tremaining: 4.19s\n",
      "68:\tlearn: 874.5235219\ttotal: 9.04s\tremaining: 4.06s\n",
      "69:\tlearn: 873.2440839\ttotal: 9.17s\tremaining: 3.93s\n",
      "70:\tlearn: 872.1959503\ttotal: 9.3s\tremaining: 3.8s\n",
      "71:\tlearn: 871.3582739\ttotal: 9.42s\tremaining: 3.67s\n",
      "72:\tlearn: 870.4605405\ttotal: 9.55s\tremaining: 3.53s\n",
      "73:\tlearn: 869.2083408\ttotal: 9.68s\tremaining: 3.4s\n",
      "74:\tlearn: 868.2134003\ttotal: 9.81s\tremaining: 3.27s\n",
      "75:\tlearn: 867.0326074\ttotal: 9.93s\tremaining: 3.14s\n",
      "76:\tlearn: 865.5524774\ttotal: 10.1s\tremaining: 3.01s\n",
      "77:\tlearn: 864.4985003\ttotal: 10.2s\tremaining: 2.88s\n",
      "78:\tlearn: 862.8359103\ttotal: 10.3s\tremaining: 2.74s\n",
      "79:\tlearn: 861.4245229\ttotal: 10.5s\tremaining: 2.61s\n",
      "80:\tlearn: 860.6434586\ttotal: 10.6s\tremaining: 2.48s\n",
      "81:\tlearn: 859.7761075\ttotal: 10.7s\tremaining: 2.35s\n",
      "82:\tlearn: 858.6647944\ttotal: 10.8s\tremaining: 2.22s\n",
      "83:\tlearn: 857.7829438\ttotal: 11s\tremaining: 2.09s\n",
      "84:\tlearn: 856.4926434\ttotal: 11.1s\tremaining: 1.96s\n",
      "85:\tlearn: 855.4404107\ttotal: 11.2s\tremaining: 1.83s\n",
      "86:\tlearn: 854.2889846\ttotal: 11.3s\tremaining: 1.7s\n",
      "87:\tlearn: 852.9729581\ttotal: 11.5s\tremaining: 1.56s\n",
      "88:\tlearn: 851.5937732\ttotal: 11.6s\tremaining: 1.43s\n",
      "89:\tlearn: 850.9365543\ttotal: 11.8s\tremaining: 1.3s\n",
      "90:\tlearn: 849.8291710\ttotal: 11.9s\tremaining: 1.17s\n",
      "91:\tlearn: 848.5917034\ttotal: 12s\tremaining: 1.04s\n",
      "92:\tlearn: 847.2520670\ttotal: 12.1s\tremaining: 914ms\n",
      "93:\tlearn: 846.7217755\ttotal: 12.3s\tremaining: 783ms\n",
      "94:\tlearn: 845.7978111\ttotal: 12.4s\tremaining: 652ms\n",
      "95:\tlearn: 845.1479658\ttotal: 12.5s\tremaining: 522ms\n",
      "96:\tlearn: 844.0683093\ttotal: 12.6s\tremaining: 391ms\n",
      "97:\tlearn: 843.2529828\ttotal: 12.8s\tremaining: 261ms\n",
      "98:\tlearn: 842.5012223\ttotal: 12.9s\tremaining: 130ms\n",
      "99:\tlearn: 841.9194346\ttotal: 13s\tremaining: 0us\n",
      "0:\tlearn: 1834.1940446\ttotal: 128ms\tremaining: 12.7s\n",
      "1:\tlearn: 1679.3919618\ttotal: 253ms\tremaining: 12.4s\n",
      "2:\tlearn: 1553.7219054\ttotal: 381ms\tremaining: 12.3s\n",
      "3:\tlearn: 1451.2591964\ttotal: 507ms\tremaining: 12.2s\n",
      "4:\tlearn: 1366.5527275\ttotal: 635ms\tremaining: 12.1s\n",
      "5:\tlearn: 1296.8835206\ttotal: 760ms\tremaining: 11.9s\n",
      "6:\tlearn: 1242.7772054\ttotal: 891ms\tremaining: 11.8s\n",
      "7:\tlearn: 1194.5015977\ttotal: 1.02s\tremaining: 11.7s\n",
      "8:\tlearn: 1155.3225015\ttotal: 1.15s\tremaining: 11.6s\n",
      "9:\tlearn: 1124.8722189\ttotal: 1.28s\tremaining: 11.5s\n",
      "10:\tlearn: 1096.4233146\ttotal: 1.41s\tremaining: 11.4s\n",
      "11:\tlearn: 1070.7909187\ttotal: 1.54s\tremaining: 11.3s\n",
      "12:\tlearn: 1051.5097022\ttotal: 1.67s\tremaining: 11.2s\n",
      "13:\tlearn: 1037.5692855\ttotal: 1.79s\tremaining: 11s\n",
      "14:\tlearn: 1026.2604706\ttotal: 1.93s\tremaining: 10.9s\n",
      "15:\tlearn: 1015.5316566\ttotal: 2.06s\tremaining: 10.8s\n",
      "16:\tlearn: 1004.2168319\ttotal: 2.18s\tremaining: 10.7s\n",
      "17:\tlearn: 994.9874802\ttotal: 2.31s\tremaining: 10.5s\n",
      "18:\tlearn: 987.0710577\ttotal: 2.43s\tremaining: 10.4s\n",
      "19:\tlearn: 980.8543811\ttotal: 2.56s\tremaining: 10.2s\n",
      "20:\tlearn: 975.1436391\ttotal: 2.69s\tremaining: 10.1s\n",
      "21:\tlearn: 969.1818787\ttotal: 2.82s\tremaining: 9.99s\n",
      "22:\tlearn: 963.4187321\ttotal: 2.95s\tremaining: 9.88s\n",
      "23:\tlearn: 959.9729332\ttotal: 3.08s\tremaining: 9.75s\n",
      "24:\tlearn: 955.8116162\ttotal: 3.21s\tremaining: 9.63s\n",
      "25:\tlearn: 952.3684137\ttotal: 3.34s\tremaining: 9.52s\n",
      "26:\tlearn: 949.7319370\ttotal: 3.47s\tremaining: 9.38s\n",
      "27:\tlearn: 945.6457646\ttotal: 3.6s\tremaining: 9.27s\n",
      "28:\tlearn: 941.7833264\ttotal: 3.74s\tremaining: 9.16s\n",
      "29:\tlearn: 938.3071919\ttotal: 3.87s\tremaining: 9.04s\n",
      "30:\tlearn: 935.8510113\ttotal: 4s\tremaining: 8.9s\n",
      "31:\tlearn: 934.5552123\ttotal: 4.13s\tremaining: 8.77s\n",
      "32:\tlearn: 932.0900587\ttotal: 4.25s\tremaining: 8.64s\n",
      "33:\tlearn: 929.8670945\ttotal: 4.38s\tremaining: 8.51s\n",
      "34:\tlearn: 927.7924943\ttotal: 4.51s\tremaining: 8.38s\n",
      "35:\tlearn: 925.9784011\ttotal: 4.66s\tremaining: 8.28s\n",
      "36:\tlearn: 923.5170034\ttotal: 4.79s\tremaining: 8.16s\n",
      "37:\tlearn: 921.3384527\ttotal: 4.92s\tremaining: 8.04s\n",
      "38:\tlearn: 919.4538435\ttotal: 5.05s\tremaining: 7.9s\n",
      "39:\tlearn: 916.8488750\ttotal: 5.19s\tremaining: 7.78s\n",
      "40:\tlearn: 915.5691218\ttotal: 5.33s\tremaining: 7.67s\n",
      "41:\tlearn: 914.0809519\ttotal: 5.46s\tremaining: 7.54s\n",
      "42:\tlearn: 911.8774171\ttotal: 5.59s\tremaining: 7.41s\n",
      "43:\tlearn: 909.8110577\ttotal: 5.72s\tremaining: 7.28s\n",
      "44:\tlearn: 908.4280640\ttotal: 5.85s\tremaining: 7.15s\n",
      "45:\tlearn: 906.4942817\ttotal: 5.98s\tremaining: 7.02s\n",
      "46:\tlearn: 905.3176698\ttotal: 6.11s\tremaining: 6.89s\n",
      "47:\tlearn: 903.4560081\ttotal: 6.24s\tremaining: 6.76s\n",
      "48:\tlearn: 901.7003116\ttotal: 6.36s\tremaining: 6.62s\n",
      "49:\tlearn: 900.0496923\ttotal: 6.49s\tremaining: 6.49s\n",
      "50:\tlearn: 898.3755580\ttotal: 6.61s\tremaining: 6.35s\n",
      "51:\tlearn: 897.0762427\ttotal: 6.74s\tremaining: 6.22s\n",
      "52:\tlearn: 895.3290852\ttotal: 6.87s\tremaining: 6.09s\n",
      "53:\tlearn: 894.0836585\ttotal: 6.99s\tremaining: 5.96s\n",
      "54:\tlearn: 892.7837403\ttotal: 7.13s\tremaining: 5.83s\n",
      "55:\tlearn: 891.6258408\ttotal: 7.25s\tremaining: 5.7s\n",
      "56:\tlearn: 890.4792700\ttotal: 7.38s\tremaining: 5.57s\n",
      "57:\tlearn: 889.1583651\ttotal: 7.5s\tremaining: 5.43s\n",
      "58:\tlearn: 887.5501310\ttotal: 7.63s\tremaining: 5.3s\n",
      "59:\tlearn: 886.0257219\ttotal: 7.75s\tremaining: 5.17s\n",
      "60:\tlearn: 884.9130414\ttotal: 7.88s\tremaining: 5.04s\n",
      "61:\tlearn: 883.6159588\ttotal: 8.01s\tremaining: 4.91s\n",
      "62:\tlearn: 882.6155631\ttotal: 8.13s\tremaining: 4.78s\n",
      "63:\tlearn: 881.4425674\ttotal: 8.26s\tremaining: 4.65s\n",
      "64:\tlearn: 880.1561021\ttotal: 8.39s\tremaining: 4.52s\n",
      "65:\tlearn: 878.8823610\ttotal: 8.52s\tremaining: 4.39s\n",
      "66:\tlearn: 877.5457507\ttotal: 8.64s\tremaining: 4.26s\n",
      "67:\tlearn: 876.0044743\ttotal: 8.77s\tremaining: 4.13s\n",
      "68:\tlearn: 874.9598696\ttotal: 8.9s\tremaining: 4s\n",
      "69:\tlearn: 873.9842772\ttotal: 9.02s\tremaining: 3.87s\n",
      "70:\tlearn: 872.8031735\ttotal: 9.15s\tremaining: 3.74s\n",
      "71:\tlearn: 872.0263291\ttotal: 9.27s\tremaining: 3.61s\n",
      "72:\tlearn: 870.7786528\ttotal: 9.4s\tremaining: 3.48s\n",
      "73:\tlearn: 869.8714671\ttotal: 9.53s\tremaining: 3.35s\n",
      "74:\tlearn: 869.7241721\ttotal: 9.54s\tremaining: 3.18s\n",
      "75:\tlearn: 868.6441671\ttotal: 9.66s\tremaining: 3.05s\n",
      "76:\tlearn: 867.0261687\ttotal: 9.79s\tremaining: 2.92s\n",
      "77:\tlearn: 866.4782008\ttotal: 9.91s\tremaining: 2.8s\n",
      "78:\tlearn: 865.8052406\ttotal: 10s\tremaining: 2.67s\n",
      "79:\tlearn: 864.3064902\ttotal: 10.2s\tremaining: 2.54s\n",
      "80:\tlearn: 863.3987439\ttotal: 10.3s\tremaining: 2.42s\n",
      "81:\tlearn: 862.8606692\ttotal: 10.4s\tremaining: 2.29s\n",
      "82:\tlearn: 861.5941927\ttotal: 10.6s\tremaining: 2.16s\n",
      "83:\tlearn: 860.0569163\ttotal: 10.7s\tremaining: 2.03s\n",
      "84:\tlearn: 859.0791857\ttotal: 10.8s\tremaining: 1.91s\n",
      "85:\tlearn: 857.7847567\ttotal: 11s\tremaining: 1.78s\n",
      "86:\tlearn: 856.5885429\ttotal: 11.1s\tremaining: 1.66s\n",
      "87:\tlearn: 855.6897327\ttotal: 11.2s\tremaining: 1.53s\n",
      "88:\tlearn: 854.9317359\ttotal: 11.4s\tremaining: 1.4s\n",
      "89:\tlearn: 853.6872233\ttotal: 11.5s\tremaining: 1.28s\n",
      "90:\tlearn: 852.5994360\ttotal: 11.6s\tremaining: 1.15s\n",
      "91:\tlearn: 851.8301354\ttotal: 11.8s\tremaining: 1.02s\n",
      "92:\tlearn: 851.0863379\ttotal: 11.9s\tremaining: 896ms\n",
      "93:\tlearn: 850.0477739\ttotal: 12s\tremaining: 768ms\n",
      "94:\tlearn: 849.8150063\ttotal: 12.2s\tremaining: 641ms\n",
      "95:\tlearn: 849.2094840\ttotal: 12.3s\tremaining: 513ms\n",
      "96:\tlearn: 848.1879287\ttotal: 12.4s\tremaining: 385ms\n",
      "97:\tlearn: 847.5720718\ttotal: 12.6s\tremaining: 257ms\n",
      "98:\tlearn: 846.4318097\ttotal: 12.7s\tremaining: 128ms\n",
      "99:\tlearn: 845.8612603\ttotal: 12.9s\tremaining: 0us\n",
      "0:\tlearn: 1833.5231532\ttotal: 141ms\tremaining: 14s\n",
      "1:\tlearn: 1679.0739721\ttotal: 285ms\tremaining: 14s\n",
      "2:\tlearn: 1551.8962334\ttotal: 422ms\tremaining: 13.7s\n",
      "3:\tlearn: 1448.6946610\ttotal: 562ms\tremaining: 13.5s\n",
      "4:\tlearn: 1359.2662217\ttotal: 704ms\tremaining: 13.4s\n",
      "5:\tlearn: 1290.2345904\ttotal: 845ms\tremaining: 13.2s\n",
      "6:\tlearn: 1237.1406433\ttotal: 987ms\tremaining: 13.1s\n",
      "7:\tlearn: 1193.7091580\ttotal: 1.13s\tremaining: 13s\n",
      "8:\tlearn: 1152.3224154\ttotal: 1.26s\tremaining: 12.8s\n",
      "9:\tlearn: 1121.9353971\ttotal: 1.4s\tremaining: 12.6s\n",
      "10:\tlearn: 1095.4091089\ttotal: 1.54s\tremaining: 12.5s\n",
      "11:\tlearn: 1075.0492624\ttotal: 1.68s\tremaining: 12.3s\n",
      "12:\tlearn: 1057.7680330\ttotal: 1.82s\tremaining: 12.2s\n",
      "13:\tlearn: 1042.9337011\ttotal: 1.96s\tremaining: 12.1s\n",
      "14:\tlearn: 1029.1402711\ttotal: 2.1s\tremaining: 11.9s\n",
      "15:\tlearn: 1017.9823488\ttotal: 2.23s\tremaining: 11.7s\n",
      "16:\tlearn: 1007.4654657\ttotal: 2.36s\tremaining: 11.5s\n",
      "17:\tlearn: 1001.0670631\ttotal: 2.49s\tremaining: 11.4s\n",
      "18:\tlearn: 994.5866107\ttotal: 2.62s\tremaining: 11.2s\n",
      "19:\tlearn: 984.9705163\ttotal: 2.76s\tremaining: 11s\n",
      "20:\tlearn: 977.8896170\ttotal: 2.89s\tremaining: 10.9s\n",
      "21:\tlearn: 973.1753664\ttotal: 3.02s\tremaining: 10.7s\n",
      "22:\tlearn: 968.7039660\ttotal: 3.16s\tremaining: 10.6s\n",
      "23:\tlearn: 965.2108988\ttotal: 3.29s\tremaining: 10.4s\n",
      "24:\tlearn: 960.4837328\ttotal: 3.42s\tremaining: 10.3s\n",
      "25:\tlearn: 957.0184823\ttotal: 3.55s\tremaining: 10.1s\n",
      "26:\tlearn: 953.2521508\ttotal: 3.69s\tremaining: 9.98s\n",
      "27:\tlearn: 950.3802703\ttotal: 3.83s\tremaining: 9.84s\n",
      "28:\tlearn: 947.6743270\ttotal: 3.96s\tremaining: 9.7s\n",
      "29:\tlearn: 945.7834131\ttotal: 4.09s\tremaining: 9.55s\n",
      "30:\tlearn: 942.7976811\ttotal: 4.22s\tremaining: 9.4s\n",
      "31:\tlearn: 940.6735581\ttotal: 4.36s\tremaining: 9.26s\n",
      "32:\tlearn: 937.7042473\ttotal: 4.49s\tremaining: 9.11s\n",
      "33:\tlearn: 935.3073566\ttotal: 4.62s\tremaining: 8.96s\n",
      "34:\tlearn: 932.9861280\ttotal: 4.75s\tremaining: 8.82s\n",
      "35:\tlearn: 931.1833619\ttotal: 4.88s\tremaining: 8.67s\n",
      "36:\tlearn: 929.1480438\ttotal: 5.01s\tremaining: 8.53s\n",
      "37:\tlearn: 926.8974195\ttotal: 5.14s\tremaining: 8.38s\n",
      "38:\tlearn: 925.3062220\ttotal: 5.27s\tremaining: 8.24s\n",
      "39:\tlearn: 923.5728885\ttotal: 5.4s\tremaining: 8.1s\n",
      "40:\tlearn: 920.7817710\ttotal: 5.53s\tremaining: 7.96s\n",
      "41:\tlearn: 919.9843507\ttotal: 5.66s\tremaining: 7.81s\n",
      "42:\tlearn: 918.6805483\ttotal: 5.8s\tremaining: 7.69s\n",
      "43:\tlearn: 917.2928814\ttotal: 5.93s\tremaining: 7.55s\n",
      "44:\tlearn: 916.5734416\ttotal: 6.06s\tremaining: 7.4s\n",
      "45:\tlearn: 914.7051249\ttotal: 6.19s\tremaining: 7.27s\n",
      "46:\tlearn: 912.3236562\ttotal: 6.33s\tremaining: 7.13s\n",
      "47:\tlearn: 911.1334281\ttotal: 6.46s\tremaining: 7s\n",
      "48:\tlearn: 910.3456675\ttotal: 6.6s\tremaining: 6.87s\n",
      "49:\tlearn: 908.6513923\ttotal: 6.73s\tremaining: 6.73s\n",
      "50:\tlearn: 907.2982051\ttotal: 6.86s\tremaining: 6.59s\n",
      "51:\tlearn: 905.8922617\ttotal: 6.99s\tremaining: 6.45s\n",
      "52:\tlearn: 904.8554209\ttotal: 7.12s\tremaining: 6.31s\n",
      "53:\tlearn: 903.0756643\ttotal: 7.25s\tremaining: 6.17s\n",
      "54:\tlearn: 901.8418488\ttotal: 7.38s\tremaining: 6.04s\n",
      "55:\tlearn: 900.5607009\ttotal: 7.51s\tremaining: 5.9s\n",
      "56:\tlearn: 899.4384216\ttotal: 7.64s\tremaining: 5.76s\n",
      "57:\tlearn: 898.2222508\ttotal: 7.77s\tremaining: 5.63s\n",
      "58:\tlearn: 896.8906933\ttotal: 7.91s\tremaining: 5.49s\n",
      "59:\tlearn: 895.5600693\ttotal: 8.04s\tremaining: 5.36s\n",
      "60:\tlearn: 894.0716831\ttotal: 8.17s\tremaining: 5.22s\n",
      "61:\tlearn: 892.6673867\ttotal: 8.3s\tremaining: 5.09s\n",
      "62:\tlearn: 891.4217757\ttotal: 8.44s\tremaining: 4.95s\n",
      "63:\tlearn: 890.6029975\ttotal: 8.56s\tremaining: 4.82s\n",
      "64:\tlearn: 889.0485457\ttotal: 8.7s\tremaining: 4.68s\n",
      "65:\tlearn: 887.5585174\ttotal: 8.82s\tremaining: 4.55s\n",
      "66:\tlearn: 886.8920121\ttotal: 8.96s\tremaining: 4.41s\n",
      "67:\tlearn: 886.2952433\ttotal: 9.09s\tremaining: 4.28s\n",
      "68:\tlearn: 885.5122551\ttotal: 9.21s\tremaining: 4.14s\n",
      "69:\tlearn: 884.1804999\ttotal: 9.35s\tremaining: 4s\n",
      "70:\tlearn: 883.4463634\ttotal: 9.47s\tremaining: 3.87s\n",
      "71:\tlearn: 882.9738501\ttotal: 9.6s\tremaining: 3.73s\n",
      "72:\tlearn: 882.2360109\ttotal: 9.73s\tremaining: 3.6s\n",
      "73:\tlearn: 881.0508612\ttotal: 9.86s\tremaining: 3.46s\n",
      "74:\tlearn: 879.9522800\ttotal: 9.99s\tremaining: 3.33s\n",
      "75:\tlearn: 879.1507754\ttotal: 10.1s\tremaining: 3.2s\n",
      "76:\tlearn: 878.4279330\ttotal: 10.3s\tremaining: 3.06s\n",
      "77:\tlearn: 877.0630175\ttotal: 10.4s\tremaining: 2.93s\n",
      "78:\tlearn: 876.2881863\ttotal: 10.5s\tremaining: 2.8s\n",
      "79:\tlearn: 875.2895392\ttotal: 10.7s\tremaining: 2.67s\n",
      "80:\tlearn: 874.1817286\ttotal: 10.8s\tremaining: 2.53s\n",
      "81:\tlearn: 873.0620053\ttotal: 10.9s\tremaining: 2.4s\n",
      "82:\tlearn: 872.1613206\ttotal: 11.1s\tremaining: 2.27s\n",
      "83:\tlearn: 871.5025406\ttotal: 11.2s\tremaining: 2.13s\n",
      "84:\tlearn: 870.7601523\ttotal: 11.3s\tremaining: 2s\n",
      "85:\tlearn: 869.8636552\ttotal: 11.5s\tremaining: 1.87s\n",
      "86:\tlearn: 868.9064841\ttotal: 11.6s\tremaining: 1.73s\n",
      "87:\tlearn: 868.1373476\ttotal: 11.7s\tremaining: 1.6s\n",
      "88:\tlearn: 867.1580185\ttotal: 11.9s\tremaining: 1.47s\n",
      "89:\tlearn: 865.9733054\ttotal: 12s\tremaining: 1.33s\n",
      "90:\tlearn: 865.1148390\ttotal: 12.2s\tremaining: 1.2s\n",
      "91:\tlearn: 864.1828698\ttotal: 12.3s\tremaining: 1.07s\n",
      "92:\tlearn: 863.3838869\ttotal: 12.4s\tremaining: 936ms\n",
      "93:\tlearn: 862.3591231\ttotal: 12.6s\tremaining: 802ms\n",
      "94:\tlearn: 861.3379483\ttotal: 12.7s\tremaining: 669ms\n",
      "95:\tlearn: 860.2633651\ttotal: 12.8s\tremaining: 535ms\n",
      "96:\tlearn: 859.7185479\ttotal: 13s\tremaining: 401ms\n",
      "97:\tlearn: 858.7749075\ttotal: 13.1s\tremaining: 268ms\n",
      "98:\tlearn: 858.3732604\ttotal: 13.2s\tremaining: 134ms\n",
      "99:\tlearn: 857.5646972\ttotal: 13.4s\tremaining: 0us\n",
      "CPU times: user 4min 18s, sys: 31.8 s, total: 4min 50s\n",
      "Wall time: 1min 8s\n"
     ]
    },
    {
     "data": {
      "text/html": [
       "<style>#sk-container-id-4 {color: black;background-color: white;}#sk-container-id-4 pre{padding: 0;}#sk-container-id-4 div.sk-toggleable {background-color: white;}#sk-container-id-4 label.sk-toggleable__label {cursor: pointer;display: block;width: 100%;margin-bottom: 0;padding: 0.3em;box-sizing: border-box;text-align: center;}#sk-container-id-4 label.sk-toggleable__label-arrow:before {content: \"▸\";float: left;margin-right: 0.25em;color: #696969;}#sk-container-id-4 label.sk-toggleable__label-arrow:hover:before {color: black;}#sk-container-id-4 div.sk-estimator:hover label.sk-toggleable__label-arrow:before {color: black;}#sk-container-id-4 div.sk-toggleable__content {max-height: 0;max-width: 0;overflow: hidden;text-align: left;background-color: #f0f8ff;}#sk-container-id-4 div.sk-toggleable__content pre {margin: 0.2em;color: black;border-radius: 0.25em;background-color: #f0f8ff;}#sk-container-id-4 input.sk-toggleable__control:checked~div.sk-toggleable__content {max-height: 200px;max-width: 100%;overflow: auto;}#sk-container-id-4 input.sk-toggleable__control:checked~label.sk-toggleable__label-arrow:before {content: \"▾\";}#sk-container-id-4 div.sk-estimator input.sk-toggleable__control:checked~label.sk-toggleable__label {background-color: #d4ebff;}#sk-container-id-4 div.sk-label input.sk-toggleable__control:checked~label.sk-toggleable__label {background-color: #d4ebff;}#sk-container-id-4 input.sk-hidden--visually {border: 0;clip: rect(1px 1px 1px 1px);clip: rect(1px, 1px, 1px, 1px);height: 1px;margin: -1px;overflow: hidden;padding: 0;position: absolute;width: 1px;}#sk-container-id-4 div.sk-estimator {font-family: monospace;background-color: #f0f8ff;border: 1px dotted black;border-radius: 0.25em;box-sizing: border-box;margin-bottom: 0.5em;}#sk-container-id-4 div.sk-estimator:hover {background-color: #d4ebff;}#sk-container-id-4 div.sk-parallel-item::after {content: \"\";width: 100%;border-bottom: 1px solid gray;flex-grow: 1;}#sk-container-id-4 div.sk-label:hover label.sk-toggleable__label {background-color: #d4ebff;}#sk-container-id-4 div.sk-serial::before {content: \"\";position: absolute;border-left: 1px solid gray;box-sizing: border-box;top: 0;bottom: 0;left: 50%;z-index: 0;}#sk-container-id-4 div.sk-serial {display: flex;flex-direction: column;align-items: center;background-color: white;padding-right: 0.2em;padding-left: 0.2em;position: relative;}#sk-container-id-4 div.sk-item {position: relative;z-index: 1;}#sk-container-id-4 div.sk-parallel {display: flex;align-items: stretch;justify-content: center;background-color: white;position: relative;}#sk-container-id-4 div.sk-item::before, #sk-container-id-4 div.sk-parallel-item::before {content: \"\";position: absolute;border-left: 1px solid gray;box-sizing: border-box;top: 0;bottom: 0;left: 50%;z-index: -1;}#sk-container-id-4 div.sk-parallel-item {display: flex;flex-direction: column;z-index: 1;position: relative;background-color: white;}#sk-container-id-4 div.sk-parallel-item:first-child::after {align-self: flex-end;width: 50%;}#sk-container-id-4 div.sk-parallel-item:last-child::after {align-self: flex-start;width: 50%;}#sk-container-id-4 div.sk-parallel-item:only-child::after {width: 0;}#sk-container-id-4 div.sk-dashed-wrapped {border: 1px dashed gray;margin: 0 0.4em 0.5em 0.4em;box-sizing: border-box;padding-bottom: 0.4em;background-color: white;}#sk-container-id-4 div.sk-label label {font-family: monospace;font-weight: bold;display: inline-block;line-height: 1.2em;}#sk-container-id-4 div.sk-label-container {text-align: center;}#sk-container-id-4 div.sk-container {/* jupyter's `normalize.less` sets `[hidden] { display: none; }` but bootstrap.min.css set `[hidden] { display: none !important; }` so we also need the `!important` here to be able to override the default hidden behavior on the sphinx rendered scikit-learn.org. See: https://github.com/scikit-learn/scikit-learn/issues/21755 */display: inline-block !important;position: relative;}#sk-container-id-4 div.sk-text-repr-fallback {display: none;}</style><div id=\"sk-container-id-4\" class=\"sk-top-container\"><div class=\"sk-text-repr-fallback\"><pre>GridSearchCV(cv=3,\n",
       "             estimator=&lt;catboost.core.CatBoostRegressor object at 0x7f89f210cbe0&gt;,\n",
       "             param_grid={&#x27;depth&#x27;: range(8, 16, 2), &#x27;iterations&#x27;: [100],\n",
       "                         &#x27;learning_rate&#x27;: [0.15]},\n",
       "             scoring=make_scorer(RMSE, greater_is_better=False))</pre><b>In a Jupyter environment, please rerun this cell to show the HTML representation or trust the notebook. <br />On GitHub, the HTML representation is unable to render, please try loading this page with nbviewer.org.</b></div><div class=\"sk-container\" hidden><div class=\"sk-item sk-dashed-wrapped\"><div class=\"sk-label-container\"><div class=\"sk-label sk-toggleable\"><input class=\"sk-toggleable__control sk-hidden--visually\" id=\"sk-estimator-id-8\" type=\"checkbox\" ><label for=\"sk-estimator-id-8\" class=\"sk-toggleable__label sk-toggleable__label-arrow\">GridSearchCV</label><div class=\"sk-toggleable__content\"><pre>GridSearchCV(cv=3,\n",
       "             estimator=&lt;catboost.core.CatBoostRegressor object at 0x7f89f210cbe0&gt;,\n",
       "             param_grid={&#x27;depth&#x27;: range(8, 16, 2), &#x27;iterations&#x27;: [100],\n",
       "                         &#x27;learning_rate&#x27;: [0.15]},\n",
       "             scoring=make_scorer(RMSE, greater_is_better=False))</pre></div></div></div><div class=\"sk-parallel\"><div class=\"sk-parallel-item\"><div class=\"sk-item\"><div class=\"sk-label-container\"><div class=\"sk-label sk-toggleable\"><input class=\"sk-toggleable__control sk-hidden--visually\" id=\"sk-estimator-id-9\" type=\"checkbox\" ><label for=\"sk-estimator-id-9\" class=\"sk-toggleable__label sk-toggleable__label-arrow\">estimator: CatBoostRegressor</label><div class=\"sk-toggleable__content\"><pre>&lt;catboost.core.CatBoostRegressor object at 0x7f89f210cbe0&gt;</pre></div></div></div><div class=\"sk-serial\"><div class=\"sk-item\"><div class=\"sk-estimator sk-toggleable\"><input class=\"sk-toggleable__control sk-hidden--visually\" id=\"sk-estimator-id-10\" type=\"checkbox\" ><label for=\"sk-estimator-id-10\" class=\"sk-toggleable__label sk-toggleable__label-arrow\">CatBoostRegressor</label><div class=\"sk-toggleable__content\"><pre>&lt;catboost.core.CatBoostRegressor object at 0x7f89f210cbe0&gt;</pre></div></div></div></div></div></div></div></div></div></div>"
      ],
      "text/plain": [
       "GridSearchCV(cv=3,\n",
       "             estimator=<catboost.core.CatBoostRegressor object at 0x7f89f210cbe0>,\n",
       "             param_grid={'depth': range(8, 16, 2), 'iterations': [100],\n",
       "                         'learning_rate': [0.15]},\n",
       "             scoring=make_scorer(RMSE, greater_is_better=False))"
      ]
     },
     "execution_count": 44,
     "metadata": {},
     "output_type": "execute_result"
    }
   ],
   "source": [
    "%%time\n",
    "#Объявляю модель\n",
    "cb = CatBoostRegressor(random_state = 12345)\n",
    "#Определяю словарь с набором параметров\n",
    "cb_parametrs = {\"iterations\": [100],\n",
    "                \"depth\": range(8, 16, 2),\n",
    "                \"learning_rate\" : [0.15],\n",
    "                             }\n",
    "#Применяю GridSearchCV с кросс-валидацией\n",
    "cb_grid = GridSearchCV(cb, cb_parametrs, scoring=RMSE_score, cv=3)\n",
    "cb_grid.fit(features_train_oe, target_train)"
   ]
  },
  {
   "cell_type": "code",
   "execution_count": 45,
   "metadata": {},
   "outputs": [
    {
     "name": "stdout",
     "output_type": "stream",
     "text": [
      "{'depth': 14, 'iterations': 100, 'learning_rate': 0.15}\n",
      "CPU times: user 411 µs, sys: 374 µs, total: 785 µs\n",
      "Wall time: 501 µs\n"
     ]
    }
   ],
   "source": [
    "%%time\n",
    "#Определяем оптимальные гиперпараметры и качество модели на кросс-валидации\n",
    "cb_params = cb_grid.best_params_\n",
    "#cb_score = cb_grid.score(features_train_oe, target_train) * (-1)\n",
    "print(cb_params)\n",
    "#print(cb_score)"
   ]
  },
  {
   "cell_type": "code",
   "execution_count": 46,
   "metadata": {
    "scrolled": true
   },
   "outputs": [
    {
     "name": "stdout",
     "output_type": "stream",
     "text": [
      "0:\tlearn: 1836.0634992\ttotal: 127ms\tremaining: 12.6s\n",
      "1:\tlearn: 1682.0111211\ttotal: 257ms\tremaining: 12.6s\n",
      "2:\tlearn: 1556.5635236\ttotal: 384ms\tremaining: 12.4s\n",
      "3:\tlearn: 1456.8627344\ttotal: 514ms\tremaining: 12.3s\n",
      "4:\tlearn: 1372.6161496\ttotal: 646ms\tremaining: 12.3s\n",
      "5:\tlearn: 1304.5049345\ttotal: 786ms\tremaining: 12.3s\n",
      "6:\tlearn: 1247.2535558\ttotal: 929ms\tremaining: 12.3s\n",
      "7:\tlearn: 1198.0390163\ttotal: 1.07s\tremaining: 12.3s\n",
      "8:\tlearn: 1160.5934387\ttotal: 1.2s\tremaining: 12.1s\n",
      "9:\tlearn: 1130.8746740\ttotal: 1.33s\tremaining: 12s\n",
      "10:\tlearn: 1105.5830111\ttotal: 1.46s\tremaining: 11.8s\n",
      "11:\tlearn: 1082.6205221\ttotal: 1.59s\tremaining: 11.7s\n",
      "12:\tlearn: 1064.7142588\ttotal: 1.72s\tremaining: 11.5s\n",
      "13:\tlearn: 1050.1237708\ttotal: 1.84s\tremaining: 11.3s\n",
      "14:\tlearn: 1036.3629547\ttotal: 1.97s\tremaining: 11.1s\n",
      "15:\tlearn: 1021.5717274\ttotal: 2.09s\tremaining: 11s\n",
      "16:\tlearn: 1009.6751675\ttotal: 2.21s\tremaining: 10.8s\n",
      "17:\tlearn: 1002.4107576\ttotal: 2.34s\tremaining: 10.7s\n",
      "18:\tlearn: 995.3226057\ttotal: 2.47s\tremaining: 10.5s\n",
      "19:\tlearn: 988.5879705\ttotal: 2.6s\tremaining: 10.4s\n",
      "20:\tlearn: 982.3344673\ttotal: 2.72s\tremaining: 10.2s\n",
      "21:\tlearn: 978.4459821\ttotal: 2.85s\tremaining: 10.1s\n",
      "22:\tlearn: 972.0211372\ttotal: 2.97s\tremaining: 9.95s\n",
      "23:\tlearn: 967.7726165\ttotal: 3.1s\tremaining: 9.8s\n",
      "24:\tlearn: 962.9132085\ttotal: 3.22s\tremaining: 9.67s\n",
      "25:\tlearn: 959.1802979\ttotal: 3.35s\tremaining: 9.54s\n",
      "26:\tlearn: 954.6276653\ttotal: 3.48s\tremaining: 9.41s\n",
      "27:\tlearn: 950.9681224\ttotal: 3.61s\tremaining: 9.29s\n",
      "28:\tlearn: 948.6289971\ttotal: 3.74s\tremaining: 9.15s\n",
      "29:\tlearn: 945.8910648\ttotal: 3.87s\tremaining: 9.03s\n",
      "30:\tlearn: 943.2963024\ttotal: 4s\tremaining: 8.9s\n",
      "31:\tlearn: 941.6012872\ttotal: 4.13s\tremaining: 8.77s\n",
      "32:\tlearn: 939.7240389\ttotal: 4.26s\tremaining: 8.64s\n",
      "33:\tlearn: 936.3656140\ttotal: 4.39s\tremaining: 8.52s\n",
      "34:\tlearn: 933.8520078\ttotal: 4.52s\tremaining: 8.39s\n",
      "35:\tlearn: 931.1040528\ttotal: 4.64s\tremaining: 8.26s\n",
      "36:\tlearn: 929.4151643\ttotal: 4.77s\tremaining: 8.12s\n",
      "37:\tlearn: 927.1414005\ttotal: 4.89s\tremaining: 7.99s\n",
      "38:\tlearn: 925.9359065\ttotal: 4.94s\tremaining: 7.73s\n",
      "39:\tlearn: 923.8267356\ttotal: 5.07s\tremaining: 7.61s\n",
      "40:\tlearn: 921.7309757\ttotal: 5.21s\tremaining: 7.49s\n",
      "41:\tlearn: 920.1093703\ttotal: 5.33s\tremaining: 7.37s\n",
      "42:\tlearn: 918.5536815\ttotal: 5.46s\tremaining: 7.24s\n",
      "43:\tlearn: 916.3553368\ttotal: 5.59s\tremaining: 7.11s\n",
      "44:\tlearn: 915.1207901\ttotal: 5.71s\tremaining: 6.98s\n",
      "45:\tlearn: 913.2710684\ttotal: 5.84s\tremaining: 6.86s\n",
      "46:\tlearn: 910.3014385\ttotal: 5.97s\tremaining: 6.73s\n",
      "47:\tlearn: 907.9027567\ttotal: 6.1s\tremaining: 6.61s\n",
      "48:\tlearn: 906.7209556\ttotal: 6.22s\tremaining: 6.48s\n",
      "49:\tlearn: 905.3817108\ttotal: 6.35s\tremaining: 6.35s\n",
      "50:\tlearn: 903.9881242\ttotal: 6.47s\tremaining: 6.22s\n",
      "51:\tlearn: 902.7773318\ttotal: 6.61s\tremaining: 6.1s\n",
      "52:\tlearn: 901.6558513\ttotal: 6.74s\tremaining: 5.98s\n",
      "53:\tlearn: 900.7802313\ttotal: 6.87s\tremaining: 5.85s\n",
      "54:\tlearn: 899.1265875\ttotal: 6.99s\tremaining: 5.72s\n",
      "55:\tlearn: 897.6482392\ttotal: 7.11s\tremaining: 5.59s\n",
      "56:\tlearn: 896.7344787\ttotal: 7.24s\tremaining: 5.46s\n",
      "57:\tlearn: 895.0229617\ttotal: 7.36s\tremaining: 5.33s\n",
      "58:\tlearn: 893.4077412\ttotal: 7.49s\tremaining: 5.2s\n",
      "59:\tlearn: 892.3221202\ttotal: 7.61s\tremaining: 5.08s\n",
      "60:\tlearn: 890.8385315\ttotal: 7.74s\tremaining: 4.95s\n",
      "61:\tlearn: 888.7074762\ttotal: 7.87s\tremaining: 4.82s\n",
      "62:\tlearn: 887.6899569\ttotal: 7.99s\tremaining: 4.69s\n",
      "63:\tlearn: 886.8689652\ttotal: 8.12s\tremaining: 4.57s\n",
      "64:\tlearn: 885.8440881\ttotal: 8.24s\tremaining: 4.44s\n",
      "65:\tlearn: 883.6236733\ttotal: 8.37s\tremaining: 4.31s\n",
      "66:\tlearn: 881.9837909\ttotal: 8.49s\tremaining: 4.18s\n",
      "67:\tlearn: 880.7033624\ttotal: 8.63s\tremaining: 4.06s\n",
      "68:\tlearn: 879.4607553\ttotal: 8.76s\tremaining: 3.94s\n",
      "69:\tlearn: 878.1097643\ttotal: 8.88s\tremaining: 3.81s\n",
      "70:\tlearn: 876.8956872\ttotal: 9.01s\tremaining: 3.68s\n",
      "71:\tlearn: 875.3920584\ttotal: 9.15s\tremaining: 3.56s\n",
      "72:\tlearn: 873.4687980\ttotal: 9.29s\tremaining: 3.43s\n",
      "73:\tlearn: 872.0107608\ttotal: 9.41s\tremaining: 3.31s\n",
      "74:\tlearn: 870.8539351\ttotal: 9.54s\tremaining: 3.18s\n",
      "75:\tlearn: 869.4184948\ttotal: 9.66s\tremaining: 3.05s\n",
      "76:\tlearn: 868.3018856\ttotal: 9.79s\tremaining: 2.92s\n",
      "77:\tlearn: 867.6901213\ttotal: 9.92s\tremaining: 2.8s\n",
      "78:\tlearn: 866.8307727\ttotal: 10.1s\tremaining: 2.67s\n",
      "79:\tlearn: 866.0876392\ttotal: 10.2s\tremaining: 2.54s\n",
      "80:\tlearn: 864.9428497\ttotal: 10.3s\tremaining: 2.42s\n",
      "81:\tlearn: 863.9994749\ttotal: 10.4s\tremaining: 2.29s\n",
      "82:\tlearn: 862.5874421\ttotal: 10.6s\tremaining: 2.16s\n",
      "83:\tlearn: 861.3447890\ttotal: 10.7s\tremaining: 2.04s\n",
      "84:\tlearn: 860.0857870\ttotal: 10.8s\tremaining: 1.91s\n",
      "85:\tlearn: 858.9540026\ttotal: 11s\tremaining: 1.78s\n",
      "86:\tlearn: 858.1751173\ttotal: 11.1s\tremaining: 1.66s\n",
      "87:\tlearn: 857.2630793\ttotal: 11.2s\tremaining: 1.53s\n",
      "88:\tlearn: 856.5636535\ttotal: 11.4s\tremaining: 1.4s\n",
      "89:\tlearn: 855.8408862\ttotal: 11.5s\tremaining: 1.28s\n",
      "90:\tlearn: 854.6540001\ttotal: 11.6s\tremaining: 1.15s\n",
      "91:\tlearn: 854.0014953\ttotal: 11.7s\tremaining: 1.02s\n",
      "92:\tlearn: 853.3012534\ttotal: 11.9s\tremaining: 894ms\n",
      "93:\tlearn: 852.8562020\ttotal: 12s\tremaining: 767ms\n",
      "94:\tlearn: 852.2440676\ttotal: 12.1s\tremaining: 639ms\n",
      "95:\tlearn: 850.7815272\ttotal: 12.3s\tremaining: 512ms\n",
      "96:\tlearn: 849.7627137\ttotal: 12.4s\tremaining: 384ms\n",
      "97:\tlearn: 848.8809133\ttotal: 12.5s\tremaining: 256ms\n",
      "98:\tlearn: 848.6392169\ttotal: 12.6s\tremaining: 127ms\n",
      "99:\tlearn: 847.7089362\ttotal: 12.7s\tremaining: 0us\n",
      "0:\tlearn: 1836.1491349\ttotal: 133ms\tremaining: 13.1s\n",
      "1:\tlearn: 1680.1679013\ttotal: 263ms\tremaining: 12.9s\n",
      "2:\tlearn: 1552.9744392\ttotal: 395ms\tremaining: 12.8s\n",
      "3:\tlearn: 1452.8870746\ttotal: 524ms\tremaining: 12.6s\n",
      "4:\tlearn: 1370.3988085\ttotal: 650ms\tremaining: 12.4s\n",
      "5:\tlearn: 1298.0939425\ttotal: 775ms\tremaining: 12.1s\n",
      "6:\tlearn: 1236.2437570\ttotal: 909ms\tremaining: 12.1s\n",
      "7:\tlearn: 1190.7057421\ttotal: 1.04s\tremaining: 12s\n",
      "8:\tlearn: 1149.5106779\ttotal: 1.17s\tremaining: 11.8s\n",
      "9:\tlearn: 1118.4320651\ttotal: 1.29s\tremaining: 11.6s\n",
      "10:\tlearn: 1091.1026358\ttotal: 1.42s\tremaining: 11.5s\n",
      "11:\tlearn: 1069.3566765\ttotal: 1.55s\tremaining: 11.3s\n",
      "12:\tlearn: 1050.9348870\ttotal: 1.68s\tremaining: 11.2s\n",
      "13:\tlearn: 1035.8827825\ttotal: 1.8s\tremaining: 11.1s\n",
      "14:\tlearn: 1024.4961262\ttotal: 1.93s\tremaining: 11s\n",
      "15:\tlearn: 1012.6312938\ttotal: 2.06s\tremaining: 10.8s\n",
      "16:\tlearn: 1003.2241074\ttotal: 2.19s\tremaining: 10.7s\n",
      "17:\tlearn: 996.1276921\ttotal: 2.32s\tremaining: 10.6s\n",
      "18:\tlearn: 986.2217944\ttotal: 2.44s\tremaining: 10.4s\n",
      "19:\tlearn: 977.7744600\ttotal: 2.58s\tremaining: 10.3s\n",
      "20:\tlearn: 973.3151631\ttotal: 2.7s\tremaining: 10.2s\n",
      "21:\tlearn: 968.0744345\ttotal: 2.83s\tremaining: 10s\n",
      "22:\tlearn: 961.7721082\ttotal: 2.96s\tremaining: 9.91s\n",
      "23:\tlearn: 957.2554640\ttotal: 3.09s\tremaining: 9.78s\n",
      "24:\tlearn: 952.4045547\ttotal: 3.21s\tremaining: 9.64s\n",
      "25:\tlearn: 949.0457870\ttotal: 3.34s\tremaining: 9.51s\n",
      "26:\tlearn: 945.4872291\ttotal: 3.47s\tremaining: 9.38s\n",
      "27:\tlearn: 942.4406013\ttotal: 3.6s\tremaining: 9.26s\n",
      "28:\tlearn: 939.7475333\ttotal: 3.73s\tremaining: 9.13s\n",
      "29:\tlearn: 937.4939246\ttotal: 3.85s\tremaining: 8.99s\n",
      "30:\tlearn: 934.1084376\ttotal: 3.98s\tremaining: 8.86s\n",
      "31:\tlearn: 932.5776256\ttotal: 4.11s\tremaining: 8.73s\n",
      "32:\tlearn: 929.9751801\ttotal: 4.24s\tremaining: 8.6s\n",
      "33:\tlearn: 928.1542040\ttotal: 4.36s\tremaining: 8.47s\n",
      "34:\tlearn: 925.8674060\ttotal: 4.49s\tremaining: 8.35s\n",
      "35:\tlearn: 924.1533115\ttotal: 4.63s\tremaining: 8.22s\n",
      "36:\tlearn: 922.7219061\ttotal: 4.75s\tremaining: 8.09s\n",
      "37:\tlearn: 920.0825224\ttotal: 4.88s\tremaining: 7.96s\n",
      "38:\tlearn: 917.3503700\ttotal: 5.01s\tremaining: 7.83s\n",
      "39:\tlearn: 915.6457346\ttotal: 5.14s\tremaining: 7.7s\n",
      "40:\tlearn: 913.4314782\ttotal: 5.26s\tremaining: 7.57s\n",
      "41:\tlearn: 912.6090975\ttotal: 5.39s\tremaining: 7.45s\n",
      "42:\tlearn: 911.0941794\ttotal: 5.52s\tremaining: 7.32s\n",
      "43:\tlearn: 909.1943929\ttotal: 5.65s\tremaining: 7.19s\n",
      "44:\tlearn: 908.0061072\ttotal: 5.78s\tremaining: 7.07s\n",
      "45:\tlearn: 906.2698163\ttotal: 5.91s\tremaining: 6.94s\n",
      "46:\tlearn: 903.5491745\ttotal: 6.04s\tremaining: 6.81s\n",
      "47:\tlearn: 902.2685024\ttotal: 6.17s\tremaining: 6.68s\n",
      "48:\tlearn: 900.4541998\ttotal: 6.3s\tremaining: 6.56s\n",
      "49:\tlearn: 898.7837846\ttotal: 6.43s\tremaining: 6.43s\n",
      "50:\tlearn: 897.3829877\ttotal: 6.56s\tremaining: 6.3s\n",
      "51:\tlearn: 895.9942507\ttotal: 6.69s\tremaining: 6.17s\n",
      "52:\tlearn: 894.3963533\ttotal: 6.82s\tremaining: 6.05s\n",
      "53:\tlearn: 892.8779390\ttotal: 6.95s\tremaining: 5.92s\n",
      "54:\tlearn: 891.3448626\ttotal: 7.09s\tremaining: 5.8s\n",
      "55:\tlearn: 889.6694914\ttotal: 7.21s\tremaining: 5.67s\n",
      "56:\tlearn: 888.3648002\ttotal: 7.34s\tremaining: 5.54s\n",
      "57:\tlearn: 886.7031790\ttotal: 7.46s\tremaining: 5.41s\n",
      "58:\tlearn: 885.6140222\ttotal: 7.59s\tremaining: 5.28s\n",
      "59:\tlearn: 884.4324817\ttotal: 7.72s\tremaining: 5.15s\n",
      "60:\tlearn: 883.5080999\ttotal: 7.86s\tremaining: 5.02s\n",
      "61:\tlearn: 882.3274239\ttotal: 7.99s\tremaining: 4.9s\n",
      "62:\tlearn: 881.3727803\ttotal: 8.12s\tremaining: 4.77s\n",
      "63:\tlearn: 880.0526077\ttotal: 8.25s\tremaining: 4.64s\n",
      "64:\tlearn: 878.4551851\ttotal: 8.39s\tremaining: 4.52s\n",
      "65:\tlearn: 877.0262141\ttotal: 8.52s\tremaining: 4.39s\n",
      "66:\tlearn: 876.1734797\ttotal: 8.65s\tremaining: 4.26s\n",
      "67:\tlearn: 875.0387416\ttotal: 8.79s\tremaining: 4.13s\n",
      "68:\tlearn: 874.5235219\ttotal: 8.92s\tremaining: 4.01s\n",
      "69:\tlearn: 873.2440839\ttotal: 9.04s\tremaining: 3.88s\n",
      "70:\tlearn: 872.1959503\ttotal: 9.17s\tremaining: 3.75s\n",
      "71:\tlearn: 871.3582739\ttotal: 9.3s\tremaining: 3.62s\n",
      "72:\tlearn: 870.4605405\ttotal: 9.42s\tremaining: 3.48s\n",
      "73:\tlearn: 869.2083408\ttotal: 9.56s\tremaining: 3.36s\n",
      "74:\tlearn: 868.2134003\ttotal: 9.69s\tremaining: 3.23s\n",
      "75:\tlearn: 867.0326074\ttotal: 9.81s\tremaining: 3.1s\n",
      "76:\tlearn: 865.5524774\ttotal: 9.94s\tremaining: 2.97s\n",
      "77:\tlearn: 864.4985003\ttotal: 10.1s\tremaining: 2.84s\n",
      "78:\tlearn: 862.8359103\ttotal: 10.2s\tremaining: 2.71s\n",
      "79:\tlearn: 861.4245229\ttotal: 10.3s\tremaining: 2.58s\n",
      "80:\tlearn: 860.6434586\ttotal: 10.5s\tremaining: 2.46s\n",
      "81:\tlearn: 859.7761075\ttotal: 10.6s\tremaining: 2.33s\n",
      "82:\tlearn: 858.6647944\ttotal: 10.7s\tremaining: 2.2s\n",
      "83:\tlearn: 857.7829438\ttotal: 10.9s\tremaining: 2.07s\n",
      "84:\tlearn: 856.4926434\ttotal: 11s\tremaining: 1.94s\n",
      "85:\tlearn: 855.4404107\ttotal: 11.1s\tremaining: 1.81s\n",
      "86:\tlearn: 854.2889846\ttotal: 11.2s\tremaining: 1.68s\n",
      "87:\tlearn: 852.9729581\ttotal: 11.4s\tremaining: 1.55s\n",
      "88:\tlearn: 851.5937732\ttotal: 11.5s\tremaining: 1.42s\n",
      "89:\tlearn: 850.9365543\ttotal: 11.6s\tremaining: 1.29s\n",
      "90:\tlearn: 849.8291710\ttotal: 11.8s\tremaining: 1.16s\n",
      "91:\tlearn: 848.5917034\ttotal: 11.9s\tremaining: 1.03s\n",
      "92:\tlearn: 847.2520670\ttotal: 12s\tremaining: 904ms\n",
      "93:\tlearn: 846.7217755\ttotal: 12.1s\tremaining: 774ms\n",
      "94:\tlearn: 845.7978111\ttotal: 12.3s\tremaining: 645ms\n",
      "95:\tlearn: 845.1479658\ttotal: 12.4s\tremaining: 516ms\n",
      "96:\tlearn: 844.0683093\ttotal: 12.5s\tremaining: 387ms\n",
      "97:\tlearn: 843.2529828\ttotal: 12.6s\tremaining: 258ms\n",
      "98:\tlearn: 842.5012223\ttotal: 12.8s\tremaining: 129ms\n",
      "99:\tlearn: 841.9194346\ttotal: 12.9s\tremaining: 0us\n",
      "0:\tlearn: 1834.1940446\ttotal: 135ms\tremaining: 13.3s\n",
      "1:\tlearn: 1679.3919618\ttotal: 268ms\tremaining: 13.1s\n",
      "2:\tlearn: 1553.7219054\ttotal: 399ms\tremaining: 12.9s\n",
      "3:\tlearn: 1451.2591964\ttotal: 535ms\tremaining: 12.8s\n",
      "4:\tlearn: 1366.5527275\ttotal: 668ms\tremaining: 12.7s\n",
      "5:\tlearn: 1296.8835206\ttotal: 800ms\tremaining: 12.5s\n",
      "6:\tlearn: 1242.7772054\ttotal: 930ms\tremaining: 12.4s\n",
      "7:\tlearn: 1194.5015977\ttotal: 1.06s\tremaining: 12.2s\n",
      "8:\tlearn: 1155.3225015\ttotal: 1.2s\tremaining: 12.1s\n",
      "9:\tlearn: 1124.8722189\ttotal: 1.33s\tremaining: 12s\n",
      "10:\tlearn: 1096.4233146\ttotal: 1.47s\tremaining: 11.9s\n",
      "11:\tlearn: 1070.7909187\ttotal: 1.59s\tremaining: 11.7s\n",
      "12:\tlearn: 1051.5097022\ttotal: 1.73s\tremaining: 11.6s\n",
      "13:\tlearn: 1037.5692855\ttotal: 1.86s\tremaining: 11.4s\n",
      "14:\tlearn: 1026.2604706\ttotal: 1.99s\tremaining: 11.3s\n",
      "15:\tlearn: 1015.5316566\ttotal: 2.12s\tremaining: 11.1s\n",
      "16:\tlearn: 1004.2168319\ttotal: 2.24s\tremaining: 11s\n",
      "17:\tlearn: 994.9874802\ttotal: 2.38s\tremaining: 10.8s\n",
      "18:\tlearn: 987.0710577\ttotal: 2.5s\tremaining: 10.7s\n",
      "19:\tlearn: 980.8543811\ttotal: 2.63s\tremaining: 10.5s\n",
      "20:\tlearn: 975.1436391\ttotal: 2.76s\tremaining: 10.4s\n",
      "21:\tlearn: 969.1818787\ttotal: 2.89s\tremaining: 10.2s\n",
      "22:\tlearn: 963.4187321\ttotal: 3.02s\tremaining: 10.1s\n",
      "23:\tlearn: 959.9729332\ttotal: 3.15s\tremaining: 9.96s\n",
      "24:\tlearn: 955.8116162\ttotal: 3.27s\tremaining: 9.82s\n",
      "25:\tlearn: 952.3684137\ttotal: 3.4s\tremaining: 9.68s\n",
      "26:\tlearn: 949.7319370\ttotal: 3.53s\tremaining: 9.54s\n",
      "27:\tlearn: 945.6457646\ttotal: 3.65s\tremaining: 9.39s\n",
      "28:\tlearn: 941.7833264\ttotal: 3.78s\tremaining: 9.25s\n",
      "29:\tlearn: 938.3071919\ttotal: 3.9s\tremaining: 9.1s\n",
      "30:\tlearn: 935.8510113\ttotal: 4.03s\tremaining: 8.97s\n",
      "31:\tlearn: 934.5552123\ttotal: 4.15s\tremaining: 8.82s\n",
      "32:\tlearn: 932.0900587\ttotal: 4.27s\tremaining: 8.68s\n",
      "33:\tlearn: 929.8670945\ttotal: 4.4s\tremaining: 8.55s\n",
      "34:\tlearn: 927.7924943\ttotal: 4.53s\tremaining: 8.41s\n",
      "35:\tlearn: 925.9784011\ttotal: 4.66s\tremaining: 8.28s\n",
      "36:\tlearn: 923.5170034\ttotal: 4.78s\tremaining: 8.15s\n",
      "37:\tlearn: 921.3384527\ttotal: 4.91s\tremaining: 8.02s\n",
      "38:\tlearn: 919.4538435\ttotal: 5.04s\tremaining: 7.89s\n",
      "39:\tlearn: 916.8488750\ttotal: 5.17s\tremaining: 7.75s\n",
      "40:\tlearn: 915.5691218\ttotal: 5.29s\tremaining: 7.62s\n",
      "41:\tlearn: 914.0809519\ttotal: 5.42s\tremaining: 7.49s\n",
      "42:\tlearn: 911.8774171\ttotal: 5.55s\tremaining: 7.36s\n",
      "43:\tlearn: 909.8110577\ttotal: 5.67s\tremaining: 7.22s\n",
      "44:\tlearn: 908.4280640\ttotal: 5.8s\tremaining: 7.08s\n",
      "45:\tlearn: 906.4942817\ttotal: 5.92s\tremaining: 6.95s\n",
      "46:\tlearn: 905.3176698\ttotal: 6.04s\tremaining: 6.82s\n",
      "47:\tlearn: 903.4560081\ttotal: 6.17s\tremaining: 6.68s\n",
      "48:\tlearn: 901.7003116\ttotal: 6.29s\tremaining: 6.55s\n",
      "49:\tlearn: 900.0496923\ttotal: 6.42s\tremaining: 6.42s\n",
      "50:\tlearn: 898.3755580\ttotal: 6.55s\tremaining: 6.29s\n",
      "51:\tlearn: 897.0762427\ttotal: 6.67s\tremaining: 6.16s\n",
      "52:\tlearn: 895.3290852\ttotal: 6.8s\tremaining: 6.03s\n",
      "53:\tlearn: 894.0836585\ttotal: 6.93s\tremaining: 5.9s\n",
      "54:\tlearn: 892.7837403\ttotal: 7.06s\tremaining: 5.77s\n",
      "55:\tlearn: 891.6258408\ttotal: 7.19s\tremaining: 5.65s\n",
      "56:\tlearn: 890.4792700\ttotal: 7.32s\tremaining: 5.52s\n",
      "57:\tlearn: 889.1583651\ttotal: 7.45s\tremaining: 5.39s\n",
      "58:\tlearn: 887.5501310\ttotal: 7.58s\tremaining: 5.27s\n",
      "59:\tlearn: 886.0257219\ttotal: 7.71s\tremaining: 5.14s\n",
      "60:\tlearn: 884.9130414\ttotal: 7.84s\tremaining: 5.01s\n",
      "61:\tlearn: 883.6159588\ttotal: 7.97s\tremaining: 4.88s\n",
      "62:\tlearn: 882.6155631\ttotal: 8.09s\tremaining: 4.75s\n",
      "63:\tlearn: 881.4425674\ttotal: 8.22s\tremaining: 4.63s\n",
      "64:\tlearn: 880.1561021\ttotal: 8.35s\tremaining: 4.5s\n",
      "65:\tlearn: 878.8823610\ttotal: 8.48s\tremaining: 4.37s\n",
      "66:\tlearn: 877.5457507\ttotal: 8.61s\tremaining: 4.24s\n",
      "67:\tlearn: 876.0044743\ttotal: 8.73s\tremaining: 4.11s\n",
      "68:\tlearn: 874.9598696\ttotal: 8.86s\tremaining: 3.98s\n",
      "69:\tlearn: 873.9842772\ttotal: 8.99s\tremaining: 3.85s\n",
      "70:\tlearn: 872.8031735\ttotal: 9.12s\tremaining: 3.73s\n",
      "71:\tlearn: 872.0263291\ttotal: 9.25s\tremaining: 3.6s\n",
      "72:\tlearn: 870.7786528\ttotal: 9.38s\tremaining: 3.47s\n",
      "73:\tlearn: 869.8714671\ttotal: 9.51s\tremaining: 3.34s\n",
      "74:\tlearn: 869.7241721\ttotal: 9.52s\tremaining: 3.17s\n",
      "75:\tlearn: 868.6441671\ttotal: 9.65s\tremaining: 3.05s\n",
      "76:\tlearn: 867.0261687\ttotal: 9.78s\tremaining: 2.92s\n",
      "77:\tlearn: 866.4782008\ttotal: 9.9s\tremaining: 2.79s\n",
      "78:\tlearn: 865.8052406\ttotal: 10s\tremaining: 2.67s\n",
      "79:\tlearn: 864.3064902\ttotal: 10.2s\tremaining: 2.54s\n",
      "80:\tlearn: 863.3987439\ttotal: 10.3s\tremaining: 2.41s\n",
      "81:\tlearn: 862.8606692\ttotal: 10.4s\tremaining: 2.29s\n",
      "82:\tlearn: 861.5941927\ttotal: 10.5s\tremaining: 2.16s\n",
      "83:\tlearn: 860.0569163\ttotal: 10.7s\tremaining: 2.03s\n",
      "84:\tlearn: 859.0791857\ttotal: 10.8s\tremaining: 1.91s\n",
      "85:\tlearn: 857.7847567\ttotal: 10.9s\tremaining: 1.78s\n",
      "86:\tlearn: 856.5885429\ttotal: 11.1s\tremaining: 1.65s\n",
      "87:\tlearn: 855.6897327\ttotal: 11.2s\tremaining: 1.52s\n",
      "88:\tlearn: 854.9317359\ttotal: 11.3s\tremaining: 1.4s\n",
      "89:\tlearn: 853.6872233\ttotal: 11.4s\tremaining: 1.27s\n",
      "90:\tlearn: 852.5994360\ttotal: 11.6s\tremaining: 1.14s\n",
      "91:\tlearn: 851.8301354\ttotal: 11.7s\tremaining: 1.02s\n",
      "92:\tlearn: 851.0863379\ttotal: 11.8s\tremaining: 890ms\n",
      "93:\tlearn: 850.0477739\ttotal: 11.9s\tremaining: 763ms\n",
      "94:\tlearn: 849.8150063\ttotal: 12.1s\tremaining: 636ms\n",
      "95:\tlearn: 849.2094840\ttotal: 12.2s\tremaining: 509ms\n",
      "96:\tlearn: 848.1879287\ttotal: 12.3s\tremaining: 381ms\n",
      "97:\tlearn: 847.5720718\ttotal: 12.5s\tremaining: 254ms\n",
      "98:\tlearn: 846.4318097\ttotal: 12.6s\tremaining: 127ms\n",
      "99:\tlearn: 845.8612603\ttotal: 12.7s\tremaining: 0us\n",
      "Среднее качество модели catboost на кросс-валидации: 927.7781428756853\n",
      "CPU times: user 1min 46s, sys: 20.1 s, total: 2min 6s\n",
      "Wall time: 38.8 s\n"
     ]
    }
   ],
   "source": [
    "%%time\n",
    "cbr_model = CatBoostRegressor(depth = 14, iterations = 100, learning_rate = 0.15, random_state = 12345)\n",
    "cbr_model_score = (cross_val_score(cbr_model, features_train_oe, target_train,scoring=RMSE_score,cv=3)).mean()*(-1)\n",
    "print('Среднее качество модели catboost на кросс-валидации:', cbr_model_score)"
   ]
  },
  {
   "cell_type": "markdown",
   "metadata": {},
   "source": [
    "**Вывод по шагу 2**\n",
    "\n",
    "Были изучены 4 модели. Зафиксированы лучшие гиперпараметры и время их выполнения."
   ]
  },
  {
   "cell_type": "markdown",
   "metadata": {},
   "source": [
    "## Анализ моделей"
   ]
  },
  {
   "cell_type": "code",
   "execution_count": 47,
   "metadata": {},
   "outputs": [
    {
     "name": "stdout",
     "output_type": "stream",
     "text": [
      "RMSE для константной модели 2084.091\n",
      "CPU times: user 4.46 ms, sys: 1.35 ms, total: 5.81 ms\n",
      "Wall time: 3.67 ms\n"
     ]
    }
   ],
   "source": [
    "%%time\n",
    "#Для проверки адекватности моделей создаю константную модель\n",
    "const_model = pd.Series(target_train.median(), index=target_test.index)\n",
    "\n",
    "#Определяю метрику RMSE константной модели\n",
    "const_RMSE = round(RMSE(target_test, const_model), 3)\n",
    "print('RMSE для константной модели', const_RMSE)"
   ]
  },
  {
   "cell_type": "code",
   "execution_count": 48,
   "metadata": {},
   "outputs": [
    {
     "data": {
      "text/html": [
       "<div>\n",
       "<style scoped>\n",
       "    .dataframe tbody tr th:only-of-type {\n",
       "        vertical-align: middle;\n",
       "    }\n",
       "\n",
       "    .dataframe tbody tr th {\n",
       "        vertical-align: top;\n",
       "    }\n",
       "\n",
       "    .dataframe thead th {\n",
       "        text-align: right;\n",
       "    }\n",
       "</style>\n",
       "<table border=\"1\" class=\"dataframe\">\n",
       "  <thead>\n",
       "    <tr style=\"text-align: right;\">\n",
       "      <th></th>\n",
       "      <th>Модель</th>\n",
       "      <th>Время работы модели, сек.</th>\n",
       "      <th>RMSE</th>\n",
       "      <th>Качество по отношению к константной модели, %</th>\n",
       "    </tr>\n",
       "  </thead>\n",
       "  <tbody>\n",
       "    <tr>\n",
       "      <th>0</th>\n",
       "      <td>Константная модель</td>\n",
       "      <td>0</td>\n",
       "      <td>2084.091000</td>\n",
       "      <td>0.00</td>\n",
       "    </tr>\n",
       "    <tr>\n",
       "      <th>1</th>\n",
       "      <td>Случайный лес</td>\n",
       "      <td>63</td>\n",
       "      <td>1283.880531</td>\n",
       "      <td>38.40</td>\n",
       "    </tr>\n",
       "    <tr>\n",
       "      <th>2</th>\n",
       "      <td>Линейная регрессия</td>\n",
       "      <td>81</td>\n",
       "      <td>1343.243974</td>\n",
       "      <td>35.55</td>\n",
       "    </tr>\n",
       "    <tr>\n",
       "      <th>3</th>\n",
       "      <td>LGBMRegressor</td>\n",
       "      <td>92</td>\n",
       "      <td>6666.000000</td>\n",
       "      <td>-219.85</td>\n",
       "    </tr>\n",
       "    <tr>\n",
       "      <th>4</th>\n",
       "      <td>CatBoostRegressor</td>\n",
       "      <td>68</td>\n",
       "      <td>927.778143</td>\n",
       "      <td>55.48</td>\n",
       "    </tr>\n",
       "  </tbody>\n",
       "</table>\n",
       "</div>"
      ],
      "text/plain": [
       "               Модель  Время работы модели, сек.         RMSE  \\\n",
       "0  Константная модель                          0  2084.091000   \n",
       "1       Случайный лес                         63  1283.880531   \n",
       "2  Линейная регрессия                         81  1343.243974   \n",
       "3       LGBMRegressor                         92  6666.000000   \n",
       "4   CatBoostRegressor                         68   927.778143   \n",
       "\n",
       "   Качество по отношению к константной модели, %  \n",
       "0                                           0.00  \n",
       "1                                          38.40  \n",
       "2                                          35.55  \n",
       "3                                        -219.85  \n",
       "4                                          55.48  "
      ]
     },
     "metadata": {},
     "output_type": "display_data"
    }
   ],
   "source": [
    "columns = ['Модель', 'Время работы модели, сек.', 'RMSE',]\n",
    "const_model = ['Константная модель', 0, const_RMSE]\n",
    "regression_model = ['Линейная регрессия', 81, regression_score]\n",
    "forest_model = ['Случайный лес', 63, forest_model_score]\n",
    "lg_model = ['LGBMRegressor', 92, 6666]\n",
    "cb_model = ['CatBoostRegressor', 68, cbr_model_score]\n",
    "\n",
    "table = pd.DataFrame([const_model, forest_model, regression_model, lg_model, cb_model], columns = columns)\n",
    "table['Качество по отношению к константной модели, %'] = round((1-table['RMSE']/const_RMSE) * 100, 2)\n",
    "\n",
    "display(table)"
   ]
  },
  {
   "cell_type": "markdown",
   "metadata": {},
   "source": [
    "Определяем RMSE лучшей модели по обучающей выборке с лучшими гиперпараметрами"
   ]
  },
  {
   "cell_type": "code",
   "execution_count": 49,
   "metadata": {
    "scrolled": true
   },
   "outputs": [
    {
     "name": "stdout",
     "output_type": "stream",
     "text": [
      "0:\tlearn: 1833.2537668\ttotal: 137ms\tremaining: 13.6s\n",
      "1:\tlearn: 1678.1863761\ttotal: 275ms\tremaining: 13.5s\n",
      "2:\tlearn: 1551.7003364\ttotal: 409ms\tremaining: 13.2s\n",
      "3:\tlearn: 1445.3673843\ttotal: 540ms\tremaining: 13s\n",
      "4:\tlearn: 1362.8539822\ttotal: 672ms\tremaining: 12.8s\n",
      "5:\tlearn: 1296.3791542\ttotal: 803ms\tremaining: 12.6s\n",
      "6:\tlearn: 1239.8408052\ttotal: 941ms\tremaining: 12.5s\n",
      "7:\tlearn: 1190.7396297\ttotal: 1.08s\tremaining: 12.4s\n",
      "8:\tlearn: 1153.5655265\ttotal: 1.21s\tremaining: 12.2s\n",
      "9:\tlearn: 1124.3648587\ttotal: 1.34s\tremaining: 12.1s\n",
      "10:\tlearn: 1095.4670794\ttotal: 1.48s\tremaining: 12s\n",
      "11:\tlearn: 1072.8025967\ttotal: 1.62s\tremaining: 11.9s\n",
      "12:\tlearn: 1055.9134335\ttotal: 1.76s\tremaining: 11.8s\n",
      "13:\tlearn: 1041.0872869\ttotal: 1.89s\tremaining: 11.6s\n",
      "14:\tlearn: 1030.4901393\ttotal: 2.02s\tremaining: 11.5s\n",
      "15:\tlearn: 1018.6721403\ttotal: 2.15s\tremaining: 11.3s\n",
      "16:\tlearn: 1010.3363081\ttotal: 2.28s\tremaining: 11.2s\n",
      "17:\tlearn: 1000.9499067\ttotal: 2.42s\tremaining: 11s\n",
      "18:\tlearn: 993.6304853\ttotal: 2.56s\tremaining: 10.9s\n",
      "19:\tlearn: 985.5316086\ttotal: 2.69s\tremaining: 10.8s\n",
      "20:\tlearn: 981.5412310\ttotal: 2.82s\tremaining: 10.6s\n",
      "21:\tlearn: 975.8083552\ttotal: 2.95s\tremaining: 10.5s\n",
      "22:\tlearn: 971.3496931\ttotal: 3.08s\tremaining: 10.3s\n",
      "23:\tlearn: 966.8486738\ttotal: 3.22s\tremaining: 10.2s\n",
      "24:\tlearn: 962.6871096\ttotal: 3.35s\tremaining: 10.1s\n",
      "25:\tlearn: 958.5772122\ttotal: 3.48s\tremaining: 9.92s\n",
      "26:\tlearn: 955.5431077\ttotal: 3.62s\tremaining: 9.78s\n",
      "27:\tlearn: 951.6455761\ttotal: 3.75s\tremaining: 9.64s\n",
      "28:\tlearn: 949.3610529\ttotal: 3.88s\tremaining: 9.51s\n",
      "29:\tlearn: 946.6934682\ttotal: 4.01s\tremaining: 9.37s\n",
      "30:\tlearn: 944.1347250\ttotal: 4.15s\tremaining: 9.24s\n",
      "31:\tlearn: 941.8079419\ttotal: 4.29s\tremaining: 9.12s\n",
      "32:\tlearn: 939.6591304\ttotal: 4.43s\tremaining: 8.99s\n",
      "33:\tlearn: 937.1729771\ttotal: 4.56s\tremaining: 8.86s\n",
      "34:\tlearn: 935.9258446\ttotal: 4.69s\tremaining: 8.72s\n",
      "35:\tlearn: 933.9436378\ttotal: 4.82s\tremaining: 8.58s\n",
      "36:\tlearn: 932.1579448\ttotal: 4.96s\tremaining: 8.44s\n",
      "37:\tlearn: 929.3883705\ttotal: 5.09s\tremaining: 8.31s\n",
      "38:\tlearn: 926.5571573\ttotal: 5.23s\tremaining: 8.17s\n",
      "39:\tlearn: 925.8522725\ttotal: 5.36s\tremaining: 8.04s\n",
      "40:\tlearn: 923.7543117\ttotal: 5.49s\tremaining: 7.9s\n",
      "41:\tlearn: 921.9988527\ttotal: 5.62s\tremaining: 7.76s\n",
      "42:\tlearn: 920.1457793\ttotal: 5.75s\tremaining: 7.62s\n",
      "43:\tlearn: 918.8554730\ttotal: 5.88s\tremaining: 7.49s\n",
      "44:\tlearn: 917.6799440\ttotal: 6.01s\tremaining: 7.35s\n",
      "45:\tlearn: 915.6399242\ttotal: 6.15s\tremaining: 7.22s\n",
      "46:\tlearn: 914.1204272\ttotal: 6.28s\tremaining: 7.08s\n",
      "47:\tlearn: 912.7502258\ttotal: 6.41s\tremaining: 6.95s\n",
      "48:\tlearn: 910.8219221\ttotal: 6.55s\tremaining: 6.82s\n",
      "49:\tlearn: 908.9689917\ttotal: 6.68s\tremaining: 6.68s\n",
      "50:\tlearn: 907.2357313\ttotal: 6.82s\tremaining: 6.55s\n",
      "51:\tlearn: 905.3626450\ttotal: 6.95s\tremaining: 6.42s\n",
      "52:\tlearn: 903.4609742\ttotal: 7.09s\tremaining: 6.29s\n",
      "53:\tlearn: 902.1646308\ttotal: 7.23s\tremaining: 6.16s\n",
      "54:\tlearn: 900.8292807\ttotal: 7.37s\tremaining: 6.03s\n",
      "55:\tlearn: 899.5113975\ttotal: 7.51s\tremaining: 5.9s\n",
      "56:\tlearn: 898.7639416\ttotal: 7.64s\tremaining: 5.76s\n",
      "57:\tlearn: 897.1146347\ttotal: 7.77s\tremaining: 5.63s\n",
      "58:\tlearn: 896.2113652\ttotal: 7.91s\tremaining: 5.5s\n",
      "59:\tlearn: 895.0384020\ttotal: 8.05s\tremaining: 5.37s\n",
      "60:\tlearn: 893.6090958\ttotal: 8.18s\tremaining: 5.23s\n",
      "61:\tlearn: 892.4685465\ttotal: 8.31s\tremaining: 5.09s\n",
      "62:\tlearn: 890.7721181\ttotal: 8.44s\tremaining: 4.96s\n",
      "63:\tlearn: 889.5371203\ttotal: 8.57s\tremaining: 4.82s\n",
      "64:\tlearn: 888.6635091\ttotal: 8.7s\tremaining: 4.68s\n",
      "65:\tlearn: 887.2475278\ttotal: 8.83s\tremaining: 4.55s\n",
      "66:\tlearn: 886.1738318\ttotal: 8.96s\tremaining: 4.41s\n",
      "67:\tlearn: 884.8107448\ttotal: 9.09s\tremaining: 4.28s\n",
      "68:\tlearn: 883.7591916\ttotal: 9.22s\tremaining: 4.14s\n",
      "69:\tlearn: 882.4535578\ttotal: 9.35s\tremaining: 4.01s\n",
      "70:\tlearn: 881.2596805\ttotal: 9.48s\tremaining: 3.87s\n",
      "71:\tlearn: 880.1439287\ttotal: 9.61s\tremaining: 3.74s\n",
      "72:\tlearn: 879.1087837\ttotal: 9.74s\tremaining: 3.6s\n",
      "73:\tlearn: 878.3149059\ttotal: 9.87s\tremaining: 3.47s\n",
      "74:\tlearn: 877.3841620\ttotal: 10s\tremaining: 3.33s\n",
      "75:\tlearn: 876.1800482\ttotal: 10.1s\tremaining: 3.2s\n",
      "76:\tlearn: 875.1417223\ttotal: 10.3s\tremaining: 3.06s\n",
      "77:\tlearn: 874.1815858\ttotal: 10.4s\tremaining: 2.93s\n",
      "78:\tlearn: 873.4665978\ttotal: 10.5s\tremaining: 2.8s\n",
      "79:\tlearn: 872.4859305\ttotal: 10.7s\tremaining: 2.67s\n",
      "80:\tlearn: 871.6988206\ttotal: 10.8s\tremaining: 2.53s\n",
      "81:\tlearn: 870.2636251\ttotal: 10.9s\tremaining: 2.4s\n",
      "82:\tlearn: 869.5059709\ttotal: 11.1s\tremaining: 2.27s\n",
      "83:\tlearn: 868.1947376\ttotal: 11.2s\tremaining: 2.13s\n",
      "84:\tlearn: 867.7684357\ttotal: 11.3s\tremaining: 2s\n",
      "85:\tlearn: 867.1080163\ttotal: 11.5s\tremaining: 1.87s\n",
      "86:\tlearn: 866.0149457\ttotal: 11.6s\tremaining: 1.74s\n",
      "87:\tlearn: 865.2974065\ttotal: 11.8s\tremaining: 1.6s\n",
      "88:\tlearn: 864.3316976\ttotal: 11.9s\tremaining: 1.47s\n",
      "89:\tlearn: 863.6394139\ttotal: 12s\tremaining: 1.33s\n",
      "90:\tlearn: 862.7768373\ttotal: 12.2s\tremaining: 1.2s\n",
      "91:\tlearn: 862.2503240\ttotal: 12.3s\tremaining: 1.07s\n",
      "92:\tlearn: 861.5789898\ttotal: 12.4s\tremaining: 935ms\n",
      "93:\tlearn: 860.7039572\ttotal: 12.6s\tremaining: 802ms\n",
      "94:\tlearn: 859.9564512\ttotal: 12.7s\tremaining: 668ms\n",
      "95:\tlearn: 858.4670455\ttotal: 12.8s\tremaining: 535ms\n",
      "96:\tlearn: 857.7852610\ttotal: 13s\tremaining: 401ms\n",
      "97:\tlearn: 856.8333708\ttotal: 13.1s\tremaining: 267ms\n",
      "98:\tlearn: 855.7827520\ttotal: 13.2s\tremaining: 134ms\n",
      "99:\tlearn: 855.0957047\ttotal: 13.4s\tremaining: 0us\n",
      "RMSE модели CatBoostRegressor: 919.444\n",
      "CPU times: user 40.3 s, sys: 6.88 s, total: 47.2 s\n",
      "Wall time: 13.6 s\n"
     ]
    }
   ],
   "source": [
    "%%time\n",
    "#Обучаю модель на оптимальных гиперпараметрах\n",
    "cbr_model_test = CatBoostRegressor(iterations=cb_params['iterations'],\n",
    "                                learning_rate=cb_params['learning_rate'],\n",
    "                                depth=cb_params['depth'])\n",
    "\n",
    "cbr_model_test.fit(features_train_oe, target_train)\n",
    "cbr_model_test_predictions = cbr_model_test.predict(features_test_oe)\n",
    "\n",
    "#Определяю метрику RMSE\n",
    "cbr_RMSE = round(RMSE(target_test, cbr_model_test_predictions), 3)\n",
    "print('RMSE модели CatBoostRegressor:', cbr_RMSE)"
   ]
  },
  {
   "cell_type": "markdown",
   "metadata": {},
   "source": [
    "## Общий вывод"
   ]
  },
  {
   "cell_type": "markdown",
   "metadata": {},
   "source": [
    "На первом этапе произведена загрузка данных и их подготовка для обучения моделей. Для анализа данных и построения модели предоставлен датасет, содержащий информацию о технических характеристиках, комплектациях и ценах автомобилей, которые размещались на площадке сервиса «Не бит, не крашен» для продажи. Датасет состоит из 16 столбцов с данными и 354369 строк. \n",
    "Для обучения моделей требовалась подготовка данных, а именно заполнение пропусков, удаление некоторых аномальных значений, удаление ненужных для обучения моделей столбцов. \n",
    "В итоге получен датасет, состоящий из 11 столбцов с данными и 221412 строк.\n",
    "\n",
    "На втором этапе обучены четыре модели. Определены оптимальные гиперпараметры и показатели метрики RMSE на кросс-валидации. В качестве моделей использованы **Линейная регрессия, Случайный лес, LGBMRegressor, CatBoostRegressor.**\n",
    "\n",
    "Третий этап позволил произвести анализ качества моделей относительно константной, определены временные рамки работы всех моделей. Для **константной модели** `RMSE=2084` Наименьший показатель метрики `RMSE=927` достигнут при использовании модели **CatBoostRegressor**, поэтому она была выбрана для тестовой выборки, где показала примерно тот же результат (RMSE=931 на тестовой выборке) время обучения этой модели составило *68 секунд.* Модель **LGBMRegressor** также показала неплохой результат с `RMSE=1119`, однако слишком большим временем обучения в *9 минут 35 секунд*.\n",
    "\n",
    "Для работы рекомендуется применять модель на основе CatBoostRegressor."
   ]
  }
 ],
 "metadata": {
  "ExecuteTimeLog": [
   {
    "duration": 1731,
    "start_time": "2023-02-17T06:47:41.677Z"
   },
   {
    "duration": 3008,
    "start_time": "2023-02-17T06:48:17.596Z"
   },
   {
    "duration": 132,
    "start_time": "2023-02-17T06:49:33.660Z"
   },
   {
    "duration": 341,
    "start_time": "2023-02-17T07:40:00.770Z"
   },
   {
    "duration": 123,
    "start_time": "2023-02-17T07:47:28.852Z"
   },
   {
    "duration": 15,
    "start_time": "2023-02-17T07:47:49.738Z"
   },
   {
    "duration": 119,
    "start_time": "2023-02-17T07:50:18.273Z"
   },
   {
    "duration": 10,
    "start_time": "2023-02-17T07:53:31.925Z"
   },
   {
    "duration": 377,
    "start_time": "2023-02-17T07:53:57.760Z"
   },
   {
    "duration": 14,
    "start_time": "2023-02-17T07:54:39.432Z"
   },
   {
    "duration": 101,
    "start_time": "2023-02-17T07:55:40.399Z"
   },
   {
    "duration": 431,
    "start_time": "2023-02-17T07:56:02.182Z"
   },
   {
    "duration": 72,
    "start_time": "2023-02-17T07:56:25.422Z"
   },
   {
    "duration": 320,
    "start_time": "2023-02-17T07:56:44.678Z"
   },
   {
    "duration": 236,
    "start_time": "2023-02-17T07:57:15.280Z"
   },
   {
    "duration": 114,
    "start_time": "2023-02-17T07:57:50.869Z"
   },
   {
    "duration": 36,
    "start_time": "2023-02-17T07:58:03.999Z"
   },
   {
    "duration": 117,
    "start_time": "2023-02-17T07:58:17.534Z"
   },
   {
    "duration": 45,
    "start_time": "2023-02-17T07:58:32.529Z"
   },
   {
    "duration": 69,
    "start_time": "2023-02-17T07:58:51.032Z"
   },
   {
    "duration": 3302,
    "start_time": "2023-02-17T07:59:05.390Z"
   },
   {
    "duration": 3760,
    "start_time": "2023-02-17T07:59:33.550Z"
   },
   {
    "duration": 90,
    "start_time": "2023-02-17T07:59:46.118Z"
   },
   {
    "duration": 316,
    "start_time": "2023-02-17T08:00:01.737Z"
   },
   {
    "duration": 324,
    "start_time": "2023-02-17T08:00:19.078Z"
   },
   {
    "duration": 335,
    "start_time": "2023-02-17T08:00:49.038Z"
   },
   {
    "duration": 416,
    "start_time": "2023-02-17T08:01:29.609Z"
   },
   {
    "duration": 60,
    "start_time": "2023-02-17T08:01:43.654Z"
   },
   {
    "duration": 51,
    "start_time": "2023-02-17T08:02:58.838Z"
   },
   {
    "duration": 1687,
    "start_time": "2023-02-17T08:03:08.630Z"
   },
   {
    "duration": 47,
    "start_time": "2023-02-17T08:04:20.484Z"
   },
   {
    "duration": 20,
    "start_time": "2023-02-17T08:04:52.992Z"
   },
   {
    "duration": 110,
    "start_time": "2023-02-17T08:05:10.042Z"
   },
   {
    "duration": 4,
    "start_time": "2023-02-17T08:05:28.190Z"
   },
   {
    "duration": 3,
    "start_time": "2023-02-17T08:05:34.222Z"
   },
   {
    "duration": 10,
    "start_time": "2023-02-17T08:12:41.735Z"
   },
   {
    "duration": 10,
    "start_time": "2023-02-17T08:12:46.509Z"
   },
   {
    "duration": 610,
    "start_time": "2023-02-17T08:13:00.650Z"
   },
   {
    "duration": 402,
    "start_time": "2023-02-17T08:13:28.271Z"
   },
   {
    "duration": 4,
    "start_time": "2023-02-17T08:13:37.150Z"
   },
   {
    "duration": 10,
    "start_time": "2023-02-17T08:13:53.175Z"
   },
   {
    "duration": 5,
    "start_time": "2023-02-17T08:14:36.594Z"
   },
   {
    "duration": 4,
    "start_time": "2023-02-17T08:14:40.783Z"
   },
   {
    "duration": 63540,
    "start_time": "2023-02-17T08:15:21.900Z"
   },
   {
    "duration": 5,
    "start_time": "2023-02-17T08:17:12.218Z"
   },
   {
    "duration": 5,
    "start_time": "2023-02-17T08:17:18.475Z"
   },
   {
    "duration": 4,
    "start_time": "2023-02-17T08:17:23.490Z"
   },
   {
    "duration": 14,
    "start_time": "2023-02-17T08:17:31.304Z"
   },
   {
    "duration": 137,
    "start_time": "2023-02-17T08:17:44.952Z"
   },
   {
    "duration": 5,
    "start_time": "2023-02-17T08:19:00.488Z"
   },
   {
    "duration": 5,
    "start_time": "2023-02-17T08:19:11.672Z"
   },
   {
    "duration": 5,
    "start_time": "2023-02-17T08:19:31.993Z"
   },
   {
    "duration": 4,
    "start_time": "2023-02-17T08:19:52.130Z"
   },
   {
    "duration": 5,
    "start_time": "2023-02-17T08:20:08.999Z"
   },
   {
    "duration": 357885,
    "start_time": "2023-02-17T08:20:21.433Z"
   },
   {
    "duration": 4,
    "start_time": "2023-02-17T08:26:19.320Z"
   },
   {
    "duration": 4,
    "start_time": "2023-02-17T08:26:33.169Z"
   },
   {
    "duration": 76,
    "start_time": "2023-02-17T08:27:24.529Z"
   },
   {
    "duration": 4,
    "start_time": "2023-02-17T08:28:30.065Z"
   },
   {
    "duration": 221,
    "start_time": "2023-02-17T08:28:33.745Z"
   },
   {
    "duration": 128,
    "start_time": "2023-02-17T08:29:07.041Z"
   },
   {
    "duration": 122,
    "start_time": "2023-02-17T08:30:37.609Z"
   },
   {
    "duration": 134,
    "start_time": "2023-02-17T08:30:40.804Z"
   },
   {
    "duration": 642022,
    "start_time": "2023-02-17T08:30:52.620Z"
   },
   {
    "duration": 11,
    "start_time": "2023-02-17T08:41:34.644Z"
   },
   {
    "duration": 26,
    "start_time": "2023-02-17T08:41:34.657Z"
   },
   {
    "duration": 0,
    "start_time": "2023-02-17T08:41:34.685Z"
   },
   {
    "duration": 0,
    "start_time": "2023-02-17T08:41:34.687Z"
   },
   {
    "duration": 0,
    "start_time": "2023-02-17T08:41:34.689Z"
   },
   {
    "duration": 0,
    "start_time": "2023-02-17T08:41:34.690Z"
   },
   {
    "duration": 0,
    "start_time": "2023-02-17T08:41:34.692Z"
   },
   {
    "duration": 0,
    "start_time": "2023-02-17T08:41:34.692Z"
   },
   {
    "duration": 0,
    "start_time": "2023-02-17T08:41:34.694Z"
   },
   {
    "duration": 0,
    "start_time": "2023-02-17T08:41:34.695Z"
   },
   {
    "duration": 0,
    "start_time": "2023-02-17T08:41:34.696Z"
   },
   {
    "duration": 0,
    "start_time": "2023-02-17T08:41:34.697Z"
   },
   {
    "duration": 0,
    "start_time": "2023-02-17T08:41:34.698Z"
   },
   {
    "duration": 0,
    "start_time": "2023-02-17T08:41:34.700Z"
   },
   {
    "duration": 349,
    "start_time": "2023-02-17T08:42:15.978Z"
   },
   {
    "duration": 1000,
    "start_time": "2023-02-17T08:42:28.857Z"
   },
   {
    "duration": 189,
    "start_time": "2023-02-17T08:42:41.453Z"
   },
   {
    "duration": 169324,
    "start_time": "2023-02-17T08:42:47.882Z"
   },
   {
    "duration": 197,
    "start_time": "2023-02-17T08:45:37.208Z"
   },
   {
    "duration": 214,
    "start_time": "2023-02-17T08:45:46.781Z"
   },
   {
    "duration": 6,
    "start_time": "2023-02-17T08:49:23.210Z"
   },
   {
    "duration": 9,
    "start_time": "2023-02-17T08:49:24.610Z"
   },
   {
    "duration": 24116,
    "start_time": "2023-02-17T08:49:42.234Z"
   },
   {
    "duration": 11407,
    "start_time": "2023-02-17T08:50:06.440Z"
   },
   {
    "duration": 3635,
    "start_time": "2023-02-17T08:50:17.849Z"
   },
   {
    "duration": 0,
    "start_time": "2023-02-17T08:50:21.485Z"
   },
   {
    "duration": 0,
    "start_time": "2023-02-17T08:50:21.487Z"
   },
   {
    "duration": 0,
    "start_time": "2023-02-17T08:50:21.488Z"
   },
   {
    "duration": 0,
    "start_time": "2023-02-17T08:50:21.489Z"
   },
   {
    "duration": 0,
    "start_time": "2023-02-17T08:50:21.490Z"
   },
   {
    "duration": 99,
    "start_time": "2023-02-17T08:52:44.594Z"
   },
   {
    "duration": 10668,
    "start_time": "2023-02-17T08:52:50.377Z"
   },
   {
    "duration": 32339,
    "start_time": "2023-02-17T08:53:06.828Z"
   },
   {
    "duration": 13,
    "start_time": "2023-02-17T08:53:39.169Z"
   },
   {
    "duration": 1636,
    "start_time": "2023-02-20T03:50:50.174Z"
   },
   {
    "duration": 40,
    "start_time": "2023-02-20T03:51:52.958Z"
   },
   {
    "duration": 5,
    "start_time": "2023-02-20T03:58:28.518Z"
   },
   {
    "duration": 114,
    "start_time": "2023-02-20T04:02:05.916Z"
   },
   {
    "duration": 4,
    "start_time": "2023-02-20T04:02:17.260Z"
   },
   {
    "duration": 1228,
    "start_time": "2023-02-20T04:02:19.545Z"
   },
   {
    "duration": 102,
    "start_time": "2023-02-20T04:02:22.058Z"
   },
   {
    "duration": 345,
    "start_time": "2023-02-20T04:02:23.880Z"
   },
   {
    "duration": 97,
    "start_time": "2023-02-20T04:02:26.812Z"
   },
   {
    "duration": 11,
    "start_time": "2023-02-20T04:02:29.057Z"
   },
   {
    "duration": 385,
    "start_time": "2023-02-20T04:02:30.777Z"
   },
   {
    "duration": 437,
    "start_time": "2023-02-20T04:03:05.126Z"
   },
   {
    "duration": 379,
    "start_time": "2023-02-20T04:03:45.134Z"
   },
   {
    "duration": 347,
    "start_time": "2023-02-20T04:04:12.111Z"
   },
   {
    "duration": 319,
    "start_time": "2023-02-20T04:06:30.534Z"
   },
   {
    "duration": 338,
    "start_time": "2023-02-20T04:07:57.053Z"
   },
   {
    "duration": 271,
    "start_time": "2023-02-20T04:08:20.909Z"
   },
   {
    "duration": 413,
    "start_time": "2023-02-20T04:10:05.237Z"
   },
   {
    "duration": 337,
    "start_time": "2023-02-20T04:10:26.713Z"
   },
   {
    "duration": 370,
    "start_time": "2023-02-20T04:10:53.791Z"
   },
   {
    "duration": 281,
    "start_time": "2023-02-20T04:10:58.348Z"
   },
   {
    "duration": 311,
    "start_time": "2023-02-20T04:11:20.960Z"
   },
   {
    "duration": 81,
    "start_time": "2023-02-20T04:13:25.667Z"
   },
   {
    "duration": 81,
    "start_time": "2023-02-20T04:13:28.834Z"
   },
   {
    "duration": 51,
    "start_time": "2023-02-20T04:14:36.765Z"
   },
   {
    "duration": 56,
    "start_time": "2023-02-20T04:14:39.083Z"
   },
   {
    "duration": 40,
    "start_time": "2023-02-20T04:16:10.612Z"
   },
   {
    "duration": 120,
    "start_time": "2023-02-20T04:16:21.461Z"
   },
   {
    "duration": 40,
    "start_time": "2023-02-20T04:22:08.581Z"
   },
   {
    "duration": 161,
    "start_time": "2023-02-20T04:22:24.429Z"
   },
   {
    "duration": 46,
    "start_time": "2023-02-20T04:24:18.645Z"
   },
   {
    "duration": 52,
    "start_time": "2023-02-20T04:24:23.949Z"
   },
   {
    "duration": 65,
    "start_time": "2023-02-20T04:24:28.308Z"
   },
   {
    "duration": 153,
    "start_time": "2023-02-20T04:26:00.949Z"
   },
   {
    "duration": 72,
    "start_time": "2023-02-20T04:26:06.661Z"
   },
   {
    "duration": 80,
    "start_time": "2023-02-20T04:26:08.209Z"
   },
   {
    "duration": 79,
    "start_time": "2023-02-20T04:26:09.738Z"
   },
   {
    "duration": 71,
    "start_time": "2023-02-20T04:26:12.257Z"
   },
   {
    "duration": 63,
    "start_time": "2023-02-20T04:26:16.074Z"
   },
   {
    "duration": 63,
    "start_time": "2023-02-20T04:26:26.338Z"
   },
   {
    "duration": 4,
    "start_time": "2023-02-20T04:26:33.697Z"
   },
   {
    "duration": 829,
    "start_time": "2023-02-20T04:26:37.461Z"
   },
   {
    "duration": 96,
    "start_time": "2023-02-20T04:26:42.848Z"
   },
   {
    "duration": 316,
    "start_time": "2023-02-20T04:26:44.416Z"
   },
   {
    "duration": 93,
    "start_time": "2023-02-20T04:26:48.530Z"
   },
   {
    "duration": 10,
    "start_time": "2023-02-20T04:26:50.553Z"
   },
   {
    "duration": 372,
    "start_time": "2023-02-20T04:26:51.954Z"
   },
   {
    "duration": 13,
    "start_time": "2023-02-20T04:26:55.481Z"
   },
   {
    "duration": 80,
    "start_time": "2023-02-20T04:26:56.729Z"
   },
   {
    "duration": 402,
    "start_time": "2023-02-20T04:26:58.640Z"
   },
   {
    "duration": 261,
    "start_time": "2023-02-20T04:27:01.474Z"
   },
   {
    "duration": 58,
    "start_time": "2023-02-20T04:27:05.969Z"
   },
   {
    "duration": 313,
    "start_time": "2023-02-20T04:27:07.345Z"
   },
   {
    "duration": 240,
    "start_time": "2023-02-20T04:27:09.785Z"
   },
   {
    "duration": 65,
    "start_time": "2023-02-20T04:27:13.369Z"
   },
   {
    "duration": 36,
    "start_time": "2023-02-20T04:27:15.841Z"
   },
   {
    "duration": 89,
    "start_time": "2023-02-20T04:27:18.034Z"
   },
   {
    "duration": 90,
    "start_time": "2023-02-20T04:27:22.562Z"
   },
   {
    "duration": 26,
    "start_time": "2023-02-20T04:27:25.466Z"
   },
   {
    "duration": 52,
    "start_time": "2023-02-20T04:27:27.353Z"
   },
   {
    "duration": 2822,
    "start_time": "2023-02-20T04:27:29.225Z"
   },
   {
    "duration": 3262,
    "start_time": "2023-02-20T04:27:35.730Z"
   },
   {
    "duration": 45,
    "start_time": "2023-02-20T04:27:41.745Z"
   },
   {
    "duration": 50,
    "start_time": "2023-02-20T04:27:58.553Z"
   },
   {
    "duration": 49,
    "start_time": "2023-02-20T04:28:11.745Z"
   },
   {
    "duration": 55,
    "start_time": "2023-02-20T04:33:13.161Z"
   },
   {
    "duration": 356,
    "start_time": "2023-02-20T06:06:27.071Z"
   },
   {
    "duration": 49,
    "start_time": "2023-02-20T06:06:54.421Z"
   },
   {
    "duration": 45,
    "start_time": "2023-02-20T06:06:55.989Z"
   },
   {
    "duration": 349,
    "start_time": "2023-02-20T06:06:57.677Z"
   },
   {
    "duration": 2,
    "start_time": "2023-02-20T06:07:03.750Z"
   },
   {
    "duration": 366,
    "start_time": "2023-02-20T06:07:37.142Z"
   },
   {
    "duration": 356,
    "start_time": "2023-02-20T06:08:09.230Z"
   },
   {
    "duration": 343,
    "start_time": "2023-02-20T06:08:18.934Z"
   },
   {
    "duration": 1346,
    "start_time": "2023-02-20T06:08:38.221Z"
   },
   {
    "duration": 875,
    "start_time": "2023-02-20T06:08:41.718Z"
   },
   {
    "duration": 116,
    "start_time": "2023-02-20T06:08:43.823Z"
   },
   {
    "duration": 293,
    "start_time": "2023-02-20T06:08:45.134Z"
   },
   {
    "duration": 95,
    "start_time": "2023-02-20T06:08:47.198Z"
   },
   {
    "duration": 10,
    "start_time": "2023-02-20T06:08:49.445Z"
   },
   {
    "duration": 373,
    "start_time": "2023-02-20T06:08:51.167Z"
   },
   {
    "duration": 12,
    "start_time": "2023-02-20T06:08:53.733Z"
   },
   {
    "duration": 73,
    "start_time": "2023-02-20T06:08:55.141Z"
   },
   {
    "duration": 365,
    "start_time": "2023-02-20T06:08:56.734Z"
   },
   {
    "duration": 57,
    "start_time": "2023-02-20T06:08:59.126Z"
   },
   {
    "duration": 322,
    "start_time": "2023-02-20T06:09:00.470Z"
   },
   {
    "duration": 247,
    "start_time": "2023-02-20T06:09:02.981Z"
   },
   {
    "duration": 70,
    "start_time": "2023-02-20T06:09:05.221Z"
   },
   {
    "duration": 31,
    "start_time": "2023-02-20T06:09:08.118Z"
   },
   {
    "duration": 98,
    "start_time": "2023-02-20T06:09:09.983Z"
   },
   {
    "duration": 37,
    "start_time": "2023-02-20T06:09:12.758Z"
   },
   {
    "duration": 55,
    "start_time": "2023-02-20T06:09:14.687Z"
   },
   {
    "duration": 3101,
    "start_time": "2023-02-20T06:09:16.381Z"
   },
   {
    "duration": 3211,
    "start_time": "2023-02-20T06:09:19.484Z"
   },
   {
    "duration": 46,
    "start_time": "2023-02-20T06:09:22.700Z"
   },
   {
    "duration": 57,
    "start_time": "2023-02-20T06:09:23.877Z"
   },
   {
    "duration": 46,
    "start_time": "2023-02-20T06:09:25.151Z"
   },
   {
    "duration": 305,
    "start_time": "2023-02-20T06:09:26.789Z"
   },
   {
    "duration": 306,
    "start_time": "2023-02-20T06:09:29.469Z"
   },
   {
    "duration": 304,
    "start_time": "2023-02-20T06:09:31.829Z"
   },
   {
    "duration": 460,
    "start_time": "2023-02-20T06:09:34.421Z"
   },
   {
    "duration": 329,
    "start_time": "2023-02-20T06:09:37.152Z"
   },
   {
    "duration": 49,
    "start_time": "2023-02-20T06:09:39.437Z"
   },
   {
    "duration": 2,
    "start_time": "2023-02-20T06:09:43.262Z"
   },
   {
    "duration": 2,
    "start_time": "2023-02-20T06:09:44.462Z"
   },
   {
    "duration": 463,
    "start_time": "2023-02-20T06:09:46.518Z"
   },
   {
    "duration": 3,
    "start_time": "2023-02-20T06:10:47.782Z"
   },
   {
    "duration": 4,
    "start_time": "2023-02-20T06:10:49.909Z"
   },
   {
    "duration": 104,
    "start_time": "2023-02-20T06:24:28.366Z"
   },
   {
    "duration": 3,
    "start_time": "2023-02-20T06:24:33.408Z"
   },
   {
    "duration": 57,
    "start_time": "2023-02-20T06:24:38.096Z"
   },
   {
    "duration": 55,
    "start_time": "2023-02-20T06:25:21.262Z"
   },
   {
    "duration": 10,
    "start_time": "2023-02-20T06:25:27.486Z"
   },
   {
    "duration": 482,
    "start_time": "2023-02-20T06:25:34.935Z"
   },
   {
    "duration": 338,
    "start_time": "2023-02-20T06:25:36.744Z"
   },
   {
    "duration": 290,
    "start_time": "2023-02-20T06:25:43.943Z"
   },
   {
    "duration": 3,
    "start_time": "2023-02-20T06:25:44.991Z"
   },
   {
    "duration": 3,
    "start_time": "2023-02-20T06:25:47.463Z"
   },
   {
    "duration": 333411,
    "start_time": "2023-02-20T06:25:57.294Z"
   },
   {
    "duration": 241,
    "start_time": "2023-02-20T06:31:30.708Z"
   },
   {
    "duration": 231,
    "start_time": "2023-02-20T06:31:39.462Z"
   },
   {
    "duration": 100,
    "start_time": "2023-02-20T06:33:42.670Z"
   },
   {
    "duration": 79,
    "start_time": "2023-02-20T06:33:55.702Z"
   },
   {
    "duration": 81,
    "start_time": "2023-02-20T06:35:09.854Z"
   },
   {
    "duration": 4559,
    "start_time": "2023-02-20T06:35:37.280Z"
   },
   {
    "duration": 2199,
    "start_time": "2023-02-20T06:37:35.359Z"
   },
   {
    "duration": 274,
    "start_time": "2023-02-20T06:40:03.974Z"
   },
   {
    "duration": 15,
    "start_time": "2023-02-20T06:40:32.848Z"
   },
   {
    "duration": 39,
    "start_time": "2023-02-20T06:40:57.831Z"
   },
   {
    "duration": 2306,
    "start_time": "2023-02-20T06:41:03.470Z"
   },
   {
    "duration": 955,
    "start_time": "2023-02-20T06:44:42.054Z"
   },
   {
    "duration": 4,
    "start_time": "2023-02-20T06:44:49.438Z"
   },
   {
    "duration": 682,
    "start_time": "2023-02-20T06:45:02.327Z"
   },
   {
    "duration": 3,
    "start_time": "2023-02-20T06:45:04.240Z"
   },
   {
    "duration": 3,
    "start_time": "2023-02-20T06:45:12.022Z"
   },
   {
    "duration": 2148,
    "start_time": "2023-02-20T06:45:35.887Z"
   },
   {
    "duration": 53,
    "start_time": "2023-02-20T06:46:08.862Z"
   },
   {
    "duration": 2393,
    "start_time": "2023-02-20T06:46:14.463Z"
   },
   {
    "duration": 57,
    "start_time": "2023-02-20T06:48:20.535Z"
   },
   {
    "duration": 54,
    "start_time": "2023-02-20T06:48:30.104Z"
   },
   {
    "duration": 42926,
    "start_time": "2023-02-20T06:48:34.479Z"
   },
   {
    "duration": 526,
    "start_time": "2023-02-20T06:49:17.408Z"
   },
   {
    "duration": 269,
    "start_time": "2023-02-20T06:49:20.786Z"
   },
   {
    "duration": 1297,
    "start_time": "2023-02-20T06:49:27.452Z"
   },
   {
    "duration": 939,
    "start_time": "2023-02-20T06:49:28.751Z"
   },
   {
    "duration": 122,
    "start_time": "2023-02-20T06:49:29.692Z"
   },
   {
    "duration": 330,
    "start_time": "2023-02-20T06:49:29.816Z"
   },
   {
    "duration": 102,
    "start_time": "2023-02-20T06:49:30.147Z"
   },
   {
    "duration": 20,
    "start_time": "2023-02-20T06:49:30.250Z"
   },
   {
    "duration": 395,
    "start_time": "2023-02-20T06:49:30.272Z"
   },
   {
    "duration": 13,
    "start_time": "2023-02-20T06:49:30.668Z"
   },
   {
    "duration": 95,
    "start_time": "2023-02-20T06:49:30.683Z"
   },
   {
    "duration": 375,
    "start_time": "2023-02-20T06:49:30.781Z"
   },
   {
    "duration": 66,
    "start_time": "2023-02-20T06:49:31.157Z"
   },
   {
    "duration": 331,
    "start_time": "2023-02-20T06:49:31.224Z"
   },
   {
    "duration": 250,
    "start_time": "2023-02-20T06:49:31.556Z"
   },
   {
    "duration": 66,
    "start_time": "2023-02-20T06:49:31.807Z"
   },
   {
    "duration": 46,
    "start_time": "2023-02-20T06:49:31.874Z"
   },
   {
    "duration": 110,
    "start_time": "2023-02-20T06:49:31.921Z"
   },
   {
    "duration": 30,
    "start_time": "2023-02-20T06:49:32.032Z"
   },
   {
    "duration": 61,
    "start_time": "2023-02-20T06:49:32.063Z"
   },
   {
    "duration": 3124,
    "start_time": "2023-02-20T06:49:32.126Z"
   },
   {
    "duration": 3247,
    "start_time": "2023-02-20T06:49:35.252Z"
   },
   {
    "duration": 49,
    "start_time": "2023-02-20T06:49:38.501Z"
   },
   {
    "duration": 59,
    "start_time": "2023-02-20T06:49:38.551Z"
   },
   {
    "duration": 48,
    "start_time": "2023-02-20T06:49:38.612Z"
   },
   {
    "duration": 303,
    "start_time": "2023-02-20T06:49:38.661Z"
   },
   {
    "duration": 317,
    "start_time": "2023-02-20T06:49:38.966Z"
   },
   {
    "duration": 362,
    "start_time": "2023-02-20T06:49:39.285Z"
   },
   {
    "duration": 502,
    "start_time": "2023-02-20T06:49:39.650Z"
   },
   {
    "duration": 54,
    "start_time": "2023-02-20T06:49:40.157Z"
   },
   {
    "duration": 2,
    "start_time": "2023-02-20T06:49:40.213Z"
   },
   {
    "duration": 86,
    "start_time": "2023-02-20T06:49:40.217Z"
   },
   {
    "duration": 6,
    "start_time": "2023-02-20T06:49:40.305Z"
   },
   {
    "duration": 9,
    "start_time": "2023-02-20T06:49:40.312Z"
   },
   {
    "duration": 670,
    "start_time": "2023-02-20T06:49:40.323Z"
   },
   {
    "duration": 347,
    "start_time": "2023-02-20T06:49:40.995Z"
   },
   {
    "duration": 109,
    "start_time": "2023-02-20T06:49:41.344Z"
   },
   {
    "duration": 0,
    "start_time": "2023-02-20T06:49:41.455Z"
   },
   {
    "duration": 0,
    "start_time": "2023-02-20T06:49:41.456Z"
   },
   {
    "duration": 0,
    "start_time": "2023-02-20T06:49:41.457Z"
   },
   {
    "duration": 0,
    "start_time": "2023-02-20T06:49:41.458Z"
   },
   {
    "duration": 0,
    "start_time": "2023-02-20T06:49:41.459Z"
   },
   {
    "duration": 0,
    "start_time": "2023-02-20T06:49:41.461Z"
   },
   {
    "duration": 0,
    "start_time": "2023-02-20T06:49:41.462Z"
   },
   {
    "duration": 0,
    "start_time": "2023-02-20T06:49:41.463Z"
   },
   {
    "duration": 0,
    "start_time": "2023-02-20T06:49:41.464Z"
   },
   {
    "duration": 0,
    "start_time": "2023-02-20T06:49:41.465Z"
   },
   {
    "duration": 4,
    "start_time": "2023-02-20T06:52:02.030Z"
   },
   {
    "duration": 275,
    "start_time": "2023-02-20T06:52:08.502Z"
   },
   {
    "duration": 5,
    "start_time": "2023-02-20T06:52:09.542Z"
   },
   {
    "duration": 3,
    "start_time": "2023-02-20T06:52:17.111Z"
   },
   {
    "duration": 3,
    "start_time": "2023-02-20T06:52:19.088Z"
   },
   {
    "duration": 62,
    "start_time": "2023-02-20T06:52:21.576Z"
   },
   {
    "duration": 52,
    "start_time": "2023-02-20T06:52:48.077Z"
   },
   {
    "duration": 41250,
    "start_time": "2023-02-20T06:52:53.856Z"
   },
   {
    "duration": 2487,
    "start_time": "2023-02-20T06:58:06.352Z"
   },
   {
    "duration": 232813,
    "start_time": "2023-02-20T07:03:10.777Z"
   },
   {
    "duration": 58,
    "start_time": "2023-02-20T07:08:35.911Z"
   },
   {
    "duration": 5,
    "start_time": "2023-02-20T07:09:45.952Z"
   },
   {
    "duration": 322204,
    "start_time": "2023-02-20T07:18:24.445Z"
   },
   {
    "duration": 8131,
    "start_time": "2023-02-20T07:23:46.650Z"
   },
   {
    "duration": 0,
    "start_time": "2023-02-20T07:23:54.832Z"
   },
   {
    "duration": 0,
    "start_time": "2023-02-20T07:23:54.833Z"
   },
   {
    "duration": 67,
    "start_time": "2023-02-20T07:24:31.719Z"
   },
   {
    "duration": 50,
    "start_time": "2023-02-20T07:26:26.259Z"
   },
   {
    "duration": 1419,
    "start_time": "2023-02-20T07:27:25.068Z"
   },
   {
    "duration": 1019,
    "start_time": "2023-02-20T07:27:26.489Z"
   },
   {
    "duration": 127,
    "start_time": "2023-02-20T07:27:27.509Z"
   },
   {
    "duration": 340,
    "start_time": "2023-02-20T07:27:27.638Z"
   },
   {
    "duration": 106,
    "start_time": "2023-02-20T07:27:27.980Z"
   },
   {
    "duration": 18,
    "start_time": "2023-02-20T07:27:28.087Z"
   },
   {
    "duration": 405,
    "start_time": "2023-02-20T07:27:28.106Z"
   },
   {
    "duration": 13,
    "start_time": "2023-02-20T07:27:28.512Z"
   },
   {
    "duration": 98,
    "start_time": "2023-02-20T07:27:28.527Z"
   },
   {
    "duration": 302,
    "start_time": "2023-02-20T07:27:28.629Z"
   },
   {
    "duration": 68,
    "start_time": "2023-02-20T07:27:28.934Z"
   },
   {
    "duration": 419,
    "start_time": "2023-02-20T07:27:29.004Z"
   },
   {
    "duration": 279,
    "start_time": "2023-02-20T07:27:29.425Z"
   },
   {
    "duration": 70,
    "start_time": "2023-02-20T07:27:29.706Z"
   },
   {
    "duration": 39,
    "start_time": "2023-02-20T07:27:29.777Z"
   },
   {
    "duration": 116,
    "start_time": "2023-02-20T07:27:29.818Z"
   },
   {
    "duration": 29,
    "start_time": "2023-02-20T07:27:29.936Z"
   },
   {
    "duration": 67,
    "start_time": "2023-02-20T07:27:29.968Z"
   },
   {
    "duration": 2994,
    "start_time": "2023-02-20T07:27:30.037Z"
   },
   {
    "duration": 3305,
    "start_time": "2023-02-20T07:27:33.032Z"
   },
   {
    "duration": 49,
    "start_time": "2023-02-20T07:27:36.339Z"
   },
   {
    "duration": 46,
    "start_time": "2023-02-20T07:27:36.398Z"
   },
   {
    "duration": 65,
    "start_time": "2023-02-20T07:27:36.446Z"
   },
   {
    "duration": 307,
    "start_time": "2023-02-20T07:27:36.513Z"
   },
   {
    "duration": 371,
    "start_time": "2023-02-20T07:27:36.822Z"
   },
   {
    "duration": 359,
    "start_time": "2023-02-20T07:27:37.195Z"
   },
   {
    "duration": 336,
    "start_time": "2023-02-20T07:27:37.556Z"
   },
   {
    "duration": 50,
    "start_time": "2023-02-20T07:27:37.898Z"
   },
   {
    "duration": 3,
    "start_time": "2023-02-20T07:27:37.950Z"
   },
   {
    "duration": 17,
    "start_time": "2023-02-20T07:27:37.954Z"
   },
   {
    "duration": 10,
    "start_time": "2023-02-20T07:27:37.973Z"
   },
   {
    "duration": 10,
    "start_time": "2023-02-20T07:27:37.985Z"
   },
   {
    "duration": 830,
    "start_time": "2023-02-20T07:27:37.997Z"
   },
   {
    "duration": 363,
    "start_time": "2023-02-20T07:27:38.829Z"
   },
   {
    "duration": 4,
    "start_time": "2023-02-20T07:27:39.194Z"
   },
   {
    "duration": 29,
    "start_time": "2023-02-20T07:27:39.200Z"
   },
   {
    "duration": 47477,
    "start_time": "2023-02-20T07:27:39.231Z"
   },
   {
    "duration": 429065,
    "start_time": "2023-02-20T07:28:26.710Z"
   },
   {
    "duration": 6877,
    "start_time": "2023-02-20T07:35:35.777Z"
   },
   {
    "duration": 620,
    "start_time": "2023-02-20T07:35:42.655Z"
   },
   {
    "duration": 4796,
    "start_time": "2023-02-20T07:35:43.277Z"
   },
   {
    "duration": 62,
    "start_time": "2023-02-20T07:35:48.075Z"
   },
   {
    "duration": 2,
    "start_time": "2023-02-20T07:35:48.139Z"
   },
   {
    "duration": 6440,
    "start_time": "2023-02-20T07:58:08.526Z"
   },
   {
    "duration": 603,
    "start_time": "2023-02-20T07:59:37.663Z"
   },
   {
    "duration": 36,
    "start_time": "2023-02-20T08:01:18.230Z"
   },
   {
    "duration": 36,
    "start_time": "2023-02-20T08:01:19.231Z"
   },
   {
    "duration": 403,
    "start_time": "2023-02-20T08:01:30.206Z"
   },
   {
    "duration": 17,
    "start_time": "2023-02-20T08:01:46.255Z"
   },
   {
    "duration": 15,
    "start_time": "2023-02-20T08:02:00.451Z"
   },
   {
    "duration": 86,
    "start_time": "2023-02-20T08:02:24.352Z"
   },
   {
    "duration": 3,
    "start_time": "2023-02-20T08:02:28.470Z"
   },
   {
    "duration": 598,
    "start_time": "2023-02-20T08:02:35.111Z"
   },
   {
    "duration": 306,
    "start_time": "2023-02-20T08:02:37.350Z"
   },
   {
    "duration": 4,
    "start_time": "2023-02-20T08:02:38.078Z"
   },
   {
    "duration": 3,
    "start_time": "2023-02-20T08:02:39.758Z"
   },
   {
    "duration": 42900,
    "start_time": "2023-02-20T08:06:01.575Z"
   },
   {
    "duration": 337466,
    "start_time": "2023-02-20T08:14:53.344Z"
   },
   {
    "duration": 293935,
    "start_time": "2023-02-20T08:20:30.813Z"
   },
   {
    "duration": 48200,
    "start_time": "2023-02-20T08:25:24.750Z"
   },
   {
    "duration": 46738,
    "start_time": "2023-02-20T08:44:02.116Z"
   },
   {
    "duration": 49036,
    "start_time": "2023-02-20T08:45:57.881Z"
   },
   {
    "duration": 61,
    "start_time": "2023-02-20T08:48:05.089Z"
   },
   {
    "duration": 14718,
    "start_time": "2023-02-20T08:53:13.582Z"
   },
   {
    "duration": 22300,
    "start_time": "2023-02-20T08:57:11.936Z"
   },
   {
    "duration": 22219,
    "start_time": "2023-02-20T08:57:46.212Z"
   },
   {
    "duration": 56,
    "start_time": "2023-02-20T08:58:08.433Z"
   },
   {
    "duration": 54,
    "start_time": "2023-02-20T08:58:14.519Z"
   },
   {
    "duration": 4,
    "start_time": "2023-02-20T08:58:59.199Z"
   },
   {
    "duration": 4,
    "start_time": "2023-02-20T08:59:12.012Z"
   },
   {
    "duration": 87,
    "start_time": "2023-02-20T09:00:10.428Z"
   },
   {
    "duration": 67,
    "start_time": "2023-02-20T09:08:31.817Z"
   },
   {
    "duration": 84,
    "start_time": "2023-02-20T09:08:40.721Z"
   },
   {
    "duration": 1387,
    "start_time": "2023-02-20T09:08:45.589Z"
   },
   {
    "duration": 1078,
    "start_time": "2023-02-20T09:08:46.979Z"
   },
   {
    "duration": 116,
    "start_time": "2023-02-20T09:08:48.059Z"
   },
   {
    "duration": 362,
    "start_time": "2023-02-20T09:08:48.177Z"
   },
   {
    "duration": 107,
    "start_time": "2023-02-20T09:08:48.541Z"
   },
   {
    "duration": 12,
    "start_time": "2023-02-20T09:08:48.650Z"
   },
   {
    "duration": 411,
    "start_time": "2023-02-20T09:08:48.663Z"
   },
   {
    "duration": 14,
    "start_time": "2023-02-20T09:08:49.076Z"
   },
   {
    "duration": 88,
    "start_time": "2023-02-20T09:08:49.099Z"
   },
   {
    "duration": 336,
    "start_time": "2023-02-20T09:08:49.189Z"
   },
   {
    "duration": 78,
    "start_time": "2023-02-20T09:08:49.527Z"
   },
   {
    "duration": 441,
    "start_time": "2023-02-20T09:08:49.606Z"
   },
   {
    "duration": 278,
    "start_time": "2023-02-20T09:08:50.049Z"
   },
   {
    "duration": 93,
    "start_time": "2023-02-20T09:08:50.329Z"
   },
   {
    "duration": 35,
    "start_time": "2023-02-20T09:08:50.424Z"
   },
   {
    "duration": 123,
    "start_time": "2023-02-20T09:08:50.461Z"
   },
   {
    "duration": 43,
    "start_time": "2023-02-20T09:08:50.586Z"
   },
   {
    "duration": 69,
    "start_time": "2023-02-20T09:08:50.630Z"
   },
   {
    "duration": 3149,
    "start_time": "2023-02-20T09:08:50.701Z"
   },
   {
    "duration": 3129,
    "start_time": "2023-02-20T09:08:53.851Z"
   },
   {
    "duration": 57,
    "start_time": "2023-02-20T09:08:56.982Z"
   },
   {
    "duration": 63,
    "start_time": "2023-02-20T09:08:57.041Z"
   },
   {
    "duration": 93,
    "start_time": "2023-02-20T09:08:57.106Z"
   },
   {
    "duration": 309,
    "start_time": "2023-02-20T09:08:57.201Z"
   },
   {
    "duration": 353,
    "start_time": "2023-02-20T09:08:57.512Z"
   },
   {
    "duration": 340,
    "start_time": "2023-02-20T09:08:57.867Z"
   },
   {
    "duration": 342,
    "start_time": "2023-02-20T09:08:58.209Z"
   },
   {
    "duration": 53,
    "start_time": "2023-02-20T09:08:58.554Z"
   },
   {
    "duration": 41,
    "start_time": "2023-02-20T09:08:58.609Z"
   },
   {
    "duration": 57,
    "start_time": "2023-02-20T09:08:58.651Z"
   },
   {
    "duration": 205,
    "start_time": "2023-02-20T09:08:58.709Z"
   },
   {
    "duration": 3,
    "start_time": "2023-02-20T09:08:58.916Z"
   },
   {
    "duration": 642,
    "start_time": "2023-02-20T09:08:58.920Z"
   },
   {
    "duration": 344,
    "start_time": "2023-02-20T09:08:59.564Z"
   },
   {
    "duration": 4,
    "start_time": "2023-02-20T09:08:59.910Z"
   },
   {
    "duration": 17,
    "start_time": "2023-02-20T09:08:59.915Z"
   },
   {
    "duration": 43167,
    "start_time": "2023-02-20T09:08:59.934Z"
   },
   {
    "duration": 403258,
    "start_time": "2023-02-20T09:09:43.103Z"
   },
   {
    "duration": 42553,
    "start_time": "2023-02-20T09:16:26.362Z"
   },
   {
    "duration": 359189,
    "start_time": "2023-02-20T09:17:08.917Z"
   },
   {
    "duration": 273167,
    "start_time": "2023-02-20T09:23:08.108Z"
   },
   {
    "duration": 76,
    "start_time": "2023-02-20T09:27:41.277Z"
   },
   {
    "duration": 22233,
    "start_time": "2023-02-20T09:27:41.355Z"
   },
   {
    "duration": 58,
    "start_time": "2023-02-20T09:28:03.589Z"
   },
   {
    "duration": 3,
    "start_time": "2023-02-20T09:28:03.649Z"
   },
   {
    "duration": 9,
    "start_time": "2023-02-20T09:28:03.654Z"
   },
   {
    "duration": 67,
    "start_time": "2023-02-20T09:28:03.668Z"
   },
   {
    "duration": 22262,
    "start_time": "2023-02-20T09:28:53.953Z"
   },
   {
    "duration": 61,
    "start_time": "2023-02-20T09:29:16.218Z"
   },
   {
    "duration": 4,
    "start_time": "2023-02-20T09:29:16.282Z"
   },
   {
    "duration": 9,
    "start_time": "2023-02-20T09:32:01.793Z"
   },
   {
    "duration": 8,
    "start_time": "2023-02-20T09:32:03.824Z"
   },
   {
    "duration": 76,
    "start_time": "2023-02-20T09:32:08.158Z"
   },
   {
    "duration": 77,
    "start_time": "2023-02-20T09:32:47.126Z"
   },
   {
    "duration": 60,
    "start_time": "2023-02-20T09:36:22.985Z"
   },
   {
    "duration": 11,
    "start_time": "2023-02-20T09:38:52.463Z"
   },
   {
    "duration": 9,
    "start_time": "2023-02-20T09:38:56.113Z"
   },
   {
    "duration": 1914,
    "start_time": "2023-02-20T21:48:25.503Z"
   },
   {
    "duration": 3315,
    "start_time": "2023-02-20T21:48:27.419Z"
   },
   {
    "duration": 134,
    "start_time": "2023-02-20T21:48:30.735Z"
   },
   {
    "duration": 341,
    "start_time": "2023-02-20T21:48:30.871Z"
   },
   {
    "duration": 114,
    "start_time": "2023-02-20T21:48:31.214Z"
   },
   {
    "duration": 10,
    "start_time": "2023-02-20T21:48:31.329Z"
   },
   {
    "duration": 384,
    "start_time": "2023-02-20T21:48:31.340Z"
   },
   {
    "duration": 12,
    "start_time": "2023-02-20T21:48:31.725Z"
   },
   {
    "duration": 110,
    "start_time": "2023-02-20T21:48:31.739Z"
   },
   {
    "duration": 295,
    "start_time": "2023-02-20T21:48:31.852Z"
   },
   {
    "duration": 70,
    "start_time": "2023-02-20T21:48:32.149Z"
   },
   {
    "duration": 380,
    "start_time": "2023-02-20T21:48:32.221Z"
   },
   {
    "duration": 239,
    "start_time": "2023-02-20T21:48:32.603Z"
   },
   {
    "duration": 83,
    "start_time": "2023-02-20T21:48:32.844Z"
   },
   {
    "duration": 35,
    "start_time": "2023-02-20T21:48:32.928Z"
   },
   {
    "duration": 110,
    "start_time": "2023-02-20T21:48:32.964Z"
   },
   {
    "duration": 41,
    "start_time": "2023-02-20T21:48:33.076Z"
   },
   {
    "duration": 73,
    "start_time": "2023-02-20T21:48:33.119Z"
   },
   {
    "duration": 2963,
    "start_time": "2023-02-20T21:48:33.194Z"
   },
   {
    "duration": 3268,
    "start_time": "2023-02-20T21:48:36.159Z"
   },
   {
    "duration": 69,
    "start_time": "2023-02-20T21:48:39.429Z"
   },
   {
    "duration": 54,
    "start_time": "2023-02-20T21:48:39.500Z"
   },
   {
    "duration": 74,
    "start_time": "2023-02-20T21:48:39.555Z"
   },
   {
    "duration": 288,
    "start_time": "2023-02-20T21:48:39.631Z"
   },
   {
    "duration": 331,
    "start_time": "2023-02-20T21:48:39.921Z"
   },
   {
    "duration": 318,
    "start_time": "2023-02-20T21:48:40.254Z"
   },
   {
    "duration": 313,
    "start_time": "2023-02-20T21:48:40.574Z"
   },
   {
    "duration": 56,
    "start_time": "2023-02-20T21:48:40.890Z"
   },
   {
    "duration": 60,
    "start_time": "2023-02-20T21:48:40.947Z"
   },
   {
    "duration": 43,
    "start_time": "2023-02-20T21:48:41.008Z"
   },
   {
    "duration": 208,
    "start_time": "2023-02-20T21:48:41.053Z"
   },
   {
    "duration": 3,
    "start_time": "2023-02-20T21:48:41.263Z"
   },
   {
    "duration": 581,
    "start_time": "2023-02-20T21:48:41.268Z"
   },
   {
    "duration": 318,
    "start_time": "2023-02-20T21:48:41.851Z"
   },
   {
    "duration": 26,
    "start_time": "2023-02-20T21:48:48.658Z"
   },
   {
    "duration": 1570,
    "start_time": "2023-02-20T21:51:08.548Z"
   },
   {
    "duration": 912,
    "start_time": "2023-02-20T21:51:10.120Z"
   },
   {
    "duration": 136,
    "start_time": "2023-02-20T21:51:11.033Z"
   },
   {
    "duration": 306,
    "start_time": "2023-02-20T21:51:11.171Z"
   },
   {
    "duration": 111,
    "start_time": "2023-02-20T21:51:11.490Z"
   },
   {
    "duration": 9,
    "start_time": "2023-02-20T21:51:11.602Z"
   },
   {
    "duration": 387,
    "start_time": "2023-02-20T21:51:11.612Z"
   },
   {
    "duration": 12,
    "start_time": "2023-02-20T21:51:12.001Z"
   },
   {
    "duration": 107,
    "start_time": "2023-02-20T21:51:12.015Z"
   },
   {
    "duration": 275,
    "start_time": "2023-02-20T21:51:12.124Z"
   },
   {
    "duration": 58,
    "start_time": "2023-02-20T21:51:12.400Z"
   },
   {
    "duration": 379,
    "start_time": "2023-02-20T21:51:12.459Z"
   },
   {
    "duration": 233,
    "start_time": "2023-02-20T21:51:12.840Z"
   },
   {
    "duration": 86,
    "start_time": "2023-02-20T21:51:13.076Z"
   },
   {
    "duration": 46,
    "start_time": "2023-02-20T21:51:13.164Z"
   },
   {
    "duration": 97,
    "start_time": "2023-02-20T21:51:13.211Z"
   },
   {
    "duration": 27,
    "start_time": "2023-02-20T21:51:13.310Z"
   },
   {
    "duration": 71,
    "start_time": "2023-02-20T21:51:13.338Z"
   },
   {
    "duration": 4184,
    "start_time": "2023-02-20T21:51:13.410Z"
   },
   {
    "duration": 3754,
    "start_time": "2023-02-20T21:51:17.595Z"
   },
   {
    "duration": 66,
    "start_time": "2023-02-20T21:51:21.350Z"
   },
   {
    "duration": 61,
    "start_time": "2023-02-20T21:51:21.417Z"
   },
   {
    "duration": 64,
    "start_time": "2023-02-20T21:51:21.480Z"
   },
   {
    "duration": 287,
    "start_time": "2023-02-20T21:51:21.546Z"
   },
   {
    "duration": 321,
    "start_time": "2023-02-20T21:51:21.834Z"
   },
   {
    "duration": 321,
    "start_time": "2023-02-20T21:51:22.157Z"
   },
   {
    "duration": 311,
    "start_time": "2023-02-20T21:51:22.480Z"
   },
   {
    "duration": 57,
    "start_time": "2023-02-20T21:51:22.793Z"
   },
   {
    "duration": 60,
    "start_time": "2023-02-20T21:51:22.852Z"
   },
   {
    "duration": 42,
    "start_time": "2023-02-20T21:51:22.914Z"
   },
   {
    "duration": 205,
    "start_time": "2023-02-20T21:51:22.957Z"
   },
   {
    "duration": 3,
    "start_time": "2023-02-20T21:51:23.164Z"
   },
   {
    "duration": 587,
    "start_time": "2023-02-20T21:51:23.169Z"
   },
   {
    "duration": 337,
    "start_time": "2023-02-20T21:51:23.758Z"
   },
   {
    "duration": 4,
    "start_time": "2023-02-20T21:51:24.097Z"
   },
   {
    "duration": 5,
    "start_time": "2023-02-20T21:51:24.103Z"
   },
   {
    "duration": 46684,
    "start_time": "2023-02-20T21:51:24.109Z"
   },
   {
    "duration": 374382,
    "start_time": "2023-02-20T21:52:10.796Z"
   },
   {
    "duration": 41626,
    "start_time": "2023-02-20T21:58:25.180Z"
   },
   {
    "duration": 545998,
    "start_time": "2023-02-20T21:59:06.807Z"
   },
   {
    "duration": 281880,
    "start_time": "2023-02-20T22:08:12.809Z"
   },
   {
    "duration": 9,
    "start_time": "2023-02-20T22:12:54.691Z"
   },
   {
    "duration": 20817,
    "start_time": "2023-02-20T22:12:54.701Z"
   },
   {
    "duration": 56,
    "start_time": "2023-02-20T22:13:15.520Z"
   },
   {
    "duration": 4,
    "start_time": "2023-02-20T22:13:15.577Z"
   },
   {
    "duration": 1550,
    "start_time": "2023-02-22T03:58:52.207Z"
   },
   {
    "duration": 126,
    "start_time": "2023-02-22T03:59:41.571Z"
   },
   {
    "duration": 10,
    "start_time": "2023-02-22T03:59:47.590Z"
   },
   {
    "duration": 5,
    "start_time": "2023-02-22T03:59:56.287Z"
   },
   {
    "duration": 3230,
    "start_time": "2023-02-22T03:59:56.297Z"
   },
   {
    "duration": 110,
    "start_time": "2023-02-22T03:59:59.529Z"
   },
   {
    "duration": 311,
    "start_time": "2023-02-22T03:59:59.641Z"
   },
   {
    "duration": 109,
    "start_time": "2023-02-22T03:59:59.953Z"
   },
   {
    "duration": 11,
    "start_time": "2023-02-22T04:00:00.065Z"
   },
   {
    "duration": 426,
    "start_time": "2023-02-22T04:00:00.078Z"
   },
   {
    "duration": 14,
    "start_time": "2023-02-22T04:00:00.506Z"
   },
   {
    "duration": 123,
    "start_time": "2023-02-22T04:00:00.522Z"
   },
   {
    "duration": 292,
    "start_time": "2023-02-22T04:00:00.647Z"
   },
   {
    "duration": 81,
    "start_time": "2023-02-22T04:00:00.941Z"
   },
   {
    "duration": 487,
    "start_time": "2023-02-22T04:00:01.024Z"
   },
   {
    "duration": 279,
    "start_time": "2023-02-22T04:00:01.513Z"
   },
   {
    "duration": 75,
    "start_time": "2023-02-22T04:00:01.793Z"
   },
   {
    "duration": 39,
    "start_time": "2023-02-22T04:00:10.951Z"
   },
   {
    "duration": 98,
    "start_time": "2023-02-22T04:00:12.702Z"
   },
   {
    "duration": 32,
    "start_time": "2023-02-22T04:00:16.326Z"
   },
   {
    "duration": 59,
    "start_time": "2023-02-22T04:00:18.414Z"
   },
   {
    "duration": 3188,
    "start_time": "2023-02-22T04:00:20.031Z"
   },
   {
    "duration": 3671,
    "start_time": "2023-02-22T04:00:23.221Z"
   },
   {
    "duration": 56,
    "start_time": "2023-02-22T04:00:31.014Z"
   },
   {
    "duration": 47,
    "start_time": "2023-02-22T04:00:36.909Z"
   },
   {
    "duration": 54,
    "start_time": "2023-02-22T04:00:37.885Z"
   },
   {
    "duration": 309,
    "start_time": "2023-02-22T04:00:40.327Z"
   },
   {
    "duration": 371,
    "start_time": "2023-02-22T04:00:42.446Z"
   },
   {
    "duration": 344,
    "start_time": "2023-02-22T04:00:45.181Z"
   },
   {
    "duration": 367,
    "start_time": "2023-02-22T04:00:47.279Z"
   },
   {
    "duration": 405,
    "start_time": "2023-02-22T04:00:49.511Z"
   },
   {
    "duration": 49,
    "start_time": "2023-02-22T04:00:51.853Z"
   },
   {
    "duration": 42,
    "start_time": "2023-02-22T04:00:54.469Z"
   },
   {
    "duration": 38,
    "start_time": "2023-02-22T04:00:55.765Z"
   },
   {
    "duration": 82,
    "start_time": "2023-02-22T04:01:28.591Z"
   },
   {
    "duration": 13,
    "start_time": "2023-02-22T04:13:05.191Z"
   },
   {
    "duration": 9,
    "start_time": "2023-02-22T04:15:55.425Z"
   },
   {
    "duration": 9,
    "start_time": "2023-02-22T04:16:36.152Z"
   },
   {
    "duration": 39,
    "start_time": "2023-02-22T04:16:48.064Z"
   },
   {
    "duration": 40,
    "start_time": "2023-02-22T04:17:29.713Z"
   },
   {
    "duration": 1426,
    "start_time": "2023-02-22T04:18:03.946Z"
   },
   {
    "duration": 986,
    "start_time": "2023-02-22T04:18:05.374Z"
   },
   {
    "duration": 131,
    "start_time": "2023-02-22T04:18:06.364Z"
   },
   {
    "duration": 302,
    "start_time": "2023-02-22T04:18:06.497Z"
   },
   {
    "duration": 100,
    "start_time": "2023-02-22T04:18:06.801Z"
   },
   {
    "duration": 11,
    "start_time": "2023-02-22T04:18:06.903Z"
   },
   {
    "duration": 438,
    "start_time": "2023-02-22T04:18:06.915Z"
   },
   {
    "duration": 12,
    "start_time": "2023-02-22T04:18:07.355Z"
   },
   {
    "duration": 99,
    "start_time": "2023-02-22T04:18:07.369Z"
   },
   {
    "duration": 295,
    "start_time": "2023-02-22T04:18:07.470Z"
   },
   {
    "duration": 63,
    "start_time": "2023-02-22T04:18:07.767Z"
   },
   {
    "duration": 414,
    "start_time": "2023-02-22T04:18:07.831Z"
   },
   {
    "duration": 261,
    "start_time": "2023-02-22T04:18:08.247Z"
   },
   {
    "duration": 68,
    "start_time": "2023-02-22T04:18:08.510Z"
   },
   {
    "duration": 73,
    "start_time": "2023-02-22T04:18:08.580Z"
   },
   {
    "duration": 98,
    "start_time": "2023-02-22T04:18:08.655Z"
   },
   {
    "duration": 46,
    "start_time": "2023-02-22T04:18:08.754Z"
   },
   {
    "duration": 63,
    "start_time": "2023-02-22T04:18:08.802Z"
   },
   {
    "duration": 3154,
    "start_time": "2023-02-22T04:18:08.867Z"
   },
   {
    "duration": 3340,
    "start_time": "2023-02-22T04:18:12.023Z"
   },
   {
    "duration": 54,
    "start_time": "2023-02-22T04:18:15.365Z"
   },
   {
    "duration": 91,
    "start_time": "2023-02-22T04:18:15.421Z"
   },
   {
    "duration": 114,
    "start_time": "2023-02-22T04:18:15.514Z"
   },
   {
    "duration": 864,
    "start_time": "2023-02-22T04:18:15.630Z"
   },
   {
    "duration": 722,
    "start_time": "2023-02-22T04:18:16.496Z"
   },
   {
    "duration": 524,
    "start_time": "2023-02-22T04:18:17.219Z"
   },
   {
    "duration": 363,
    "start_time": "2023-02-22T04:18:17.745Z"
   },
   {
    "duration": 59,
    "start_time": "2023-02-22T04:18:56.648Z"
   },
   {
    "duration": 59,
    "start_time": "2023-02-22T04:19:04.407Z"
   },
   {
    "duration": 29,
    "start_time": "2023-02-22T04:19:07.423Z"
   },
   {
    "duration": 100,
    "start_time": "2023-02-22T04:19:09.768Z"
   },
   {
    "duration": 60,
    "start_time": "2023-02-22T04:19:19.152Z"
   },
   {
    "duration": 49,
    "start_time": "2023-02-22T04:19:25.432Z"
   },
   {
    "duration": 62,
    "start_time": "2023-02-22T04:20:07.639Z"
   },
   {
    "duration": 499,
    "start_time": "2023-02-22T04:22:58.263Z"
   },
   {
    "duration": 2,
    "start_time": "2023-02-22T04:27:40.208Z"
   },
   {
    "duration": 3,
    "start_time": "2023-02-22T04:30:40.823Z"
   },
   {
    "duration": 466,
    "start_time": "2023-02-22T04:32:57.799Z"
   },
   {
    "duration": 3,
    "start_time": "2023-02-22T04:34:57.329Z"
   },
   {
    "duration": 8863,
    "start_time": "2023-02-22T04:41:51.010Z"
   },
   {
    "duration": 8832,
    "start_time": "2023-02-22T04:44:46.448Z"
   },
   {
    "duration": 392,
    "start_time": "2023-02-22T04:45:13.523Z"
   },
   {
    "duration": 437,
    "start_time": "2023-02-22T04:45:25.872Z"
   },
   {
    "duration": 9,
    "start_time": "2023-02-22T04:46:09.239Z"
   },
   {
    "duration": 60,
    "start_time": "2023-02-22T04:46:49.686Z"
   },
   {
    "duration": 387,
    "start_time": "2023-02-22T04:53:23.087Z"
   },
   {
    "duration": 8913,
    "start_time": "2023-02-22T04:53:59.856Z"
   },
   {
    "duration": 8909,
    "start_time": "2023-02-22T04:56:30.256Z"
   },
   {
    "duration": 390,
    "start_time": "2023-02-22T05:00:20.819Z"
   },
   {
    "duration": 9652,
    "start_time": "2023-02-22T05:00:33.775Z"
   },
   {
    "duration": 377,
    "start_time": "2023-02-22T05:14:34.897Z"
   },
   {
    "duration": 304,
    "start_time": "2023-02-22T05:14:56.801Z"
   },
   {
    "duration": 8568,
    "start_time": "2023-02-22T05:15:32.697Z"
   },
   {
    "duration": 3,
    "start_time": "2023-02-22T05:15:49.128Z"
   },
   {
    "duration": 8566,
    "start_time": "2023-02-22T05:15:56.353Z"
   },
   {
    "duration": 1463,
    "start_time": "2023-02-22T05:16:20.220Z"
   },
   {
    "duration": 945,
    "start_time": "2023-02-22T05:16:21.685Z"
   },
   {
    "duration": 114,
    "start_time": "2023-02-22T05:16:22.632Z"
   },
   {
    "duration": 318,
    "start_time": "2023-02-22T05:16:22.748Z"
   },
   {
    "duration": 107,
    "start_time": "2023-02-22T05:16:23.067Z"
   },
   {
    "duration": 18,
    "start_time": "2023-02-22T05:16:23.176Z"
   },
   {
    "duration": 397,
    "start_time": "2023-02-22T05:16:23.195Z"
   },
   {
    "duration": 13,
    "start_time": "2023-02-22T05:16:23.593Z"
   },
   {
    "duration": 100,
    "start_time": "2023-02-22T05:16:23.608Z"
   },
   {
    "duration": 304,
    "start_time": "2023-02-22T05:16:23.710Z"
   },
   {
    "duration": 64,
    "start_time": "2023-02-22T05:16:24.016Z"
   },
   {
    "duration": 443,
    "start_time": "2023-02-22T05:16:24.092Z"
   },
   {
    "duration": 248,
    "start_time": "2023-02-22T05:16:24.537Z"
   },
   {
    "duration": 68,
    "start_time": "2023-02-22T05:16:24.791Z"
   },
   {
    "duration": 46,
    "start_time": "2023-02-22T05:16:24.861Z"
   },
   {
    "duration": 109,
    "start_time": "2023-02-22T05:16:24.909Z"
   },
   {
    "duration": 30,
    "start_time": "2023-02-22T05:16:25.020Z"
   },
   {
    "duration": 71,
    "start_time": "2023-02-22T05:16:25.052Z"
   },
   {
    "duration": 3275,
    "start_time": "2023-02-22T05:16:25.125Z"
   },
   {
    "duration": 3448,
    "start_time": "2023-02-22T05:16:28.403Z"
   },
   {
    "duration": 51,
    "start_time": "2023-02-22T05:16:31.853Z"
   },
   {
    "duration": 56,
    "start_time": "2023-02-22T05:16:31.905Z"
   },
   {
    "duration": 60,
    "start_time": "2023-02-22T05:16:31.963Z"
   },
   {
    "duration": 338,
    "start_time": "2023-02-22T05:16:32.026Z"
   },
   {
    "duration": 334,
    "start_time": "2023-02-22T05:16:32.366Z"
   },
   {
    "duration": 333,
    "start_time": "2023-02-22T05:16:32.702Z"
   },
   {
    "duration": 327,
    "start_time": "2023-02-22T05:16:33.037Z"
   },
   {
    "duration": 52,
    "start_time": "2023-02-22T05:16:33.368Z"
   },
   {
    "duration": 87,
    "start_time": "2023-02-22T05:16:33.422Z"
   },
   {
    "duration": 3,
    "start_time": "2023-02-22T05:16:33.511Z"
   },
   {
    "duration": 392,
    "start_time": "2023-02-22T05:16:52.593Z"
   },
   {
    "duration": 8976,
    "start_time": "2023-02-22T05:16:58.793Z"
   },
   {
    "duration": 8636,
    "start_time": "2023-02-22T05:17:15.593Z"
   },
   {
    "duration": 8783,
    "start_time": "2023-02-22T05:17:34.483Z"
   },
   {
    "duration": 324,
    "start_time": "2023-02-22T05:20:19.938Z"
   },
   {
    "duration": 8957,
    "start_time": "2023-02-22T05:20:35.942Z"
   },
   {
    "duration": 65,
    "start_time": "2023-02-22T05:23:00.379Z"
   },
   {
    "duration": 8649,
    "start_time": "2023-02-22T05:23:17.658Z"
   },
   {
    "duration": 58,
    "start_time": "2023-02-22T05:23:59.498Z"
   },
   {
    "duration": 8701,
    "start_time": "2023-02-22T05:24:12.149Z"
   },
   {
    "duration": 57,
    "start_time": "2023-02-22T05:24:42.835Z"
   },
   {
    "duration": 9072,
    "start_time": "2023-02-22T05:26:47.749Z"
   },
   {
    "duration": 9379,
    "start_time": "2023-02-22T05:27:35.844Z"
   },
   {
    "duration": 0,
    "start_time": "2023-02-22T05:33:00.511Z"
   },
   {
    "duration": 407,
    "start_time": "2023-02-22T05:33:03.451Z"
   },
   {
    "duration": 20,
    "start_time": "2023-02-22T05:34:06.628Z"
   },
   {
    "duration": 16,
    "start_time": "2023-02-22T05:34:24.227Z"
   },
   {
    "duration": 16,
    "start_time": "2023-02-22T05:34:30.010Z"
   },
   {
    "duration": 9907,
    "start_time": "2023-02-22T05:35:25.131Z"
   },
   {
    "duration": 512,
    "start_time": "2023-02-22T05:39:26.028Z"
   },
   {
    "duration": 417,
    "start_time": "2023-02-22T05:39:30.947Z"
   },
   {
    "duration": 9581,
    "start_time": "2023-02-22T05:40:59.060Z"
   },
   {
    "duration": 65,
    "start_time": "2023-02-22T05:41:21.876Z"
   },
   {
    "duration": 9306,
    "start_time": "2023-02-22T05:41:58.531Z"
   },
   {
    "duration": 115,
    "start_time": "2023-02-22T05:43:32.925Z"
   },
   {
    "duration": 119,
    "start_time": "2023-02-22T05:45:30.126Z"
   },
   {
    "duration": 105,
    "start_time": "2023-02-22T05:45:41.740Z"
   },
   {
    "duration": 4,
    "start_time": "2023-02-22T05:45:50.029Z"
   },
   {
    "duration": 115,
    "start_time": "2023-02-22T05:45:52.025Z"
   },
   {
    "duration": 66,
    "start_time": "2023-02-22T05:45:58.856Z"
   },
   {
    "duration": 3,
    "start_time": "2023-02-22T05:46:00.756Z"
   },
   {
    "duration": 503,
    "start_time": "2023-02-22T05:46:01.547Z"
   },
   {
    "duration": 8683,
    "start_time": "2023-02-22T07:36:47.062Z"
   },
   {
    "duration": 2115,
    "start_time": "2023-02-25T04:53:43.732Z"
   },
   {
    "duration": 2911,
    "start_time": "2023-02-25T04:53:45.856Z"
   },
   {
    "duration": 217,
    "start_time": "2023-02-25T04:53:48.779Z"
   },
   {
    "duration": 466,
    "start_time": "2023-02-25T04:53:48.999Z"
   },
   {
    "duration": 219,
    "start_time": "2023-02-25T04:53:49.466Z"
   },
   {
    "duration": 13,
    "start_time": "2023-02-25T04:53:49.688Z"
   },
   {
    "duration": 718,
    "start_time": "2023-02-25T04:53:49.703Z"
   },
   {
    "duration": 32,
    "start_time": "2023-02-25T04:53:50.435Z"
   },
   {
    "duration": 157,
    "start_time": "2023-02-25T04:53:50.478Z"
   },
   {
    "duration": 416,
    "start_time": "2023-02-25T04:53:50.643Z"
   },
   {
    "duration": 112,
    "start_time": "2023-02-25T04:53:51.069Z"
   },
   {
    "duration": 495,
    "start_time": "2023-02-25T04:53:51.183Z"
   },
   {
    "duration": 305,
    "start_time": "2023-02-25T04:53:51.685Z"
   },
   {
    "duration": 177,
    "start_time": "2023-02-25T04:53:51.993Z"
   },
   {
    "duration": 63,
    "start_time": "2023-02-25T04:53:52.180Z"
   },
   {
    "duration": 154,
    "start_time": "2023-02-25T04:53:52.251Z"
   },
   {
    "duration": 62,
    "start_time": "2023-02-25T04:53:52.407Z"
   },
   {
    "duration": 102,
    "start_time": "2023-02-25T04:53:52.473Z"
   },
   {
    "duration": 5514,
    "start_time": "2023-02-25T04:53:52.579Z"
   },
   {
    "duration": 5772,
    "start_time": "2023-02-25T04:53:58.095Z"
   },
   {
    "duration": 160,
    "start_time": "2023-02-25T04:54:03.879Z"
   },
   {
    "duration": 150,
    "start_time": "2023-02-25T04:54:04.048Z"
   },
   {
    "duration": 134,
    "start_time": "2023-02-25T04:54:04.201Z"
   },
   {
    "duration": 391,
    "start_time": "2023-02-25T04:54:04.336Z"
   },
   {
    "duration": 443,
    "start_time": "2023-02-25T04:54:04.736Z"
   },
   {
    "duration": 444,
    "start_time": "2023-02-25T04:54:05.181Z"
   },
   {
    "duration": 394,
    "start_time": "2023-02-25T04:54:05.629Z"
   },
   {
    "duration": 109,
    "start_time": "2023-02-25T04:54:06.026Z"
   },
   {
    "duration": 158,
    "start_time": "2023-02-25T04:54:06.136Z"
   },
   {
    "duration": 6,
    "start_time": "2023-02-25T04:54:06.296Z"
   },
   {
    "duration": 185,
    "start_time": "2023-02-25T04:57:32.751Z"
   },
   {
    "duration": 616,
    "start_time": "2023-02-25T04:57:55.163Z"
   },
   {
    "duration": 453,
    "start_time": "2023-02-25T04:58:18.444Z"
   },
   {
    "duration": 505,
    "start_time": "2023-02-25T04:58:28.701Z"
   },
   {
    "duration": 516,
    "start_time": "2023-02-25T04:58:38.668Z"
   },
   {
    "duration": 164,
    "start_time": "2023-02-25T04:59:19.491Z"
   },
   {
    "duration": 174,
    "start_time": "2023-02-25T04:59:24.305Z"
   },
   {
    "duration": 67,
    "start_time": "2023-02-25T05:01:22.309Z"
   },
   {
    "duration": 29,
    "start_time": "2023-02-25T05:01:43.452Z"
   },
   {
    "duration": 19,
    "start_time": "2023-02-25T05:02:21.682Z"
   },
   {
    "duration": 36,
    "start_time": "2023-02-25T05:04:17.858Z"
   },
   {
    "duration": 61,
    "start_time": "2023-02-25T05:06:17.586Z"
   },
   {
    "duration": 1002,
    "start_time": "2023-02-25T05:06:28.383Z"
   },
   {
    "duration": 1003,
    "start_time": "2023-02-25T05:07:11.960Z"
   },
   {
    "duration": 1101,
    "start_time": "2023-02-25T05:07:27.094Z"
   },
   {
    "duration": 990,
    "start_time": "2023-02-25T05:07:43.187Z"
   },
   {
    "duration": 976,
    "start_time": "2023-02-25T05:08:30.503Z"
   },
   {
    "duration": 939,
    "start_time": "2023-02-25T05:09:01.368Z"
   },
   {
    "duration": 936,
    "start_time": "2023-02-25T05:09:54.644Z"
   },
   {
    "duration": 947,
    "start_time": "2023-02-25T05:10:02.862Z"
   },
   {
    "duration": 937,
    "start_time": "2023-02-25T05:11:20.748Z"
   },
   {
    "duration": 1018,
    "start_time": "2023-02-25T05:11:28.148Z"
   },
   {
    "duration": 1216,
    "start_time": "2023-02-25T05:17:14.340Z"
   },
   {
    "duration": 71,
    "start_time": "2023-02-25T05:31:08.412Z"
   },
   {
    "duration": 43,
    "start_time": "2023-02-25T05:31:49.818Z"
   },
   {
    "duration": 1069,
    "start_time": "2023-02-25T05:34:13.415Z"
   },
   {
    "duration": 1015,
    "start_time": "2023-02-25T05:36:54.560Z"
   },
   {
    "duration": 904,
    "start_time": "2023-02-25T05:37:21.346Z"
   },
   {
    "duration": 50,
    "start_time": "2023-02-25T05:43:33.837Z"
   },
   {
    "duration": 72,
    "start_time": "2023-02-25T05:44:23.887Z"
   },
   {
    "duration": 35,
    "start_time": "2023-02-25T05:46:57.788Z"
   },
   {
    "duration": 52,
    "start_time": "2023-02-25T05:47:12.975Z"
   },
   {
    "duration": 199,
    "start_time": "2023-02-25T05:47:26.577Z"
   },
   {
    "duration": 65,
    "start_time": "2023-02-25T05:47:33.842Z"
   },
   {
    "duration": 3455,
    "start_time": "2023-02-25T05:55:47.572Z"
   },
   {
    "duration": 1169,
    "start_time": "2023-02-25T05:56:06.143Z"
   },
   {
    "duration": 1173,
    "start_time": "2023-02-25T05:56:12.998Z"
   },
   {
    "duration": 2216,
    "start_time": "2023-02-25T15:22:49.031Z"
   },
   {
    "duration": 3088,
    "start_time": "2023-02-25T15:22:51.256Z"
   },
   {
    "duration": 225,
    "start_time": "2023-02-25T15:22:54.346Z"
   },
   {
    "duration": 517,
    "start_time": "2023-02-25T15:22:54.579Z"
   },
   {
    "duration": 230,
    "start_time": "2023-02-25T15:22:55.101Z"
   },
   {
    "duration": 22,
    "start_time": "2023-02-25T15:22:55.337Z"
   },
   {
    "duration": 566,
    "start_time": "2023-02-25T15:22:55.364Z"
   },
   {
    "duration": 34,
    "start_time": "2023-02-25T15:22:55.938Z"
   },
   {
    "duration": 190,
    "start_time": "2023-02-25T15:22:55.973Z"
   },
   {
    "duration": 430,
    "start_time": "2023-02-25T15:22:56.165Z"
   },
   {
    "duration": 139,
    "start_time": "2023-02-25T15:22:56.596Z"
   },
   {
    "duration": 782,
    "start_time": "2023-02-25T15:22:56.737Z"
   },
   {
    "duration": 458,
    "start_time": "2023-02-25T15:22:57.535Z"
   },
   {
    "duration": 187,
    "start_time": "2023-02-25T15:22:57.996Z"
   },
   {
    "duration": 69,
    "start_time": "2023-02-25T15:22:58.190Z"
   },
   {
    "duration": 211,
    "start_time": "2023-02-25T15:22:58.260Z"
   },
   {
    "duration": 54,
    "start_time": "2023-02-25T15:22:58.475Z"
   },
   {
    "duration": 118,
    "start_time": "2023-02-25T15:22:58.530Z"
   },
   {
    "duration": 4273,
    "start_time": "2023-02-25T15:22:58.650Z"
   },
   {
    "duration": 4614,
    "start_time": "2023-02-25T15:23:02.927Z"
   },
   {
    "duration": 92,
    "start_time": "2023-02-25T15:23:07.543Z"
   },
   {
    "duration": 198,
    "start_time": "2023-02-25T15:23:07.637Z"
   },
   {
    "duration": 161,
    "start_time": "2023-02-25T15:23:07.845Z"
   },
   {
    "duration": 416,
    "start_time": "2023-02-25T15:23:08.008Z"
   },
   {
    "duration": 430,
    "start_time": "2023-02-25T15:23:08.426Z"
   },
   {
    "duration": 443,
    "start_time": "2023-02-25T15:23:08.858Z"
   },
   {
    "duration": 418,
    "start_time": "2023-02-25T15:23:09.305Z"
   },
   {
    "duration": 128,
    "start_time": "2023-02-25T15:23:09.727Z"
   },
   {
    "duration": 294,
    "start_time": "2023-02-25T15:23:09.860Z"
   },
   {
    "duration": 19,
    "start_time": "2023-02-25T15:23:10.167Z"
   },
   {
    "duration": 614,
    "start_time": "2023-02-25T15:33:24.379Z"
   },
   {
    "duration": 1610,
    "start_time": "2023-03-06T08:19:59.539Z"
   },
   {
    "duration": 3393,
    "start_time": "2023-03-06T08:20:01.152Z"
   },
   {
    "duration": 117,
    "start_time": "2023-03-06T08:20:04.546Z"
   },
   {
    "duration": 347,
    "start_time": "2023-03-06T08:20:04.665Z"
   },
   {
    "duration": 99,
    "start_time": "2023-03-06T08:20:05.014Z"
   },
   {
    "duration": 11,
    "start_time": "2023-03-06T08:20:05.117Z"
   },
   {
    "duration": 528,
    "start_time": "2023-03-06T08:20:05.130Z"
   },
   {
    "duration": 14,
    "start_time": "2023-03-06T08:20:05.660Z"
   },
   {
    "duration": 102,
    "start_time": "2023-03-06T08:20:05.676Z"
   },
   {
    "duration": 319,
    "start_time": "2023-03-06T08:20:05.782Z"
   },
   {
    "duration": 65,
    "start_time": "2023-03-06T08:20:06.103Z"
   },
   {
    "duration": 420,
    "start_time": "2023-03-06T08:20:06.170Z"
   },
   {
    "duration": 263,
    "start_time": "2023-03-06T08:20:06.592Z"
   },
   {
    "duration": 81,
    "start_time": "2023-03-06T08:20:06.857Z"
   },
   {
    "duration": 33,
    "start_time": "2023-03-06T08:20:06.940Z"
   },
   {
    "duration": 115,
    "start_time": "2023-03-06T08:20:06.975Z"
   },
   {
    "duration": 46,
    "start_time": "2023-03-06T08:20:07.092Z"
   },
   {
    "duration": 54,
    "start_time": "2023-03-06T08:20:07.139Z"
   },
   {
    "duration": 3236,
    "start_time": "2023-03-06T08:20:07.212Z"
   },
   {
    "duration": 3446,
    "start_time": "2023-03-06T08:20:10.449Z"
   },
   {
    "duration": 65,
    "start_time": "2023-03-06T08:20:13.896Z"
   },
   {
    "duration": 64,
    "start_time": "2023-03-06T08:20:13.962Z"
   },
   {
    "duration": 88,
    "start_time": "2023-03-06T08:20:14.028Z"
   },
   {
    "duration": 395,
    "start_time": "2023-03-06T08:20:14.119Z"
   },
   {
    "duration": 345,
    "start_time": "2023-03-06T08:20:14.517Z"
   },
   {
    "duration": 358,
    "start_time": "2023-03-06T08:20:14.864Z"
   },
   {
    "duration": 368,
    "start_time": "2023-03-06T08:20:15.224Z"
   },
   {
    "duration": 62,
    "start_time": "2023-03-06T08:20:15.596Z"
   },
   {
    "duration": 74,
    "start_time": "2023-03-06T09:16:54.971Z"
   },
   {
    "duration": 122,
    "start_time": "2023-03-06T09:18:20.910Z"
   },
   {
    "duration": 4,
    "start_time": "2023-03-06T09:18:24.329Z"
   },
   {
    "duration": 414,
    "start_time": "2023-03-06T09:18:25.430Z"
   },
   {
    "duration": 405,
    "start_time": "2023-03-06T09:19:14.496Z"
   },
   {
    "duration": 834,
    "start_time": "2023-03-06T09:19:32.679Z"
   },
   {
    "duration": 9,
    "start_time": "2023-03-06T09:24:50.488Z"
   },
   {
    "duration": 698,
    "start_time": "2023-03-06T09:29:10.010Z"
   },
   {
    "duration": 706,
    "start_time": "2023-03-06T09:30:40.291Z"
   },
   {
    "duration": 416,
    "start_time": "2023-03-06T09:35:40.446Z"
   },
   {
    "duration": 404,
    "start_time": "2023-03-06T09:39:03.709Z"
   },
   {
    "duration": 332,
    "start_time": "2023-03-06T09:43:12.919Z"
   },
   {
    "duration": 332,
    "start_time": "2023-03-06T09:43:21.100Z"
   },
   {
    "duration": 352,
    "start_time": "2023-03-06T09:43:35.242Z"
   },
   {
    "duration": 79,
    "start_time": "2023-03-06T09:59:07.927Z"
   },
   {
    "duration": 3,
    "start_time": "2023-03-06T09:59:10.827Z"
   },
   {
    "duration": 323,
    "start_time": "2023-03-06T09:59:12.422Z"
   },
   {
    "duration": 67,
    "start_time": "2023-03-06T10:00:08.626Z"
   },
   {
    "duration": 1410,
    "start_time": "2023-03-06T10:03:00.405Z"
   },
   {
    "duration": 927,
    "start_time": "2023-03-06T10:03:01.818Z"
   },
   {
    "duration": 116,
    "start_time": "2023-03-06T10:03:02.747Z"
   },
   {
    "duration": 320,
    "start_time": "2023-03-06T10:03:02.865Z"
   },
   {
    "duration": 101,
    "start_time": "2023-03-06T10:03:03.187Z"
   },
   {
    "duration": 11,
    "start_time": "2023-03-06T10:03:03.289Z"
   },
   {
    "duration": 391,
    "start_time": "2023-03-06T10:03:03.312Z"
   },
   {
    "duration": 17,
    "start_time": "2023-03-06T10:03:03.705Z"
   },
   {
    "duration": 103,
    "start_time": "2023-03-06T10:03:03.724Z"
   },
   {
    "duration": 331,
    "start_time": "2023-03-06T10:03:03.830Z"
   },
   {
    "duration": 87,
    "start_time": "2023-03-06T10:03:04.163Z"
   },
   {
    "duration": 438,
    "start_time": "2023-03-06T10:03:04.252Z"
   },
   {
    "duration": 258,
    "start_time": "2023-03-06T10:03:04.692Z"
   },
   {
    "duration": 76,
    "start_time": "2023-03-06T10:03:04.953Z"
   },
   {
    "duration": 32,
    "start_time": "2023-03-06T10:03:05.031Z"
   },
   {
    "duration": 126,
    "start_time": "2023-03-06T10:03:05.064Z"
   },
   {
    "duration": 38,
    "start_time": "2023-03-06T10:03:05.192Z"
   },
   {
    "duration": 62,
    "start_time": "2023-03-06T10:03:05.231Z"
   },
   {
    "duration": 3131,
    "start_time": "2023-03-06T10:03:05.295Z"
   },
   {
    "duration": 3334,
    "start_time": "2023-03-06T10:03:08.427Z"
   },
   {
    "duration": 58,
    "start_time": "2023-03-06T10:03:11.762Z"
   },
   {
    "duration": 46,
    "start_time": "2023-03-06T10:03:11.822Z"
   },
   {
    "duration": 66,
    "start_time": "2023-03-06T10:03:11.870Z"
   },
   {
    "duration": 306,
    "start_time": "2023-03-06T10:03:11.937Z"
   },
   {
    "duration": 361,
    "start_time": "2023-03-06T10:03:12.245Z"
   },
   {
    "duration": 355,
    "start_time": "2023-03-06T10:03:12.611Z"
   },
   {
    "duration": 344,
    "start_time": "2023-03-06T10:03:12.968Z"
   },
   {
    "duration": 49,
    "start_time": "2023-03-06T10:03:13.314Z"
   },
   {
    "duration": 94,
    "start_time": "2023-03-06T10:03:23.106Z"
   },
   {
    "duration": 3,
    "start_time": "2023-03-06T10:03:26.108Z"
   },
   {
    "duration": 343,
    "start_time": "2023-03-06T10:04:17.715Z"
   },
   {
    "duration": 85,
    "start_time": "2023-03-06T10:10:48.222Z"
   },
   {
    "duration": 3,
    "start_time": "2023-03-06T10:10:51.924Z"
   },
   {
    "duration": 483,
    "start_time": "2023-03-06T10:10:53.111Z"
   },
   {
    "duration": 350,
    "start_time": "2023-03-06T10:10:57.725Z"
   },
   {
    "duration": 1453,
    "start_time": "2023-03-06T10:11:07.190Z"
   },
   {
    "duration": 1007,
    "start_time": "2023-03-06T10:11:08.645Z"
   },
   {
    "duration": 124,
    "start_time": "2023-03-06T10:11:09.654Z"
   },
   {
    "duration": 333,
    "start_time": "2023-03-06T10:11:09.781Z"
   },
   {
    "duration": 108,
    "start_time": "2023-03-06T10:11:10.116Z"
   },
   {
    "duration": 13,
    "start_time": "2023-03-06T10:11:10.226Z"
   },
   {
    "duration": 414,
    "start_time": "2023-03-06T10:11:10.241Z"
   },
   {
    "duration": 13,
    "start_time": "2023-03-06T10:11:10.657Z"
   },
   {
    "duration": 105,
    "start_time": "2023-03-06T10:11:10.672Z"
   },
   {
    "duration": 305,
    "start_time": "2023-03-06T10:11:10.779Z"
   },
   {
    "duration": 68,
    "start_time": "2023-03-06T10:11:11.086Z"
   },
   {
    "duration": 441,
    "start_time": "2023-03-06T10:11:11.155Z"
   },
   {
    "duration": 271,
    "start_time": "2023-03-06T10:11:11.599Z"
   },
   {
    "duration": 76,
    "start_time": "2023-03-06T10:11:11.873Z"
   },
   {
    "duration": 32,
    "start_time": "2023-03-06T10:11:11.951Z"
   },
   {
    "duration": 113,
    "start_time": "2023-03-06T10:11:11.984Z"
   },
   {
    "duration": 41,
    "start_time": "2023-03-06T10:11:12.098Z"
   },
   {
    "duration": 56,
    "start_time": "2023-03-06T10:11:12.140Z"
   },
   {
    "duration": 3325,
    "start_time": "2023-03-06T10:11:12.197Z"
   },
   {
    "duration": 3505,
    "start_time": "2023-03-06T10:11:15.525Z"
   },
   {
    "duration": 56,
    "start_time": "2023-03-06T10:11:19.032Z"
   },
   {
    "duration": 82,
    "start_time": "2023-03-06T10:11:19.090Z"
   },
   {
    "duration": 64,
    "start_time": "2023-03-06T10:11:19.174Z"
   },
   {
    "duration": 342,
    "start_time": "2023-03-06T10:11:19.240Z"
   },
   {
    "duration": 402,
    "start_time": "2023-03-06T10:11:19.585Z"
   },
   {
    "duration": 366,
    "start_time": "2023-03-06T10:11:19.988Z"
   },
   {
    "duration": 348,
    "start_time": "2023-03-06T10:11:20.356Z"
   },
   {
    "duration": 53,
    "start_time": "2023-03-06T10:11:20.712Z"
   },
   {
    "duration": 87,
    "start_time": "2023-03-06T10:11:36.611Z"
   },
   {
    "duration": 3,
    "start_time": "2023-03-06T10:11:39.151Z"
   },
   {
    "duration": 357,
    "start_time": "2023-03-06T10:11:40.207Z"
   },
   {
    "duration": 63,
    "start_time": "2023-03-06T10:12:16.838Z"
   },
   {
    "duration": 2,
    "start_time": "2023-03-06T10:12:20.177Z"
   },
   {
    "duration": 305,
    "start_time": "2023-03-06T10:12:21.130Z"
   },
   {
    "duration": 989,
    "start_time": "2023-03-06T10:15:30.759Z"
   },
   {
    "duration": 809,
    "start_time": "2023-03-06T10:16:08.714Z"
   },
   {
    "duration": 28,
    "start_time": "2023-03-06T10:24:04.452Z"
   },
   {
    "duration": 845,
    "start_time": "2023-03-06T10:24:41.915Z"
   },
   {
    "duration": 869,
    "start_time": "2023-03-06T10:27:05.114Z"
   },
   {
    "duration": 827,
    "start_time": "2023-03-06T10:27:18.638Z"
   },
   {
    "duration": 811,
    "start_time": "2023-03-06T10:27:27.211Z"
   },
   {
    "duration": 825,
    "start_time": "2023-03-06T10:29:18.927Z"
   },
   {
    "duration": 64,
    "start_time": "2023-03-06T10:38:36.999Z"
   },
   {
    "duration": 384,
    "start_time": "2023-03-06T10:38:48.251Z"
   },
   {
    "duration": 38,
    "start_time": "2023-03-06T10:38:54.800Z"
   },
   {
    "duration": 191,
    "start_time": "2023-03-06T10:39:26.499Z"
   },
   {
    "duration": 47,
    "start_time": "2023-03-06T10:40:57.699Z"
   },
   {
    "duration": 801,
    "start_time": "2023-03-06T10:41:46.931Z"
   },
   {
    "duration": 839,
    "start_time": "2023-03-06T10:42:00.207Z"
   },
   {
    "duration": 812,
    "start_time": "2023-03-06T10:43:30.955Z"
   },
   {
    "duration": 816,
    "start_time": "2023-03-06T10:44:18.129Z"
   },
   {
    "duration": 802,
    "start_time": "2023-03-06T10:49:25.204Z"
   },
   {
    "duration": 808,
    "start_time": "2023-03-06T10:49:56.994Z"
   },
   {
    "duration": 979,
    "start_time": "2023-03-06T10:53:09.303Z"
   },
   {
    "duration": 203,
    "start_time": "2023-03-06T10:53:35.900Z"
   },
   {
    "duration": 110,
    "start_time": "2023-03-06T10:54:09.110Z"
   },
   {
    "duration": 117,
    "start_time": "2023-03-06T10:54:31.710Z"
   },
   {
    "duration": 133,
    "start_time": "2023-03-06T10:55:01.026Z"
   },
   {
    "duration": 810,
    "start_time": "2023-03-06T10:57:34.523Z"
   },
   {
    "duration": 835,
    "start_time": "2023-03-06T10:57:55.299Z"
   },
   {
    "duration": 871,
    "start_time": "2023-03-06T11:01:31.359Z"
   },
   {
    "duration": 141,
    "start_time": "2023-03-06T11:04:11.428Z"
   },
   {
    "duration": 875,
    "start_time": "2023-03-06T11:05:15.401Z"
   },
   {
    "duration": 251,
    "start_time": "2023-03-06T11:07:21.909Z"
   },
   {
    "duration": 18,
    "start_time": "2023-03-06T11:09:43.192Z"
   },
   {
    "duration": 18,
    "start_time": "2023-03-06T11:10:33.687Z"
   },
   {
    "duration": 42,
    "start_time": "2023-03-06T11:13:46.021Z"
   },
   {
    "duration": 18,
    "start_time": "2023-03-06T11:14:03.932Z"
   },
   {
    "duration": 6890,
    "start_time": "2023-03-06T11:14:11.411Z"
   },
   {
    "duration": 317,
    "start_time": "2023-03-06T11:14:28.622Z"
   },
   {
    "duration": 376,
    "start_time": "2023-03-06T11:17:34.170Z"
   },
   {
    "duration": 338,
    "start_time": "2023-03-06T11:25:34.731Z"
   },
   {
    "duration": 298,
    "start_time": "2023-03-06T11:25:49.604Z"
   },
   {
    "duration": 310,
    "start_time": "2023-03-06T11:26:12.500Z"
   },
   {
    "duration": 286,
    "start_time": "2023-03-06T11:26:21.600Z"
   },
   {
    "duration": 69,
    "start_time": "2023-03-06T11:31:04.221Z"
   },
   {
    "duration": 17,
    "start_time": "2023-03-06T11:32:34.314Z"
   },
   {
    "duration": 63,
    "start_time": "2023-03-06T11:32:40.705Z"
   },
   {
    "duration": 3,
    "start_time": "2023-03-06T11:32:50.804Z"
   },
   {
    "duration": 28679,
    "start_time": "2023-03-06T11:32:55.324Z"
   },
   {
    "duration": 10,
    "start_time": "2023-03-06T11:37:30.318Z"
   },
   {
    "duration": 14,
    "start_time": "2023-03-06T11:37:38.748Z"
   },
   {
    "duration": 28310,
    "start_time": "2023-03-06T11:38:27.135Z"
   },
   {
    "duration": 27865,
    "start_time": "2023-03-06T11:39:07.219Z"
   },
   {
    "duration": 13,
    "start_time": "2023-03-06T11:39:44.307Z"
   },
   {
    "duration": 9,
    "start_time": "2023-03-06T11:39:49.731Z"
   },
   {
    "duration": 10,
    "start_time": "2023-03-06T11:41:09.848Z"
   },
   {
    "duration": 4,
    "start_time": "2023-03-06T11:41:20.792Z"
   },
   {
    "duration": 15,
    "start_time": "2023-03-06T11:41:53.944Z"
   },
   {
    "duration": 12,
    "start_time": "2023-03-06T11:42:12.932Z"
   },
   {
    "duration": 53,
    "start_time": "2023-03-06T14:45:00.637Z"
   },
   {
    "duration": 0,
    "start_time": "2023-03-06T14:45:00.692Z"
   },
   {
    "duration": 0,
    "start_time": "2023-03-06T14:45:00.694Z"
   },
   {
    "duration": 0,
    "start_time": "2023-03-06T14:45:00.695Z"
   },
   {
    "duration": 0,
    "start_time": "2023-03-06T14:45:00.696Z"
   },
   {
    "duration": 0,
    "start_time": "2023-03-06T14:45:00.697Z"
   },
   {
    "duration": 0,
    "start_time": "2023-03-06T14:45:00.698Z"
   },
   {
    "duration": 0,
    "start_time": "2023-03-06T14:45:00.700Z"
   },
   {
    "duration": 0,
    "start_time": "2023-03-06T14:45:00.700Z"
   },
   {
    "duration": 0,
    "start_time": "2023-03-06T14:45:00.701Z"
   },
   {
    "duration": 0,
    "start_time": "2023-03-06T14:45:00.703Z"
   },
   {
    "duration": 0,
    "start_time": "2023-03-06T14:45:00.704Z"
   },
   {
    "duration": 0,
    "start_time": "2023-03-06T14:45:00.705Z"
   },
   {
    "duration": 0,
    "start_time": "2023-03-06T14:45:00.712Z"
   },
   {
    "duration": 7,
    "start_time": "2023-03-06T14:45:38.942Z"
   },
   {
    "duration": 6,
    "start_time": "2023-03-06T14:45:53.658Z"
   },
   {
    "duration": 1692,
    "start_time": "2023-03-06T14:46:21.327Z"
   },
   {
    "duration": 3022,
    "start_time": "2023-03-06T14:46:23.022Z"
   },
   {
    "duration": 120,
    "start_time": "2023-03-06T14:46:26.046Z"
   },
   {
    "duration": 345,
    "start_time": "2023-03-06T14:46:26.167Z"
   },
   {
    "duration": 128,
    "start_time": "2023-03-06T14:46:26.515Z"
   },
   {
    "duration": 10,
    "start_time": "2023-03-06T14:46:26.644Z"
   },
   {
    "duration": 440,
    "start_time": "2023-03-06T14:46:26.655Z"
   },
   {
    "duration": 24,
    "start_time": "2023-03-06T14:46:27.097Z"
   },
   {
    "duration": 109,
    "start_time": "2023-03-06T14:46:27.124Z"
   },
   {
    "duration": 386,
    "start_time": "2023-03-06T14:46:27.237Z"
   },
   {
    "duration": 66,
    "start_time": "2023-03-06T14:46:27.625Z"
   },
   {
    "duration": 347,
    "start_time": "2023-03-06T14:46:27.692Z"
   },
   {
    "duration": 302,
    "start_time": "2023-03-06T14:46:28.040Z"
   },
   {
    "duration": 92,
    "start_time": "2023-03-06T14:46:28.344Z"
   },
   {
    "duration": 34,
    "start_time": "2023-03-06T14:46:28.438Z"
   },
   {
    "duration": 126,
    "start_time": "2023-03-06T14:46:28.474Z"
   },
   {
    "duration": 49,
    "start_time": "2023-03-06T14:46:28.602Z"
   },
   {
    "duration": 70,
    "start_time": "2023-03-06T14:46:28.653Z"
   },
   {
    "duration": 3415,
    "start_time": "2023-03-06T14:46:28.726Z"
   },
   {
    "duration": 3582,
    "start_time": "2023-03-06T14:46:32.143Z"
   },
   {
    "duration": 55,
    "start_time": "2023-03-06T14:46:35.727Z"
   },
   {
    "duration": 76,
    "start_time": "2023-03-06T14:46:35.784Z"
   },
   {
    "duration": 57,
    "start_time": "2023-03-06T14:46:35.862Z"
   },
   {
    "duration": 321,
    "start_time": "2023-03-06T14:46:35.921Z"
   },
   {
    "duration": 374,
    "start_time": "2023-03-06T14:46:36.245Z"
   },
   {
    "duration": 342,
    "start_time": "2023-03-06T14:46:36.623Z"
   },
   {
    "duration": 456,
    "start_time": "2023-03-06T14:46:36.966Z"
   },
   {
    "duration": 71,
    "start_time": "2023-03-06T14:46:55.775Z"
   },
   {
    "duration": 3,
    "start_time": "2023-03-06T14:47:00.075Z"
   },
   {
    "duration": 282,
    "start_time": "2023-03-06T14:47:01.916Z"
   },
   {
    "duration": 114,
    "start_time": "2023-03-06T14:47:42.198Z"
   },
   {
    "duration": 250,
    "start_time": "2023-03-06T14:47:59.222Z"
   },
   {
    "duration": 7115,
    "start_time": "2023-03-06T14:48:31.874Z"
   },
   {
    "duration": 50,
    "start_time": "2023-03-07T09:40:31.711Z"
   },
   {
    "duration": 6,
    "start_time": "2023-03-07T09:40:41.889Z"
   },
   {
    "duration": 6,
    "start_time": "2023-03-07T09:41:05.514Z"
   },
   {
    "duration": 6,
    "start_time": "2023-03-07T09:41:11.694Z"
   },
   {
    "duration": 42,
    "start_time": "2023-03-07T09:42:00.681Z"
   },
   {
    "duration": 10,
    "start_time": "2023-03-07T09:42:33.354Z"
   },
   {
    "duration": 1585,
    "start_time": "2023-03-07T09:42:41.723Z"
   },
   {
    "duration": 86,
    "start_time": "2023-03-07T09:43:18.645Z"
   },
   {
    "duration": 12,
    "start_time": "2023-03-07T09:43:32.391Z"
   },
   {
    "duration": 1309,
    "start_time": "2023-03-07T09:44:22.687Z"
   },
   {
    "duration": 3054,
    "start_time": "2023-03-07T09:44:23.998Z"
   },
   {
    "duration": 113,
    "start_time": "2023-03-07T09:44:27.055Z"
   },
   {
    "duration": 337,
    "start_time": "2023-03-07T09:44:27.170Z"
   },
   {
    "duration": 99,
    "start_time": "2023-03-07T09:44:27.509Z"
   },
   {
    "duration": 11,
    "start_time": "2023-03-07T09:44:27.609Z"
   },
   {
    "duration": 393,
    "start_time": "2023-03-07T09:44:27.622Z"
   },
   {
    "duration": 13,
    "start_time": "2023-03-07T09:44:28.017Z"
   },
   {
    "duration": 88,
    "start_time": "2023-03-07T09:44:28.032Z"
   },
   {
    "duration": 355,
    "start_time": "2023-03-07T09:44:28.123Z"
   },
   {
    "duration": 57,
    "start_time": "2023-03-07T09:44:28.479Z"
   },
   {
    "duration": 320,
    "start_time": "2023-03-07T09:44:28.540Z"
   },
   {
    "duration": 254,
    "start_time": "2023-03-07T09:44:28.862Z"
   },
   {
    "duration": 85,
    "start_time": "2023-03-07T09:44:29.118Z"
   },
   {
    "duration": 48,
    "start_time": "2023-03-07T09:44:29.204Z"
   },
   {
    "duration": 103,
    "start_time": "2023-03-07T09:44:29.256Z"
   },
   {
    "duration": 27,
    "start_time": "2023-03-07T09:44:29.360Z"
   },
   {
    "duration": 67,
    "start_time": "2023-03-07T09:44:29.388Z"
   },
   {
    "duration": 2929,
    "start_time": "2023-03-07T09:44:29.458Z"
   },
   {
    "duration": 3297,
    "start_time": "2023-03-07T09:44:32.388Z"
   },
   {
    "duration": 43,
    "start_time": "2023-03-07T09:44:35.687Z"
   },
   {
    "duration": 73,
    "start_time": "2023-03-07T09:44:35.740Z"
   },
   {
    "duration": 92,
    "start_time": "2023-03-07T09:44:35.815Z"
   },
   {
    "duration": 305,
    "start_time": "2023-03-07T09:44:35.908Z"
   },
   {
    "duration": 356,
    "start_time": "2023-03-07T09:44:36.215Z"
   },
   {
    "duration": 332,
    "start_time": "2023-03-07T09:44:36.573Z"
   },
   {
    "duration": 411,
    "start_time": "2023-03-07T09:44:36.908Z"
   },
   {
    "duration": 58,
    "start_time": "2023-03-07T09:44:37.322Z"
   },
   {
    "duration": 85,
    "start_time": "2023-03-07T09:44:37.382Z"
   },
   {
    "duration": 3,
    "start_time": "2023-03-07T09:44:37.469Z"
   },
   {
    "duration": 283,
    "start_time": "2023-03-07T09:44:37.474Z"
   },
   {
    "duration": 804,
    "start_time": "2023-03-07T09:44:37.759Z"
   },
   {
    "duration": 0,
    "start_time": "2023-03-07T09:44:38.565Z"
   },
   {
    "duration": 0,
    "start_time": "2023-03-07T09:44:38.566Z"
   },
   {
    "duration": 0,
    "start_time": "2023-03-07T09:44:38.567Z"
   },
   {
    "duration": 0,
    "start_time": "2023-03-07T09:44:38.568Z"
   },
   {
    "duration": 0,
    "start_time": "2023-03-07T09:44:38.570Z"
   },
   {
    "duration": 0,
    "start_time": "2023-03-07T09:44:38.571Z"
   },
   {
    "duration": 0,
    "start_time": "2023-03-07T09:44:38.572Z"
   },
   {
    "duration": 0,
    "start_time": "2023-03-07T09:44:38.574Z"
   },
   {
    "duration": 0,
    "start_time": "2023-03-07T09:44:38.575Z"
   },
   {
    "duration": 0,
    "start_time": "2023-03-07T09:44:38.576Z"
   },
   {
    "duration": 687,
    "start_time": "2023-03-07T09:54:17.801Z"
   },
   {
    "duration": 697,
    "start_time": "2023-03-07T09:54:22.961Z"
   },
   {
    "duration": 258,
    "start_time": "2023-03-07T09:54:28.334Z"
   },
   {
    "duration": 673,
    "start_time": "2023-03-07T09:54:31.155Z"
   },
   {
    "duration": 62,
    "start_time": "2023-03-07T10:01:23.857Z"
   },
   {
    "duration": 280,
    "start_time": "2023-03-07T10:01:30.541Z"
   },
   {
    "duration": 671,
    "start_time": "2023-03-07T10:01:34.356Z"
   },
   {
    "duration": 759,
    "start_time": "2023-03-07T14:20:58.030Z"
   },
   {
    "duration": 723,
    "start_time": "2023-03-07T14:21:21.395Z"
   },
   {
    "duration": 41,
    "start_time": "2023-03-07T14:24:20.421Z"
   },
   {
    "duration": 64,
    "start_time": "2023-03-07T14:28:05.590Z"
   },
   {
    "duration": 1668,
    "start_time": "2023-03-07T14:28:23.770Z"
   },
   {
    "duration": 1720,
    "start_time": "2023-03-07T14:28:34.177Z"
   },
   {
    "duration": 63,
    "start_time": "2023-03-09T11:22:38.855Z"
   },
   {
    "duration": 76,
    "start_time": "2023-03-09T11:23:24.223Z"
   },
   {
    "duration": 0,
    "start_time": "2023-03-09T11:23:24.302Z"
   },
   {
    "duration": 0,
    "start_time": "2023-03-09T11:23:24.303Z"
   },
   {
    "duration": 0,
    "start_time": "2023-03-09T11:23:24.305Z"
   },
   {
    "duration": 1,
    "start_time": "2023-03-09T11:23:24.306Z"
   },
   {
    "duration": 0,
    "start_time": "2023-03-09T11:23:24.308Z"
   },
   {
    "duration": 0,
    "start_time": "2023-03-09T11:23:24.310Z"
   },
   {
    "duration": 0,
    "start_time": "2023-03-09T11:23:24.311Z"
   },
   {
    "duration": 0,
    "start_time": "2023-03-09T11:23:24.313Z"
   },
   {
    "duration": 0,
    "start_time": "2023-03-09T11:23:24.314Z"
   },
   {
    "duration": 0,
    "start_time": "2023-03-09T11:23:24.316Z"
   },
   {
    "duration": 10,
    "start_time": "2023-03-09T11:23:49.913Z"
   },
   {
    "duration": 8,
    "start_time": "2023-03-09T11:23:56.610Z"
   },
   {
    "duration": 69,
    "start_time": "2023-03-09T11:24:08.664Z"
   },
   {
    "duration": 8,
    "start_time": "2023-03-09T11:24:11.612Z"
   },
   {
    "duration": 77,
    "start_time": "2023-03-09T11:24:50.465Z"
   },
   {
    "duration": 2106,
    "start_time": "2023-03-09T11:24:54.298Z"
   },
   {
    "duration": 3858,
    "start_time": "2023-03-09T11:24:56.406Z"
   },
   {
    "duration": 122,
    "start_time": "2023-03-09T11:25:00.266Z"
   },
   {
    "duration": 345,
    "start_time": "2023-03-09T11:25:00.392Z"
   },
   {
    "duration": 100,
    "start_time": "2023-03-09T11:25:00.747Z"
   },
   {
    "duration": 15,
    "start_time": "2023-03-09T11:25:00.849Z"
   },
   {
    "duration": 460,
    "start_time": "2023-03-09T11:25:00.867Z"
   },
   {
    "duration": 20,
    "start_time": "2023-03-09T11:25:01.329Z"
   },
   {
    "duration": 168,
    "start_time": "2023-03-09T11:25:01.351Z"
   },
   {
    "duration": 407,
    "start_time": "2023-03-09T11:25:01.522Z"
   },
   {
    "duration": 82,
    "start_time": "2023-03-09T11:25:01.932Z"
   },
   {
    "duration": 368,
    "start_time": "2023-03-09T11:25:02.016Z"
   },
   {
    "duration": 317,
    "start_time": "2023-03-09T11:25:02.386Z"
   },
   {
    "duration": 105,
    "start_time": "2023-03-09T11:25:02.705Z"
   },
   {
    "duration": 47,
    "start_time": "2023-03-09T11:25:02.812Z"
   },
   {
    "duration": 171,
    "start_time": "2023-03-09T11:25:02.862Z"
   },
   {
    "duration": 49,
    "start_time": "2023-03-09T11:25:03.035Z"
   },
   {
    "duration": 57,
    "start_time": "2023-03-09T11:25:03.086Z"
   },
   {
    "duration": 3337,
    "start_time": "2023-03-09T11:25:03.145Z"
   },
   {
    "duration": 3724,
    "start_time": "2023-03-09T11:25:06.485Z"
   },
   {
    "duration": 77,
    "start_time": "2023-03-09T11:25:10.211Z"
   },
   {
    "duration": 87,
    "start_time": "2023-03-09T11:25:10.290Z"
   },
   {
    "duration": 99,
    "start_time": "2023-03-09T11:25:10.379Z"
   },
   {
    "duration": 332,
    "start_time": "2023-03-09T11:25:10.482Z"
   },
   {
    "duration": 384,
    "start_time": "2023-03-09T11:25:10.816Z"
   },
   {
    "duration": 399,
    "start_time": "2023-03-09T11:25:11.202Z"
   },
   {
    "duration": 552,
    "start_time": "2023-03-09T11:25:11.603Z"
   },
   {
    "duration": 55,
    "start_time": "2023-03-09T11:25:12.161Z"
   },
   {
    "duration": 89,
    "start_time": "2023-03-09T11:25:25.361Z"
   },
   {
    "duration": 7,
    "start_time": "2023-03-09T11:27:15.166Z"
   },
   {
    "duration": 486,
    "start_time": "2023-03-09T11:27:33.893Z"
   },
   {
    "duration": 2274,
    "start_time": "2023-03-09T11:28:00.146Z"
   },
   {
    "duration": 1891,
    "start_time": "2023-03-09T11:28:18.871Z"
   },
   {
    "duration": 4,
    "start_time": "2023-03-09T11:28:30.613Z"
   },
   {
    "duration": 122289,
    "start_time": "2023-03-09T11:30:24.560Z"
   },
   {
    "duration": 5,
    "start_time": "2023-03-09T11:36:33.964Z"
   },
   {
    "duration": 51491,
    "start_time": "2023-03-09T11:37:12.078Z"
   },
   {
    "duration": 106,
    "start_time": "2023-03-09T11:40:35.416Z"
   },
   {
    "duration": 15,
    "start_time": "2023-03-09T11:40:45.434Z"
   },
   {
    "duration": 25781,
    "start_time": "2023-03-09T11:44:03.997Z"
   },
   {
    "duration": 54659,
    "start_time": "2023-03-09T11:44:29.780Z"
   },
   {
    "duration": 6,
    "start_time": "2023-03-09T11:47:47.093Z"
   },
   {
    "duration": 28925,
    "start_time": "2023-03-09T11:47:52.801Z"
   },
   {
    "duration": 104,
    "start_time": "2023-03-09T11:49:49.814Z"
   },
   {
    "duration": 75,
    "start_time": "2023-03-09T11:50:11.777Z"
   },
   {
    "duration": 122,
    "start_time": "2023-03-09T11:50:47.370Z"
   },
   {
    "duration": 154,
    "start_time": "2023-03-09T11:50:53.230Z"
   },
   {
    "duration": 126,
    "start_time": "2023-03-09T11:51:08.171Z"
   },
   {
    "duration": 124,
    "start_time": "2023-03-09T11:51:18.686Z"
   },
   {
    "duration": 119,
    "start_time": "2023-03-09T11:51:27.590Z"
   },
   {
    "duration": 66,
    "start_time": "2023-03-09T11:51:32.865Z"
   },
   {
    "duration": 73095,
    "start_time": "2023-03-09T11:56:25.805Z"
   },
   {
    "duration": 46,
    "start_time": "2023-03-09T11:58:38.380Z"
   },
   {
    "duration": 67,
    "start_time": "2023-03-09T11:59:07.438Z"
   },
   {
    "duration": 62,
    "start_time": "2023-03-09T11:59:21.306Z"
   },
   {
    "duration": 1409,
    "start_time": "2023-03-09T12:08:00.805Z"
   },
   {
    "duration": 1014,
    "start_time": "2023-03-09T12:08:02.216Z"
   },
   {
    "duration": 124,
    "start_time": "2023-03-09T12:08:03.232Z"
   },
   {
    "duration": 303,
    "start_time": "2023-03-09T12:08:03.358Z"
   },
   {
    "duration": 107,
    "start_time": "2023-03-09T12:08:03.663Z"
   },
   {
    "duration": 14,
    "start_time": "2023-03-09T12:08:03.773Z"
   },
   {
    "duration": 397,
    "start_time": "2023-03-09T12:08:03.789Z"
   },
   {
    "duration": 14,
    "start_time": "2023-03-09T12:08:04.188Z"
   },
   {
    "duration": 119,
    "start_time": "2023-03-09T12:08:04.204Z"
   },
   {
    "duration": 369,
    "start_time": "2023-03-09T12:08:04.326Z"
   },
   {
    "duration": 73,
    "start_time": "2023-03-09T12:08:04.697Z"
   },
   {
    "duration": 352,
    "start_time": "2023-03-09T12:08:04.773Z"
   },
   {
    "duration": 265,
    "start_time": "2023-03-09T12:08:05.127Z"
   },
   {
    "duration": 86,
    "start_time": "2023-03-09T12:08:05.394Z"
   },
   {
    "duration": 29,
    "start_time": "2023-03-09T12:08:05.482Z"
   },
   {
    "duration": 113,
    "start_time": "2023-03-09T12:08:05.512Z"
   },
   {
    "duration": 60,
    "start_time": "2023-03-09T12:08:05.626Z"
   },
   {
    "duration": 50,
    "start_time": "2023-03-09T12:08:05.687Z"
   },
   {
    "duration": 3242,
    "start_time": "2023-03-09T12:08:05.739Z"
   },
   {
    "duration": 3369,
    "start_time": "2023-03-09T12:08:08.983Z"
   },
   {
    "duration": 67,
    "start_time": "2023-03-09T12:08:12.357Z"
   },
   {
    "duration": 64,
    "start_time": "2023-03-09T12:08:12.426Z"
   },
   {
    "duration": 78,
    "start_time": "2023-03-09T12:08:12.492Z"
   },
   {
    "duration": 333,
    "start_time": "2023-03-09T12:08:12.574Z"
   },
   {
    "duration": 327,
    "start_time": "2023-03-09T12:08:12.908Z"
   },
   {
    "duration": 356,
    "start_time": "2023-03-09T12:08:13.237Z"
   },
   {
    "duration": 437,
    "start_time": "2023-03-09T12:08:13.595Z"
   },
   {
    "duration": 58,
    "start_time": "2023-03-09T12:08:14.041Z"
   },
   {
    "duration": 79,
    "start_time": "2023-03-09T12:08:14.100Z"
   },
   {
    "duration": 3,
    "start_time": "2023-03-09T12:08:14.181Z"
   },
   {
    "duration": 311,
    "start_time": "2023-03-09T12:08:14.185Z"
   },
   {
    "duration": 1598,
    "start_time": "2023-03-09T12:08:14.498Z"
   },
   {
    "duration": 3,
    "start_time": "2023-03-09T12:08:16.097Z"
   },
   {
    "duration": 43462,
    "start_time": "2023-03-09T12:08:16.101Z"
   },
   {
    "duration": 64689,
    "start_time": "2023-03-09T12:08:59.564Z"
   },
   {
    "duration": 4,
    "start_time": "2023-03-09T12:10:04.255Z"
   },
   {
    "duration": 26168,
    "start_time": "2023-03-09T12:10:04.261Z"
   },
   {
    "duration": 73,
    "start_time": "2023-03-09T12:10:30.431Z"
   },
   {
    "duration": 4,
    "start_time": "2023-03-09T12:10:30.506Z"
   },
   {
    "duration": 100,
    "start_time": "2023-03-09T13:01:20.372Z"
   },
   {
    "duration": 60,
    "start_time": "2023-03-09T13:01:24.745Z"
   },
   {
    "duration": 7,
    "start_time": "2023-03-09T13:01:38.457Z"
   },
   {
    "duration": 0,
    "start_time": "2023-03-09T13:01:38.466Z"
   },
   {
    "duration": 0,
    "start_time": "2023-03-09T13:01:38.467Z"
   },
   {
    "duration": 8,
    "start_time": "2023-03-09T13:01:38.469Z"
   },
   {
    "duration": 0,
    "start_time": "2023-03-09T13:01:38.478Z"
   },
   {
    "duration": 60,
    "start_time": "2023-03-09T13:01:38.486Z"
   },
   {
    "duration": 47,
    "start_time": "2023-03-09T13:01:38.548Z"
   },
   {
    "duration": 86,
    "start_time": "2023-03-09T13:01:38.597Z"
   },
   {
    "duration": 61,
    "start_time": "2023-03-09T13:01:38.684Z"
   },
   {
    "duration": 54,
    "start_time": "2023-03-09T13:01:38.755Z"
   },
   {
    "duration": 63,
    "start_time": "2023-03-09T13:01:38.811Z"
   },
   {
    "duration": 50,
    "start_time": "2023-03-09T13:01:38.875Z"
   },
   {
    "duration": 70,
    "start_time": "2023-03-09T13:01:38.927Z"
   },
   {
    "duration": 82,
    "start_time": "2023-03-09T13:01:38.998Z"
   },
   {
    "duration": 94,
    "start_time": "2023-03-09T13:01:39.081Z"
   },
   {
    "duration": 71,
    "start_time": "2023-03-09T13:01:39.177Z"
   },
   {
    "duration": 15,
    "start_time": "2023-03-09T13:01:39.252Z"
   },
   {
    "duration": 10,
    "start_time": "2023-03-09T13:01:52.465Z"
   },
   {
    "duration": 1475,
    "start_time": "2023-03-09T13:02:05.111Z"
   },
   {
    "duration": 970,
    "start_time": "2023-03-09T13:02:06.588Z"
   },
   {
    "duration": 100,
    "start_time": "2023-03-09T13:02:07.561Z"
   },
   {
    "duration": 301,
    "start_time": "2023-03-09T13:02:07.663Z"
   },
   {
    "duration": 96,
    "start_time": "2023-03-09T13:02:07.965Z"
   },
   {
    "duration": 9,
    "start_time": "2023-03-09T13:02:08.063Z"
   },
   {
    "duration": 381,
    "start_time": "2023-03-09T13:02:08.074Z"
   },
   {
    "duration": 13,
    "start_time": "2023-03-09T13:02:08.460Z"
   },
   {
    "duration": 85,
    "start_time": "2023-03-09T13:02:08.474Z"
   },
   {
    "duration": 359,
    "start_time": "2023-03-09T13:02:08.562Z"
   },
   {
    "duration": 74,
    "start_time": "2023-03-09T13:02:08.922Z"
   },
   {
    "duration": 359,
    "start_time": "2023-03-09T13:02:08.998Z"
   },
   {
    "duration": 240,
    "start_time": "2023-03-09T13:02:09.359Z"
   },
   {
    "duration": 81,
    "start_time": "2023-03-09T13:02:09.601Z"
   },
   {
    "duration": 30,
    "start_time": "2023-03-09T13:02:09.684Z"
   },
   {
    "duration": 110,
    "start_time": "2023-03-09T13:02:09.715Z"
   },
   {
    "duration": 39,
    "start_time": "2023-03-09T13:02:09.826Z"
   },
   {
    "duration": 50,
    "start_time": "2023-03-09T13:02:09.866Z"
   },
   {
    "duration": 3199,
    "start_time": "2023-03-09T13:02:09.917Z"
   },
   {
    "duration": 3383,
    "start_time": "2023-03-09T13:02:13.118Z"
   },
   {
    "duration": 69,
    "start_time": "2023-03-09T13:02:16.503Z"
   },
   {
    "duration": 70,
    "start_time": "2023-03-09T13:02:16.573Z"
   },
   {
    "duration": 55,
    "start_time": "2023-03-09T13:02:16.650Z"
   },
   {
    "duration": 295,
    "start_time": "2023-03-09T13:02:16.707Z"
   },
   {
    "duration": 323,
    "start_time": "2023-03-09T13:02:17.004Z"
   },
   {
    "duration": 354,
    "start_time": "2023-03-09T13:02:17.329Z"
   },
   {
    "duration": 428,
    "start_time": "2023-03-09T13:02:17.685Z"
   },
   {
    "duration": 83,
    "start_time": "2023-03-09T13:02:18.116Z"
   },
   {
    "duration": 77,
    "start_time": "2023-03-09T13:02:20.712Z"
   },
   {
    "duration": 3,
    "start_time": "2023-03-09T13:02:22.455Z"
   },
   {
    "duration": 287,
    "start_time": "2023-03-09T13:02:27.238Z"
   },
   {
    "duration": 2071,
    "start_time": "2023-03-09T13:02:29.140Z"
   },
   {
    "duration": 4,
    "start_time": "2023-03-09T13:02:31.559Z"
   },
   {
    "duration": 168,
    "start_time": "2023-03-09T13:02:59.897Z"
   },
   {
    "duration": 98,
    "start_time": "2023-03-09T13:03:10.732Z"
   },
   {
    "duration": 71,
    "start_time": "2023-03-09T13:03:39.707Z"
   },
   {
    "duration": 1214,
    "start_time": "2023-03-09T13:07:15.347Z"
   },
   {
    "duration": 1400,
    "start_time": "2023-03-09T13:11:19.430Z"
   },
   {
    "duration": 956,
    "start_time": "2023-03-09T13:11:20.832Z"
   },
   {
    "duration": 143,
    "start_time": "2023-03-09T13:11:21.790Z"
   },
   {
    "duration": 322,
    "start_time": "2023-03-09T13:11:21.939Z"
   },
   {
    "duration": 149,
    "start_time": "2023-03-09T13:11:22.263Z"
   },
   {
    "duration": 40,
    "start_time": "2023-03-09T13:11:22.414Z"
   },
   {
    "duration": 496,
    "start_time": "2023-03-09T13:11:22.456Z"
   },
   {
    "duration": 14,
    "start_time": "2023-03-09T13:11:22.953Z"
   },
   {
    "duration": 134,
    "start_time": "2023-03-09T13:11:22.968Z"
   },
   {
    "duration": 386,
    "start_time": "2023-03-09T13:11:23.104Z"
   },
   {
    "duration": 93,
    "start_time": "2023-03-09T13:11:23.492Z"
   },
   {
    "duration": 366,
    "start_time": "2023-03-09T13:11:23.587Z"
   },
   {
    "duration": 247,
    "start_time": "2023-03-09T13:11:23.954Z"
   },
   {
    "duration": 82,
    "start_time": "2023-03-09T13:11:24.203Z"
   },
   {
    "duration": 32,
    "start_time": "2023-03-09T13:11:24.286Z"
   },
   {
    "duration": 144,
    "start_time": "2023-03-09T13:11:24.319Z"
   },
   {
    "duration": 28,
    "start_time": "2023-03-09T13:11:24.465Z"
   },
   {
    "duration": 88,
    "start_time": "2023-03-09T13:11:24.495Z"
   },
   {
    "duration": 3478,
    "start_time": "2023-03-09T13:11:24.584Z"
   },
   {
    "duration": 3674,
    "start_time": "2023-03-09T13:11:28.068Z"
   },
   {
    "duration": 86,
    "start_time": "2023-03-09T13:11:31.743Z"
   },
   {
    "duration": 109,
    "start_time": "2023-03-09T13:11:31.840Z"
   },
   {
    "duration": 75,
    "start_time": "2023-03-09T13:11:31.951Z"
   },
   {
    "duration": 337,
    "start_time": "2023-03-09T13:11:32.028Z"
   },
   {
    "duration": 453,
    "start_time": "2023-03-09T13:11:32.370Z"
   },
   {
    "duration": 403,
    "start_time": "2023-03-09T13:11:32.825Z"
   },
   {
    "duration": 500,
    "start_time": "2023-03-09T13:11:33.230Z"
   },
   {
    "duration": 64,
    "start_time": "2023-03-09T13:11:33.733Z"
   },
   {
    "duration": 196,
    "start_time": "2023-03-09T13:12:07.735Z"
   },
   {
    "duration": 81,
    "start_time": "2023-03-09T13:12:17.329Z"
   },
   {
    "duration": 3,
    "start_time": "2023-03-09T13:12:19.469Z"
   },
   {
    "duration": 332,
    "start_time": "2023-03-09T13:12:20.460Z"
   },
   {
    "duration": 1914,
    "start_time": "2023-03-09T13:12:27.332Z"
   },
   {
    "duration": 3,
    "start_time": "2023-03-09T13:12:33.063Z"
   },
   {
    "duration": 12,
    "start_time": "2023-03-09T13:12:39.569Z"
   },
   {
    "duration": 24887,
    "start_time": "2023-03-09T13:12:58.307Z"
   },
   {
    "duration": 61,
    "start_time": "2023-03-09T13:13:26.671Z"
   },
   {
    "duration": 2110,
    "start_time": "2023-03-09T13:13:39.216Z"
   },
   {
    "duration": 75,
    "start_time": "2023-03-09T13:14:40.498Z"
   },
   {
    "duration": 2228,
    "start_time": "2023-03-09T13:15:15.920Z"
   },
   {
    "duration": 122,
    "start_time": "2023-03-09T13:16:05.688Z"
   },
   {
    "duration": 1843,
    "start_time": "2023-03-09T13:16:18.984Z"
   },
   {
    "duration": 24412,
    "start_time": "2023-03-09T13:16:39.820Z"
   },
   {
    "duration": 82,
    "start_time": "2023-03-09T13:18:16.118Z"
   },
   {
    "duration": 88,
    "start_time": "2023-03-09T13:18:20.928Z"
   },
   {
    "duration": 96,
    "start_time": "2023-03-09T13:18:29.827Z"
   },
   {
    "duration": 146665,
    "start_time": "2023-03-09T13:18:32.989Z"
   },
   {
    "duration": 118,
    "start_time": "2023-03-09T13:20:59.663Z"
   },
   {
    "duration": 2493,
    "start_time": "2023-03-09T13:23:14.741Z"
   },
   {
    "duration": 27501,
    "start_time": "2023-03-09T13:23:55.364Z"
   },
   {
    "duration": 32785,
    "start_time": "2023-03-09T13:25:19.411Z"
   },
   {
    "duration": 115,
    "start_time": "2023-03-09T13:27:48.111Z"
   },
   {
    "duration": 26189,
    "start_time": "2023-03-09T13:28:07.619Z"
   },
   {
    "duration": 3,
    "start_time": "2023-03-09T13:28:33.810Z"
   },
   {
    "duration": 11,
    "start_time": "2023-03-09T13:28:53.815Z"
   },
   {
    "duration": 10,
    "start_time": "2023-03-09T13:29:20.289Z"
   },
   {
    "duration": 28682,
    "start_time": "2023-03-09T13:29:54.177Z"
   },
   {
    "duration": 111884,
    "start_time": "2023-03-09T13:30:22.861Z"
   },
   {
    "duration": 7,
    "start_time": "2023-03-09T13:32:14.750Z"
   },
   {
    "duration": 24783,
    "start_time": "2023-03-09T13:32:14.762Z"
   },
   {
    "duration": 71,
    "start_time": "2023-03-09T13:33:30.946Z"
   },
   {
    "duration": 11,
    "start_time": "2023-03-09T13:35:35.366Z"
   },
   {
    "duration": 8,
    "start_time": "2023-03-09T13:36:39.604Z"
   },
   {
    "duration": 9,
    "start_time": "2023-03-09T13:40:18.526Z"
   },
   {
    "duration": 23,
    "start_time": "2023-03-09T13:40:33.633Z"
   },
   {
    "duration": 319,
    "start_time": "2023-03-09T13:40:39.921Z"
   },
   {
    "duration": 18,
    "start_time": "2023-03-09T13:40:53.662Z"
   },
   {
    "duration": 7,
    "start_time": "2023-03-09T13:41:04.070Z"
   },
   {
    "duration": 16,
    "start_time": "2023-03-09T13:41:17.937Z"
   },
   {
    "duration": 10,
    "start_time": "2023-03-09T13:41:43.032Z"
   },
   {
    "duration": 10,
    "start_time": "2023-03-09T13:43:12.189Z"
   },
   {
    "duration": 54189,
    "start_time": "2023-03-09T13:44:51.259Z"
   },
   {
    "duration": 25489,
    "start_time": "2023-03-09T13:46:07.057Z"
   },
   {
    "duration": 17,
    "start_time": "2023-03-09T13:46:32.550Z"
   },
   {
    "duration": 10,
    "start_time": "2023-03-09T13:46:36.425Z"
   },
   {
    "duration": 1330,
    "start_time": "2023-03-09T13:52:58.292Z"
   },
   {
    "duration": 938,
    "start_time": "2023-03-09T13:52:59.625Z"
   },
   {
    "duration": 110,
    "start_time": "2023-03-09T13:53:00.565Z"
   },
   {
    "duration": 325,
    "start_time": "2023-03-09T13:53:00.678Z"
   },
   {
    "duration": 107,
    "start_time": "2023-03-09T13:53:01.004Z"
   },
   {
    "duration": 60,
    "start_time": "2023-03-09T13:53:01.113Z"
   },
   {
    "duration": 387,
    "start_time": "2023-03-09T13:53:01.175Z"
   },
   {
    "duration": 13,
    "start_time": "2023-03-09T13:53:01.564Z"
   },
   {
    "duration": 118,
    "start_time": "2023-03-09T13:53:01.578Z"
   },
   {
    "duration": 372,
    "start_time": "2023-03-09T13:53:01.699Z"
   },
   {
    "duration": 72,
    "start_time": "2023-03-09T13:53:02.073Z"
   },
   {
    "duration": 342,
    "start_time": "2023-03-09T13:53:02.153Z"
   },
   {
    "duration": 311,
    "start_time": "2023-03-09T13:53:02.497Z"
   },
   {
    "duration": 94,
    "start_time": "2023-03-09T13:53:02.811Z"
   },
   {
    "duration": 67,
    "start_time": "2023-03-09T13:53:02.907Z"
   },
   {
    "duration": 138,
    "start_time": "2023-03-09T13:53:02.978Z"
   },
   {
    "duration": 38,
    "start_time": "2023-03-09T13:53:03.118Z"
   },
   {
    "duration": 50,
    "start_time": "2023-03-09T13:53:03.157Z"
   },
   {
    "duration": 3161,
    "start_time": "2023-03-09T13:53:03.209Z"
   },
   {
    "duration": 3407,
    "start_time": "2023-03-09T13:53:06.372Z"
   },
   {
    "duration": 48,
    "start_time": "2023-03-09T13:53:09.780Z"
   },
   {
    "duration": 51,
    "start_time": "2023-03-09T13:53:09.840Z"
   },
   {
    "duration": 71,
    "start_time": "2023-03-09T13:53:09.893Z"
   },
   {
    "duration": 317,
    "start_time": "2023-03-09T13:53:09.966Z"
   },
   {
    "duration": 329,
    "start_time": "2023-03-09T13:53:10.285Z"
   },
   {
    "duration": 342,
    "start_time": "2023-03-09T13:53:10.616Z"
   },
   {
    "duration": 441,
    "start_time": "2023-03-09T13:53:10.960Z"
   },
   {
    "duration": 50,
    "start_time": "2023-03-09T13:53:11.404Z"
   },
   {
    "duration": 59,
    "start_time": "2023-03-09T13:53:24.657Z"
   },
   {
    "duration": 3,
    "start_time": "2023-03-09T13:53:27.559Z"
   },
   {
    "duration": 303,
    "start_time": "2023-03-09T13:53:28.687Z"
   },
   {
    "duration": 118,
    "start_time": "2023-03-09T13:53:30.303Z"
   },
   {
    "duration": 2031,
    "start_time": "2023-03-09T13:53:32.496Z"
   },
   {
    "duration": 5,
    "start_time": "2023-03-09T13:53:34.852Z"
   },
   {
    "duration": 190,
    "start_time": "2023-03-09T13:53:40.594Z"
   },
   {
    "duration": 85,
    "start_time": "2023-03-09T13:54:21.874Z"
   },
   {
    "duration": 63,
    "start_time": "2023-03-09T13:54:34.673Z"
   },
   {
    "duration": 62498,
    "start_time": "2023-03-09T13:55:23.856Z"
   },
   {
    "duration": 56,
    "start_time": "2023-03-09T13:56:32.070Z"
   },
   {
    "duration": 67,
    "start_time": "2023-03-09T13:56:40.124Z"
   },
   {
    "duration": 59,
    "start_time": "2023-03-09T13:57:56.095Z"
   },
   {
    "duration": 1337,
    "start_time": "2023-03-09T13:59:05.917Z"
   },
   {
    "duration": 869,
    "start_time": "2023-03-09T13:59:07.259Z"
   },
   {
    "duration": 122,
    "start_time": "2023-03-09T13:59:08.129Z"
   },
   {
    "duration": 303,
    "start_time": "2023-03-09T13:59:08.253Z"
   },
   {
    "duration": 100,
    "start_time": "2023-03-09T13:59:08.558Z"
   },
   {
    "duration": 9,
    "start_time": "2023-03-09T13:59:08.660Z"
   },
   {
    "duration": 355,
    "start_time": "2023-03-09T13:59:08.671Z"
   },
   {
    "duration": 26,
    "start_time": "2023-03-09T13:59:09.027Z"
   },
   {
    "duration": 78,
    "start_time": "2023-03-09T13:59:09.056Z"
   },
   {
    "duration": 353,
    "start_time": "2023-03-09T13:59:09.141Z"
   },
   {
    "duration": 67,
    "start_time": "2023-03-09T13:59:09.495Z"
   },
   {
    "duration": 317,
    "start_time": "2023-03-09T13:59:09.564Z"
   },
   {
    "duration": 245,
    "start_time": "2023-03-09T13:59:09.882Z"
   },
   {
    "duration": 70,
    "start_time": "2023-03-09T13:59:10.128Z"
   },
   {
    "duration": 49,
    "start_time": "2023-03-09T13:59:10.200Z"
   },
   {
    "duration": 110,
    "start_time": "2023-03-09T13:59:10.251Z"
   },
   {
    "duration": 26,
    "start_time": "2023-03-09T13:59:10.362Z"
   },
   {
    "duration": 69,
    "start_time": "2023-03-09T13:59:10.389Z"
   },
   {
    "duration": 2965,
    "start_time": "2023-03-09T13:59:10.460Z"
   },
   {
    "duration": 3255,
    "start_time": "2023-03-09T13:59:13.427Z"
   },
   {
    "duration": 46,
    "start_time": "2023-03-09T13:59:16.683Z"
   },
   {
    "duration": 49,
    "start_time": "2023-03-09T13:59:16.742Z"
   },
   {
    "duration": 60,
    "start_time": "2023-03-09T13:59:16.792Z"
   },
   {
    "duration": 308,
    "start_time": "2023-03-09T13:59:16.853Z"
   },
   {
    "duration": 341,
    "start_time": "2023-03-09T13:59:17.163Z"
   },
   {
    "duration": 328,
    "start_time": "2023-03-09T13:59:17.506Z"
   },
   {
    "duration": 423,
    "start_time": "2023-03-09T13:59:17.835Z"
   },
   {
    "duration": 44,
    "start_time": "2023-03-09T13:59:18.261Z"
   },
   {
    "duration": 73,
    "start_time": "2023-03-09T13:59:18.307Z"
   },
   {
    "duration": 2,
    "start_time": "2023-03-09T13:59:18.382Z"
   },
   {
    "duration": 276,
    "start_time": "2023-03-09T13:59:18.385Z"
   },
   {
    "duration": 110,
    "start_time": "2023-03-09T13:59:18.663Z"
   },
   {
    "duration": 1748,
    "start_time": "2023-03-09T13:59:18.775Z"
   },
   {
    "duration": 3,
    "start_time": "2023-03-09T13:59:20.524Z"
   },
   {
    "duration": 27432,
    "start_time": "2023-03-09T13:59:20.528Z"
   },
   {
    "duration": 65388,
    "start_time": "2023-03-09T13:59:47.962Z"
   },
   {
    "duration": 5,
    "start_time": "2023-03-09T14:00:53.354Z"
   },
   {
    "duration": 25246,
    "start_time": "2023-03-09T14:00:53.360Z"
   },
   {
    "duration": 73,
    "start_time": "2023-03-09T14:01:18.607Z"
   },
   {
    "duration": 99,
    "start_time": "2023-03-09T15:27:13.207Z"
   },
   {
    "duration": 1341,
    "start_time": "2023-03-09T15:27:41.130Z"
   },
   {
    "duration": 955,
    "start_time": "2023-03-09T15:27:42.473Z"
   },
   {
    "duration": 121,
    "start_time": "2023-03-09T15:27:43.430Z"
   },
   {
    "duration": 308,
    "start_time": "2023-03-09T15:27:43.557Z"
   },
   {
    "duration": 110,
    "start_time": "2023-03-09T15:27:43.867Z"
   },
   {
    "duration": 10,
    "start_time": "2023-03-09T15:27:43.978Z"
   },
   {
    "duration": 377,
    "start_time": "2023-03-09T15:27:43.989Z"
   },
   {
    "duration": 14,
    "start_time": "2023-03-09T15:27:44.369Z"
   },
   {
    "duration": 99,
    "start_time": "2023-03-09T15:27:44.384Z"
   },
   {
    "duration": 380,
    "start_time": "2023-03-09T15:27:44.485Z"
   },
   {
    "duration": 83,
    "start_time": "2023-03-09T15:27:44.867Z"
   },
   {
    "duration": 349,
    "start_time": "2023-03-09T15:27:44.952Z"
   },
   {
    "duration": 270,
    "start_time": "2023-03-09T15:27:45.303Z"
   },
   {
    "duration": 83,
    "start_time": "2023-03-09T15:27:45.574Z"
   },
   {
    "duration": 35,
    "start_time": "2023-03-09T15:27:45.659Z"
   },
   {
    "duration": 124,
    "start_time": "2023-03-09T15:27:45.695Z"
   },
   {
    "duration": 43,
    "start_time": "2023-03-09T15:27:45.824Z"
   },
   {
    "duration": 82,
    "start_time": "2023-03-09T15:27:45.869Z"
   },
   {
    "duration": 3028,
    "start_time": "2023-03-09T15:27:45.956Z"
   },
   {
    "duration": 3215,
    "start_time": "2023-03-09T15:27:48.986Z"
   },
   {
    "duration": 60,
    "start_time": "2023-03-09T15:27:52.203Z"
   },
   {
    "duration": 45,
    "start_time": "2023-03-09T15:27:52.265Z"
   },
   {
    "duration": 69,
    "start_time": "2023-03-09T15:27:52.312Z"
   },
   {
    "duration": 366,
    "start_time": "2023-03-09T15:27:52.383Z"
   },
   {
    "duration": 345,
    "start_time": "2023-03-09T15:27:52.751Z"
   },
   {
    "duration": 329,
    "start_time": "2023-03-09T15:27:53.097Z"
   },
   {
    "duration": 429,
    "start_time": "2023-03-09T15:27:53.428Z"
   },
   {
    "duration": 45,
    "start_time": "2023-03-09T15:27:53.860Z"
   },
   {
    "duration": 73,
    "start_time": "2023-03-09T15:27:56.228Z"
   },
   {
    "duration": 3,
    "start_time": "2023-03-09T15:27:58.367Z"
   },
   {
    "duration": 285,
    "start_time": "2023-03-09T15:27:59.974Z"
   },
   {
    "duration": 99,
    "start_time": "2023-03-09T15:28:01.971Z"
   },
   {
    "duration": 1753,
    "start_time": "2023-03-09T15:28:03.584Z"
   },
   {
    "duration": 3,
    "start_time": "2023-03-09T15:28:56.815Z"
   },
   {
    "duration": 29085,
    "start_time": "2023-03-09T15:28:59.073Z"
   },
   {
    "duration": 65,
    "start_time": "2023-03-09T15:30:01.291Z"
   },
   {
    "duration": 30867,
    "start_time": "2023-03-09T15:30:25.980Z"
   },
   {
    "duration": 4,
    "start_time": "2023-03-09T15:33:10.464Z"
   },
   {
    "duration": 61,
    "start_time": "2023-03-09T15:33:12.151Z"
   },
   {
    "duration": 5,
    "start_time": "2023-03-09T15:33:39.111Z"
   },
   {
    "duration": 47,
    "start_time": "2023-03-09T15:33:56.814Z"
   },
   {
    "duration": 23,
    "start_time": "2023-03-09T15:34:05.763Z"
   },
   {
    "duration": 5,
    "start_time": "2023-03-09T15:35:00.098Z"
   },
   {
    "duration": 25227,
    "start_time": "2023-03-09T15:35:11.560Z"
   },
   {
    "duration": 65,
    "start_time": "2023-03-09T15:35:40.813Z"
   },
   {
    "duration": 42,
    "start_time": "2023-03-09T15:35:43.486Z"
   },
   {
    "duration": 39,
    "start_time": "2023-03-09T15:35:57.320Z"
   },
   {
    "duration": 48,
    "start_time": "2023-03-09T15:36:03.513Z"
   },
   {
    "duration": 41,
    "start_time": "2023-03-09T15:36:32.895Z"
   },
   {
    "duration": 53,
    "start_time": "2023-03-09T15:36:44.604Z"
   },
   {
    "duration": 50,
    "start_time": "2023-03-09T15:37:01.404Z"
   },
   {
    "duration": 2074,
    "start_time": "2023-03-09T15:37:21.464Z"
   },
   {
    "duration": 35,
    "start_time": "2023-03-09T15:38:20.057Z"
   },
   {
    "duration": 130694,
    "start_time": "2023-03-09T15:38:34.391Z"
   },
   {
    "duration": 130,
    "start_time": "2023-03-09T15:40:45.087Z"
   },
   {
    "duration": 2130,
    "start_time": "2023-03-09T15:40:45.218Z"
   },
   {
    "duration": 465,
    "start_time": "2023-03-09T15:41:54.972Z"
   },
   {
    "duration": 202,
    "start_time": "2023-03-09T15:42:58.964Z"
   },
   {
    "duration": 69588,
    "start_time": "2023-03-09T15:43:14.314Z"
   },
   {
    "duration": 9,
    "start_time": "2023-03-09T15:45:05.779Z"
   },
   {
    "duration": 12,
    "start_time": "2023-03-09T15:45:22.936Z"
   },
   {
    "duration": 11,
    "start_time": "2023-03-09T15:50:15.562Z"
   },
   {
    "duration": 15,
    "start_time": "2023-03-09T15:50:36.572Z"
   },
   {
    "duration": 62654,
    "start_time": "2023-03-09T15:50:49.294Z"
   },
   {
    "duration": 14,
    "start_time": "2023-03-09T15:52:20.216Z"
   },
   {
    "duration": 3,
    "start_time": "2023-03-09T15:54:40.128Z"
   },
   {
    "duration": 16,
    "start_time": "2023-03-09T15:55:09.152Z"
   },
   {
    "duration": 1323,
    "start_time": "2023-03-09T16:01:55.555Z"
   },
   {
    "duration": 896,
    "start_time": "2023-03-09T16:01:56.880Z"
   },
   {
    "duration": 114,
    "start_time": "2023-03-09T16:01:57.777Z"
   },
   {
    "duration": 365,
    "start_time": "2023-03-09T16:01:57.893Z"
   },
   {
    "duration": 113,
    "start_time": "2023-03-09T16:01:58.260Z"
   },
   {
    "duration": 9,
    "start_time": "2023-03-09T16:01:58.374Z"
   },
   {
    "duration": 393,
    "start_time": "2023-03-09T16:01:58.385Z"
   },
   {
    "duration": 12,
    "start_time": "2023-03-09T16:01:58.779Z"
   },
   {
    "duration": 100,
    "start_time": "2023-03-09T16:01:58.793Z"
   },
   {
    "duration": 363,
    "start_time": "2023-03-09T16:01:58.895Z"
   },
   {
    "duration": 66,
    "start_time": "2023-03-09T16:01:59.262Z"
   },
   {
    "duration": 327,
    "start_time": "2023-03-09T16:01:59.330Z"
   },
   {
    "duration": 239,
    "start_time": "2023-03-09T16:01:59.658Z"
   },
   {
    "duration": 72,
    "start_time": "2023-03-09T16:01:59.900Z"
   },
   {
    "duration": 27,
    "start_time": "2023-03-09T16:01:59.974Z"
   },
   {
    "duration": 109,
    "start_time": "2023-03-09T16:02:00.002Z"
   },
   {
    "duration": 47,
    "start_time": "2023-03-09T16:02:00.113Z"
   },
   {
    "duration": 56,
    "start_time": "2023-03-09T16:02:00.161Z"
   },
   {
    "duration": 3058,
    "start_time": "2023-03-09T16:02:00.218Z"
   },
   {
    "duration": 3185,
    "start_time": "2023-03-09T16:02:03.277Z"
   },
   {
    "duration": 47,
    "start_time": "2023-03-09T16:02:06.464Z"
   },
   {
    "duration": 84,
    "start_time": "2023-03-09T16:02:06.513Z"
   },
   {
    "duration": 69,
    "start_time": "2023-03-09T16:02:06.599Z"
   },
   {
    "duration": 321,
    "start_time": "2023-03-09T16:02:06.670Z"
   },
   {
    "duration": 330,
    "start_time": "2023-03-09T16:02:06.993Z"
   },
   {
    "duration": 345,
    "start_time": "2023-03-09T16:02:07.325Z"
   },
   {
    "duration": 455,
    "start_time": "2023-03-09T16:02:07.672Z"
   },
   {
    "duration": 56,
    "start_time": "2023-03-09T16:02:08.129Z"
   },
   {
    "duration": 67,
    "start_time": "2023-03-09T16:02:29.707Z"
   },
   {
    "duration": 2,
    "start_time": "2023-03-09T16:02:32.083Z"
   },
   {
    "duration": 331,
    "start_time": "2023-03-09T16:02:32.754Z"
   },
   {
    "duration": 118,
    "start_time": "2023-03-09T16:02:34.463Z"
   },
   {
    "duration": 2204,
    "start_time": "2023-03-09T16:02:36.055Z"
   },
   {
    "duration": 2,
    "start_time": "2023-03-09T16:02:40.687Z"
   },
   {
    "duration": 1211,
    "start_time": "2023-03-09T16:04:00.883Z"
   },
   {
    "duration": 1191,
    "start_time": "2023-03-09T16:04:31.199Z"
   },
   {
    "duration": 1171,
    "start_time": "2023-03-09T16:06:47.236Z"
   },
   {
    "duration": 1170,
    "start_time": "2023-03-09T16:07:31.620Z"
   },
   {
    "duration": 1220,
    "start_time": "2023-03-09T16:10:52.988Z"
   },
   {
    "duration": 1076,
    "start_time": "2023-03-09T16:14:40.099Z"
   },
   {
    "duration": 56,
    "start_time": "2023-03-09T16:15:35.249Z"
   },
   {
    "duration": 58329,
    "start_time": "2023-03-09T16:18:00.394Z"
   },
   {
    "duration": 64,
    "start_time": "2023-03-09T16:18:58.728Z"
   },
   {
    "duration": 69,
    "start_time": "2023-03-09T16:19:15.223Z"
   },
   {
    "duration": 58511,
    "start_time": "2023-03-09T16:19:32.803Z"
   },
   {
    "duration": 1607,
    "start_time": "2023-03-09T18:42:50.958Z"
   },
   {
    "duration": 1159,
    "start_time": "2023-03-09T18:42:52.567Z"
   },
   {
    "duration": 163,
    "start_time": "2023-03-09T18:42:53.728Z"
   },
   {
    "duration": 293,
    "start_time": "2023-03-09T18:42:53.893Z"
   },
   {
    "duration": 106,
    "start_time": "2023-03-09T18:42:54.187Z"
   },
   {
    "duration": 11,
    "start_time": "2023-03-09T18:42:54.295Z"
   },
   {
    "duration": 385,
    "start_time": "2023-03-09T18:42:54.307Z"
   },
   {
    "duration": 14,
    "start_time": "2023-03-09T18:42:54.693Z"
   },
   {
    "duration": 108,
    "start_time": "2023-03-09T18:42:54.709Z"
   },
   {
    "duration": 345,
    "start_time": "2023-03-09T18:42:54.821Z"
   },
   {
    "duration": 67,
    "start_time": "2023-03-09T18:42:55.168Z"
   },
   {
    "duration": 310,
    "start_time": "2023-03-09T18:42:55.236Z"
   },
   {
    "duration": 223,
    "start_time": "2023-03-09T18:42:55.547Z"
   },
   {
    "duration": 74,
    "start_time": "2023-03-09T18:42:55.772Z"
   },
   {
    "duration": 41,
    "start_time": "2023-03-09T18:42:55.847Z"
   },
   {
    "duration": 105,
    "start_time": "2023-03-09T18:42:55.890Z"
   },
   {
    "duration": 31,
    "start_time": "2023-03-09T18:42:55.996Z"
   },
   {
    "duration": 92,
    "start_time": "2023-03-09T18:42:56.029Z"
   },
   {
    "duration": 2665,
    "start_time": "2023-03-09T18:42:56.122Z"
   },
   {
    "duration": 2921,
    "start_time": "2023-03-09T18:42:58.788Z"
   },
   {
    "duration": 47,
    "start_time": "2023-03-09T18:43:01.710Z"
   },
   {
    "duration": 97,
    "start_time": "2023-03-09T18:43:01.759Z"
   },
   {
    "duration": 102,
    "start_time": "2023-03-09T18:43:01.858Z"
   },
   {
    "duration": 266,
    "start_time": "2023-03-09T18:43:01.962Z"
   },
   {
    "duration": 309,
    "start_time": "2023-03-09T18:43:02.230Z"
   },
   {
    "duration": 297,
    "start_time": "2023-03-09T18:43:02.541Z"
   },
   {
    "duration": 367,
    "start_time": "2023-03-09T18:43:02.840Z"
   },
   {
    "duration": 50,
    "start_time": "2023-03-09T18:43:03.208Z"
   },
   {
    "duration": 53,
    "start_time": "2023-03-09T18:43:07.198Z"
   },
   {
    "duration": 3,
    "start_time": "2023-03-09T18:43:09.086Z"
   },
   {
    "duration": 286,
    "start_time": "2023-03-09T18:43:10.643Z"
   },
   {
    "duration": 95,
    "start_time": "2023-03-09T18:43:12.966Z"
   },
   {
    "duration": 1301,
    "start_time": "2023-03-09T18:43:14.881Z"
   },
   {
    "duration": 3,
    "start_time": "2023-03-09T18:43:17.031Z"
   },
   {
    "duration": 16236,
    "start_time": "2023-03-09T18:43:18.550Z"
   },
   {
    "duration": 185729,
    "start_time": "2023-03-09T18:43:40.764Z"
   },
   {
    "duration": 100,
    "start_time": "2023-03-09T18:46:46.497Z"
   },
   {
    "duration": 21818,
    "start_time": "2023-03-09T18:48:52.419Z"
   },
   {
    "duration": 575573,
    "start_time": "2023-03-09T18:49:41.216Z"
   },
   {
    "duration": 128,
    "start_time": "2023-03-09T18:59:38.204Z"
   },
   {
    "duration": 318,
    "start_time": "2023-03-09T18:59:52.163Z"
   },
   {
    "duration": 12,
    "start_time": "2023-03-09T19:00:00.973Z"
   },
   {
    "duration": 20945,
    "start_time": "2023-03-09T19:01:35.835Z"
   },
   {
    "duration": 64660,
    "start_time": "2023-03-09T19:02:00.720Z"
   },
   {
    "duration": 114,
    "start_time": "2023-03-09T19:12:12.923Z"
   },
   {
    "duration": 1323,
    "start_time": "2023-03-09T19:12:32.260Z"
   },
   {
    "duration": 874,
    "start_time": "2023-03-09T19:12:33.585Z"
   },
   {
    "duration": 109,
    "start_time": "2023-03-09T19:12:34.461Z"
   },
   {
    "duration": 284,
    "start_time": "2023-03-09T19:12:34.571Z"
   },
   {
    "duration": 104,
    "start_time": "2023-03-09T19:12:34.858Z"
   },
   {
    "duration": 16,
    "start_time": "2023-03-09T19:12:34.964Z"
   },
   {
    "duration": 339,
    "start_time": "2023-03-09T19:12:34.982Z"
   },
   {
    "duration": 12,
    "start_time": "2023-03-09T19:12:35.323Z"
   },
   {
    "duration": 94,
    "start_time": "2023-03-09T19:12:35.336Z"
   },
   {
    "duration": 318,
    "start_time": "2023-03-09T19:12:35.431Z"
   },
   {
    "duration": 62,
    "start_time": "2023-03-09T19:12:35.750Z"
   },
   {
    "duration": 336,
    "start_time": "2023-03-09T19:12:35.813Z"
   },
   {
    "duration": 219,
    "start_time": "2023-03-09T19:12:36.151Z"
   },
   {
    "duration": 67,
    "start_time": "2023-03-09T19:12:36.372Z"
   },
   {
    "duration": 41,
    "start_time": "2023-03-09T19:12:36.440Z"
   },
   {
    "duration": 97,
    "start_time": "2023-03-09T19:12:36.483Z"
   },
   {
    "duration": 22,
    "start_time": "2023-03-09T19:12:36.582Z"
   },
   {
    "duration": 53,
    "start_time": "2023-03-09T19:12:36.605Z"
   },
   {
    "duration": 2606,
    "start_time": "2023-03-09T19:12:36.659Z"
   },
   {
    "duration": 2940,
    "start_time": "2023-03-09T19:12:39.267Z"
   },
   {
    "duration": 49,
    "start_time": "2023-03-09T19:12:42.209Z"
   },
   {
    "duration": 54,
    "start_time": "2023-03-09T19:12:42.259Z"
   },
   {
    "duration": 49,
    "start_time": "2023-03-09T19:12:42.314Z"
   },
   {
    "duration": 276,
    "start_time": "2023-03-09T19:12:42.364Z"
   },
   {
    "duration": 293,
    "start_time": "2023-03-09T19:12:42.642Z"
   },
   {
    "duration": 297,
    "start_time": "2023-03-09T19:12:42.937Z"
   },
   {
    "duration": 361,
    "start_time": "2023-03-09T19:12:43.236Z"
   },
   {
    "duration": 45,
    "start_time": "2023-03-09T19:12:43.601Z"
   },
   {
    "duration": 74,
    "start_time": "2023-03-09T19:12:43.648Z"
   },
   {
    "duration": 4,
    "start_time": "2023-03-09T19:12:43.723Z"
   },
   {
    "duration": 280,
    "start_time": "2023-03-09T19:12:43.728Z"
   },
   {
    "duration": 105,
    "start_time": "2023-03-09T19:12:44.010Z"
   },
   {
    "duration": 1242,
    "start_time": "2023-03-09T19:12:44.117Z"
   },
   {
    "duration": 4,
    "start_time": "2023-03-09T19:13:18.585Z"
   },
   {
    "duration": 421464,
    "start_time": "2023-03-09T19:13:29.102Z"
   },
   {
    "duration": 1452,
    "start_time": "2023-03-09T19:26:38.188Z"
   },
   {
    "duration": 899,
    "start_time": "2023-03-09T19:26:39.642Z"
   },
   {
    "duration": 119,
    "start_time": "2023-03-09T19:26:40.542Z"
   },
   {
    "duration": 363,
    "start_time": "2023-03-09T19:26:40.663Z"
   },
   {
    "duration": 135,
    "start_time": "2023-03-09T19:26:41.028Z"
   },
   {
    "duration": 31,
    "start_time": "2023-03-09T19:26:41.166Z"
   },
   {
    "duration": 394,
    "start_time": "2023-03-09T19:26:41.206Z"
   },
   {
    "duration": 12,
    "start_time": "2023-03-09T19:26:41.602Z"
   },
   {
    "duration": 111,
    "start_time": "2023-03-09T19:26:41.616Z"
   },
   {
    "duration": 482,
    "start_time": "2023-03-09T19:26:41.729Z"
   },
   {
    "duration": 84,
    "start_time": "2023-03-09T19:26:42.213Z"
   },
   {
    "duration": 406,
    "start_time": "2023-03-09T19:26:42.299Z"
   },
   {
    "duration": 250,
    "start_time": "2023-03-09T19:26:42.707Z"
   },
   {
    "duration": 135,
    "start_time": "2023-03-09T19:26:42.959Z"
   },
   {
    "duration": 68,
    "start_time": "2023-03-09T19:26:43.096Z"
   },
   {
    "duration": 143,
    "start_time": "2023-03-09T19:26:43.166Z"
   },
   {
    "duration": 43,
    "start_time": "2023-03-09T19:26:43.311Z"
   },
   {
    "duration": 74,
    "start_time": "2023-03-09T19:26:43.356Z"
   },
   {
    "duration": 3074,
    "start_time": "2023-03-09T19:26:43.433Z"
   },
   {
    "duration": 3182,
    "start_time": "2023-03-09T19:26:46.509Z"
   },
   {
    "duration": 49,
    "start_time": "2023-03-09T19:26:49.692Z"
   },
   {
    "duration": 58,
    "start_time": "2023-03-09T19:26:49.743Z"
   },
   {
    "duration": 89,
    "start_time": "2023-03-09T19:26:49.804Z"
   },
   {
    "duration": 268,
    "start_time": "2023-03-09T19:26:49.897Z"
   },
   {
    "duration": 310,
    "start_time": "2023-03-09T19:26:50.166Z"
   },
   {
    "duration": 319,
    "start_time": "2023-03-09T19:26:50.479Z"
   },
   {
    "duration": 410,
    "start_time": "2023-03-09T19:26:50.799Z"
   },
   {
    "duration": 88,
    "start_time": "2023-03-09T19:26:51.217Z"
   },
   {
    "duration": 59,
    "start_time": "2023-03-09T19:26:51.307Z"
   },
   {
    "duration": 30,
    "start_time": "2023-03-09T19:26:51.368Z"
   },
   {
    "duration": 345,
    "start_time": "2023-03-09T19:26:51.400Z"
   },
   {
    "duration": 120,
    "start_time": "2023-03-09T19:26:51.747Z"
   },
   {
    "duration": 1790,
    "start_time": "2023-03-09T19:26:51.869Z"
   },
   {
    "duration": 3,
    "start_time": "2023-03-09T19:27:17.060Z"
   },
   {
    "duration": 131480,
    "start_time": "2023-03-09T19:27:29.525Z"
   },
   {
    "duration": 141,
    "start_time": "2023-03-09T19:30:38.499Z"
   },
   {
    "duration": 70777,
    "start_time": "2023-03-09T19:30:41.944Z"
   },
   {
    "duration": 12,
    "start_time": "2023-03-09T19:33:06.425Z"
   },
   {
    "duration": 26312,
    "start_time": "2023-03-09T19:34:28.178Z"
   },
   {
    "duration": 27620,
    "start_time": "2023-03-09T19:36:11.680Z"
   },
   {
    "duration": 15,
    "start_time": "2023-03-09T19:37:01.425Z"
   },
   {
    "duration": 35575,
    "start_time": "2023-03-09T19:37:07.614Z"
   },
   {
    "duration": 81411,
    "start_time": "2023-03-09T19:37:51.191Z"
   },
   {
    "duration": 11,
    "start_time": "2023-03-09T19:39:47.994Z"
   },
   {
    "duration": 5,
    "start_time": "2023-03-09T19:40:00.523Z"
   },
   {
    "duration": 27943,
    "start_time": "2023-03-09T19:40:03.623Z"
   },
   {
    "duration": 72,
    "start_time": "2023-03-09T19:40:40.998Z"
   },
   {
    "duration": 2217,
    "start_time": "2023-03-09T19:40:43.655Z"
   },
   {
    "duration": 12,
    "start_time": "2023-03-09T19:41:00.296Z"
   },
   {
    "duration": 1458398,
    "start_time": "2023-03-09T19:41:34.735Z"
   },
   {
    "duration": 68,
    "start_time": "2023-03-09T20:05:53.135Z"
   },
   {
    "duration": 0,
    "start_time": "2023-03-09T20:05:53.209Z"
   },
   {
    "duration": 1752,
    "start_time": "2023-03-11T18:04:46.993Z"
   },
   {
    "duration": 3454,
    "start_time": "2023-03-11T18:04:48.747Z"
   },
   {
    "duration": 130,
    "start_time": "2023-03-11T18:04:52.203Z"
   },
   {
    "duration": 429,
    "start_time": "2023-03-11T18:04:52.335Z"
   },
   {
    "duration": 123,
    "start_time": "2023-03-11T18:04:52.766Z"
   },
   {
    "duration": 11,
    "start_time": "2023-03-11T18:04:52.891Z"
   },
   {
    "duration": 421,
    "start_time": "2023-03-11T18:04:52.904Z"
   },
   {
    "duration": 19,
    "start_time": "2023-03-11T18:04:53.328Z"
   },
   {
    "duration": 110,
    "start_time": "2023-03-11T18:04:53.349Z"
   },
   {
    "duration": 413,
    "start_time": "2023-03-11T18:04:53.462Z"
   },
   {
    "duration": 79,
    "start_time": "2023-03-11T18:04:53.877Z"
   },
   {
    "duration": 371,
    "start_time": "2023-03-11T18:04:53.957Z"
   },
   {
    "duration": 274,
    "start_time": "2023-03-11T18:04:54.330Z"
   },
   {
    "duration": 118,
    "start_time": "2023-03-11T18:04:54.606Z"
   },
   {
    "duration": 51,
    "start_time": "2023-03-11T18:04:54.726Z"
   },
   {
    "duration": 122,
    "start_time": "2023-03-11T18:04:54.779Z"
   },
   {
    "duration": 52,
    "start_time": "2023-03-11T18:04:54.902Z"
   },
   {
    "duration": 66,
    "start_time": "2023-03-11T18:04:54.956Z"
   },
   {
    "duration": 3631,
    "start_time": "2023-03-11T18:04:55.025Z"
   },
   {
    "duration": 3938,
    "start_time": "2023-03-11T18:04:58.658Z"
   },
   {
    "duration": 65,
    "start_time": "2023-03-11T18:05:02.598Z"
   },
   {
    "duration": 72,
    "start_time": "2023-03-11T18:05:02.665Z"
   },
   {
    "duration": 61,
    "start_time": "2023-03-11T18:05:02.740Z"
   },
   {
    "duration": 371,
    "start_time": "2023-03-11T18:05:02.802Z"
   },
   {
    "duration": 407,
    "start_time": "2023-03-11T18:05:03.175Z"
   },
   {
    "duration": 417,
    "start_time": "2023-03-11T18:05:03.585Z"
   },
   {
    "duration": 563,
    "start_time": "2023-03-11T18:05:04.004Z"
   },
   {
    "duration": 68,
    "start_time": "2023-03-11T18:05:04.571Z"
   },
   {
    "duration": 96,
    "start_time": "2023-03-11T18:05:04.642Z"
   },
   {
    "duration": 3,
    "start_time": "2023-03-11T18:05:04.740Z"
   },
   {
    "duration": 324,
    "start_time": "2023-03-11T18:05:11.341Z"
   },
   {
    "duration": 146,
    "start_time": "2023-03-11T18:05:48.276Z"
   },
   {
    "duration": 22,
    "start_time": "2023-03-11T18:06:32.742Z"
   },
   {
    "duration": 159,
    "start_time": "2023-03-11T18:07:02.213Z"
   },
   {
    "duration": 120,
    "start_time": "2023-03-11T18:07:17.799Z"
   },
   {
    "duration": 103,
    "start_time": "2023-03-11T18:07:31.942Z"
   },
   {
    "duration": 2866,
    "start_time": "2023-03-11T18:07:34.822Z"
   },
   {
    "duration": 4,
    "start_time": "2023-03-11T18:08:08.738Z"
   },
   {
    "duration": 12,
    "start_time": "2023-03-11T18:24:23.503Z"
   },
   {
    "duration": 11,
    "start_time": "2023-03-11T18:24:26.730Z"
   },
   {
    "duration": 13,
    "start_time": "2023-03-11T18:24:30.214Z"
   },
   {
    "duration": 5,
    "start_time": "2023-03-11T18:27:24.569Z"
   },
   {
    "duration": 1109,
    "start_time": "2023-03-11T18:27:24.580Z"
   },
   {
    "duration": 197,
    "start_time": "2023-03-11T18:27:25.692Z"
   },
   {
    "duration": 421,
    "start_time": "2023-03-11T18:27:25.892Z"
   },
   {
    "duration": 159,
    "start_time": "2023-03-11T18:27:26.316Z"
   },
   {
    "duration": 12,
    "start_time": "2023-03-11T18:27:26.478Z"
   },
   {
    "duration": 414,
    "start_time": "2023-03-11T18:27:26.493Z"
   },
   {
    "duration": 23,
    "start_time": "2023-03-11T18:27:26.908Z"
   },
   {
    "duration": 101,
    "start_time": "2023-03-11T18:27:26.933Z"
   },
   {
    "duration": 322,
    "start_time": "2023-03-11T18:27:27.036Z"
   },
   {
    "duration": 83,
    "start_time": "2023-03-11T18:27:27.363Z"
   },
   {
    "duration": 363,
    "start_time": "2023-03-11T18:27:27.448Z"
   },
   {
    "duration": 334,
    "start_time": "2023-03-11T18:27:27.814Z"
   },
   {
    "duration": 134,
    "start_time": "2023-03-11T18:27:28.150Z"
   },
   {
    "duration": 58,
    "start_time": "2023-03-11T18:27:28.286Z"
   },
   {
    "duration": 158,
    "start_time": "2023-03-11T18:27:28.346Z"
   },
   {
    "duration": 42,
    "start_time": "2023-03-11T18:27:28.506Z"
   },
   {
    "duration": 76,
    "start_time": "2023-03-11T18:27:28.550Z"
   },
   {
    "duration": 3690,
    "start_time": "2023-03-11T18:27:28.629Z"
   },
   {
    "duration": 3718,
    "start_time": "2023-03-11T18:27:32.321Z"
   },
   {
    "duration": 54,
    "start_time": "2023-03-11T18:27:36.041Z"
   },
   {
    "duration": 93,
    "start_time": "2023-03-11T18:27:36.098Z"
   },
   {
    "duration": 80,
    "start_time": "2023-03-11T18:27:36.194Z"
   },
   {
    "duration": 354,
    "start_time": "2023-03-11T18:27:36.276Z"
   },
   {
    "duration": 597,
    "start_time": "2023-03-11T18:27:36.632Z"
   },
   {
    "duration": 380,
    "start_time": "2023-03-11T18:27:37.232Z"
   },
   {
    "duration": 389,
    "start_time": "2023-03-11T18:27:37.621Z"
   },
   {
    "duration": 64,
    "start_time": "2023-03-11T18:27:38.020Z"
   },
   {
    "duration": 84,
    "start_time": "2023-03-11T18:27:38.090Z"
   },
   {
    "duration": 4,
    "start_time": "2023-03-11T18:27:38.177Z"
   },
   {
    "duration": 341,
    "start_time": "2023-03-11T18:27:38.183Z"
   },
   {
    "duration": 109,
    "start_time": "2023-03-11T18:27:38.526Z"
   },
   {
    "duration": 2135,
    "start_time": "2023-03-11T18:27:38.637Z"
   },
   {
    "duration": 4,
    "start_time": "2023-03-11T18:27:40.773Z"
   },
   {
    "duration": 23590,
    "start_time": "2023-03-11T18:27:40.779Z"
   },
   {
    "duration": 47359,
    "start_time": "2023-03-11T18:28:04.371Z"
   },
   {
    "duration": 6,
    "start_time": "2023-03-11T18:28:51.733Z"
   },
   {
    "duration": 29454,
    "start_time": "2023-03-11T18:28:51.741Z"
   },
   {
    "duration": 4,
    "start_time": "2023-03-11T18:29:21.198Z"
   },
   {
    "duration": 2545,
    "start_time": "2023-03-11T18:29:21.204Z"
   }
  ],
  "kernelspec": {
   "display_name": "Python 3 (ipykernel)",
   "language": "python",
   "name": "python3"
  },
  "language_info": {
   "codemirror_mode": {
    "name": "ipython",
    "version": 3
   },
   "file_extension": ".py",
   "mimetype": "text/x-python",
   "name": "python",
   "nbconvert_exporter": "python",
   "pygments_lexer": "ipython3",
   "version": "3.9.13"
  },
  "toc": {
   "base_numbering": 1,
   "nav_menu": {},
   "number_sections": true,
   "sideBar": true,
   "skip_h1_title": true,
   "title_cell": "Table of Contents",
   "title_sidebar": "Contents",
   "toc_cell": false,
   "toc_position": {
    "height": "calc(100% - 180px)",
    "left": "10px",
    "top": "150px",
    "width": "238.556px"
   },
   "toc_section_display": true,
   "toc_window_display": true
  }
 },
 "nbformat": 4,
 "nbformat_minor": 2
}
